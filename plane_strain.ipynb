{
 "cells": [
  {
   "cell_type": "code",
   "execution_count": 27,
   "metadata": {},
   "outputs": [],
   "source": [
    "import sympy as sp\n",
    "\n",
    "x, y = sp.var(\"x,y\", real=True)\n",
    "X = x + sp.I * y\n",
    "x0, y0 = sp.var(\"x0,y0\", real=True)\n",
    "X0 = x0 + sp.I * y0\n",
    "xc, yc = sp.var(\"xc,yx\", real=True)\n",
    "XC = xc + sp.I * yc\n",
    "dx = x - x0\n",
    "dy = y - y0\n",
    "r2 = dx * dx + dy * dy\n"
   ]
  },
  {
   "cell_type": "code",
   "execution_count": 28,
   "metadata": {},
   "outputs": [
    {
     "data": {
      "text/latex": [
       "$\\displaystyle \\frac{\\left(x - x_{0}\\right)^{2}}{\\left(x - x_{0}\\right)^{2} + \\left(- y + y_{0}\\right)^{2}} - \\frac{\\left(y - y_{0}\\right)^{2}}{\\left(x - x_{0}\\right)^{2} + \\left(- y + y_{0}\\right)^{2}}$"
      ],
      "text/plain": [
       "(x - x0)**2/((x - x0)**2 + (-y + y0)**2) - (y - y0)**2/((x - x0)**2 + (-y + y0)**2)"
      ]
     },
     "execution_count": 28,
     "metadata": {},
     "output_type": "execute_result"
    }
   ],
   "source": [
    "sp.re((X - X0) / sp.conjugate(X - X0))\n"
   ]
  },
  {
   "cell_type": "code",
   "execution_count": 29,
   "metadata": {},
   "outputs": [
    {
     "data": {
      "text/latex": [
       "$\\displaystyle \\frac{\\left(x - x_{0}\\right)^{2}}{\\left(x - x_{0}\\right)^{2} + \\left(y - y_{0}\\right)^{2}}$"
      ],
      "text/plain": [
       "(x - x0)**2/((x - x0)**2 + (y - y0)**2)"
      ]
     },
     "execution_count": 29,
     "metadata": {},
     "output_type": "execute_result"
    }
   ],
   "source": [
    "f = (1 / (X - X0))\n",
    "f = sp.re(X - X0) / (X - X0)\n",
    "sp.re(f)"
   ]
  },
  {
   "cell_type": "code",
   "execution_count": 30,
   "metadata": {},
   "outputs": [
    {
     "data": {
      "text/latex": [
       "$\\displaystyle \\frac{\\left(x - x_{0}\\right) \\left(- y + y_{0}\\right)}{\\left(x - x_{0}\\right)^{2} + \\left(y - y_{0}\\right)^{2}}$"
      ],
      "text/plain": [
       "(x - x0)*(-y + y0)/((x - x0)**2 + (y - y0)**2)"
      ]
     },
     "execution_count": 30,
     "metadata": {},
     "output_type": "execute_result"
    }
   ],
   "source": [
    "sp.im(f)"
   ]
  },
  {
   "cell_type": "code",
   "execution_count": 35,
   "metadata": {},
   "outputs": [
    {
     "data": {
      "text/latex": [
       "$\\displaystyle 2 \\log{\\left(\\sqrt{x^{2} - 2 x x_{0} + x_{0}^{2} + y^{2} - 2 y y_{0} + y_{0}^{2}} \\right)}$"
      ],
      "text/plain": [
       "2*log(sqrt(x**2 - 2*x*x0 + x0**2 + y**2 - 2*y*y0 + y0**2))"
      ]
     },
     "execution_count": 35,
     "metadata": {},
     "output_type": "execute_result"
    }
   ],
   "source": [
    "sp.re(sp.log(X - X0) + sp.conjugate(sp.log(X - X0)))\n"
   ]
  },
  {
   "cell_type": "code",
   "execution_count": 83,
   "metadata": {},
   "outputs": [
    {
     "data": {
      "text/latex": [
       "$\\displaystyle \\frac{\\left(x - x_{0}\\right)^{2}}{\\left(x - x_{0}\\right)^{2} + \\left(y - y_{0}\\right)^{2}}$"
      ],
      "text/plain": [
       "(x - x0)**2/((x - x0)**2 + (y - y0)**2)"
      ]
     },
     "execution_count": 83,
     "metadata": {},
     "output_type": "execute_result"
    }
   ],
   "source": [
    "sp.re((X - X0) / np.conjugate(X - X0) - sp.im(sp.im(X - X0) / (X - X0))).simplify()"
   ]
  },
  {
   "cell_type": "code",
   "execution_count": 109,
   "metadata": {},
   "outputs": [
    {
     "data": {
      "text/latex": [
       "$\\displaystyle \\frac{2 \\left(x - x_{0}\\right) \\left(y - y_{0}\\right)}{\\left(x - x_{0}\\right)^{2} + \\left(y - y_{0}\\right)^{2}}$"
      ],
      "text/plain": [
       "2*(x - x0)*(y - y0)/((x - x0)**2 + (y - y0)**2)"
      ]
     },
     "execution_count": 109,
     "metadata": {},
     "output_type": "execute_result"
    }
   ],
   "source": [
    "sp.im((X - X0) / np.conjugate(X - X0) - sp.im(sp.im(X - X0) / (X - X0))).simplify()"
   ]
  },
  {
   "cell_type": "code",
   "execution_count": 8,
   "metadata": {},
   "outputs": [
    {
     "data": {
      "text/latex": [
       "$\\displaystyle \\log{\\left(x^{2} - 2 x x_{0} + x_{0}^{2} + y^{2} - 2 y y_{0} + y_{0}^{2} \\right)}$"
      ],
      "text/plain": [
       "log(x**2 - 2*x*x0 + x0**2 + y**2 - 2*y*y0 + y0**2)"
      ]
     },
     "execution_count": 8,
     "metadata": {},
     "output_type": "execute_result"
    }
   ],
   "source": [
    "(sp.re(sp.log(X - X0) + sp.conjugate(sp.log(X - X0)))).simplify()\n"
   ]
  },
  {
   "cell_type": "code",
   "execution_count": 9,
   "metadata": {},
   "outputs": [
    {
     "data": {
      "text/latex": [
       "$\\displaystyle \\log{\\left(\\left(x - x_{0}\\right)^{2} + \\left(y - y_{0}\\right)^{2} \\right)}$"
      ],
      "text/plain": [
       "log((x - x0)**2 + (y - y0)**2)"
      ]
     },
     "execution_count": 9,
     "metadata": {},
     "output_type": "execute_result"
    }
   ],
   "source": [
    "sp.log(r2)\n"
   ]
  },
  {
   "cell_type": "code",
   "execution_count": 10,
   "metadata": {},
   "outputs": [
    {
     "data": {
      "text/latex": [
       "$\\displaystyle \\frac{\\left(x - x_{0}\\right) \\left(y - y_{0}\\right)}{\\left(x - x_{0}\\right)^{2} + \\left(y - y_{0}\\right)^{2}}$"
      ],
      "text/plain": [
       "(x - x0)*(y - y0)/((x - x0)**2 + (y - y0)**2)"
      ]
     },
     "execution_count": 10,
     "metadata": {},
     "output_type": "execute_result"
    }
   ],
   "source": [
    "dx * dy / r2\n"
   ]
  },
  {
   "cell_type": "code",
   "execution_count": 87,
   "metadata": {},
   "outputs": [],
   "source": [
    "import sympy as sp\n",
    "import numpy as np\n",
    "import matplotlib.pyplot as plt\n",
    "from tectosaur2 import refine_surfaces, gauss_rule\n",
    "from tectosaur2.mesh import pts_grid\n",
    "\n",
    "nobs = 100\n",
    "V = 2\n",
    "zoomx = [-V, V]\n",
    "zoomy = [-V, V]\n",
    "xs = np.linspace(*zoomx, nobs)\n",
    "ys = np.linspace(*zoomy, nobs)\n",
    "obs_pts = pts_grid(xs, ys)\n",
    "obsx = obs_pts[:, 0]\n",
    "obsy = obs_pts[:, 1]\n",
    "\n",
    "t = sp.var(\"t\")\n",
    "(fault,) = refine_surfaces([(t, t, t)], gauss_rule(12))\n"
   ]
  },
  {
   "cell_type": "code",
   "execution_count": 88,
   "metadata": {},
   "outputs": [],
   "source": [
    "shear_modulus = 1.0  # 3e10\n",
    "poisson_ratio = 0.25\n"
   ]
  },
  {
   "cell_type": "code",
   "execution_count": 89,
   "metadata": {},
   "outputs": [],
   "source": [
    "src = fault\n",
    "d = [\n",
    "    obs_pts[:, 0, None] - src.pts[None, :, 0],\n",
    "    obs_pts[:, 1, None] - src.pts[None, :, 1],\n",
    "]\n",
    "r2 = d[0] * d[0] + d[1] * d[1]\n",
    "too_close = r2 <= 1e-16\n",
    "r2[too_close] = 1\n",
    "\n",
    "r = np.sqrt(r2)\n",
    "trac_C1 = 1.0 / (4 * np.pi * (1 - poisson_ratio))\n",
    "trac_C2 = 1 - 2.0 * poisson_ratio\n",
    "\n",
    "drdn = (d[0] * src.normals[None, :, 0] + d[1] * src.normals[None, :, 1]) / r\n",
    "T = np.empty((obs_pts.shape[0], 2, src.n_pts, 2))\n",
    "for d_obs in range(2):\n",
    "    for d_src in range(2):\n",
    "        t1 = trac_C2 * (d_obs == d_src) + 2 * d[d_obs] * d[d_src] / r2\n",
    "        t2 = (\n",
    "            trac_C2\n",
    "            * (\n",
    "                src.normals[None, :, d_src] * d[d_obs]\n",
    "                - src.normals[None, :, d_obs] * d[d_src]\n",
    "            )\n",
    "            / r\n",
    "        )\n",
    "        T[:, d_obs, :, d_src] = -(trac_C1 / r) * (t1 * drdn - t2)\n"
   ]
  },
  {
   "cell_type": "code",
   "execution_count": 90,
   "metadata": {},
   "outputs": [],
   "source": [
    "slip = np.full((fault.n_pts, 2), 1.0 / np.sqrt(2))\n"
   ]
  },
  {
   "cell_type": "code",
   "execution_count": 91,
   "metadata": {},
   "outputs": [
    {
     "data": {
      "image/png": "[encoded data removed]",
      "text/plain": [
       "<Figure size 432x288 with 2 Axes>"
      ]
     },
     "metadata": {
      "needs_background": "light"
     },
     "output_type": "display_data"
    }
   ],
   "source": [
    "disp = np.sum(T * slip[None, None, :, :], axis=(2, 3))\n",
    "v2d = disp.reshape((nobs, nobs, 2))[:, :, 0]\n",
    "levels = np.linspace(-1, 1, 11)\n",
    "cntf = plt.contourf(xs, ys, v2d, levels=levels, extend=\"both\")\n",
    "plt.contour(\n",
    "    xs,\n",
    "    ys,\n",
    "    v2d,\n",
    "    colors=\"k\",\n",
    "    linestyles=\"-\",\n",
    "    linewidths=0.5,\n",
    "    levels=levels,\n",
    "    extend=\"both\",\n",
    ")\n",
    "plt.colorbar(cntf)\n",
    "plt.show()\n"
   ]
  },
  {
   "cell_type": "code",
   "execution_count": 92,
   "metadata": {},
   "outputs": [],
   "source": [
    "disp_C1 = 1.0 / (8 * np.pi * shear_modulus * (1 - poisson_ratio))\n",
    "disp_C2 = 3 - 4 * poisson_ratio\n",
    "S = np.empty((obs_pts.shape[0], 2, src.n_pts, 2))\n",
    "for d_obs in range(2):\n",
    "    for d_src in range(2):\n",
    "        S[:, d_obs, :, d_src] = disp_C1 * (\n",
    "            -0.5 * (3 - 4 * poisson_ratio) * (d_obs == d_src) * np.log(r2)\n",
    "            + d[d_obs] * d[d_src] / r2\n",
    "        )\n"
   ]
  },
  {
   "cell_type": "code",
   "execution_count": 114,
   "metadata": {},
   "outputs": [
    {
     "data": {
      "text/plain": [
       "array([-0.00424894,  0.0234649 ])"
      ]
     },
     "execution_count": 114,
     "metadata": {},
     "output_type": "execute_result"
    }
   ],
   "source": [
    "[disp_C1 * d[d_obs][10, 0] * d[0][10, 0] / r2[10, 0] for d_obs in range(2)]\n",
    "S[10, :, 0, 0]\n"
   ]
  },
  {
   "cell_type": "code",
   "execution_count": 118,
   "metadata": {},
   "outputs": [
    {
     "data": {
      "text/plain": [
       "(0.057601249634176004-0.02346489919230456j)"
      ]
     },
     "execution_count": 118,
     "metadata": {},
     "output_type": "execute_result"
    }
   ],
   "source": [
    "kappa = 3 - 4 * poisson_ratio\n",
    "z = obs_pts[10, 0] + obs_pts[10, 1] * 1j\n",
    "w = src.pts[0, 0] + src.pts[0, 1] * 1j\n",
    "disp_C1 * (\n",
    "    -0.5 * kappa * (np.log(z - w) + np.conjugate(np.log(z - w)))\n",
    "    - 1.0 * np.real(\n",
    "        (z - w) / np.conjugate(z - w)\n",
    "        + np.imag(np.imag(z - w) / (z - w))\n",
    "    )\n",
    "    - 0.5 * (z - w) / np.conjugate(z - w)\n",
    ")\n"
   ]
  },
  {
   "cell_type": "code",
   "execution_count": 119,
   "metadata": {},
   "outputs": [
    {
     "data": {
      "text/plain": [
       "0.2668302795403065"
      ]
     },
     "execution_count": 119,
     "metadata": {},
     "output_type": "execute_result"
    }
   ],
   "source": [
    "(d[0] * d[0] / r2)[10,0]"
   ]
  },
  {
   "cell_type": "code",
   "execution_count": 112,
   "metadata": {},
   "outputs": [
    {
     "data": {
      "text/plain": [
       "(-0.5997545806895401+0.44230292951861444j)"
      ]
     },
     "execution_count": 112,
     "metadata": {},
     "output_type": "execute_result"
    }
   ],
   "source": [
    "0.5 * (\n",
    "    (z - w) / np.conjugate(z - w)\n",
    "    + np.imag(np.imag(z - w) / (z - w))\n",
    ")"
   ]
  },
  {
   "cell_type": "code",
   "execution_count": 120,
   "metadata": {},
   "outputs": [
    {
     "name": "stdout",
     "output_type": "stream",
     "text": [
      "(1+0j) (1-0j)\n",
      "1j -1j\n"
     ]
    }
   ],
   "source": [
    "S2 = np.empty((obs_pts.shape[0], src.n_pts, 2), dtype=np.complex128)\n",
    "kappa = 3 - 4 * poisson_ratio\n",
    "z = obs_pts[:, None, 0] + obs_pts[:, None, 1] * 1j\n",
    "z0 = src.pts[None, :, 0] + src.pts[None, :, 1] * 1j\n",
    "for d_src in range(2):\n",
    "    P = (d_src == 0) + (d_src == 1) * 1j\n",
    "    print(P, np.conjugate(P))\n",
    "    t1 = -kappa * P * (np.log(z0 - z) + np.conjugate(np.log(z0 - z)))\n",
    "    t2 = np.conjugate(P) * ((z0 - z) / (np.conjugate(z0 - z)))\n",
    "    S2[:, :, d_src] = 1.0 / (4 * np.pi * shear_modulus * (1 + kappa)) * (t1 + t2)\n"
   ]
  },
  {
   "cell_type": "code",
   "execution_count": 121,
   "metadata": {},
   "outputs": [
    {
     "data": {
      "text/plain": [
       "((-0.038711258113763955+0.026525823848649224j),\n",
       " array([-0.01218543,  0.02652582]))"
      ]
     },
     "execution_count": 121,
     "metadata": {},
     "output_type": "execute_result"
    }
   ],
   "source": [
    "S2[0, 0, 0], S[0, :, 0, 0]\n"
   ]
  },
  {
   "cell_type": "code",
   "execution_count": 122,
   "metadata": {},
   "outputs": [
    {
     "data": {
      "text/plain": [
       "((0.026525823848649224-0.038711258113763955j),\n",
       " array([ 0.02652582, -0.01218543]))"
      ]
     },
     "execution_count": 122,
     "metadata": {},
     "output_type": "execute_result"
    }
   ],
   "source": [
    "S2[0, 0, 1], S[0, :, 0, 1]\n"
   ]
  },
  {
   "cell_type": "code",
   "execution_count": 123,
   "metadata": {},
   "outputs": [
    {
     "data": {
      "image/png": "[encoded data removed]",
      "text/plain": [
       "<Figure size 432x288 with 2 Axes>"
      ]
     },
     "metadata": {
      "needs_background": "light"
     },
     "output_type": "display_data"
    }
   ],
   "source": [
    "stress = slip\n",
    "disp = np.sum(S * stress[None, None, :, :], axis=(2, 3))\n",
    "v2d = disp.reshape((nobs, nobs, 2))[:, :, 0]\n",
    "levels = np.linspace(-1, 1, 11)\n",
    "cntf = plt.contourf(xs, ys, v2d, levels=levels, extend=\"both\")\n",
    "plt.contour(\n",
    "    xs,\n",
    "    ys,\n",
    "    v2d,\n",
    "    colors=\"k\",\n",
    "    linestyles=\"-\",\n",
    "    linewidths=0.5,\n",
    "    levels=levels,\n",
    "    extend=\"both\",\n",
    ")\n",
    "plt.colorbar(cntf)\n",
    "plt.show()\n"
   ]
  },
  {
   "cell_type": "code",
   "execution_count": null,
   "metadata": {},
   "outputs": [],
   "source": []
  }
 ],
 "metadata": {
  "interpreter": {
   "hash": "a13b900b371deedcaaa6f4741c4487b3dee5037db61b5f52fddc82001a4a09c6"
  },
  "kernelspec": {
   "display_name": "Python 3.9.7 64-bit ('tectosaur2': conda)",
   "language": "python",
   "name": "python3"
  },
  "language_info": {
   "codemirror_mode": {
    "name": "ipython",
    "version": 3
   },
   "file_extension": ".py",
   "mimetype": "text/x-python",
   "name": "python",
   "nbconvert_exporter": "python",
   "pygments_lexer": "ipython3",
   "version": "3.9.7"
  },
  "orig_nbformat": 4
 },
 "nbformat": 4,
 "nbformat_minor": 2
}
