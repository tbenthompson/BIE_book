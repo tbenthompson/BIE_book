{
 "cells": [
  {
   "cell_type": "markdown",
   "id": "3b7e98c0",
   "metadata": {},
   "source": [
    "# Minimizing memory usage: a matrix-free iterative solver\n",
    "## How to deal with dense BEM matrices?"
   ]
  },
  {
   "cell_type": "markdown",
   "id": "c746db0b",
   "metadata": {},
   "source": [
    "[In the previous section, I explained how to directly discretize a free surface using TDEs](sa_tdes). A downside of this approach is that the surface matrix can get very large very quickly. If I make the width of an element half as large, then there will be 2x many elements per dimension and 4x as many elements overall. And because the interaction matrix is dense, 4x as many elements leads to 16x as many matrix entries. In other words, $n$, the number of elements, scales like $O(h^2)$ in terms of the element width $h$. And the number of matrix rows or columns is exactly $3n$ (the 3 comes from the vector nature of the problem). That requires storing $9n^2$ entries. And, even worse, using a direct solver (LU decomposition, Gaussian elimination, etc) with such a matrix requires time like $O(n^3)$. Even for quite small problems with 10,000 elements, the cost of storage and solution get very large. And without an absolutely enormous machine or a distributed parallel implementation, solving a problem with 200,000 elements will just not be possible. On the other hand, in an ideal world, it would be nice to be able to solve problems with millions or even tens or hundreds of millions of elements.\n",
    "\n",
    "Fundamentally, the problem is that the interaction matrix is dense. There are two approaches for resolving this problem:\n",
    "1. Don't store the matrix!\n",
    "2. Compress the matrix by taking advantage of low rank sub-blocks.\n",
    "\n",
    "Eventually approach #2 will be critical since it is scalable up to very large problems. And that's exactly what I'll do in the next sections where I'll investigate low-rank methods and hierarchical matrices (H-matrices). However, here, I'll demonstrate approach #1 by using a matrix-free iterative solver. Ultimately, this is just a small patch on a big problem and it won't be a sustainable solution. But, it's immediately useful when you don't have a working implementation, are running into RAM constraints and are okay with a fairly slow solution. It's also useful to introduce iterative linear solvers since they are central to solving BEM linear systems.\n",
    "\n",
    "When we solve a linear system without storing the matrix, [the method is called \"matrix-free\"](https://en.wikipedia.org/wiki/Matrix-free_methods). Generally, we'll just recompute any matrix entry whenever we need. How does this do algorithmically? The storage requirements drop to just the $O(n)$ source and observation info instead of the $O(n^2)$ dense matrix. And, as I'll demonstrate, for some problems, the runtime will drop to $O(n^2)$ instead of $O(n^3)$ because solving linear systems will be possible with a fixed and fairly small number of matrix-vector products.\n",
    "\n",
    "\n",
    "## A demonstration on a large mesh.\n",
    "\n",
    "To get started, I'll just copy the code to set up the linear system for the South America problem from the previous section. But, as a twist, I'll going to use a mesh with several times more elements. This surface mesh has 28,388 elements. As a result, the matrix would have 3x that many rows and columns and would require 58 GB of memory to store. That's still small enough that it could be stored on a medium sized workstation. But, it's too big for my personal computer!"
   ]
  },
  {
   "cell_type": "code",
   "execution_count": null,
   "id": "0e620f3e",
   "metadata": {
    "tags": []
   },
   "outputs": [],
   "source": [
    "import cutde\n",
    "import numpy as np\n",
    "import matplotlib.pyplot as plt\n",
    "from pyproj import Transformer\n",
    "\n",
    "plt.rcParams[\"text.usetex\"] = True\n",
    "%config InlineBackend.figure_format='retina'\n",
    "(surf_pts_lonlat, surf_tris), (fault_pts_lonlat, fault_tris) = np.load(\n",
    "    \"sa_mesh16_7216.npy\", allow_pickle=True\n",
    ")"
   ]
  },
  {
   "cell_type": "code",
   "execution_count": null,
   "id": "c18b4605",
   "metadata": {},
   "outputs": [],
   "source": [
    "print(\"Memory required to store this matrix: \", (surf_tris.shape[0] * 3) ** 2 * 8 / 1e9)"
   ]
  },
  {
   "cell_type": "code",
   "execution_count": null,
   "id": "58749c92",
   "metadata": {
    "tags": []
   },
   "outputs": [],
   "source": [
    "transformer = Transformer.from_crs(\n",
    "    \"+proj=longlat +ellps=WGS84 +datum=WGS84 +no_defs\",\n",
    "    \"+proj=geocent +datum=WGS84 +units=m +no_defs\",\n",
    ")\n",
    "surf_pts_xyz = np.array(\n",
    "    transformer.transform(\n",
    "        surf_pts_lonlat[:, 0], surf_pts_lonlat[:, 1], surf_pts_lonlat[:, 2]\n",
    "    )\n",
    ").T.copy()\n",
    "fault_pts_xyz = np.array(\n",
    "    transformer.transform(\n",
    "        fault_pts_lonlat[:, 0], fault_pts_lonlat[:, 1], fault_pts_lonlat[:, 2]\n",
    "    )\n",
    ").T.copy()\n",
    "\n",
    "surf_tri_pts_xyz = surf_pts_xyz[surf_tris]\n",
    "surf_xyz_to_tdcs_R = cutde.compute_efcs_to_tdcs_rotations(surf_tri_pts_xyz)\n",
    "\n",
    "fault_centers_lonlat = np.mean(fault_pts_lonlat[fault_tris], axis=1)\n",
    "fault_lonlat_to_xyz_T = cutde.compute_projection_transforms(\n",
    "    fault_centers_lonlat, transformer\n",
    ")\n",
    "\n",
    "fault_tri_pts_xyz = fault_pts_xyz[fault_tris]\n",
    "fault_xyz_to_tdcs_R = cutde.compute_efcs_to_tdcs_rotations(fault_tri_pts_xyz)\n",
    "\n",
    "fault_tri_pts_lonlat = fault_pts_lonlat[fault_tris]\n",
    "fault_tdcs2_to_lonlat_R = cutde.compute_efcs_to_tdcs_rotations(fault_tri_pts_lonlat)\n",
    "\n",
    "strike_lonlat = fault_tdcs2_to_lonlat_R[:, 0, :]\n",
    "dip_lonlat = fault_tdcs2_to_lonlat_R[:, 1, :]\n",
    "\n",
    "strike_xyz = np.sum(fault_lonlat_to_xyz_T * strike_lonlat[:, None, :], axis=2)\n",
    "strike_xyz /= np.linalg.norm(strike_xyz, axis=1)[:, None]\n",
    "dip_xyz = np.sum(fault_lonlat_to_xyz_T * dip_lonlat[:, None, :], axis=2)\n",
    "dip_xyz /= np.linalg.norm(dip_xyz, axis=1)[:, None]\n",
    "\n",
    "ft = np.float32\n",
    "# The normal vectors for each triangle are the third rows of the XYZ->TDCS rotation matrices.\n",
    "Vnormal = surf_xyz_to_tdcs_R[:, 2, :]\n",
    "surf_centers_xyz = np.mean(surf_tri_pts_xyz, axis=1)\n",
    "surf_tri_pts_xyz_conv = surf_tri_pts_xyz.astype(ft)\n",
    "\n",
    "# The rotation matrix from TDCS to XYZ is the transpose of XYZ to TDCS.\n",
    "# The inverse of a rotation matrix is its transpose.\n",
    "surf_tdcs_to_xyz_R = np.transpose(surf_xyz_to_tdcs_R, (0, 2, 1)).astype(ft)"
   ]
  },
  {
   "cell_type": "markdown",
   "id": "6f7b35f5",
   "metadata": {},
   "source": [
    "Proceeding like the previous section, the next step would be to construct our surface to surface left hand side matrix. But, instead, I'm just going to compute the action of that matrix without ever storing the entire matrix. Essentially, each matrix entry will be recomputed whenever it is needed. The `cutde.disp_free` and `cutde.strain_free` were written for this purpose.\n",
    "\n",
    "First, let's check that the `cutde.disp_free` matrix free TDE computation is doing what I said it does. That is, it should be computing a matrix vector product. Since our problem is too big to generate the full matrix in memory, I'll just use the first 100 elements for this test.\n",
    "\n",
    "First, I'll compute the matrix form. This should look familiar! I multiply the matrix by a random slip vector."
   ]
  },
  {
   "cell_type": "code",
   "execution_count": null,
   "id": "046a4756",
   "metadata": {},
   "outputs": [],
   "source": [
    "test_centers = (surf_centers_xyz - 1.0 * Vnormal)[:100].astype(ft)\n",
    "mat = cutde.disp_matrix(test_centers, surf_tri_pts_xyz_conv[:100], 0.25).reshape(\n",
    "    (300, 300)\n",
    ")\n",
    "slip = np.random.rand(mat.shape[1]).astype(ft)\n",
    "correct_disp = mat.dot(slip)"
   ]
  },
  {
   "cell_type": "markdown",
   "id": "a91e7568",
   "metadata": {},
   "source": [
    "And now the matrix free version. Note that the slip is passed to the `disp_free` function. This makes sense since it is required for a matrix-vector product even though it is not required to construct the matrix with `cutde.disp_matrix`."
   ]
  },
  {
   "cell_type": "code",
   "execution_count": null,
   "id": "66bc25a9",
   "metadata": {},
   "outputs": [],
   "source": [
    "test_disp = cutde.disp_free(\n",
    "    test_centers, surf_tri_pts_xyz_conv[:100], slip.reshape((-1, 3)), 0.25\n",
    ")"
   ]
  },
  {
   "cell_type": "markdown",
   "id": "e27e40d2",
   "metadata": {},
   "source": [
    "And let's calculate the error... It looks good for the first element. For 32-bit floats, this is machine precision."
   ]
  },
  {
   "cell_type": "code",
   "execution_count": null,
   "id": "b90bc346",
   "metadata": {},
   "outputs": [],
   "source": [
    "err = correct_disp.reshape((-1, 3)) - test_disp\n",
    "err[0]"
   ]
  },
  {
   "cell_type": "code",
   "execution_count": null,
   "id": "aa40bd9d",
   "metadata": {},
   "outputs": [],
   "source": [
    "np.mean(np.abs(err)), np.max(np.abs(err))"
   ]
  },
  {
   "cell_type": "markdown",
   "id": "f89b3455",
   "metadata": {},
   "source": [
    "Okay, now that I've shown that `cutde.disp_free` is trustworthy, let's construct the full action of the left-hand side matrix. We need to transform all the rotation and extrapolation steps into a form that makes sense in an \"on the fly\" setting where we're not storing a matrix."
   ]
  },
  {
   "cell_type": "code",
   "execution_count": null,
   "id": "2d0bcad2",
   "metadata": {},
   "outputs": [],
   "source": [
    "offsets = [2.0, 1.0]\n",
    "offset_centers = [(surf_centers_xyz - off * Vnormal).astype(ft) for off in offsets]\n",
    "surf_xyz_to_tdcs_R = surf_xyz_to_tdcs_R.astype(ft)\n",
    "\n",
    "# The extrapolate to the boundary step looked like:\n",
    "# lhs = 2 * eps_mats[1] - eps_mats[0]\n",
    "# This array stores the coefficients so that we can apply that formula\n",
    "# on the fly.\n",
    "extrapolation_mult = [-1, 2]\n",
    "\n",
    "\n",
    "def matvec(x):\n",
    "    # Step 1) Rotate slip into the TDE-centric coordinate system.\n",
    "    slip_xyz = x.reshape((-1, 3)).astype(ft)\n",
    "    slip_tdcs = np.ascontiguousarray(\n",
    "        np.sum(surf_xyz_to_tdcs_R * slip_xyz[:, None, :], axis=2)\n",
    "    )\n",
    "    # Step 2) Compute the two point extrapolation to the boundary.\n",
    "    out = np.zeros_like(offset_centers[0])\n",
    "    for i, off in enumerate(offsets):\n",
    "        out += extrapolation_mult[i] * cutde.disp_free(\n",
    "            offset_centers[i], surf_tri_pts_xyz_conv, slip_tdcs, 0.25\n",
    "        )\n",
    "    out = out.flatten()\n",
    "\n",
    "    # Step 3) Don't forget the diagonal Identity matrix term!\n",
    "    out += x\n",
    "    return out"
   ]
  },
  {
   "cell_type": "code",
   "execution_count": null,
   "id": "0d439d7c",
   "metadata": {},
   "outputs": [],
   "source": [
    "%%time\n",
    "matvec(np.random.rand(surf_tris.shape[0] * 3))"
   ]
  },
  {
   "cell_type": "markdown",
   "id": "4b93dee7",
   "metadata": {},
   "source": [
    "Great! We computed a matrix-free matrix-vector product! This little snippet below will demonstrate that the memory usage is still well under 1 GB proving that we're not storing a matrix anywhere."
   ]
  },
  {
   "cell_type": "code",
   "execution_count": null,
   "id": "b89b4fa7",
   "metadata": {},
   "outputs": [],
   "source": [
    "import os, psutil\n",
    "\n",
    "process = psutil.Process(os.getpid())\n",
    "print(process.memory_info().rss / 1e9)"
   ]
  },
  {
   "cell_type": "markdown",
   "id": "42728c3b",
   "metadata": {},
   "source": [
    "## Iterative linear solution\n",
    "\n",
    "Okay, so how do we use this matrix-vector product to solve the linear system? Because the entire matrix is never in memory, direct solvers like LU decomposition or Cholesky decomposition are no longer an option. But, iterative linear solvers are still an option. The [conjugate gradient (CG) method](https://en.wikipedia.org/wiki/Conjugate_gradient_method) is a well-known example of an iterative solver. However, CG requires a symmetric positive definite matrix. Because our columns come from integrals over elements but our rows come from observation points, there is an inherent asymmetry to the boundary element matrices we are producing here. [GMRES](https://en.wikipedia.org/wiki/Generalized_minimal_residual_method) is an iterative linear solver that tolerates asymmetry. It's specifically a type of [\"Krylov subspace\"](https://en.wikipedia.org/wiki/Krylov_subspace) iterative linear solver and as such requires only the set of vectors:\n",
    "\\begin{equation}\n",
    "\\{b, Ab, A^2b, ..., A^nb\\}\n",
    "\\end{equation}\n",
    "As such, only having an implementation of the matrix vector product $Ab$ is required since the later iterates can be computed with multiple matrix vector product. For example, $A^2b = A(Ab)$.\n",
    "\n",
    "To start, we compute the right-hand side which is nothing new or fancy."
   ]
  },
  {
   "cell_type": "code",
   "execution_count": null,
   "id": "a27916b9",
   "metadata": {},
   "outputs": [],
   "source": [
    "slip = np.sum(fault_xyz_to_tdcs_R * dip_xyz[:, None, :], axis=2)\n",
    "rhs = cutde.disp_free(\n",
    "    surf_centers_xyz.astype(ft), fault_pts_xyz[fault_tris].astype(ft), slip, 0.25\n",
    ").flatten()"
   ]
  },
  {
   "cell_type": "markdown",
   "id": "0e1a9cd2",
   "metadata": {},
   "source": [
    "Now, the fun stuff: Here, I'll use the [`scipy` implementation of GMRES](https://docs.scipy.org/doc/scipy/reference/generated/scipy.sparse.linalg.gmres.html). First, we need to do use the `scipy.sparse.linalg.LinearOperator` interface to wrap our `matvec` function in a form that the `gmres` function will recognize as a something that represents a linear system that can be solved."
   ]
  },
  {
   "cell_type": "code",
   "execution_count": null,
   "id": "6d2e783e",
   "metadata": {},
   "outputs": [],
   "source": [
    "import time\n",
    "import scipy.sparse.linalg as spla\n",
    "\n",
    "# The number of rows and columns\n",
    "n = surf_tris.shape[0] * 3\n",
    "\n",
    "# The matrix vector product function that serves as the \"backend\" for the LinearOperator.\n",
    "# This is just a handy wrapper around matvec to track the number of matrix-vector products\n",
    "# used during the linear solve process.\n",
    "def M(x):\n",
    "    M.n_iter += 1\n",
    "    start = time.time()\n",
    "    out = matvec(x)\n",
    "    print(\"n_matvec\", M.n_iter, \"took\", time.time() - start)\n",
    "    return out\n",
    "\n",
    "\n",
    "M.n_iter = 0\n",
    "lhs = spla.LinearOperator((n, n), M, dtype=rhs.dtype)\n",
    "lhs.shape"
   ]
  },
  {
   "cell_type": "markdown",
   "id": "c64440ad",
   "metadata": {},
   "source": [
    "And then we can pass that `LinearOperator` as the left hand side of a system of equations to `gmres`. I'm also going to pass a simple callback that will print the current residual norm at each step of the iterative solver and require a solution tolerance of `1e-4`."
   ]
  },
  {
   "cell_type": "code",
   "execution_count": null,
   "id": "af718984",
   "metadata": {},
   "outputs": [],
   "source": [
    "np.linalg.norm(rhs)"
   ]
  },
  {
   "cell_type": "code",
   "execution_count": null,
   "id": "c95ef997",
   "metadata": {},
   "outputs": [],
   "source": [
    "soln = spla.gmres(\n",
    "    lhs,\n",
    "    rhs,\n",
    "    tol=1e-4,\n",
    "    atol=1e-4,\n",
    "    restart=100,\n",
    "    maxiter=1,\n",
    "    callback_type=\"pr_norm\",\n",
    "    callback=lambda x: print(x),\n",
    ")\n",
    "soln = soln[0].reshape((-1, 3))"
   ]
  },
  {
   "cell_type": "markdown",
   "id": "2b205e99",
   "metadata": {},
   "source": [
    "As the figures below demonstrate, only eight matrix-vector products got us a great solution!"
   ]
  },
  {
   "cell_type": "code",
   "execution_count": null,
   "id": "16ef39cb",
   "metadata": {},
   "outputs": [],
   "source": [
    "inverse_transformer = Transformer.from_crs(\n",
    "    \"+proj=geocent +datum=WGS84 +units=m +no_defs\",\n",
    "    \"+proj=longlat +ellps=WGS84 +datum=WGS84 +no_defs\",\n",
    ")\n",
    "surf_xyz_to_lonlat_T = cutde.compute_projection_transforms(\n",
    "    surf_centers_xyz, inverse_transformer\n",
    ")\n",
    "surf_xyz_to_lonlat_T /= np.linalg.norm(surf_xyz_to_lonlat_T, axis=2)[:, :, None]\n",
    "soln_lonlat = np.sum(surf_xyz_to_lonlat_T * soln[:, None, :], axis=2)\n",
    "\n",
    "plt.figure(figsize=(13, 6))\n",
    "for d in range(3):\n",
    "    plt.subplot(1, 3, 1 + d)\n",
    "    cntf = plt.tripcolor(\n",
    "        surf_pts_lonlat[:, 0], surf_pts_lonlat[:, 1], surf_tris, soln_lonlat[:, d]\n",
    "    )\n",
    "    plt.colorbar(cntf)\n",
    "    plt.axis(\"equal\")\n",
    "    plt.xlim([-85, -70])\n",
    "    plt.ylim([-50, 10])\n",
    "    plt.title(\n",
    "        [\"$u_{\\\\textrm{east}}$\", \"$u_{\\\\textrm{north}}$\", \"$u_{\\\\textrm{up}}$\"][d]\n",
    "    )\n",
    "plt.show()"
   ]
  },
  {
   "cell_type": "markdown",
   "id": "0eca2cdd",
   "metadata": {},
   "source": [
    "## Performance and convergence\n",
    "\n",
    "An important thing to note about the solution above is that only a few matrix-vector products are required to get to a high-level of accuracy. GMRES (and many other iterative linear and nonlinear optimization algorithms) converges at a rate proportional to the condition number of the matrix {cite:p}`Saad1986`. So in order to productively use an iterative linear solver, we need to have a matrix with a small condition number. It turns out that these free surface self-interaction matrices have condition numbers that are very close to 1.0, meaning that all the eigenvalues are very similar in magnitude. As a result, a highly accurate solution with GMRES requires less than ten matrix-vector products even for very large matrices.\n",
    "\n",
    "Because of this dependence on the condition number, in the worst case, iterative solvers are not faster than a direct solver. However, suppose that we need only 10 matrix-vector products. Then, the runtime is approximately $10(2n^2)$ because each matrix-vector product requires $2n^2$ operations (one multiplication and one addition per matrix entry). As a result, GMRES is solving the problem in $O(n^2)$ instead of the $O(n^3)$ asymptotic runtime of direct methods like LU decomposition. So, in addition to requiring less memory, the matrix free method here forced us into actually using a faster linear solver. Of course, LU decomposition comes out ahead again if we need to solve many linear systems with the same left hand side and different right hand sides. That is not the case here but would be relevant for many other problems (e.g. problems involving time stepping).\n",
    "\n",
    "The mess of code below builds a few figures that demonstrate these points regarding performance and accuracy as a function of the number of elements."
   ]
  },
  {
   "cell_type": "code",
   "execution_count": null,
   "id": "0ccfccb0",
   "metadata": {},
   "outputs": [],
   "source": [
    "import time\n",
    "\n",
    "fault_L = 1000.0\n",
    "fault_H = 1000.0\n",
    "fault_D = 0.0\n",
    "fault_pts = np.array(\n",
    "    [\n",
    "        [-fault_L, 0, -fault_D],\n",
    "        [fault_L, 0, -fault_D],\n",
    "        [fault_L, 0, -fault_D - fault_H],\n",
    "        [-fault_L, 0, -fault_D - fault_H],\n",
    "    ]\n",
    ")\n",
    "fault_tris = np.array([[0, 1, 2], [0, 2, 3]], dtype=np.int64)\n",
    "\n",
    "results = []\n",
    "for n_els_per_dim in [2, 4, 8, 16, 32, 48]:\n",
    "    surf_L = 4000\n",
    "    mesh_xs = np.linspace(-surf_L, surf_L, n_els_per_dim + 1)\n",
    "    mesh_ys = np.linspace(-surf_L, surf_L, n_els_per_dim + 1)\n",
    "    mesh_xg, mesh_yg = np.meshgrid(mesh_xs, mesh_ys)\n",
    "    surf_pts = np.array([mesh_xg, mesh_yg, 0 * mesh_yg]).reshape((3, -1)).T.copy()\n",
    "    surf_tris = []\n",
    "    nx = ny = n_els_per_dim + 1\n",
    "    idx = lambda i, j: i * ny + j\n",
    "    for i in range(n_els_per_dim):\n",
    "        for j in range(n_els_per_dim):\n",
    "            x1, x2 = mesh_xs[i : i + 2]\n",
    "            y1, y2 = mesh_ys[j : j + 2]\n",
    "            surf_tris.append([idx(i, j), idx(i + 1, j), idx(i + 1, j + 1)])\n",
    "            surf_tris.append([idx(i, j), idx(i + 1, j + 1), idx(i, j + 1)])\n",
    "    surf_tris = np.array(surf_tris, dtype=np.int64)\n",
    "    surf_tri_pts = surf_pts[surf_tris]\n",
    "    surf_centroids = np.mean(surf_tri_pts, axis=1)\n",
    "\n",
    "    fault_surf_mat = cutde.disp_matrix(surf_centroids, fault_pts[fault_tris], 0.25)\n",
    "    rhs = np.sum(fault_surf_mat[:, :, :, 0], axis=2).flatten()\n",
    "\n",
    "    start = time.time()\n",
    "    eps_mats = []\n",
    "    offsets = [0.002, 0.001]\n",
    "    offset_centers = [\n",
    "        np.mean(surf_tri_pts, axis=1) - off * np.array([0, 0, 1]) for off in offsets\n",
    "    ]\n",
    "    for i, off in enumerate(offsets):\n",
    "        eps_mats.append(cutde.disp_matrix(offset_centers[i], surf_pts[surf_tris], 0.25))\n",
    "    lhs = 2 * eps_mats[1] - eps_mats[0]\n",
    "    lhs_reordered = np.empty_like(lhs)\n",
    "    lhs_reordered[:, :, :, 0] = lhs[:, :, :, 1]\n",
    "    lhs_reordered[:, :, :, 1] = lhs[:, :, :, 0]\n",
    "    lhs_reordered[:, :, :, 2] = lhs[:, :, :, 2]\n",
    "    lhs_reordered = lhs_reordered.reshape(\n",
    "        (surf_tris.shape[0] * 3, surf_tris.shape[0] * 3)\n",
    "    )\n",
    "    lhs_reordered += np.eye(lhs_reordered.shape[0])\n",
    "    direct_build_time = time.time() - start\n",
    "    start = time.time()\n",
    "    soln = np.linalg.solve(lhs_reordered, rhs).reshape((-1, 3))\n",
    "    direct_solve_time = time.time() - start\n",
    "\n",
    "    def matvec(x):\n",
    "        extrapolation_mult = [-1, 2]\n",
    "        slip = np.empty((surf_centroids.shape[0], 3))\n",
    "        xrshp = x.reshape((-1, 3))\n",
    "        slip[:, 0] = xrshp[:, 1]\n",
    "        slip[:, 1] = xrshp[:, 0]\n",
    "        slip[:, 2] = xrshp[:, 2]\n",
    "        out = np.zeros_like(offset_centers[0])\n",
    "        for i, off in enumerate(offsets):\n",
    "            out += extrapolation_mult[i] * cutde.disp_free(\n",
    "                offset_centers[i], surf_tri_pts, slip, 0.25\n",
    "            )\n",
    "        return out.flatten() + x\n",
    "\n",
    "    n = surf_tris.shape[0] * 3\n",
    "\n",
    "    def M(x):\n",
    "        M.n_iter += 1\n",
    "        return matvec(x)\n",
    "\n",
    "    M.n_iter = 0\n",
    "    lhs = spla.LinearOperator((n, n), M, dtype=rhs.dtype)\n",
    "    start = time.time()\n",
    "    soln_iter = spla.gmres(lhs, rhs, tol=1e-4)[0].reshape((-1, 3))\n",
    "    iterative_runtime = time.time() - start\n",
    "\n",
    "    l1_err = np.mean(np.abs((soln_iter - soln) / soln))\n",
    "    results.append(\n",
    "        dict(\n",
    "            l1_err=l1_err,\n",
    "            n_elements=surf_tris.shape[0],\n",
    "            iterations=M.n_iter,\n",
    "            direct_build_time=direct_build_time,\n",
    "            direct_solve_time=direct_solve_time,\n",
    "            iterative_runtime=iterative_runtime,\n",
    "            direct_memory=rhs.nbytes + lhs_reordered.nbytes,\n",
    "            iterative_memory=rhs.nbytes,\n",
    "        )\n",
    "    )"
   ]
  },
  {
   "cell_type": "code",
   "execution_count": null,
   "id": "aee0612f",
   "metadata": {},
   "outputs": [],
   "source": [
    "import pandas as pd\n",
    "\n",
    "results_df = pd.DataFrame({k: [r[k] for r in results] for k in results[0].keys()})\n",
    "results_df[\"direct_runtime\"] = (\n",
    "    results_df[\"direct_build_time\"] + results_df[\"direct_solve_time\"]\n",
    ")\n",
    "results_df"
   ]
  },
  {
   "cell_type": "code",
   "execution_count": null,
   "id": "a9260086",
   "metadata": {},
   "outputs": [],
   "source": [
    "plt.rcParams[\"text.usetex\"] = False"
   ]
  },
  {
   "cell_type": "code",
   "execution_count": null,
   "id": "4ee7c353",
   "metadata": {},
   "outputs": [],
   "source": [
    "plt.figure(figsize=(8, 4))\n",
    "plt.subplot(1, 2, 1)\n",
    "plt.plot(results_df[\"n_elements\"], results_df[\"direct_runtime\"], label=\"direct\")\n",
    "plt.plot(results_df[\"n_elements\"], results_df[\"iterative_runtime\"], label=\"iterative\")\n",
    "plt.legend()\n",
    "plt.title(\"Run time (secs)\")\n",
    "plt.subplot(1, 2, 2)\n",
    "plt.plot(results_df[\"n_elements\"], results_df[\"direct_memory\"] / 1e6, label=\"direct\")\n",
    "plt.plot(\n",
    "    results_df[\"n_elements\"], results_df[\"iterative_memory\"] / 1e6, label=\"iterative\"\n",
    ")\n",
    "plt.legend()\n",
    "plt.title(\"Memory usage (MB)\")\n",
    "plt.show()"
   ]
  }
 ],
 "metadata": {
  "jupytext": {
   "formats": "ipynb,md:myst"
  },
  "kernelspec": {
   "display_name": "Python 3",
   "language": "python",
   "name": "python3"
  }
 },
 "nbformat": 4,
 "nbformat_minor": 5
}
