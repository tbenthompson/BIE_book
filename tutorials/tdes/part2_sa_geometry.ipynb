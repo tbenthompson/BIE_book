{
 "cells": [
  {
   "cell_type": "markdown",
   "id": "0a269bfc",
   "metadata": {},
   "source": [
    "# A fault and topography mesh of the South America subduction zone."
   ]
  },
  {
   "cell_type": "markdown",
   "id": "d0eaaa88",
   "metadata": {},
   "source": [
    "In the TDEs + Topography post, I used a mesh of the South America subduction zone. In this post, I thought it'd be fun to explain how I built that mesh."
   ]
  },
  {
   "cell_type": "code",
   "execution_count": null,
   "id": "f7fa6401",
   "metadata": {},
   "outputs": [],
   "source": [
    "import numpy as np\n",
    "import scipy.io\n",
    "import matplotlib.pyplot as plt\n",
    "\n",
    "%config InlineBackend.figure_format='retina'"
   ]
  },
  {
   "cell_type": "markdown",
   "id": "ecfd9539",
   "metadata": {},
   "source": [
    "## Looking at the fault model.\n",
    "\n",
    "First off, I'm not going to explain how to build the fault geometry. That's already been built! I'm using the same triangular subduction zone mesh used by [Shannon Graham in her Global Block model papers](https://agupubs.onlinelibrary.wiley.com/doi/full/10.1029/2017GC007391). That mesh was built using the [Slab 1.0 subduction zone contours](https://agupubs.onlinelibrary.wiley.com/doi/abs/10.1029/2011JB008524). Also, the link in the Slab 1.0 paper is dead and the [first Google search for Slab 1.0 is a portable cutting board](https://store.overlandbound.com/products/slab).\n",
    "\n",
    "Anyway... I'll load the mesh up from the `.mat` file (a Matlab file format) and plot it."
   ]
  },
  {
   "cell_type": "code",
   "execution_count": null,
   "id": "a71081a8",
   "metadata": {},
   "outputs": [],
   "source": [
    "file = scipy.io.loadmat(\"south_america_50km_mod_ext.mat\")\n",
    "fault_pts = file[\"c\"]\n",
    "fault_pts[:, 0] -= 360\n",
    "fault_pts[:, 2] *= 1000\n",
    "fault_tris = file[\"v\"] - 1"
   ]
  },
  {
   "cell_type": "markdown",
   "id": "18c51d18",
   "metadata": {},
   "source": [
    "I'm also going to plot the sign of vertical component of the normal vector just to check that all the triangles in the mesh are aligned in the same direction."
   ]
  },
  {
   "cell_type": "code",
   "execution_count": null,
   "id": "a364e1f8",
   "metadata": {},
   "outputs": [],
   "source": [
    "from cutde.geometry import compute_normal_vectors\n",
    "\n",
    "normals = compute_normal_vectors(fault_pts[fault_tris])"
   ]
  },
  {
   "cell_type": "code",
   "execution_count": null,
   "id": "3bd12a55",
   "metadata": {},
   "outputs": [],
   "source": [
    "plt.figure(figsize=(7, 8))\n",
    "plt.subplot(1, 2, 1)\n",
    "tripc = plt.tripcolor(\n",
    "    fault_pts[:, 0],\n",
    "    fault_pts[:, 1],\n",
    "    fault_tris,\n",
    "    fault_pts[:, 2] / 1000.0,\n",
    "    linewidth=0.5,\n",
    ")\n",
    "plt.triplot(fault_pts[:, 0], fault_pts[:, 1], fault_tris, linewidth=0.5)\n",
    "cbar = plt.colorbar()\n",
    "cbar.set_label(\"depth (km)\")\n",
    "plt.xlim([np.min(fault_pts[:, 0]), np.max(fault_pts[:, 0])])\n",
    "plt.axis(\"equal\")\n",
    "plt.xlabel(\"longitude\")\n",
    "plt.ylabel(\"latitude\")\n",
    "plt.subplot(1, 2, 2)\n",
    "plt.tripcolor(fault_pts[:, 0], fault_pts[:, 1], fault_tris, np.sign(normals[:, 2]))\n",
    "plt.colorbar()\n",
    "plt.xlim([np.min(fault_pts[:, 0]), np.max(fault_pts[:, 0])])\n",
    "plt.axis(\"equal\")\n",
    "plt.tight_layout()\n",
    "plt.show()"
   ]
  },
  {
   "cell_type": "markdown",
   "id": "c05362e4",
   "metadata": {},
   "source": [
    "The mesh itself looks great at first glance! But, there is a mild problem with the element orientations at the southern end of the fault mesh. They don't match the rest of the mesh. To fix the issue I can flip the triangle vertex ordering. Instead of ordering the vertices of a given triangle 0-1-2, I can flip the normal vector by ordering them 0-2-1. I'm actually going to flip the orientation of all the dark blue parts of the mesh since it's a bit nicer to follow the convention that dipping fault normal vector point upwards. This convention results in an upwards-pointing dip vector which is consistent with the upwards dip-vector found in Okada."
   ]
  },
  {
   "cell_type": "code",
   "execution_count": null,
   "id": "62891fff",
   "metadata": {},
   "outputs": [],
   "source": [
    "flip_indices = np.where(normals[:, 2] < 0)\n",
    "flag = np.zeros_like(normals[:, 0])\n",
    "flag[flip_indices] = 1\n",
    "\n",
    "flipped_tris = fault_tris.copy()\n",
    "flipped_tris[flip_indices, 1] = fault_tris[flip_indices, 2]\n",
    "flipped_tris[flip_indices, 2] = fault_tris[flip_indices, 1]\n",
    "fault_tris = flipped_tris"
   ]
  },
  {
   "cell_type": "markdown",
   "id": "43bfd7a2",
   "metadata": {},
   "source": [
    "## Refining the fault mesh\n",
    "\n",
    "Depending on the situation, it might be nice to refine the fault mesh for more accuracy. A simple approach is to split each triangle into four new triangles based on the midpoints of each edge."
   ]
  },
  {
   "cell_type": "code",
   "execution_count": null,
   "id": "6d2e21e9",
   "metadata": {},
   "outputs": [],
   "source": [
    "v0 = fault_pts[fault_tris[:, 0]]\n",
    "v1 = fault_pts[fault_tris[:, 1]]\n",
    "v2 = fault_pts[fault_tris[:, 2]]"
   ]
  },
  {
   "cell_type": "code",
   "execution_count": null,
   "id": "09350938",
   "metadata": {},
   "outputs": [],
   "source": [
    "v01 = 0.5 * (v0 + v1)\n",
    "v02 = 0.5 * (v0 + v2)\n",
    "v12 = 0.5 * (v1 + v2)"
   ]
  },
  {
   "cell_type": "code",
   "execution_count": null,
   "id": "f3a3023f",
   "metadata": {},
   "outputs": [],
   "source": [
    "def plot_edge(a, b):\n",
    "    P = np.array([a[0], b[0]])\n",
    "    plt.plot(P[:, 0], P[:, 1], \"k-\")\n",
    "\n",
    "\n",
    "plot_edge(v0, v1)\n",
    "plot_edge(v2, v1)\n",
    "plot_edge(v2, v0)\n",
    "plot_edge(v01, v12)\n",
    "plot_edge(v01, v02)\n",
    "plot_edge(v12, v02)"
   ]
  },
  {
   "cell_type": "code",
   "execution_count": null,
   "id": "5d3665fe",
   "metadata": {},
   "outputs": [],
   "source": [
    "new_pts = np.concatenate([fault_pts, v01, v02, v12])\n",
    "v01_idxs = fault_pts.shape[0] + 0 * v01.shape[0] + np.arange(v01.shape[0])\n",
    "v02_idxs = v01_idxs + v01.shape[0]\n",
    "v12_idxs = v01_idxs + 2 * v01.shape[0]"
   ]
  },
  {
   "cell_type": "code",
   "execution_count": null,
   "id": "ca04b450",
   "metadata": {},
   "outputs": [],
   "source": [
    "import mesh_fncs\n",
    "\n",
    "new_tris = np.array(\n",
    "    [\n",
    "        [fault_tris[:, 0], v01_idxs, v02_idxs],\n",
    "        [fault_tris[:, 1], v12_idxs, v01_idxs],\n",
    "        [fault_tris[:, 2], v02_idxs, v12_idxs],\n",
    "        [v01_idxs, v12_idxs, v02_idxs],\n",
    "    ]\n",
    ")\n",
    "new_tris = np.transpose(new_tris, (2, 0, 1)).reshape((-1, 3))\n",
    "# fault_pts, fault_tris = mesh_fncs.remove_duplicate_pts((new_pts, new_tris))"
   ]
  },
  {
   "cell_type": "markdown",
   "id": "c36438b5",
   "metadata": {},
   "source": [
    "## Downloading DEM data\n",
    "\n",
    "Now, let's add surface topography and Earth curvature to this geometry. Why? Because, we can! And because we're interested in the influence of realistic geometry. Also, I'll end up projecting to geocentric coordinates where (X, Y, Z) = (0, 0, 0) is the center of the Earth.\n",
    "\n",
    "Long ago I was using Mapzen for easily downloading DEM data. But Mapzen has gone out of business. So, I was sad and forlorn and had no easy source of DEM data... Until I discovered that Mapzen had [exported their entire terrain tiles dataset to Amazon S3!](https://aws.amazon.com/public-datasets/terrain/). So, I replaced the old Mapzen API with some calls to AWS S3 using `boto3`. The basic API call is\n",
    "\n",
    "``` python\n",
    "def download_file(x, y, z, save_path):\n",
    "    BUCKET_NAME = 'elevation-tiles-prod'\n",
    "    KEY = 'geotiff/{z}/{x}/{y}.tif'.format(x = x, y = y, z = z)\n",
    "\n",
    "    s3 = boto3.resource('s3')\n",
    "\n",
    "    try:\n",
    "        bucket = s3.Bucket(BUCKET_NAME)\n",
    "        bucket.download_file(KEY, save_path)\n",
    "    except botocore.exceptions.ClientError as e:\n",
    "        if e.response['Error']['Code'] == \"404\":\n",
    "            print(\"The object does not exist.\")\n",
    "        else:\n",
    "            raise\n",
    "```\n",
    "\n",
    "I've wrapped this in a more advanced set of functions that allow passing a longitude-latitude bounding box and downloading the necessary files to create an interpolated digital elevation map.\n",
    "\n",
    "Let's load up the module that does the DEM collection and just test out the tools. There are two relevant parameters: `zoom` determines the resolution of the DEM data. I'm grabbing a pretty large area of data, so I use a low zoom level of 2. And `n_dem_interp_pts` determines how many interpolation points are used to interpolate the DEM to our exact desired locations from the nearby provided coordinates."
   ]
  },
  {
   "cell_type": "code",
   "execution_count": null,
   "id": "6503705d",
   "metadata": {},
   "outputs": [],
   "source": [
    "import collect_dem\n",
    "\n",
    "n_dem_interp_pts = 100\n",
    "zoom = 2\n",
    "\n",
    "bounds = collect_dem.get_dem_bounds(fault_pts)\n",
    "dem_lon, dem_lat, dem = collect_dem.get_dem(zoom, bounds, n_dem_interp_pts)\n",
    "\n",
    "plt.figure(figsize=(3, 10))\n",
    "plt.tricontourf(dem_lon, dem_lat, dem)\n",
    "plt.colorbar()\n",
    "plt.show()"
   ]
  },
  {
   "cell_type": "markdown",
   "id": "5c6e7d81",
   "metadata": {},
   "source": [
    "## Building the surface mesh.\n",
    "\n",
    "The next step is to build the surface mesh. However, not just any surface mesh. I need a surface mesh that \"conforms\" to the fault trace. To be precise, any fault mesh edge that intersects the surface should also be an edge in the surface mesh.\n",
    "\n",
    "To do this, I'll first identify the outer edges of the fault. This `mesh_fncs` module has a few handy functions for working with fault meshes like the `get_boundary_loop` function which returns the external edges of a surface mesh."
   ]
  },
  {
   "cell_type": "code",
   "execution_count": null,
   "id": "a524be3a",
   "metadata": {},
   "outputs": [],
   "source": [
    "import mesh_fncs\n",
    "\n",
    "boundary_loop = mesh_fncs.get_boundary_loop((fault_pts, fault_tris))[0]\n",
    "plt.figure(figsize=(3, 10))\n",
    "plt.plot(fault_pts[boundary_loop, 0], fault_pts[boundary_loop, 1], \"-.\")\n",
    "plt.axis(\"equal\")\n",
    "plt.show()"
   ]
  },
  {
   "cell_type": "markdown",
   "id": "a478b91f",
   "metadata": {},
   "source": [
    "And then, just via trial and error, I found that boundary loop indices 130-258 correspond to the surface edges. This is demonstrated just by plotting those edges in the figure below where we looking from the side at the fault."
   ]
  },
  {
   "cell_type": "code",
   "execution_count": null,
   "id": "01fe1fd9",
   "metadata": {},
   "outputs": [],
   "source": [
    "plt.figure(figsize=(16, 2.0))\n",
    "upper_edge_idxs = boundary_loop[130:258]\n",
    "# If we had refined the mesh above, this line will provide the\n",
    "# correct upper_edge_idxs\n",
    "# upper_edge_idxs = boundary_loop[259:514]\n",
    "upper_edge_pts = fault_pts[upper_edge_idxs, :]\n",
    "upper_edge_pts.shape\n",
    "plt.plot(\n",
    "    fault_pts[upper_edge_idxs, 1], fault_pts[upper_edge_idxs, 2], \"b-*\", markersize=4\n",
    ")\n",
    "plt.triplot(fault_pts[:, 1], fault_pts[:, 2], fault_tris, linewidth=0.5)\n",
    "plt.show()"
   ]
  },
  {
   "cell_type": "markdown",
   "id": "c547b834",
   "metadata": {},
   "source": [
    "Next, we're going to use `pygmsh` to interface with Gmsh and build our mesh. I'll put some inline comments to explain what's going on.\n",
    "\n",
    "**Note**: I'm using `pygmsh` version 6.1.1 here."
   ]
  },
  {
   "cell_type": "code",
   "execution_count": null,
   "id": "50a2fbe9",
   "metadata": {},
   "outputs": [],
   "source": [
    "import pygmsh\n",
    "\n",
    "geom = pygmsh.built_in.Geometry()\n",
    "\n",
    "# First, I'll figure out the area that I want to produce a surface mesh for.\n",
    "# The center of the area will be the center of the fault.\n",
    "surf_center = np.mean(upper_edge_pts, axis=0)\n",
    "# And I also want to know the furthest that any fault mesh point is from that center point.\n",
    "# This is essentially the fault \"half-length\"\n",
    "fault_L = np.max(np.sqrt(np.sum((upper_edge_pts - surf_center) ** 2, axis=1)))\n",
    "# The \"half-width\" of the surface mesh will be 1.5 times the fault half-length\n",
    "w = fault_L * 1.5\n",
    "\n",
    "# And the typical element length-scale will about one tenth the fault length.\n",
    "# This length scale will only be relevant far from the fault. Near the fault,\n",
    "# the length of the fault edges will force surface elements to be much smaller.\n",
    "mesh_size_divisor = 4\n",
    "mesh_size = fault_L / mesh_size_divisor\n",
    "\n",
    "# The main polygon of the mesh is a big square.\n",
    "surf_corners = np.array(\n",
    "    [\n",
    "        [surf_center[0] - w, surf_center[1] - w, 0],\n",
    "        [surf_center[0] + w, surf_center[1] - w, 0],\n",
    "        [surf_center[0] + w, surf_center[1] + w, 0],\n",
    "        [surf_center[0] - w, surf_center[1] + w, 0],\n",
    "    ]\n",
    ")\n",
    "surf = geom.add_polygon(surf_corners, mesh_size)\n",
    "\n",
    "# Now, I'll add the fault trace edge points.\n",
    "gmsh_pts = dict()\n",
    "for i in range(upper_edge_pts.shape[0]):\n",
    "    gmsh_pts[i] = geom.add_point(upper_edge_pts[i], mesh_size)\n",
    "\n",
    "# And this chunk of code specifies that those edges should be\n",
    "# included in the surface mesh.\n",
    "for i in range(1, upper_edge_pts.shape[0]):\n",
    "    line = geom.add_line(gmsh_pts[i - 1], gmsh_pts[i])\n",
    "\n",
    "    # pygmsh didn't support this elegantly, so I just insert manual gmsh code.\n",
    "    intersection_code = \"Line{{{}}} In Surface{{{}}};\".format(line.id, surf.surface.id)\n",
    "    geom.add_raw_code(intersection_code)"
   ]
  },
  {
   "cell_type": "markdown",
   "id": "91c594d4",
   "metadata": {},
   "source": [
    "Finally, build the geometry and can generate the surface mesh."
   ]
  },
  {
   "cell_type": "code",
   "execution_count": null,
   "id": "01696481",
   "metadata": {},
   "outputs": [],
   "source": [
    "mesh = pygmsh.generate_mesh(geom, dim=2)"
   ]
  },
  {
   "cell_type": "markdown",
   "id": "00f72e46",
   "metadata": {},
   "source": [
    "Let's plot the resulting mesh. The output format is from the `meshio` package."
   ]
  },
  {
   "cell_type": "code",
   "execution_count": null,
   "id": "7d3f18d8",
   "metadata": {},
   "outputs": [],
   "source": [
    "surf_pts = mesh.points\n",
    "surf_tris = mesh.cells_dict[\"triangle\"]\n",
    "\n",
    "plt.figure(figsize=(10, 10))\n",
    "plt.triplot(surf_pts[:, 0], surf_pts[:, 1], surf_tris, linewidth=0.5)\n",
    "plt.plot(\n",
    "    upper_edge_pts[:, 0], upper_edge_pts[:, 1], \"k-\", linewidth=1.0\n",
    ")  # , markersize = 2)\n",
    "vW = 1.1 * w\n",
    "plt.xlim([surf_center[0] - vW, surf_center[0] + vW])\n",
    "plt.ylim([surf_center[1] - vW, surf_center[1] + vW])\n",
    "plt.show()"
   ]
  },
  {
   "cell_type": "markdown",
   "id": "60d968e5",
   "metadata": {},
   "source": [
    "Great, that's exactly what I was going for. A mesh that conforms to the fault trace and also gets smoothly coarser moving away from the fault trace.\n",
    "\n",
    "The final step is to set elevation:\n",
    "\n",
    "* the elevation for the surface mesh. It's currently zero everywhere.\n",
    "* I also offset the fault model based on the surface elevation since the Slab 1.0 models are defined in terms of depth below the surface.\n",
    "\n",
    "Note that because we use the same DEM data for computing surface and fault elevations, that the fault trace and the surface edges will precisely match. Using different DEM data for each mesh is a common error here that will result in gaps that may or may not matter depending on the end goal."
   ]
  },
  {
   "cell_type": "code",
   "execution_count": null,
   "id": "ce63a589",
   "metadata": {},
   "outputs": [],
   "source": [
    "bounds = collect_dem.get_dem_bounds(surf_pts)\n",
    "LON, LAT, DEM = collect_dem.get_dem(zoom, bounds, n_dem_interp_pts)\n",
    "\n",
    "surf_pts[:, 2] = scipy.interpolate.griddata(\n",
    "    (LON, LAT), DEM, (surf_pts[:, 0], surf_pts[:, 1])\n",
    ")\n",
    "fault_pts[:, 2] += scipy.interpolate.griddata(\n",
    "    (LON, LAT), DEM, (fault_pts[:, 0], fault_pts[:, 1])\n",
    ")"
   ]
  },
  {
   "cell_type": "markdown",
   "id": "6ea2a50a",
   "metadata": {},
   "source": [
    "And I'll make a simple plot of the final mesh. Looks good!"
   ]
  },
  {
   "cell_type": "code",
   "execution_count": null,
   "id": "5476bf28",
   "metadata": {},
   "outputs": [],
   "source": [
    "plt.figure(figsize=(12, 12))\n",
    "cntf = plt.tricontourf(\n",
    "    surf_pts[:, 0], surf_pts[:, 1], surf_tris, surf_pts[:, 2] / 1000.0\n",
    ")\n",
    "plt.triplot(surf_pts[:, 0], surf_pts[:, 1], surf_tris, \"k-\", linewidth=0.25)\n",
    "plt.triplot(fault_pts[:, 0], fault_pts[:, 1], fault_tris, \"w-\", linewidth=0.4)\n",
    "vW = 1.2 * fault_L\n",
    "plt.xlim([surf_center[0] - vW, surf_center[0] + vW])\n",
    "plt.ylim([surf_center[1] - vW, surf_center[1] + vW])\n",
    "cbar = plt.colorbar()\n",
    "cbar.set_label(\"elevation (km)\")\n",
    "plt.xlabel(\"longitude\")\n",
    "plt.ylabel(\"latitude\")\n",
    "plt.show()"
   ]
  },
  {
   "cell_type": "markdown",
   "id": "b05060c7",
   "metadata": {},
   "source": [
    "Let's zoom in on an longitude-z plane approximate cross section of the fault and surface to check that the fault trace and surface match up. The big red dot is a fault mesh point while the blue stars show the points in the cross section from the surface mesh."
   ]
  },
  {
   "cell_type": "code",
   "execution_count": null,
   "id": "efacd09b",
   "metadata": {},
   "outputs": [],
   "source": [
    "idxs = (fault_pts[:, 1] < -20) & (fault_pts[:, 1] > -20.5)\n",
    "plt.plot(fault_pts[idxs, 0], fault_pts[idxs, 2] / 1000.0, \"ro\", markersize=20)\n",
    "idxs = (surf_pts[:, 1] < -20) & (surf_pts[:, 1] > -20.5)\n",
    "plt.plot(surf_pts[idxs, 0], surf_pts[idxs, 2] / 1000.0, \"b*\")\n",
    "plt.xlim([-73, -70])\n",
    "plt.ylim([-10, 0])\n",
    "plt.show()"
   ]
  },
  {
   "cell_type": "markdown",
   "id": "d0246421",
   "metadata": {},
   "source": [
    "Awesome! The mesh is ready to use and I'll save it to disk for safe-keeping."
   ]
  },
  {
   "cell_type": "code",
   "execution_count": null,
   "id": "c8c930b4",
   "metadata": {},
   "outputs": [],
   "source": [
    "np.save(\n",
    "    f\"sa_mesh{mesh_size_divisor}_{fault_tris.shape[0]}.npy\",\n",
    "    np.array([(surf_pts, surf_tris), (fault_pts, fault_tris)], dtype=object),\n",
    ")"
   ]
  },
  {
   "cell_type": "code",
   "execution_count": null,
   "id": "40f7e3d4",
   "metadata": {},
   "outputs": [],
   "source": []
  }
 ],
 "metadata": {
  "jupytext": {
   "formats": "ipynb,md:myst"
  },
  "kernelspec": {
   "display_name": "Python 3",
   "language": "python",
   "name": "python3"
  }
 },
 "nbformat": 4,
 "nbformat_minor": 5
}
