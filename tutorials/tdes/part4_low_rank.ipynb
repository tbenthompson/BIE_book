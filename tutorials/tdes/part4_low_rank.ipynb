{
 "cells": [
  {
   "cell_type": "markdown",
   "id": "1c8e8873",
   "metadata": {},
   "source": [
    "# Low rank approximation of BEM matrices with adaptive cross approximation (ACA).\n",
    "\n",
    "In the last section, I demonstrated how to avoid constructing the full dense BEM matrix by regenerating matrix entries whenever they are needed. This can be helpful for reducing memory costs and, in some situations, actually results in a faster solver too. But, it still suffers from the fundamental problem of having to work with a dense matrix where each matrix-vector product is an $O(n^2)$ operation. Ultimately, for boundary integral methods to be a useful technology, we need to avoid working with dense matrices entirely. \n",
    "\n",
    "So, here, I'll be demonstrating how the off-diagonal blocks of a BEM matrix can be dramatically compressed via a low-rank approximation. The result will be $O(n\\log n)$ or $O(n)$ solution methods that can scale up to millions of elements. Hierarchical matrices (aka H-matrices,{cite:p}`Bebendorf2008`), tree-codes {cite:p}`Barnes1986`, fast multipole methods (FMM, {cite:p}`beatson1997short`) and several other techniques all make use of this basic concept. I'd argue these linear or log-linear methods are the largest distinguishing factor between \"basic\" BEM approaches from \"advanced\" or \"modern\" BEM approaches. So, let's dive into a tour of low rank matrices! The tools we build here will form the core of the hierarchical matrix (H-matrix) implementation in the next section.\n",
    "\n",
    "To start out, let's generate, yet again, a simple self-interaction matrix for a free surface. For simplicity, I just used a triangulated planar rectangle rather than anything realistic. I hid these cells since the code is nothing new."
   ]
  },
  {
   "cell_type": "code",
   "execution_count": null,
   "id": "3719e072",
   "metadata": {
    "tags": [
     "hide-cell"
    ]
   },
   "outputs": [],
   "source": [
    "import numpy as np\n",
    "import pandas as pd\n",
    "import matplotlib.pyplot as plt\n",
    "\n",
    "%config InlineBackend.figure_format='retina'\n",
    "\n",
    "import cutde"
   ]
  },
  {
   "cell_type": "code",
   "execution_count": null,
   "id": "ee48bb2d",
   "metadata": {
    "tags": [
     "hide-cell"
    ]
   },
   "outputs": [],
   "source": [
    "surf_L = 4000\n",
    "n_els_per_dim = 50\n",
    "\n",
    "mesh_xs = np.linspace(-surf_L, surf_L, n_els_per_dim + 1)\n",
    "mesh_ys = np.linspace(-surf_L, surf_L, n_els_per_dim + 1)\n",
    "mesh_xg, mesh_yg = np.meshgrid(mesh_xs, mesh_ys)\n",
    "surf_pts = np.array([mesh_xg, mesh_yg, 0 * mesh_yg]).reshape((3, -1)).T.copy()\n",
    "\n",
    "surf_tris = []\n",
    "nx = ny = n_els_per_dim + 1\n",
    "idx = lambda i, j: i * ny + j\n",
    "for i in range(n_els_per_dim):\n",
    "    for j in range(n_els_per_dim):\n",
    "        x1, x2 = mesh_xs[i : i + 2]\n",
    "        y1, y2 = mesh_ys[j : j + 2]\n",
    "        surf_tris.append([idx(i, j), idx(i + 1, j), idx(i + 1, j + 1)])\n",
    "        surf_tris.append([idx(i, j), idx(i + 1, j + 1), idx(i, j + 1)])\n",
    "\n",
    "surf_tris = np.array(surf_tris, dtype=np.int64)\n",
    "surf_tri_pts = surf_pts[surf_tris]\n",
    "surf_centroids = np.mean(surf_tri_pts, axis=1)\n",
    "\n",
    "surf_surf_mat = cutde.disp_matrix(\n",
    "    surf_centroids + np.array([0, 0, 0.01]), surf_pts[surf_tris], 0.25\n",
    ")\n",
    "\n",
    "lhs_reordered = np.empty_like(surf_surf_mat)\n",
    "lhs_reordered[:, :, :, 0] = surf_surf_mat[:, :, :, 1]\n",
    "lhs_reordered[:, :, :, 1] = surf_surf_mat[:, :, :, 0]\n",
    "lhs_reordered[:, :, :, 2] = surf_surf_mat[:, :, :, 2]\n",
    "lhs_reordered = lhs_reordered.reshape((surf_tris.shape[0] * 3, surf_tris.shape[0] * 3))\n",
    "lhs_reordered += np.eye(lhs_reordered.shape[0])\n",
    "\n",
    "A = lhs_reordered"
   ]
  },
  {
   "cell_type": "markdown",
   "id": "86ca1bcb",
   "metadata": {},
   "source": [
    "## Near-field vs far-field\n",
    "\n",
    "Let's dig in and investigate the matrix itself! In particular, let's start by looking at two blocks of the matrix. \n",
    "1. A \"near-field\" block will contain the diagonal of the matrix. Remember that the diagonal of the matrix consists of entries representing the displacement at the center of the same element on which the slip occurred. You can see the bright yellow diagonal in the figure below. The matrix entries decay rapidly away from the diagonal. \n",
    "2. The other, a \"far-field\" block will consist of matrix entries coming from interactions between observation points and source elements that are very far from each other. In the figure below, there's no intense variation in entries. \n",
    "\n",
    "The thing to notice here is that there is, in some sense, just a lot more going on in the near-field matrix."
   ]
  },
  {
   "cell_type": "code",
   "execution_count": null,
   "id": "99cc4d7b",
   "metadata": {},
   "outputs": [],
   "source": [
    "nrows = 150\n",
    "near_field_block = A[:nrows, :nrows]\n",
    "far_field_block = A[-nrows:, :nrows]\n",
    "\n",
    "log_near = np.log10(near_field_block)\n",
    "log_near[np.isnan(log_near)] = -10\n",
    "log_far = np.log10(far_field_block)\n",
    "log_far[np.isnan(log_far)] = -10\n",
    "\n",
    "fig = plt.figure(figsize=(8, 4))\n",
    "plt.subplot(1, 2, 1)\n",
    "plt.imshow(log_near, vmin=-10, vmax=1)\n",
    "plt.title(\"Near-field\")\n",
    "plt.subplot(1, 2, 2)\n",
    "ims = plt.imshow(log_far, vmin=-10, vmax=1)\n",
    "plt.title(\"Far-field\")\n",
    "cbar_ax = fig.add_axes([0.935, 0.125, 0.015, 0.75])\n",
    "cb = fig.colorbar(ims, cax=cbar_ax)\n",
    "plt.show()"
   ]
  },
  {
   "cell_type": "markdown",
   "id": "3b934d86",
   "metadata": {},
   "source": [
    "Another way of visualizing this same \"a lot going on\" property would be to look at the action of the matrix. So, we'll apply both the nearfield and far-field blocks to a vector with random elements. The difference is striking: the output from the near-field matrix preserves the \"randomness\" of the input whereas the far-field matrix actually smooths out the input dramatically."
   ]
  },
  {
   "cell_type": "code",
   "execution_count": null,
   "id": "44b7b042",
   "metadata": {},
   "outputs": [],
   "source": [
    "x = np.random.rand(nrows)\n",
    "y1 = near_field_block.dot(x)\n",
    "y2 = far_field_block.dot(x)\n",
    "\n",
    "plt.figure(figsize=(8, 4))\n",
    "plt.subplot(1, 2, 1)\n",
    "plt.plot(np.log10(np.abs(y1[2::3])))\n",
    "plt.title(\"Near-field\")\n",
    "plt.subplot(1, 2, 2)\n",
    "plt.plot(np.log10(np.abs(y2[2::3])))\n",
    "plt.title(\"Far-field\")\n",
    "plt.show()"
   ]
  },
  {
   "cell_type": "markdown",
   "id": "fc8d8f25",
   "metadata": {},
   "source": [
    "A third and more rigorous way of discussing this same property is to look at the singular values of the two matrix blocks."
   ]
  },
  {
   "cell_type": "code",
   "execution_count": null,
   "id": "9ec503bf",
   "metadata": {},
   "outputs": [],
   "source": [
    "U_near, S_near, V_near = np.linalg.svd(near_field_block)\n",
    "U_far, S_far, V_far = np.linalg.svd(far_field_block)"
   ]
  },
  {
   "cell_type": "markdown",
   "id": "6115005c",
   "metadata": {},
   "source": [
    "The plot below shows the $\\log_{10}$ ratio of each singular value to the first singular value. Things to note here:\n",
    "* The near-field singular values do not decay. They are almost all between 1.58 and 1.41. This reflects the behavior above where the randomness of the `x` vector was mostly preserved.\n",
    "* The far-field singular values decay very quickly. The majority of the singular values are smaller than 1e-6. In other words, the matrix has a \"1e-6 approximate rank\" of 14 despite technically have a rank of 150. That means that if we only care about accuracy up to about 6 digits, then we can compress this matrix by about a factor of 6."
   ]
  },
  {
   "cell_type": "code",
   "execution_count": null,
   "id": "0ac6ae13",
   "metadata": {},
   "outputs": [],
   "source": [
    "plt.plot(np.log10(S_near / S_near[0]), label=\"nearfield\")\n",
    "plt.plot(np.log10(S_far / S_far[0]), label=\"farfield\")\n",
    "plt.legend()\n",
    "plt.show()"
   ]
  },
  {
   "cell_type": "markdown",
   "id": "dd624809",
   "metadata": {},
   "source": [
    "The 14th far-field singular value is below 1e-6."
   ]
  },
  {
   "cell_type": "code",
   "execution_count": null,
   "id": "9f613fd0",
   "metadata": {},
   "outputs": [],
   "source": [
    "S_far[14] / S_far[0]"
   ]
  },
  {
   "cell_type": "markdown",
   "id": "d5758c9a",
   "metadata": {},
   "source": [
    "## Approximation with the singular value decomposition (SVD)\n",
    "\n",
    "So, if these off-diagonal blocks of the matrix have singular values that decay quite quickly, can we approximate these blocks with just a few singular values? The answer is an emphatic yes and this idea is the basis of low-rank approximation methods. Let's explore this idea a bit more with a larger 3000x3000 block coming the lower left corner of the matrix. Because it's also off-diagonal, this block shows the same singular value magnitude decay that we saw before."
   ]
  },
  {
   "cell_type": "code",
   "execution_count": null,
   "id": "a74edc16",
   "metadata": {},
   "outputs": [],
   "source": [
    "block = A[-3000:, :3000]\n",
    "U, S, V = np.linalg.svd(block)\n",
    "\n",
    "plt.plot(np.log10(S / S[0]))\n",
    "plt.show()"
   ]
  },
  {
   "cell_type": "markdown",
   "id": "f7c70375",
   "metadata": {},
   "source": [
    "To continue, it's useful to define what the relevant metric for the matrix approximation that we're going to do. A useful norm is the Frobenius norm because it depends only on the matrix entries and for a matrix $M \\in \\mathbb{R}^{n x m}$ is defined as:\n",
    "\\begin{equation}\n",
    "\\|M\\|_F = \\sqrt{\\sum_{i,j}^{m,n} M_{ij}^2}\n",
    "\\end{equation}\n",
    "An important fact is that the Frobenius norm of a matrix is the root of the sum of the square of the singular values. That is:\n",
    "\\begin{equation}\n",
    "\\|M\\|_F = \\sqrt{\\sum_{k}^{min(m,n)} \\sigma_k^2}\n",
    "\\end{equation}\n",
    "\n",
    "So, what if we want to approximate a matrix with a particular tolerance, $\\epsilon$ in terms of the Frobenius norm? One way to do it will be to compute the SVD and then find the lowest index $K$ for which the constraint is true:\n",
    "\\begin{equation}\n",
    "\\sqrt{\\sum_{k=1}^K \\sigma_k^2} - \\|M\\|_F = \\sqrt{\\sum_{k=K}^{min(m,n)} \\sigma_k^2} < \\epsilon\n",
    "\\end{equation}\n",
    "\n",
    "The middle sum from $K$ to the number of rows/columns is essentially a measure of how important the dropped singular values are. So we want that sum to be smaller than our tolerance! The actual implementation below is surprisingly simple.\n",
    "\n",
    "Here, I'll choose $\\epsilon = 10^{-8}$. As demonstrated below, we only need the first 40 singular values to compute such an approximation, meaning that we can store the left and right singular vectors in matrices of shape `(3000, 40)`. This will compress the matrix by a factor of 37.5x!"
   ]
  },
  {
   "cell_type": "code",
   "execution_count": null,
   "id": "d37bae55",
   "metadata": {},
   "outputs": [],
   "source": [
    "eps = 1e-8\n",
    "eps"
   ]
  },
  {
   "cell_type": "code",
   "execution_count": null,
   "id": "7355226e",
   "metadata": {},
   "outputs": [],
   "source": [
    "# Reverse the list of singular values and sum them to compute the\n",
    "# error from each level of truncation.\n",
    "frob_K = np.sqrt(np.cumsum(S[::-1] ** 2))[::-1]\n",
    "\n",
    "appx_rank = np.argmax(frob_K < eps)\n",
    "appx_rank"
   ]
  },
  {
   "cell_type": "code",
   "execution_count": null,
   "id": "f9f8f75c",
   "metadata": {},
   "outputs": [],
   "source": [
    "frob_K"
   ]
  },
  {
   "cell_type": "markdown",
   "id": "7bc77a6d",
   "metadata": {},
   "source": [
    "And let's take a look at the performance and error resulting from applying this low rank approximation to a random vector. First, I'll create an random input vector `x`. Then, I'll form two matrices `Uappx` and `Vappx`. You can sort of think of these as the entrance and exit to our low-dimensional space. This low-dimensional space allows for a very computationally efficient representation of the TDE interactions. Mutliplying `Vappx` by the 3000-dimensional `x` returns a 40-dimensional vector and then we expand back to 3000 dimensional by multiplying by `Uappx`."
   ]
  },
  {
   "cell_type": "code",
   "execution_count": null,
   "id": "48eaf72b",
   "metadata": {},
   "outputs": [],
   "source": [
    "Uappx = U[:, :appx_rank]\n",
    "Vappx = S[:appx_rank, None] * V[:appx_rank]"
   ]
  },
  {
   "cell_type": "markdown",
   "id": "f383bf23",
   "metadata": {},
   "source": [
    "Next, I'll calculate the correct matrix vector product, `y_true = block.dot(x)` and record the runtime."
   ]
  },
  {
   "cell_type": "code",
   "execution_count": null,
   "id": "2bca7ef7",
   "metadata": {},
   "outputs": [],
   "source": [
    "x = np.random.rand(block.shape[1])"
   ]
  },
  {
   "cell_type": "code",
   "execution_count": null,
   "id": "efe2b6f3",
   "metadata": {},
   "outputs": [],
   "source": [
    "full_time = %timeit -o block.dot(x)\n",
    "y_true = block.dot(x)"
   ]
  },
  {
   "cell_type": "markdown",
   "id": "f36403a1",
   "metadata": {},
   "source": [
    "And then, calculate the low-rank matrix vector product, `y_appx` and record the runtime."
   ]
  },
  {
   "cell_type": "code",
   "execution_count": null,
   "id": "953ef6c5",
   "metadata": {},
   "outputs": [],
   "source": [
    "lowrank_time = %timeit -o Uappx.dot(Vappx.dot(x))\n",
    "y_appx = Uappx.dot(Vappx.dot(x))"
   ]
  },
  {
   "cell_type": "markdown",
   "id": "229a443a",
   "metadata": {},
   "source": [
    "A cursory comparison of the output suggests that the approximation is very very accurate."
   ]
  },
  {
   "cell_type": "code",
   "execution_count": null,
   "id": "e1cd877e",
   "metadata": {},
   "outputs": [],
   "source": [
    "print(y_true[:5], y_appx[:5])"
   ]
  },
  {
   "cell_type": "markdown",
   "id": "a0acadb2",
   "metadata": {},
   "source": [
    "And the calculation is far, far faster!!"
   ]
  },
  {
   "cell_type": "code",
   "execution_count": null,
   "id": "e185c267",
   "metadata": {},
   "outputs": [],
   "source": [
    "speedup = full_time.best / lowrank_time.best\n",
    "memory_reduction = block.nbytes / (Uappx.nbytes + Vappx.nbytes)\n",
    "print(f\"speed up         = {speedup}\")\n",
    "print(f\"memory reduction = {memory_reduction}\")"
   ]
  },
  {
   "cell_type": "markdown",
   "id": "e5449267",
   "metadata": {},
   "source": [
    "Let's do a bit more detailed investigation of the error and look at the $L^1$, $L^2$ and $L^{\\infty}$ relative error in the matrix vector product. We'll also compare the Frobenius norm of the approximated matrix with the Frobenius norm of the original matrix."
   ]
  },
  {
   "cell_type": "code",
   "execution_count": null,
   "id": "875e5bd3",
   "metadata": {},
   "outputs": [],
   "source": [
    "abs_true = np.abs(y_true)\n",
    "l2_true = np.mean(abs_true)\n",
    "l1_true = np.mean(abs_true)\n",
    "linf_true = np.max(abs_true)\n",
    "\n",
    "abs_diff = np.abs(y_appx - y_true)\n",
    "l2_err = np.sqrt(np.mean(abs_diff ** 2)) / l2_true\n",
    "l1_err = np.mean(abs_diff) / l1_true\n",
    "linf_err = np.max(abs_diff) / linf_true\n",
    "true_frob = np.sqrt(np.sum(block ** 2))\n",
    "frob_err = np.sqrt(np.sum((Uappx.dot(Vappx) - block) ** 2))\n",
    "print(f\"L1(UVx-y)        = {l1_err}\")\n",
    "print(f\"L2(UVx-y)        = {l2_err}\")\n",
    "print(f\"Linf(UVx-y)      = {linf_err}\")\n",
    "print(f\"Frobenius(M-UV)  = {frob_err}\")"
   ]
  },
  {
   "cell_type": "markdown",
   "id": "7d85cd00",
   "metadata": {},
   "source": [
    "It looks like this SVD approximation worked out really well here! We're getting very low error matrix-vector products. These errors are all somewhat similar to threshold we used for the singular value cutoff. And, based on the Frobenius error, the approximate matrix itself is extremely similar to the original matrix. The Frobenius error is just barely better than our tolerance condition, as expected. \n",
    "\n",
    "Before we move on, I'll record these error values in a dataframe so that it's easy to compare with the fancier methods in the next two sections."
   ]
  },
  {
   "cell_type": "code",
   "execution_count": null,
   "id": "58b66b2c",
   "metadata": {},
   "outputs": [],
   "source": [
    "err_df = pd.DataFrame(\n",
    "    index=[\"Rank\", \"L2(UVx-y)\", \"L1(UVx-y)\", \"Linf(UVx-y)\", \"Frobenius(M-UV)\"],\n",
    "    data=dict(true=[block.shape[0], 0, 0, 0, 0]),\n",
    ")\n",
    "err_df[\"SVD\"] = [appx_rank, l2_err, l1_err, linf_err, frob_err]"
   ]
  },
  {
   "cell_type": "code",
   "execution_count": null,
   "id": "e3757f94",
   "metadata": {},
   "outputs": [],
   "source": [
    "err_df.T"
   ]
  },
  {
   "cell_type": "markdown",
   "id": "5a82afbd",
   "metadata": {},
   "source": [
    "## Adaptive cross approximation (ACA)\n",
    "\n",
    "So, we've managed to create an extremely efficient approximation of our off-diagonal matrix block by using the SVD. That's definitely useful for computing fast matrix-vector products or even for computing a LU decomposition. But, it still suffers from the need to compute the entire matrix block in the first place, an $O(n^2)$ operation! If we're going to be throwing all that information away immediately after computing the SVD, is there a way to avoid computing the dense matrix block in the first place? There are several solutions to this problem like randomized SVDs {cite:p}`Halko2011`, but the most useful solution for our setting is the adaptive cross approximation (ACA) method {cite:p}`Bebendorf2000, bebendorf2003adaptive`. These algorithms depending on the ability to compute arbitrary individual matrix entries without computing the entire matrix. By making certain assumptions about the structure of a matrix, we can be confident that an accurate approximation can be constructed from just a few rows and columns. \n",
    "\n",
    "The basic idea of ACA is to approximate a matrix with a rank 1 outer product of one row and one column of that same matrix. And then iteratively use this process to construct an approximation of arbitrary precision. Ideally, at each step, we will choose the best fitting row and column. After the first iteration, we are no longer trying to approximate the original matrix, but instead we approximate the residual matrix formed by the difference between the original matrix and the current approximation matrix. Eventually, given certain matrix properties that have been proven true for BEM problem  {cite:p}`bebendorf2003adaptive`, the procedure will converge. \n",
    "\n",
    "For the sake of real-world usage, the description above will be sufficient for understanding what's going on. But, if you want to dive into a detailed description and implementation of the method, see below! Otherwise, skip over the next two sub-sections.\n",
    "\n",
    "### ACA and ACA+, the details\n",
    "The simple version, runs like (following {cite:t}`Grasedyck2004`):\n",
    "\n",
    "**ACA with full pivoting**: Given a matrix $M \\in \\mathbb{R}^{n x m}$, we'll construct an approximation like $\\sum_{k}^{r} u_k v_k^T$. The task will be to construct the row and column vectors $u_k$ and $v_k$ on each iteration such that the Frobenius norm error eventually converges. To do that, the key will be to iteratively form rank-1 approximations to the residual matrix. The residual matrix is the matrix forming the difference between $M$ and the current approximation and can be written as $R_{ij} = M_{ij} - \\sum_{k}^{r} u_{kj} v_{ki}$ representing the entry-wise difference between the target matrix and the current approximation. The goal will be to have $R$ satisfy $\\|R\\|_2 < \\epsilon$ where $\\epsilon$ is a user-specified accuracy parameter. To do this, during each iteration:\n",
    "1. Determine a \"pivot\" $(i^*, j^*)$ as the indices that maximize $R_{ij}$. Intuitively, the largest rows and columns are going to be most \"important\".\n",
    "2. Assign a new rank-1 component of the approximation: \n",
    "\n",
    "    \\begin{align}\n",
    "    u_{kj} &= R_{i^*,j} / R_{i^*,j^*} \\\\\n",
    "    v_{ki} &= R_{i,j^*}\n",
    "    \\end{align}\n",
    "3. Update $R$ to account for the new rank-1 update to the approximation. \n",
    "4. If the magnitude of the $u_k v_k$ update is small enough, stop. Otherwise, return to step 1.\n",
    "\n",
    "The reason the algorithm is called \"ACA with full pivoting\" is because we're allowing the algorithm to choose an arbitrary $(i^*, j^*)$ in the first step. However, that is impossible in our real-world setting because it requires full knowledge of the residual matrix. But, we don't have all the entries of $M$ so we can't have all the entries of $R_{ij}$. Computing all the entries of $M$ is exactly what we're trying to avoid! But, this basic \"full information\" algorithm is instructive and can be modified slightly so that we don't need the whole matrix.\n",
    "\n",
    "**ACA+**: Most real-world application use either *ACA with partial pivoting* or the *ACA+* (\"ACA plus\") algorithm. Here, I'll introduce the modifications necessary for ACA+. The main distinction is that instead of searching over all matrix indices in step 1, we will search over a subset specified by a random row and a random row. This row and column will be our window into the matrix. Instead of finding the largest entry across the full pivoting algorithm in step 1, we will just find the largest entry in either the row window or the column window. While the ACA+ approximation will be less efficient and will converge more slowly than ACA with full pivoting, the end result will still be very good. Note that this approach may completely fail for general low rank matrices, but is very successful for the low rank matrices specifically coming from BEM problems. \n",
    "\n",
    "The algorithm: Before starting the iteration, we choose a random row, $i_{\\mathrm{ref}}$ and random $j_{\\mathrm{ref}}$. And we will maintain the corresponding row and column of the residual matrix, $R$. At the start of the algorithm $R_{i_{\\mathrm{ref}}, j} = M_{i_{\\mathrm{ref}}, j}$ and $R_{i, j_{\\mathrm{ref}}} = M_{i, _{\\mathrm{ref}}j}$ \n",
    "\n",
    "Then, the iteration proceeds like:\n",
    "1. Find the index $j^*$ that maximizes $R_{i_{\\mathrm{ref}}, j}$ and the index $i^*$ that maximizes $R_{i, j_{\\mathrm{ref}}}$. Essentially, we are finding the largest entries in each of these vectors. \n",
    "2. If $R_{i_{\\mathrm{ref}}, j^*} > R_{i^*, j_{\\mathrm{ref}}}$ then, we compute the column corresponding to $j^*$ or if the opposite is true, we compute the row corresponding to $i^*$. Essentially, we are determining here whether we should pivot first based on the row or the column. \n",
    "3. If we pivoted based on column, we should now have computed a new residual column $R_{i,j^*} = M_{i,j^*} - \\sum_{k}^{r} u_{kj^*} v_{ki}$. Find the missing pivot index now by maximizing $R_{i,j^*}$ to get $i^*$. Or if we pivoted on the row, we will have a new residual row $R_{i^*,j} = M_{i^*,j} - \\sum_{k}^{r} u_{kj} v_{ki^*}$ and we maximize $R_{i^*,j}$ to get $j^*$. The idea here is to finish the pivot operation from step 2 by pivoting in the dimension that we have not considered yet. At each step, we are essentially trying to find the largest residual matrix element out of all the entries we have seen so far with the goal of getting as close as possible to the full pivoting algorithm without actually needing to calculate all the residual matrix elements. Why am I referring to the identification of the largest entries as \"pivoting\"? This is by analogy to various matrix operations like LU decomposition where the numerical stability is best when the largest entries are handled first. ACA can also be reframed as an iterative triangular decomposition of a matrix. Before moving on, note how we calculate the residual row (column) here by computing the original matrix row and then subtracting the row (column) of the current approximation. This is critical since it means that we're only compunting a single row or column of the original matrix. \n",
    "4. Next, just like in the full pivoting algorithm, assign: \n",
    "\n",
    "    \\begin{align}\n",
    "    u_{kj} &= R_{i^*,j} / R_{i^*,j^*} \\\\\n",
    "    v_{ki} &= R_{i,j^*}\n",
    "    \\end{align}\n",
    "5. And update the $R_{i_{\\mathrm{ref}}, j}$ row and $R_{i, j_{\\mathrm{ref}}}$ by subtracting the new terms of the approximation.\n",
    "6. Finally, if the magnitude of the $u_k v_k$ update is small enough, stop. Otherwise, return to step 1.\n",
    "\n",
    "I hope the key difference with the full pivoting algorithm is now clear -- we only need to compute a single row and a single column of the matrix for each iteration. If the algorithm converges in a number of iterations less than the rank of the matrix $M$, then we will have computed only a small subset of the entries. I've deliberately left some of the details vague in order to make the salient features of the algorithm more prominent. But, below, I'm going to go through a full implementation of the algorithm so hopefully that will clear up any of the details. \n",
    "\n",
    "### Implementing ACA+\n",
    "\n",
    "An implementation of ACA+ is below. I've put lots of comments throughout to help explain the details. But, if you don't want to dive into the details here, just skip over this section."
   ]
  },
  {
   "cell_type": "code",
   "execution_count": null,
   "id": "60268f89",
   "metadata": {},
   "outputs": [],
   "source": [
    "def ACA_plus(n_rows, n_cols, calc_rows, calc_cols, eps, max_iter=None, verbose=False):\n",
    "    \"\"\"\n",
    "    Run the ACA+ plus algorithm on a matrix implicitly defined by the\n",
    "    row and column computation functions passed as arguments.\n",
    "\n",
    "    :param n_rows:\n",
    "    :param n_cols:\n",
    "    :param calc_rows: A function that accepts two parameters (Istart, Iend)\n",
    "        specifying the first and last row desired and returns a numpy array\n",
    "        with shape (Iend-Istart, N_col) with the corresponding rows of the\n",
    "        input matrix\n",
    "    :param calc_cols: A function that accepts two parameters (Jstart, Jend)\n",
    "        specifying the first and last column desired and returns a numpy array\n",
    "        with shape (N_rows, Jend-Jstart) with the corresponding columns of the\n",
    "        input matrix\n",
    "    :param eps: The tolerance of the approximation. The convergence condition is\n",
    "        in terms of the difference in Frobenius norm between the target matrix\n",
    "        and the approximation\n",
    "    :param max_iter:\n",
    "    :param verbose: Should we print information at each iteration. Just included\n",
    "        for demonstration here.\n",
    "\n",
    "    :return U_ACA: The left-hand approximation matrix.\n",
    "    :return V_ACA: The right-hand approximation matrix.\n",
    "    \"\"\"\n",
    "\n",
    "    us = []  # The left vectors of the approximation\n",
    "    vs = []  # The right vectors of the approximation\n",
    "    prevIstar = []  # Previously used i^* pivots\n",
    "    prevJstar = []  # Previously used j^* pivots\n",
    "\n",
    "    # a quick helper function that will help find the largest entry in\n",
    "    # an array while excluding some list of `disallowed`  entries.\n",
    "    def argmax_not_in_list(arr, disallowed):\n",
    "        arg_sorted = arr.argsort()\n",
    "        max_idx = arg_sorted.shape[0] - 1\n",
    "        while True:\n",
    "            if arg_sorted[max_idx] in disallowed:\n",
    "                max_idx -= 1\n",
    "            else:\n",
    "                break\n",
    "        return arg_sorted[max_idx]\n",
    "\n",
    "    # A function that will return a contiguous block of rows of the\n",
    "    # residual matrix\n",
    "    def calc_residual_rows(Istart, Iend):\n",
    "        # First calculate the rows of the original matrix.\n",
    "        out = calc_rows(Istart, Iend).copy()\n",
    "        # Then subtract the current terms of the approximation\n",
    "        for i in range(len(us)):\n",
    "            out -= us[i][Istart:Iend][:, None] * vs[i][None, :]\n",
    "        return out\n",
    "\n",
    "    # See above, except this function calculates a block of columns.\n",
    "    def calc_residual_cols(Jstart, Jend):\n",
    "        out = calc_cols(Jstart, Jend).copy()\n",
    "        for i in range(len(us)):\n",
    "            out -= vs[i][Jstart:Jend][None, :] * us[i][:, None]\n",
    "        return out\n",
    "\n",
    "    # A function for finding a reference row and updating\n",
    "    # it with respect to the already constructed approximation.\n",
    "    def reset_reference_row(Iref):\n",
    "        # When a row gets used in the approximation, we will need to\n",
    "        # reset to use a different reference row. Just, increment!\n",
    "        while True:\n",
    "            Iref = (Iref + 3) % n_rows\n",
    "            Iref -= Iref % 3\n",
    "            if Iref not in prevIstar:\n",
    "                break\n",
    "\n",
    "        # Grab the \"row\" (actually three rows corresponding to the\n",
    "        # x, y, and z components for a single observation point)\n",
    "        return calc_residual_rows(Iref, Iref + 3), Iref\n",
    "\n",
    "    # Same function as above but for the reference column\n",
    "    def reset_reference_col(Jref):\n",
    "        while True:\n",
    "            Jref = (Jref + 3) % n_cols\n",
    "            Jref -= Jref % 3\n",
    "            if Jref not in prevJstar:\n",
    "                break\n",
    "\n",
    "        return calc_residual_cols(Jref, Jref + 3), Jref\n",
    "\n",
    "    # If we haven't converged before running for max_iter, we'll stop anyway.\n",
    "    if max_iter is None:\n",
    "        max_iter = np.min([n_rows, n_cols])\n",
    "    else:\n",
    "        max_iter = np.min([n_rows, n_cols, max_iter])\n",
    "\n",
    "    # Create a buffer for storing the R_{i^*,j} and R_{i, j^*}\n",
    "    RIstar = np.zeros(n_cols)\n",
    "    RJstar = np.zeros(n_rows)\n",
    "\n",
    "    # Choose our starting random reference row and column.\n",
    "    # These will get incremented by 3 inside reset_reference_row\n",
    "    # so pre-subtract that.\n",
    "    Iref = np.random.randint(n_rows) - 3\n",
    "    Jref = np.random.randint(n_cols) - 3\n",
    "    # And collect the corresponding blocks of rows/columns\n",
    "    RIref, Iref = reset_reference_row(Iref)\n",
    "    RJref, Jref = reset_reference_col(Jref)\n",
    "\n",
    "    for k in range(max_iter):\n",
    "        # These two lines find the column in RIref with the largest entry (step 1 above).\n",
    "        maxabsRIref = np.max(np.abs(RIref), axis=0)\n",
    "        Jstar = argmax_not_in_list(maxabsRIref, prevJstar)\n",
    "\n",
    "        # And these two find the row in RJref with the largest entry (step 1 above).\n",
    "        maxabsRJref = np.max(np.abs(RJref), axis=1)\n",
    "        Istar = argmax_not_in_list(maxabsRJref, prevIstar)\n",
    "\n",
    "        # Check if we should pivot first based on row or based on column (step 2 above)\n",
    "        Jstar_val = maxabsRIref[Jstar]\n",
    "        Istar_val = maxabsRJref[Istar]\n",
    "        if Istar_val > Jstar_val:\n",
    "            # If we pivot first on the row, then calculate the corresponding row\n",
    "            # of the residual matrix.\n",
    "            RIstar[:] = calc_residual_rows(Istar, Istar + 1)[0]\n",
    "\n",
    "            # Then find the largest entry in that row vector to identify which\n",
    "            # column to pivot on. (See step 3 above)\n",
    "            Jstar = argmax_not_in_list(np.abs(RIstar), prevJstar)\n",
    "\n",
    "            # Calculate the corresponding residual column!\n",
    "            RJstar[:] = calc_residual_cols(Jstar, Jstar + 1)[:, 0]\n",
    "        else:\n",
    "            # If we pivot first on the column, then calculate the corresponding column\n",
    "            # of the residual matrix.\n",
    "            RJstar[:] = calc_residual_cols(Jstar, Jstar + 1)[:, 0]\n",
    "\n",
    "            # Then find the largest entry in that row vector to identify which\n",
    "            # column to pivot on.  (See step 3 above)\n",
    "            Istar = argmax_not_in_list(np.abs(RJstar), prevIstar)\n",
    "\n",
    "            # Calculate the corresponding residual row!\n",
    "            RIstar[:] = calc_residual_rows(Istar, Istar + 1)[0]\n",
    "\n",
    "        # Record the pivot row and column so that we don't re-use them.\n",
    "        prevIstar.append(Istar)\n",
    "        prevJstar.append(Jstar)\n",
    "\n",
    "        # Add the new rank-1 outer product to the approximation (see step 4 above)\n",
    "        vs.append(RIstar / RIstar[Jstar])\n",
    "        us.append(RJstar.copy())\n",
    "\n",
    "        # How \"large\" was this update to the approximation?\n",
    "        step_size = np.sqrt(np.sum(us[-1] ** 2) * np.sum(vs[-1] ** 2))\n",
    "        if verbose:\n",
    "            print(\n",
    "                f\"pivot row={Istar:4d}, pivot col={Jstar:4d}, \"\n",
    "                f\"step size={step_size:1.3e}, \"\n",
    "                f\"tolerance={eps:1.3e}\"\n",
    "            )\n",
    "\n",
    "        # The convergence criteria will simply be whether the Frobenius norm of the\n",
    "        # step is smaller than the user provided tolerance.\n",
    "        if step_size < eps:\n",
    "            break\n",
    "\n",
    "        # We also break here if this is the last iteration to avoid wasting effort\n",
    "        # updating the reference row/column\n",
    "        if k == max_iter - 1:\n",
    "            break\n",
    "\n",
    "        # If we didn't converge, let's prep the reference residual row and\n",
    "        # column for the next iteration:\n",
    "\n",
    "        # If we pivoted on the reference row, then choose a new reference row.\n",
    "        # Remember that we are using a x,y,z vector \"row\" or\n",
    "        # set of 3 rows in an algebraic sense.\n",
    "        if Iref <= Istar < Iref + 3:\n",
    "            RIref, Iref = reset_reference_row(Iref)\n",
    "        else:\n",
    "            # If we didn't change the reference row of the residual matrix \"R\",\n",
    "            # update the row to account for the new components of the approximation.\n",
    "            RIref -= us[-1][Iref : Iref + 3][:, None] * vs[-1][None, :]\n",
    "\n",
    "        # If we pivoted on the reference column, then choose a new reference column.\n",
    "        # Remember that we are using a x,y,z vector \"column\" or\n",
    "        # set of 3 columns in an algebraic sense.\n",
    "        if Jref <= Jstar < Jref + 3:\n",
    "            RJref, Jref = reset_reference_col(Jref)\n",
    "        else:\n",
    "            # If we didn't change the reference column of the residual matrix \"R\",\n",
    "            # update the column to account for the new components of the approximation.\n",
    "            RJref -= vs[-1][Jref : Jref + 3][None, :] * us[-1][:, None]\n",
    "\n",
    "    # Return the left and right approximation matrices.\n",
    "    # The approximate is such that:\n",
    "    # M ~ U_ACA.dot(V_ACA)\n",
    "    U_ACA = np.array(us).T\n",
    "    V_ACA = np.array(vs)\n",
    "\n",
    "    return U_ACA, V_ACA"
   ]
  },
  {
   "cell_type": "markdown",
   "id": "0e8e1c52",
   "metadata": {},
   "source": [
    "## ACA+ is accurate and efficient"
   ]
  },
  {
   "cell_type": "markdown",
   "id": "8ac07835",
   "metadata": {},
   "source": [
    "And let's demonstrate the algorithm on the same block we used to demonstrate the SVD compression method. One note here: I set the error tolerance to `eps / 50.0` because the error tolerance from the ACA algorithm is imprecise. The factor of 50 is large enough to be very confident that the error will be less than or equal to `eps`. We'll see in the next section how to get a tighter tolerance."
   ]
  },
  {
   "cell_type": "code",
   "execution_count": null,
   "id": "1dc558c2",
   "metadata": {},
   "outputs": [],
   "source": [
    "U_ACA, V_ACA = ACA_plus(\n",
    "    block.shape[0],\n",
    "    block.shape[1],\n",
    "    lambda Istart, Iend: block[Istart:Iend, :],\n",
    "    lambda Jstart, Jend: block[:, Jstart:Jend],\n",
    "    eps / 50.0,\n",
    "    verbose=True,\n",
    ")"
   ]
  },
  {
   "cell_type": "code",
   "execution_count": null,
   "id": "78955719",
   "metadata": {},
   "outputs": [],
   "source": [
    "U_ACA.shape"
   ]
  },
  {
   "cell_type": "markdown",
   "id": "d2d7b0e9",
   "metadata": {},
   "source": [
    "Clearly, the process is converging. We've produced an accurate approximation with a rank of 72. You can see the step sizes are converging at almost the rate we would expect from the graph of singular value magnitudes above. As we'll see below, the ACA+ algorithm is achieving similar levels of accuracy to the SVD with only about 50% more rows and columns.\n",
    "\n",
    "First, let's check the accuracy of this matrix approximation by looking at the error from a matrix-vector product."
   ]
  },
  {
   "cell_type": "code",
   "execution_count": null,
   "id": "eb056d7d",
   "metadata": {},
   "outputs": [],
   "source": [
    "y_aca = U_ACA.dot(V_ACA.dot(x))"
   ]
  },
  {
   "cell_type": "code",
   "execution_count": null,
   "id": "b558f1e5",
   "metadata": {},
   "outputs": [],
   "source": [
    "abs_diff = np.abs(y_aca - y_true)\n",
    "l2_err = np.sqrt(np.mean(abs_diff ** 2)) / l2_true\n",
    "l1_err = np.mean(abs_diff) / l1_true\n",
    "linf_err = np.max(abs_diff) / linf_true\n",
    "frob_err = np.sqrt(np.sum((U_ACA.dot(V_ACA) - block) ** 2))\n",
    "print(f\"L1(UVx-y)        = {l1_err}\")\n",
    "print(f\"L2(UVx-y)        = {l2_err}\")\n",
    "print(f\"Linf(UVx-y)      = {linf_err}\")\n",
    "print(f\"frob error(M-UV) = {frob_err}\")\n",
    "\n",
    "err_df[\"ACA\"] = [U_ACA.shape[1], l2_err, l1_err, linf_err, frob_err]"
   ]
  },
  {
   "cell_type": "markdown",
   "id": "fe6b0121",
   "metadata": {},
   "source": [
    "Looking great! We specified the tolerance as `eps` for both ACA+ and for the SVD. ACA overshot a little and is giving accuracy substantially better than the SVD. This is because of the lower tolerance we passed. Due to the inherent randomness in the algorithm, sometimes ACA+ won't overshoot quite as much. Either way, for a confident tolerance with ACA+ we need to overshoot a little bit because ACA+ is using only local information from the current iteration to decide when to stop whereas the SVD is able to be absolutely certain about the singular values."
   ]
  },
  {
   "cell_type": "code",
   "execution_count": null,
   "id": "84739ca6",
   "metadata": {},
   "outputs": [],
   "source": [
    "terms = []\n",
    "l1_mvp_errs = []\n",
    "frob_errs = []\n",
    "for i in range(500):\n",
    "    U, V = ACA_plus(\n",
    "        block.shape[0],\n",
    "        block.shape[1],\n",
    "        lambda Istart, Iend: block[Istart:Iend, :],\n",
    "        lambda Jstart, Jend: block[:, Jstart:Jend],\n",
    "        eps / 50.0,\n",
    "        verbose=False,\n",
    "    )\n",
    "    terms.append(U.shape[1])\n",
    "    y_aca = U.dot(V.dot(x))\n",
    "    l1_mvp_errs.append(np.mean(np.abs(y_aca - y_true)) / l1_true)\n",
    "    frob_errs.append(np.sqrt(np.sum((U.dot(V) - block) ** 2)))"
   ]
  },
  {
   "cell_type": "markdown",
   "id": "8616bac8",
   "metadata": {},
   "source": [
    "Before moving on, I wanted to demonstrate that the randomness inherent in the reference row/column selection in the ACA+ algorithm is not affecting the end result. See below for histograms showing the distribution of the number of approximation terms and the $L^1$ matrix-vector error of the approximate matrix. As you can see, ACA+ is producing consistent results within a small range of rank. The matrix-vector error is also consistently and acceptably good. The Frobenius error is also 5-50x below the tolerance specified."
   ]
  },
  {
   "cell_type": "code",
   "execution_count": null,
   "id": "1075b125",
   "metadata": {},
   "outputs": [],
   "source": [
    "plt.figure(figsize=(13, 4))\n",
    "plt.subplot(1, 3, 1)\n",
    "plt.title(\"Approximation rank\")\n",
    "plt.hist(terms, bins=np.arange(70, 85), color=\"k\")\n",
    "plt.xlabel(\"rank of approximation\")\n",
    "plt.subplot(1, 3, 2)\n",
    "plt.title(\"$L^1$ matrix-vector error\")\n",
    "plt.hist(np.log10(l1_mvp_errs), bins=15, color=\"k\")\n",
    "plt.xlabel(\"$\\log_{10}(\\|E\\|^1)$\")\n",
    "plt.subplot(1, 3, 3)\n",
    "plt.title(\"Frobenius Error\")\n",
    "plt.hist(np.log10(frob_errs), bins=15, color=\"k\")\n",
    "plt.gca().axvline(np.log10(eps), color=\"r\")\n",
    "plt.xlabel(\"$\\|E\\|_{F})$\")\n",
    "plt.show()"
   ]
  },
  {
   "cell_type": "markdown",
   "id": "670f63c8",
   "metadata": {},
   "source": [
    "## SVD Recompression\n",
    "\n",
    "In some sense, the approximation we built with ACA is too good. Most of the time, we're getting Frobenius errors much lower than we asked for. But there's some inconsistency in the output error. This inconsistency is why we asked for `eps/50.0` as the convergence criterion. However, we would ideally want an algorithm that *juuust barely* meets the tolerance condition. Unfortunately that's quite difficult when the algorithm is stuck with limited information about the matrix under consideration. So, in this final section I'll demonstrate a simple post-processing method that will reduce the size/cost of the approximation to more precisely fit the requested tolerance.\n",
    "\n",
    "The basic idea is quite simple: just do another compression of the ACA approximation matrices with the singular value decomposition. We wanted to avoid doing an SVD on the original full-size matrix block, but now that we have constructed a reduced expression, it can be worthwhile to do the extra effort to reduce it even further with an exact SVD.\n",
    "\n",
    "How do we do that? I've already built an approximation that looks like:\n",
    "\\begin{equation}\n",
    "M \\approx UV^T\n",
    "\\end{equation}\n",
    "Basically $V^T$ maps from a high-dimensional space to a low-dimensional space and then $U$ maps back from the low-dimensional space to the high-dimensional space. So, let's first extract the low-dimensional operation. To do that, perform a QR decomposition on both $U$ and $V$. Then we have:\n",
    "\\begin{equation}\n",
    "UV^T = Q_UR_UR_V^TQ_V^T\n",
    "\\end{equation}\n",
    "One way of thinking about this is that $Q_V^T$ and $Q_U$ are just rotations now and $R_UR_V^T$ is a square matrix in the low-dimensional subspace that is performing the non-rotational action of $M$. \n",
    "\n",
    "Now, take the SVD of that small action matrix:\n",
    "\\begin{equation}\n",
    "R_UR_V^T = W \\Sigma Z^T\n",
    "\\end{equation}\n",
    "\n",
    "And we'll filter on the singular values in $\\Sigma$ to reduce the rank of the matrix just like we did before with the full SVD. That's it! To reconstruct the approximation, we just need:\n",
    "\\begin{align}\n",
    "\\overline{U} &= Q_UW\\Sigma \\\\\n",
    "\\overline{V} &= ZQ_V \\\\\n",
    "M &\\approx \\overline{U}\\overline{V}^T\n",
    "\\end{align}\n",
    "\n",
    "The transformation into code is super straightforward!"
   ]
  },
  {
   "cell_type": "code",
   "execution_count": null,
   "id": "41b756f9",
   "metadata": {},
   "outputs": [],
   "source": [
    "QU, RU = np.linalg.qr(U_ACA)\n",
    "QV, RV = np.linalg.qr(V_ACA.T)\n",
    "W, SIG, Z = np.linalg.svd(RU.dot(RV.T))"
   ]
  },
  {
   "cell_type": "code",
   "execution_count": null,
   "id": "4d0e121b",
   "metadata": {},
   "outputs": [],
   "source": [
    "# Reverse the list of singular values and sum them to compute the\n",
    "# error from each level of truncation.\n",
    "frob_K = np.sqrt(np.cumsum(SIG[::-1] ** 2))[::-1]\n",
    "r = np.argmax(frob_K < eps)\n",
    "r\n",
    "print(f\"Recompressing from rank {SIG.shape[0]} to rank {r}\")"
   ]
  },
  {
   "cell_type": "code",
   "execution_count": null,
   "id": "c952d2ed",
   "metadata": {},
   "outputs": [],
   "source": [
    "U_ACA2 = QU.dot(W[:, :r] * SIG[:r])\n",
    "V_ACA2 = Z[:r, :].dot(QV.T)"
   ]
  },
  {
   "cell_type": "markdown",
   "id": "9c50ac6a",
   "metadata": {},
   "source": [
    "Just seven lines of code to recompress by almost a factor of 2! This will make later matrix-vector products almost twice as fast."
   ]
  },
  {
   "cell_type": "code",
   "execution_count": null,
   "id": "e215e17d",
   "metadata": {},
   "outputs": [],
   "source": [
    "y_aca_2 = U_ACA2.dot(V_ACA2.dot(x))"
   ]
  },
  {
   "cell_type": "code",
   "execution_count": null,
   "id": "b29faedd",
   "metadata": {},
   "outputs": [],
   "source": [
    "abs_diff = np.abs(y_aca_2 - y_true)\n",
    "l2_err = np.sqrt(np.mean(abs_diff ** 2)) / l2_true\n",
    "l1_err = np.mean(abs_diff) / l1_true\n",
    "linf_err = np.max(abs_diff) / linf_true\n",
    "frob_err = np.sqrt(np.sum((U_ACA2.dot(V_ACA2) - block) ** 2))\n",
    "print(f\"L1(UVx-y)        = {l1_err}\")\n",
    "print(f\"L2(UVx-y)        = {l2_err}\")\n",
    "print(f\"Linf(UVx-y)      = {linf_err}\")\n",
    "print(f\"frob error(M-UV) = {frob_err}\")\n",
    "\n",
    "err_df[\"Recompress\"] = [U_ACA2.shape[1], l2_err, l1_err, linf_err, frob_err]"
   ]
  },
  {
   "cell_type": "markdown",
   "id": "859f6e44",
   "metadata": {},
   "source": [
    "As you can see in the table below, the amazing thing here is that ACA and then SVD recompression can recover a matrix approximation that is almost exactly as good as the compression that is computed using a direct SVD. The error in the table between the \"SVD\" and \"Recompress\" is shockingly close."
   ]
  },
  {
   "cell_type": "code",
   "execution_count": null,
   "id": "1c3d8bd4",
   "metadata": {},
   "outputs": [],
   "source": [
    "err_df.T"
   ]
  },
  {
   "cell_type": "markdown",
   "id": "f7a60054",
   "metadata": {},
   "source": [
    "And to finish this section, I'll repeat this process many times to demonstrate that the randomness of the ACA+ does not affect the ability of the SVD recompression to produce almost exactly the same approximation  every time!"
   ]
  },
  {
   "cell_type": "code",
   "execution_count": null,
   "id": "1470a9db",
   "metadata": {},
   "outputs": [],
   "source": [
    "def SVD_recompress(U_ACA, V_ACA, eps):\n",
    "    \"\"\"\n",
    "    Recompress an ACA matrix approximation via SVD.\n",
    "\n",
    "    :param U_ACA: The left-hand approximation matrix.\n",
    "    :param V_ACA: The right-hand approximation matrix.\n",
    "    :param eps: The tolerance of the approximation. The convergence condition is\n",
    "        in terms of the difference in Frobenius norm between the target matrix\n",
    "        and the approximation.\n",
    "\n",
    "    :return U_SVD: The SVD recompressed left-hand approximation matrix.\n",
    "    :return V_SVD: The SVD recompressed right-hand approximation matrix.\n",
    "    \"\"\"\n",
    "    UQ, UR = np.linalg.qr(U_ACA)\n",
    "    VQ, VR = np.linalg.qr(V_ACA.T)\n",
    "    W, SIG, Z = np.linalg.svd(UR.dot(VR.T))\n",
    "\n",
    "    frob_K = np.sqrt(np.cumsum(SIG[::-1] ** 2))[::-1]\n",
    "    r = np.argmax(frob_K < eps)\n",
    "\n",
    "    U = UQ.dot(W[:, :r] * SIG[:r])\n",
    "    V = Z[:r, :].dot(VQ.T)\n",
    "    return U, V"
   ]
  },
  {
   "cell_type": "code",
   "execution_count": null,
   "id": "943067e1",
   "metadata": {},
   "outputs": [],
   "source": [
    "terms = []\n",
    "l1_mvp_errs = []\n",
    "frob_errs = []\n",
    "for i in range(50):\n",
    "    U, V = ACA_plus(\n",
    "        block.shape[0],\n",
    "        block.shape[1],\n",
    "        lambda Istart, Iend: block[Istart:Iend, :],\n",
    "        lambda Jstart, Jend: block[:, Jstart:Jend],\n",
    "        eps / 50.0,\n",
    "        verbose=False,\n",
    "    )\n",
    "    U, V = SVD_recompress(U, V, eps)\n",
    "    terms.append(U.shape[1])\n",
    "    y_aca = U.dot(V.dot(x))\n",
    "    l1_mvp_errs.append(np.mean(np.abs(y_aca - y_true)) / l1_true)\n",
    "    frob_errs.append(np.sqrt(np.sum((U.dot(V) - block) ** 2)))"
   ]
  },
  {
   "cell_type": "code",
   "execution_count": null,
   "id": "bb5ad9ce",
   "metadata": {},
   "outputs": [],
   "source": [
    "plt.figure(figsize=(10, 4))\n",
    "plt.subplot(1, 2, 1)\n",
    "plt.title(\"Approximation rank\")\n",
    "plt.hist(terms, bins=np.arange(35, 45), color=\"k\")\n",
    "plt.xlabel(\"rank of approximation\")\n",
    "plt.subplot(1, 2, 2)\n",
    "plt.title(\"Frobenius Error\")\n",
    "plt.hist(\n",
    "    np.log10(frob_errs),\n",
    "    bins=np.linspace(np.log10(eps * 0.5), np.log10(eps * 1.5), 11),\n",
    "    color=\"k\",\n",
    ")\n",
    "plt.gca().axvline(np.log10(eps), color=\"r\")\n",
    "plt.xlabel(\"$\\|E\\|_{F})$\")\n",
    "plt.show()"
   ]
  },
  {
   "cell_type": "markdown",
   "id": "09d2a209",
   "metadata": {},
   "source": [
    "I think it's worth stopping for a moment to appreciate how cool math can be. We started from an algorithm that involves both some randomness and a severe lack of information on the matrix being approximated. And from that algorithm, we've built an almost perfectly consistent algorithm for producing a precise approximate matrix. In the SVD recompressed results, there's exactly zero variation in the rank and almost zero variation in the error. And the error is just barely on the correct side of the tolerance!"
   ]
  }
 ],
 "metadata": {
  "jupytext": {
   "formats": "ipynb,md:myst"
  },
  "kernelspec": {
   "display_name": "Python 3",
   "language": "python",
   "name": "python3"
  }
 },
 "nbformat": 4,
 "nbformat_minor": 5
}
