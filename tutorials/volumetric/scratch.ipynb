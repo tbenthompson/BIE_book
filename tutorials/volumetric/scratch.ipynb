{
 "cells": [
  {
   "cell_type": "code",
   "execution_count": 1,
   "id": "086ddfbf",
   "metadata": {},
   "outputs": [],
   "source": [
    "from sage.all import *"
   ]
  },
  {
   "cell_type": "markdown",
   "id": "26995435",
   "metadata": {},
   "source": [
    "#### Derivatives of the fundamental solution\n",
    "\n",
    "OBVIOUSLY, THE DIVERGENCE OF A STRESS IS 0!!"
   ]
  },
  {
   "cell_type": "code",
   "execution_count": 3,
   "id": "e93d7c7c",
   "metadata": {},
   "outputs": [],
   "source": [
    "xo,yo,xs,ys = var('xo,yo,xs,ys')"
   ]
  },
  {
   "cell_type": "code",
   "execution_count": 4,
   "id": "68f11831",
   "metadata": {},
   "outputs": [],
   "source": [
    "r2 = (xo - xs) ** 2 + (yo - ys) ** 2"
   ]
  },
  {
   "cell_type": "code",
   "execution_count": 5,
   "id": "6eed4801",
   "metadata": {},
   "outputs": [],
   "source": [
    "G = (1 / (4 * pi)) * log(r2)"
   ]
  },
  {
   "cell_type": "code",
   "execution_count": 6,
   "id": "6f2640b8",
   "metadata": {},
   "outputs": [],
   "source": [
    "dGxo = derivative(G, xo)\n",
    "dGyo = derivative(G, yo)"
   ]
  },
  {
   "cell_type": "code",
   "execution_count": 7,
   "id": "a52253e6",
   "metadata": {},
   "outputs": [],
   "source": [
    "nx, ny = var('nx, ny')"
   ]
  },
  {
   "cell_type": "code",
   "execution_count": 8,
   "id": "87374f71",
   "metadata": {},
   "outputs": [],
   "source": [
    "T = dGxo * nx + dGyo * ny"
   ]
  },
  {
   "cell_type": "code",
   "execution_count": 9,
   "id": "751831be",
   "metadata": {},
   "outputs": [],
   "source": [
    "dTxo = derivative(T, xo)\n",
    "dTyo = derivative(T, yo)"
   ]
  },
  {
   "cell_type": "code",
   "execution_count": 10,
   "id": "c5464b60",
   "metadata": {},
   "outputs": [],
   "source": [
    "Abar = ((xo - xs) * nx + (yo - ys) * ny)"
   ]
  },
  {
   "cell_type": "code",
   "execution_count": 11,
   "id": "6a08d5ae",
   "metadata": {},
   "outputs": [],
   "source": [
    "sigma_xz = -(xo - xs) * Abar / (pi * (r2 ** 2)) + (nx / (2 * pi * r2))"
   ]
  },
  {
   "cell_type": "code",
   "execution_count": 12,
   "id": "2676b228",
   "metadata": {},
   "outputs": [
    {
     "data": {
      "text/plain": [
       "0"
      ]
     },
     "execution_count": 12,
     "metadata": {},
     "output_type": "execute_result"
    }
   ],
   "source": [
    "(sigma_xz - dTxo).full_simplify()"
   ]
  },
  {
   "cell_type": "code",
   "execution_count": 13,
   "id": "2e3b9ab4",
   "metadata": {},
   "outputs": [],
   "source": [
    "sigma_yz = -(yo - ys) * Abar / (pi * (r2 ** 2)) + (ny / (2 * pi * r2))"
   ]
  },
  {
   "cell_type": "code",
   "execution_count": 14,
   "id": "accb8f68",
   "metadata": {},
   "outputs": [
    {
     "data": {
      "text/plain": [
       "0"
      ]
     },
     "execution_count": 14,
     "metadata": {},
     "output_type": "execute_result"
    }
   ],
   "source": [
    "(sigma_yz - dTyo).full_simplify()"
   ]
  },
  {
   "cell_type": "code",
   "execution_count": 15,
   "id": "a9d1cd57",
   "metadata": {},
   "outputs": [],
   "source": [
    "dsxzdxo = derivative(sigma_xz, xo)\n",
    "dsyzdyo = derivative(sigma_yz, yo)"
   ]
  },
  {
   "cell_type": "code",
   "execution_count": 16,
   "id": "ddb20265",
   "metadata": {},
   "outputs": [],
   "source": [
    "result = (dsxzdxo + dsyzdyo)"
   ]
  },
  {
   "cell_type": "code",
   "execution_count": 17,
   "id": "71e2643e",
   "metadata": {},
   "outputs": [
    {
     "data": {
      "text/latex": [
       "$\\displaystyle - \\frac{2 nx \\left(xo - xs\\right)}{\\pi \\left(\\left(xo - xs\\right)^{2} + \\left(yo - ys\\right)^{2}\\right)^{2}} - \\frac{2 ny \\left(yo - ys\\right)}{\\pi \\left(\\left(xo - xs\\right)^{2} + \\left(yo - ys\\right)^{2}\\right)^{2}} + \\frac{4 \\left(xo - xs\\right)^{2} \\left(nx \\left(xo - xs\\right) + ny \\left(yo - ys\\right)\\right)}{\\pi \\left(\\left(xo - xs\\right)^{2} + \\left(yo - ys\\right)^{2}\\right)^{3}} + \\frac{4 \\left(yo - ys\\right)^{2} \\left(nx \\left(xo - xs\\right) + ny \\left(yo - ys\\right)\\right)}{\\pi \\left(\\left(xo - xs\\right)^{2} + \\left(yo - ys\\right)^{2}\\right)^{3}} - \\frac{2 \\left(nx \\left(xo - xs\\right) + ny \\left(yo - ys\\right)\\right)}{\\pi \\left(\\left(xo - xs\\right)^{2} + \\left(yo - ys\\right)^{2}\\right)^{2}}$"
      ],
      "text/plain": [
       "-2*nx*(xo - xs)/(pi*((xo - xs)**2 + (yo - ys)**2)**2) - 2*ny*(yo - ys)/(pi*((xo - xs)**2 + (yo - ys)**2)**2) + 4*(xo - xs)**2*(nx*(xo - xs) + ny*(yo - ys))/(pi*((xo - xs)**2 + (yo - ys)**2)**3) + 4*(yo - ys)**2*(nx*(xo - xs) + ny*(yo - ys))/(pi*((xo - xs)**2 + (yo - ys)**2)**3) - 2*(nx*(xo - xs) + ny*(yo - ys))/(pi*((xo - xs)**2 + (yo - ys)**2)**2)"
      ]
     },
     "execution_count": 17,
     "metadata": {},
     "output_type": "execute_result"
    }
   ],
   "source": [
    "result._sympy_()"
   ]
  },
  {
   "cell_type": "code",
   "execution_count": 18,
   "id": "0a3dfc83",
   "metadata": {},
   "outputs": [
    {
     "data": {
      "text/plain": [
       "nx*(xo - xs) + ny*(yo - ys)"
      ]
     },
     "execution_count": 18,
     "metadata": {},
     "output_type": "execute_result"
    }
   ],
   "source": [
    "Abar"
   ]
  },
  {
   "cell_type": "code",
   "execution_count": 19,
   "id": "962eca2e",
   "metadata": {},
   "outputs": [],
   "source": [
    "v2 = (4 * Abar) / (pi * r2 ** 2) * (\n",
    "    1\n",
    "    - 1\n",
    ")"
   ]
  },
  {
   "cell_type": "code",
   "execution_count": 20,
   "id": "63eb89cf",
   "metadata": {},
   "outputs": [
    {
     "data": {
      "text/plain": [
       "0"
      ]
     },
     "execution_count": 20,
     "metadata": {},
     "output_type": "execute_result"
    }
   ],
   "source": [
    "(v2 - result).expand().full_simplify()"
   ]
  },
  {
   "cell_type": "code",
   "execution_count": 21,
   "id": "c761769c",
   "metadata": {},
   "outputs": [
    {
     "data": {
      "text/plain": [
       "0"
      ]
     },
     "execution_count": 21,
     "metadata": {},
     "output_type": "execute_result"
    }
   ],
   "source": [
    "result.full_simplify()"
   ]
  },
  {
   "cell_type": "markdown",
   "id": "f4e77c04",
   "metadata": {},
   "source": [
    "#### Infinite integration"
   ]
  },
  {
   "cell_type": "code",
   "execution_count": 36,
   "id": "a003219d",
   "metadata": {},
   "outputs": [],
   "source": [
    "T00 = T.subs(xo=0, yo=-1, ys=0, nx=0, ny=1)"
   ]
  },
  {
   "cell_type": "code",
   "execution_count": 37,
   "id": "e814633f",
   "metadata": {},
   "outputs": [
    {
     "data": {
      "text/plain": [
       "-1/2/(pi*(xs^2 + 1))"
      ]
     },
     "execution_count": 37,
     "metadata": {},
     "output_type": "execute_result"
    }
   ],
   "source": [
    "T00"
   ]
  },
  {
   "cell_type": "code",
   "execution_count": 38,
   "id": "b8640d71",
   "metadata": {},
   "outputs": [],
   "source": [
    "M = var('M')\n",
    "assume(M > 0)\n",
    "I = integrate(T00, xs, 0, M)"
   ]
  },
  {
   "cell_type": "code",
   "execution_count": 40,
   "id": "d6c4e109",
   "metadata": {},
   "outputs": [
    {
     "data": {
      "text/plain": [
       "-1/2*arctan(M)/pi"
      ]
     },
     "execution_count": 40,
     "metadata": {},
     "output_type": "execute_result"
    }
   ],
   "source": [
    "I"
   ]
  },
  {
   "cell_type": "code",
   "execution_count": 39,
   "id": "3fc57a32",
   "metadata": {},
   "outputs": [
    {
     "data": {
      "text/plain": [
       "-1/4"
      ]
     },
     "execution_count": 39,
     "metadata": {},
     "output_type": "execute_result"
    }
   ],
   "source": [
    "limit(I, M=oo)"
   ]
  },
  {
   "cell_type": "code",
   "execution_count": null,
   "id": "c6e5e0d7",
   "metadata": {},
   "outputs": [],
   "source": []
  }
 ],
 "metadata": {
  "kernelspec": {
   "display_name": "Python 3",
   "language": "python",
   "name": "python3"
  },
  "language_info": {
   "codemirror_mode": {
    "name": "ipython",
    "version": 3
   },
   "file_extension": ".py",
   "mimetype": "text/x-python",
   "name": "python",
   "nbconvert_exporter": "python",
   "pygments_lexer": "ipython3",
   "version": "3.9.5"
  },
  "widgets": {
   "application/vnd.jupyter.widget-state+json": {
    "state": {},
    "version_major": 2,
    "version_minor": 0
   }
  }
 },
 "nbformat": 4,
 "nbformat_minor": 5
}
