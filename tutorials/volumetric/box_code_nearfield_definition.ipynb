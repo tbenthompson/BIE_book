{
 "cells": [
  {
   "cell_type": "markdown",
   "id": "8b20d350",
   "metadata": {},
   "source": [
    "One approach for defining the nearfield/farfield boundary is to set an error threshold for a low order quadrature rule. If the error incurred at a point by that quadrature rule is above the threshold, then the point is part of the nearfield. If the error is below the threshold, then the point is farfield.\n",
    "\n",
    "Here, I determine the near/far boundary based on a 7th order Clenshaw-Curtis quadrature rule.\n",
    "\n",
    "This is directly relevant for the box code implementation."
   ]
  },
  {
   "cell_type": "code",
   "execution_count": null,
   "id": "c577c985",
   "metadata": {},
   "outputs": [],
   "source": [
    "import numpy as np\n",
    "import matplotlib.pyplot as plt\n",
    "%config InlineBackend.figure_format='retina'"
   ]
  },
  {
   "cell_type": "code",
   "execution_count": null,
   "id": "c58019ad",
   "metadata": {},
   "outputs": [],
   "source": [
    "import quadpy\n",
    "\n",
    "def clencurt(n1):\n",
    "    \"\"\"Computes the Clenshaw Curtis quadrature nodes and weights\"\"\"\n",
    "    C = quadpy.c1.clenshaw_curtis(n1)\n",
    "    return (C.points, C.weights)\n",
    "\n",
    "\n",
    "# TODO: is there a quadpy function that does tensor products?\n",
    "def tensor_product(x, w):\n",
    "    rect_x, rect_y = np.meshgrid(x, x)\n",
    "    rect_pts = np.array([rect_x.flatten(), rect_y.flatten()]).T\n",
    "    rect_w = np.outer(w, w).flatten()\n",
    "    return rect_pts, rect_w\n",
    "\n",
    "\n",
    "def clencurt_2d(n):\n",
    "    return tensor_product(*clencurt(n))"
   ]
  },
  {
   "cell_type": "code",
   "execution_count": null,
   "id": "6629960c",
   "metadata": {},
   "outputs": [],
   "source": [
    "def fundamental_soln_matrix(obs_pts, src_pts):\n",
    "    dx = obs_pts[:, None, 0] - src_pts[None, :, 0]\n",
    "    dy = obs_pts[:, None, 1] - src_pts[None, :, 1]\n",
    "    r2 = (dx ** 2) + (dy ** 2)\n",
    "    r = np.sqrt(r2)\n",
    "    G = (1.0 / (2 * np.pi)) * np.log(r)\n",
    "    return G[:, None, :]"
   ]
  },
  {
   "cell_type": "code",
   "execution_count": null,
   "id": "8d8b9251",
   "metadata": {},
   "outputs": [],
   "source": [
    "nobs = 300\n",
    "zoomx = np.array([-50, 50])\n",
    "zoomy = np.array([-50, 50])\n",
    "xs = np.linspace(*zoomx, nobs)\n",
    "ys = np.linspace(*zoomy, nobs)\n",
    "obsx, obsy = np.meshgrid(xs, ys)\n",
    "obsx_flat = obsx.flatten()\n",
    "obsy_flat = obsy.flatten()"
   ]
  },
  {
   "cell_type": "code",
   "execution_count": null,
   "id": "eca568b9",
   "metadata": {},
   "outputs": [],
   "source": [
    "q1 = clencurt_2d(7)\n",
    "G1 = fundamental_soln_matrix(np.array([obsx_flat, obsy_flat]).T.copy(), q1[0])[:, 0, :] * q1[1][None,:]\n",
    "S1 = np.sum(G1, axis=1).reshape(obsx.shape)\n",
    "\n",
    "q2 = clencurt_2d(75)\n",
    "G2 = fundamental_soln_matrix(np.array([obsx_flat, obsy_flat]).T.copy(), q2[0])[:, 0, :] * q2[1][None,:]\n",
    "S2 = np.sum(G2, axis=1).reshape(obsy.shape)"
   ]
  },
  {
   "cell_type": "code",
   "execution_count": null,
   "id": "ea8236bd",
   "metadata": {},
   "outputs": [],
   "source": [
    "plt.figure(figsize=(12,4))\n",
    "plt.subplot(1,3,1)\n",
    "levels = np.linspace(np.min(S2), np.max(S2), 7)\n",
    "cntf = plt.contourf(obsx, obsy, S1, levels=levels, extend=\"both\")\n",
    "plt.contour(\n",
    "    obsx,\n",
    "    obsy,\n",
    "    S1,\n",
    "    colors=\"k\",\n",
    "    linestyles=\"-\",\n",
    "    linewidths=0.5,\n",
    "    levels=levels,\n",
    "    extend=\"both\",\n",
    ")\n",
    "plt.colorbar(cntf)\n",
    "plt.xlim(zoomx)\n",
    "plt.ylim(zoomy)\n",
    "\n",
    "plt.subplot(1,3,2)\n",
    "levels = np.linspace(np.min(S2), np.max(S2), 7)\n",
    "cntf = plt.contourf(obsx, obsy, S2, levels=levels, extend=\"both\")\n",
    "plt.contour(\n",
    "    obsx,\n",
    "    obsy,\n",
    "    S2,\n",
    "    colors=\"k\",\n",
    "    linestyles=\"-\",\n",
    "    linewidths=0.5,\n",
    "    levels=levels,\n",
    "    extend=\"both\",\n",
    ")\n",
    "plt.colorbar(cntf)\n",
    "plt.xlim(zoomx)\n",
    "plt.ylim(zoomy)\n",
    "\n",
    "\n",
    "\n",
    "plt.subplot(1,3,3)\n",
    "err = np.log10(np.abs(S2-S1))\n",
    "levels = np.linspace(-16, -3, 14)\n",
    "cntf = plt.contourf(obsx, obsy, err, levels=levels, extend=\"both\")\n",
    "plt.contour(\n",
    "    obsx,\n",
    "    obsy,\n",
    "    err,\n",
    "    colors=\"k\",\n",
    "    linestyles=\"-\",\n",
    "    linewidths=0.5,\n",
    "    levels=levels,\n",
    "    extend=\"both\",\n",
    ")\n",
    "plt.colorbar(cntf)\n",
    "plt.xlim(zoomx)\n",
    "plt.ylim(zoomy)"
   ]
  }
 ],
 "metadata": {
  "jupytext": {
   "formats": "ipynb,md:myst"
  },
  "kernelspec": {
   "display_name": "Python 3",
   "language": "python",
   "name": "python3"
  }
 },
 "nbformat": 4,
 "nbformat_minor": 5
}
