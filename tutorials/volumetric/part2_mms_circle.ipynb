{
 "cells": [
  {
   "cell_type": "markdown",
   "id": "80f3ec7c",
   "metadata": {},
   "source": [
    "# [DRAFT] Body forces"
   ]
  },
  {
   "cell_type": "markdown",
   "id": "06da6a6b",
   "metadata": {},
   "source": [
    "## TODO:\n",
    "\n",
    "* The remaining fundamental issue is the singularity in the volume integral. Set up a way of testing the accuracy of this integral.\n",
    "* There's something preventing convergence in the L2 and Linf norms that isn't preventing convergence in the L1 norm. That suggests that the problem is some kind of outlier. The problem might be the scalloping in the QBX zone!!!\n",
    "* Fix the scalloping issue!\n",
    "* Measure the error just inside r < 0.99.\n",
    "* Getting an exterior solution would be nice!"
   ]
  },
  {
   "cell_type": "markdown",
   "id": "7ccc3fac",
   "metadata": {},
   "source": [
    "For the Poisson equation with Dirichlet boundary conditions:\n",
    "\\begin{split}\n",
    "\\nabla u &= f  ~~ \\textrm{in} ~~ \\Omega\\\\\n",
    "u &= g ~~ \\textrm{on} ~~ \\partial \\Omega\n",
    "\\end{split}\n",
    "`u_particular` is the integral:\n",
    "\n",
    "\\begin{equation}\n",
    "v(x) = \\int_{\\Omega} G(x,y) f(y) dy\n",
    "\\end{equation}\n",
    "\n",
    "which satisfies equation 1 but not 2.\n",
    "\n",
    "Then, compute homogeneous solution, `u_homog` with appropriate boundary conditions:\n",
    "\n",
    "\\begin{split}\n",
    "\\nabla u^H &= 0 ~~ \\textrm{in} ~~ \\Omega \\\\\n",
    "u^H &= g - v|_{\\partial \\Omega}  ~~ \\textrm{on} ~~ \\partial \\Omega\n",
    "\\end{split}\n",
    "\n",
    "So, first, I need to compute $g - v|_{\\partial \\Omega}$"
   ]
  },
  {
   "cell_type": "markdown",
   "id": "98741387",
   "metadata": {},
   "source": [
    "## Setup"
   ]
  },
  {
   "cell_type": "code",
   "execution_count": null,
   "id": "f552f242",
   "metadata": {
    "tags": [
     "remove-cell"
    ]
   },
   "outputs": [],
   "source": [
    "from tectosaur2.nb_config import setup\n",
    "\n",
    "setup()"
   ]
  },
  {
   "cell_type": "code",
   "execution_count": null,
   "id": "d1c200bb",
   "metadata": {},
   "outputs": [],
   "source": [
    "import numpy as np\n",
    "import matplotlib.pyplot as plt\n",
    "import sympy as sp\n",
    "\n",
    "from tectosaur2 import integrate_term, refine_surfaces, gauss_rule, trapezoidal_rule\n",
    "from tectosaur2.laplace2d import single_layer, double_layer"
   ]
  },
  {
   "cell_type": "code",
   "execution_count": null,
   "id": "d18201da",
   "metadata": {},
   "outputs": [],
   "source": [
    "nq = 10\n",
    "qx, qw = gauss_rule(nq)\n",
    "\n",
    "t = sp.symbols(\"t\")\n",
    "theta = sp.pi * (t + 1)\n",
    "circle = refine_surfaces([(t, sp.cos(theta), sp.sin(theta))], (qx,qw))\n",
    "circle.n_pts, circle.n_panels"
   ]
  },
  {
   "cell_type": "code",
   "execution_count": null,
   "id": "f62a303e",
   "metadata": {},
   "outputs": [],
   "source": [
    "x, y = sp.symbols('x, y')\n",
    "sym_soln = 2 + x + y + x**2 + y*sp.cos(6*x) + x*sp.sin(6*y)\n",
    "\n",
    "sym_laplacian = (\n",
    "    sp.diff(sp.diff(sym_soln, x), x) +\n",
    "    sp.diff(sp.diff(sym_soln, y), y)\n",
    ")\n",
    "soln_fnc = sp.lambdify((x, y), sym_soln, \"numpy\")\n",
    "laplacian_fnc = sp.lambdify((x, y), sym_laplacian, \"numpy\")\n",
    "\n",
    "sym_soln"
   ]
  },
  {
   "cell_type": "code",
   "execution_count": null,
   "id": "1243117f",
   "metadata": {},
   "outputs": [],
   "source": [
    "sym_laplacian"
   ]
  },
  {
   "cell_type": "markdown",
   "id": "40e4ce83",
   "metadata": {},
   "source": [
    "## Body force quadrature"
   ]
  },
  {
   "cell_type": "code",
   "execution_count": null,
   "id": "7d19bd5d",
   "metadata": {},
   "outputs": [],
   "source": [
    "nq_r = 40\n",
    "nq_theta = 80\n",
    "qgauss, qgauss_w = gauss_rule(nq_r)\n",
    "qtrap, qtrap_w = trapezoidal_rule(nq_theta)\n",
    "r = 0.5 * (qgauss + 1)\n",
    "r_w = qgauss_w * 0.5\n",
    "theta = (qtrap + 1) * np.pi\n",
    "theta_w = qtrap_w * np.pi\n",
    "\n",
    "r_vol, theta_vol = [x.flatten() for x in np.meshgrid(r, theta)]\n",
    "qx_vol = np.cos(theta_vol) * r_vol\n",
    "qy_vol = np.sin(theta_vol) * r_vol\n",
    "\n",
    "q2d_vol = np.array([qx_vol, qy_vol]).T.copy()\n",
    "q2d_vol_wts = (r_w[None, :] * theta_w[:, None] * r[None, :]).flatten()"
   ]
  },
  {
   "cell_type": "code",
   "execution_count": null,
   "id": "1c72e1f7",
   "metadata": {},
   "outputs": [],
   "source": [
    "np.sum(q2d_vol_wts) - np.pi, np.sum(np.cos(theta_vol) * q2d_vol_wts), np.sum(r_vol * q2d_vol_wts) - 2.0943951023931954"
   ]
  },
  {
   "cell_type": "code",
   "execution_count": null,
   "id": "abf83661",
   "metadata": {},
   "outputs": [],
   "source": [
    "plt.plot(circle.pts[:, 0], circle.pts[:, 1])\n",
    "plt.quiver(circle.pts[:, 0], circle.pts[:, 1], circle.normals[:, 0], circle.normals[:, 1])\n",
    "plt.plot(q2d_vol[:, 0], q2d_vol[:, 1], \"r.\")\n",
    "plt.xlim([-1.2, 1.2])\n",
    "plt.ylim([-1.2, 1.2])\n",
    "plt.show()"
   ]
  },
  {
   "cell_type": "code",
   "execution_count": null,
   "id": "c5848821",
   "metadata": {},
   "outputs": [],
   "source": [
    "nobs = 200\n",
    "offset = -0.1\n",
    "zoomx = [-1.0 + offset, 1.0 - offset]\n",
    "zoomy = [-1.0 + offset, 1.0 - offset]\n",
    "xs = np.linspace(*zoomx, nobs)\n",
    "ys = np.linspace(*zoomy, nobs)\n",
    "obsx, obsy = np.meshgrid(xs, ys)\n",
    "obs2d = np.array([obsx.flatten(), obsy.flatten()]).T.copy()\n",
    "obs2d_mask = np.sqrt(obs2d[:,0] ** 2 + obs2d[:,1] ** 2) <= 1\n",
    "obs2d_mask_sq = obs2d_mask.reshape(obsx.shape)"
   ]
  },
  {
   "cell_type": "code",
   "execution_count": null,
   "id": "b9e5ece5",
   "metadata": {},
   "outputs": [],
   "source": [
    "fxy = -laplacian_fnc(q2d_vol[:,0], q2d_vol[:,1])\n",
    "\n",
    "correct = soln_fnc(obsx, obsy)\n",
    "fxy_obs = -laplacian_fnc(obsx, obsy)"
   ]
  },
  {
   "cell_type": "code",
   "execution_count": null,
   "id": "8e88a0ac",
   "metadata": {},
   "outputs": [],
   "source": [
    "plotx = q2d_vol[:,0].reshape((nq_theta, nq_r))\n",
    "plt.contourf(plotx, q2d_vol[:,1].reshape(plotx.shape), soln_fnc(q2d_vol[:,0], q2d_vol[:,1]).reshape(plotx.shape))\n",
    "plt.colorbar()\n",
    "plt.show()\n",
    "plotx = q2d_vol[:,0].reshape((nq_theta, nq_r))\n",
    "plt.contourf(plotx, q2d_vol[:,1].reshape(plotx.shape), laplacian_fnc(q2d_vol[:,0], q2d_vol[:,1]).reshape(plotx.shape))\n",
    "plt.colorbar()\n",
    "plt.show()"
   ]
  },
  {
   "cell_type": "code",
   "execution_count": null,
   "id": "ab29e5f5",
   "metadata": {},
   "outputs": [],
   "source": [
    "u_particular = (\n",
    "    (single_layer.kernel(obs2d, q2d_vol, 0*q2d_vol)[:,0,:,0] * q2d_vol_wts[None,:])\n",
    "    .dot(fxy)\n",
    "    .reshape(obsx.shape)\n",
    ")"
   ]
  },
  {
   "cell_type": "code",
   "execution_count": null,
   "id": "5d862e4d",
   "metadata": {},
   "outputs": [],
   "source": [
    "plt.figure(figsize=(12,4))\n",
    "plt.subplot(1,3,1)\n",
    "levels = np.linspace(np.min(u_particular), np.max(u_particular), 21)\n",
    "cntf = plt.contourf(obsx, obsy, u_particular, levels=levels, extend=\"both\")\n",
    "plt.contour(\n",
    "    obsx,\n",
    "    obsy,\n",
    "    u_particular,\n",
    "    colors=\"k\",\n",
    "    linestyles=\"-\",\n",
    "    linewidths=0.5,\n",
    "    levels=levels,\n",
    "    extend=\"both\",\n",
    ")\n",
    "plt.colorbar(cntf)\n",
    "plt.subplot(1,3,2)\n",
    "levels = np.linspace(np.min(correct), np.max(correct), 21)\n",
    "cntf = plt.contourf(obsx, obsy, correct, levels=levels, extend=\"both\")\n",
    "plt.contour(\n",
    "    obsx,\n",
    "    obsy,\n",
    "    correct,\n",
    "    colors=\"k\",\n",
    "    linestyles=\"-\",\n",
    "    linewidths=0.5,\n",
    "    levels=levels,\n",
    "    extend=\"both\",\n",
    ")\n",
    "plt.colorbar(cntf)\n",
    "plt.subplot(1,3,3)\n",
    "err = correct - u_particular\n",
    "levels = np.linspace(0, 4, 20)\n",
    "cntf = plt.contourf(obsx, obsy, err, levels=levels, extend=\"both\")\n",
    "plt.contour(\n",
    "    obsx,\n",
    "    obsy,\n",
    "    err,\n",
    "    colors=\"k\",\n",
    "    linestyles=\"-\",\n",
    "    linewidths=0.5,\n",
    "    levels=levels,\n",
    "    extend=\"both\",\n",
    ")\n",
    "plt.colorbar(cntf)\n",
    "plt.show()"
   ]
  },
  {
   "cell_type": "markdown",
   "id": "cf7fb058",
   "metadata": {},
   "source": [
    "## Direct to surface eval"
   ]
  },
  {
   "cell_type": "code",
   "execution_count": null,
   "id": "70050179",
   "metadata": {},
   "outputs": [],
   "source": [
    "## This is g\n",
    "bcs = soln_fnc(circle.pts[:, 0], circle.pts[:, 1])\n",
    "## This is v|_{\\partial \\Omega}\n",
    "surf_vals = (single_layer.kernel(circle.pts, q2d_vol)[:,0,:,0] * q2d_vol_wts[None,:]).dot(fxy)\n",
    "A,report = integrate_term(double_layer, circle.pts, circle, return_report=True)\n",
    "surf_density = np.linalg.solve(-A[:,0,:,0], bcs-surf_vals)"
   ]
  },
  {
   "cell_type": "code",
   "execution_count": null,
   "id": "4e1d5ca7",
   "metadata": {},
   "outputs": [],
   "source": [
    "plt.plot(circle.quad_pts, bcs-surf_vals, 'r-')\n",
    "plt.plot(circle.quad_pts, surf_density, 'b-')\n",
    "plt.show()"
   ]
  },
  {
   "cell_type": "code",
   "execution_count": null,
   "id": "8a487684",
   "metadata": {},
   "outputs": [],
   "source": [
    "%%time\n",
    "interior_disp_mat = integrate_term(double_layer, obs2d, circle, tol=1e-13)\n",
    "u_homog = -interior_disp_mat[:, 0, :, 0].dot(surf_density).reshape(obsx.shape)"
   ]
  },
  {
   "cell_type": "code",
   "execution_count": null,
   "id": "a79d24b6",
   "metadata": {},
   "outputs": [],
   "source": [
    "plt.figure(figsize=(12,4))\n",
    "for i, to_plot in enumerate([u_homog, u_homog, correct - u_particular]):\n",
    "    plt.subplot(1,3,1+i)\n",
    "    if i == 0:\n",
    "        levels = np.linspace(np.min(to_plot), np.max(to_plot), 21)\n",
    "    else:\n",
    "        levels = np.linspace(np.min(correct - u_particular), np.max(correct - u_particular), 21)\n",
    "\n",
    "    cntf = plt.contourf(obsx, obsy, to_plot, levels=levels, extend=\"both\")\n",
    "    plt.contour(\n",
    "        obsx,\n",
    "        obsy,\n",
    "        to_plot,\n",
    "        colors=\"k\",\n",
    "        linestyles=\"-\",\n",
    "        linewidths=0.5,\n",
    "        levels=levels,\n",
    "        extend=\"both\",\n",
    "    )\n",
    "    plt.plot(circle.pts[:, 0], circle.pts[:, 1], \"k-\", linewidth=1.5)\n",
    "    plt.colorbar(cntf)\n",
    "    plt.xlim(zoomx)\n",
    "    plt.ylim(zoomy)\n",
    "    plt.title(['$u^H$', '$u^H$', 'correct - $u^p$'][i])\n",
    "plt.figure()\n",
    "to_plot = np.abs(correct - u_particular - u_homog)\n",
    "levels = np.linspace(0, 0.25, 21)\n",
    "cntf = plt.contourf(obsx, obsy, to_plot, levels=levels, extend=\"both\")\n",
    "plt.contour(\n",
    "    obsx,\n",
    "    obsy,\n",
    "    to_plot,\n",
    "    colors=\"k\",\n",
    "    linestyles=\"-\",\n",
    "    linewidths=0.5,\n",
    "    levels=levels,\n",
    "    extend=\"both\",\n",
    ")\n",
    "plt.plot(circle.pts[:, 0], circle.pts[:, 1], \"k-\", linewidth=1.5)\n",
    "plt.colorbar(cntf)\n",
    "plt.xlim(zoomx)\n",
    "plt.ylim(zoomy)\n",
    "plt.title('err($u^H$)')\n",
    "plt.show()"
   ]
  },
  {
   "cell_type": "markdown",
   "id": "d93bad5c",
   "metadata": {},
   "source": [
    "## Full solution!"
   ]
  },
  {
   "cell_type": "code",
   "execution_count": null,
   "id": "8027fb80",
   "metadata": {},
   "outputs": [],
   "source": [
    "#u_full = u_box + u_particular\n",
    "u_full = u_homog + u_particular"
   ]
  },
  {
   "cell_type": "code",
   "execution_count": null,
   "id": "41fe7d91",
   "metadata": {},
   "outputs": [],
   "source": [
    "plt.figure(figsize=(12,4))\n",
    "for i, to_plot in enumerate([correct, u_full]):\n",
    "    plt.subplot(1,3,1+i)\n",
    "    levels = np.linspace(np.min(correct), np.max(correct), 21)\n",
    "    cntf = plt.contourf(obsx, obsy, to_plot, levels=levels, extend=\"both\")\n",
    "    plt.contour(\n",
    "        obsx,\n",
    "        obsy,\n",
    "        to_plot,\n",
    "        colors=\"k\",\n",
    "        linestyles=\"-\",\n",
    "        linewidths=0.5,\n",
    "        levels=levels,\n",
    "        extend=\"both\",\n",
    "    )\n",
    "    plt.plot(circle.pts[:, 0], circle.pts[:, 1], \"k-\", linewidth=1.5)\n",
    "    plt.colorbar(cntf)\n",
    "    plt.xlim(zoomx)\n",
    "    plt.ylim(zoomy)\n",
    "    plt.title(['correct', 'u'][i])\n",
    "\n",
    "plt.subplot(1,3,3)\n",
    "to_plot = np.log10(np.abs(correct - u_full))\n",
    "levels = np.linspace(-4, 0, 5)\n",
    "cntf = plt.contourf(obsx, obsy, to_plot, levels=levels, extend=\"both\")\n",
    "plt.contour(\n",
    "    obsx,\n",
    "    obsy,\n",
    "    to_plot,\n",
    "    colors=\"k\",\n",
    "    linestyles=\"-\",\n",
    "    linewidths=0.5,\n",
    "    levels=levels,\n",
    "    extend=\"both\",\n",
    ")\n",
    "plt.plot(circle.pts[:, 0], circle.pts[:, 1], \"k-\", linewidth=1.5)\n",
    "plt.colorbar(cntf)\n",
    "plt.xlim(zoomx)\n",
    "plt.ylim(zoomy)\n",
    "plt.title('error')\n",
    "plt.tight_layout()\n",
    "plt.show()"
   ]
  },
  {
   "cell_type": "code",
   "execution_count": null,
   "id": "7356e480",
   "metadata": {},
   "outputs": [],
   "source": [
    "for norm in [np.linalg.norm, lambda x: np.linalg.norm(x, ord=1), lambda x: np.linalg.norm(x, ord=np.inf)]:\n",
    "    A = norm(correct[obs2d_mask_sq] - u_full[obs2d_mask_sq])\n",
    "    B = norm(correct[obs2d_mask_sq])\n",
    "    print(A, B, A/B)"
   ]
  },
  {
   "cell_type": "code",
   "execution_count": null,
   "id": "7c094456",
   "metadata": {},
   "outputs": [],
   "source": [
    "E = correct[obs2d_mask_sq] - u_full[obs2d_mask_sq]\n",
    "plt.plot(np.log10(sorted(np.abs(E).tolist()))[-50:])\n",
    "plt.show()"
   ]
  },
  {
   "cell_type": "code",
   "execution_count": null,
   "id": "81b8d2a2",
   "metadata": {},
   "outputs": [],
   "source": []
  }
 ],
 "metadata": {
  "jupytext": {
   "formats": "ipynb,md:myst"
  },
  "kernelspec": {
   "display_name": "Python 3",
   "language": "python",
   "name": "python3"
  }
 },
 "nbformat": 4,
 "nbformat_minor": 5
}
