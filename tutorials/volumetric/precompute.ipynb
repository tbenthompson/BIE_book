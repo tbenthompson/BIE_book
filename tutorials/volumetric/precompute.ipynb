{
 "cells": [
  {
   "cell_type": "markdown",
   "id": "1c81e9af",
   "metadata": {},
   "source": [
    "# [DRAFT] Precomputing near-field volumetric integrals."
   ]
  },
  {
   "cell_type": "markdown",
   "id": "e919d820",
   "metadata": {},
   "source": [
    "## Setting up a test problem"
   ]
  },
  {
   "cell_type": "code",
   "execution_count": 1,
   "id": "79797c70",
   "metadata": {},
   "outputs": [],
   "source": [
    "import numpy as np\n",
    "import matplotlib.pyplot as plt\n",
    "import sympy as sp\n",
    "\n",
    "%config InlineBackend.figure_format='retina'"
   ]
  },
  {
   "cell_type": "markdown",
   "id": "2f953612",
   "metadata": {},
   "source": [
    "### Lagrange basis functions"
   ]
  },
  {
   "cell_type": "code",
   "execution_count": 2,
   "id": "b82c3a0e",
   "metadata": {
    "tags": []
   },
   "outputs": [],
   "source": [
    "N = 7\n",
    "chebyshev_pts = [sp.cos(sp.pi * i / (N - 1)) for i in range(N)][::-1]\n",
    "chebyshev_pts_np = np.array([float(p) for p in chebyshev_pts])\n",
    "x = sp.var(\"x\")"
   ]
  },
  {
   "cell_type": "code",
   "execution_count": 3,
   "id": "366ac3f1",
   "metadata": {},
   "outputs": [],
   "source": [
    "basis_functions = []\n",
    "for i in range(N):\n",
    "    xi = chebyshev_pts[i]\n",
    "    prod = 1\n",
    "    # The definition of the Lagrange interpolating polynomial.\n",
    "    # In a numerical context, this definition is troublesome\n",
    "    # and it's better to use the barycentric Lagrange formulas.\n",
    "    # But this simple definition works fantastically well in\n",
    "    # a symbolic setting.\n",
    "    for j in range(N):\n",
    "        if j == i:\n",
    "            continue\n",
    "        xj = chebyshev_pts[j]\n",
    "        prod *= (x - xj) / (xi - xj)\n",
    "    basis_functions.append(prod.simplify().expand())"
   ]
  },
  {
   "cell_type": "code",
   "execution_count": 4,
   "id": "57a999b6",
   "metadata": {},
   "outputs": [
    {
     "data": {
      "text/plain": [
       "[8*x**6/3 - 8*x**5/3 - 8*x**4/3 + 8*x**3/3 + x**2/2 - x/2,\n",
       " -16*x**6/3 + 8*sqrt(3)*x**5/3 + 20*x**4/3 - 10*sqrt(3)*x**3/3 - 4*x**2/3 + 2*sqrt(3)*x/3,\n",
       " 16*x**6/3 - 8*x**5/3 - 28*x**4/3 + 14*x**3/3 + 4*x**2 - 2*x,\n",
       " -16*x**6/3 + 32*x**4/3 - 19*x**2/3 + 1,\n",
       " 16*x**6/3 + 8*x**5/3 - 28*x**4/3 - 14*x**3/3 + 4*x**2 + 2*x,\n",
       " -16*x**6/3 - 8*sqrt(3)*x**5/3 + 20*x**4/3 + 10*sqrt(3)*x**3/3 - 4*x**2/3 - 2*sqrt(3)*x/3,\n",
       " 8*x**6/3 + 8*x**5/3 - 8*x**4/3 - 8*x**3/3 + x**2/2 + x/2]"
      ]
     },
     "execution_count": 4,
     "metadata": {},
     "output_type": "execute_result"
    }
   ],
   "source": [
    "basis_functions"
   ]
  },
  {
   "cell_type": "markdown",
   "id": "370012a0",
   "metadata": {},
   "source": [
    "### Precomputing coincident integrals with polar integration"
   ]
  },
  {
   "cell_type": "code",
   "execution_count": 5,
   "id": "7e30c457",
   "metadata": {},
   "outputs": [],
   "source": [
    "C = 1.0 / (4 * np.pi)\n",
    "\n",
    "\n",
    "def fundamental_solution(obsx, obsy, srcx, srcy):\n",
    "    r2 = ((obsx - srcx) ** 2) + ((obsy - srcy) ** 2)\n",
    "    return C * np.log(r2)"
   ]
  },
  {
   "cell_type": "code",
   "execution_count": 6,
   "id": "84a9e45d",
   "metadata": {},
   "outputs": [],
   "source": [
    "sx, sy = sp.var(\"sx, sy\")"
   ]
  },
  {
   "cell_type": "code",
   "execution_count": 7,
   "id": "930dfa5c",
   "metadata": {},
   "outputs": [],
   "source": [
    "import scipy.integrate\n",
    "\n",
    "\n",
    "def to_corner(ox, oy, cx, cy):\n",
    "    t = np.arctan2(cy - oy, cx - ox)\n",
    "    r = np.sqrt((cx - ox) ** 2 + (cy - oy) ** 2)\n",
    "    return [t, r]\n",
    "\n",
    "\n",
    "def compute_coincident(obsx, obsy, basis):\n",
    "    tol = 1e-16\n",
    "\n",
    "    def F(srcR, srcT):\n",
    "        if srcR == 0:\n",
    "            return 0\n",
    "        srcx = obsx + np.cos(srcT) * srcR\n",
    "        srcy = obsy + np.sin(srcT) * srcR\n",
    "        out = srcR * basis(srcx, srcy) * fundamental_solution(obsx, obsy, srcx, srcy)\n",
    "        return out\n",
    "\n",
    "    corner_vecs = [\n",
    "        to_corner(obsx, obsy, 1, 1),\n",
    "        to_corner(obsx, obsy, -1, 1),\n",
    "        to_corner(obsx, obsy, -1, -1),\n",
    "        to_corner(obsx, obsy, 1, -1),\n",
    "    ]\n",
    "    # Normally the theta value for corner idx 2 is negative because it\n",
    "    # is greater than Pi and the output range of arctan2 is [-pi,pi]\n",
    "    # But, if the observation point is on the bottom edge of the domain (y=-1)\n",
    "    # then it's possible for the the theta value to be exactly pi. If this is the\n",
    "    # case it will be positive and will mess up the integration domains for\n",
    "    # integrals 2 and 3. So, if it's positive here, we loop around and make\n",
    "    # it negative.\n",
    "    if corner_vecs[2][0] > 0:\n",
    "        corner_vecs[2][0] -= 2 * np.pi\n",
    "\n",
    "    subdomain = [\n",
    "        [corner_vecs[0][0], corner_vecs[1][0], lambda t: (1.0 - obsy) / np.sin(t)],\n",
    "        [\n",
    "            corner_vecs[1][0],\n",
    "            corner_vecs[2][0] + 2 * np.pi,\n",
    "            lambda t: (-1.0 - obsx) / np.cos(t),\n",
    "        ],\n",
    "        [corner_vecs[2][0], corner_vecs[3][0], lambda t: (-1.0 - obsy) / np.sin(t)],\n",
    "        [corner_vecs[3][0], corner_vecs[0][0], lambda t: (1.0 - obsx) / np.cos(t)],\n",
    "    ]\n",
    "\n",
    "    Is = []\n",
    "    for d in subdomain:\n",
    "        I = scipy.integrate.dblquad(F, d[0], d[1], 0.0, d[2], epsabs=tol, epsrel=tol)\n",
    "        Is.append(I)\n",
    "\n",
    "    result = sum([I[0] for I in Is])\n",
    "    err = sum([I[1] for I in Is])\n",
    "    return result, err"
   ]
  },
  {
   "cell_type": "code",
   "execution_count": 8,
   "id": "bc03e9b5",
   "metadata": {},
   "outputs": [],
   "source": [
    "import pickle\n",
    "\n",
    "with open(\"data/constant_test_integral.pkl\", \"rb\") as f:\n",
    "    coincident, nearfield = pickle.load(f)\n",
    "\n",
    "ox, oy = sp.symbols(\"ox, oy\")\n",
    "constant_soln_coincident = sp.lambdify((ox, oy), coincident, \"numpy\")\n",
    "constant_soln_nearfield = sp.lambdify((ox, oy), nearfield, \"numpy\")"
   ]
  },
  {
   "cell_type": "code",
   "execution_count": 9,
   "id": "eb774f4f",
   "metadata": {},
   "outputs": [
    {
     "name": "stderr",
     "output_type": "stream",
     "text": [
      "/Users/tbent/.mambaforge/envs/tectosaur2/lib/python3.9/site-packages/scipy/integrate/quadpack.py:879: IntegrationWarning: The occurrence of roundoff error is detected, which prevents \n",
      "  the requested tolerance from being achieved.  The error may be \n",
      "  underestimated.\n",
      "  quad_r = quad(f, low, high, args=args, full_output=self.full_output,\n",
      "/Users/tbent/.mambaforge/envs/tectosaur2/lib/python3.9/site-packages/scipy/integrate/quadpack.py:879: IntegrationWarning: The algorithm does not converge.  Roundoff error is detected\n",
      "  in the extrapolation table.  It is assumed that the requested tolerance\n",
      "  cannot be achieved, and that the returned result (if full_output = 1) is \n",
      "  the best which can be obtained.\n",
      "  quad_r = quad(f, low, high, args=args, full_output=self.full_output,\n"
     ]
    },
    {
     "name": "stdout",
     "output_type": "stream",
     "text": [
      "CPU times: user 1.85 s, sys: 9.47 ms, total: 1.85 s\n",
      "Wall time: 1.86 s\n"
     ]
    },
    {
     "data": {
      "text/plain": [
       "(-0.11262483019509857, -0.11262483019509859, 1.3877787807814457e-17)"
      ]
     },
     "execution_count": 9,
     "metadata": {},
     "output_type": "execute_result"
    }
   ],
   "source": [
    "%%time\n",
    "est = compute_coincident(-0.5, -0.5, lambda sx, sy: 1.0)\n",
    "true = constant_soln_coincident(-0.5, -0.5)\n",
    "est[0], true, est[0] - true"
   ]
  },
  {
   "cell_type": "code",
   "execution_count": 10,
   "id": "9b09201f",
   "metadata": {},
   "outputs": [
    {
     "data": {
      "text/plain": [
       "(0.20697714190658267, 0.20697706984300004, 7.206358262901169e-08)"
      ]
     },
     "execution_count": 10,
     "metadata": {},
     "output_type": "execute_result"
    }
   ],
   "source": [
    "est = compute_coincident(1, 1, lambda sx, sy: 1.0)\n",
    "true = constant_soln_coincident(1 - 1e-7, 1 - 1e-7)\n",
    "est[0], true, est[0] - true"
   ]
  },
  {
   "cell_type": "code",
   "execution_count": 11,
   "id": "f2090e15",
   "metadata": {},
   "outputs": [
    {
     "data": {
      "text/plain": [
       "(0.02874576665105402, 0.028745711519333805, 5.5131720213402735e-08)"
      ]
     },
     "execution_count": 11,
     "metadata": {},
     "output_type": "execute_result"
    }
   ],
   "source": [
    "est = compute_coincident(0, 1, lambda sx, sy: 1.0)\n",
    "true = constant_soln_coincident(0, -1 + 1e-7)\n",
    "est[0], true, est[0] - true"
   ]
  },
  {
   "cell_type": "code",
   "execution_count": 13,
   "id": "a9da3f03",
   "metadata": {
    "tags": []
   },
   "outputs": [
    {
     "ename": "RuntimeError",
     "evalue": "context has already been set",
     "output_type": "error",
     "traceback": [
      "\u001b[0;31m---------------------------------------------------------------------------\u001b[0m",
      "\u001b[0;31mRuntimeError\u001b[0m                              Traceback (most recent call last)",
      "\u001b[0;32m/var/folders/mt/cmys2v_143q1kpcrdt5wcdyr0000gn/T/ipykernel_14826/824478234.py\u001b[0m in \u001b[0;36m<module>\u001b[0;34m\u001b[0m\n\u001b[1;32m     20\u001b[0m \u001b[0;34m\u001b[0m\u001b[0m\n\u001b[1;32m     21\u001b[0m \u001b[0;34m\u001b[0m\u001b[0m\n\u001b[0;32m---> 22\u001b[0;31m \u001b[0mmultiprocessing\u001b[0m\u001b[0;34m.\u001b[0m\u001b[0mset_start_method\u001b[0m\u001b[0;34m(\u001b[0m\u001b[0;34m'fork'\u001b[0m\u001b[0;34m)\u001b[0m\u001b[0;34m\u001b[0m\u001b[0;34m\u001b[0m\u001b[0m\n\u001b[0m\u001b[1;32m     23\u001b[0m \u001b[0;32mdef\u001b[0m \u001b[0mcoincident_grid\u001b[0m\u001b[0;34m(\u001b[0m\u001b[0;34m)\u001b[0m\u001b[0;34m:\u001b[0m\u001b[0;34m\u001b[0m\u001b[0;34m\u001b[0m\u001b[0m\n\u001b[1;32m     24\u001b[0m     \u001b[0minputs\u001b[0m \u001b[0;34m=\u001b[0m \u001b[0mget_inputs\u001b[0m\u001b[0;34m(\u001b[0m\u001b[0;36m1\u001b[0m\u001b[0;34m,\u001b[0m \u001b[0;36m0\u001b[0m\u001b[0;34m,\u001b[0m \u001b[0;36m0\u001b[0m\u001b[0;34m)\u001b[0m\u001b[0;34m\u001b[0m\u001b[0;34m\u001b[0m\u001b[0m\n",
      "\u001b[0;32m~/.mambaforge/envs/tectosaur2/lib/python3.9/multiprocessing/context.py\u001b[0m in \u001b[0;36mset_start_method\u001b[0;34m(self, method, force)\u001b[0m\n\u001b[1;32m    241\u001b[0m     \u001b[0;32mdef\u001b[0m \u001b[0mset_start_method\u001b[0m\u001b[0;34m(\u001b[0m\u001b[0mself\u001b[0m\u001b[0;34m,\u001b[0m \u001b[0mmethod\u001b[0m\u001b[0;34m,\u001b[0m \u001b[0mforce\u001b[0m\u001b[0;34m=\u001b[0m\u001b[0;32mFalse\u001b[0m\u001b[0;34m)\u001b[0m\u001b[0;34m:\u001b[0m\u001b[0;34m\u001b[0m\u001b[0;34m\u001b[0m\u001b[0m\n\u001b[1;32m    242\u001b[0m         \u001b[0;32mif\u001b[0m \u001b[0mself\u001b[0m\u001b[0;34m.\u001b[0m\u001b[0m_actual_context\u001b[0m \u001b[0;32mis\u001b[0m \u001b[0;32mnot\u001b[0m \u001b[0;32mNone\u001b[0m \u001b[0;32mand\u001b[0m \u001b[0;32mnot\u001b[0m \u001b[0mforce\u001b[0m\u001b[0;34m:\u001b[0m\u001b[0;34m\u001b[0m\u001b[0;34m\u001b[0m\u001b[0m\n\u001b[0;32m--> 243\u001b[0;31m             \u001b[0;32mraise\u001b[0m \u001b[0mRuntimeError\u001b[0m\u001b[0;34m(\u001b[0m\u001b[0;34m'context has already been set'\u001b[0m\u001b[0;34m)\u001b[0m\u001b[0;34m\u001b[0m\u001b[0;34m\u001b[0m\u001b[0m\n\u001b[0m\u001b[1;32m    244\u001b[0m         \u001b[0;32mif\u001b[0m \u001b[0mmethod\u001b[0m \u001b[0;32mis\u001b[0m \u001b[0;32mNone\u001b[0m \u001b[0;32mand\u001b[0m \u001b[0mforce\u001b[0m\u001b[0;34m:\u001b[0m\u001b[0;34m\u001b[0m\u001b[0;34m\u001b[0m\u001b[0m\n\u001b[1;32m    245\u001b[0m             \u001b[0mself\u001b[0m\u001b[0;34m.\u001b[0m\u001b[0m_actual_context\u001b[0m \u001b[0;34m=\u001b[0m \u001b[0;32mNone\u001b[0m\u001b[0;34m\u001b[0m\u001b[0;34m\u001b[0m\u001b[0m\n",
      "\u001b[0;31mRuntimeError\u001b[0m: context has already been set"
     ]
    }
   ],
   "source": [
    "import multiprocessing\n",
    "\n",
    "\n",
    "def mp_compute_coincident(obsx, obsy, srci, srcj):\n",
    "    basis_sxsy = basis_functions[srci].subs(x, sx) * basis_functions[srcj].subs(x, sy)\n",
    "    basis = sp.lambdify((sx, sy), basis_sxsy, \"numpy\")\n",
    "    return compute_coincident(obsx, obsy, basis)\n",
    "\n",
    "\n",
    "def get_inputs(obs_scale, obs_offsetx, obs_offsety):\n",
    "    inputs = []\n",
    "    for obsi in range(N):\n",
    "        for obsj in range(N):\n",
    "            obsx = obs_scale * chebyshev_pts_np[obsi] + obs_offsetx\n",
    "            obsy = obs_scale * chebyshev_pts_np[obsj] + obs_offsety\n",
    "            for srci in range(N):\n",
    "                for srcj in range(N):\n",
    "                    inputs.append((obsx, obsy, srci, srcj))\n",
    "    return inputs\n",
    "\n",
    "\n",
    "multiprocessing.set_start_method('fork')\n",
    "def coincident_grid():\n",
    "    inputs = get_inputs(1, 0, 0)\n",
    "    p = multiprocessing.Pool(5)\n",
    "    return np.array(p.starmap(mp_compute_coincident, inputs))"
   ]
  },
  {
   "cell_type": "code",
   "execution_count": 14,
   "id": "81cc4087",
   "metadata": {},
   "outputs": [
    {
     "name": "stderr",
     "output_type": "stream",
     "text": [
      "/var/folders/mt/cmys2v_143q1kpcrdt5wcdyr0000gn/T/ipykernel_14826/846338104.py:44: RuntimeWarning: invalid value encountered in double_scalars\n",
      "  [corner_vecs[2][0], corner_vecs[3][0], lambda t: (-1.0 - obsy) / np.sin(t)],\n",
      "/var/folders/mt/cmys2v_143q1kpcrdt5wcdyr0000gn/T/ipykernel_14826/846338104.py:38: RuntimeWarning: invalid value encountered in double_scalars\n",
      "  [corner_vecs[0][0], corner_vecs[1][0], lambda t: (1.0 - obsy) / np.sin(t)],\n"
     ]
    },
    {
     "name": "stdout",
     "output_type": "stream",
     "text": [
      "CPU times: user 14.6 ms, sys: 19.8 ms, total: 34.4 ms\n",
      "Wall time: 9min 44s\n"
     ]
    }
   ],
   "source": [
    "%%time\n",
    "np.save(\"data/coincident_grid.npy\", coincident_grid())"
   ]
  },
  {
   "cell_type": "code",
   "execution_count": 16,
   "id": "db6c14f5",
   "metadata": {},
   "outputs": [],
   "source": [
    "# integrals_and_err = compute_grid(1, 0, 0)\n",
    "integrals_and_err = np.load(\"data/coincident_grid.npy\", allow_pickle=True)\n",
    "integrals = integrals_and_err[:, 0].reshape((N, N, N, N))\n",
    "error = integrals_and_err[:, 1].reshape((N, N, N, N))"
   ]
  },
  {
   "cell_type": "markdown",
   "id": "a0cab343",
   "metadata": {},
   "source": [
    "There are no estimated errors greated than `5e-15`:"
   ]
  },
  {
   "cell_type": "code",
   "execution_count": 17,
   "id": "86ba96d3",
   "metadata": {},
   "outputs": [
    {
     "data": {
      "text/plain": [
       "0"
      ]
     },
     "execution_count": 17,
     "metadata": {},
     "output_type": "execute_result"
    }
   ],
   "source": [
    "np.where(error > 5e-15)[0].shape[0]"
   ]
  },
  {
   "cell_type": "code",
   "execution_count": 18,
   "id": "e62983a4",
   "metadata": {},
   "outputs": [
    {
     "name": "stdout",
     "output_type": "stream",
     "text": [
      "5.551115123125783e-17\n",
      "1.0061396160665481e-16\n",
      "-9.71445146547012e-17\n",
      "-7.112366251504909e-17\n",
      "2.3592239273284576e-16\n",
      "7.979727989493313e-17\n",
      "-1.3877787807814457e-17\n",
      "2.498001805406602e-16\n",
      "1.6653345369377348e-16\n",
      "-2.7755575615628914e-17\n",
      "-3.95516952522712e-16\n",
      "-2.7755575615628914e-17\n",
      "5.551115123125783e-17\n",
      "5.551115123125783e-17\n",
      "-2.706168622523819e-16\n",
      "1.8041124150158794e-16\n",
      "-1.249000902703301e-16\n",
      "-5.551115123125783e-17\n",
      "1.8041124150158794e-16\n",
      "6.591949208711867e-17\n",
      "-6.938893903907228e-17\n",
      "1.682681771697503e-16\n",
      "3.469446951953614e-17\n",
      "2.949029909160572e-17\n",
      "-1.3877787807814457e-17\n"
     ]
    }
   ],
   "source": [
    "for i in range(1, N - 1):\n",
    "    for j in range(1, N - 1):\n",
    "        err = (\n",
    "            constant_soln_coincident(chebyshev_pts_np[i], chebyshev_pts_np[j])\n",
    "            - integrals[i, j, :, :].sum()\n",
    "        )\n",
    "        print(err)"
   ]
  },
  {
   "cell_type": "code",
   "execution_count": 19,
   "id": "313c5c0f",
   "metadata": {},
   "outputs": [],
   "source": [
    "with open(\"data/xy_test_integral.pkl\", \"rb\") as f:\n",
    "    coincident, nearfield = pickle.load(f)\n",
    "xy_soln_coincident = sp.lambdify((ox, oy), coincident, \"numpy\")\n",
    "xy_soln_nearfield = sp.lambdify((ox, oy), nearfield, \"numpy\")\n",
    "xy_laplacian = lambda x, y: (1 - (1 - x) ** 3) * (1 - (y + 1) ** 2)"
   ]
  },
  {
   "cell_type": "code",
   "execution_count": 20,
   "id": "4c0755b9",
   "metadata": {},
   "outputs": [],
   "source": [
    "cheb2dX, cheb2dY = np.meshgrid(chebyshev_pts_np, chebyshev_pts_np)\n",
    "cheb2d = np.array([cheb2dX, cheb2dY]).T.reshape((-1, 2)).copy()"
   ]
  },
  {
   "cell_type": "code",
   "execution_count": 21,
   "id": "8eadae1a",
   "metadata": {},
   "outputs": [
    {
     "name": "stdout",
     "output_type": "stream",
     "text": [
      "8.881784197001252e-16\n",
      "2.7755575615628914e-16\n",
      "5.551115123125783e-17\n",
      "-1.1102230246251565e-16\n",
      "-1.1102230246251565e-16\n",
      "-5.551115123125783e-17\n",
      "1.1102230246251565e-16\n",
      "2.7755575615628914e-17\n",
      "2.220446049250313e-16\n",
      "1.1102230246251565e-16\n",
      "1.6653345369377348e-16\n",
      "-2.7755575615628914e-16\n",
      "1.0755285551056204e-16\n",
      "1.6653345369377348e-16\n",
      "1.3877787807814457e-16\n",
      "5.551115123125783e-17\n",
      "-1.3877787807814457e-16\n",
      "-1.942890293094024e-16\n",
      "-2.7755575615628914e-17\n",
      "-1.3877787807814457e-16\n",
      "-4.440892098500626e-16\n",
      "-1.6653345369377348e-16\n",
      "8.326672684688674e-17\n",
      "-6.38378239159465e-16\n",
      "-2.220446049250313e-16\n"
     ]
    }
   ],
   "source": [
    "f = xy_laplacian(cheb2d[:, 0], cheb2d[:, 1])\n",
    "\n",
    "for i in range(1, N - 1):\n",
    "    for j in range(1, N - 1):\n",
    "        true = xy_soln_coincident(chebyshev_pts_np[i], chebyshev_pts_np[j])\n",
    "        est = integrals[i, j, :, :].ravel().dot(f.ravel())\n",
    "        err = true - est\n",
    "        print(err)"
   ]
  },
  {
   "cell_type": "markdown",
   "id": "1da475cb",
   "metadata": {},
   "source": [
    "## Pre-computing adjacent integrals"
   ]
  },
  {
   "cell_type": "code",
   "execution_count": 22,
   "id": "a72dcb86",
   "metadata": {},
   "outputs": [],
   "source": [
    "def is_on_source_edge(obsx, obsy):\n",
    "    on_left_right_edges = np.abs(obsx) == 1 and np.abs(obsy) <= 1\n",
    "    on_top_bottom_edges = np.abs(obsy) == 1 and np.abs(obsx) <= 1\n",
    "    return on_left_right_edges or on_top_bottom_edges\n",
    "\n",
    "\n",
    "def compute_nearfield(obsx, obsy, basis):\n",
    "    if is_on_source_edge(obsx, obsy):\n",
    "        return compute_coincident(obsx, obsy, basis)\n",
    "\n",
    "    tol = 1e-16\n",
    "\n",
    "    def F(srcy, srcx):\n",
    "        return basis(srcx, srcy) * fundamental_solution(obsx, obsy, srcx, srcy)\n",
    "\n",
    "    I = scipy.integrate.dblquad(F, -1, 1, -1, 1, epsabs=tol, epsrel=tol)\n",
    "    return I"
   ]
  },
  {
   "cell_type": "code",
   "execution_count": 23,
   "id": "9fb1a8a4",
   "metadata": {},
   "outputs": [
    {
     "data": {
      "text/plain": [
       "(0.2729618740920418, 0.2729618740920418, 0.0)"
      ]
     },
     "execution_count": 23,
     "metadata": {},
     "output_type": "execute_result"
    }
   ],
   "source": [
    "est = compute_nearfield(1.1, 1.1, lambda x, y: 1.0)\n",
    "true = constant_soln_nearfield(1.1, 1.1)\n",
    "est[0], true, est[0] - true"
   ]
  },
  {
   "cell_type": "code",
   "execution_count": 24,
   "id": "8d4d9cbb",
   "metadata": {},
   "outputs": [
    {
     "data": {
      "text/plain": [
       "(0.40123407975132336, 0.4012340797513224, 9.43689570931383e-16)"
      ]
     },
     "execution_count": 24,
     "metadata": {},
     "output_type": "execute_result"
    }
   ],
   "source": [
    "est = compute_nearfield(-1.1, -1.1, xy_laplacian)\n",
    "true = xy_soln_nearfield(-1.1, -1.1)\n",
    "est[0], true, est[0] - true"
   ]
  },
  {
   "cell_type": "code",
   "execution_count": 25,
   "id": "04a16fe0",
   "metadata": {},
   "outputs": [
    {
     "data": {
      "text/plain": [
       "(0.20697714190658267, 0.20697721397011432, -7.206353164201929e-08)"
      ]
     },
     "execution_count": 25,
     "metadata": {},
     "output_type": "execute_result"
    }
   ],
   "source": [
    "est = compute_nearfield(1.0, 1.0, lambda x, y: 1.0)\n",
    "true = constant_soln_nearfield(1.0 + 1e-7, 1.0 + 1e-7)\n",
    "est[0], true, est[0] - true"
   ]
  },
  {
   "cell_type": "code",
   "execution_count": 26,
   "id": "c41cd9e1",
   "metadata": {},
   "outputs": [],
   "source": [
    "def mp_compute_nearfield(obsx, obsy, srci, srcj):\n",
    "    basis_sxsy = basis_functions[srci].subs(x, sx) * basis_functions[srcj].subs(x, sy)\n",
    "    basis = sp.lambdify((sx, sy), basis_sxsy, \"numpy\")\n",
    "    return compute_nearfield(obsx, obsy, basis)\n",
    "\n",
    "\n",
    "def compute_grid(obs_scale, obs_offsetx, obs_offsety):\n",
    "    inputs = get_inputs(obs_scale, obs_offsetx, obs_offsety)\n",
    "    p = multiprocessing.Pool()\n",
    "    return np.array(p.starmap(mp_compute_nearfield, inputs))"
   ]
  },
  {
   "cell_type": "code",
   "execution_count": 29,
   "id": "5ee41fa5",
   "metadata": {
    "tags": []
   },
   "outputs": [
    {
     "data": {
      "image/png": "[encoded data removed]",
      "text/plain": [
       "<Figure size 288x576 with 6 Axes>"
      ]
     },
     "metadata": {
      "image/png": {
       "height": 593,
       "width": 305
      }
     },
     "output_type": "display_data"
    }
   ],
   "source": [
    "import matplotlib.patches as patches\n",
    "\n",
    "xrange = [-1.5, 6]\n",
    "yrange = [-1.5, 6]\n",
    "\n",
    "\n",
    "def size_and_aspect():\n",
    "    plt.xlim(*xrange)\n",
    "    plt.ylim(*yrange)\n",
    "    # plt.axis(\"off\")\n",
    "    ax = plt.gca()\n",
    "    # ax.set_axis_off()\n",
    "    plt.subplots_adjust(top=1, bottom=0, right=1, left=0, hspace=0, wspace=0)\n",
    "    plt.margins(0, 0)\n",
    "    ax.xaxis.set_major_locator(plt.NullLocator())\n",
    "    ax.yaxis.set_major_locator(plt.NullLocator())\n",
    "    # plt.axis('equal')\n",
    "\n",
    "\n",
    "plt.figure(figsize=(4, 8))\n",
    "\n",
    "plt.subplot(3, 2, 1)\n",
    "plt.gca().add_patch(patches.Rectangle((-1, -1), 2, 2, linewidth=1, edgecolor=\"k\"))\n",
    "plt.gca().add_patch(\n",
    "    patches.Rectangle((1, 1), 2, 2, linewidth=1, edgecolor=\"k\", facecolor=\"none\")\n",
    ")\n",
    "plt.text(1.75, 1.65, \"1\", fontsize=30)\n",
    "size_and_aspect()\n",
    "\n",
    "plt.subplot(3, 2, 2)\n",
    "plt.gca().add_patch(patches.Rectangle((-1, -1), 2, 2, linewidth=1, edgecolor=\"k\"))\n",
    "plt.gca().add_patch(\n",
    "    patches.Rectangle((1, -1), 2, 2, linewidth=1, edgecolor=\"k\", facecolor=\"none\")\n",
    ")\n",
    "plt.text(1.75, -0.35, \"2\", fontsize=30)\n",
    "size_and_aspect()\n",
    "\n",
    "plt.subplot(3, 2, 3)\n",
    "plt.gca().add_patch(patches.Rectangle((-1, -1), 2, 2, linewidth=1, edgecolor=\"k\"))\n",
    "plt.gca().add_patch(\n",
    "    patches.Rectangle((1, 1), 4, 4, linewidth=1, edgecolor=\"k\", facecolor=\"none\")\n",
    ")\n",
    "plt.text(2.65, 2.65, \"3\", fontsize=30)\n",
    "size_and_aspect()\n",
    "\n",
    "plt.subplot(3, 2, 4)\n",
    "plt.gca().add_patch(patches.Rectangle((-1, -1), 2, 2, linewidth=1, edgecolor=\"k\"))\n",
    "plt.gca().add_patch(\n",
    "    patches.Rectangle((1, -1), 4, 4, linewidth=1, edgecolor=\"k\", facecolor=\"none\")\n",
    ")\n",
    "plt.text(2.65, 0.65, \"4\", fontsize=30)\n",
    "size_and_aspect()\n",
    "\n",
    "\n",
    "plt.subplot(3, 2, 5)\n",
    "plt.gca().add_patch(patches.Rectangle((-1, -1), 2, 2, linewidth=1, edgecolor=\"k\"))\n",
    "plt.gca().add_patch(\n",
    "    patches.Rectangle((1, 1), 1, 1, linewidth=1, edgecolor=\"k\", facecolor=\"none\")\n",
    ")\n",
    "plt.text(1.25, 1.13, \"5\", fontsize=30)\n",
    "size_and_aspect()\n",
    "\n",
    "plt.subplot(3, 2, 6)\n",
    "plt.gca().add_patch(patches.Rectangle((-1, -1), 2, 2, linewidth=1, edgecolor=\"k\"))\n",
    "plt.gca().add_patch(\n",
    "    patches.Rectangle((1, 0), 1, 1, linewidth=1, edgecolor=\"k\", facecolor=\"none\")\n",
    ")\n",
    "plt.text(1.25, 0.13, \"6\", fontsize=30)\n",
    "size_and_aspect()\n",
    "\n",
    "plt.show()"
   ]
  },
  {
   "cell_type": "code",
   "execution_count": 35,
   "id": "5c235c1b",
   "metadata": {
    "tags": []
   },
   "outputs": [
    {
     "name": "stderr",
     "output_type": "stream",
     "text": [
      "/Users/tbent/.mambaforge/envs/tectosaur2/lib/python3.9/site-packages/scipy/integrate/quadpack.py:879: IntegrationWarning: The occurrence of roundoff error is detected, which prevents \n",
      "  the requested tolerance from being achieved.  The error may be \n",
      "  underestimated.\n",
      "  quad_r = quad(f, low, high, args=args, full_output=self.full_output,\n",
      "/Users/tbent/.mambaforge/envs/tectosaur2/lib/python3.9/site-packages/scipy/integrate/quadpack.py:879: IntegrationWarning: The occurrence of roundoff error is detected, which prevents \n",
      "  the requested tolerance from being achieved.  The error may be \n",
      "  underestimated.\n",
      "  quad_r = quad(f, low, high, args=args, full_output=self.full_output,\n",
      "/Users/tbent/.mambaforge/envs/tectosaur2/lib/python3.9/site-packages/scipy/integrate/quadpack.py:879: IntegrationWarning: The occurrence of roundoff error is detected, which prevents \n",
      "  the requested tolerance from being achieved.  The error may be \n",
      "  underestimated.\n",
      "  quad_r = quad(f, low, high, args=args, full_output=self.full_output,\n",
      "/Users/tbent/.mambaforge/envs/tectosaur2/lib/python3.9/site-packages/scipy/integrate/quadpack.py:879: IntegrationWarning: The occurrence of roundoff error is detected, which prevents \n",
      "  the requested tolerance from being achieved.  The error may be \n",
      "  underestimated.\n",
      "  quad_r = quad(f, low, high, args=args, full_output=self.full_output,\n",
      "/Users/tbent/.mambaforge/envs/tectosaur2/lib/python3.9/site-packages/scipy/integrate/quadpack.py:879: IntegrationWarning: The occurrence of roundoff error is detected, which prevents \n",
      "  the requested tolerance from being achieved.  The error may be \n",
      "  underestimated.\n",
      "  quad_r = quad(f, low, high, args=args, full_output=self.full_output,\n",
      "/Users/tbent/.mambaforge/envs/tectosaur2/lib/python3.9/site-packages/scipy/integrate/quadpack.py:879: IntegrationWarning: The occurrence of roundoff error is detected, which prevents \n",
      "  the requested tolerance from being achieved.  The error may be \n",
      "  underestimated.\n",
      "  quad_r = quad(f, low, high, args=args, full_output=self.full_output,\n",
      "/Users/tbent/.mambaforge/envs/tectosaur2/lib/python3.9/site-packages/scipy/integrate/quadpack.py:879: IntegrationWarning: The occurrence of roundoff error is detected, which prevents \n",
      "  the requested tolerance from being achieved.  The error may be \n",
      "  underestimated.\n",
      "  quad_r = quad(f, low, high, args=args, full_output=self.full_output,\n",
      "/Users/tbent/.mambaforge/envs/tectosaur2/lib/python3.9/site-packages/scipy/integrate/quadpack.py:879: IntegrationWarning: The occurrence of roundoff error is detected, which prevents \n",
      "  the requested tolerance from being achieved.  The error may be \n",
      "  underestimated.\n",
      "  quad_r = quad(f, low, high, args=args, full_output=self.full_output,\n",
      "/Users/tbent/.mambaforge/envs/tectosaur2/lib/python3.9/site-packages/scipy/integrate/quadpack.py:879: IntegrationWarning: The occurrence of roundoff error is detected, which prevents \n",
      "  the requested tolerance from being achieved.  The error may be \n",
      "  underestimated.\n",
      "  quad_r = quad(f, low, high, args=args, full_output=self.full_output,\n",
      "/Users/tbent/.mambaforge/envs/tectosaur2/lib/python3.9/site-packages/scipy/integrate/quadpack.py:879: IntegrationWarning: The occurrence of roundoff error is detected, which prevents \n",
      "  the requested tolerance from being achieved.  The error may be \n",
      "  underestimated.\n",
      "  quad_r = quad(f, low, high, args=args, full_output=self.full_output,\n"
     ]
    },
    {
     "name": "stdout",
     "output_type": "stream",
     "text": [
      "CPU times: user 52.9 ms, sys: 32.5 ms, total: 85.3 ms\n",
      "Wall time: 50.6 s\n"
     ]
    }
   ],
   "source": [
    "%%time\n",
    "np.save(\"data/adj1_grid.npy\", compute_grid(1, 2, 2))"
   ]
  },
  {
   "cell_type": "code",
   "execution_count": 36,
   "id": "df0eb70f",
   "metadata": {
    "tags": []
   },
   "outputs": [
    {
     "name": "stderr",
     "output_type": "stream",
     "text": [
      "/Users/tbent/.mambaforge/envs/tectosaur2/lib/python3.9/site-packages/scipy/integrate/quadpack.py:879: IntegrationWarning: The occurrence of roundoff error is detected, which prevents \n",
      "  the requested tolerance from being achieved.  The error may be \n",
      "  underestimated.\n",
      "  quad_r = quad(f, low, high, args=args, full_output=self.full_output,\n",
      "/Users/tbent/.mambaforge/envs/tectosaur2/lib/python3.9/site-packages/scipy/integrate/quadpack.py:879: IntegrationWarning: The occurrence of roundoff error is detected, which prevents \n",
      "  the requested tolerance from being achieved.  The error may be \n",
      "  underestimated.\n",
      "  quad_r = quad(f, low, high, args=args, full_output=self.full_output,\n",
      "/Users/tbent/.mambaforge/envs/tectosaur2/lib/python3.9/site-packages/scipy/integrate/quadpack.py:879: IntegrationWarning: The occurrence of roundoff error is detected, which prevents \n",
      "  the requested tolerance from being achieved.  The error may be \n",
      "  underestimated.\n",
      "  quad_r = quad(f, low, high, args=args, full_output=self.full_output,\n",
      "/Users/tbent/.mambaforge/envs/tectosaur2/lib/python3.9/site-packages/scipy/integrate/quadpack.py:879: IntegrationWarning: The occurrence of roundoff error is detected, which prevents \n",
      "  the requested tolerance from being achieved.  The error may be \n",
      "  underestimated.\n",
      "  quad_r = quad(f, low, high, args=args, full_output=self.full_output,\n",
      "/Users/tbent/.mambaforge/envs/tectosaur2/lib/python3.9/site-packages/scipy/integrate/quadpack.py:879: IntegrationWarning: The occurrence of roundoff error is detected, which prevents \n",
      "  the requested tolerance from being achieved.  The error may be \n",
      "  underestimated.\n",
      "  quad_r = quad(f, low, high, args=args, full_output=self.full_output,\n",
      "/Users/tbent/.mambaforge/envs/tectosaur2/lib/python3.9/site-packages/scipy/integrate/quadpack.py:879: IntegrationWarning: The occurrence of roundoff error is detected, which prevents \n",
      "  the requested tolerance from being achieved.  The error may be \n",
      "  underestimated.\n",
      "  quad_r = quad(f, low, high, args=args, full_output=self.full_output,\n",
      "/Users/tbent/.mambaforge/envs/tectosaur2/lib/python3.9/site-packages/scipy/integrate/quadpack.py:879: IntegrationWarning: The occurrence of roundoff error is detected, which prevents \n",
      "  the requested tolerance from being achieved.  The error may be \n",
      "  underestimated.\n",
      "  quad_r = quad(f, low, high, args=args, full_output=self.full_output,\n",
      "/Users/tbent/.mambaforge/envs/tectosaur2/lib/python3.9/site-packages/scipy/integrate/quadpack.py:879: IntegrationWarning: The occurrence of roundoff error is detected, which prevents \n",
      "  the requested tolerance from being achieved.  The error may be \n",
      "  underestimated.\n",
      "  quad_r = quad(f, low, high, args=args, full_output=self.full_output,\n",
      "/Users/tbent/.mambaforge/envs/tectosaur2/lib/python3.9/site-packages/scipy/integrate/quadpack.py:879: IntegrationWarning: The occurrence of roundoff error is detected, which prevents \n",
      "  the requested tolerance from being achieved.  The error may be \n",
      "  underestimated.\n",
      "  quad_r = quad(f, low, high, args=args, full_output=self.full_output,\n",
      "/Users/tbent/.mambaforge/envs/tectosaur2/lib/python3.9/site-packages/scipy/integrate/quadpack.py:879: IntegrationWarning: The occurrence of roundoff error is detected, which prevents \n",
      "  the requested tolerance from being achieved.  The error may be \n",
      "  underestimated.\n",
      "  quad_r = quad(f, low, high, args=args, full_output=self.full_output,\n"
     ]
    },
    {
     "name": "stdout",
     "output_type": "stream",
     "text": [
      "CPU times: user 17.7 ms, sys: 30.3 ms, total: 48 ms\n",
      "Wall time: 1min 25s\n"
     ]
    }
   ],
   "source": [
    "%%time\n",
    "np.save(\"data/adj2_grid.npy\", compute_grid(1, 2, 0))"
   ]
  },
  {
   "cell_type": "code",
   "execution_count": 37,
   "id": "8aa2bb5b",
   "metadata": {
    "tags": []
   },
   "outputs": [
    {
     "name": "stderr",
     "output_type": "stream",
     "text": [
      "/Users/tbent/.mambaforge/envs/tectosaur2/lib/python3.9/site-packages/scipy/integrate/quadpack.py:879: IntegrationWarning: The occurrence of roundoff error is detected, which prevents \n",
      "  the requested tolerance from being achieved.  The error may be \n",
      "  underestimated.\n",
      "  quad_r = quad(f, low, high, args=args, full_output=self.full_output,\n",
      "/Users/tbent/.mambaforge/envs/tectosaur2/lib/python3.9/site-packages/scipy/integrate/quadpack.py:879: IntegrationWarning: The occurrence of roundoff error is detected, which prevents \n",
      "  the requested tolerance from being achieved.  The error may be \n",
      "  underestimated.\n",
      "  quad_r = quad(f, low, high, args=args, full_output=self.full_output,\n",
      "/Users/tbent/.mambaforge/envs/tectosaur2/lib/python3.9/site-packages/scipy/integrate/quadpack.py:879: IntegrationWarning: The occurrence of roundoff error is detected, which prevents \n",
      "  the requested tolerance from being achieved.  The error may be \n",
      "  underestimated.\n",
      "  quad_r = quad(f, low, high, args=args, full_output=self.full_output,\n",
      "/Users/tbent/.mambaforge/envs/tectosaur2/lib/python3.9/site-packages/scipy/integrate/quadpack.py:879: IntegrationWarning: The occurrence of roundoff error is detected, which prevents \n",
      "  the requested tolerance from being achieved.  The error may be \n",
      "  underestimated.\n",
      "  quad_r = quad(f, low, high, args=args, full_output=self.full_output,\n",
      "/Users/tbent/.mambaforge/envs/tectosaur2/lib/python3.9/site-packages/scipy/integrate/quadpack.py:879: IntegrationWarning: The occurrence of roundoff error is detected, which prevents \n",
      "  the requested tolerance from being achieved.  The error may be \n",
      "  underestimated.\n",
      "  quad_r = quad(f, low, high, args=args, full_output=self.full_output,\n",
      "/Users/tbent/.mambaforge/envs/tectosaur2/lib/python3.9/site-packages/scipy/integrate/quadpack.py:879: IntegrationWarning: The occurrence of roundoff error is detected, which prevents \n",
      "  the requested tolerance from being achieved.  The error may be \n",
      "  underestimated.\n",
      "  quad_r = quad(f, low, high, args=args, full_output=self.full_output,\n",
      "/Users/tbent/.mambaforge/envs/tectosaur2/lib/python3.9/site-packages/scipy/integrate/quadpack.py:879: IntegrationWarning: The occurrence of roundoff error is detected, which prevents \n",
      "  the requested tolerance from being achieved.  The error may be \n",
      "  underestimated.\n",
      "  quad_r = quad(f, low, high, args=args, full_output=self.full_output,\n",
      "/Users/tbent/.mambaforge/envs/tectosaur2/lib/python3.9/site-packages/scipy/integrate/quadpack.py:879: IntegrationWarning: The occurrence of roundoff error is detected, which prevents \n",
      "  the requested tolerance from being achieved.  The error may be \n",
      "  underestimated.\n",
      "  quad_r = quad(f, low, high, args=args, full_output=self.full_output,\n",
      "/Users/tbent/.mambaforge/envs/tectosaur2/lib/python3.9/site-packages/scipy/integrate/quadpack.py:879: IntegrationWarning: The occurrence of roundoff error is detected, which prevents \n",
      "  the requested tolerance from being achieved.  The error may be \n",
      "  underestimated.\n",
      "  quad_r = quad(f, low, high, args=args, full_output=self.full_output,\n",
      "/Users/tbent/.mambaforge/envs/tectosaur2/lib/python3.9/site-packages/scipy/integrate/quadpack.py:879: IntegrationWarning: The occurrence of roundoff error is detected, which prevents \n",
      "  the requested tolerance from being achieved.  The error may be \n",
      "  underestimated.\n",
      "  quad_r = quad(f, low, high, args=args, full_output=self.full_output,\n"
     ]
    },
    {
     "name": "stdout",
     "output_type": "stream",
     "text": [
      "CPU times: user 15.2 ms, sys: 31.1 ms, total: 46.3 ms\n",
      "Wall time: 48.1 s\n"
     ]
    }
   ],
   "source": [
    "%%time\n",
    "np.save(\"data/adj3_grid.npy\", compute_grid(2, 3, 3))"
   ]
  },
  {
   "cell_type": "code",
   "execution_count": 38,
   "id": "e510a321",
   "metadata": {
    "tags": []
   },
   "outputs": [
    {
     "name": "stderr",
     "output_type": "stream",
     "text": [
      "/Users/tbent/.mambaforge/envs/tectosaur2/lib/python3.9/site-packages/scipy/integrate/quadpack.py:879: IntegrationWarning: The occurrence of roundoff error is detected, which prevents \n",
      "  the requested tolerance from being achieved.  The error may be \n",
      "  underestimated.\n",
      "  quad_r = quad(f, low, high, args=args, full_output=self.full_output,\n",
      "/Users/tbent/.mambaforge/envs/tectosaur2/lib/python3.9/site-packages/scipy/integrate/quadpack.py:879: IntegrationWarning: The occurrence of roundoff error is detected, which prevents \n",
      "  the requested tolerance from being achieved.  The error may be \n",
      "  underestimated.\n",
      "  quad_r = quad(f, low, high, args=args, full_output=self.full_output,\n",
      "/Users/tbent/.mambaforge/envs/tectosaur2/lib/python3.9/site-packages/scipy/integrate/quadpack.py:879: IntegrationWarning: The occurrence of roundoff error is detected, which prevents \n",
      "  the requested tolerance from being achieved.  The error may be \n",
      "  underestimated.\n",
      "  quad_r = quad(f, low, high, args=args, full_output=self.full_output,\n",
      "/Users/tbent/.mambaforge/envs/tectosaur2/lib/python3.9/site-packages/scipy/integrate/quadpack.py:879: IntegrationWarning: The occurrence of roundoff error is detected, which prevents \n",
      "  the requested tolerance from being achieved.  The error may be \n",
      "  underestimated.\n",
      "  quad_r = quad(f, low, high, args=args, full_output=self.full_output,\n",
      "/Users/tbent/.mambaforge/envs/tectosaur2/lib/python3.9/site-packages/scipy/integrate/quadpack.py:879: IntegrationWarning: The occurrence of roundoff error is detected, which prevents \n",
      "  the requested tolerance from being achieved.  The error may be \n",
      "  underestimated.\n",
      "  quad_r = quad(f, low, high, args=args, full_output=self.full_output,\n",
      "/Users/tbent/.mambaforge/envs/tectosaur2/lib/python3.9/site-packages/scipy/integrate/quadpack.py:879: IntegrationWarning: The occurrence of roundoff error is detected, which prevents \n",
      "  the requested tolerance from being achieved.  The error may be \n",
      "  underestimated.\n",
      "  quad_r = quad(f, low, high, args=args, full_output=self.full_output,\n",
      "/Users/tbent/.mambaforge/envs/tectosaur2/lib/python3.9/site-packages/scipy/integrate/quadpack.py:879: IntegrationWarning: The occurrence of roundoff error is detected, which prevents \n",
      "  the requested tolerance from being achieved.  The error may be \n",
      "  underestimated.\n",
      "  quad_r = quad(f, low, high, args=args, full_output=self.full_output,\n",
      "/Users/tbent/.mambaforge/envs/tectosaur2/lib/python3.9/site-packages/scipy/integrate/quadpack.py:879: IntegrationWarning: The occurrence of roundoff error is detected, which prevents \n",
      "  the requested tolerance from being achieved.  The error may be \n",
      "  underestimated.\n",
      "  quad_r = quad(f, low, high, args=args, full_output=self.full_output,\n",
      "/Users/tbent/.mambaforge/envs/tectosaur2/lib/python3.9/site-packages/scipy/integrate/quadpack.py:879: IntegrationWarning: The occurrence of roundoff error is detected, which prevents \n",
      "  the requested tolerance from being achieved.  The error may be \n",
      "  underestimated.\n",
      "  quad_r = quad(f, low, high, args=args, full_output=self.full_output,\n",
      "/Users/tbent/.mambaforge/envs/tectosaur2/lib/python3.9/site-packages/scipy/integrate/quadpack.py:879: IntegrationWarning: The occurrence of roundoff error is detected, which prevents \n",
      "  the requested tolerance from being achieved.  The error may be \n",
      "  underestimated.\n",
      "  quad_r = quad(f, low, high, args=args, full_output=self.full_output,\n"
     ]
    },
    {
     "name": "stdout",
     "output_type": "stream",
     "text": [
      "CPU times: user 16 ms, sys: 30.3 ms, total: 46.3 ms\n",
      "Wall time: 1min 13s\n"
     ]
    }
   ],
   "source": [
    "%%time\n",
    "np.save(\"data/adj4_grid.npy\", compute_grid(2, 3, 1))"
   ]
  },
  {
   "cell_type": "code",
   "execution_count": 39,
   "id": "f2e1f7d5",
   "metadata": {
    "tags": []
   },
   "outputs": [
    {
     "name": "stderr",
     "output_type": "stream",
     "text": [
      "/Users/tbent/.mambaforge/envs/tectosaur2/lib/python3.9/site-packages/scipy/integrate/quadpack.py:879: IntegrationWarning: The occurrence of roundoff error is detected, which prevents \n",
      "  the requested tolerance from being achieved.  The error may be \n",
      "  underestimated.\n",
      "  quad_r = quad(f, low, high, args=args, full_output=self.full_output,\n",
      "/Users/tbent/.mambaforge/envs/tectosaur2/lib/python3.9/site-packages/scipy/integrate/quadpack.py:879: IntegrationWarning: The occurrence of roundoff error is detected, which prevents \n",
      "  the requested tolerance from being achieved.  The error may be \n",
      "  underestimated.\n",
      "  quad_r = quad(f, low, high, args=args, full_output=self.full_output,\n",
      "/Users/tbent/.mambaforge/envs/tectosaur2/lib/python3.9/site-packages/scipy/integrate/quadpack.py:879: IntegrationWarning: The occurrence of roundoff error is detected, which prevents \n",
      "  the requested tolerance from being achieved.  The error may be \n",
      "  underestimated.\n",
      "  quad_r = quad(f, low, high, args=args, full_output=self.full_output,\n",
      "/Users/tbent/.mambaforge/envs/tectosaur2/lib/python3.9/site-packages/scipy/integrate/quadpack.py:879: IntegrationWarning: The occurrence of roundoff error is detected, which prevents \n",
      "  the requested tolerance from being achieved.  The error may be \n",
      "  underestimated.\n",
      "  quad_r = quad(f, low, high, args=args, full_output=self.full_output,\n",
      "/Users/tbent/.mambaforge/envs/tectosaur2/lib/python3.9/site-packages/scipy/integrate/quadpack.py:879: IntegrationWarning: The occurrence of roundoff error is detected, which prevents \n",
      "  the requested tolerance from being achieved.  The error may be \n",
      "  underestimated.\n",
      "  quad_r = quad(f, low, high, args=args, full_output=self.full_output,\n",
      "/Users/tbent/.mambaforge/envs/tectosaur2/lib/python3.9/site-packages/scipy/integrate/quadpack.py:879: IntegrationWarning: The occurrence of roundoff error is detected, which prevents \n",
      "  the requested tolerance from being achieved.  The error may be \n",
      "  underestimated.\n",
      "  quad_r = quad(f, low, high, args=args, full_output=self.full_output,\n",
      "/Users/tbent/.mambaforge/envs/tectosaur2/lib/python3.9/site-packages/scipy/integrate/quadpack.py:879: IntegrationWarning: The occurrence of roundoff error is detected, which prevents \n",
      "  the requested tolerance from being achieved.  The error may be \n",
      "  underestimated.\n",
      "  quad_r = quad(f, low, high, args=args, full_output=self.full_output,\n",
      "/Users/tbent/.mambaforge/envs/tectosaur2/lib/python3.9/site-packages/scipy/integrate/quadpack.py:879: IntegrationWarning: The occurrence of roundoff error is detected, which prevents \n",
      "  the requested tolerance from being achieved.  The error may be \n",
      "  underestimated.\n",
      "  quad_r = quad(f, low, high, args=args, full_output=self.full_output,\n",
      "/Users/tbent/.mambaforge/envs/tectosaur2/lib/python3.9/site-packages/scipy/integrate/quadpack.py:879: IntegrationWarning: The occurrence of roundoff error is detected, which prevents \n",
      "  the requested tolerance from being achieved.  The error may be \n",
      "  underestimated.\n",
      "  quad_r = quad(f, low, high, args=args, full_output=self.full_output,\n",
      "/Users/tbent/.mambaforge/envs/tectosaur2/lib/python3.9/site-packages/scipy/integrate/quadpack.py:879: IntegrationWarning: The occurrence of roundoff error is detected, which prevents \n",
      "  the requested tolerance from being achieved.  The error may be \n",
      "  underestimated.\n",
      "  quad_r = quad(f, low, high, args=args, full_output=self.full_output,\n"
     ]
    },
    {
     "name": "stdout",
     "output_type": "stream",
     "text": [
      "CPU times: user 17.8 ms, sys: 30.1 ms, total: 47.9 ms\n",
      "Wall time: 55.8 s\n"
     ]
    }
   ],
   "source": [
    "%%time\n",
    "np.save(\"data/adj5_grid.npy\", compute_grid(0.5, 1.5, 1.5))"
   ]
  },
  {
   "cell_type": "code",
   "execution_count": 40,
   "id": "9b2105c1",
   "metadata": {
    "tags": []
   },
   "outputs": [
    {
     "name": "stderr",
     "output_type": "stream",
     "text": [
      "/Users/tbent/.mambaforge/envs/tectosaur2/lib/python3.9/site-packages/scipy/integrate/quadpack.py:879: IntegrationWarning: The occurrence of roundoff error is detected, which prevents \n",
      "  the requested tolerance from being achieved.  The error may be \n",
      "  underestimated.\n",
      "  quad_r = quad(f, low, high, args=args, full_output=self.full_output,\n",
      "/Users/tbent/.mambaforge/envs/tectosaur2/lib/python3.9/site-packages/scipy/integrate/quadpack.py:879: IntegrationWarning: The occurrence of roundoff error is detected, which prevents \n",
      "  the requested tolerance from being achieved.  The error may be \n",
      "  underestimated.\n",
      "  quad_r = quad(f, low, high, args=args, full_output=self.full_output,\n",
      "/Users/tbent/.mambaforge/envs/tectosaur2/lib/python3.9/site-packages/scipy/integrate/quadpack.py:879: IntegrationWarning: The occurrence of roundoff error is detected, which prevents \n",
      "  the requested tolerance from being achieved.  The error may be \n",
      "  underestimated.\n",
      "  quad_r = quad(f, low, high, args=args, full_output=self.full_output,\n",
      "/Users/tbent/.mambaforge/envs/tectosaur2/lib/python3.9/site-packages/scipy/integrate/quadpack.py:879: IntegrationWarning: The occurrence of roundoff error is detected, which prevents \n",
      "  the requested tolerance from being achieved.  The error may be \n",
      "  underestimated.\n",
      "  quad_r = quad(f, low, high, args=args, full_output=self.full_output,\n",
      "/Users/tbent/.mambaforge/envs/tectosaur2/lib/python3.9/site-packages/scipy/integrate/quadpack.py:879: IntegrationWarning: The occurrence of roundoff error is detected, which prevents \n",
      "  the requested tolerance from being achieved.  The error may be \n",
      "  underestimated.\n",
      "  quad_r = quad(f, low, high, args=args, full_output=self.full_output,\n",
      "/Users/tbent/.mambaforge/envs/tectosaur2/lib/python3.9/site-packages/scipy/integrate/quadpack.py:879: IntegrationWarning: The occurrence of roundoff error is detected, which prevents \n",
      "  the requested tolerance from being achieved.  The error may be \n",
      "  underestimated.\n",
      "  quad_r = quad(f, low, high, args=args, full_output=self.full_output,\n",
      "/Users/tbent/.mambaforge/envs/tectosaur2/lib/python3.9/site-packages/scipy/integrate/quadpack.py:879: IntegrationWarning: The occurrence of roundoff error is detected, which prevents \n",
      "  the requested tolerance from being achieved.  The error may be \n",
      "  underestimated.\n",
      "  quad_r = quad(f, low, high, args=args, full_output=self.full_output,\n",
      "/Users/tbent/.mambaforge/envs/tectosaur2/lib/python3.9/site-packages/scipy/integrate/quadpack.py:879: IntegrationWarning: The occurrence of roundoff error is detected, which prevents \n",
      "  the requested tolerance from being achieved.  The error may be \n",
      "  underestimated.\n",
      "  quad_r = quad(f, low, high, args=args, full_output=self.full_output,\n",
      "/Users/tbent/.mambaforge/envs/tectosaur2/lib/python3.9/site-packages/scipy/integrate/quadpack.py:879: IntegrationWarning: The occurrence of roundoff error is detected, which prevents \n",
      "  the requested tolerance from being achieved.  The error may be \n",
      "  underestimated.\n",
      "  quad_r = quad(f, low, high, args=args, full_output=self.full_output,\n",
      "/Users/tbent/.mambaforge/envs/tectosaur2/lib/python3.9/site-packages/scipy/integrate/quadpack.py:879: IntegrationWarning: The occurrence of roundoff error is detected, which prevents \n",
      "  the requested tolerance from being achieved.  The error may be \n",
      "  underestimated.\n",
      "  quad_r = quad(f, low, high, args=args, full_output=self.full_output,\n"
     ]
    },
    {
     "name": "stdout",
     "output_type": "stream",
     "text": [
      "CPU times: user 16.8 ms, sys: 30.3 ms, total: 47.1 ms\n",
      "Wall time: 1min 37s\n"
     ]
    }
   ],
   "source": [
    "%%time\n",
    "np.save(\"data/adj6_grid.npy\", compute_grid(0.5, 1.5, 0.5))"
   ]
  },
  {
   "cell_type": "code",
   "execution_count": 41,
   "id": "690e8f9b",
   "metadata": {},
   "outputs": [],
   "source": [
    "grid_filenames = [\n",
    "    \"data/coincident_grid.npy\",\n",
    "    \"data/adj1_grid.npy\",\n",
    "    \"data/adj2_grid.npy\",\n",
    "    \"data/adj3_grid.npy\",\n",
    "    \"data/adj4_grid.npy\",\n",
    "    \"data/adj5_grid.npy\",\n",
    "    \"data/adj6_grid.npy\",\n",
    "]\n",
    "raw_grids = np.array([np.load(g, allow_pickle=True) for g in grid_filenames])"
   ]
  },
  {
   "cell_type": "code",
   "execution_count": 42,
   "id": "674fa377",
   "metadata": {},
   "outputs": [
    {
     "data": {
      "text/plain": [
       "[(2401, 2), (2401, 2), (2401, 2), (2401, 2), (2401, 2), (2401, 2), (2401, 2)]"
      ]
     },
     "execution_count": 42,
     "metadata": {},
     "output_type": "execute_result"
    }
   ],
   "source": [
    "[raw_grids[i].shape for i in range(7)]"
   ]
  },
  {
   "cell_type": "markdown",
   "id": "69d649dc",
   "metadata": {},
   "source": [
    "The estimated error is extremely small for all the integrals!"
   ]
  },
  {
   "cell_type": "code",
   "execution_count": 43,
   "id": "70dac8ad",
   "metadata": {},
   "outputs": [
    {
     "data": {
      "text/plain": [
       "(array([], dtype=int64), array([], dtype=int64))"
      ]
     },
     "execution_count": 43,
     "metadata": {},
     "output_type": "execute_result"
    }
   ],
   "source": [
    "np.where(raw_grids[:, :, 1] > 5e-15)"
   ]
  },
  {
   "cell_type": "code",
   "execution_count": 44,
   "id": "e4865ae4",
   "metadata": {},
   "outputs": [],
   "source": [
    "all_integrals = raw_grids[:, :, 0].reshape((7, N, N, N ** 2))"
   ]
  },
  {
   "cell_type": "markdown",
   "id": "8cf91f0b",
   "metadata": {},
   "source": [
    "## Rotations"
   ]
  },
  {
   "cell_type": "code",
   "execution_count": 45,
   "id": "0ae0ee5e",
   "metadata": {},
   "outputs": [],
   "source": [
    "def get_test_values(\n",
    "    soln_fnc, obs_scale, obs_offsetx, obs_offsety, src_center=[0, 0], src_size=[2, 2]\n",
    "):\n",
    "    correct = np.zeros((N, N))\n",
    "    for i in range(N):\n",
    "        for j in range(N):\n",
    "            obsx = obs_offsetx + obs_scale * chebyshev_pts_np[i]\n",
    "            obsy = obs_offsety + obs_scale * chebyshev_pts_np[j]\n",
    "            is_x_edge = np.abs(np.abs(obsx - src_center[0]) - (src_size[0] / 2)) < 1e-8\n",
    "            is_y_edge = np.abs(np.abs(obsy - src_center[1]) - (src_size[1] / 2)) < 1e-8\n",
    "            if is_x_edge or is_y_edge:\n",
    "                correct[i, j] = np.nan\n",
    "            else:\n",
    "                correct[i, j] = soln_fnc(obsx, obsy)\n",
    "    return correct"
   ]
  },
  {
   "cell_type": "markdown",
   "id": "6ff95d2e",
   "metadata": {},
   "source": [
    "### Type 1"
   ]
  },
  {
   "cell_type": "code",
   "execution_count": 46,
   "id": "703c3c03",
   "metadata": {},
   "outputs": [],
   "source": [
    "correct_upper_right = get_test_values(xy_soln_nearfield, 1.0, 2.0, 2.0)\n",
    "correct_upper_left = get_test_values(xy_soln_nearfield, 1.0, -2.0, 2.0)\n",
    "correct_lower_left = get_test_values(xy_soln_nearfield, 1.0, -2.0, -2.0)\n",
    "correct_lower_right = get_test_values(xy_soln_nearfield, 1.0, 2.0, -2.0)"
   ]
  },
  {
   "cell_type": "code",
   "execution_count": 47,
   "id": "8f90a256",
   "metadata": {},
   "outputs": [
    {
     "data": {
      "text/plain": [
       "array([[       nan,        nan,        nan,        nan,        nan,\n",
       "               nan,        nan],\n",
       "       [       nan, 0.20888632, 0.17373242, 0.15911242, 0.16858598,\n",
       "        0.18298914, 0.18908312],\n",
       "       [       nan, 0.22559911, 0.20892128, 0.19826569, 0.20269528,\n",
       "        0.21233289, 0.21673324],\n",
       "       [       nan, 0.2508107 , 0.24387345, 0.23881498, 0.24135717,\n",
       "        0.24752993, 0.25050649],\n",
       "       [       nan, 0.27691704, 0.27327772, 0.2710482 , 0.27327336,\n",
       "        0.27776208, 0.27993961],\n",
       "       [       nan, 0.29536519, 0.29276997, 0.2915246 , 0.29364047,\n",
       "        0.29739278, 0.29919733],\n",
       "       [       nan, 0.30189447, 0.29954793, 0.29853069, 0.30060083,\n",
       "        0.30413974, 0.30583523]])"
      ]
     },
     "execution_count": 47,
     "metadata": {},
     "output_type": "execute_result"
    }
   ],
   "source": [
    "correct_upper_right"
   ]
  },
  {
   "cell_type": "code",
   "execution_count": 48,
   "id": "e03afbc5",
   "metadata": {},
   "outputs": [
    {
     "data": {
      "text/plain": [
       "array([[        nan,  0.09074064,  0.09204139,  0.10753345,  0.13282085,\n",
       "         0.15427345,  0.1623824 ],\n",
       "       [        nan,  0.07131131,  0.07373736,  0.09215686,  0.12068423,\n",
       "         0.14424874,  0.15304884],\n",
       "       [        nan,  0.0089379 ,  0.01662526,  0.04651891,  0.0863706 ,\n",
       "         0.11675999,  0.12770958],\n",
       "       [        nan, -0.10844552, -0.08249146, -0.02333965,  0.03923725,\n",
       "         0.08131004,  0.09567511],\n",
       "       [        nan, -0.28996818, -0.20876109, -0.09342036, -0.00062511,\n",
       "         0.05392614,  0.07160381],\n",
       "       [        nan, -0.48574513, -0.30141969, -0.13029595, -0.01754761,\n",
       "         0.04360349,  0.06286849],\n",
       "       [        nan,         nan,         nan,         nan,         nan,\n",
       "                nan,         nan]])"
      ]
     },
     "execution_count": 48,
     "metadata": {},
     "output_type": "execute_result"
    }
   ],
   "source": [
    "correct_upper_left"
   ]
  },
  {
   "cell_type": "code",
   "execution_count": 49,
   "id": "35c6f4af",
   "metadata": {},
   "outputs": [
    {
     "data": {
      "text/plain": [
       "array([[0.36374441, 0.35846448, 0.34283192, 0.31766295, 0.28625841,\n",
       "        0.25829044,        nan],\n",
       "       [0.3633949 , 0.35814517, 0.34257328, 0.31729217, 0.28511346,\n",
       "        0.25572832,        nan],\n",
       "       [0.36343366, 0.35840148, 0.34348967, 0.31892035, 0.28581558,\n",
       "        0.2529321 ,        nan],\n",
       "       [0.36552329, 0.36111733, 0.34845151, 0.32831954, 0.29972128,\n",
       "        0.2660471 ,        nan],\n",
       "       [0.36877798, 0.36521734, 0.35594783, 0.34478058, 0.33373555,\n",
       "        0.31641851,        nan],\n",
       "       [0.37073844, 0.36767569, 0.36058409, 0.35649664, 0.36650752,\n",
       "        0.38970031,        nan],\n",
       "       [       nan,        nan,        nan,        nan,        nan,\n",
       "               nan,        nan]])"
      ]
     },
     "execution_count": 49,
     "metadata": {},
     "output_type": "execute_result"
    }
   ],
   "source": [
    "correct_lower_left"
   ]
  },
  {
   "cell_type": "code",
   "execution_count": 50,
   "id": "5bcc635a",
   "metadata": {},
   "outputs": [
    {
     "data": {
      "text/plain": [
       "array([[       nan,        nan,        nan,        nan,        nan,\n",
       "               nan,        nan],\n",
       "       [0.36686762, 0.36143314, 0.34498273, 0.31685687, 0.27773852,\n",
       "        0.23921819,        nan],\n",
       "       [0.36952187, 0.36415523, 0.34814038, 0.32211418, 0.29018609,\n",
       "        0.26450932,        nan],\n",
       "       [0.37574162, 0.37076171, 0.35629   , 0.33436921, 0.31063682,\n",
       "        0.29375771,        nan],\n",
       "       [0.38414986, 0.37969096, 0.3670398 , 0.34884848, 0.33043982,\n",
       "        0.31781816,        nan],\n",
       "       [0.39119204, 0.38711798, 0.37571654, 0.35974538, 0.34401081,\n",
       "        0.33329663,        nan],\n",
       "       [0.39389428, 0.38995544, 0.37897911, 0.36371941, 0.34878918,\n",
       "        0.33863212,        nan]])"
      ]
     },
     "execution_count": 50,
     "metadata": {},
     "output_type": "execute_result"
    }
   ],
   "source": [
    "correct_lower_right"
   ]
  },
  {
   "cell_type": "code",
   "execution_count": 51,
   "id": "ca431a99",
   "metadata": {},
   "outputs": [
    {
     "name": "stdout",
     "output_type": "stream",
     "text": [
      "3.4638958368304884e-14\n",
      "3.877453913503359e-14\n",
      "2.015054789694659e-14\n",
      "3.858025010572419e-14\n"
     ]
    }
   ],
   "source": [
    "def nearfield_box(I, Fv, flipx, flipy, rotxy):\n",
    "    Fv = Fv.reshape((N,N))\n",
    "\n",
    "    n_rot = {\n",
    "        (1, 1): 0,\n",
    "        (1, -1): 1,\n",
    "        (-1, -1): 2,\n",
    "        (-1, 1): 3\n",
    "    }[(flipx, flipy)]\n",
    "    n_transpose = ((n_rot % 2) == 1) + rotxy\n",
    "\n",
    "    # Rotate from input coordinates into position\n",
    "    Fv = np.rot90(Fv, n_rot)\n",
    "    if n_transpose % 2 == 1:\n",
    "        Fv = Fv.T\n",
    "\n",
    "    est = I.dot(Fv.ravel())\n",
    "    # Reverse the transformation back to the original input space\n",
    "    if n_transpose % 2 == 1:\n",
    "        est = est.T\n",
    "    est = np.rot90(est, -n_rot)\n",
    "    return est\n",
    "\n",
    "\n",
    "for C, flipx, flipy in [\n",
    "    (correct_upper_right, 1, 1),\n",
    "    (correct_upper_left, -1, 1),\n",
    "    (correct_lower_left, -1, -1),\n",
    "    (correct_lower_right, 1, -1),\n",
    "]:\n",
    "    Fv = xy_laplacian(cheb2d[:,0], cheb2d[:,1]).reshape((N,N))\n",
    "    est = nearfield_box(all_integrals[1], Fv, flipx, flipy, 0)\n",
    "    print(np.max(np.abs((C - est)[~np.isnan(C)])))"
   ]
  },
  {
   "cell_type": "markdown",
   "id": "6d34443f",
   "metadata": {},
   "source": [
    "### Type 2"
   ]
  },
  {
   "cell_type": "code",
   "execution_count": 52,
   "id": "81b2a523",
   "metadata": {},
   "outputs": [],
   "source": [
    "correct_middle_right = get_test_values(xy_soln_nearfield, 1.0, 2.0, 0.0)\n",
    "correct_top_center = get_test_values(xy_soln_nearfield, 1.0, 0.0, 2.0)\n",
    "correct_middle_left = get_test_values(xy_soln_nearfield, 1.0, -2.0, 0.0)\n",
    "correct_bottom_center = get_test_values(xy_soln_nearfield, 1.0, 0.0, -2.0)"
   ]
  },
  {
   "cell_type": "code",
   "execution_count": 53,
   "id": "12a56c3d",
   "metadata": {},
   "outputs": [
    {
     "name": "stdout",
     "output_type": "stream",
     "text": [
      "4.884981308350689e-15\n",
      "4.891920202254596e-15\n",
      "4.6629367034256575e-15\n",
      "4.9960036108132044e-15\n"
     ]
    }
   ],
   "source": [
    "for C, flipx, flipy, rotxy in [\n",
    "    (correct_middle_right, 1, 1, 0),\n",
    "    (correct_top_center, 1, 1, 1),\n",
    "    (correct_middle_left, -1, 1, 0),\n",
    "    (correct_bottom_center, 1, -1, 1),\n",
    "]:\n",
    "    Fv = xy_laplacian(cheb2d[:,0], cheb2d[:,1])\n",
    "    est = nearfield_box(all_integrals[2], Fv, flipx, flipy, rotxy)\n",
    "    print(np.max(np.abs((C - est)[~np.isnan(C)])))"
   ]
  },
  {
   "cell_type": "code",
   "execution_count": 54,
   "id": "980d1956",
   "metadata": {},
   "outputs": [],
   "source": [
    "boxes = {\n",
    "    # Type 0 (coincident)\n",
    "    (1, 0, 0): (0, 1, 1, 0),\n",
    "    # Type 1\n",
    "    (1, 2, 2): (1, 1, 1, 0),\n",
    "    (1, -2, 2): (1, -1, 1, 0),\n",
    "    (1, -2, -2): (1, -1, -1, 0),\n",
    "    (1, 2, -2): (1, 1, -1, 0),\n",
    "    # Type 2\n",
    "    (1, 2, 0): (2, 1, 1, 0),\n",
    "    (1, 0, 2): (2, 1, 1, 1),\n",
    "    (1, -2, 0): (2, -1, 1, 0),\n",
    "    (1, 0, -2): (2, 1, -1, 1),\n",
    "    # Type 3\n",
    "    (2, 3, 3): (3, 1, 1, 0),\n",
    "    (2, -3, 3): (3, -1, 1, 0),\n",
    "    (2, -3, -3): (3, -1, -1, 0),\n",
    "    (2, 3, -3): (3, 1, -1, 0),\n",
    "    # Type 4\n",
    "    (2, 1, 3): (4, 1, 1, 1),\n",
    "    (2, -1, 3): (4, -1, 1, 1),\n",
    "    (2, -3, 1): (4, -1, 1, 0),\n",
    "    (2, -3, -1): (4, -1, -1, 0),\n",
    "    (2, -1, -3): (4, -1, -1, 1),\n",
    "    (2, 1, -3): (4, 1, -1, 1),\n",
    "    (2, 3, -1): (4, 1, -1, 0),\n",
    "    (2, 3, 1): (4, 1, 1, 0),\n",
    "    # Type 5\n",
    "    (0.5, 1.5, 1.5): (5, 1, 1, 0),\n",
    "    (0.5, -1.5, 1.5): (5, -1, 1, 0),\n",
    "    (0.5, -1.5, -1.5): (5, -1, -1, 0),\n",
    "    (0.5, 1.5, -1.5): (5, 1, -1, 0),\n",
    "    # Type 6\n",
    "    (0.5, 0.5, 1.5): (6, 1, 1, 1),\n",
    "    (0.5, -0.5, 1.5): (6, -1, 1, 1),\n",
    "    (0.5, -1.5, 0.5): (6, -1, 1, 0),\n",
    "    (0.5, -1.5, -0.5): (6, -1, -1, 0),\n",
    "    (0.5, -0.5, -1.5): (6, -1, -1, 1),\n",
    "    (0.5, 0.5, -1.5): (6, 1, -1, 1),\n",
    "    (0.5, 1.5, -0.5): (6, 1, -1, 0),\n",
    "    (0.5, 1.5, 0.5): (6, 1, 1, 0),\n",
    "}"
   ]
  },
  {
   "cell_type": "code",
   "execution_count": 55,
   "id": "019e4f79",
   "metadata": {},
   "outputs": [
    {
     "name": "stdout",
     "output_type": "stream",
     "text": [
      "7.771561172376096e-16\n",
      "3.4638958368304884e-14\n",
      "3.877453913503359e-14\n",
      "2.015054789694659e-14\n",
      "3.858025010572419e-14\n",
      "4.884981308350689e-15\n",
      "4.891920202254596e-15\n",
      "4.6629367034256575e-15\n",
      "4.9960036108132044e-15\n",
      "1.70263803056514e-12\n",
      "7.013833958069426e-13\n",
      "5.279110482092619e-13\n",
      "7.758793607592906e-13\n",
      "3.019251515468113e-13\n",
      "2.923217223838037e-13\n",
      "2.871036741680655e-13\n",
      "1.3089529460330596e-13\n",
      "9.764411501578252e-14\n",
      "8.715250743307479e-14\n",
      "1.811328864675943e-13\n",
      "7.527312106958561e-14\n",
      "5.329070518200751e-15\n",
      "8.174017018802715e-15\n",
      "4.496403249731884e-15\n",
      "3.941291737419306e-15\n",
      "1.5126788710517758e-15\n",
      "3.747002708109903e-15\n",
      "2.886579864025407e-15\n",
      "3.469446951953614e-15\n",
      "1.3322676295501878e-15\n",
      "2.3869795029440866e-15\n",
      "1.1657341758564144e-15\n",
      "2.0539125955565396e-15\n"
     ]
    }
   ],
   "source": [
    "for box_loc, rot_params in boxes.items():\n",
    "    soln_fnc = xy_soln_coincident if rot_params[0] == 0 else xy_soln_nearfield\n",
    "    C = get_test_values(soln_fnc, *box_loc)\n",
    "    Fv = xy_laplacian(cheb2d[:,0], cheb2d[:,1])\n",
    "    est = nearfield_box(all_integrals[rot_params[0]], Fv, *rot_params[1:])\n",
    "    print(np.max(np.abs((C - est)[~np.isnan(C)])))"
   ]
  },
  {
   "cell_type": "markdown",
   "id": "a9dbdddd",
   "metadata": {},
   "source": [
    "## Scaling"
   ]
  },
  {
   "cell_type": "markdown",
   "id": "1038dffe",
   "metadata": {},
   "source": [
    "The remaining piece is to scale the source and observation boxes so that they fit into the rotation scheme above."
   ]
  },
  {
   "cell_type": "code",
   "execution_count": 56,
   "id": "075fe104",
   "metadata": {},
   "outputs": [],
   "source": [
    "def get_test_values(\n",
    "    soln_fnc, obs_scale, obs_offsetx, obs_offsety, src_center=[0, 0], src_size=2\n",
    "):\n",
    "    correct = np.zeros((N, N))\n",
    "    for i in range(N):\n",
    "        for j in range(N):\n",
    "            obsx = obs_offsetx + obs_scale * chebyshev_pts_np[i]\n",
    "            obsy = obs_offsety + obs_scale * chebyshev_pts_np[j]\n",
    "            is_x_edge = np.abs(np.abs(obsx - src_center[0]) - (src_size / 2)) < 1e-8\n",
    "            is_y_edge = np.abs(np.abs(obsy - src_center[1]) - (src_size / 2)) < 1e-8\n",
    "            if is_x_edge or is_y_edge:\n",
    "                correct[i, j] = np.nan\n",
    "            else:\n",
    "                correct[i, j] = soln_fnc(obsx, obsy)\n",
    "    return correct"
   ]
  },
  {
   "cell_type": "code",
   "execution_count": 57,
   "id": "d31349a1",
   "metadata": {},
   "outputs": [],
   "source": [
    "with open(\"data/constant_transformed_test_integral.pkl\", \"rb\") as f:\n",
    "    constant_soln_shifted = [sp.lambdify((ox, oy), I, \"numpy\") for I in pickle.load(f)]\n",
    "with open(\"data/xy_transformed_test_integral.pkl\", \"rb\") as f:\n",
    "    xy_soln_shifted = [sp.lambdify((ox, oy), I, \"numpy\") for I in pickle.load(f)]"
   ]
  },
  {
   "cell_type": "code",
   "execution_count": 58,
   "id": "44b76d62",
   "metadata": {},
   "outputs": [
    {
     "name": "stderr",
     "output_type": "stream",
     "text": [
      "/Users/tbent/.mambaforge/envs/tectosaur2/lib/python3.9/site-packages/scipy/integrate/quadpack.py:879: IntegrationWarning: The occurrence of roundoff error is detected, which prevents \n",
      "  the requested tolerance from being achieved.  The error may be \n",
      "  underestimated.\n",
      "  quad_r = quad(f, low, high, args=args, full_output=self.full_output,\n"
     ]
    }
   ],
   "source": [
    "basis_integrals = np.empty((N, N))\n",
    "for srci in range(N):\n",
    "    for srcj in range(N):\n",
    "        basis_sxsy = basis_functions[srci].subs(x, sx) * basis_functions[srcj].subs(x, sy)\n",
    "        basis = sp.lambdify((sx, sy), basis_sxsy, \"numpy\")\n",
    "        I = scipy.integrate.dblquad(basis, -1, 1, -1, 1, epsabs=1e-16, epsrel=1e-16)\n",
    "        basis_integrals[srci, srcj] = I[0]"
   ]
  },
  {
   "cell_type": "code",
   "execution_count": 59,
   "id": "4c40bab7",
   "metadata": {},
   "outputs": [
    {
     "name": "stdout",
     "output_type": "stream",
     "text": [
      "\n",
      "for source size=0.25\n",
      "xy error:  2.47198095326695e-17\n",
      "\n",
      "for source size=0.5\n",
      "xy error:  1.6132928326584306e-16\n",
      "\n",
      "for source size=1.0\n",
      "xy error:  9.43689570931383e-16\n",
      "\n",
      "for source size=2.0\n",
      "xy error:  1.099120794378905e-14\n",
      "\n",
      "for source size=4.0\n",
      "xy error:  1.1111112030448567e-12\n"
     ]
    }
   ],
   "source": [
    "def scale_integral(I, basis_dot_F, src_s):\n",
    "    scale_T = src_s / 2.0\n",
    "    C = scale_T ** 2\n",
    "    log_factor = C * (1 / (2 * np.pi)) * np.log(scale_T)\n",
    "    return C * I + log_factor * basis_dot_F\n",
    "\n",
    "F_xy = lambda x, y: (1 - x) * (1 - y ** 2)\n",
    "for i, mult in enumerate([1, 2, 4, 8, 16]):\n",
    "    src_c = np.array([0, 0])\n",
    "    src_s = mult / 4.0\n",
    "    obs_c = np.array([src_c[0] + 0.5 * src_s, src_c[1] - 1.5 * src_s])\n",
    "    #obs_c = np.array([src_c[0] - 0.5 * src_s, src_c[1] - 1.5 * src_s])\n",
    "\n",
    "    obs_s = src_s * 2\n",
    "    transformed_obs_center = np.round(2 * (obs_c - src_c) / src_s, decimals=1)\n",
    "    transformed_obs_size = np.round(obs_s / src_s, decimals=1)\n",
    "\n",
    "    correct_xy = get_test_values(\n",
    "        xy_soln_shifted[i],\n",
    "        obs_s / 2.0,\n",
    "        obs_c[0],\n",
    "        obs_c[1],\n",
    "        src_center=src_c,\n",
    "        src_size=src_s,\n",
    "    )\n",
    "\n",
    "    src_box_pts = cheb2d * 0.5 * src_s + src_c[None,:]\n",
    "    Fv_xy = F_xy(src_box_pts[:,0], src_box_pts[:,1])\n",
    "\n",
    "    nearfield_info = boxes[(transformed_obs_size, *transformed_obs_center)]\n",
    "    integral_type, flipx, flipy, rotxy = nearfield_info\n",
    "\n",
    "    basis_I_xy = basis_integrals.ravel().dot(Fv_xy.ravel())\n",
    "\n",
    "    I_xy = nearfield_box(all_integrals[integral_type], Fv_xy, flipx, flipy, rotxy)\n",
    "\n",
    "    est_xy = scale_integral(I_xy, basis_I_xy, src_s)\n",
    "\n",
    "    print(f'\\nfor source size={src_s}')\n",
    "    print(\"xy error: \", np.max(np.abs(correct_xy - est_xy)[~np.isnan(correct_xy)]))"
   ]
  },
  {
   "cell_type": "markdown",
   "id": "a0e8a5f8",
   "metadata": {},
   "source": [
    "### Computing for an arbitrary box pair."
   ]
  },
  {
   "cell_type": "markdown",
   "id": "ed4a986c",
   "metadata": {},
   "source": [
    "1. Scale the source box to have width and length 2.\n",
    "2. Center the source box at `(0,0)`\n",
    "3. Perform the same transformations on the observation box.\n",
    "4. Because adjacent boxes are at most one level apart, they will fall into one of the 33 categories defined above.\n",
    "5. Retrieve the integral type and rotation information and compute the integral!\n",
    "6. Reverse the rotations.\n",
    "7. Reverse the scaling via the equations above."
   ]
  },
  {
   "cell_type": "code",
   "execution_count": 72,
   "id": "3b667500",
   "metadata": {},
   "outputs": [],
   "source": [
    "to_save = np.empty(2, object)\n",
    "to_save[0] = basis_integrals\n",
    "to_save[1] = all_integrals\n",
    "np.save(\"data/nearfield_integrals.npy\", to_save) "
   ]
  }
 ],
 "metadata": {
  "jupytext": {
   "formats": "ipynb,md:myst"
  },
  "kernelspec": {
   "display_name": "Python 3",
   "language": "python",
   "name": "python3"
  },
  "language_info": {
   "codemirror_mode": {
    "name": "ipython",
    "version": 3
   },
   "file_extension": ".py",
   "mimetype": "text/x-python",
   "name": "python",
   "nbconvert_exporter": "python",
   "pygments_lexer": "ipython3",
   "version": "3.9.7"
  }
 },
 "nbformat": 4,
 "nbformat_minor": 5
}
