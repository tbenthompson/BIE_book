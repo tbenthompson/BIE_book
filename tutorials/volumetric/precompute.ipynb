{
 "cells": [
  {
   "cell_type": "markdown",
   "id": "a1c01b58",
   "metadata": {},
   "source": [
    "# [DRAFT] Precomputing near-field volumetric integrals."
   ]
  },
  {
   "cell_type": "markdown",
   "id": "eb040316",
   "metadata": {},
   "source": [
    "## Setting up a test problem"
   ]
  },
  {
   "cell_type": "code",
   "execution_count": null,
   "id": "e94ab76c",
   "metadata": {},
   "outputs": [],
   "source": [
    "import numpy as np\n",
    "import matplotlib.pyplot as plt\n",
    "import sympy as sp\n",
    "\n",
    "%config InlineBackend.figure_format='retina'"
   ]
  },
  {
   "cell_type": "markdown",
   "id": "db974454",
   "metadata": {},
   "source": [
    "### Lagrange basis functions"
   ]
  },
  {
   "cell_type": "code",
   "execution_count": null,
   "id": "4f74ee98",
   "metadata": {
    "tags": []
   },
   "outputs": [],
   "source": [
    "N = 7\n",
    "chebyshev_pts = [sp.cos(sp.pi * i / (N - 1)) for i in range(N)][::-1]\n",
    "chebyshev_pts_np = np.array([float(p) for p in chebyshev_pts])\n",
    "x = sp.var(\"x\")"
   ]
  },
  {
   "cell_type": "code",
   "execution_count": null,
   "id": "20b7bd05",
   "metadata": {},
   "outputs": [],
   "source": [
    "basis_functions = []\n",
    "for i in range(N):\n",
    "    xi = chebyshev_pts[i]\n",
    "    prod = 1\n",
    "    # The definition of the Lagrange interpolating polynomial.\n",
    "    # In a numerical context, this definition is troublesome\n",
    "    # and it's better to use the barycentric Lagrange formulas.\n",
    "    # But this simple definition works fantastically well in\n",
    "    # a symbolic setting.\n",
    "    for j in range(N):\n",
    "        if j == i:\n",
    "            continue\n",
    "        xj = chebyshev_pts[j]\n",
    "        prod *= (x - xj) / (xi - xj)\n",
    "    basis_functions.append(prod.simplify().expand())"
   ]
  },
  {
   "cell_type": "code",
   "execution_count": null,
   "id": "7f60a359",
   "metadata": {},
   "outputs": [],
   "source": [
    "basis_functions"
   ]
  },
  {
   "cell_type": "markdown",
   "id": "426d5f23",
   "metadata": {},
   "source": [
    "### Precomputing coincident integrals with polar integration"
   ]
  },
  {
   "cell_type": "code",
   "execution_count": null,
   "id": "a56a3014",
   "metadata": {},
   "outputs": [],
   "source": [
    "C = 1.0 / (4 * np.pi)\n",
    "\n",
    "\n",
    "def fundamental_solution(obsx, obsy, srcx, srcy):\n",
    "    r2 = ((obsx - srcx) ** 2) + ((obsy - srcy) ** 2)\n",
    "    return C * np.log(r2)"
   ]
  },
  {
   "cell_type": "code",
   "execution_count": null,
   "id": "8a716ce8",
   "metadata": {},
   "outputs": [],
   "source": [
    "sx, sy = sp.var(\"sx, sy\")"
   ]
  },
  {
   "cell_type": "code",
   "execution_count": null,
   "id": "8af27e14",
   "metadata": {},
   "outputs": [],
   "source": [
    "import scipy.integrate\n",
    "\n",
    "\n",
    "def to_corner(ox, oy, cx, cy):\n",
    "    t = np.arctan2(cy - oy, cx - ox)\n",
    "    r = np.sqrt((cx - ox) ** 2 + (cy - oy) ** 2)\n",
    "    return [t, r]\n",
    "\n",
    "\n",
    "def compute_coincident(obsx, obsy, basis):\n",
    "    tol = 1e-16\n",
    "\n",
    "    def F(srcR, srcT):\n",
    "        if srcR == 0:\n",
    "            return 0\n",
    "        srcx = obsx + np.cos(srcT) * srcR\n",
    "        srcy = obsy + np.sin(srcT) * srcR\n",
    "        out = srcR * basis(srcx, srcy) * fundamental_solution(obsx, obsy, srcx, srcy)\n",
    "        return out\n",
    "\n",
    "    corner_vecs = [\n",
    "        to_corner(obsx, obsy, 1, 1),\n",
    "        to_corner(obsx, obsy, -1, 1),\n",
    "        to_corner(obsx, obsy, -1, -1),\n",
    "        to_corner(obsx, obsy, 1, -1),\n",
    "    ]\n",
    "    # Normally the theta value for corner idx 2 is negative because it\n",
    "    # is greater than Pi and the output range of arctan2 is [-pi,pi]\n",
    "    # But, if the observation point is on the bottom edge of the domain (y=-1)\n",
    "    # then it's possible for the the theta value to be exactly pi. If this is the\n",
    "    # case it will be positive and will mess up the integration domains for\n",
    "    # integrals 2 and 3. So, if it's positive here, we loop around and make\n",
    "    # it negative.\n",
    "    if corner_vecs[2][0] > 0:\n",
    "        corner_vecs[2][0] -= 2 * np.pi\n",
    "\n",
    "    subdomain = [\n",
    "        [corner_vecs[0][0], corner_vecs[1][0], lambda t: (1.0 - obsy) / np.sin(t)],\n",
    "        [\n",
    "            corner_vecs[1][0],\n",
    "            corner_vecs[2][0] + 2 * np.pi,\n",
    "            lambda t: (-1.0 - obsx) / np.cos(t),\n",
    "        ],\n",
    "        [corner_vecs[2][0], corner_vecs[3][0], lambda t: (-1.0 - obsy) / np.sin(t)],\n",
    "        [corner_vecs[3][0], corner_vecs[0][0], lambda t: (1.0 - obsx) / np.cos(t)],\n",
    "    ]\n",
    "\n",
    "    Is = []\n",
    "    for d in subdomain:\n",
    "        I = scipy.integrate.dblquad(F, d[0], d[1], 0.0, d[2], epsabs=tol, epsrel=tol)\n",
    "        Is.append(I)\n",
    "\n",
    "    result = sum([I[0] for I in Is])\n",
    "    err = sum([I[1] for I in Is])\n",
    "    return result, err"
   ]
  },
  {
   "cell_type": "code",
   "execution_count": null,
   "id": "77d7de5e",
   "metadata": {},
   "outputs": [],
   "source": [
    "import pickle\n",
    "\n",
    "with open(\"data/constant_test_integral.pkl\", \"rb\") as f:\n",
    "    coincident, nearfield = pickle.load(f)\n",
    "\n",
    "ox, oy = sp.symbols(\"ox, oy\")\n",
    "constant_soln_coincident = sp.lambdify((ox, oy), coincident, \"numpy\")\n",
    "constant_soln_nearfield = sp.lambdify((ox, oy), nearfield, \"numpy\")"
   ]
  },
  {
   "cell_type": "code",
   "execution_count": null,
   "id": "ba413478",
   "metadata": {},
   "outputs": [],
   "source": [
    "%%time\n",
    "est = compute_coincident(-0.5, -0.5, lambda sx, sy: 1.0)\n",
    "true = constant_soln_coincident(-0.5, -0.5)\n",
    "est[0], true, est[0] - true"
   ]
  },
  {
   "cell_type": "code",
   "execution_count": null,
   "id": "8c9836e5",
   "metadata": {},
   "outputs": [],
   "source": [
    "est = compute_coincident(1, 1, lambda sx, sy: 1.0)\n",
    "true = constant_soln_coincident(1 - 1e-7, 1 - 1e-7)\n",
    "est[0], true, est[0] - true"
   ]
  },
  {
   "cell_type": "code",
   "execution_count": null,
   "id": "bdbc375a",
   "metadata": {},
   "outputs": [],
   "source": [
    "est = compute_coincident(0, 1, lambda sx, sy: 1.0)\n",
    "true = constant_soln_coincident(0, -1 + 1e-7)\n",
    "est[0], true, est[0] - true"
   ]
  },
  {
   "cell_type": "code",
   "execution_count": null,
   "id": "76b01f05",
   "metadata": {
    "tags": []
   },
   "outputs": [],
   "source": [
    "import multiprocessing\n",
    "\n",
    "\n",
    "def mp_compute_coincident(obsx, obsy, srci, srcj):\n",
    "    basis_sxsy = basis_functions[srci].subs(x, sx) * basis_functions[srcj].subs(x, sy)\n",
    "    basis = sp.lambdify((sx, sy), basis_sxsy, \"numpy\")\n",
    "    return compute_coincident(obsx, obsy, basis)\n",
    "\n",
    "\n",
    "def get_inputs(obs_scale, obs_offsetx, obs_offsety):\n",
    "    inputs = []\n",
    "    for obsi in range(N):\n",
    "        for obsj in range(N):\n",
    "            obsx = obs_scale * chebyshev_pts_np[obsi] + obs_offsetx\n",
    "            obsy = obs_scale * chebyshev_pts_np[obsj] + obs_offsety\n",
    "            for srci in range(N):\n",
    "                for srcj in range(N):\n",
    "                    inputs.append((obsx, obsy, srci, srcj))\n",
    "    return inputs\n",
    "\n",
    "\n",
    "multiprocessing.set_start_method('fork')\n",
    "def coincident_grid():\n",
    "    inputs = get_inputs(1, 0, 0)\n",
    "    p = multiprocessing.Pool(5)\n",
    "    return np.array(p.starmap(mp_compute_coincident, inputs))"
   ]
  },
  {
   "cell_type": "code",
   "execution_count": null,
   "id": "d4be4a8a",
   "metadata": {},
   "outputs": [],
   "source": [
    "%%time\n",
    "np.save(\"data/coincident_grid.npy\", coincident_grid())"
   ]
  },
  {
   "cell_type": "code",
   "execution_count": null,
   "id": "4f8c0820",
   "metadata": {},
   "outputs": [],
   "source": [
    "# integrals_and_err = compute_grid(1, 0, 0)\n",
    "integrals_and_err = np.load(\"data/coincident_grid.npy\", allow_pickle=True)\n",
    "integrals = integrals_and_err[:, 0].reshape((N, N, N, N))\n",
    "error = integrals_and_err[:, 1].reshape((N, N, N, N))"
   ]
  },
  {
   "cell_type": "markdown",
   "id": "9b7dc174",
   "metadata": {},
   "source": [
    "There are no estimated errors greated than `5e-15`:"
   ]
  },
  {
   "cell_type": "code",
   "execution_count": null,
   "id": "45266ad1",
   "metadata": {},
   "outputs": [],
   "source": [
    "np.where(error > 5e-15)[0].shape[0]"
   ]
  },
  {
   "cell_type": "code",
   "execution_count": null,
   "id": "f0b448a9",
   "metadata": {},
   "outputs": [],
   "source": [
    "for i in range(1, N - 1):\n",
    "    for j in range(1, N - 1):\n",
    "        err = (\n",
    "            constant_soln_coincident(chebyshev_pts_np[i], chebyshev_pts_np[j])\n",
    "            - integrals[i, j, :, :].sum()\n",
    "        )\n",
    "        print(err)"
   ]
  },
  {
   "cell_type": "code",
   "execution_count": null,
   "id": "2b893645",
   "metadata": {},
   "outputs": [],
   "source": [
    "with open(\"data/xy_test_integral.pkl\", \"rb\") as f:\n",
    "    coincident, nearfield = pickle.load(f)\n",
    "xy_soln_coincident = sp.lambdify((ox, oy), coincident, \"numpy\")\n",
    "xy_soln_nearfield = sp.lambdify((ox, oy), nearfield, \"numpy\")\n",
    "xy_laplacian = lambda x, y: (1 - (1 - x) ** 3) * (1 - (y + 1) ** 2)"
   ]
  },
  {
   "cell_type": "code",
   "execution_count": null,
   "id": "45d4f748",
   "metadata": {},
   "outputs": [],
   "source": [
    "cheb2dX, cheb2dY = np.meshgrid(chebyshev_pts_np, chebyshev_pts_np)\n",
    "cheb2d = np.array([cheb2dX, cheb2dY]).T.reshape((-1, 2)).copy()"
   ]
  },
  {
   "cell_type": "code",
   "execution_count": null,
   "id": "6326deb2",
   "metadata": {},
   "outputs": [],
   "source": [
    "f = xy_laplacian(cheb2d[:, 0], cheb2d[:, 1])\n",
    "\n",
    "for i in range(1, N - 1):\n",
    "    for j in range(1, N - 1):\n",
    "        true = xy_soln_coincident(chebyshev_pts_np[i], chebyshev_pts_np[j])\n",
    "        est = integrals[i, j, :, :].ravel().dot(f.ravel())\n",
    "        err = true - est\n",
    "        print(err)"
   ]
  },
  {
   "cell_type": "markdown",
   "id": "7d8b4c8e",
   "metadata": {},
   "source": [
    "## Pre-computing adjacent integrals"
   ]
  },
  {
   "cell_type": "code",
   "execution_count": null,
   "id": "2c7d9500",
   "metadata": {},
   "outputs": [],
   "source": [
    "def is_on_source_edge(obsx, obsy):\n",
    "    on_left_right_edges = np.abs(obsx) == 1 and np.abs(obsy) <= 1\n",
    "    on_top_bottom_edges = np.abs(obsy) == 1 and np.abs(obsx) <= 1\n",
    "    return on_left_right_edges or on_top_bottom_edges\n",
    "\n",
    "\n",
    "def compute_nearfield(obsx, obsy, basis):\n",
    "    if is_on_source_edge(obsx, obsy):\n",
    "        return compute_coincident(obsx, obsy, basis)\n",
    "\n",
    "    tol = 1e-16\n",
    "\n",
    "    def F(srcy, srcx):\n",
    "        return basis(srcx, srcy) * fundamental_solution(obsx, obsy, srcx, srcy)\n",
    "\n",
    "    I = scipy.integrate.dblquad(F, -1, 1, -1, 1, epsabs=tol, epsrel=tol)\n",
    "    return I"
   ]
  },
  {
   "cell_type": "code",
   "execution_count": null,
   "id": "191b89e4",
   "metadata": {},
   "outputs": [],
   "source": [
    "est = compute_nearfield(1.1, 1.1, lambda x, y: 1.0)\n",
    "true = constant_soln_nearfield(1.1, 1.1)\n",
    "est[0], true, est[0] - true"
   ]
  },
  {
   "cell_type": "code",
   "execution_count": null,
   "id": "5660f329",
   "metadata": {},
   "outputs": [],
   "source": [
    "est = compute_nearfield(-1.1, -1.1, xy_laplacian)\n",
    "true = xy_soln_nearfield(-1.1, -1.1)\n",
    "est[0], true, est[0] - true"
   ]
  },
  {
   "cell_type": "code",
   "execution_count": null,
   "id": "e42b9df5",
   "metadata": {},
   "outputs": [],
   "source": [
    "est = compute_nearfield(1.0, 1.0, lambda x, y: 1.0)\n",
    "true = constant_soln_nearfield(1.0 + 1e-7, 1.0 + 1e-7)\n",
    "est[0], true, est[0] - true"
   ]
  },
  {
   "cell_type": "code",
   "execution_count": null,
   "id": "ddf3a549",
   "metadata": {},
   "outputs": [],
   "source": [
    "def mp_compute_nearfield(obsx, obsy, srci, srcj):\n",
    "    basis_sxsy = basis_functions[srci].subs(x, sx) * basis_functions[srcj].subs(x, sy)\n",
    "    basis = sp.lambdify((sx, sy), basis_sxsy, \"numpy\")\n",
    "    return compute_nearfield(obsx, obsy, basis)\n",
    "\n",
    "\n",
    "def compute_grid(obs_scale, obs_offsetx, obs_offsety):\n",
    "    inputs = get_inputs(obs_scale, obs_offsetx, obs_offsety)\n",
    "    p = multiprocessing.Pool()\n",
    "    return np.array(p.starmap(mp_compute_nearfield, inputs))"
   ]
  },
  {
   "cell_type": "code",
   "execution_count": null,
   "id": "b17dd7c1",
   "metadata": {
    "tags": []
   },
   "outputs": [],
   "source": [
    "import matplotlib.patches as patches\n",
    "\n",
    "xrange = [-1.5, 6]\n",
    "yrange = [-1.5, 6]\n",
    "\n",
    "\n",
    "def size_and_aspect():\n",
    "    plt.xlim(*xrange)\n",
    "    plt.ylim(*yrange)\n",
    "    # plt.axis(\"off\")\n",
    "    ax = plt.gca()\n",
    "    # ax.set_axis_off()\n",
    "    plt.subplots_adjust(top=1, bottom=0, right=1, left=0, hspace=0, wspace=0)\n",
    "    plt.margins(0, 0)\n",
    "    ax.xaxis.set_major_locator(plt.NullLocator())\n",
    "    ax.yaxis.set_major_locator(plt.NullLocator())\n",
    "    # plt.axis('equal')\n",
    "\n",
    "\n",
    "plt.figure(figsize=(4, 8))\n",
    "\n",
    "plt.subplot(3, 2, 1)\n",
    "plt.gca().add_patch(patches.Rectangle((-1, -1), 2, 2, linewidth=1, edgecolor=\"k\"))\n",
    "plt.gca().add_patch(\n",
    "    patches.Rectangle((1, 1), 2, 2, linewidth=1, edgecolor=\"k\", facecolor=\"none\")\n",
    ")\n",
    "plt.text(1.75, 1.65, \"1\", fontsize=30)\n",
    "size_and_aspect()\n",
    "\n",
    "plt.subplot(3, 2, 2)\n",
    "plt.gca().add_patch(patches.Rectangle((-1, -1), 2, 2, linewidth=1, edgecolor=\"k\"))\n",
    "plt.gca().add_patch(\n",
    "    patches.Rectangle((1, -1), 2, 2, linewidth=1, edgecolor=\"k\", facecolor=\"none\")\n",
    ")\n",
    "plt.text(1.75, -0.35, \"2\", fontsize=30)\n",
    "size_and_aspect()\n",
    "\n",
    "plt.subplot(3, 2, 3)\n",
    "plt.gca().add_patch(patches.Rectangle((-1, -1), 2, 2, linewidth=1, edgecolor=\"k\"))\n",
    "plt.gca().add_patch(\n",
    "    patches.Rectangle((1, 1), 4, 4, linewidth=1, edgecolor=\"k\", facecolor=\"none\")\n",
    ")\n",
    "plt.text(2.65, 2.65, \"3\", fontsize=30)\n",
    "size_and_aspect()\n",
    "\n",
    "plt.subplot(3, 2, 4)\n",
    "plt.gca().add_patch(patches.Rectangle((-1, -1), 2, 2, linewidth=1, edgecolor=\"k\"))\n",
    "plt.gca().add_patch(\n",
    "    patches.Rectangle((1, -1), 4, 4, linewidth=1, edgecolor=\"k\", facecolor=\"none\")\n",
    ")\n",
    "plt.text(2.65, 0.65, \"4\", fontsize=30)\n",
    "size_and_aspect()\n",
    "\n",
    "\n",
    "plt.subplot(3, 2, 5)\n",
    "plt.gca().add_patch(patches.Rectangle((-1, -1), 2, 2, linewidth=1, edgecolor=\"k\"))\n",
    "plt.gca().add_patch(\n",
    "    patches.Rectangle((1, 1), 1, 1, linewidth=1, edgecolor=\"k\", facecolor=\"none\")\n",
    ")\n",
    "plt.text(1.25, 1.13, \"5\", fontsize=30)\n",
    "size_and_aspect()\n",
    "\n",
    "plt.subplot(3, 2, 6)\n",
    "plt.gca().add_patch(patches.Rectangle((-1, -1), 2, 2, linewidth=1, edgecolor=\"k\"))\n",
    "plt.gca().add_patch(\n",
    "    patches.Rectangle((1, 0), 1, 1, linewidth=1, edgecolor=\"k\", facecolor=\"none\")\n",
    ")\n",
    "plt.text(1.25, 0.13, \"6\", fontsize=30)\n",
    "size_and_aspect()\n",
    "\n",
    "plt.show()"
   ]
  },
  {
   "cell_type": "code",
   "execution_count": null,
   "id": "8dfd9781",
   "metadata": {
    "tags": []
   },
   "outputs": [],
   "source": [
    "%%time\n",
    "np.save(\"data/adj1_grid.npy\", compute_grid(1, 2, 2))"
   ]
  },
  {
   "cell_type": "code",
   "execution_count": null,
   "id": "8b26f8c9",
   "metadata": {
    "tags": []
   },
   "outputs": [],
   "source": [
    "%%time\n",
    "np.save(\"data/adj2_grid.npy\", compute_grid(1, 2, 0))"
   ]
  },
  {
   "cell_type": "code",
   "execution_count": null,
   "id": "89cf022f",
   "metadata": {
    "tags": []
   },
   "outputs": [],
   "source": [
    "%%time\n",
    "np.save(\"data/adj3_grid.npy\", compute_grid(2, 3, 3))"
   ]
  },
  {
   "cell_type": "code",
   "execution_count": null,
   "id": "16f78c55",
   "metadata": {
    "tags": []
   },
   "outputs": [],
   "source": [
    "%%time\n",
    "np.save(\"data/adj4_grid.npy\", compute_grid(2, 3, 1))"
   ]
  },
  {
   "cell_type": "code",
   "execution_count": null,
   "id": "1fb1fdae",
   "metadata": {
    "tags": []
   },
   "outputs": [],
   "source": [
    "%%time\n",
    "np.save(\"data/adj5_grid.npy\", compute_grid(0.5, 1.5, 1.5))"
   ]
  },
  {
   "cell_type": "code",
   "execution_count": null,
   "id": "a5499578",
   "metadata": {
    "tags": []
   },
   "outputs": [],
   "source": [
    "%%time\n",
    "np.save(\"data/adj6_grid.npy\", compute_grid(0.5, 1.5, 0.5))"
   ]
  },
  {
   "cell_type": "code",
   "execution_count": null,
   "id": "0c0c6597",
   "metadata": {},
   "outputs": [],
   "source": [
    "grid_filenames = [\n",
    "    \"data/coincident_grid.npy\",\n",
    "    \"data/adj1_grid.npy\",\n",
    "    \"data/adj2_grid.npy\",\n",
    "    \"data/adj3_grid.npy\",\n",
    "    \"data/adj4_grid.npy\",\n",
    "    \"data/adj5_grid.npy\",\n",
    "    \"data/adj6_grid.npy\",\n",
    "]\n",
    "raw_grids = np.array([np.load(g, allow_pickle=True) for g in grid_filenames])"
   ]
  },
  {
   "cell_type": "code",
   "execution_count": null,
   "id": "049e5996",
   "metadata": {},
   "outputs": [],
   "source": [
    "[raw_grids[i].shape for i in range(7)]"
   ]
  },
  {
   "cell_type": "markdown",
   "id": "57674d10",
   "metadata": {},
   "source": [
    "The estimated error is extremely small for all the integrals!"
   ]
  },
  {
   "cell_type": "code",
   "execution_count": null,
   "id": "358eb69f",
   "metadata": {},
   "outputs": [],
   "source": [
    "np.where(raw_grids[:, :, 1] > 5e-15)"
   ]
  },
  {
   "cell_type": "code",
   "execution_count": null,
   "id": "d499d4c3",
   "metadata": {},
   "outputs": [],
   "source": [
    "all_integrals = raw_grids[:, :, 0].reshape((7, N, N, N ** 2))"
   ]
  },
  {
   "cell_type": "markdown",
   "id": "600b7783",
   "metadata": {},
   "source": [
    "## Rotations"
   ]
  },
  {
   "cell_type": "code",
   "execution_count": null,
   "id": "af4022cf",
   "metadata": {},
   "outputs": [],
   "source": [
    "def get_test_values(\n",
    "    soln_fnc, obs_scale, obs_offsetx, obs_offsety, src_center=[0, 0], src_size=[2, 2]\n",
    "):\n",
    "    correct = np.zeros((N, N))\n",
    "    for i in range(N):\n",
    "        for j in range(N):\n",
    "            obsx = obs_offsetx + obs_scale * chebyshev_pts_np[i]\n",
    "            obsy = obs_offsety + obs_scale * chebyshev_pts_np[j]\n",
    "            is_x_edge = np.abs(np.abs(obsx - src_center[0]) - (src_size[0] / 2)) < 1e-8\n",
    "            is_y_edge = np.abs(np.abs(obsy - src_center[1]) - (src_size[1] / 2)) < 1e-8\n",
    "            if is_x_edge or is_y_edge:\n",
    "                correct[i, j] = np.nan\n",
    "            else:\n",
    "                correct[i, j] = soln_fnc(obsx, obsy)\n",
    "    return correct"
   ]
  },
  {
   "cell_type": "markdown",
   "id": "68202df3",
   "metadata": {},
   "source": [
    "### Type 1"
   ]
  },
  {
   "cell_type": "code",
   "execution_count": null,
   "id": "b1ff41c3",
   "metadata": {},
   "outputs": [],
   "source": [
    "correct_upper_right = get_test_values(xy_soln_nearfield, 1.0, 2.0, 2.0)\n",
    "correct_upper_left = get_test_values(xy_soln_nearfield, 1.0, -2.0, 2.0)\n",
    "correct_lower_left = get_test_values(xy_soln_nearfield, 1.0, -2.0, -2.0)\n",
    "correct_lower_right = get_test_values(xy_soln_nearfield, 1.0, 2.0, -2.0)"
   ]
  },
  {
   "cell_type": "code",
   "execution_count": null,
   "id": "5e23e046",
   "metadata": {},
   "outputs": [],
   "source": [
    "correct_upper_right"
   ]
  },
  {
   "cell_type": "code",
   "execution_count": null,
   "id": "2b6dc988",
   "metadata": {},
   "outputs": [],
   "source": [
    "correct_upper_left"
   ]
  },
  {
   "cell_type": "code",
   "execution_count": null,
   "id": "5297641b",
   "metadata": {},
   "outputs": [],
   "source": [
    "correct_lower_left"
   ]
  },
  {
   "cell_type": "code",
   "execution_count": null,
   "id": "0356d22c",
   "metadata": {},
   "outputs": [],
   "source": [
    "correct_lower_right"
   ]
  },
  {
   "cell_type": "code",
   "execution_count": null,
   "id": "2eb5b418",
   "metadata": {},
   "outputs": [],
   "source": [
    "def nearfield_box(I, Fv, flipx, flipy, rotxy):\n",
    "    Fv = Fv.reshape((N,N))\n",
    "\n",
    "    n_rot = {\n",
    "        (1, 1): 0,\n",
    "        (1, -1): 1,\n",
    "        (-1, -1): 2,\n",
    "        (-1, 1): 3\n",
    "    }[(flipx, flipy)]\n",
    "    n_transpose = ((n_rot % 2) == 1) + rotxy\n",
    "\n",
    "    # Rotate from input coordinates into position\n",
    "    Fv = np.rot90(Fv, n_rot)\n",
    "    if n_transpose % 2 == 1:\n",
    "        Fv = Fv.T\n",
    "\n",
    "    est = I.dot(Fv.ravel())\n",
    "    # Reverse the transformation back to the original input space\n",
    "    if n_transpose % 2 == 1:\n",
    "        est = est.T\n",
    "    est = np.rot90(est, -n_rot)\n",
    "    return est\n",
    "\n",
    "\n",
    "for C, flipx, flipy in [\n",
    "    (correct_upper_right, 1, 1),\n",
    "    (correct_upper_left, -1, 1),\n",
    "    (correct_lower_left, -1, -1),\n",
    "    (correct_lower_right, 1, -1),\n",
    "]:\n",
    "    Fv = xy_laplacian(cheb2d[:,0], cheb2d[:,1]).reshape((N,N))\n",
    "    est = nearfield_box(all_integrals[1], Fv, flipx, flipy, 0)\n",
    "    print(np.max(np.abs((C - est)[~np.isnan(C)])))"
   ]
  },
  {
   "cell_type": "markdown",
   "id": "080c5c21",
   "metadata": {},
   "source": [
    "### Type 2"
   ]
  },
  {
   "cell_type": "code",
   "execution_count": null,
   "id": "1d890fe0",
   "metadata": {},
   "outputs": [],
   "source": [
    "correct_middle_right = get_test_values(xy_soln_nearfield, 1.0, 2.0, 0.0)\n",
    "correct_top_center = get_test_values(xy_soln_nearfield, 1.0, 0.0, 2.0)\n",
    "correct_middle_left = get_test_values(xy_soln_nearfield, 1.0, -2.0, 0.0)\n",
    "correct_bottom_center = get_test_values(xy_soln_nearfield, 1.0, 0.0, -2.0)"
   ]
  },
  {
   "cell_type": "code",
   "execution_count": null,
   "id": "c9136a34",
   "metadata": {},
   "outputs": [],
   "source": [
    "for C, flipx, flipy, rotxy in [\n",
    "    (correct_middle_right, 1, 1, 0),\n",
    "    (correct_top_center, 1, 1, 1),\n",
    "    (correct_middle_left, -1, 1, 0),\n",
    "    (correct_bottom_center, 1, -1, 1),\n",
    "]:\n",
    "    Fv = xy_laplacian(cheb2d[:,0], cheb2d[:,1])\n",
    "    est = nearfield_box(all_integrals[2], Fv, flipx, flipy, rotxy)\n",
    "    print(np.max(np.abs((C - est)[~np.isnan(C)])))"
   ]
  },
  {
   "cell_type": "code",
   "execution_count": null,
   "id": "e99eae1f",
   "metadata": {},
   "outputs": [],
   "source": [
    "boxes = {\n",
    "    # Type 0 (coincident)\n",
    "    (1, 0, 0): (0, 1, 1, 0),\n",
    "    # Type 1\n",
    "    (1, 2, 2): (1, 1, 1, 0),\n",
    "    (1, -2, 2): (1, -1, 1, 0),\n",
    "    (1, -2, -2): (1, -1, -1, 0),\n",
    "    (1, 2, -2): (1, 1, -1, 0),\n",
    "    # Type 2\n",
    "    (1, 2, 0): (2, 1, 1, 0),\n",
    "    (1, 0, 2): (2, 1, 1, 1),\n",
    "    (1, -2, 0): (2, -1, 1, 0),\n",
    "    (1, 0, -2): (2, 1, -1, 1),\n",
    "    # Type 3\n",
    "    (2, 3, 3): (3, 1, 1, 0),\n",
    "    (2, -3, 3): (3, -1, 1, 0),\n",
    "    (2, -3, -3): (3, -1, -1, 0),\n",
    "    (2, 3, -3): (3, 1, -1, 0),\n",
    "    # Type 4\n",
    "    (2, 1, 3): (4, 1, 1, 1),\n",
    "    (2, -1, 3): (4, -1, 1, 1),\n",
    "    (2, -3, 1): (4, -1, 1, 0),\n",
    "    (2, -3, -1): (4, -1, -1, 0),\n",
    "    (2, -1, -3): (4, -1, -1, 1),\n",
    "    (2, 1, -3): (4, 1, -1, 1),\n",
    "    (2, 3, -1): (4, 1, -1, 0),\n",
    "    (2, 3, 1): (4, 1, 1, 0),\n",
    "    # Type 5\n",
    "    (0.5, 1.5, 1.5): (5, 1, 1, 0),\n",
    "    (0.5, -1.5, 1.5): (5, -1, 1, 0),\n",
    "    (0.5, -1.5, -1.5): (5, -1, -1, 0),\n",
    "    (0.5, 1.5, -1.5): (5, 1, -1, 0),\n",
    "    # Type 6\n",
    "    (0.5, 0.5, 1.5): (6, 1, 1, 1),\n",
    "    (0.5, -0.5, 1.5): (6, -1, 1, 1),\n",
    "    (0.5, -1.5, 0.5): (6, -1, 1, 0),\n",
    "    (0.5, -1.5, -0.5): (6, -1, -1, 0),\n",
    "    (0.5, -0.5, -1.5): (6, -1, -1, 1),\n",
    "    (0.5, 0.5, -1.5): (6, 1, -1, 1),\n",
    "    (0.5, 1.5, -0.5): (6, 1, -1, 0),\n",
    "    (0.5, 1.5, 0.5): (6, 1, 1, 0),\n",
    "}"
   ]
  },
  {
   "cell_type": "code",
   "execution_count": null,
   "id": "53ee8609",
   "metadata": {},
   "outputs": [],
   "source": [
    "for box_loc, rot_params in boxes.items():\n",
    "    soln_fnc = xy_soln_coincident if rot_params[0] == 0 else xy_soln_nearfield\n",
    "    C = get_test_values(soln_fnc, *box_loc)\n",
    "    Fv = xy_laplacian(cheb2d[:,0], cheb2d[:,1])\n",
    "    est = nearfield_box(all_integrals[rot_params[0]], Fv, *rot_params[1:])\n",
    "    print(np.max(np.abs((C - est)[~np.isnan(C)])))"
   ]
  },
  {
   "cell_type": "markdown",
   "id": "e39a0ac2",
   "metadata": {},
   "source": [
    "## Scaling"
   ]
  },
  {
   "cell_type": "markdown",
   "id": "987f30e2",
   "metadata": {},
   "source": [
    "The remaining piece is to scale the source and observation boxes so that they fit into the rotation scheme above."
   ]
  },
  {
   "cell_type": "code",
   "execution_count": null,
   "id": "5a0ece76",
   "metadata": {},
   "outputs": [],
   "source": [
    "def get_test_values(\n",
    "    soln_fnc, obs_scale, obs_offsetx, obs_offsety, src_center=[0, 0], src_size=2\n",
    "):\n",
    "    correct = np.zeros((N, N))\n",
    "    for i in range(N):\n",
    "        for j in range(N):\n",
    "            obsx = obs_offsetx + obs_scale * chebyshev_pts_np[i]\n",
    "            obsy = obs_offsety + obs_scale * chebyshev_pts_np[j]\n",
    "            is_x_edge = np.abs(np.abs(obsx - src_center[0]) - (src_size / 2)) < 1e-8\n",
    "            is_y_edge = np.abs(np.abs(obsy - src_center[1]) - (src_size / 2)) < 1e-8\n",
    "            if is_x_edge or is_y_edge:\n",
    "                correct[i, j] = np.nan\n",
    "            else:\n",
    "                correct[i, j] = soln_fnc(obsx, obsy)\n",
    "    return correct"
   ]
  },
  {
   "cell_type": "code",
   "execution_count": null,
   "id": "907b0327",
   "metadata": {},
   "outputs": [],
   "source": [
    "with open(\"data/constant_transformed_test_integral.pkl\", \"rb\") as f:\n",
    "    constant_soln_shifted = [sp.lambdify((ox, oy), I, \"numpy\") for I in pickle.load(f)]\n",
    "with open(\"data/xy_transformed_test_integral.pkl\", \"rb\") as f:\n",
    "    xy_soln_shifted = [sp.lambdify((ox, oy), I, \"numpy\") for I in pickle.load(f)]"
   ]
  },
  {
   "cell_type": "code",
   "execution_count": null,
   "id": "8bb23849",
   "metadata": {},
   "outputs": [],
   "source": [
    "basis_integrals = np.empty((N, N))\n",
    "for srci in range(N):\n",
    "    for srcj in range(N):\n",
    "        basis_sxsy = basis_functions[srci].subs(x, sx) * basis_functions[srcj].subs(x, sy)\n",
    "        basis = sp.lambdify((sx, sy), basis_sxsy, \"numpy\")\n",
    "        I = scipy.integrate.dblquad(basis, -1, 1, -1, 1, epsabs=1e-16, epsrel=1e-16)\n",
    "        basis_integrals[srci, srcj] = I[0]"
   ]
  },
  {
   "cell_type": "code",
   "execution_count": null,
   "id": "642ab005",
   "metadata": {},
   "outputs": [],
   "source": [
    "def scale_integral(I, basis_dot_F, src_s):\n",
    "    scale_T = src_s / 2.0\n",
    "    C = scale_T ** 2\n",
    "    log_factor = C * (1 / (2 * np.pi)) * np.log(scale_T)\n",
    "    return C * I + log_factor * basis_dot_F\n",
    "\n",
    "F_xy = lambda x, y: (1 - x) * (1 - y ** 2)\n",
    "for i, mult in enumerate([1, 2, 4, 8, 16]):\n",
    "    src_c = np.array([0, 0])\n",
    "    src_s = mult / 4.0\n",
    "    obs_c = np.array([src_c[0] + 0.5 * src_s, src_c[1] - 1.5 * src_s])\n",
    "    #obs_c = np.array([src_c[0] - 0.5 * src_s, src_c[1] - 1.5 * src_s])\n",
    "\n",
    "    obs_s = src_s * 2\n",
    "    transformed_obs_center = np.round(2 * (obs_c - src_c) / src_s, decimals=1)\n",
    "    transformed_obs_size = np.round(obs_s / src_s, decimals=1)\n",
    "\n",
    "    correct_xy = get_test_values(\n",
    "        xy_soln_shifted[i],\n",
    "        obs_s / 2.0,\n",
    "        obs_c[0],\n",
    "        obs_c[1],\n",
    "        src_center=src_c,\n",
    "        src_size=src_s,\n",
    "    )\n",
    "\n",
    "    src_box_pts = cheb2d * 0.5 * src_s + src_c[None,:]\n",
    "    Fv_xy = F_xy(src_box_pts[:,0], src_box_pts[:,1])\n",
    "\n",
    "    nearfield_info = boxes[(transformed_obs_size, *transformed_obs_center)]\n",
    "    integral_type, flipx, flipy, rotxy = nearfield_info\n",
    "\n",
    "    basis_I_xy = basis_integrals.ravel().dot(Fv_xy.ravel())\n",
    "\n",
    "    I_xy = nearfield_box(all_integrals[integral_type], Fv_xy, flipx, flipy, rotxy)\n",
    "\n",
    "    est_xy = scale_integral(I_xy, basis_I_xy, src_s)\n",
    "\n",
    "    print(f'\\nfor source size={src_s}')\n",
    "    print(\"xy error: \", np.max(np.abs(correct_xy - est_xy)[~np.isnan(correct_xy)]))"
   ]
  },
  {
   "cell_type": "markdown",
   "id": "92d04dcc",
   "metadata": {},
   "source": [
    "### Computing for an arbitrary box pair."
   ]
  },
  {
   "cell_type": "markdown",
   "id": "c7ce046c",
   "metadata": {},
   "source": [
    "1. Scale the source box to have width and length 2.\n",
    "2. Center the source box at `(0,0)`\n",
    "3. Perform the same transformations on the observation box.\n",
    "4. Because adjacent boxes are at most one level apart, they will fall into one of the 33 categories defined above.\n",
    "5. Retrieve the integral type and rotation information and compute the integral!\n",
    "6. Reverse the rotations.\n",
    "7. Reverse the scaling via the equations above."
   ]
  },
  {
   "cell_type": "code",
   "execution_count": null,
   "id": "b7bde709",
   "metadata": {},
   "outputs": [],
   "source": [
    "to_save = np.empty(2, object)\n",
    "to_save[0] = basis_integrals\n",
    "to_save[1] = all_integrals\n",
    "np.save(\"data/nearfield_integrals.npy\", to_save)"
   ]
  }
 ],
 "metadata": {
  "jupytext": {
   "formats": "ipynb,md:myst"
  },
  "kernelspec": {
   "display_name": "Python 3",
   "language": "python",
   "name": "python3"
  }
 },
 "nbformat": 4,
 "nbformat_minor": 5
}
