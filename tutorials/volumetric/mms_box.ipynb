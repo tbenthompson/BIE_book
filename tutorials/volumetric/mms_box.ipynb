{
 "cells": [
  {
   "cell_type": "code",
   "execution_count": null,
   "id": "13d35db3",
   "metadata": {},
   "outputs": [],
   "source": [
    "%load_ext autoreload\n",
    "%autoreload 2"
   ]
  },
  {
   "cell_type": "markdown",
   "id": "59835907",
   "metadata": {},
   "source": [
    "## Setup"
   ]
  },
  {
   "cell_type": "code",
   "execution_count": null,
   "id": "3b135f8a",
   "metadata": {},
   "outputs": [],
   "source": [
    "import numpy as np\n",
    "import matplotlib.pyplot as plt\n",
    "import common\n",
    "import sympy as sp\n",
    "\n",
    "%config InlineBackend.figure_format='retina'\n",
    "\n",
    "n_q = 20\n",
    "qx, qw = common.gauss_rule(n_q)\n",
    "\n",
    "t = sp.symbols(\"t\")\n",
    "t01 = (t + 1) / 2\n",
    "# counter-clockwise from the bottom left\n",
    "bottom = common.symbolic_surface(t, t01, 0)\n",
    "right = common.symbolic_surface(t, 1, t01)\n",
    "top = common.symbolic_surface(t, 1 - t01, 1)\n",
    "left = common.symbolic_surface(t, 0, 1 - t01)\n",
    "sides = [bottom, right, top, left]"
   ]
  },
  {
   "cell_type": "code",
   "execution_count": null,
   "id": "a9a2d105",
   "metadata": {},
   "outputs": [],
   "source": [
    "symbolic_combined = [common.symbolic_eval(t, qx, s) for s in sides]"
   ]
  },
  {
   "cell_type": "code",
   "execution_count": null,
   "id": "efee5c79",
   "metadata": {},
   "outputs": [],
   "source": [
    "box = [np.concatenate(f) for f in (zip(*symbolic_combined))]\n",
    "box_quad_rule = (np.concatenate([qx] * 4), np.concatenate([qw / 2] * 4))"
   ]
  },
  {
   "cell_type": "code",
   "execution_count": null,
   "id": "844e735b",
   "metadata": {},
   "outputs": [],
   "source": [
    "np.sum(box_quad_rule[1])"
   ]
  },
  {
   "cell_type": "markdown",
   "id": "7c5c7ddc",
   "metadata": {},
   "source": [
    "## Body force quadrature"
   ]
  },
  {
   "cell_type": "code",
   "execution_count": null,
   "id": "7acea81f",
   "metadata": {},
   "outputs": [],
   "source": [
    "nq_volume = 20\n",
    "q_vol, qw_vol = common.gauss_rule(nq_volume)\n",
    "q_vol = (q_vol + 1) / 2\n",
    "qw_vol /= 2\n",
    "\n",
    "qx_vol, qy_vol = np.meshgrid(q_vol, q_vol)\n",
    "q2d_vol = np.array([qx_vol.flatten(), qy_vol.flatten()]).T.copy()\n",
    "q2d_vol_wts = (qw_vol[:, None] * qw_vol[None, :]).flatten()"
   ]
  },
  {
   "cell_type": "code",
   "execution_count": null,
   "id": "9c6327dd",
   "metadata": {},
   "outputs": [],
   "source": [
    "np.sum(q2d_vol_wts)"
   ]
  },
  {
   "cell_type": "code",
   "execution_count": null,
   "id": "6f5e4b87",
   "metadata": {},
   "outputs": [],
   "source": [
    "correct = 0.9460830703671830\n",
    "correct - np.sum(np.cos(q2d_vol[:,0] * q2d_vol[:,1]) * q2d_vol_wts)"
   ]
  },
  {
   "cell_type": "code",
   "execution_count": null,
   "id": "c596a6bf",
   "metadata": {},
   "outputs": [],
   "source": [
    "plt.plot(box[0], box[1])\n",
    "plt.quiver(box[0], box[1], box[2], box[3])\n",
    "plt.plot(q2d_vol[:, 0], q2d_vol[:, 1], \"r.\")\n",
    "plt.xlim([-0.3, 1.3])\n",
    "plt.ylim([-0.3, 1.3])\n",
    "plt.show()"
   ]
  },
  {
   "cell_type": "code",
   "execution_count": null,
   "id": "403274d2",
   "metadata": {},
   "outputs": [],
   "source": [
    "nobs = 200\n",
    "offset = 0\n",
    "zoomx = [offset, 1.0 - offset]\n",
    "zoomy = [offset, 1.0 - offset]\n",
    "xs = np.linspace(*zoomx, nobs)\n",
    "ys = np.linspace(*zoomy, nobs)\n",
    "obsx, obsy = np.meshgrid(xs, ys)\n",
    "obs2d = np.array([obsx.flatten(), obsy.flatten()]).T.copy()"
   ]
  },
  {
   "cell_type": "code",
   "execution_count": null,
   "id": "49b6e1c8",
   "metadata": {},
   "outputs": [],
   "source": [
    "freq_factor = 1.0\n",
    "def soln_fnc(x, y):\n",
    "    return np.sin(freq_factor * 2 * np.pi * x) * np.sin(freq_factor * 2 * np.pi * y)\n",
    "\n",
    "def laplacian_fnc(x, y):\n",
    "    return (\n",
    "        -(2 * ((2 * freq_factor) ** 2))\n",
    "        * np.pi ** 2\n",
    "        * np.sin(freq_factor * 2 * np.pi * x)\n",
    "        * np.sin(freq_factor * 2 * np.pi * y)\n",
    "    )\n",
    "\n",
    "# Ae = 25\n",
    "# def soln_fnc(x, y):\n",
    "#     return np.exp(-((x - 0.5) ** 2 + (y - 0.5) ** 2) * Ae)\n",
    "\n",
    "# def laplacian_fnc(x, y):\n",
    "#     return 4 * Ae * soln_fnc(x, y) * (Ae * ((x - 0.5) ** 2 + (y - 0.5) ** 2) - 1)"
   ]
  },
  {
   "cell_type": "code",
   "execution_count": null,
   "id": "9eb8af7a",
   "metadata": {},
   "outputs": [],
   "source": [
    "fxy = laplacian_fnc(q2d_vol[:,0], q2d_vol[:,1])\n",
    "correct = soln_fnc(obsx, obsy)\n",
    "fxy_obs = laplacian_fnc(obsx, obsy)"
   ]
  },
  {
   "cell_type": "code",
   "execution_count": null,
   "id": "db45ce84",
   "metadata": {},
   "outputs": [],
   "source": [
    "plt.contourf(qx_vol, qy_vol, eterm.reshape(qx_vol.shape))\n",
    "plt.colorbar()\n",
    "plt.show()"
   ]
  },
  {
   "cell_type": "code",
   "execution_count": null,
   "id": "1e75c673",
   "metadata": {},
   "outputs": [],
   "source": [
    "plt.contourf(qx_vol, qy_vol, fxy.reshape(qx_vol.shape))\n",
    "plt.colorbar()\n",
    "plt.show()"
   ]
  },
  {
   "cell_type": "code",
   "execution_count": null,
   "id": "44b74a00",
   "metadata": {},
   "outputs": [],
   "source": [
    "hx = xs[1] - xs[0]\n",
    "hy = ys[1] - ys[0]\n",
    "hx, hy"
   ]
  },
  {
   "cell_type": "code",
   "execution_count": null,
   "id": "0aa14c30",
   "metadata": {},
   "outputs": [],
   "source": [
    "dx2 = (correct[2:] - 2*correct[1:-1] + correct[:-2]) / (hx ** 2)\n",
    "dy2 = (correct[:, 2:] - 2*correct[:, 1:-1] + correct[:, :-2]) / (hy ** 2)"
   ]
  },
  {
   "cell_type": "code",
   "execution_count": null,
   "id": "c40be508",
   "metadata": {},
   "outputs": [],
   "source": [
    "laplacian = np.zeros_like(fxy_obs)\n",
    "laplacian[1:-1] += dx2\n",
    "laplacian[:,1:-1] += dy2"
   ]
  },
  {
   "cell_type": "code",
   "execution_count": null,
   "id": "d0778881",
   "metadata": {},
   "outputs": [],
   "source": [
    "plt.figure(figsize = (12,5))\n",
    "plt.subplot(1,3,1)\n",
    "levels = np.linspace(np.min(fxy_obs), np.max(fxy_obs), 21)\n",
    "cntf = plt.contourf(obsx, obsy, fxy_obs, levels=levels, extend=\"both\")\n",
    "plt.contour(\n",
    "    obsx,\n",
    "    obsy,\n",
    "    fxy_obs,\n",
    "    colors=\"k\",\n",
    "    linestyles=\"-\",\n",
    "    linewidths=0.5,\n",
    "    levels=levels,\n",
    "    extend=\"both\",\n",
    ")\n",
    "plt.colorbar(cntf)\n",
    "plt.subplot(1,3,2)\n",
    "levels = np.linspace(np.min(laplacian), np.max(laplacian), 21)\n",
    "cntf = plt.contourf(obsx, obsy, laplacian, levels=levels, extend=\"both\")\n",
    "plt.contour(\n",
    "    obsx,\n",
    "    obsy,\n",
    "    laplacian,\n",
    "    colors=\"k\",\n",
    "    linestyles=\"-\",\n",
    "    linewidths=0.5,\n",
    "    levels=levels,\n",
    "    extend=\"both\",\n",
    ")\n",
    "plt.colorbar(cntf)\n",
    "plt.subplot(1,3,3)\n",
    "err = np.log10(np.abs(laplacian - fxy_obs))\n",
    "levels = np.linspace(-5, 0, 11)\n",
    "cntf = plt.contourf(obsx, obsy, err, levels=levels, extend=\"both\")\n",
    "plt.contour(\n",
    "    obsx,\n",
    "    obsy,\n",
    "    err,\n",
    "    colors=\"k\",\n",
    "    linestyles=\"-\",\n",
    "    linewidths=0.5,\n",
    "    levels=levels,\n",
    "    extend=\"both\",\n",
    ")\n",
    "plt.colorbar(cntf)\n",
    "plt.tight_layout()\n",
    "plt.show()"
   ]
  },
  {
   "cell_type": "code",
   "execution_count": null,
   "id": "2d3187f9",
   "metadata": {},
   "outputs": [],
   "source": [
    "def fundamental_soln_matrix(obsx, obsy, src_pts, src_wts):\n",
    "    dx = obsx[:, None] - src_pts[None, :, 0]\n",
    "    dy = obsy[:, None] - src_pts[None, :, 1]\n",
    "    r2 = (dx ** 2) + (dy ** 2)\n",
    "    r = np.sqrt(r2)\n",
    "    G = (1.0 / (2 * np.pi)) * np.log(r) * src_wts[None, :]\n",
    "    return G[:, None, :]"
   ]
  },
  {
   "cell_type": "code",
   "execution_count": null,
   "id": "68a3ed4d",
   "metadata": {},
   "outputs": [],
   "source": [
    "u_body_force = (\n",
    "    fundamental_soln_matrix(obs2d[:, 0], obs2d[:, 1], q2d_vol, q2d_vol_wts)\n",
    "    .dot(fxy)\n",
    "    .reshape(obsx.shape)\n",
    ")"
   ]
  },
  {
   "cell_type": "code",
   "execution_count": null,
   "id": "ff30c624",
   "metadata": {},
   "outputs": [],
   "source": [
    "plt.figure(figsize=(12,4))\n",
    "plt.subplot(1,3,1)\n",
    "levels = np.linspace(np.min(u_body_force), np.max(u_body_force), 21)\n",
    "cntf = plt.contourf(obsx, obsy, u_body_force, levels=levels, extend=\"both\")\n",
    "plt.contour(\n",
    "    obsx,\n",
    "    obsy,\n",
    "    u_body_force,\n",
    "    colors=\"k\",\n",
    "    linestyles=\"-\",\n",
    "    linewidths=0.5,\n",
    "    levels=levels,\n",
    "    extend=\"both\",\n",
    ")\n",
    "plt.colorbar(cntf)\n",
    "plt.subplot(1,3,2)\n",
    "levels = np.linspace(np.min(correct), np.max(correct), 21)\n",
    "cntf = plt.contourf(obsx, obsy, correct, levels=levels, extend=\"both\")\n",
    "plt.contour(\n",
    "    obsx,\n",
    "    obsy,\n",
    "    correct,\n",
    "    colors=\"k\",\n",
    "    linestyles=\"-\",\n",
    "    linewidths=0.5,\n",
    "    levels=levels,\n",
    "    extend=\"both\",\n",
    ")\n",
    "plt.colorbar(cntf)\n",
    "plt.subplot(1,3,3)\n",
    "err = np.log10(np.abs(u_body_force - correct))\n",
    "levels = np.linspace(-3, 0, 21)\n",
    "cntf = plt.contourf(obsx, obsy, err, levels=levels, extend=\"both\")\n",
    "plt.contour(\n",
    "    obsx,\n",
    "    obsy,\n",
    "    err,\n",
    "    colors=\"k\",\n",
    "    linestyles=\"-\",\n",
    "    linewidths=0.5,\n",
    "    levels=levels,\n",
    "    extend=\"both\",\n",
    ")\n",
    "plt.colorbar(cntf)\n",
    "plt.show()"
   ]
  },
  {
   "cell_type": "markdown",
   "id": "c43b01d4",
   "metadata": {},
   "source": [
    "## Direct to surface eval"
   ]
  },
  {
   "cell_type": "code",
   "execution_count": null,
   "id": "78b67315",
   "metadata": {},
   "outputs": [],
   "source": [
    "surf_vals = fundamental_soln_matrix(box[0], box[1], q2d_vol, q2d_vol_wts).dot(fxy)[:, 0]\n",
    "\n",
    "A, _ = common.interaction_matrix(\n",
    "    common.double_layer_matrix, box, box_quad_rule, box, box_quad_rule\n",
    ")\n",
    "A = A[:, 0, :]\n",
    "lhs = -A - 0.5 * np.eye(A.shape[0])\n",
    "surf_field = np.linalg.solve(lhs, surf_vals)"
   ]
  },
  {
   "cell_type": "code",
   "execution_count": null,
   "id": "6bcb87a7",
   "metadata": {},
   "outputs": [],
   "source": [
    "plt.plot(surf_field)\n",
    "plt.show()"
   ]
  },
  {
   "cell_type": "code",
   "execution_count": null,
   "id": "7536e59a",
   "metadata": {},
   "outputs": [],
   "source": [
    "u_box_rough = (\n",
    "    common.double_layer_matrix(box, box_quad_rule, obsx.flatten(), obsy.flatten())\n",
    "    .dot(surf_field)\n",
    "    .reshape(obsx.shape)\n",
    ")"
   ]
  },
  {
   "cell_type": "code",
   "execution_count": null,
   "id": "0f444cb9",
   "metadata": {},
   "outputs": [],
   "source": [
    "qx3, qw3 = common.gauss_rule(n_q * 3)\n",
    "box_quad_rule3 = (np.concatenate([qx3] * 4), np.concatenate([qw3 / 2] * 4))\n",
    "\n",
    "start_idx = 0\n",
    "surf_refined = []\n",
    "slip_refined = []\n",
    "for i in range(len(symbolic_combined)):\n",
    "    print(i)\n",
    "    surf_refined.append(common.interp_surface(symbolic_combined[i], qx, qx3))\n",
    "    end_idx = start_idx + symbolic_combined[i][0].shape[0]\n",
    "    slip_refined.append(common.interp_fnc(surf_field[start_idx:end_idx], qx, qx3))\n",
    "    start_idx = end_idx"
   ]
  },
  {
   "cell_type": "code",
   "execution_count": null,
   "id": "e3ef258e",
   "metadata": {},
   "outputs": [],
   "source": [
    "box_refined = [np.concatenate(f) for f in (zip(*surf_refined))]\n",
    "slip_refined = np.concatenate(slip_refined)"
   ]
  },
  {
   "cell_type": "code",
   "execution_count": null,
   "id": "33593eba",
   "metadata": {},
   "outputs": [],
   "source": [
    "dx = box[0][1:] - box[0][:-1]\n",
    "dy = box[1][1:] - box[1][:-1]\n",
    "L = np.sqrt(dx ** 2 + dy ** 2)\n",
    "Lc = np.zeros_like(box[0])\n",
    "Lc[1:] = np.cumsum(L)\n",
    "\n",
    "dx = box_refined[0][1:] - box_refined[0][:-1]\n",
    "dy = box_refined[1][1:] - box_refined[1][:-1]\n",
    "L = np.sqrt(dx ** 2 + dy ** 2)\n",
    "Lc_refined = np.zeros_like(box_refined[0])\n",
    "Lc_refined[1:] = np.cumsum(L)\n",
    "\n",
    "plt.plot(Lc, surf_field)\n",
    "plt.plot(Lc_refined, slip_refined)\n",
    "plt.figure()"
   ]
  },
  {
   "cell_type": "code",
   "execution_count": null,
   "id": "9af0fb0f",
   "metadata": {},
   "outputs": [],
   "source": [
    "u_box = common.interior_eval(\n",
    "    common.double_layer_matrix,\n",
    "    box,\n",
    "    box_quad_rule,\n",
    "    surf_field,\n",
    "    obsx.flatten(),\n",
    "    obsy.flatten(),\n",
    "    offset_mult=5,\n",
    "    kappa=3,\n",
    "    qbx_p=10,\n",
    "    quad_rule_qbx=box_quad_rule3,\n",
    "    surface_qbx=box_refined,\n",
    "    slip_qbx=slip_refined,\n",
    "    visualize_centers=True,\n",
    ").reshape(obsx.shape)"
   ]
  },
  {
   "cell_type": "markdown",
   "id": "ae61eb62",
   "metadata": {},
   "source": [
    "## Full solution!"
   ]
  },
  {
   "cell_type": "code",
   "execution_count": null,
   "id": "f2fc60ae",
   "metadata": {},
   "outputs": [],
   "source": [
    "u_full = u_box + u_body_force\n",
    "#u_full = u_box_rough + u_body_force"
   ]
  },
  {
   "cell_type": "code",
   "execution_count": null,
   "id": "cfe92252",
   "metadata": {},
   "outputs": [],
   "source": [
    "# levels = np.linspace(np.min(u_full), np.max(u_full), 21)\n",
    "plt.figure(figsize=(12,4))\n",
    "for i, to_plot in enumerate([u_box_rough, u_box, u_body_force]):\n",
    "    plt.subplot(1,3,1+i)\n",
    "    levels = np.linspace(-1, 1, 21)\n",
    "    cntf = plt.contourf(obsx, obsy, to_plot, levels=levels, extend=\"both\")\n",
    "    plt.contour(\n",
    "        obsx,\n",
    "        obsy,\n",
    "        to_plot,\n",
    "        colors=\"k\",\n",
    "        linestyles=\"-\",\n",
    "        linewidths=0.5,\n",
    "        levels=levels,\n",
    "        extend=\"both\",\n",
    "    )\n",
    "    plt.plot(box[0], box[1], \"k-\", linewidth=1.5)\n",
    "    plt.colorbar(cntf)\n",
    "    plt.xlim(zoomx)\n",
    "    plt.ylim(zoomy)\n",
    "\n",
    "plt.figure(figsize=(12,4))\n",
    "for i, to_plot in enumerate([correct, u_full]):\n",
    "    plt.subplot(1,3,1+i)\n",
    "    levels = np.linspace(-1, 1, 21)\n",
    "    cntf = plt.contourf(obsx, obsy, to_plot, levels=levels, extend=\"both\")\n",
    "    plt.contour(\n",
    "        obsx,\n",
    "        obsy,\n",
    "        to_plot,\n",
    "        colors=\"k\",\n",
    "        linestyles=\"-\",\n",
    "        linewidths=0.5,\n",
    "        levels=levels,\n",
    "        extend=\"both\",\n",
    "    )\n",
    "    plt.plot(box[0], box[1], \"k-\", linewidth=1.5)\n",
    "    plt.colorbar(cntf)\n",
    "    plt.xlim(zoomx)\n",
    "    plt.ylim(zoomy)\n",
    "\n",
    "plt.subplot(1,3,3)\n",
    "to_plot = correct - u_full\n",
    "levels = np.linspace(-0.1, 0.1, 21)\n",
    "cntf = plt.contourf(obsx, obsy, to_plot, levels=levels, extend=\"both\")\n",
    "plt.contour(\n",
    "    obsx,\n",
    "    obsy,\n",
    "    to_plot,\n",
    "    colors=\"k\",\n",
    "    linestyles=\"-\",\n",
    "    linewidths=0.5,\n",
    "    levels=levels,\n",
    "    extend=\"both\",\n",
    ")\n",
    "plt.plot(box[0], box[1], \"k-\", linewidth=1.5)\n",
    "plt.colorbar(cntf)\n",
    "plt.xlim(zoomx)\n",
    "plt.ylim(zoomy)\n",
    "plt.show()"
   ]
  },
  {
   "cell_type": "markdown",
   "id": "fd2398a4",
   "metadata": {},
   "source": [
    "## Trying a QBX to surface eval"
   ]
  },
  {
   "cell_type": "code",
   "execution_count": null,
   "id": "9c37b5e8",
   "metadata": {},
   "outputs": [],
   "source": [
    "qbx_center_x, qbx_center_y, qbx_r = common.qbx_choose_centers(box, box_quad_rule)"
   ]
  },
  {
   "cell_type": "code",
   "execution_count": null,
   "id": "eb7ea57e",
   "metadata": {},
   "outputs": [],
   "source": [
    "plt.plot(box[0], box[1])\n",
    "plt.plot(qbx_center_x, qbx_center_y, \"ro\")"
   ]
  },
  {
   "cell_type": "code",
   "execution_count": null,
   "id": "b28dda41",
   "metadata": {},
   "outputs": [],
   "source": [
    "qbx_p = 10"
   ]
  },
  {
   "cell_type": "code",
   "execution_count": null,
   "id": "b88d226a",
   "metadata": {},
   "outputs": [],
   "source": [
    "qbx_nq = 2 * qbx_p + 1\n",
    "qbx_qx, qbx_qw = common.trapezoidal_rule(qbx_nq)\n",
    "qbx_qw *= np.pi\n",
    "qbx_theta = np.pi * (qbx_qx + 1)\n",
    "\n",
    "# The coefficient integral points will have shape (number of expansions,\n",
    "# number of quadrature points).\n",
    "qbx_eval_r = qbx_r * 0.5\n",
    "qbx_x = qbx_center_x[:, None] + qbx_eval_r[:, None] * np.cos(qbx_theta)[None, :]\n",
    "qbx_y = qbx_center_x[:, None] + qbx_eval_r[:, None] * np.sin(qbx_theta)[None, :]"
   ]
  },
  {
   "cell_type": "code",
   "execution_count": null,
   "id": "6b137f9c",
   "metadata": {},
   "outputs": [],
   "source": [
    "Keval = fundamental_soln_matrix(qbx_x.flatten(), qbx_y.flatten(), q2d_vol, q2d_vol_wts)\n",
    "kernel_ndim = Keval.shape[1]\n",
    "qbx_u_matrix = Keval.reshape((*qbx_x.shape, kernel_ndim, q2d_vol.shape[0]))"
   ]
  },
  {
   "cell_type": "code",
   "execution_count": null,
   "id": "83c7d905",
   "metadata": {},
   "outputs": [],
   "source": [
    "# Compute the expansion coefficients in matrix form.\n",
    "alpha = np.empty(\n",
    "    (qbx_center_x.shape[0], kernel_ndim, qbx_p, q2d_vol.shape[0]), dtype=np.complex128\n",
    ")\n",
    "for L in range(qbx_p):\n",
    "    C = 1.0 / (np.pi * (qbx_eval_r ** L))\n",
    "    if L == 0:\n",
    "        C /= 2.0\n",
    "    oscillatory = qbx_qw[None, :, None] * np.exp(-1j * L * qbx_theta)[None, :, None]\n",
    "    alpha[:, :, L, :] = C[:, None, None] * np.sum(\n",
    "        qbx_u_matrix * oscillatory[:, :, None], axis=1\n",
    "    )\n",
    "QBX_EXPAND = alpha"
   ]
  },
  {
   "cell_type": "code",
   "execution_count": null,
   "id": "2b3fb838",
   "metadata": {},
   "outputs": [],
   "source": [
    "QBX_EXPAND.shape"
   ]
  },
  {
   "cell_type": "code",
   "execution_count": null,
   "id": "6e8044cb",
   "metadata": {},
   "outputs": [],
   "source": [
    "qbx_center_x.shape"
   ]
  },
  {
   "cell_type": "code",
   "execution_count": null,
   "id": "caad2b67",
   "metadata": {},
   "outputs": [],
   "source": [
    "box[0][:, None].shape"
   ]
  },
  {
   "cell_type": "code",
   "execution_count": null,
   "id": "bafe9747",
   "metadata": {},
   "outputs": [],
   "source": [
    "QBX_EVAL = common.qbx_eval_matrix(\n",
    "    box[0][None, :], box[1][None, :], qbx_center_x, qbx_center_y, qbx_p=qbx_p\n",
    ")[0]"
   ]
  },
  {
   "cell_type": "code",
   "execution_count": null,
   "id": "9b48580e",
   "metadata": {},
   "outputs": [],
   "source": [
    "body_force_matrix = np.real(np.sum(QBX_EVAL[:, None, :, None] * QBX_EXPAND, axis=2))[\n",
    "    :, 0, :\n",
    "]"
   ]
  },
  {
   "cell_type": "code",
   "execution_count": null,
   "id": "99bb56d2",
   "metadata": {},
   "outputs": [],
   "source": [
    "plt.plot(body_force_matrix.dot(fxy))\n",
    "plt.show()"
   ]
  },
  {
   "cell_type": "code",
   "execution_count": null,
   "id": "894df4f4",
   "metadata": {},
   "outputs": [],
   "source": []
  }
 ],
 "metadata": {
  "jupytext": {
   "formats": "ipynb,md:myst"
  },
  "kernelspec": {
   "display_name": "Python 3",
   "language": "python",
   "name": "python3"
  }
 },
 "nbformat": 4,
 "nbformat_minor": 5
}
