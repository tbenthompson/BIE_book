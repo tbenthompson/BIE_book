{
 "cells": [
  {
   "cell_type": "markdown",
   "id": "f5a6622e",
   "metadata": {},
   "source": [
    "# [DRAFT] Dirichlet problem on a circle."
   ]
  },
  {
   "cell_type": "markdown",
   "id": "836c8211",
   "metadata": {},
   "source": [
    "## TODO:\n",
    "\n",
    "* Based on mms_circle\n",
    "* Deal with the homogeneous solution.\n",
    "* Add back in the body force.\n",
    "* The remaining fundamental issue is the singularity in the volume integral. Set up a way of testing the accuracy of this integral."
   ]
  },
  {
   "cell_type": "markdown",
   "id": "ab113208",
   "metadata": {},
   "source": [
    "## Setup"
   ]
  },
  {
   "cell_type": "markdown",
   "id": "2f0d7892",
   "metadata": {},
   "source": [
    "## Direct to surface eval"
   ]
  },
  {
   "cell_type": "markdown",
   "id": "92e51606",
   "metadata": {},
   "source": [
    "For the Poisson equation with Dirichlet boundary conditions:\n",
    "\\begin{split}\n",
    "\\nabla u &= f  ~~ \\textrm{in} ~~ \\Omega\\\\\n",
    "u &= g ~~ \\textrm{on} ~~ \\partial \\Omega\n",
    "\\end{split}\n",
    "`u_body_force` is the integral:\n",
    "\n",
    "\\begin{equation}\n",
    "v(x) = \\int_{\\Omega} G(x,y) f(y) dy\n",
    "\\end{equation}\n",
    "\n",
    "which satisfies equation 1 but not 2.\n",
    "\n",
    "Then, compute homogeneous solution with appropriate boundary conditions:\n",
    "\n",
    "\\begin{split}\n",
    "\\nabla u^H &= 0 ~~ \\textrm{in} ~~ \\Omega \\\\\n",
    "u^H &= g - v|_{\\partial \\Omega}  ~~ \\textrm{on} ~~ \\partial \\Omega\n",
    "\\end{split}\n",
    "\n",
    "So, first, I need to compute $g - v|_{\\partial \\Omega}$"
   ]
  },
  {
   "cell_type": "code",
   "execution_count": null,
   "id": "3f9a4547",
   "metadata": {
    "tags": [
     "remove-cell"
    ]
   },
   "outputs": [],
   "source": [
    "from tectosaur2.nb_config import setup\n",
    "\n",
    "setup()"
   ]
  },
  {
   "cell_type": "code",
   "execution_count": null,
   "id": "6a0acb84",
   "metadata": {},
   "outputs": [],
   "source": [
    "import numpy as np\n",
    "import matplotlib.pyplot as plt\n",
    "import sympy as sp\n",
    "\n",
    "from tectosaur2 import integrate_term, refine_surfaces, gauss_rule\n",
    "from tectosaur2.laplace2d import double_layer"
   ]
  },
  {
   "cell_type": "code",
   "execution_count": null,
   "id": "78b4fe37",
   "metadata": {},
   "outputs": [],
   "source": [
    "nq = 10\n",
    "qx, qw = gauss_rule(nq)\n",
    "\n",
    "t = sp.symbols(\"t\")\n",
    "theta = sp.pi * (t + 1)\n",
    "circle = refine_surfaces([(t, sp.cos(theta), sp.sin(theta))], (qx,qw))\n",
    "circle.n_pts, circle.n_panels"
   ]
  },
  {
   "cell_type": "code",
   "execution_count": null,
   "id": "482119a1",
   "metadata": {},
   "outputs": [],
   "source": [
    "## This is g\n",
    "def soln_fnc(x, y):\n",
    "    return 2 + x + y\n",
    "\n",
    "bcs = soln_fnc(circle.pts[:, 0], circle.pts[:, 1])\n",
    "A,report = integrate_term(double_layer, circle.pts, circle, return_report=True)\n",
    "surf_density = np.linalg.solve(-A[:,0,:,0], bcs)"
   ]
  },
  {
   "cell_type": "code",
   "execution_count": null,
   "id": "de4024ec",
   "metadata": {},
   "outputs": [],
   "source": [
    "plt.plot(circle.quad_pts, bcs, 'r-')\n",
    "plt.plot(circle.quad_pts, surf_density, 'b-')\n",
    "plt.show()"
   ]
  },
  {
   "cell_type": "code",
   "execution_count": null,
   "id": "1c797501",
   "metadata": {},
   "outputs": [],
   "source": [
    "nobs = 200\n",
    "offset = -0.1\n",
    "zoomx = [-1.0 + offset, 1.0 - offset]\n",
    "zoomy = [-1.0 + offset, 1.0 - offset]\n",
    "xs = np.linspace(*zoomx, nobs)\n",
    "ys = np.linspace(*zoomy, nobs)\n",
    "obsx, obsy = np.meshgrid(xs, ys)\n",
    "obs2d = np.array([obsx.flatten(), obsy.flatten()]).T.copy()\n",
    "obs2d_mask = np.sqrt(obs2d[:, 0] ** 2 + obs2d[:, 1] ** 2) <= 1\n",
    "obs2d_mask_sq = obs2d_mask.reshape(obsx.shape)\n",
    "obs2d_mask_away = np.sqrt(obs2d[:, 0] ** 2 + obs2d[:, 1] ** 2) <= 0.9\n",
    "obs2d_mask_away_sq = obs2d_mask_away.reshape(obsx.shape)\n",
    "correct = soln_fnc(obsx, obsy)"
   ]
  },
  {
   "cell_type": "code",
   "execution_count": null,
   "id": "453e623d",
   "metadata": {},
   "outputs": [],
   "source": [
    "%%time\n",
    "interior_disp_mat = integrate_term(double_layer, obs2d, circle, tol=1e-13)\n",
    "u_soln = -interior_disp_mat[:, 0, :, 0].dot(surf_density).reshape(obsx.shape)"
   ]
  },
  {
   "cell_type": "code",
   "execution_count": null,
   "id": "cdebbe62",
   "metadata": {
    "tags": []
   },
   "outputs": [],
   "source": [
    "plt.figure(figsize=(12, 4))\n",
    "for i, to_plot in enumerate([u_soln, u_soln, correct]):\n",
    "    plt.subplot(1, 3, 1 + i)\n",
    "    if i == 0:\n",
    "        levels = np.linspace(np.min(to_plot), np.max(to_plot), 21)\n",
    "    else:\n",
    "        cmin = np.min(correct)\n",
    "        cmax = np.max(correct)\n",
    "        if cmin == cmax:\n",
    "            cmin = 0.9 * cmin\n",
    "            cmax = 1.1 * cmax\n",
    "        levels = np.linspace(cmin, cmax, 21)\n",
    "\n",
    "    cntf = plt.contourf(obsx, obsy, to_plot, levels=levels, extend=\"both\")\n",
    "    plt.contour(\n",
    "        obsx,\n",
    "        obsy,\n",
    "        to_plot,\n",
    "        colors=\"k\",\n",
    "        linestyles=\"-\",\n",
    "        linewidths=0.5,\n",
    "        levels=levels,\n",
    "        extend=\"both\",\n",
    "    )\n",
    "    plt.plot(circle.pts[0], circle.pts[1], \"k-\", linewidth=1.5)\n",
    "    plt.colorbar(cntf)\n",
    "    plt.xlim(zoomx)\n",
    "    plt.ylim(zoomy)\n",
    "    plt.title([\"u\\_soln\", \"u\\_soln\", \"correct\"][i])\n",
    "    plt.axis('scaled')\n",
    "plt.tight_layout()\n",
    "\n",
    "plt.figure()\n",
    "to_plot = np.log10(np.abs(correct - u_soln))\n",
    "levels = np.linspace(-16, 0, 21)\n",
    "cntf = plt.contourf(obsx, obsy, to_plot, levels=levels, extend=\"both\")\n",
    "plt.contour(\n",
    "    obsx,\n",
    "    obsy,\n",
    "    to_plot,\n",
    "    colors=\"k\",\n",
    "    linestyles=\"-\",\n",
    "    linewidths=0.5,\n",
    "    levels=levels,\n",
    "    extend=\"both\",\n",
    ")\n",
    "plt.plot(circle.pts[0], circle.pts[1], \"k-\", linewidth=1.5)\n",
    "plt.colorbar(cntf)\n",
    "plt.xlim(zoomx)\n",
    "plt.ylim(zoomy)\n",
    "plt.title(\"err(u\\_soln)\")\n",
    "plt.axis('scaled')\n",
    "plt.show()"
   ]
  }
 ],
 "metadata": {
  "jupytext": {
   "formats": "ipynb,md:myst"
  },
  "kernelspec": {
   "display_name": "Python 3 (ipykernel)",
   "language": "python",
   "name": "python3"
  }
 },
 "nbformat": 4,
 "nbformat_minor": 5
}
