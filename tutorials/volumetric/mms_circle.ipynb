{
 "cells": [
  {
   "cell_type": "markdown",
   "id": "87934ee8",
   "metadata": {},
   "source": [
    "# [DRAFT] Body forces"
   ]
  },
  {
   "cell_type": "markdown",
   "id": "f4c2a301",
   "metadata": {},
   "source": [
    "## TODO:\n",
    "\n",
    "* The remaining fundamental issue is the singularity in the volume integral. Set up a way of testing the accuracy of this integral.\n",
    "* There's something preventing convergence in the L2 and Linf norms that isn't preventing convergence in the L1 norm. That suggests that the problem is some kind of outlier. The problem might be the scalloping in the QBX zone!!!\n",
    "* Fix the scalloping issue!\n",
    "* Measure the error just inside r < 0.99.\n",
    "* Getting an exterior solution would be nice!"
   ]
  },
  {
   "cell_type": "markdown",
   "id": "e88f99e6",
   "metadata": {},
   "source": [
    "For the Poisson equation with Dirichlet boundary conditions:\n",
    "\\begin{split}\n",
    "\\nabla u &= f  ~~ \\textrm{in} ~~ \\Omega\\\\\n",
    "u &= g ~~ \\textrm{on} ~~ \\partial \\Omega\n",
    "\\end{split}\n",
    "`u_particular` is the integral:\n",
    "\n",
    "\\begin{equation}\n",
    "v(x) = \\int_{\\Omega} G(x,y) f(y) dy\n",
    "\\end{equation}\n",
    "\n",
    "which satisfies equation 1 but not 2.\n",
    "\n",
    "Then, compute homogeneous solution, `u_homog` with appropriate boundary conditions:\n",
    "\n",
    "\\begin{split}\n",
    "\\nabla u^H &= 0 ~~ \\textrm{in} ~~ \\Omega \\\\\n",
    "u^H &= g - v|_{\\partial \\Omega}  ~~ \\textrm{on} ~~ \\partial \\Omega\n",
    "\\end{split}\n",
    "\n",
    "So, first, I need to compute $g - v|_{\\partial \\Omega}$"
   ]
  },
  {
   "cell_type": "markdown",
   "id": "60b6e013",
   "metadata": {},
   "source": [
    "## Setup"
   ]
  },
  {
   "cell_type": "code",
   "execution_count": null,
   "id": "95c9aa7a",
   "metadata": {},
   "outputs": [],
   "source": [
    "import numpy as np\n",
    "import matplotlib.pyplot as plt\n",
    "import common\n",
    "import sympy as sp\n",
    "\n",
    "%config InlineBackend.figure_format='retina'\n",
    "\n",
    "n_q = 100\n",
    "circle_rule = list(common.trapezoidal_rule(n_q))\n",
    "\n",
    "t = sp.symbols(\"t\")\n",
    "theta = sp.pi * (t + 1)\n",
    "circle_rule[1] *= np.pi\n",
    "\n",
    "sym_circle = common.symbolic_suvrface(t, sp.cos(theta), sp.sin(theta))\n",
    "circle = common.symbolic_eval(t, circle_rule[0], sym_circle)"
   ]
  },
  {
   "cell_type": "code",
   "execution_count": null,
   "id": "ef29bc3e",
   "metadata": {},
   "outputs": [],
   "source": [
    "np.sum(circle_rule[1])"
   ]
  },
  {
   "cell_type": "markdown",
   "id": "f1ca9ea4",
   "metadata": {},
   "source": [
    "We will solve for the function"
   ]
  },
  {
   "cell_type": "code",
   "execution_count": null,
   "id": "cccc13cd",
   "metadata": {},
   "outputs": [],
   "source": [
    "x, y = sp.symbols('x, y')\n",
    "sym_soln = 2 + x + y + x**2 + y*sp.cos(6*x) + x*sp.sin(6*y)\n",
    "\n",
    "sym_laplacian = (\n",
    "    sp.diff(sp.diff(sym_soln, x), x) +\n",
    "    sp.diff(sp.diff(sym_soln, y), y)\n",
    ")\n",
    "soln_fnc = sp.lambdify((x, y), sym_soln, \"numpy\")\n",
    "laplacian_fnc = sp.lambdify((x, y), sym_laplacian, \"numpy\")\n",
    "\n",
    "sym_soln"
   ]
  },
  {
   "cell_type": "code",
   "execution_count": null,
   "id": "e66f48a8",
   "metadata": {},
   "outputs": [],
   "source": [
    "sym_laplacian"
   ]
  },
  {
   "cell_type": "markdown",
   "id": "73c6bd58",
   "metadata": {},
   "source": [
    "## Body force quadrature"
   ]
  },
  {
   "cell_type": "code",
   "execution_count": null,
   "id": "629a50d4",
   "metadata": {},
   "outputs": [],
   "source": [
    "nq_r = 40\n",
    "nq_theta = 80\n",
    "qgauss, qgauss_w = common.gauss_rule(nq_r)\n",
    "qtrap, qtrap_w = common.trapezoidal_rule(nq_theta)\n",
    "r = 0.5 * (qgauss + 1)\n",
    "r_w = qgauss_w * 0.5\n",
    "theta = (qtrap + 1) * np.pi\n",
    "theta_w = qtrap_w * np.pi\n",
    "\n",
    "r_vol, theta_vol = [x.flatten() for x in np.meshgrid(r, theta)]\n",
    "qx_vol = np.cos(theta_vol) * r_vol\n",
    "qy_vol = np.sin(theta_vol) * r_vol\n",
    "\n",
    "q2d_vol = np.array([qx_vol, qy_vol]).T.copy()\n",
    "q2d_vol_wts = (r_w[None, :] * theta_w[:, None] * r[None, :]).flatten()"
   ]
  },
  {
   "cell_type": "code",
   "execution_count": null,
   "id": "473b9ceb",
   "metadata": {},
   "outputs": [],
   "source": [
    "np.sum(q2d_vol_wts) - np.pi, np.sum(np.cos(theta_vol) * q2d_vol_wts), np.sum(r_vol * q2d_vol_wts) - 2.0943951023931954"
   ]
  },
  {
   "cell_type": "code",
   "execution_count": null,
   "id": "fb3adbc2",
   "metadata": {},
   "outputs": [],
   "source": [
    "plt.plot(circle[0], circle[1])\n",
    "plt.quiver(circle[0], circle[1], circle[2], circle[3])\n",
    "plt.plot(q2d_vol[:, 0], q2d_vol[:, 1], \"r.\")\n",
    "plt.xlim([-1.2, 1.2])\n",
    "plt.ylim([-1.2, 1.2])\n",
    "plt.show()"
   ]
  },
  {
   "cell_type": "code",
   "execution_count": null,
   "id": "41a53209",
   "metadata": {},
   "outputs": [],
   "source": [
    "nobs = 200\n",
    "offset = -0.1\n",
    "zoomx = [-1.0 + offset, 1.0 - offset]\n",
    "zoomy = [-1.0 + offset, 1.0 - offset]\n",
    "xs = np.linspace(*zoomx, nobs)\n",
    "ys = np.linspace(*zoomy, nobs)\n",
    "obsx, obsy = np.meshgrid(xs, ys)\n",
    "obs2d = np.array([obsx.flatten(), obsy.flatten()]).T.copy()\n",
    "obs2d_mask = np.sqrt(obs2d[:,0] ** 2 + obs2d[:,1] ** 2) <= 1\n",
    "obs2d_mask_sq = obs2d_mask.reshape(obsx.shape)"
   ]
  },
  {
   "cell_type": "code",
   "execution_count": null,
   "id": "c23f2a26",
   "metadata": {},
   "outputs": [],
   "source": [
    "fxy = laplacian_fnc(q2d_vol[:,0], q2d_vol[:,1])\n",
    "\n",
    "correct = soln_fnc(obsx, obsy)\n",
    "fxy_obs = laplacian_fnc(obsx, obsy)"
   ]
  },
  {
   "cell_type": "code",
   "execution_count": null,
   "id": "f54791e7",
   "metadata": {},
   "outputs": [],
   "source": [
    "plotx = q2d_vol[:,0].reshape((nq_theta, nq_r))\n",
    "plt.contourf(plotx, q2d_vol[:,1].reshape(plotx.shape), soln_fnc(q2d_vol[:,0], q2d_vol[:,1]).reshape(plotx.shape))\n",
    "plt.colorbar()\n",
    "plt.show()\n",
    "plotx = q2d_vol[:,0].reshape((nq_theta, nq_r))\n",
    "plt.contourf(plotx, q2d_vol[:,1].reshape(plotx.shape), laplacian_fnc(q2d_vol[:,0], q2d_vol[:,1]).reshape(plotx.shape))\n",
    "plt.colorbar()\n",
    "plt.show()"
   ]
  },
  {
   "cell_type": "code",
   "execution_count": null,
   "id": "2ca9541c",
   "metadata": {},
   "outputs": [],
   "source": [
    "def fundamental_soln_matrix(obsx, obsy, src_pts, src_wts):\n",
    "    dx = obsx[:, None] - src_pts[None, :, 0]\n",
    "    dy = obsy[:, None] - src_pts[None, :, 1]\n",
    "    r2 = (dx ** 2) + (dy ** 2)\n",
    "    r = np.sqrt(r2)\n",
    "    G = (1.0 / (2 * np.pi)) * np.log(r) * src_wts[None, :]\n",
    "    return G[:, None, :]"
   ]
  },
  {
   "cell_type": "code",
   "execution_count": null,
   "id": "9863bbb4",
   "metadata": {},
   "outputs": [],
   "source": [
    "u_particular = (\n",
    "    fundamental_soln_matrix(obs2d[:, 0], obs2d[:, 1], q2d_vol, q2d_vol_wts)\n",
    "    .dot(fxy)\n",
    "    .reshape(obsx.shape)\n",
    ")"
   ]
  },
  {
   "cell_type": "code",
   "execution_count": null,
   "id": "3f478a69",
   "metadata": {},
   "outputs": [],
   "source": [
    "plt.figure(figsize=(12,4))\n",
    "plt.subplot(1,3,1)\n",
    "levels = np.linspace(np.min(u_particular), np.max(u_particular), 21)\n",
    "cntf = plt.contourf(obsx, obsy, u_particular, levels=levels, extend=\"both\")\n",
    "plt.contour(\n",
    "    obsx,\n",
    "    obsy,\n",
    "    u_particular,\n",
    "    colors=\"k\",\n",
    "    linestyles=\"-\",\n",
    "    linewidths=0.5,\n",
    "    levels=levels,\n",
    "    extend=\"both\",\n",
    ")\n",
    "plt.colorbar(cntf)\n",
    "plt.subplot(1,3,2)\n",
    "levels = np.linspace(np.min(correct), np.max(correct), 21)\n",
    "cntf = plt.contourf(obsx, obsy, correct, levels=levels, extend=\"both\")\n",
    "plt.contour(\n",
    "    obsx,\n",
    "    obsy,\n",
    "    correct,\n",
    "    colors=\"k\",\n",
    "    linestyles=\"-\",\n",
    "    linewidths=0.5,\n",
    "    levels=levels,\n",
    "    extend=\"both\",\n",
    ")\n",
    "plt.colorbar(cntf)\n",
    "plt.subplot(1,3,3)\n",
    "err = correct - u_particular\n",
    "levels = np.linspace(0, 4, 20)\n",
    "cntf = plt.contourf(obsx, obsy, err, levels=levels, extend=\"both\")\n",
    "plt.contour(\n",
    "    obsx,\n",
    "    obsy,\n",
    "    err,\n",
    "    colors=\"k\",\n",
    "    linestyles=\"-\",\n",
    "    linewidths=0.5,\n",
    "    levels=levels,\n",
    "    extend=\"both\",\n",
    ")\n",
    "plt.colorbar(cntf)\n",
    "plt.show()"
   ]
  },
  {
   "cell_type": "markdown",
   "id": "48148193",
   "metadata": {},
   "source": [
    "## Direct to surface eval"
   ]
  },
  {
   "cell_type": "code",
   "execution_count": null,
   "id": "42773859",
   "metadata": {},
   "outputs": [],
   "source": [
    "## This is g\n",
    "bcs = soln_fnc(circle[0], circle[1])"
   ]
  },
  {
   "cell_type": "code",
   "execution_count": null,
   "id": "bf863180",
   "metadata": {},
   "outputs": [],
   "source": [
    "## This is v|_{\\partial \\Omega}\n",
    "surf_vals = fundamental_soln_matrix(circle[0], circle[1], q2d_vol, q2d_vol_wts).dot(fxy)[:, 0]"
   ]
  },
  {
   "cell_type": "code",
   "execution_count": null,
   "id": "5dc0a83d",
   "metadata": {},
   "outputs": [],
   "source": [
    "plt.plot(bcs, 'r-')\n",
    "plt.plot(surf_vals, 'k-')"
   ]
  },
  {
   "cell_type": "code",
   "execution_count": null,
   "id": "fdb12ff7",
   "metadata": {},
   "outputs": [],
   "source": [
    "kappa = 3\n",
    "qbx_p = 8\n",
    "mult = 1.0\n",
    "\n",
    "if kappa != 1:\n",
    "    refined_circle_rule = list(common.trapezoidal_rule(kappa * circle_rule[0].shape[0]))\n",
    "    refined_circle_rule[1] *= np.pi\n",
    "    refined_circle = common.symbolic_eval(t, refined_circle_rule[0], sym_circle)\n",
    "else:\n",
    "    refined_circle_rule = circle_rule\n",
    "    refined_circle = circle\n",
    "\n",
    "qbx_center_x, qbx_center_y, qbx_r = common.qbx_choose_centers(\n",
    "    circle, circle_rule, mult=mult, direction=-1.0\n",
    ")"
   ]
  },
  {
   "cell_type": "code",
   "execution_count": null,
   "id": "a20793e3",
   "metadata": {},
   "outputs": [],
   "source": [
    "plt.plot(circle[0], circle[1])\n",
    "plt.quiver(circle[0], circle[1], circle[2], circle[3])\n",
    "plt.plot(qbx_center_x, qbx_center_y, \"ro\")"
   ]
  },
  {
   "cell_type": "code",
   "execution_count": null,
   "id": "4c44f6cd",
   "metadata": {},
   "outputs": [],
   "source": [
    "qbx_expand = common.qbx_expand_matrix(\n",
    "    common.double_layer_matrix,\n",
    "    refined_circle,\n",
    "    refined_circle_rule,\n",
    "    qbx_center_x,\n",
    "    qbx_center_y,\n",
    "    qbx_r,\n",
    "    qbx_p=qbx_p,\n",
    ")\n",
    "qbx_eval = common.qbx_eval_matrix(\n",
    "    circle[0][None, :],\n",
    "    circle[1][None, :],\n",
    "    qbx_center_x,\n",
    "    qbx_center_y,\n",
    "    qbx_p=qbx_p,\n",
    ")[0]\n",
    "A_raw = np.real(np.sum(qbx_eval[:, None, :, None] * qbx_expand, axis=2))\n",
    "A_raw = A_raw[:, 0, :]"
   ]
  },
  {
   "cell_type": "code",
   "execution_count": null,
   "id": "dd6a81e5",
   "metadata": {},
   "outputs": [],
   "source": [
    "interp_matrix = np.zeros((A_raw.shape[1], A_raw.shape[0]))\n",
    "\n",
    "for i in range(refined_circle_rule[0].shape[0]):\n",
    "    offset = i % kappa\n",
    "    if offset == 0:\n",
    "        match = i // kappa\n",
    "        interp_matrix[i, match] = 1.0\n",
    "    else:\n",
    "        below = i // kappa\n",
    "        above = below + 1\n",
    "        if above == interp_matrix.shape[1]:\n",
    "            above = 0\n",
    "        interp_matrix[i, below] = (kappa - offset) / kappa\n",
    "        interp_matrix[i, above] = offset / kappa\n",
    "\n",
    "plt.plot(circle_rule[0], bcs)\n",
    "plt.plot(refined_circle_rule[0], interp_matrix.dot(bcs))"
   ]
  },
  {
   "cell_type": "code",
   "execution_count": null,
   "id": "cd32a26d",
   "metadata": {},
   "outputs": [],
   "source": [
    "A = A_raw.dot(interp_matrix)\n",
    "surf_density = np.linalg.solve(A, bcs - surf_vals)"
   ]
  },
  {
   "cell_type": "code",
   "execution_count": null,
   "id": "6f77f78c",
   "metadata": {},
   "outputs": [],
   "source": [
    "plt.plot(bcs)\n",
    "plt.plot(surf_density)\n",
    "plt.show()"
   ]
  },
  {
   "cell_type": "code",
   "execution_count": null,
   "id": "3ef78a42",
   "metadata": {},
   "outputs": [],
   "source": [
    "u_homog_rough = (\n",
    "    common.double_layer_matrix(circle, circle_rule, obsx.flatten(), obsy.flatten())\n",
    "    .dot(surf_density)\n",
    "    .reshape(obsx.shape)\n",
    ")"
   ]
  },
  {
   "cell_type": "code",
   "execution_count": null,
   "id": "9c47708b",
   "metadata": {},
   "outputs": [],
   "source": [
    "refined_density = interp_matrix.dot(surf_density)"
   ]
  },
  {
   "cell_type": "code",
   "execution_count": null,
   "id": "a2ac8421",
   "metadata": {},
   "outputs": [],
   "source": [
    "u_homog = common.interior_eval(\n",
    "    common.double_layer_matrix,\n",
    "    circle,\n",
    "    circle_rule,\n",
    "    surf_density,\n",
    "    obsx.flatten(),\n",
    "    obsy.flatten(),\n",
    "    kappa=kappa,\n",
    "    offset_mult=mult,\n",
    "    qbx_p=qbx_p,\n",
    "    quad_rule_qbx=refined_circle_rule,\n",
    "    surface_qbx=refined_circle,\n",
    "    slip_qbx=refined_density,\n",
    "    visualize_centers=True,\n",
    ").reshape(obsx.shape)"
   ]
  },
  {
   "cell_type": "code",
   "execution_count": null,
   "id": "eae4818e",
   "metadata": {},
   "outputs": [],
   "source": [
    "plt.figure(figsize=(12,4))\n",
    "for i, to_plot in enumerate([u_homog, u_homog, correct - u_particular]):\n",
    "    plt.subplot(1,3,1+i)\n",
    "    if i == 0:\n",
    "        levels = np.linspace(np.min(to_plot), np.max(to_plot), 21)\n",
    "    else:\n",
    "        levels = np.linspace(np.min(correct - u_particular), np.max(correct - u_particular), 21)\n",
    "\n",
    "    cntf = plt.contourf(obsx, obsy, to_plot, levels=levels, extend=\"both\")\n",
    "    plt.contour(\n",
    "        obsx,\n",
    "        obsy,\n",
    "        to_plot,\n",
    "        colors=\"k\",\n",
    "        linestyles=\"-\",\n",
    "        linewidths=0.5,\n",
    "        levels=levels,\n",
    "        extend=\"both\",\n",
    "    )\n",
    "    plt.plot(circle[0], circle[1], \"k-\", linewidth=1.5)\n",
    "    plt.colorbar(cntf)\n",
    "    plt.xlim(zoomx)\n",
    "    plt.ylim(zoomy)\n",
    "    plt.title(['$u^H$', '$u^H$', 'correct - $u^p$'][i])\n",
    "plt.figure()\n",
    "to_plot = np.abs(correct - u_particular - u_homog)\n",
    "levels = np.linspace(0, 0.25, 21)\n",
    "cntf = plt.contourf(obsx, obsy, to_plot, levels=levels, extend=\"both\")\n",
    "plt.contour(\n",
    "    obsx,\n",
    "    obsy,\n",
    "    to_plot,\n",
    "    colors=\"k\",\n",
    "    linestyles=\"-\",\n",
    "    linewidths=0.5,\n",
    "    levels=levels,\n",
    "    extend=\"both\",\n",
    ")\n",
    "plt.plot(circle[0], circle[1], \"k-\", linewidth=1.5)\n",
    "plt.colorbar(cntf)\n",
    "plt.xlim(zoomx)\n",
    "plt.ylim(zoomy)\n",
    "plt.title('err($u^H$)')\n",
    "plt.show()"
   ]
  },
  {
   "cell_type": "markdown",
   "id": "d0f7841b",
   "metadata": {},
   "source": [
    "## Full solution!"
   ]
  },
  {
   "cell_type": "code",
   "execution_count": null,
   "id": "0533b3f4",
   "metadata": {},
   "outputs": [],
   "source": [
    "#u_full = u_box + u_particular\n",
    "u_full = u_homog + u_particular"
   ]
  },
  {
   "cell_type": "code",
   "execution_count": null,
   "id": "d0ead60c",
   "metadata": {},
   "outputs": [],
   "source": [
    "plt.figure(figsize=(12,4))\n",
    "for i, to_plot in enumerate([correct, u_full]):\n",
    "    plt.subplot(1,3,1+i)\n",
    "    levels = np.linspace(np.min(correct), np.max(correct), 21)\n",
    "    cntf = plt.contourf(obsx, obsy, to_plot, levels=levels, extend=\"both\")\n",
    "    plt.contour(\n",
    "        obsx,\n",
    "        obsy,\n",
    "        to_plot,\n",
    "        colors=\"k\",\n",
    "        linestyles=\"-\",\n",
    "        linewidths=0.5,\n",
    "        levels=levels,\n",
    "        extend=\"both\",\n",
    "    )\n",
    "    plt.plot(circle[0], circle[1], \"k-\", linewidth=1.5)\n",
    "    plt.colorbar(cntf)\n",
    "    plt.xlim(zoomx)\n",
    "    plt.ylim(zoomy)\n",
    "    plt.title(['correct', 'u'][i])\n",
    "\n",
    "plt.subplot(1,3,3)\n",
    "to_plot = np.abs(correct - u_full)\n",
    "levels = np.linspace(0, 1.0, 21)\n",
    "cntf = plt.contourf(obsx, obsy, to_plot, levels=levels, extend=\"both\")\n",
    "plt.contour(\n",
    "    obsx,\n",
    "    obsy,\n",
    "    to_plot,\n",
    "    colors=\"k\",\n",
    "    linestyles=\"-\",\n",
    "    linewidths=0.5,\n",
    "    levels=levels,\n",
    "    extend=\"both\",\n",
    ")\n",
    "plt.plot(circle[0], circle[1], \"k-\", linewidth=1.5)\n",
    "plt.colorbar(cntf)\n",
    "plt.xlim(zoomx)\n",
    "plt.ylim(zoomy)\n",
    "plt.title('error')\n",
    "plt.tight_layout()\n",
    "plt.show()"
   ]
  },
  {
   "cell_type": "code",
   "execution_count": null,
   "id": "7975d20b",
   "metadata": {},
   "outputs": [],
   "source": [
    "for norm in [np.linalg.norm, lambda x: np.linalg.norm(x, ord=1), lambda x: np.linalg.norm(x, ord=np.inf)]:\n",
    "    A = norm(correct[obs2d_mask_sq] - u_full[obs2d_mask_sq])\n",
    "    B = norm(correct[obs2d_mask_sq])\n",
    "    print(A, B, A/B)"
   ]
  },
  {
   "cell_type": "code",
   "execution_count": null,
   "id": "9c60fbac",
   "metadata": {},
   "outputs": [],
   "source": [
    "E = correct[obs2d_mask_sq] - u_full[obs2d_mask_sq]\n",
    "plt.plot(np.log10(sorted(np.abs(E).tolist()))[-50:])\n",
    "plt.show()"
   ]
  }
 ],
 "metadata": {
  "jupytext": {
   "formats": "ipynb,md:myst"
  },
  "kernelspec": {
   "display_name": "Python 3",
   "language": "python",
   "name": "python3"
  }
 },
 "nbformat": 4,
 "nbformat_minor": 5
}
