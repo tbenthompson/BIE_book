{
 "cells": [
  {
   "cell_type": "markdown",
   "id": "c115d4e1",
   "metadata": {},
   "source": [
    "This notebook performs a few analytical integrations in order to have functions to compare against for testing purposes with the numerical integration."
   ]
  },
  {
   "cell_type": "code",
   "execution_count": 1,
   "id": "5df1ca05",
   "metadata": {},
   "outputs": [],
   "source": [
    "from sage.all import *\n",
    "import pickle\n",
    "\n",
    "sx, sy = var('sx, sy')\n",
    "\n",
    "ox, oy = var('ox, oy')\n",
    "\n",
    "dx = ox - sx\n",
    "dy = oy - sy\n",
    "r2 = (dx ** 2) + (dy ** 2)\n",
    "\n",
    "r = sqrt(r2)\n",
    "G = (1 / (2 * pi)) * log(r)"
   ]
  },
  {
   "cell_type": "markdown",
   "id": "0a593cb4",
   "metadata": {},
   "source": [
    "Because we're integrating over a 2D domain, we need to integrate first over `sx`, then over `sy`. The first integral over `sx` can be done without many assumptions. "
   ]
  },
  {
   "cell_type": "code",
   "execution_count": 2,
   "id": "2f4ce6f7",
   "metadata": {},
   "outputs": [],
   "source": [
    "forget()\n",
    "# assume that the solution is not singular. this assumption isn't strictly\n",
    "# correct, but it convinces sage to do the integration.\n",
    "assume(sy-oy>0)\n",
    "\n",
    "# these two assumptions are also not correct in light of the later integration\n",
    "# of sy from -1 to 1. however, the integral will be the same regardless of which\n",
    "# subdomain we specify. so, this is essentially a hack to convince sage to\n",
    "# compute the integral for us.\n",
    "assume(sy > 0)\n",
    "assume(sy < 1)\n",
    "Ia = integral(G, sx, -1, 1)"
   ]
  },
  {
   "cell_type": "markdown",
   "id": "4ff45c41",
   "metadata": {},
   "source": [
    "The second integral requires assuming a location for the observation point. First, we assume a point inside the domain of integration."
   ]
  },
  {
   "cell_type": "code",
   "execution_count": 3,
   "id": "a66a5649",
   "metadata": {},
   "outputs": [],
   "source": [
    "assume(ox > -1)\n",
    "assume(ox < 1)\n",
    "assume(oy > -1)\n",
    "coincident = integral(Ia, sy, -1, 1)"
   ]
  },
  {
   "cell_type": "markdown",
   "id": "0a593cb4",
   "metadata": {},
   "source": [
    "Below, we assume `ox > 1` and `oy > 1`. This would imply that the observation point is outside the domain of integration to the upper right."
   ]
  },
  {
   "cell_type": "code",
   "execution_count": 4,
   "id": "5b0a2525",
   "metadata": {},
   "outputs": [],
   "source": [
    "forget()\n",
    "assume(ox > 1)\n",
    "assume(oy > 1)\n",
    "nearfield = integral(Ia, sy, -1, 1)"
   ]
  },
  {
   "cell_type": "code",
   "execution_count": 5,
   "id": "d7c662a1",
   "metadata": {},
   "outputs": [
    {
     "data": {
      "text/plain": [
       "'1.9'"
      ]
     },
     "execution_count": 5,
     "metadata": {},
     "output_type": "execute_result"
    }
   ],
   "source": [
    "import sympy\n",
    "sympy.__version__"
   ]
  },
  {
   "cell_type": "code",
   "execution_count": 6,
   "id": "d5f748cc",
   "metadata": {},
   "outputs": [],
   "source": [
    "import pickle\n",
    "with open('data/constant_test_integral.pkl', 'wb') as f:\n",
    "    pickle.dump([coincident._sympy_(), nearfield._sympy_()], f)"
   ]
  },
  {
   "cell_type": "code",
   "execution_count": 7,
   "id": "6c226f8f",
   "metadata": {},
   "outputs": [],
   "source": [
    "forget()\n",
    "assume(sy-oy>0)\n",
    "assume(sy > 0)\n",
    "assume(sy < 1)\n",
    "Ia = integral(G * (1 - (1 - sx) ** 3) * (1 - (sy + 1) ** 2), sx, -1, 1)"
   ]
  },
  {
   "cell_type": "code",
   "execution_count": 8,
   "id": "e9a9dd64",
   "metadata": {},
   "outputs": [],
   "source": [
    "assume(ox > -1)\n",
    "assume(ox < 1)\n",
    "assume(oy > -1)\n",
    "coincident = integral(Ia, sy, -1, 1)"
   ]
  },
  {
   "cell_type": "code",
   "execution_count": 9,
   "id": "75f78298",
   "metadata": {},
   "outputs": [],
   "source": [
    "forget()\n",
    "assume(ox > 1)\n",
    "assume(oy > 1)\n",
    "nearfield = integral(Ia, sy, -1, 1)"
   ]
  },
  {
   "cell_type": "code",
   "execution_count": 10,
   "id": "f7908b39",
   "metadata": {},
   "outputs": [],
   "source": [
    "import pickle\n",
    "with open('data/xy_test_integral.pkl', 'wb') as f:\n",
    "    pickle.dump([coincident._sympy_(), nearfield._sympy_()], f)"
   ]
  },
  {
   "cell_type": "code",
   "execution_count": 11,
   "id": "7982007c",
   "metadata": {},
   "outputs": [],
   "source": [
    "for integrand, name in [(G, 'constant'), (G * (1 - sx) * (1 - sy ** 2), 'xy')]:\n",
    "    \n",
    "    transformed_nearfield = []\n",
    "    for mult in [1, 2, 4, 8, 16]:\n",
    "        forget()\n",
    "        src_c = [0, 0]\n",
    "        src_half_size = mult / 8\n",
    "        assume(sy-oy > 0)\n",
    "        Ia = integral(integrand, sx, src_c[0] - src_half_size, src_c[0] + src_half_size)\n",
    "        assume(ox - (src_c[0] + src_half_size) > 0)\n",
    "        assume(oy - (src_c[1] + src_half_size) > 0)\n",
    "\n",
    "        transformed_nearfield.append(integral(Ia, sy, src_c[1] - src_half_size, src_c[1] + src_half_size))\n",
    "\n",
    "    import pickle\n",
    "    with open(f'data/{name}_transformed_test_integral.pkl', 'wb') as f:\n",
    "        pickle.dump([I._sympy_() for I in transformed_nearfield], f)"
   ]
  },
  {
   "cell_type": "code",
   "execution_count": 12,
   "id": "b82c3a0e",
   "metadata": {
    "tags": []
   },
   "outputs": [],
   "source": [
    "N = 7\n",
    "chebyshev_pts = [cos(pi * i / (N - 1)) for i in range(N)][::-1]\n",
    "x = var(\"x\")"
   ]
  },
  {
   "cell_type": "code",
   "execution_count": 13,
   "id": "366ac3f1",
   "metadata": {},
   "outputs": [],
   "source": [
    "basis_functions = []\n",
    "for i in range(N):\n",
    "    xi = chebyshev_pts[i]\n",
    "    prod = 1\n",
    "    # The definition of the Lagrange interpolating polynomial.\n",
    "    # In a numerical context, this definition is troublesome\n",
    "    # and it's better to use the barycentric Lagrange formulas.\n",
    "    # But this simple definition works fantastically well in\n",
    "    # a symbolic setting.\n",
    "    for j in range(N):\n",
    "        if j == i:\n",
    "            continue\n",
    "        xj = chebyshev_pts[j]\n",
    "        prod *= (x - xj) / (xi - xj)\n",
    "    basis_functions.append(prod.simplify().expand())"
   ]
  },
  {
   "cell_type": "code",
   "execution_count": 14,
   "id": "9aab4d98",
   "metadata": {},
   "outputs": [
    {
     "data": {
      "text/plain": [
       "[-8/3*x^6/((sqrt(3) + 2)*(sqrt(3) - 2)) + 8/3*x^5/((sqrt(3) + 2)*(sqrt(3) - 2)) + 8/3*x^4/((sqrt(3) + 2)*(sqrt(3) - 2)) - 8/3*x^3/((sqrt(3) + 2)*(sqrt(3) - 2)) - 1/2*x^2/((sqrt(3) + 2)*(sqrt(3) - 2)) + 1/2*x/((sqrt(3) + 2)*(sqrt(3) - 2)),\n",
       " 32/3*x^6/((sqrt(3) + 2)*(sqrt(3) + 1)*(sqrt(3) - 1)*(sqrt(3) - 2)) - 16/3*sqrt(3)*x^5/((sqrt(3) + 2)*(sqrt(3) + 1)*(sqrt(3) - 1)*(sqrt(3) - 2)) - 40/3*x^4/((sqrt(3) + 2)*(sqrt(3) + 1)*(sqrt(3) - 1)*(sqrt(3) - 2)) + 20/3*sqrt(3)*x^3/((sqrt(3) + 2)*(sqrt(3) + 1)*(sqrt(3) - 1)*(sqrt(3) - 2)) + 8/3*x^2/((sqrt(3) + 2)*(sqrt(3) + 1)*(sqrt(3) - 1)*(sqrt(3) - 2)) - 4/3*sqrt(3)*x/((sqrt(3) + 2)*(sqrt(3) + 1)*(sqrt(3) - 1)*(sqrt(3) - 2)),\n",
       " 32/3*x^6/((sqrt(3) + 1)*(sqrt(3) - 1)) - 16/3*x^5/((sqrt(3) + 1)*(sqrt(3) - 1)) - 56/3*x^4/((sqrt(3) + 1)*(sqrt(3) - 1)) + 28/3*x^3/((sqrt(3) + 1)*(sqrt(3) - 1)) + 8*x^2/((sqrt(3) + 1)*(sqrt(3) - 1)) - 4*x/((sqrt(3) + 1)*(sqrt(3) - 1)),\n",
       " -16/3*x^6 + 32/3*x^4 - 19/3*x^2 + 1,\n",
       " 32/3*x^6/((sqrt(3) + 1)*(sqrt(3) - 1)) + 16/3*x^5/((sqrt(3) + 1)*(sqrt(3) - 1)) - 56/3*x^4/((sqrt(3) + 1)*(sqrt(3) - 1)) - 28/3*x^3/((sqrt(3) + 1)*(sqrt(3) - 1)) + 8*x^2/((sqrt(3) + 1)*(sqrt(3) - 1)) + 4*x/((sqrt(3) + 1)*(sqrt(3) - 1)),\n",
       " 32/3*x^6/((sqrt(3) + 2)*(sqrt(3) + 1)*(sqrt(3) - 1)*(sqrt(3) - 2)) + 16/3*sqrt(3)*x^5/((sqrt(3) + 2)*(sqrt(3) + 1)*(sqrt(3) - 1)*(sqrt(3) - 2)) - 40/3*x^4/((sqrt(3) + 2)*(sqrt(3) + 1)*(sqrt(3) - 1)*(sqrt(3) - 2)) - 20/3*sqrt(3)*x^3/((sqrt(3) + 2)*(sqrt(3) + 1)*(sqrt(3) - 1)*(sqrt(3) - 2)) + 8/3*x^2/((sqrt(3) + 2)*(sqrt(3) + 1)*(sqrt(3) - 1)*(sqrt(3) - 2)) + 4/3*sqrt(3)*x/((sqrt(3) + 2)*(sqrt(3) + 1)*(sqrt(3) - 1)*(sqrt(3) - 2)),\n",
       " -8/3*x^6/((sqrt(3) + 2)*(sqrt(3) - 2)) - 8/3*x^5/((sqrt(3) + 2)*(sqrt(3) - 2)) + 8/3*x^4/((sqrt(3) + 2)*(sqrt(3) - 2)) + 8/3*x^3/((sqrt(3) + 2)*(sqrt(3) - 2)) - 1/2*x^2/((sqrt(3) + 2)*(sqrt(3) - 2)) - 1/2*x/((sqrt(3) + 2)*(sqrt(3) - 2))]"
      ]
     },
     "execution_count": 14,
     "metadata": {},
     "output_type": "execute_result"
    }
   ],
   "source": [
    "basis_functions"
   ]
  },
  {
   "cell_type": "code",
   "execution_count": 22,
   "id": "a71440aa",
   "metadata": {},
   "outputs": [],
   "source": [
    "Kb = (basis_functions[0].subs(x==sx) * basis_functions[1].subs(x == sy)).full_simplify() * G"
   ]
  },
  {
   "cell_type": "code",
   "execution_count": 24,
   "id": "835b996a",
   "metadata": {},
   "outputs": [],
   "source": [
    "Isx = integral(Kb, sx, -1, 1)"
   ]
  },
  {
   "cell_type": "code",
   "execution_count": 26,
   "id": "90bdeab4",
   "metadata": {},
   "outputs": [
    {
     "data": {
      "text/plain": [
       "1/793800*(806400*(12*oy + sqrt(3))*sy^11 - 1612800*sy^12 + 26880*(900*ox^2 - 900*oy^2 - 180*sqrt(3)*oy - 350*ox + 11)*sy^10 + 13440*(2400*oy^3 - 900*sqrt(3)*ox^2 + 900*sqrt(3)*oy^2 - 4*(1800*ox^2 - 700*ox + 97)*oy + 350*sqrt(3)*ox - 11*sqrt(3))*sy^9 - 6720*(3600*ox^4 + 3600*oy^4 + 2400*sqrt(3)*oy^3 - 2800*ox^3 - 12*(1800*ox^2 - 700*ox + 247)*oy^2 + 2964*ox^2 - 4*(1800*sqrt(3)*ox^2 - 700*sqrt(3)*ox + 97*sqrt(3))*oy - 770*ox - 219)*sy^8 + 3360*(2880*oy^5 + 3600*sqrt(3)*ox^4 + 3600*sqrt(3)*oy^4 - 32*(900*ox^2 - 350*ox + 311)*oy^3 - 2800*sqrt(3)*ox^3 - 12*(1800*sqrt(3)*ox^2 - 700*sqrt(3)*ox + 247*sqrt(3))*oy^2 + 2964*sqrt(3)*ox^2 + 4*(3600*ox^4 - 2800*ox^3 + 7464*ox^2 - 2520*ox - 419)*oy - 770*sqrt(3)*ox - 219*sqrt(3))*sy^7 + 16*(100800*ox^6 - 100800*oy^6 - 302400*sqrt(3)*oy^5 - 117600*ox^5 + 1680*(900*ox^2 - 350*ox + 1061)*oy^4 + 1782480*ox^4 + 3360*(900*sqrt(3)*ox^2 - 350*sqrt(3)*ox + 311*sqrt(3))*oy^3 - 1332800*ox^3 - 420*(3600*ox^4 - 2800*ox^3 + 25464*ox^2 - 9520*ox - 979)*oy^2 - 411180*ox^2 - 420*(3600*sqrt(3)*ox^4 - 2800*sqrt(3)*ox^3 + 7464*sqrt(3)*ox^2 - 2520*sqrt(3)*ox - 419*sqrt(3))*oy + 336630*ox - 4479)*sy^6 - 8*(100800*sqrt(3)*ox^6 - 100800*sqrt(3)*oy^6 - 117600*sqrt(3)*ox^5 + 1680*(900*sqrt(3)*ox^2 - 350*sqrt(3)*ox + 1061*sqrt(3))*oy^4 + 1512000*oy^5 + 1782480*sqrt(3)*ox^4 - 33600*(450*ox^2 - 175*ox - 2)*oy^3 - 1332800*sqrt(3)*ox^3 - 420*(3600*sqrt(3)*ox^4 - 2800*sqrt(3)*ox^3 + 25464*sqrt(3)*ox^2 - 9520*sqrt(3)*ox - 979*sqrt(3))*oy^2 - 411180*sqrt(3)*ox^2 + 420*(18000*ox^4 - 14000*ox^3 - 480*ox^2 + 2100*ox - 307)*oy + 336630*sqrt(3)*ox - 4479*sqrt(3))*sy^5 - 40*(50400*ox^6 - 50400*oy^6 - 151200*sqrt(3)*oy^5 - 58800*ox^5 + 1680*(450*ox^2 - 175*ox + 58)*oy^4 + 97440*ox^4 + 3360*(450*sqrt(3)*ox^2 - 175*sqrt(3)*ox - 2*sqrt(3))*oy^3 - 49000*ox^3 - 42*(18000*ox^4 - 14000*ox^3 + 13920*ox^2 - 3500*ox - 1331)*oy^2 - 55902*ox^2 - 42*(18000*sqrt(3)*ox^4 - 14000*sqrt(3)*ox^3 - 480*sqrt(3)*ox^2 + 2100*sqrt(3)*ox - 307*sqrt(3))*oy + 25725*ox + 2160)*sy^4 + 20*(50400*sqrt(3)*ox^6 - 50400*sqrt(3)*oy^6 - 58800*sqrt(3)*ox^5 + 1680*(450*sqrt(3)*ox^2 - 175*sqrt(3)*ox + 58*sqrt(3))*oy^4 + 120960*oy^5 + 97440*sqrt(3)*ox^4 - 2688*(450*ox^2 - 175*ox - 32)*oy^3 - 49000*sqrt(3)*ox^3 - 42*(18000*sqrt(3)*ox^4 - 14000*sqrt(3)*ox^3 + 13920*sqrt(3)*ox^2 - 3500*sqrt(3)*ox - 1331*sqrt(3))*oy^2 - 55902*sqrt(3)*ox^2 + 168*(3600*ox^4 - 2800*ox^3 - 1536*ox^2 + 980*ox + 41)*oy + 25725*sqrt(3)*ox + 2160*sqrt(3))*sy^3 + 8*(50400*ox^6 - 50400*oy^6 - 151200*sqrt(3)*oy^5 - 58800*ox^5 + 1680*(450*ox^2 - 175*ox - 32)*oy^4 - 53760*ox^4 + 3360*(450*sqrt(3)*ox^2 - 175*sqrt(3)*ox - 32*sqrt(3))*oy^3 + 68600*ox^3 - 210*(3600*ox^4 - 2800*ox^3 - 1536*ox^2 + 980*ox + 41)*oy^2 + 8610*ox^2 - 210*(3600*sqrt(3)*ox^4 - 2800*sqrt(3)*ox^3 - 1536*sqrt(3)*ox^2 + 980*sqrt(3)*ox + 41*sqrt(3))*oy - 15435*ox + 438)*sy^2 - 4*(50400*sqrt(3)*ox^6 - 50400*sqrt(3)*oy^6 - 58800*sqrt(3)*ox^5 + 1680*(450*sqrt(3)*ox^2 - 175*sqrt(3)*ox - 32*sqrt(3))*oy^4 - 53760*sqrt(3)*ox^4 + 68600*sqrt(3)*ox^3 - 210*(3600*sqrt(3)*ox^4 - 2800*sqrt(3)*ox^3 - 1536*sqrt(3)*ox^2 + 980*sqrt(3)*ox + 41*sqrt(3))*oy^2 + 8610*sqrt(3)*ox^2 - 15435*sqrt(3)*ox + 438*sqrt(3))*sy + 420*(960*(14*oy + sqrt(3))*sy^12 - 1920*sy^13 + 96*(420*ox^2 - 420*oy^2 - 70*sqrt(3)*oy - 140*ox - 3)*sy^11 + 48*(1400*oy^3 - 420*sqrt(3)*ox^2 + 420*sqrt(3)*oy^2 - 70*(60*ox^2 - 20*ox + 1)*oy + 140*sqrt(3)*ox + 3*sqrt(3))*sy^10 - 40*(1680*ox^4 + 1680*oy^4 + 840*sqrt(3)*oy^3 - 1120*ox^3 - 84*(120*ox^2 - 40*ox + 7)*oy^2 + 588*ox^2 - 42*(60*sqrt(3)*ox^2 - 20*sqrt(3)*ox + sqrt(3))*oy - 84*ox - 51)*sy^9 + 20*(2016*oy^5 + 1680*sqrt(3)*ox^4 + 1680*sqrt(3)*oy^4 - 168*(120*ox^2 - 40*ox + 17)*oy^3 - 1120*sqrt(3)*ox^3 - 84*(120*sqrt(3)*ox^2 - 40*sqrt(3)*ox + 7*sqrt(3))*oy^2 + 588*sqrt(3)*ox^2 + 42*(240*ox^4 - 160*ox^3 + 204*ox^2 - 52*ox - 13)*oy - 84*sqrt(3)*ox - 51*sqrt(3))*sy^8 + 14*(960*ox^6 - 960*oy^6 - 1440*sqrt(3)*oy^5 - 960*ox^5 + 240*(60*ox^2 - 20*ox + 21)*oy^4 + 5040*ox^4 + 120*(120*sqrt(3)*ox^2 - 40*sqrt(3)*ox + 17*sqrt(3))*oy^3 - 3040*ox^3 - 60*(240*ox^4 - 160*ox^3 + 504*ox^2 - 152*ox - 25)*oy^2 - 1500*ox^2 - 30*(240*sqrt(3)*ox^4 - 160*sqrt(3)*ox^3 + 204*sqrt(3)*ox^2 - 52*sqrt(3)*ox - 13*sqrt(3))*oy + 780*ox + 27)*sy^7 + (1920*oy^7 - 6720*sqrt(3)*ox^6 + 6720*sqrt(3)*oy^6 - 672*(60*ox^2 - 20*ox + 71)*oy^5 + 6720*sqrt(3)*ox^5 - 1680*(60*sqrt(3)*ox^2 - 20*sqrt(3)*ox + 21*sqrt(3))*oy^4 - 35280*sqrt(3)*ox^4 + 280*(240*ox^4 - 160*ox^3 + 1704*ox^2 - 552*ox - 57)*oy^3 + 21280*sqrt(3)*ox^3 + 420*(240*sqrt(3)*ox^4 - 160*sqrt(3)*ox^3 + 504*sqrt(3)*ox^2 - 152*sqrt(3)*ox - 25*sqrt(3))*oy^2 + 10500*sqrt(3)*ox^2 - 210*(64*ox^6 - 64*ox^5 + 1136*ox^4 - 736*ox^3 - 228*ox^2 + 148*ox - 1)*oy - 5460*sqrt(3)*ox - 189*sqrt(3))*sy^6 - (960*sqrt(3)*oy^7 + 16800*ox^6 - 336*(60*sqrt(3)*ox^2 - 20*sqrt(3)*ox + 71*sqrt(3))*oy^5 - 16800*oy^6 - 16800*ox^5 + 84000*(3*ox^2 - ox)*oy^4 + 140*(240*sqrt(3)*ox^4 - 160*sqrt(3)*ox^3 + 1704*sqrt(3)*ox^2 - 552*sqrt(3)*ox - 57*sqrt(3))*oy^3 + 5600*ox^3 - 210*(1200*ox^4 - 800*ox^3 + 80*ox - 17)*oy^2 - 3570*ox^2 - 105*(64*sqrt(3)*ox^6 - 64*sqrt(3)*ox^5 + 1136*sqrt(3)*ox^4 - 736*sqrt(3)*ox^3 - 228*sqrt(3)*ox^2 + 148*sqrt(3)*ox - sqrt(3))*oy + 210*ox + 210)*sy^5 - 5*(480*oy^7 - 1680*sqrt(3)*ox^6 + 1680*sqrt(3)*oy^6 - 672*(15*ox^2 - 5*ox + 2)*oy^5 + 1680*sqrt(3)*ox^5 - 8400*(3*sqrt(3)*ox^2 - sqrt(3)*ox)*oy^4 + 14*(1200*ox^4 - 800*ox^3 + 960*ox^2 - 240*ox - 81)*oy^3 - 560*sqrt(3)*ox^3 + 21*(1200*sqrt(3)*ox^4 - 800*sqrt(3)*ox^3 + 80*sqrt(3)*ox - 17*sqrt(3))*oy^2 + 357*sqrt(3)*ox^2 - 42*(80*ox^6 - 80*ox^5 + 160*ox^4 - 80*ox^3 - 81*ox^2 + 33*ox + 3)*oy - 21*sqrt(3)*ox - 21*sqrt(3))*sy^4 + 5*(240*sqrt(3)*oy^7 + 672*ox^6 - 336*(15*sqrt(3)*ox^2 - 5*sqrt(3)*ox + 2*sqrt(3))*oy^5 - 672*oy^6 - 672*ox^5 + 672*(15*ox^2 - 5*ox - 1)*oy^4 - 672*ox^4 + 7*(1200*sqrt(3)*ox^4 - 800*sqrt(3)*ox^3 + 960*sqrt(3)*ox^2 - 240*sqrt(3)*ox - 81*sqrt(3))*oy^3 + 672*ox^3 - 42*(240*ox^4 - 160*ox^3 - 96*ox^2 + 48*ox + 3)*oy^2 + 126*ox^2 - 21*(80*sqrt(3)*ox^6 - 80*sqrt(3)*ox^5 + 160*sqrt(3)*ox^4 - 80*sqrt(3)*ox^3 - 81*sqrt(3)*ox^2 + 33*sqrt(3)*ox + 3*sqrt(3))*oy - 126*ox)*sy^3 + (480*oy^7 - 1680*sqrt(3)*ox^6 + 1680*sqrt(3)*oy^6 - 672*(15*ox^2 - 5*ox - 1)*oy^5 + 1680*sqrt(3)*ox^5 - 1680*(15*sqrt(3)*ox^2 - 5*sqrt(3)*ox - sqrt(3))*oy^4 + 1680*sqrt(3)*ox^4 + 70*(240*ox^4 - 160*ox^3 - 96*ox^2 + 48*ox + 3)*oy^3 - 1680*sqrt(3)*ox^3 + 105*(240*sqrt(3)*ox^4 - 160*sqrt(3)*ox^3 - 96*sqrt(3)*ox^2 + 48*sqrt(3)*ox + 3*sqrt(3))*oy^2 - 315*sqrt(3)*ox^2 - 210*(16*ox^6 - 16*ox^5 - 16*ox^4 + 16*ox^3 + 3*ox^2 - 3*ox)*oy + 315*sqrt(3)*ox)*sy^2 - (240*sqrt(3)*oy^7 - 336*(15*sqrt(3)*ox^2 - 5*sqrt(3)*ox - sqrt(3))*oy^5 + 35*(240*sqrt(3)*ox^4 - 160*sqrt(3)*ox^3 - 96*sqrt(3)*ox^2 + 48*sqrt(3)*ox + 3*sqrt(3))*oy^3 - 105*(16*sqrt(3)*ox^6 - 16*sqrt(3)*ox^5 - 16*sqrt(3)*ox^4 + 16*sqrt(3)*ox^3 + 3*sqrt(3)*ox^2 - 3*sqrt(3)*ox)*oy)*sy)*arctan((ox + 1)/(oy - sy)) - 420*(960*(14*oy + sqrt(3))*sy^12 - 1920*sy^13 + 96*(420*ox^2 - 420*oy^2 - 70*sqrt(3)*oy - 140*ox - 3)*sy^11 + 48*(1400*oy^3 - 420*sqrt(3)*ox^2 + 420*sqrt(3)*oy^2 - 70*(60*ox^2 - 20*ox + 1)*oy + 140*sqrt(3)*ox + 3*sqrt(3))*sy^10 - 40*(1680*ox^4 + 1680*oy^4 + 840*sqrt(3)*oy^3 - 1120*ox^3 - 84*(120*ox^2 - 40*ox + 7)*oy^2 + 588*ox^2 - 42*(60*sqrt(3)*ox^2 - 20*sqrt(3)*ox + sqrt(3))*oy - 84*ox - 51)*sy^9 + 20*(2016*oy^5 + 1680*sqrt(3)*ox^4 + 1680*sqrt(3)*oy^4 - 168*(120*ox^2 - 40*ox + 17)*oy^3 - 1120*sqrt(3)*ox^3 - 84*(120*sqrt(3)*ox^2 - 40*sqrt(3)*ox + 7*sqrt(3))*oy^2 + 588*sqrt(3)*ox^2 + 42*(240*ox^4 - 160*ox^3 + 204*ox^2 - 52*ox - 13)*oy - 84*sqrt(3)*ox - 51*sqrt(3))*sy^8 + 14*(960*ox^6 - 960*oy^6 - 1440*sqrt(3)*oy^5 - 960*ox^5 + 240*(60*ox^2 - 20*ox + 21)*oy^4 + 5040*ox^4 + 120*(120*sqrt(3)*ox^2 - 40*sqrt(3)*ox + 17*sqrt(3))*oy^3 - 3040*ox^3 - 60*(240*ox^4 - 160*ox^3 + 504*ox^2 - 152*ox - 25)*oy^2 - 1500*ox^2 - 30*(240*sqrt(3)*ox^4 - 160*sqrt(3)*ox^3 + 204*sqrt(3)*ox^2 - 52*sqrt(3)*ox - 13*sqrt(3))*oy + 780*ox + 27)*sy^7 + (1920*oy^7 - 6720*sqrt(3)*ox^6 + 6720*sqrt(3)*oy^6 - 672*(60*ox^2 - 20*ox + 71)*oy^5 + 6720*sqrt(3)*ox^5 - 1680*(60*sqrt(3)*ox^2 - 20*sqrt(3)*ox + 21*sqrt(3))*oy^4 - 35280*sqrt(3)*ox^4 + 280*(240*ox^4 - 160*ox^3 + 1704*ox^2 - 552*ox - 57)*oy^3 + 21280*sqrt(3)*ox^3 + 420*(240*sqrt(3)*ox^4 - 160*sqrt(3)*ox^3 + 504*sqrt(3)*ox^2 - 152*sqrt(3)*ox - 25*sqrt(3))*oy^2 + 10500*sqrt(3)*ox^2 - 210*(64*ox^6 - 64*ox^5 + 1136*ox^4 - 736*ox^3 - 228*ox^2 + 148*ox - 1)*oy - 5460*sqrt(3)*ox - 189*sqrt(3))*sy^6 - (960*sqrt(3)*oy^7 + 16800*ox^6 - 336*(60*sqrt(3)*ox^2 - 20*sqrt(3)*ox + 71*sqrt(3))*oy^5 - 16800*oy^6 - 16800*ox^5 + 84000*(3*ox^2 - ox)*oy^4 + 140*(240*sqrt(3)*ox^4 - 160*sqrt(3)*ox^3 + 1704*sqrt(3)*ox^2 - 552*sqrt(3)*ox - 57*sqrt(3))*oy^3 + 5600*ox^3 - 210*(1200*ox^4 - 800*ox^3 + 80*ox - 17)*oy^2 - 3570*ox^2 - 105*(64*sqrt(3)*ox^6 - 64*sqrt(3)*ox^5 + 1136*sqrt(3)*ox^4 - 736*sqrt(3)*ox^3 - 228*sqrt(3)*ox^2 + 148*sqrt(3)*ox - sqrt(3))*oy + 210*ox + 210)*sy^5 - 5*(480*oy^7 - 1680*sqrt(3)*ox^6 + 1680*sqrt(3)*oy^6 - 672*(15*ox^2 - 5*ox + 2)*oy^5 + 1680*sqrt(3)*ox^5 - 8400*(3*sqrt(3)*ox^2 - sqrt(3)*ox)*oy^4 + 14*(1200*ox^4 - 800*ox^3 + 960*ox^2 - 240*ox - 81)*oy^3 - 560*sqrt(3)*ox^3 + 21*(1200*sqrt(3)*ox^4 - 800*sqrt(3)*ox^3 + 80*sqrt(3)*ox - 17*sqrt(3))*oy^2 + 357*sqrt(3)*ox^2 - 42*(80*ox^6 - 80*ox^5 + 160*ox^4 - 80*ox^3 - 81*ox^2 + 33*ox + 3)*oy - 21*sqrt(3)*ox - 21*sqrt(3))*sy^4 + 5*(240*sqrt(3)*oy^7 + 672*ox^6 - 336*(15*sqrt(3)*ox^2 - 5*sqrt(3)*ox + 2*sqrt(3))*oy^5 - 672*oy^6 - 672*ox^5 + 672*(15*ox^2 - 5*ox - 1)*oy^4 - 672*ox^4 + 7*(1200*sqrt(3)*ox^4 - 800*sqrt(3)*ox^3 + 960*sqrt(3)*ox^2 - 240*sqrt(3)*ox - 81*sqrt(3))*oy^3 + 672*ox^3 - 42*(240*ox^4 - 160*ox^3 - 96*ox^2 + 48*ox + 3)*oy^2 + 126*ox^2 - 21*(80*sqrt(3)*ox^6 - 80*sqrt(3)*ox^5 + 160*sqrt(3)*ox^4 - 80*sqrt(3)*ox^3 - 81*sqrt(3)*ox^2 + 33*sqrt(3)*ox + 3*sqrt(3))*oy - 126*ox)*sy^3 + (480*oy^7 - 1680*sqrt(3)*ox^6 + 1680*sqrt(3)*oy^6 - 672*(15*ox^2 - 5*ox - 1)*oy^5 + 1680*sqrt(3)*ox^5 - 1680*(15*sqrt(3)*ox^2 - 5*sqrt(3)*ox - sqrt(3))*oy^4 + 1680*sqrt(3)*ox^4 + 70*(240*ox^4 - 160*ox^3 - 96*ox^2 + 48*ox + 3)*oy^3 - 1680*sqrt(3)*ox^3 + 105*(240*sqrt(3)*ox^4 - 160*sqrt(3)*ox^3 - 96*sqrt(3)*ox^2 + 48*sqrt(3)*ox + 3*sqrt(3))*oy^2 - 315*sqrt(3)*ox^2 - 210*(16*ox^6 - 16*ox^5 - 16*ox^4 + 16*ox^3 + 3*ox^2 - 3*ox)*oy + 315*sqrt(3)*ox)*sy^2 - (240*sqrt(3)*oy^7 - 336*(15*sqrt(3)*ox^2 - 5*sqrt(3)*ox - sqrt(3))*oy^5 + 35*(240*sqrt(3)*ox^4 - 160*sqrt(3)*ox^3 - 96*sqrt(3)*ox^2 + 48*sqrt(3)*ox + 3*sqrt(3))*oy^3 - 105*(16*sqrt(3)*ox^6 - 16*sqrt(3)*ox^5 - 16*sqrt(3)*ox^4 + 16*sqrt(3)*ox^3 + 3*sqrt(3)*ox^2 - 3*sqrt(3)*ox)*oy)*sy)*arctan((ox - 1)/(oy - sy)) - 5565*(8*sy^6 - 4*sqrt(3)*sy^5 - 10*sy^4 + 5*sqrt(3)*sy^3 + 2*sy^2 - sqrt(3)*sy)*log(ox^2 + oy^2 - 2*oy*sy + sy^2 + 2*ox + 1) + 1785*(8*sy^6 - 4*sqrt(3)*sy^5 - 10*sy^4 + 5*sqrt(3)*sy^3 + 2*sy^2 - sqrt(3)*sy)*log(ox^2 + oy^2 - 2*oy*sy + sy^2 - 2*ox + 1) + 105*(4480*(6*ox - 1)*sy^12 - 2240*(12*(6*ox - 1)*oy + 6*sqrt(3)*ox - sqrt(3))*sy^11 - 1120*(120*ox^3 - 60*(6*ox - 1)*oy^2 - 60*ox^2 - 12*(6*sqrt(3)*ox - sqrt(3))*oy + 6*ox + 1)*sy^10 - 560*(160*(6*ox - 1)*oy^3 - 120*sqrt(3)*ox^3 + 60*(6*sqrt(3)*ox - sqrt(3))*oy^2 + 60*sqrt(3)*ox^2 - 12*(80*ox^3 - 40*ox^2 + 14*ox - 1)*oy - 6*sqrt(3)*ox - sqrt(3))*sy^9 + 280*(288*ox^5 + 240*(6*ox - 1)*oy^4 - 240*ox^4 + 160*(6*sqrt(3)*ox - sqrt(3))*oy^3 + 408*ox^3 - 12*(240*ox^3 - 120*ox^2 + 102*ox - 13)*oy^2 - 156*ox^2 - 12*(80*sqrt(3)*ox^3 - 40*sqrt(3)*ox^2 + 14*sqrt(3)*ox - sqrt(3))*oy - 78*ox + 17)*sy^8 - 140*(192*(6*ox - 1)*oy^5 + 288*sqrt(3)*ox^5 + 240*(6*sqrt(3)*ox - sqrt(3))*oy^4 - 240*sqrt(3)*ox^4 - 32*(120*ox^3 - 60*ox^2 + 126*ox - 19)*oy^3 + 408*sqrt(3)*ox^3 - 12*(240*sqrt(3)*ox^3 - 120*sqrt(3)*ox^2 + 102*sqrt(3)*ox - 13*sqrt(3))*oy^2 - 156*sqrt(3)*ox^2 + 12*(96*ox^5 - 80*ox^4 + 336*ox^3 - 152*ox^2 - 50*ox + 13)*oy - 78*sqrt(3)*ox + 17*sqrt(3))*sy^7 - 2*(1920*ox^7 - 2240*(6*ox - 1)*oy^6 - 2240*ox^6 - 6720*(6*sqrt(3)*ox - sqrt(3))*oy^5 + 47712*ox^5 + 1680*(40*ox^3 - 20*ox^2 + 142*ox - 23)*oy^4 - 38640*ox^4 + 1120*(120*sqrt(3)*ox^3 - 60*sqrt(3)*ox^2 + 126*sqrt(3)*ox - 19*sqrt(3))*oy^3 - 15960*ox^3 - 420*(96*ox^5 - 80*ox^4 + 1136*ox^3 - 552*ox^2 - 114*ox + 37)*oy^2 + 15540*ox^2 - 420*(96*sqrt(3)*ox^5 - 80*sqrt(3)*ox^4 + 336*sqrt(3)*ox^3 - 152*sqrt(3)*ox^2 - 50*sqrt(3)*ox + 13*sqrt(3))*oy - 210*ox - 735)*sy^6 + (1920*sqrt(3)*ox^7 - 2240*(6*sqrt(3)*ox - sqrt(3))*oy^6 - 2240*sqrt(3)*ox^6 + 33600*(6*ox - 1)*oy^5 + 47712*sqrt(3)*ox^5 + 1680*(40*sqrt(3)*ox^3 - 20*sqrt(3)*ox^2 + 142*sqrt(3)*ox - 23*sqrt(3))*oy^4 - 38640*sqrt(3)*ox^4 - 11200*(60*ox^3 - 30*ox^2 + 1)*oy^3 - 15960*sqrt(3)*ox^3 - 420*(96*sqrt(3)*ox^5 - 80*sqrt(3)*ox^4 + 1136*sqrt(3)*ox^3 - 552*sqrt(3)*ox^2 - 114*sqrt(3)*ox + 37*sqrt(3))*oy^2 + 15540*sqrt(3)*ox^2 + 420*(480*ox^5 - 400*ox^4 + 80*ox^2 - 34*ox + 1)*oy - 210*sqrt(3)*ox - 735*sqrt(3))*sy^5 + 10*(480*ox^7 - 560*(6*ox - 1)*oy^6 - 560*ox^6 - 1680*(6*sqrt(3)*ox - sqrt(3))*oy^5 + 1344*ox^5 + 840*(20*ox^3 - 10*ox^2 + 8*ox - 1)*oy^4 - 840*ox^4 + 560*(60*sqrt(3)*ox^3 - 30*sqrt(3)*ox^2 + sqrt(3))*oy^3 - 1134*ox^3 - 21*(480*ox^5 - 400*ox^4 + 640*ox^3 - 240*ox^2 - 162*ox + 33)*oy^2 + 693*ox^2 - 21*(480*sqrt(3)*ox^5 - 400*sqrt(3)*ox^4 + 80*sqrt(3)*ox^2 - 34*sqrt(3)*ox + sqrt(3))*oy + 126*ox - 63)*sy^4 - 5*(480*sqrt(3)*ox^7 - 560*(6*sqrt(3)*ox - sqrt(3))*oy^6 - 560*sqrt(3)*ox^6 + 1344*(6*ox - 1)*oy^5 + 1344*sqrt(3)*ox^5 + 840*(20*sqrt(3)*ox^3 - 10*sqrt(3)*ox^2 + 8*sqrt(3)*ox - sqrt(3))*oy^4 - 840*sqrt(3)*ox^4 - 1344*(20*ox^3 - 10*ox^2 - 4*ox + 1)*oy^3 - 1134*sqrt(3)*ox^3 - 21*(480*sqrt(3)*ox^5 - 400*sqrt(3)*ox^4 + 640*sqrt(3)*ox^3 - 240*sqrt(3)*ox^2 - 162*sqrt(3)*ox + 33*sqrt(3))*oy^2 + 693*sqrt(3)*ox^2 + 84*(96*ox^5 - 80*ox^4 - 64*ox^3 + 48*ox^2 + 6*ox - 3)*oy + 126*sqrt(3)*ox - 63*sqrt(3))*sy^3 - 2*(480*ox^7 - 560*(6*ox - 1)*oy^6 - 560*ox^6 - 1680*(6*sqrt(3)*ox - sqrt(3))*oy^5 - 672*ox^5 + 840*(20*ox^3 - 10*ox^2 - 4*ox + 1)*oy^4 + 840*ox^4 + 1680*(20*sqrt(3)*ox^3 - 10*sqrt(3)*ox^2 - 4*sqrt(3)*ox + sqrt(3))*oy^3 + 210*ox^3 - 105*(96*ox^5 - 80*ox^4 - 64*ox^3 + 48*ox^2 + 6*ox - 3)*oy^2 - 315*ox^2 - 105*(96*sqrt(3)*ox^5 - 80*sqrt(3)*ox^4 - 64*sqrt(3)*ox^3 + 48*sqrt(3)*ox^2 + 6*sqrt(3)*ox - 3*sqrt(3))*oy)*sy^2 + (480*sqrt(3)*ox^7 - 560*(6*sqrt(3)*ox - sqrt(3))*oy^6 - 560*sqrt(3)*ox^6 - 672*sqrt(3)*ox^5 + 840*(20*sqrt(3)*ox^3 - 10*sqrt(3)*ox^2 - 4*sqrt(3)*ox + sqrt(3))*oy^4 + 840*sqrt(3)*ox^4 + 210*sqrt(3)*ox^3 - 105*(96*sqrt(3)*ox^5 - 80*sqrt(3)*ox^4 - 64*sqrt(3)*ox^3 + 48*sqrt(3)*ox^2 + 6*sqrt(3)*ox - 3*sqrt(3))*oy^2 - 315*sqrt(3)*ox^2)*sy)*log(abs(ox^2 + oy^2 - 2*oy*sy + sy^2 + 2*ox + 1)) - 105*(4480*(6*ox - 1)*sy^12 - 2240*(12*(6*ox - 1)*oy + 6*sqrt(3)*ox - sqrt(3))*sy^11 - 1120*(120*ox^3 - 60*(6*ox - 1)*oy^2 - 60*ox^2 - 12*(6*sqrt(3)*ox - sqrt(3))*oy + 6*ox + 1)*sy^10 - 560*(160*(6*ox - 1)*oy^3 - 120*sqrt(3)*ox^3 + 60*(6*sqrt(3)*ox - sqrt(3))*oy^2 + 60*sqrt(3)*ox^2 - 12*(80*ox^3 - 40*ox^2 + 14*ox - 1)*oy - 6*sqrt(3)*ox - sqrt(3))*sy^9 + 280*(288*ox^5 + 240*(6*ox - 1)*oy^4 - 240*ox^4 + 160*(6*sqrt(3)*ox - sqrt(3))*oy^3 + 408*ox^3 - 12*(240*ox^3 - 120*ox^2 + 102*ox - 13)*oy^2 - 156*ox^2 - 12*(80*sqrt(3)*ox^3 - 40*sqrt(3)*ox^2 + 14*sqrt(3)*ox - sqrt(3))*oy - 78*ox + 17)*sy^8 - 140*(192*(6*ox - 1)*oy^5 + 288*sqrt(3)*ox^5 + 240*(6*sqrt(3)*ox - sqrt(3))*oy^4 - 240*sqrt(3)*ox^4 - 32*(120*ox^3 - 60*ox^2 + 126*ox - 19)*oy^3 + 408*sqrt(3)*ox^3 - 12*(240*sqrt(3)*ox^3 - 120*sqrt(3)*ox^2 + 102*sqrt(3)*ox - 13*sqrt(3))*oy^2 - 156*sqrt(3)*ox^2 + 12*(96*ox^5 - 80*ox^4 + 336*ox^3 - 152*ox^2 - 50*ox + 13)*oy - 78*sqrt(3)*ox + 17*sqrt(3))*sy^7 - 2*(1920*ox^7 - 2240*(6*ox - 1)*oy^6 - 2240*ox^6 - 6720*(6*sqrt(3)*ox - sqrt(3))*oy^5 + 47712*ox^5 + 1680*(40*ox^3 - 20*ox^2 + 142*ox - 23)*oy^4 - 38640*ox^4 + 1120*(120*sqrt(3)*ox^3 - 60*sqrt(3)*ox^2 + 126*sqrt(3)*ox - 19*sqrt(3))*oy^3 - 15960*ox^3 - 420*(96*ox^5 - 80*ox^4 + 1136*ox^3 - 552*ox^2 - 114*ox + 37)*oy^2 + 15540*ox^2 - 420*(96*sqrt(3)*ox^5 - 80*sqrt(3)*ox^4 + 336*sqrt(3)*ox^3 - 152*sqrt(3)*ox^2 - 50*sqrt(3)*ox + 13*sqrt(3))*oy - 210*ox - 735)*sy^6 + (1920*sqrt(3)*ox^7 - 2240*(6*sqrt(3)*ox - sqrt(3))*oy^6 - 2240*sqrt(3)*ox^6 + 33600*(6*ox - 1)*oy^5 + 47712*sqrt(3)*ox^5 + 1680*(40*sqrt(3)*ox^3 - 20*sqrt(3)*ox^2 + 142*sqrt(3)*ox - 23*sqrt(3))*oy^4 - 38640*sqrt(3)*ox^4 - 11200*(60*ox^3 - 30*ox^2 + 1)*oy^3 - 15960*sqrt(3)*ox^3 - 420*(96*sqrt(3)*ox^5 - 80*sqrt(3)*ox^4 + 1136*sqrt(3)*ox^3 - 552*sqrt(3)*ox^2 - 114*sqrt(3)*ox + 37*sqrt(3))*oy^2 + 15540*sqrt(3)*ox^2 + 420*(480*ox^5 - 400*ox^4 + 80*ox^2 - 34*ox + 1)*oy - 210*sqrt(3)*ox - 735*sqrt(3))*sy^5 + 10*(480*ox^7 - 560*(6*ox - 1)*oy^6 - 560*ox^6 - 1680*(6*sqrt(3)*ox - sqrt(3))*oy^5 + 1344*ox^5 + 840*(20*ox^3 - 10*ox^2 + 8*ox - 1)*oy^4 - 840*ox^4 + 560*(60*sqrt(3)*ox^3 - 30*sqrt(3)*ox^2 + sqrt(3))*oy^3 - 1134*ox^3 - 21*(480*ox^5 - 400*ox^4 + 640*ox^3 - 240*ox^2 - 162*ox + 33)*oy^2 + 693*ox^2 - 21*(480*sqrt(3)*ox^5 - 400*sqrt(3)*ox^4 + 80*sqrt(3)*ox^2 - 34*sqrt(3)*ox + sqrt(3))*oy + 126*ox - 63)*sy^4 - 5*(480*sqrt(3)*ox^7 - 560*(6*sqrt(3)*ox - sqrt(3))*oy^6 - 560*sqrt(3)*ox^6 + 1344*(6*ox - 1)*oy^5 + 1344*sqrt(3)*ox^5 + 840*(20*sqrt(3)*ox^3 - 10*sqrt(3)*ox^2 + 8*sqrt(3)*ox - sqrt(3))*oy^4 - 840*sqrt(3)*ox^4 - 1344*(20*ox^3 - 10*ox^2 - 4*ox + 1)*oy^3 - 1134*sqrt(3)*ox^3 - 21*(480*sqrt(3)*ox^5 - 400*sqrt(3)*ox^4 + 640*sqrt(3)*ox^3 - 240*sqrt(3)*ox^2 - 162*sqrt(3)*ox + 33*sqrt(3))*oy^2 + 693*sqrt(3)*ox^2 + 84*(96*ox^5 - 80*ox^4 - 64*ox^3 + 48*ox^2 + 6*ox - 3)*oy + 126*sqrt(3)*ox - 63*sqrt(3))*sy^3 - 2*(480*ox^7 - 560*(6*ox - 1)*oy^6 - 560*ox^6 - 1680*(6*sqrt(3)*ox - sqrt(3))*oy^5 - 672*ox^5 + 840*(20*ox^3 - 10*ox^2 - 4*ox + 1)*oy^4 + 840*ox^4 + 1680*(20*sqrt(3)*ox^3 - 10*sqrt(3)*ox^2 - 4*sqrt(3)*ox + sqrt(3))*oy^3 + 210*ox^3 - 105*(96*ox^5 - 80*ox^4 - 64*ox^3 + 48*ox^2 + 6*ox - 3)*oy^2 - 315*ox^2 - 105*(96*sqrt(3)*ox^5 - 80*sqrt(3)*ox^4 - 64*sqrt(3)*ox^3 + 48*sqrt(3)*ox^2 + 6*sqrt(3)*ox - 3*sqrt(3))*oy)*sy^2 + (480*sqrt(3)*ox^7 - 560*(6*sqrt(3)*ox - sqrt(3))*oy^6 - 560*sqrt(3)*ox^6 - 672*sqrt(3)*ox^5 + 840*(20*sqrt(3)*ox^3 - 10*sqrt(3)*ox^2 - 4*sqrt(3)*ox + sqrt(3))*oy^4 + 840*sqrt(3)*ox^4 + 210*sqrt(3)*ox^3 - 105*(96*sqrt(3)*ox^5 - 80*sqrt(3)*ox^4 - 64*sqrt(3)*ox^3 + 48*sqrt(3)*ox^2 + 6*sqrt(3)*ox - 3*sqrt(3))*oy^2 - 315*sqrt(3)*ox^2)*sy)*log(abs(ox^2 + oy^2 - 2*oy*sy + sy^2 - 2*ox + 1)))/pi"
      ]
     },
     "execution_count": 26,
     "metadata": {},
     "output_type": "execute_result"
    }
   ],
   "source": [
    "Isx_simp = Isx.full_simplify()"
   ]
  },
  {
   "cell_type": "code",
   "execution_count": 28,
   "id": "e00a79b1",
   "metadata": {},
   "outputs": [],
   "source": [
    "If = integral(Isx_simp, sy, -1, 1)"
   ]
  },
  {
   "cell_type": "code",
   "execution_count": 44,
   "id": "ce52dd3b",
   "metadata": {},
   "outputs": [
    {
     "data": {
      "text/plain": [
       "1/85816130400*sqrt(3)*(1209600*(sqrt(3)*arctan((oy - 1)/(ox + 1)) - sqrt(3)*arctan((oy - 1)/(ox - 1)))*oy^14 - 4233600*oy^13*(arctan((oy - 1)/(ox + 1)) - arctan((oy - 1)/(ox - 1))) - 20160*(91*(60*sqrt(3)*ox^2 - 20*sqrt(3)*ox + sqrt(3))*arctan((oy - 1)/(ox + 1)) - 91*(60*sqrt(3)*ox^2 - 20*sqrt(3)*ox + sqrt(3))*arctan((oy - 1)/(ox - 1)) - 240*sqrt(3))*oy^12 + 4838400*sqrt(3)*ox^12 + 211680*(13*(120*ox^2 - 40*ox + 7)*arctan((oy - 1)/(ox + 1)) - 13*(120*ox^2 - 40*ox + 7)*arctan((oy - 1)/(ox - 1)) - 80)*oy^11 - 11289600*sqrt(3)*ox^11 - 5040*(63360*sqrt(3)*ox^2 - 1001*(240*sqrt(3)*ox^4 - 160*sqrt(3)*ox^3 + 24*sqrt(3)*ox^2 + 8*sqrt(3)*ox - sqrt(3))*arctan((oy - 1)/(ox + 1)) + 1001*(240*sqrt(3)*ox^4 - 160*sqrt(3)*ox^3 + 24*sqrt(3)*ox^2 + 8*sqrt(3)*ox - sqrt(3))*arctan((oy - 1)/(ox - 1)) - 24640*sqrt(3)*ox + 1456*sqrt(3))*oy^10 + 7338240*sqrt(3)*ox^10 + 17640*(52800*ox^2 - 715*(240*ox^4 - 160*ox^3 + 84*ox^2 - 12*ox + 3)*arctan((oy - 1)/(ox + 1)) + 715*(240*ox^4 - 160*ox^3 + 84*ox^2 - 12*ox + 3)*arctan((oy - 1)/(ox - 1)) - 20800*ox + 4368)*oy^9 + 14676480*sqrt(3)*ox^9 + 1260*(1900800*sqrt(3)*ox^4 - 1478400*sqrt(3)*ox^3 + 262080*sqrt(3)*ox^2 - 3003*(960*sqrt(3)*ox^6 - 960*sqrt(3)*ox^5 + 240*sqrt(3)*ox^4 + 160*sqrt(3)*ox^3 - 60*sqrt(3)*ox^2 - 20*sqrt(3)*ox - sqrt(3))*arctan((oy - 1)/(ox + 1)) + 3003*(960*sqrt(3)*ox^6 - 960*sqrt(3)*ox^5 + 240*sqrt(3)*ox^4 + 160*sqrt(3)*ox^3 - 60*sqrt(3)*ox^2 - 20*sqrt(3)*ox - sqrt(3))*arctan((oy - 1)/(ox - 1)) + 104832*sqrt(3)*ox - 21136*sqrt(3))*oy^8 - 26631360*sqrt(3)*ox^8 - 1260*(4435200*ox^4 - 3494400*ox^3 + 2201472*ox^2 + 34320*(16*sqrt(3) - 21)*arctan((ox + 1)/(oy - 1)) - 34320*(16*sqrt(3) - 21)*arctan((ox - 1)/(oy - 1)) - 9009*(640*ox^6 - 640*ox^5 + 560*ox^4 - 160*ox^3 + 120*ox^2 - 40*ox - 17)*arctan((oy - 1)/(ox + 1)) + 9009*(640*ox^6 - 640*ox^5 + 560*ox^4 - 160*ox^3 + 120*ox^2 - 40*ox - 17)*arctan((oy - 1)/(ox - 1)) - 384384*ox + 102200)*oy^7 - 18580800*sqrt(3)*ox^7 - 5880*(760320*sqrt(3)*ox^6 - 887040*sqrt(3)*ox^5 + 262080*sqrt(3)*ox^4 + 209664*sqrt(3)*ox^3 - 126816*sqrt(3)*ox^2 - 102960*(7*sqrt(3) - 12)*arctan((ox + 1)/(oy - 1)) + 102960*(7*sqrt(3) - 12)*arctan((ox - 1)/(oy - 1)) - 429*(1440*sqrt(3)*ox^8 - 1920*sqrt(3)*ox^7 + 672*sqrt(3)*ox^6 + 672*sqrt(3)*ox^5 - 420*sqrt(3)*ox^4 - 280*sqrt(3)*ox^3 - 42*sqrt(3)*ox^2 + 978*sqrt(3)*ox + 873*sqrt(3))*arctan((oy - 1)/(ox + 1)) + 429*(1440*sqrt(3)*ox^8 - 1920*sqrt(3)*ox^7 + 672*sqrt(3)*ox^6 + 672*sqrt(3)*ox^5 - 420*sqrt(3)*ox^4 - 280*sqrt(3)*ox^3 - 42*sqrt(3)*ox^2 + 114*sqrt(3)*ox + 9*sqrt(3))*arctan((oy - 1)/(ox - 1)) - 22120*sqrt(3)*ox - 580814*sqrt(3))*oy^6 - 3415186320*sqrt(3)*ox^6 + 8820*(887040*ox^6 - 1048320*ox^5 + 1100736*ox^4 - 384384*ox^3 + 306600*ox^2 + 6864*(15*ox^2*(16*sqrt(3) - 21) - 5*ox*(16*sqrt(3) - 21) - 192*sqrt(3) + 336)*arctan((ox + 1)/(oy - 1)) - 6864*(15*ox^2*(16*sqrt(3) - 21) - 5*ox*(16*sqrt(3) - 21) - 192*sqrt(3) + 336)*arctan((ox - 1)/(oy - 1)) - 1287*(480*ox^8 - 640*ox^7 + 784*ox^6 - 336*ox^5 + 420*ox^4 - 280*ox^3 - 357*ox^2 + 445*ox + 305)*arctan((oy - 1)/(ox + 1)) + 1287*(480*ox^8 - 640*ox^7 + 784*ox^6 - 336*ox^5 + 420*ox^4 - 280*ox^3 - 357*ox^2 + 157*ox + 17)*arctan((oy - 1)/(ox - 1)) - 121160*ox + 2660164)*oy^5 - 362631360*sqrt(3)*ox^5 + 840*(2851200*sqrt(3)*ox^8 - 4435200*sqrt(3)*ox^7 + 1834560*sqrt(3)*ox^6 + 2201472*sqrt(3)*ox^5 - 2219280*sqrt(3)*ox^4 - 774200*sqrt(3)*ox^3 - 60985470*sqrt(3)*ox^2 - 360360*(30*ox^2*(7*sqrt(3) - 12) - 10*ox*(7*sqrt(3) - 12) - 63*sqrt(3) + 112)*arctan((ox + 1)/(oy - 1)) + 360360*(30*ox^2*(7*sqrt(3) - 12) - 10*ox*(7*sqrt(3) - 12) - 63*sqrt(3) + 112)*arctan((ox - 1)/(oy - 1)) - 15015*(96*sqrt(3)*ox^10 - 160*sqrt(3)*ox^9 + 72*sqrt(3)*ox^8 + 96*sqrt(3)*ox^7 - 84*sqrt(3)*ox^6 - 84*sqrt(3)*ox^5 - 21*sqrt(3)*ox^4 + 978*sqrt(3)*ox^3 + 2619*sqrt(3)*ox^2 + 2907*sqrt(3)*ox + 1181*sqrt(3))*arctan((oy - 1)/(ox + 1)) + 15015*(96*sqrt(3)*ox^10 - 160*sqrt(3)*ox^9 + 72*sqrt(3)*ox^8 + 96*sqrt(3)*ox^7 - 84*sqrt(3)*ox^6 - 84*sqrt(3)*ox^5 - 21*sqrt(3)*ox^4 + 114*sqrt(3)*ox^3 + 27*sqrt(3)*ox^2 - 93*sqrt(3)*ox + 37*sqrt(3))*arctan((oy - 1)/(ox - 1)) - 2158520*sqrt(3)*ox + 24203164*sqrt(3))*oy^4 + 20330657760*sqrt(3)*ox^4 - 2940*(950400*ox^8 - 1497600*ox^7 + 2201472*ox^6 - 1153152*ox^5 + 1533000*ox^4 - 1211600*ox^3 + 79804920*ox^2 + 39*(13200*ox^4*(16*sqrt(3) - 21) - 8800*ox^3*(16*sqrt(3) - 21) - 253440*ox^2*(4*sqrt(3) - 7) + 880*ox*(400*sqrt(3) - 693) + 173392*sqrt(3) - 308385)*arctan((ox + 1)/(oy - 1)) - 39*(13200*ox^4*(16*sqrt(3) - 21) - 8800*ox^3*(16*sqrt(3) - 21) - 253440*ox^2*(4*sqrt(3) - 7) + 880*ox*(400*sqrt(3) - 693) + 173392*sqrt(3) - 308385)*arctan((ox - 1)/(oy - 1)) - 2145*(192*ox^10 - 320*ox^9 + 504*ox^8 - 288*ox^7 + 504*ox^6 - 504*ox^5 - 1071*ox^4 + 2670*ox^3 + 5490*ox^2 + 5880*ox + 2575)*arctan((oy - 1)/(ox + 1)) + 2145*(192*ox^10 - 320*ox^9 + 504*ox^8 - 288*ox^7 + 504*ox^6 - 504*ox^5 - 1071*ox^4 + 942*ox^3 + 306*ox^2 - 336*ox + 71)*arctan((oy - 1)/(ox - 1)) - 39457704*ox - 29517360)*oy^3 - 43119647200*sqrt(3)*ox^3 - 168*(1900800*sqrt(3)*ox^10 - 3696000*sqrt(3)*ox^9 + 1965600*sqrt(3)*ox^8 + 3144960*sqrt(3)*ox^7 - 4438560*sqrt(3)*ox^6 - 2322600*sqrt(3)*ox^5 - 304927350*sqrt(3)*ox^4 - 21585200*sqrt(3)*ox^3 + 726094920*sqrt(3)*ox^2 - 4095*(13200*ox^4*(7*sqrt(3) - 12) - 8800*ox^3*(7*sqrt(3) - 12) - 18480*ox^2*(9*sqrt(3) - 16) + 1760*ox*(35*sqrt(3) - 62) + 19019*sqrt(3) - 33788)*arctan((ox + 1)/(oy - 1)) + 4095*(13200*ox^4*(7*sqrt(3) - 12) - 8800*ox^3*(7*sqrt(3) - 12) - 18480*ox^2*(9*sqrt(3) - 16) + 1760*ox*(35*sqrt(3) - 62) + 19019*sqrt(3) - 33788)*arctan((ox - 1)/(oy - 1)) - 1365*(480*sqrt(3)*ox^12 - 960*sqrt(3)*ox^11 + 528*sqrt(3)*ox^10 + 880*sqrt(3)*ox^9 - 990*sqrt(3)*ox^8 - 1320*sqrt(3)*ox^7 - 462*sqrt(3)*ox^6 + 32274*sqrt(3)*ox^5 + 144045*sqrt(3)*ox^4 + 319770*sqrt(3)*ox^3 + 389730*sqrt(3)*ox^2 + 247188*sqrt(3)*ox + 64501*sqrt(3))*arctan((oy - 1)/(ox + 1)) + 1365*(480*sqrt(3)*ox^12 - 960*sqrt(3)*ox^11 + 528*sqrt(3)*ox^10 + 880*sqrt(3)*ox^9 - 990*sqrt(3)*ox^8 - 1320*sqrt(3)*ox^7 - 462*sqrt(3)*ox^6 + 3762*sqrt(3)*ox^5 + 1485*sqrt(3)*ox^4 - 10230*sqrt(3)*ox^3 + 12210*sqrt(3)*ox^2 - 6948*sqrt(3)*ox + 1565*sqrt(3))*arctan((oy - 1)/(ox - 1)) - 769993700*sqrt(3)*ox - 295847916*sqrt(3))*oy^2 - 49702449888*sqrt(3)*ox^2 + 1764*(105600*ox^10 - 208000*ox^9 + 393120*ox^8 - 274560*ox^7 + 511000*ox^6 - 605800*ox^5 + 66504100*ox^4 - 65762840*ox^3 - 147586800*ox^2 + 5*(34320*ox^6*(16*sqrt(3) - 21) - 34320*ox^5*(16*sqrt(3) - 21) - 1647360*ox^4*(4*sqrt(3) - 7) + 11440*ox^3*(400*sqrt(3) - 693) + 39*ox^2*(173392*sqrt(3) - 308385) - 13*ox*(209648*sqrt(3) - 370755) - 564464*sqrt(3) + 999999)*arctan((ox + 1)/(oy - 1)) - 5*(34320*ox^6*(16*sqrt(3) - 21) - 34320*ox^5*(16*sqrt(3) - 21) - 1647360*ox^4*(4*sqrt(3) - 7) + 11440*ox^3*(400*sqrt(3) - 693) + 39*ox^2*(173392*sqrt(3) - 308385) - 13*ox*(209648*sqrt(3) - 370755) - 564464*sqrt(3) + 999999)*arctan((ox - 1)/(oy - 1)) - 195*(160*ox^12 - 320*ox^11 + 616*ox^10 - 440*ox^9 + 990*ox^8 - 1320*ox^7 - 3927*ox^6 + 14685*ox^5 + 50325*ox^4 + 107800*ox^3 + 141625*ox^2 + 96883*ox + 27499)*arctan((oy - 1)/(ox + 1)) + 195*(160*ox^12 - 320*ox^11 + 616*ox^10 - 440*ox^9 + 990*ox^8 - 1320*ox^7 - 3927*ox^6 + 5181*ox^5 + 2805*ox^4 - 6160*ox^3 + 3905*ox^2 - 2173*ox + 683)*arctan((oy - 1)/(ox - 1)) + 35451000*ox + 6760104)*oy - 1260*(34320*oy^7*(16*sqrt(3) + 21) - 480480*ox^6*(7*sqrt(3) + 12) + 480480*oy^6*(7*sqrt(3) + 12) - 48048*(15*ox^2*(16*sqrt(3) + 21) - 5*ox*(16*sqrt(3) + 21) - 192*sqrt(3) - 336)*oy^5 + 480480*ox^5*(7*sqrt(3) + 12) - 240240*(30*ox^2*(7*sqrt(3) + 12) - 10*ox*(7*sqrt(3) + 12) - 63*sqrt(3) - 112)*oy^4 + 1681680*ox^4*(9*sqrt(3) + 16) + 91*(13200*ox^4*(16*sqrt(3) + 21) - 8800*ox^3*(16*sqrt(3) + 21) - 253440*ox^2*(4*sqrt(3) + 7) + 880*ox*(400*sqrt(3) + 693) + 173392*sqrt(3) + 308385)*oy^3 - 320320*ox^3*(35*sqrt(3) + 62) + 546*(13200*ox^4*(7*sqrt(3) + 12) - 8800*ox^3*(7*sqrt(3) + 12) - 18480*ox^2*(9*sqrt(3) + 16) + 1760*ox*(35*sqrt(3) + 62) + 19019*sqrt(3) + 33788)*oy^2 - 546*ox^2*(19019*sqrt(3) + 33788) - 7*(34320*ox^6*(16*sqrt(3) + 21) - 34320*ox^5*(16*sqrt(3) + 21) - 1647360*ox^4*(4*sqrt(3) + 7) + 11440*ox^3*(400*sqrt(3) + 693) + 39*ox^2*(173392*sqrt(3) + 308385) - 13*ox*(209648*sqrt(3) + 370755) - 564464*sqrt(3) - 999999)*oy + 546*ox*(8547*sqrt(3) + 15164) + 661947*sqrt(3) + 1167432)*arctan((ox + 1)/(oy + 1)) + 1260*(34320*oy^7*(16*sqrt(3) + 21) - 480480*ox^6*(7*sqrt(3) + 12) + 480480*oy^6*(7*sqrt(3) + 12) - 48048*(15*ox^2*(16*sqrt(3) + 21) - 5*ox*(16*sqrt(3) + 21) - 192*sqrt(3) - 336)*oy^5 + 480480*ox^5*(7*sqrt(3) + 12) - 240240*(30*ox^2*(7*sqrt(3) + 12) - 10*ox*(7*sqrt(3) + 12) - 63*sqrt(3) - 112)*oy^4 + 1681680*ox^4*(9*sqrt(3) + 16) + 91*(13200*ox^4*(16*sqrt(3) + 21) - 8800*ox^3*(16*sqrt(3) + 21) - 253440*ox^2*(4*sqrt(3) + 7) + 880*ox*(400*sqrt(3) + 693) + 173392*sqrt(3) + 308385)*oy^3 - 320320*ox^3*(35*sqrt(3) + 62) + 546*(13200*ox^4*(7*sqrt(3) + 12) - 8800*ox^3*(7*sqrt(3) + 12) - 18480*ox^2*(9*sqrt(3) + 16) + 1760*ox*(35*sqrt(3) + 62) + 19019*sqrt(3) + 33788)*oy^2 - 546*ox^2*(19019*sqrt(3) + 33788) - 7*(34320*ox^6*(16*sqrt(3) + 21) - 34320*ox^5*(16*sqrt(3) + 21) - 1647360*ox^4*(4*sqrt(3) + 7) + 11440*ox^3*(400*sqrt(3) + 693) + 39*ox^2*(173392*sqrt(3) + 308385) - 13*ox*(209648*sqrt(3) + 370755) - 564464*sqrt(3) - 999999)*oy + 546*ox*(8547*sqrt(3) + 15164) + 661947*sqrt(3) + 1167432)*arctan((ox - 1)/(oy + 1)) + 420*(2880*sqrt(3)*ox^14 - 2880*sqrt(3)*oy^14 - 6720*sqrt(3)*ox^13 + 4368*(60*sqrt(3)*ox^2 - 20*sqrt(3)*ox + sqrt(3))*oy^12 + 10080*oy^13 + 4368*sqrt(3)*ox^12 - 6552*(120*ox^2 - 40*ox + 7)*oy^11 + 8736*sqrt(3)*ox^11 - 12012*(240*sqrt(3)*ox^4 - 160*sqrt(3)*ox^3 + 24*sqrt(3)*ox^2 + 8*sqrt(3)*ox - sqrt(3))*oy^10 - 12012*sqrt(3)*ox^10 + 30030*(240*ox^4 - 160*ox^3 + 84*ox^2 - 12*ox + 3)*oy^9 - 20020*sqrt(3)*ox^9 + 9009*(960*sqrt(3)*ox^6 - 960*sqrt(3)*ox^5 + 240*sqrt(3)*ox^4 + 160*sqrt(3)*ox^3 - 60*sqrt(3)*ox^2 - 20*sqrt(3)*ox - sqrt(3))*oy^8 - 9009*sqrt(3)*ox^8 - 27027*(640*ox^6 - 640*ox^5 + 560*ox^4 - 160*ox^3 + 120*ox^2 - 40*ox - 17)*oy^7 + 839124*sqrt(3)*ox^7 - 6006*(1440*sqrt(3)*ox^8 - 1920*sqrt(3)*ox^7 + 672*sqrt(3)*ox^6 + 672*sqrt(3)*ox^5 - 420*sqrt(3)*ox^4 - 280*sqrt(3)*ox^3 - 42*sqrt(3)*ox^2 + 978*sqrt(3)*ox + 873*sqrt(3))*oy^6 + 5243238*sqrt(3)*ox^6 + 27027*(480*ox^8 - 640*ox^7 + 784*ox^6 - 336*ox^5 + 420*ox^4 - 280*ox^3 - 357*ox^2 + 445*ox + 305)*oy^5 + 17459442*sqrt(3)*ox^5 + 30030*(96*sqrt(3)*ox^10 - 160*sqrt(3)*ox^9 + 72*sqrt(3)*ox^8 + 96*sqrt(3)*ox^7 - 84*sqrt(3)*ox^6 - 84*sqrt(3)*ox^5 - 21*sqrt(3)*ox^4 + 978*sqrt(3)*ox^3 + 2619*sqrt(3)*ox^2 + 2907*sqrt(3)*ox + 1181*sqrt(3))*oy^4 + 35465430*sqrt(3)*ox^4 - 15015*(192*ox^10 - 320*ox^9 + 504*ox^8 - 288*ox^7 + 504*ox^6 - 504*ox^5 - 1071*ox^4 + 2670*ox^3 + 5490*ox^2 + 5880*ox + 2575)*oy^3 + 44988216*sqrt(3)*ox^3 - 546*(480*sqrt(3)*ox^12 - 960*sqrt(3)*ox^11 + 528*sqrt(3)*ox^10 + 880*sqrt(3)*ox^9 - 990*sqrt(3)*ox^8 - 1320*sqrt(3)*ox^7 - 462*sqrt(3)*ox^6 + 32274*sqrt(3)*ox^5 + 144045*sqrt(3)*ox^4 + 319770*sqrt(3)*ox^3 + 389730*sqrt(3)*ox^2 + 247188*sqrt(3)*ox + 64501*sqrt(3))*oy^2 + 35217546*sqrt(3)*ox^2 + 819*(160*ox^12 - 320*ox^11 + 616*ox^10 - 440*ox^9 + 990*ox^8 - 1320*ox^7 - 3927*ox^6 + 14685*ox^5 + 50325*ox^4 + 107800*ox^3 + 141625*ox^2 + 96883*ox + 27499)*oy + 15692502*sqrt(3)*ox + 3048839*sqrt(3))*arctan((oy + 1)/(ox + 1)) - 420*(2880*sqrt(3)*ox^14 - 2880*sqrt(3)*oy^14 - 6720*sqrt(3)*ox^13 + 4368*(60*sqrt(3)*ox^2 - 20*sqrt(3)*ox + sqrt(3))*oy^12 + 10080*oy^13 + 4368*sqrt(3)*ox^12 - 6552*(120*ox^2 - 40*ox + 7)*oy^11 + 8736*sqrt(3)*ox^11 - 12012*(240*sqrt(3)*ox^4 - 160*sqrt(3)*ox^3 + 24*sqrt(3)*ox^2 + 8*sqrt(3)*ox - sqrt(3))*oy^10 - 12012*sqrt(3)*ox^10 + 30030*(240*ox^4 - 160*ox^3 + 84*ox^2 - 12*ox + 3)*oy^9 - 20020*sqrt(3)*ox^9 + 9009*(960*sqrt(3)*ox^6 - 960*sqrt(3)*ox^5 + 240*sqrt(3)*ox^4 + 160*sqrt(3)*ox^3 - 60*sqrt(3)*ox^2 - 20*sqrt(3)*ox - sqrt(3))*oy^8 - 9009*sqrt(3)*ox^8 - 27027*(640*ox^6 - 640*ox^5 + 560*ox^4 - 160*ox^3 + 120*ox^2 - 40*ox - 17)*oy^7 + 97812*sqrt(3)*ox^7 - 6006*(1440*sqrt(3)*ox^8 - 1920*sqrt(3)*ox^7 + 672*sqrt(3)*ox^6 + 672*sqrt(3)*ox^5 - 420*sqrt(3)*ox^4 - 280*sqrt(3)*ox^3 - 42*sqrt(3)*ox^2 + 114*sqrt(3)*ox + 9*sqrt(3))*oy^6 + 54054*sqrt(3)*ox^6 + 27027*(480*ox^8 - 640*ox^7 + 784*ox^6 - 336*ox^5 + 420*ox^4 - 280*ox^3 - 357*ox^2 + 157*ox + 17)*oy^5 - 558558*sqrt(3)*ox^5 + 30030*(96*sqrt(3)*ox^10 - 160*sqrt(3)*ox^9 + 72*sqrt(3)*ox^8 + 96*sqrt(3)*ox^7 - 84*sqrt(3)*ox^6 - 84*sqrt(3)*ox^5 - 21*sqrt(3)*ox^4 + 114*sqrt(3)*ox^3 + 27*sqrt(3)*ox^2 - 93*sqrt(3)*ox + 37*sqrt(3))*oy^4 + 1111110*sqrt(3)*ox^4 - 15015*(192*ox^10 - 320*ox^9 + 504*ox^8 - 288*ox^7 + 504*ox^6 - 504*ox^5 - 1071*ox^4 + 942*ox^3 + 306*ox^2 - 336*ox + 71)*oy^3 - 1264536*sqrt(3)*ox^3 - 546*(480*sqrt(3)*ox^12 - 960*sqrt(3)*ox^11 + 528*sqrt(3)*ox^10 + 880*sqrt(3)*ox^9 - 990*sqrt(3)*ox^8 - 1320*sqrt(3)*ox^7 - 462*sqrt(3)*ox^6 + 3762*sqrt(3)*ox^5 + 1485*sqrt(3)*ox^4 - 10230*sqrt(3)*ox^3 + 12210*sqrt(3)*ox^2 - 6948*sqrt(3)*ox + 1565*sqrt(3))*oy^2 + 854490*sqrt(3)*ox^2 + 819*(160*ox^12 - 320*ox^11 + 616*ox^10 - 440*ox^9 + 990*ox^8 - 1320*ox^7 - 3927*ox^6 + 5181*ox^5 + 2805*ox^4 - 6160*ox^3 + 3905*ox^2 - 2173*ox + 683)*oy - 305130*sqrt(3)*ox + 42535*sqrt(3))*arctan((oy + 1)/(ox - 1)) - 1260*(480480*ox^6*(7*sqrt(3) - 12) - 480480*ox^5*(7*sqrt(3) - 12) - 1681680*ox^4*(9*sqrt(3) - 16) + 320320*ox^3*(35*sqrt(3) - 62) + 546*ox^2*(19019*sqrt(3) - 33788) - 546*ox*(8547*sqrt(3) - 15164) - 661947*sqrt(3) + 1167432)*arctan((ox + 1)/(oy - 1)) + 1260*(480480*ox^6*(7*sqrt(3) - 12) - 480480*ox^5*(7*sqrt(3) - 12) - 1681680*ox^4*(9*sqrt(3) - 16) + 320320*ox^3*(35*sqrt(3) - 62) + 546*ox^2*(19019*sqrt(3) - 33788) - 546*ox*(8547*sqrt(3) - 15164) - 661947*sqrt(3) + 1167432)*arctan((ox - 1)/(oy - 1)) - 420*(2880*sqrt(3)*ox^14 - 6720*sqrt(3)*ox^13 + 4368*sqrt(3)*ox^12 + 8736*sqrt(3)*ox^11 - 12012*sqrt(3)*ox^10 - 20020*sqrt(3)*ox^9 - 9009*sqrt(3)*ox^8 + 839124*sqrt(3)*ox^7 + 5243238*sqrt(3)*ox^6 + 17459442*sqrt(3)*ox^5 + 35465430*sqrt(3)*ox^4 + 44988216*sqrt(3)*ox^3 + 35217546*sqrt(3)*ox^2 + 15692502*sqrt(3)*ox + 3048839*sqrt(3))*arctan((oy - 1)/(ox + 1)) + 420*(2880*sqrt(3)*ox^14 - 6720*sqrt(3)*ox^13 + 4368*sqrt(3)*ox^12 + 8736*sqrt(3)*ox^11 - 12012*sqrt(3)*ox^10 - 20020*sqrt(3)*ox^9 - 9009*sqrt(3)*ox^8 + 97812*sqrt(3)*ox^7 + 54054*sqrt(3)*ox^6 - 558558*sqrt(3)*ox^5 + 1111110*sqrt(3)*ox^4 - 1264536*sqrt(3)*ox^3 + 854490*sqrt(3)*ox^2 - 305130*sqrt(3)*ox + 42535*sqrt(3))*arctan((oy - 1)/(ox - 1)) + 105*(13440*(6*sqrt(3)*ox - sqrt(3))*oy^13 - 20160*ox^13 - 43680*(6*ox - 1)*oy^12 + 43680*ox^12 - 17472*(120*sqrt(3)*ox^3 - 60*sqrt(3)*ox^2 + 6*sqrt(3)*ox + sqrt(3))*oy^11 - 91728*ox^11 + 72072*(80*ox^3 - 40*ox^2 + 14*ox - 1)*oy^10 + 72072*ox^10 + 40040*(288*sqrt(3)*ox^5 - 240*sqrt(3)*ox^4 + 48*sqrt(3)*ox^3 + 24*sqrt(3)*ox^2 - 6*sqrt(3)*ox - sqrt(3))*oy^9 - 180180*ox^9 - 270270*(96*ox^5 - 80*ox^4 + 56*ox^3 - 12*ox^2 + 6*ox - 1)*oy^8 + 270270*ox^8 - 10296*(1920*sqrt(3)*ox^7 - 2240*sqrt(3)*ox^6 + 672*sqrt(3)*ox^5 + 560*sqrt(3)*ox^4 - 280*sqrt(3)*ox^3 - 140*sqrt(3)*ox^2 - 14*sqrt(3)*ox + 163*sqrt(3))*oy^7 + 2574*ox^7*(1280*sqrt(3) + 2037) + 3003*(11520*ox^7 - 13440*ox^6 + 14112*ox^5 - 5040*ox^4 + 5040*ox^3 - 2520*ox^2 - 6*ox*(1280*sqrt(3) + 2037) + 1280*sqrt(3) + 3015)*oy^6 - 15015*ox^6*(256*sqrt(3) + 603) + 36036*(320*sqrt(3)*ox^9 - 480*sqrt(3)*ox^8 + 192*sqrt(3)*ox^7 + 224*sqrt(3)*ox^6 - 168*sqrt(3)*ox^5 - 140*sqrt(3)*ox^4 - 28*sqrt(3)*ox^3 + 978*sqrt(3)*ox^2 - 6*ox*(269*sqrt(3) + 960) + 1529*sqrt(3) + 960)*oy^5 - 54054*ox^5*(1024*sqrt(3) + 2097) - 15015*(960*ox^9 - 1440*ox^8 + 2016*ox^7 - 1008*ox^6 + 1512*ox^5 - 1260*ox^4 - 6*ox^3*(1280*sqrt(3) + 2037) + 15*ox^2*(256*sqrt(3) + 603) + 18*ox*(1024*sqrt(3) + 2097) - 3200*sqrt(3) - 2604)*oy^4 + 60060*ox^4*(800*sqrt(3) + 651) - 2184*(960*sqrt(3)*ox^11 - 1760*sqrt(3)*ox^10 + 880*sqrt(3)*ox^9 + 1320*sqrt(3)*ox^8 - 1320*sqrt(3)*ox^7 - 1540*sqrt(3)*ox^6 - 462*sqrt(3)*ox^5 + 26895*sqrt(3)*ox^4 - 330*ox^3*(269*sqrt(3) + 960) + 165*ox^2*(1529*sqrt(3) + 960) + 110*ox*(2693*sqrt(3) + 2688) + 10398*sqrt(3) - 54560)*oy^3 + 4368*ox^3*(21674*sqrt(3) + 20845) + 273*(5760*ox^11 - 10560*ox^10 + 18480*ox^9 - 11880*ox^8 + 23760*ox^7 - 27720*ox^6 - 198*ox^5*(1280*sqrt(3) + 2037) + 825*ox^4*(256*sqrt(3) + 603) + 1980*ox^3*(1024*sqrt(3) + 2097) - 1320*ox^2*(800*sqrt(3) + 651) - 48*ox*(21674*sqrt(3) + 20845) + 209648*sqrt(3) + 661404)*oy^2 - 1092*ox^2*(52412*sqrt(3) + 165351) + 84*(960*sqrt(3)*ox^13 - 2080*sqrt(3)*ox^12 + 1248*sqrt(3)*ox^11 + 2288*sqrt(3)*ox^10 - 2860*sqrt(3)*ox^9 - 4290*sqrt(3)*ox^8 - 1716*sqrt(3)*ox^7 + 139854*sqrt(3)*ox^6 - 2574*ox^5*(269*sqrt(3) + 960) + 2145*ox^4*(1529*sqrt(3) + 960) + 2860*ox^3*(2693*sqrt(3) + 2688) + 156*ox^2*(5199*sqrt(3) - 27280) + 104*ox*(1861*sqrt(3) - 25341) + 706964*sqrt(3) + 591396)*oy - 168*ox*(141116*sqrt(3) + 518115) + 6362176*sqrt(3) + 19152)*log(ox^2 + oy^2 + 2*ox + 2*oy + 2) + 2387385*(16*sqrt(3) - 21)*log(ox^2 + oy^2 + 2*ox - 2*oy + 2) - 765765*(16*sqrt(3) + 21)*log(ox^2 + oy^2 - 2*ox + 2*oy + 2) - 765765*(16*sqrt(3) - 21)*log(ox^2 + oy^2 - 2*ox - 2*oy + 2) - 105*(13440*(6*sqrt(3)*ox - sqrt(3))*oy^13 - 20160*ox^13 - 43680*(6*ox - 1)*oy^12 + 43680*ox^12 - 17472*(120*sqrt(3)*ox^3 - 60*sqrt(3)*ox^2 + 6*sqrt(3)*ox + sqrt(3))*oy^11 - 91728*ox^11 + 72072*(80*ox^3 - 40*ox^2 + 14*ox - 1)*oy^10 + 72072*ox^10 + 40040*(288*sqrt(3)*ox^5 - 240*sqrt(3)*ox^4 + 48*sqrt(3)*ox^3 + 24*sqrt(3)*ox^2 - 6*sqrt(3)*ox - sqrt(3))*oy^9 - 180180*ox^9 - 270270*(96*ox^5 - 80*ox^4 + 56*ox^3 - 12*ox^2 + 6*ox - 1)*oy^8 + 270270*ox^8 - 10296*(1920*sqrt(3)*ox^7 - 2240*sqrt(3)*ox^6 + 672*sqrt(3)*ox^5 + 560*sqrt(3)*ox^4 - 280*sqrt(3)*ox^3 - 140*sqrt(3)*ox^2 - 14*sqrt(3)*ox + 163*sqrt(3))*oy^7 - 2574*ox^7*(1280*sqrt(3) - 2037) + 3003*(11520*ox^7 - 13440*ox^6 + 14112*ox^5 - 5040*ox^4 + 5040*ox^3 - 2520*ox^2 + 6*ox*(1280*sqrt(3) - 2037) - 1280*sqrt(3) + 3015)*oy^6 + 15015*ox^6*(256*sqrt(3) - 603) + 36036*(320*sqrt(3)*ox^9 - 480*sqrt(3)*ox^8 + 192*sqrt(3)*ox^7 + 224*sqrt(3)*ox^6 - 168*sqrt(3)*ox^5 - 140*sqrt(3)*ox^4 - 28*sqrt(3)*ox^3 + 978*sqrt(3)*ox^2 - 6*ox*(269*sqrt(3) - 960) + 1529*sqrt(3) - 960)*oy^5 + 54054*ox^5*(1024*sqrt(3) - 2097) - 15015*(960*ox^9 - 1440*ox^8 + 2016*ox^7 - 1008*ox^6 + 1512*ox^5 - 1260*ox^4 + 6*ox^3*(1280*sqrt(3) - 2037) - 15*ox^2*(256*sqrt(3) - 603) - 18*ox*(1024*sqrt(3) - 2097) + 3200*sqrt(3) - 2604)*oy^4 - 60060*ox^4*(800*sqrt(3) - 651) - 2184*(960*sqrt(3)*ox^11 - 1760*sqrt(3)*ox^10 + 880*sqrt(3)*ox^9 + 1320*sqrt(3)*ox^8 - 1320*sqrt(3)*ox^7 - 1540*sqrt(3)*ox^6 - 462*sqrt(3)*ox^5 + 26895*sqrt(3)*ox^4 - 330*ox^3*(269*sqrt(3) - 960) + 165*ox^2*(1529*sqrt(3) - 960) + 110*ox*(2693*sqrt(3) - 2688) + 10398*sqrt(3) + 54560)*oy^3 - 4368*ox^3*(21674*sqrt(3) - 20845) + 273*(5760*ox^11 - 10560*ox^10 + 18480*ox^9 - 11880*ox^8 + 23760*ox^7 - 27720*ox^6 + 198*ox^5*(1280*sqrt(3) - 2037) - 825*ox^4*(256*sqrt(3) - 603) - 1980*ox^3*(1024*sqrt(3) - 2097) + 1320*ox^2*(800*sqrt(3) - 651) + 48*ox*(21674*sqrt(3) - 20845) - 209648*sqrt(3) + 661404)*oy^2 + 1092*ox^2*(52412*sqrt(3) - 165351) + 84*(960*sqrt(3)*ox^13 - 2080*sqrt(3)*ox^12 + 1248*sqrt(3)*ox^11 + 2288*sqrt(3)*ox^10 - 2860*sqrt(3)*ox^9 - 4290*sqrt(3)*ox^8 - 1716*sqrt(3)*ox^7 + 139854*sqrt(3)*ox^6 - 2574*ox^5*(269*sqrt(3) - 960) + 2145*ox^4*(1529*sqrt(3) - 960) + 2860*ox^3*(2693*sqrt(3) - 2688) + 156*ox^2*(5199*sqrt(3) + 27280) + 104*ox*(1861*sqrt(3) + 25341) + 706964*sqrt(3) - 591396)*oy + 168*ox*(141116*sqrt(3) - 518115) - 5998384*sqrt(3) - 458325)*log(abs(ox^2 + oy^2 + 2*ox - 2*oy + 2)) - 105*(13440*(6*sqrt(3)*ox - sqrt(3))*oy^13 - 20160*ox^13 - 43680*(6*ox - 1)*oy^12 + 43680*ox^12 - 17472*(120*sqrt(3)*ox^3 - 60*sqrt(3)*ox^2 + 6*sqrt(3)*ox + sqrt(3))*oy^11 - 91728*ox^11 + 72072*(80*ox^3 - 40*ox^2 + 14*ox - 1)*oy^10 + 72072*ox^10 + 40040*(288*sqrt(3)*ox^5 - 240*sqrt(3)*ox^4 + 48*sqrt(3)*ox^3 + 24*sqrt(3)*ox^2 - 6*sqrt(3)*ox - sqrt(3))*oy^9 - 180180*ox^9 - 270270*(96*ox^5 - 80*ox^4 + 56*ox^3 - 12*ox^2 + 6*ox - 1)*oy^8 + 270270*ox^8 - 10296*(1920*sqrt(3)*ox^7 - 2240*sqrt(3)*ox^6 + 672*sqrt(3)*ox^5 + 560*sqrt(3)*ox^4 - 280*sqrt(3)*ox^3 - 140*sqrt(3)*ox^2 - 14*sqrt(3)*ox + 19*sqrt(3))*oy^7 + 2574*ox^7*(1280*sqrt(3) + 2037) + 3003*(11520*ox^7 - 13440*ox^6 + 14112*ox^5 - 5040*ox^4 + 5040*ox^3 - 2520*ox^2 - 6*ox*(1280*sqrt(3) + 2037) + 1280*sqrt(3) + 2151)*oy^6 - 3003*ox^6*(1280*sqrt(3) + 2151) + 36036*(320*sqrt(3)*ox^9 - 480*sqrt(3)*ox^8 + 192*sqrt(3)*ox^7 + 224*sqrt(3)*ox^6 - 168*sqrt(3)*ox^5 - 140*sqrt(3)*ox^4 - 28*sqrt(3)*ox^3 + 114*sqrt(3)*ox^2 - 6*ox*(557*sqrt(3) + 960) + 529*sqrt(3) + 960)*oy^5 - 54054*ox^5*(1024*sqrt(3) + 1809) - 15015*(960*ox^9 - 1440*ox^8 + 2016*ox^7 - 1008*ox^6 + 1512*ox^5 - 1260*ox^4 - 6*ox^3*(1280*sqrt(3) + 2037) + 3*ox^2*(1280*sqrt(3) + 2151) + 18*ox*(1024*sqrt(3) + 1809) - 3200*sqrt(3) - 5712)*oy^4 + 240240*ox^4*(200*sqrt(3) + 357) - 2184*(960*sqrt(3)*ox^11 - 1760*sqrt(3)*ox^10 + 880*sqrt(3)*ox^9 + 1320*sqrt(3)*ox^8 - 1320*sqrt(3)*ox^7 - 1540*sqrt(3)*ox^6 - 462*sqrt(3)*ox^5 + 3135*sqrt(3)*ox^4 - 330*ox^3*(557*sqrt(3) + 960) + 165*ox^2*(529*sqrt(3) + 960) + 110*ox*(1549*sqrt(3) + 2688) - 31958*sqrt(3) - 54560)*oy^3 + 8736*ox^3*(10837*sqrt(3) + 19030) + 273*(5760*ox^11 - 10560*ox^10 + 18480*ox^9 - 11880*ox^8 + 23760*ox^7 - 27720*ox^6 - 198*ox^5*(1280*sqrt(3) + 2037) + 165*ox^4*(1280*sqrt(3) + 2151) + 1980*ox^3*(1024*sqrt(3) + 1809) - 5280*ox^2*(200*sqrt(3) + 357) - 96*ox*(10837*sqrt(3) + 19030) + 209648*sqrt(3) + 364236)*oy^2 - 1092*ox^2*(52412*sqrt(3) + 91059) + 84*(960*sqrt(3)*ox^13 - 2080*sqrt(3)*ox^12 + 1248*sqrt(3)*ox^11 + 2288*sqrt(3)*ox^10 - 2860*sqrt(3)*ox^9 - 4290*sqrt(3)*ox^8 - 1716*sqrt(3)*ox^7 + 16302*sqrt(3)*ox^6 - 2574*ox^5*(557*sqrt(3) + 960) + 2145*ox^4*(529*sqrt(3) + 960) + 2860*ox^3*(1549*sqrt(3) + 2688) - 156*ox^2*(15979*sqrt(3) + 27280) - 104*ox*(13873*sqrt(3) + 25341) + 326068*sqrt(3) + 591396)*oy - 168*ox*(141116*sqrt(3) + 256659) + 5998384*sqrt(3) + 10926783)*log(abs(ox^2 + oy^2 - 2*ox + 2*oy + 2)) + 105*(13440*(6*sqrt(3)*ox - sqrt(3))*oy^13 - 20160*ox^13 - 43680*(6*ox - 1)*oy^12 + 43680*ox^12 - 17472*(120*sqrt(3)*ox^3 - 60*sqrt(3)*ox^2 + 6*sqrt(3)*ox + sqrt(3))*oy^11 - 91728*ox^11 + 72072*(80*ox^3 - 40*ox^2 + 14*ox - 1)*oy^10 + 72072*ox^10 + 40040*(288*sqrt(3)*ox^5 - 240*sqrt(3)*ox^4 + 48*sqrt(3)*ox^3 + 24*sqrt(3)*ox^2 - 6*sqrt(3)*ox - sqrt(3))*oy^9 - 180180*ox^9 - 270270*(96*ox^5 - 80*ox^4 + 56*ox^3 - 12*ox^2 + 6*ox - 1)*oy^8 + 270270*ox^8 - 10296*(1920*sqrt(3)*ox^7 - 2240*sqrt(3)*ox^6 + 672*sqrt(3)*ox^5 + 560*sqrt(3)*ox^4 - 280*sqrt(3)*ox^3 - 140*sqrt(3)*ox^2 - 14*sqrt(3)*ox + 19*sqrt(3))*oy^7 - 2574*ox^7*(1280*sqrt(3) - 2037) + 3003*(11520*ox^7 - 13440*ox^6 + 14112*ox^5 - 5040*ox^4 + 5040*ox^3 - 2520*ox^2 + 6*ox*(1280*sqrt(3) - 2037) - 1280*sqrt(3) + 2151)*oy^6 + 3003*ox^6*(1280*sqrt(3) - 2151) + 36036*(320*sqrt(3)*ox^9 - 480*sqrt(3)*ox^8 + 192*sqrt(3)*ox^7 + 224*sqrt(3)*ox^6 - 168*sqrt(3)*ox^5 - 140*sqrt(3)*ox^4 - 28*sqrt(3)*ox^3 + 114*sqrt(3)*ox^2 - 6*ox*(557*sqrt(3) - 960) + 529*sqrt(3) - 960)*oy^5 + 54054*ox^5*(1024*sqrt(3) - 1809) - 15015*(960*ox^9 - 1440*ox^8 + 2016*ox^7 - 1008*ox^6 + 1512*ox^5 - 1260*ox^4 + 6*ox^3*(1280*sqrt(3) - 2037) - 3*ox^2*(1280*sqrt(3) - 2151) - 18*ox*(1024*sqrt(3) - 1809) + 3200*sqrt(3) - 5712)*oy^4 - 240240*ox^4*(200*sqrt(3) - 357) - 2184*(960*sqrt(3)*ox^11 - 1760*sqrt(3)*ox^10 + 880*sqrt(3)*ox^9 + 1320*sqrt(3)*ox^8 - 1320*sqrt(3)*ox^7 - 1540*sqrt(3)*ox^6 - 462*sqrt(3)*ox^5 + 3135*sqrt(3)*ox^4 - 330*ox^3*(557*sqrt(3) - 960) + 165*ox^2*(529*sqrt(3) - 960) + 110*ox*(1549*sqrt(3) - 2688) - 31958*sqrt(3) + 54560)*oy^3 - 8736*ox^3*(10837*sqrt(3) - 19030) + 273*(5760*ox^11 - 10560*ox^10 + 18480*ox^9 - 11880*ox^8 + 23760*ox^7 - 27720*ox^6 + 198*ox^5*(1280*sqrt(3) - 2037) - 165*ox^4*(1280*sqrt(3) - 2151) - 1980*ox^3*(1024*sqrt(3) - 1809) + 5280*ox^2*(200*sqrt(3) - 357) + 96*ox*(10837*sqrt(3) - 19030) - 209648*sqrt(3) + 364236)*oy^2 + 1092*ox^2*(52412*sqrt(3) - 91059) + 84*(960*sqrt(3)*ox^13 - 2080*sqrt(3)*ox^12 + 1248*sqrt(3)*ox^11 + 2288*sqrt(3)*ox^10 - 2860*sqrt(3)*ox^9 - 4290*sqrt(3)*ox^8 - 1716*sqrt(3)*ox^7 + 16302*sqrt(3)*ox^6 - 2574*ox^5*(557*sqrt(3) - 960) + 2145*ox^4*(529*sqrt(3) - 960) + 2860*ox^3*(1549*sqrt(3) - 2688) - 156*ox^2*(15979*sqrt(3) - 27280) - 104*ox*(13873*sqrt(3) - 25341) + 326068*sqrt(3) - 591396)*oy + 168*ox*(141116*sqrt(3) - 256659) - 5998384*sqrt(3) + 10926783)*log(abs(ox^2 + oy^2 - 2*ox - 2*oy + 2)) + 7005083904*sqrt(3)*ox + 575093376*sqrt(3))/pi"
      ]
     },
     "execution_count": 44,
     "metadata": {},
     "output_type": "execute_result"
    }
   ],
   "source": [
    "If"
   ]
  },
  {
   "cell_type": "code",
   "execution_count": 46,
   "id": "305332c3",
   "metadata": {},
   "outputs": [
    {
     "data": {
      "image/png": "[encoded data removed]",
      "text/plain": [
       "<Figure size 432x288 with 1 Axes>"
      ]
     },
     "metadata": {
      "needs_background": "light"
     },
     "output_type": "display_data"
    }
   ],
   "source": [
    "import numpy as np\n",
    "xs = np.linspace(-1.99, 1.99, 100)\n",
    "ys = [float(If.subs(ox==xv, oy==0.5)) for xv in xs]\n",
    "import matplotlib.pyplot as plt\n",
    "plt.plot(xs, ys)\n",
    "plt.show()"
   ]
  },
  {
   "cell_type": "code",
   "execution_count": 67,
   "id": "f1c3812a",
   "metadata": {},
   "outputs": [
    {
     "data": {
      "text/plain": [
       "(arctan(1/4*sqrt(3) - 1/2), arctan(1/4*sqrt(3) + 1/2))"
      ]
     },
     "execution_count": 67,
     "metadata": {},
     "output_type": "execute_result"
    }
   ],
   "source": [
    "r, theta = var('r, theta')\n",
    "ox, oy = chebyshev_pts[0], chebyshev_pts[1]\n",
    "T1 = atan2(-1-oy, 1-ox)\n",
    "T2 = atan2(1-oy, 1-ox)\n",
    "T1.subs(ox==0, oy==0), T2.subs(ox==0, oy==0)"
   ]
  },
  {
   "cell_type": "code",
   "execution_count": 68,
   "id": "89435428",
   "metadata": {},
   "outputs": [],
   "source": [
    "\n",
    "assume(T1 < theta < T2)\n",
    "assume(cos(theta) > 0)\n",
    "Kbr = (basis_functions[0].subs(x==sx) * basis_functions[1].subs(x == sy)).full_simplify() * log(r)\n",
    "Kbrt = Kbr.subs(sx==ox+r*cos(theta), sy==oy+r*sin(theta))\n",
    "It = integrate(Kbrt * r, r, 0, (1-ox) / cos(theta))"
   ]
  },
  {
   "cell_type": "code",
   "execution_count": 69,
   "id": "5ff4d3fd",
   "metadata": {},
   "outputs": [
    {
     "data": {
      "text/plain": [
       "2/945*sqrt(3)*log(2/cos(theta))*sin(theta)/cos(theta)^3 + 416/891*sqrt(3)*log(2/cos(theta))*sin(theta)^3/cos(theta)^5 + 12160/11583*sqrt(3)*log(2/cos(theta))*sin(theta)^5/cos(theta)^7 - 376/2835*log(2/cos(theta))*sin(theta)^2/cos(theta)^4 - 1088/567*log(2/cos(theta))*sin(theta)^4/cos(theta)^6 - 237056/405405*log(2/cos(theta))*sin(theta)^6/cos(theta)^8 - 47/595350*sqrt(3)*sin(theta)/cos(theta)^3 + 72176/617463*sqrt(3)*sin(theta)^3/cos(theta)^5 + 1984144/104351247*sqrt(3)*sin(theta)^5/cos(theta)^7 + 1/378/cos(theta)^2 - 3854/178605*sin(theta)^2/cos(theta)^4 - 494248/1964655*sin(theta)^4/cos(theta)^6 + 693363392/18261468225*sin(theta)^6/cos(theta)^8"
      ]
     },
     "execution_count": 69,
     "metadata": {},
     "output_type": "execute_result"
    }
   ],
   "source": [
    "It"
   ]
  },
  {
   "cell_type": "code",
   "execution_count": 66,
   "id": "a21dba7e",
   "metadata": {},
   "outputs": [
    {
     "ename": "ValueError",
     "evalue": "Computation failed since Maxima requested additional constraints; using the 'assume' command before evaluation *may* help (example of legal syntax is 'assume(2*atan((oy+1)/(ox-1))-3*%pi>0)', see `assume?` for more details)\nIs 2*atan((oy+1)/(ox-1))-3*%pi positive, negative or zero?",
     "output_type": "error",
     "traceback": [
      "\u001b[0;31m---------------------------------------------------------------------------\u001b[0m",
      "\u001b[0;31mRuntimeError\u001b[0m                              Traceback (most recent call last)",
      "\u001b[0;32m/var/tmp/sage-9.4-current/local/lib/python3.9/site-packages/sage/interfaces/maxima_lib.py\u001b[0m in \u001b[0;36msr_integral\u001b[0;34m(self, *args)\u001b[0m\n\u001b[1;32m    788\u001b[0m         \u001b[0;32mtry\u001b[0m\u001b[0;34m:\u001b[0m\u001b[0;34m\u001b[0m\u001b[0;34m\u001b[0m\u001b[0m\n\u001b[0;32m--> 789\u001b[0;31m             \u001b[0;32mreturn\u001b[0m \u001b[0mmax_to_sr\u001b[0m\u001b[0;34m(\u001b[0m\u001b[0mmaxima_eval\u001b[0m\u001b[0;34m(\u001b[0m\u001b[0;34m(\u001b[0m\u001b[0;34m[\u001b[0m\u001b[0mmax_integrate\u001b[0m\u001b[0;34m]\u001b[0m\u001b[0;34m,\u001b[0m\u001b[0;34m[\u001b[0m\u001b[0msr_to_max\u001b[0m\u001b[0;34m(\u001b[0m\u001b[0mSR\u001b[0m\u001b[0;34m(\u001b[0m\u001b[0ma\u001b[0m\u001b[0;34m)\u001b[0m\u001b[0;34m)\u001b[0m \u001b[0;32mfor\u001b[0m \u001b[0ma\u001b[0m \u001b[0;32min\u001b[0m \u001b[0margs\u001b[0m\u001b[0;34m]\u001b[0m\u001b[0;34m)\u001b[0m\u001b[0;34m)\u001b[0m\u001b[0;34m)\u001b[0m\u001b[0;34m\u001b[0m\u001b[0;34m\u001b[0m\u001b[0m\n\u001b[0m\u001b[1;32m    790\u001b[0m         \u001b[0;32mexcept\u001b[0m \u001b[0mRuntimeError\u001b[0m \u001b[0;32mas\u001b[0m \u001b[0merror\u001b[0m\u001b[0;34m:\u001b[0m\u001b[0;34m\u001b[0m\u001b[0;34m\u001b[0m\u001b[0m\n",
      "\u001b[0;32m/var/tmp/sage-9.4-current/local/lib/python3.9/site-packages/sage/libs/ecl.pyx\u001b[0m in \u001b[0;36msage.libs.ecl.EclObject.__call__ (build/cythonized/sage/libs/ecl.c:8624)\u001b[0;34m()\u001b[0m\n\u001b[1;32m    853\u001b[0m         \u001b[0mlispargs\u001b[0m \u001b[0;34m=\u001b[0m \u001b[0mEclObject\u001b[0m\u001b[0;34m(\u001b[0m\u001b[0mlist\u001b[0m\u001b[0;34m(\u001b[0m\u001b[0margs\u001b[0m\u001b[0;34m)\u001b[0m\u001b[0;34m)\u001b[0m\u001b[0;34m\u001b[0m\u001b[0;34m\u001b[0m\u001b[0m\n\u001b[0;32m--> 854\u001b[0;31m         \u001b[0;32mreturn\u001b[0m \u001b[0mecl_wrap\u001b[0m\u001b[0;34m(\u001b[0m\u001b[0mecl_safe_apply\u001b[0m\u001b[0;34m(\u001b[0m\u001b[0mself\u001b[0m\u001b[0;34m.\u001b[0m\u001b[0mobj\u001b[0m\u001b[0;34m,\u001b[0m\u001b[0;34m(\u001b[0m\u001b[0;34m<\u001b[0m\u001b[0mEclObject\u001b[0m\u001b[0;34m>\u001b[0m\u001b[0mlispargs\u001b[0m\u001b[0;34m)\u001b[0m\u001b[0;34m.\u001b[0m\u001b[0mobj\u001b[0m\u001b[0;34m)\u001b[0m\u001b[0;34m)\u001b[0m\u001b[0;34m\u001b[0m\u001b[0;34m\u001b[0m\u001b[0m\n\u001b[0m\u001b[1;32m    855\u001b[0m \u001b[0;34m\u001b[0m\u001b[0m\n",
      "\u001b[0;32m/var/tmp/sage-9.4-current/local/lib/python3.9/site-packages/sage/libs/ecl.pyx\u001b[0m in \u001b[0;36msage.libs.ecl.ecl_safe_apply (build/cythonized/sage/libs/ecl.c:5906)\u001b[0;34m()\u001b[0m\n\u001b[1;32m    364\u001b[0m     \u001b[0;32mif\u001b[0m \u001b[0merror\u001b[0m \u001b[0;34m!=\u001b[0m \u001b[0mNULL\u001b[0m\u001b[0;34m:\u001b[0m\u001b[0;34m\u001b[0m\u001b[0;34m\u001b[0m\u001b[0m\n\u001b[0;32m--> 365\u001b[0;31m         raise RuntimeError(\"ECL says: {}\".format(\n\u001b[0m\u001b[1;32m    366\u001b[0m             ecl_string_to_python(error)))\n",
      "\u001b[0;31mRuntimeError\u001b[0m: ECL says: Maxima asks: Is 2*atan((_SAGE_VAR_oy+1)/(_SAGE_VAR_ox-1))-3*%pi positive, negative or zero?",
      "\nDuring handling of the above exception, another exception occurred:\n",
      "\u001b[0;31mValueError\u001b[0m                                Traceback (most recent call last)",
      "\u001b[0;32m<ipython-input-66-91801b631da4>\u001b[0m in \u001b[0;36m<module>\u001b[0;34m\u001b[0m\n\u001b[0;32m----> 1\u001b[0;31m \u001b[0mintegrate\u001b[0m\u001b[0;34m(\u001b[0m\u001b[0mIt\u001b[0m\u001b[0;34m,\u001b[0m \u001b[0mtheta\u001b[0m\u001b[0;34m,\u001b[0m \u001b[0mT1\u001b[0m\u001b[0;34m,\u001b[0m \u001b[0mT2\u001b[0m\u001b[0;34m)\u001b[0m\u001b[0;34m\u001b[0m\u001b[0;34m\u001b[0m\u001b[0m\n\u001b[0m",
      "\u001b[0;32m/var/tmp/sage-9.4-current/local/lib/python3.9/site-packages/sage/misc/functional.py\u001b[0m in \u001b[0;36mintegral\u001b[0;34m(x, *args, **kwds)\u001b[0m\n\u001b[1;32m    757\u001b[0m     \"\"\"\n\u001b[1;32m    758\u001b[0m     \u001b[0;32mif\u001b[0m \u001b[0mhasattr\u001b[0m\u001b[0;34m(\u001b[0m\u001b[0mx\u001b[0m\u001b[0;34m,\u001b[0m \u001b[0;34m'integral'\u001b[0m\u001b[0;34m)\u001b[0m\u001b[0;34m:\u001b[0m\u001b[0;34m\u001b[0m\u001b[0;34m\u001b[0m\u001b[0m\n\u001b[0;32m--> 759\u001b[0;31m         \u001b[0;32mreturn\u001b[0m \u001b[0mx\u001b[0m\u001b[0;34m.\u001b[0m\u001b[0mintegral\u001b[0m\u001b[0;34m(\u001b[0m\u001b[0;34m*\u001b[0m\u001b[0margs\u001b[0m\u001b[0;34m,\u001b[0m \u001b[0;34m**\u001b[0m\u001b[0mkwds\u001b[0m\u001b[0;34m)\u001b[0m\u001b[0;34m\u001b[0m\u001b[0;34m\u001b[0m\u001b[0m\n\u001b[0m\u001b[1;32m    760\u001b[0m     \u001b[0;32melse\u001b[0m\u001b[0;34m:\u001b[0m\u001b[0;34m\u001b[0m\u001b[0;34m\u001b[0m\u001b[0m\n\u001b[1;32m    761\u001b[0m         \u001b[0;32mfrom\u001b[0m \u001b[0msage\u001b[0m\u001b[0;34m.\u001b[0m\u001b[0msymbolic\u001b[0m\u001b[0;34m.\u001b[0m\u001b[0mring\u001b[0m \u001b[0;32mimport\u001b[0m \u001b[0mSR\u001b[0m\u001b[0;34m\u001b[0m\u001b[0;34m\u001b[0m\u001b[0m\n",
      "\u001b[0;32m/var/tmp/sage-9.4-current/local/lib/python3.9/site-packages/sage/symbolic/expression.pyx\u001b[0m in \u001b[0;36msage.symbolic.expression.Expression.integral (build/cythonized/sage/symbolic/expression.cpp:67295)\u001b[0;34m()\u001b[0m\n\u001b[1;32m  12749\u001b[0m                     \u001b[0mR\u001b[0m \u001b[0;34m=\u001b[0m \u001b[0mSR\u001b[0m\u001b[0;34m\u001b[0m\u001b[0;34m\u001b[0m\u001b[0m\n\u001b[1;32m  12750\u001b[0m             \u001b[0;32mreturn\u001b[0m \u001b[0mR\u001b[0m\u001b[0;34m(\u001b[0m\u001b[0mintegral\u001b[0m\u001b[0;34m(\u001b[0m\u001b[0mf\u001b[0m\u001b[0;34m,\u001b[0m \u001b[0mv\u001b[0m\u001b[0;34m,\u001b[0m \u001b[0ma\u001b[0m\u001b[0;34m,\u001b[0m \u001b[0mb\u001b[0m\u001b[0;34m,\u001b[0m \u001b[0;34m**\u001b[0m\u001b[0mkwds\u001b[0m\u001b[0;34m)\u001b[0m\u001b[0;34m)\u001b[0m\u001b[0;34m\u001b[0m\u001b[0;34m\u001b[0m\u001b[0m\n\u001b[0;32m> 12751\u001b[0;31m         \u001b[0;32mreturn\u001b[0m \u001b[0mintegral\u001b[0m\u001b[0;34m(\u001b[0m\u001b[0mself\u001b[0m\u001b[0;34m,\u001b[0m \u001b[0;34m*\u001b[0m\u001b[0margs\u001b[0m\u001b[0;34m,\u001b[0m \u001b[0;34m**\u001b[0m\u001b[0mkwds\u001b[0m\u001b[0;34m)\u001b[0m\u001b[0;34m\u001b[0m\u001b[0;34m\u001b[0m\u001b[0m\n\u001b[0m\u001b[1;32m  12752\u001b[0m \u001b[0;34m\u001b[0m\u001b[0m\n\u001b[1;32m  12753\u001b[0m     \u001b[0mintegrate\u001b[0m \u001b[0;34m=\u001b[0m \u001b[0mintegral\u001b[0m\u001b[0;34m\u001b[0m\u001b[0;34m\u001b[0m\u001b[0m\n",
      "\u001b[0;32m/var/tmp/sage-9.4-current/local/lib/python3.9/site-packages/sage/symbolic/integration/integral.py\u001b[0m in \u001b[0;36mintegrate\u001b[0;34m(expression, v, a, b, algorithm, hold)\u001b[0m\n\u001b[1;32m   1012\u001b[0m         \u001b[0;32mreturn\u001b[0m \u001b[0mindefinite_integral\u001b[0m\u001b[0;34m(\u001b[0m\u001b[0mexpression\u001b[0m\u001b[0;34m,\u001b[0m \u001b[0mv\u001b[0m\u001b[0;34m,\u001b[0m \u001b[0mhold\u001b[0m\u001b[0;34m=\u001b[0m\u001b[0mhold\u001b[0m\u001b[0;34m)\u001b[0m\u001b[0;34m\u001b[0m\u001b[0;34m\u001b[0m\u001b[0m\n\u001b[1;32m   1013\u001b[0m     \u001b[0;32melse\u001b[0m\u001b[0;34m:\u001b[0m\u001b[0;34m\u001b[0m\u001b[0;34m\u001b[0m\u001b[0m\n\u001b[0;32m-> 1014\u001b[0;31m         \u001b[0;32mreturn\u001b[0m \u001b[0mdefinite_integral\u001b[0m\u001b[0;34m(\u001b[0m\u001b[0mexpression\u001b[0m\u001b[0;34m,\u001b[0m \u001b[0mv\u001b[0m\u001b[0;34m,\u001b[0m \u001b[0ma\u001b[0m\u001b[0;34m,\u001b[0m \u001b[0mb\u001b[0m\u001b[0;34m,\u001b[0m \u001b[0mhold\u001b[0m\u001b[0;34m=\u001b[0m\u001b[0mhold\u001b[0m\u001b[0;34m)\u001b[0m\u001b[0;34m\u001b[0m\u001b[0;34m\u001b[0m\u001b[0m\n\u001b[0m\u001b[1;32m   1015\u001b[0m \u001b[0;34m\u001b[0m\u001b[0m\n\u001b[1;32m   1016\u001b[0m \u001b[0;34m\u001b[0m\u001b[0m\n",
      "\u001b[0;32m/var/tmp/sage-9.4-current/local/lib/python3.9/site-packages/sage/symbolic/function.pyx\u001b[0m in \u001b[0;36msage.symbolic.function.BuiltinFunction.__call__ (build/cythonized/sage/symbolic/function.cpp:12834)\u001b[0;34m()\u001b[0m\n\u001b[1;32m   1177\u001b[0m             \u001b[0mres\u001b[0m \u001b[0;34m=\u001b[0m \u001b[0mself\u001b[0m\u001b[0;34m.\u001b[0m\u001b[0m_evalf_try_\u001b[0m\u001b[0;34m(\u001b[0m\u001b[0;34m*\u001b[0m\u001b[0margs\u001b[0m\u001b[0;34m)\u001b[0m\u001b[0;34m\u001b[0m\u001b[0;34m\u001b[0m\u001b[0m\n\u001b[1;32m   1178\u001b[0m             \u001b[0;32mif\u001b[0m \u001b[0mres\u001b[0m \u001b[0;32mis\u001b[0m \u001b[0;32mNone\u001b[0m\u001b[0;34m:\u001b[0m\u001b[0;34m\u001b[0m\u001b[0;34m\u001b[0m\u001b[0m\n\u001b[0;32m-> 1179\u001b[0;31m                 res = super(BuiltinFunction, self).__call__(\n\u001b[0m\u001b[1;32m   1180\u001b[0m                         *args, coerce=coerce, hold=hold)\n\u001b[1;32m   1181\u001b[0m \u001b[0;34m\u001b[0m\u001b[0m\n",
      "\u001b[0;32m/var/tmp/sage-9.4-current/local/lib/python3.9/site-packages/sage/symbolic/function.pyx\u001b[0m in \u001b[0;36msage.symbolic.function.Function.__call__ (build/cythonized/sage/symbolic/function.cpp:7087)\u001b[0;34m()\u001b[0m\n\u001b[1;32m    596\u001b[0m             \u001b[0;32mfor\u001b[0m \u001b[0mi\u001b[0m \u001b[0;32mfrom\u001b[0m \u001b[0;36m0\u001b[0m \u001b[0;34m<=\u001b[0m \u001b[0mi\u001b[0m \u001b[0;34m<\u001b[0m \u001b[0mlen\u001b[0m\u001b[0;34m(\u001b[0m\u001b[0margs\u001b[0m\u001b[0;34m)\u001b[0m\u001b[0;34m:\u001b[0m\u001b[0;34m\u001b[0m\u001b[0;34m\u001b[0m\u001b[0m\n\u001b[1;32m    597\u001b[0m                 \u001b[0mvec\u001b[0m\u001b[0;34m.\u001b[0m\u001b[0mpush_back\u001b[0m\u001b[0;34m(\u001b[0m\u001b[0;34m(\u001b[0m\u001b[0;34m<\u001b[0m\u001b[0mExpression\u001b[0m\u001b[0;34m>\u001b[0m\u001b[0margs\u001b[0m\u001b[0;34m[\u001b[0m\u001b[0mi\u001b[0m\u001b[0;34m]\u001b[0m\u001b[0;34m)\u001b[0m\u001b[0;34m.\u001b[0m\u001b[0m_gobj\u001b[0m\u001b[0;34m)\u001b[0m\u001b[0;34m\u001b[0m\u001b[0;34m\u001b[0m\u001b[0m\n\u001b[0;32m--> 598\u001b[0;31m             \u001b[0mres\u001b[0m \u001b[0;34m=\u001b[0m \u001b[0mg_function_evalv\u001b[0m\u001b[0;34m(\u001b[0m\u001b[0mself\u001b[0m\u001b[0;34m.\u001b[0m\u001b[0m_serial\u001b[0m\u001b[0;34m,\u001b[0m \u001b[0mvec\u001b[0m\u001b[0;34m,\u001b[0m \u001b[0mhold\u001b[0m\u001b[0;34m)\u001b[0m\u001b[0;34m\u001b[0m\u001b[0;34m\u001b[0m\u001b[0m\n\u001b[0m\u001b[1;32m    599\u001b[0m         \u001b[0;32melif\u001b[0m \u001b[0mself\u001b[0m\u001b[0;34m.\u001b[0m\u001b[0m_nargs\u001b[0m \u001b[0;34m==\u001b[0m \u001b[0;36m1\u001b[0m\u001b[0;34m:\u001b[0m\u001b[0;34m\u001b[0m\u001b[0;34m\u001b[0m\u001b[0m\n\u001b[1;32m    600\u001b[0m             res = g_function_eval1(self._serial,\n",
      "\u001b[0;32m/var/tmp/sage-9.4-current/local/lib/python3.9/site-packages/sage/symbolic/function.pyx\u001b[0m in \u001b[0;36msage.symbolic.function.BuiltinFunction._evalf_or_eval_ (build/cythonized/sage/symbolic/function.cpp:13990)\u001b[0;34m()\u001b[0m\n\u001b[1;32m   1265\u001b[0m         \u001b[0mres\u001b[0m \u001b[0;34m=\u001b[0m \u001b[0mself\u001b[0m\u001b[0;34m.\u001b[0m\u001b[0m_evalf_try_\u001b[0m\u001b[0;34m(\u001b[0m\u001b[0;34m*\u001b[0m\u001b[0margs\u001b[0m\u001b[0;34m)\u001b[0m\u001b[0;34m\u001b[0m\u001b[0;34m\u001b[0m\u001b[0m\n\u001b[1;32m   1266\u001b[0m         \u001b[0;32mif\u001b[0m \u001b[0mres\u001b[0m \u001b[0;32mis\u001b[0m \u001b[0;32mNone\u001b[0m\u001b[0;34m:\u001b[0m\u001b[0;34m\u001b[0m\u001b[0;34m\u001b[0m\u001b[0m\n\u001b[0;32m-> 1267\u001b[0;31m             \u001b[0;32mreturn\u001b[0m \u001b[0mself\u001b[0m\u001b[0;34m.\u001b[0m\u001b[0m_eval0_\u001b[0m\u001b[0;34m(\u001b[0m\u001b[0;34m*\u001b[0m\u001b[0margs\u001b[0m\u001b[0;34m)\u001b[0m\u001b[0;34m\u001b[0m\u001b[0;34m\u001b[0m\u001b[0m\n\u001b[0m\u001b[1;32m   1268\u001b[0m         \u001b[0;32melse\u001b[0m\u001b[0;34m:\u001b[0m\u001b[0;34m\u001b[0m\u001b[0;34m\u001b[0m\u001b[0m\n\u001b[1;32m   1269\u001b[0m             \u001b[0;32mreturn\u001b[0m \u001b[0mres\u001b[0m\u001b[0;34m\u001b[0m\u001b[0;34m\u001b[0m\u001b[0m\n",
      "\u001b[0;32m/var/tmp/sage-9.4-current/local/lib/python3.9/site-packages/sage/symbolic/integration/integral.py\u001b[0m in \u001b[0;36m_eval_\u001b[0;34m(self, f, x, a, b)\u001b[0m\n\u001b[1;32m    234\u001b[0m         \u001b[0;32mfor\u001b[0m \u001b[0mintegrator\u001b[0m \u001b[0;32min\u001b[0m \u001b[0mself\u001b[0m\u001b[0;34m.\u001b[0m\u001b[0mintegrators\u001b[0m\u001b[0;34m:\u001b[0m\u001b[0;34m\u001b[0m\u001b[0;34m\u001b[0m\u001b[0m\n\u001b[1;32m    235\u001b[0m             \u001b[0;32mtry\u001b[0m\u001b[0;34m:\u001b[0m\u001b[0;34m\u001b[0m\u001b[0;34m\u001b[0m\u001b[0m\n\u001b[0;32m--> 236\u001b[0;31m                 \u001b[0mA\u001b[0m \u001b[0;34m=\u001b[0m \u001b[0mintegrator\u001b[0m\u001b[0;34m(\u001b[0m\u001b[0;34m*\u001b[0m\u001b[0margs\u001b[0m\u001b[0;34m)\u001b[0m\u001b[0;34m\u001b[0m\u001b[0;34m\u001b[0m\u001b[0m\n\u001b[0m\u001b[1;32m    237\u001b[0m             except (NotImplementedError, TypeError,\n\u001b[1;32m    238\u001b[0m                     AttributeError, RuntimeError):\n",
      "\u001b[0;32m/var/tmp/sage-9.4-current/local/lib/python3.9/site-packages/sage/symbolic/integration/external.py\u001b[0m in \u001b[0;36mmaxima_integrator\u001b[0;34m(expression, v, a, b)\u001b[0m\n\u001b[1;32m     44\u001b[0m         \u001b[0mresult\u001b[0m \u001b[0;34m=\u001b[0m \u001b[0mmaxima\u001b[0m\u001b[0;34m.\u001b[0m\u001b[0msr_integral\u001b[0m\u001b[0;34m(\u001b[0m\u001b[0mexpression\u001b[0m\u001b[0;34m,\u001b[0m \u001b[0mv\u001b[0m\u001b[0;34m)\u001b[0m\u001b[0;34m\u001b[0m\u001b[0;34m\u001b[0m\u001b[0m\n\u001b[1;32m     45\u001b[0m     \u001b[0;32melse\u001b[0m\u001b[0;34m:\u001b[0m\u001b[0;34m\u001b[0m\u001b[0;34m\u001b[0m\u001b[0m\n\u001b[0;32m---> 46\u001b[0;31m         \u001b[0mresult\u001b[0m \u001b[0;34m=\u001b[0m \u001b[0mmaxima\u001b[0m\u001b[0;34m.\u001b[0m\u001b[0msr_integral\u001b[0m\u001b[0;34m(\u001b[0m\u001b[0mexpression\u001b[0m\u001b[0;34m,\u001b[0m \u001b[0mv\u001b[0m\u001b[0;34m,\u001b[0m \u001b[0ma\u001b[0m\u001b[0;34m,\u001b[0m \u001b[0mb\u001b[0m\u001b[0;34m)\u001b[0m\u001b[0;34m\u001b[0m\u001b[0;34m\u001b[0m\u001b[0m\n\u001b[0m\u001b[1;32m     47\u001b[0m     \u001b[0;32mreturn\u001b[0m \u001b[0mresult\u001b[0m\u001b[0;34m.\u001b[0m\u001b[0m_sage_\u001b[0m\u001b[0;34m(\u001b[0m\u001b[0;34m)\u001b[0m\u001b[0;34m\u001b[0m\u001b[0;34m\u001b[0m\u001b[0m\n\u001b[1;32m     48\u001b[0m \u001b[0;34m\u001b[0m\u001b[0m\n",
      "\u001b[0;32m/var/tmp/sage-9.4-current/local/lib/python3.9/site-packages/sage/interfaces/maxima_lib.py\u001b[0m in \u001b[0;36msr_integral\u001b[0;34m(self, *args)\u001b[0m\n\u001b[1;32m    795\u001b[0m                 \u001b[0;32mraise\u001b[0m \u001b[0mValueError\u001b[0m\u001b[0;34m(\u001b[0m\u001b[0;34m\"Integral is divergent.\"\u001b[0m\u001b[0;34m)\u001b[0m\u001b[0;34m\u001b[0m\u001b[0;34m\u001b[0m\u001b[0m\n\u001b[1;32m    796\u001b[0m             \u001b[0;32melif\u001b[0m \u001b[0;34m\"Is\"\u001b[0m \u001b[0;32min\u001b[0m \u001b[0ms\u001b[0m\u001b[0;34m:\u001b[0m \u001b[0;31m# Maxima asked for a condition\u001b[0m\u001b[0;34m\u001b[0m\u001b[0;34m\u001b[0m\u001b[0m\n\u001b[0;32m--> 797\u001b[0;31m                 \u001b[0mself\u001b[0m\u001b[0;34m.\u001b[0m\u001b[0m_missing_assumption\u001b[0m\u001b[0;34m(\u001b[0m\u001b[0ms\u001b[0m\u001b[0;34m)\u001b[0m\u001b[0;34m\u001b[0m\u001b[0;34m\u001b[0m\u001b[0m\n\u001b[0m\u001b[1;32m    798\u001b[0m             \u001b[0;32melse\u001b[0m\u001b[0;34m:\u001b[0m\u001b[0;34m\u001b[0m\u001b[0;34m\u001b[0m\u001b[0m\n\u001b[1;32m    799\u001b[0m                 \u001b[0;32mraise\u001b[0m\u001b[0;34m\u001b[0m\u001b[0;34m\u001b[0m\u001b[0m\n",
      "\u001b[0;32m/var/tmp/sage-9.4-current/local/lib/python3.9/site-packages/sage/interfaces/maxima_lib.py\u001b[0m in \u001b[0;36m_missing_assumption\u001b[0;34m(self, errstr)\u001b[0m\n\u001b[1;32m   1030\u001b[0m              \u001b[0;34m+\u001b[0m \u001b[0merrstr\u001b[0m\u001b[0;34m[\u001b[0m\u001b[0mjj\u001b[0m\u001b[0;34m+\u001b[0m\u001b[0;36m1\u001b[0m\u001b[0;34m:\u001b[0m\u001b[0mk\u001b[0m\u001b[0;34m]\u001b[0m \u001b[0;34m+\u001b[0m\u001b[0;34m\">0)', see `assume?` for more details)\\n\"\u001b[0m \u001b[0;34m+\u001b[0m \u001b[0merrstr\u001b[0m\u001b[0;34m\u001b[0m\u001b[0;34m\u001b[0m\u001b[0m\n\u001b[1;32m   1031\u001b[0m         \u001b[0moutstr\u001b[0m \u001b[0;34m=\u001b[0m \u001b[0moutstr\u001b[0m\u001b[0;34m.\u001b[0m\u001b[0mreplace\u001b[0m\u001b[0;34m(\u001b[0m\u001b[0;34m'_SAGE_VAR_'\u001b[0m\u001b[0;34m,\u001b[0m\u001b[0;34m''\u001b[0m\u001b[0;34m)\u001b[0m\u001b[0;34m\u001b[0m\u001b[0;34m\u001b[0m\u001b[0m\n\u001b[0;32m-> 1032\u001b[0;31m         \u001b[0;32mraise\u001b[0m \u001b[0mValueError\u001b[0m\u001b[0;34m(\u001b[0m\u001b[0moutstr\u001b[0m\u001b[0;34m)\u001b[0m\u001b[0;34m\u001b[0m\u001b[0;34m\u001b[0m\u001b[0m\n\u001b[0m\u001b[1;32m   1033\u001b[0m \u001b[0;34m\u001b[0m\u001b[0m\n\u001b[1;32m   1034\u001b[0m \u001b[0;32mdef\u001b[0m \u001b[0mis_MaximaLibElement\u001b[0m\u001b[0;34m(\u001b[0m\u001b[0mx\u001b[0m\u001b[0;34m)\u001b[0m\u001b[0;34m:\u001b[0m\u001b[0;34m\u001b[0m\u001b[0;34m\u001b[0m\u001b[0m\n",
      "\u001b[0;31mValueError\u001b[0m: Computation failed since Maxima requested additional constraints; using the 'assume' command before evaluation *may* help (example of legal syntax is 'assume(2*atan((oy+1)/(ox-1))-3*%pi>0)', see `assume?` for more details)\nIs 2*atan((oy+1)/(ox-1))-3*%pi positive, negative or zero?"
     ]
    }
   ],
   "source": [
    "\n",
    "integrate(It, theta, T1, T2)"
   ]
  },
  {
   "cell_type": "code",
   "execution_count": null,
   "id": "66167fb8",
   "metadata": {},
   "outputs": [],
   "source": [
    "\n",
    "integrate(Kb.subs(sx==ox+r*cos(theta), sy==oy+r*sin(theta)), theta, 0, 2*pi)"
   ]
  },
  {
   "cell_type": "code",
   "execution_count": 53,
   "id": "0ed1455c",
   "metadata": {},
   "outputs": [],
   "source": [
    "Ir = _"
   ]
  },
  {
   "cell_type": "code",
   "execution_count": 54,
   "id": "90da2c79",
   "metadata": {},
   "outputs": [
    {
     "data": {
      "text/plain": [
       "1/876550474800*sqrt(3)*(11778624*(352800*sqrt(3)*ox^6 - 352800*sqrt(3)*ox^5 - 58800*sqrt(3)*ox^4 + 156800*sqrt(3)*ox^3 + 27930*sqrt(3)*ox^2 - 33810*sqrt(3)*ox + 633*sqrt(3))*oy^6 + 6301563840*sqrt(3)*ox^6 - 17667936*(352800*ox^6 - 352800*ox^5 - 58800*ox^4 + 156800*ox^3 + 27930*ox^2 - 33810*ox + 633)*oy^5 - 6301563840*sqrt(3)*ox^5 - 4907760*(352800*sqrt(3)*ox^6 - 352800*sqrt(3)*ox^5 - 423360*sqrt(3)*ox^4 + 399840*sqrt(3)*ox^3 + 89514*sqrt(3)*ox^2 - 78642*sqrt(3)*ox + 67*sqrt(3))*oy^4 + 2291923920*sqrt(3)*ox^4 + 2453880*(1764000*ox^6 - 1764000*ox^5 - 1023120*ox^4 + 1270080*ox^3 + 262818*ox^2 - 258714*ox + 2033)*oy^3 + 572572000*sqrt(3)*ox^3 + 8112*(29882160*sqrt(3)*ox^6 - 29882160*sqrt(3)*ox^5 - 64294560*sqrt(3)*ox^4 + 52823760*sqrt(3)*ox^3 + 8025930*sqrt(3)*ox^2 - 8704740*sqrt(3)*ox + 34099*sqrt(3))*oy^2 + 1112402616*sqrt(3)*ox^2 - 12168*(59764320*ox^6 - 59764320*ox^5 - 48112020*ox^4 + 51996120*ox^3 + 9722955*ox^2 - 9934705*ox + 72189)*oy - 585597168*sqrt(3)*ox + 860297*sqrt(3))"
      ]
     },
     "execution_count": 54,
     "metadata": {},
     "output_type": "execute_result"
    }
   ],
   "source": [
    "integrate(Ir, r, 0, 1)"
   ]
  },
  {
   "cell_type": "code",
   "execution_count": null,
   "id": "d13c398c",
   "metadata": {},
   "outputs": [],
   "source": []
  }
 ],
 "metadata": {
  "kernelspec": {
   "display_name": "SageMath 9.4",
   "language": "sage",
   "name": "SageMath-9.4"
  },
  "language_info": {
   "codemirror_mode": {
    "name": "ipython",
    "version": 3
   },
   "file_extension": ".py",
   "mimetype": "text/x-python",
   "name": "python",
   "nbconvert_exporter": "python",
   "pygments_lexer": "ipython3",
   "version": "3.9.5"
  }
 },
 "nbformat": 4,
 "nbformat_minor": 5
}
