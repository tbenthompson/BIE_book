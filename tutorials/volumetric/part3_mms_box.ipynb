{
 "cells": [
  {
   "cell_type": "markdown",
   "id": "210f5385",
   "metadata": {},
   "source": [
    "## Setup"
   ]
  },
  {
   "cell_type": "code",
   "execution_count": null,
   "id": "e9442f8c",
   "metadata": {
    "tags": [
     "remove-cell"
    ]
   },
   "outputs": [],
   "source": [
    "from tectosaur2.nb_config import setup\n",
    "\n",
    "setup()"
   ]
  },
  {
   "cell_type": "code",
   "execution_count": null,
   "id": "708ba049",
   "metadata": {},
   "outputs": [],
   "source": [
    "import numpy as np\n",
    "import matplotlib.pyplot as plt\n",
    "import sympy as sp\n",
    "\n",
    "from tectosaur2 import integrate_term, refine_surfaces, gauss_rule, trapezoidal_rule\n",
    "from tectosaur2.mesh import concat_meshes\n",
    "from tectosaur2.laplace2d import single_layer, double_layer"
   ]
  },
  {
   "cell_type": "code",
   "execution_count": null,
   "id": "283d2304",
   "metadata": {},
   "outputs": [],
   "source": [
    "nq = 10\n",
    "qx, qw = gauss_rule(nq)\n",
    "\n",
    "t = sp.symbols(\"t\")\n",
    "t01 = (t + 1) / 2\n",
    "# counter-clockwise from the bottom left\n",
    "bottom, right, top, left = refine_surfaces(\n",
    "    [\n",
    "        (t, t01, 0),\n",
    "        (t, 1, t01),\n",
    "        (t, 1 - t01, 1),\n",
    "        (t, 0, 1 - t01)\n",
    "    ],\n",
    "    (qx,qw),\n",
    "    control_points=np.array([[0,0,2,0.2]])\n",
    ")\n",
    "box = concat_meshes((bottom, right, top, left))\n",
    "box.n_panels, box.n_pts"
   ]
  },
  {
   "cell_type": "markdown",
   "id": "57a01c8d",
   "metadata": {},
   "source": [
    "## Body force quadrature"
   ]
  },
  {
   "cell_type": "code",
   "execution_count": null,
   "id": "b53fe93f",
   "metadata": {},
   "outputs": [],
   "source": [
    "nq_volume = 40\n",
    "q_vol, qw_vol = gauss_rule(nq_volume)\n",
    "q_vol = (q_vol + 1) / 2\n",
    "qw_vol /= 2\n",
    "\n",
    "qx_vol, qy_vol = np.meshgrid(q_vol, q_vol)\n",
    "q2d_vol = np.array([qx_vol.flatten(), qy_vol.flatten()]).T.copy()\n",
    "q2d_vol_wts = (qw_vol[:, None] * qw_vol[None, :]).flatten()"
   ]
  },
  {
   "cell_type": "code",
   "execution_count": null,
   "id": "dad9ee89",
   "metadata": {},
   "outputs": [],
   "source": [
    "np.sum(q2d_vol_wts)"
   ]
  },
  {
   "cell_type": "code",
   "execution_count": null,
   "id": "4399f5ed",
   "metadata": {},
   "outputs": [],
   "source": [
    "correct = 0.9460830703671830\n",
    "correct - np.sum(np.cos(q2d_vol[:,0] * q2d_vol[:,1]) * q2d_vol_wts)"
   ]
  },
  {
   "cell_type": "code",
   "execution_count": null,
   "id": "65209fc4",
   "metadata": {},
   "outputs": [],
   "source": [
    "plt.plot(box.pts[:, 0], box.pts[:, 1])\n",
    "plt.quiver(box.pts[:, 0], box.pts[:, 1], box.normals[:, 0], box.normals[:, 1])\n",
    "plt.plot(q2d_vol[:, 0], q2d_vol[:, 1], \"r.\")\n",
    "plt.xlim([-0.3, 1.3])\n",
    "plt.ylim([-0.3, 1.3])\n",
    "plt.show()"
   ]
  },
  {
   "cell_type": "code",
   "execution_count": null,
   "id": "c986128a",
   "metadata": {},
   "outputs": [],
   "source": [
    "nobs = 200\n",
    "offset = 0\n",
    "zoomx = [offset, 1.0 - offset]\n",
    "zoomy = [offset, 1.0 - offset]\n",
    "xs = np.linspace(*zoomx, nobs)\n",
    "ys = np.linspace(*zoomy, nobs)\n",
    "obsx, obsy = np.meshgrid(xs, ys)\n",
    "obs2d = np.array([obsx.flatten(), obsy.flatten()]).T.copy()"
   ]
  },
  {
   "cell_type": "code",
   "execution_count": null,
   "id": "9f2ee83b",
   "metadata": {},
   "outputs": [],
   "source": [
    "freq_factor = 1.0\n",
    "def soln_fnc(x, y):\n",
    "    return np.sin(freq_factor * 2 * np.pi * x) * np.sin(freq_factor * 2 * np.pi * y)\n",
    "\n",
    "def laplacian_fnc(x, y):\n",
    "    return (\n",
    "        -(2 * ((2 * freq_factor) ** 2))\n",
    "        * np.pi ** 2\n",
    "        * np.sin(freq_factor * 2 * np.pi * x)\n",
    "        * np.sin(freq_factor * 2 * np.pi * y)\n",
    "    )\n",
    "\n",
    "# Ae = 5\n",
    "# def soln_fnc(x, y):\n",
    "#     return np.exp(-((x - 0.5) ** 2 + (y - 0.5) ** 2) * Ae)\n",
    "\n",
    "# def laplacian_fnc(x, y):\n",
    "#     return 4 * Ae * soln_fnc(x, y) * (Ae * ((x - 0.5) ** 2 + (y - 0.5) ** 2) - 1)"
   ]
  },
  {
   "cell_type": "code",
   "execution_count": null,
   "id": "9301ed4a",
   "metadata": {},
   "outputs": [],
   "source": [
    "fxy = -laplacian_fnc(q2d_vol[:,0], q2d_vol[:,1])\n",
    "correct = soln_fnc(obsx, obsy)\n",
    "fxy_obs = -laplacian_fnc(obsx, obsy)"
   ]
  },
  {
   "cell_type": "code",
   "execution_count": null,
   "id": "12fdc5ea",
   "metadata": {},
   "outputs": [],
   "source": [
    "plt.contourf(qx_vol, qy_vol, fxy.reshape(qx_vol.shape))\n",
    "plt.colorbar()\n",
    "plt.show()"
   ]
  },
  {
   "cell_type": "code",
   "execution_count": null,
   "id": "b235122e",
   "metadata": {},
   "outputs": [],
   "source": [
    "hx = xs[1] - xs[0]\n",
    "hy = ys[1] - ys[0]\n",
    "hx, hy"
   ]
  },
  {
   "cell_type": "code",
   "execution_count": null,
   "id": "d4c6c2bf",
   "metadata": {},
   "outputs": [],
   "source": [
    "dx2 = (correct[2:] - 2*correct[1:-1] + correct[:-2]) / (hx ** 2)\n",
    "dy2 = (correct[:, 2:] - 2*correct[:, 1:-1] + correct[:, :-2]) / (hy ** 2)"
   ]
  },
  {
   "cell_type": "code",
   "execution_count": null,
   "id": "a7760ed4",
   "metadata": {},
   "outputs": [],
   "source": [
    "neg_laplacian = np.zeros_like(fxy_obs)\n",
    "neg_laplacian[1:-1] -= dx2\n",
    "neg_laplacian[:,1:-1] -= dy2"
   ]
  },
  {
   "cell_type": "code",
   "execution_count": null,
   "id": "ae50eade",
   "metadata": {},
   "outputs": [],
   "source": [
    "plt.figure(figsize = (12,5))\n",
    "plt.subplot(1,3,1)\n",
    "levels = np.linspace(np.min(fxy_obs), np.max(fxy_obs), 21)\n",
    "cntf = plt.contourf(obsx, obsy, fxy_obs, levels=levels, extend=\"both\")\n",
    "plt.contour(\n",
    "    obsx,\n",
    "    obsy,\n",
    "    fxy_obs,\n",
    "    colors=\"k\",\n",
    "    linestyles=\"-\",\n",
    "    linewidths=0.5,\n",
    "    levels=levels,\n",
    "    extend=\"both\",\n",
    ")\n",
    "plt.colorbar(cntf)\n",
    "plt.subplot(1,3,2)\n",
    "levels = np.linspace(np.min(neg_laplacian), np.max(neg_laplacian), 21)\n",
    "cntf = plt.contourf(obsx, obsy, neg_laplacian, levels=levels, extend=\"both\")\n",
    "plt.contour(\n",
    "    obsx,\n",
    "    obsy,\n",
    "    neg_laplacian,\n",
    "    colors=\"k\",\n",
    "    linestyles=\"-\",\n",
    "    linewidths=0.5,\n",
    "    levels=levels,\n",
    "    extend=\"both\",\n",
    ")\n",
    "plt.colorbar(cntf)\n",
    "plt.subplot(1,3,3)\n",
    "err = np.log10(np.abs(neg_laplacian - fxy_obs))\n",
    "levels = np.linspace(-5, 0, 11)\n",
    "cntf = plt.contourf(obsx, obsy, err, levels=levels, extend=\"both\")\n",
    "plt.contour(\n",
    "    obsx,\n",
    "    obsy,\n",
    "    err,\n",
    "    colors=\"k\",\n",
    "    linestyles=\"-\",\n",
    "    linewidths=0.5,\n",
    "    levels=levels,\n",
    "    extend=\"both\",\n",
    ")\n",
    "plt.colorbar(cntf)\n",
    "plt.tight_layout()\n",
    "plt.show()"
   ]
  },
  {
   "cell_type": "code",
   "execution_count": null,
   "id": "69b0c835",
   "metadata": {},
   "outputs": [],
   "source": [
    "u_particular = (\n",
    "    (single_layer.kernel(obs2d, q2d_vol, 0*q2d_vol)[:,0,:,0] * q2d_vol_wts[None,:])\n",
    "    .dot(fxy)\n",
    "    .reshape(obsx.shape)\n",
    ")"
   ]
  },
  {
   "cell_type": "code",
   "execution_count": null,
   "id": "898a31d1",
   "metadata": {},
   "outputs": [],
   "source": [
    "plt.figure(figsize=(12,4))\n",
    "plt.subplot(1,3,1)\n",
    "levels = np.linspace(np.min(u_particular), np.max(u_particular), 21)\n",
    "cntf = plt.contourf(obsx, obsy, u_particular, levels=levels, extend=\"both\")\n",
    "plt.contour(\n",
    "    obsx,\n",
    "    obsy,\n",
    "    u_particular,\n",
    "    colors=\"k\",\n",
    "    linestyles=\"-\",\n",
    "    linewidths=0.5,\n",
    "    levels=levels,\n",
    "    extend=\"both\",\n",
    ")\n",
    "plt.colorbar(cntf)\n",
    "plt.subplot(1,3,2)\n",
    "levels = np.linspace(np.min(correct), np.max(correct), 21)\n",
    "cntf = plt.contourf(obsx, obsy, correct, levels=levels, extend=\"both\")\n",
    "plt.contour(\n",
    "    obsx,\n",
    "    obsy,\n",
    "    correct,\n",
    "    colors=\"k\",\n",
    "    linestyles=\"-\",\n",
    "    linewidths=0.5,\n",
    "    levels=levels,\n",
    "    extend=\"both\",\n",
    ")\n",
    "plt.colorbar(cntf)\n",
    "plt.subplot(1,3,3)\n",
    "err = np.log10(np.abs(u_particular - correct))\n",
    "levels = np.linspace(-3, 0, 21)\n",
    "cntf = plt.contourf(obsx, obsy, err, levels=levels, extend=\"both\")\n",
    "plt.contour(\n",
    "    obsx,\n",
    "    obsy,\n",
    "    err,\n",
    "    colors=\"k\",\n",
    "    linestyles=\"-\",\n",
    "    linewidths=0.5,\n",
    "    levels=levels,\n",
    "    extend=\"both\",\n",
    ")\n",
    "plt.colorbar(cntf)\n",
    "plt.show()"
   ]
  },
  {
   "cell_type": "markdown",
   "id": "02b9a9bc",
   "metadata": {},
   "source": [
    "## Direct to surface eval"
   ]
  },
  {
   "cell_type": "code",
   "execution_count": null,
   "id": "289354fc",
   "metadata": {},
   "outputs": [],
   "source": [
    "## This is g\n",
    "bcs = soln_fnc(box.pts[:, 0], box.pts[:, 1])\n",
    "## This is v|_{\\partial \\Omega}\n",
    "surf_vals = (single_layer.kernel(box.pts, q2d_vol)[:,0,:,0] * q2d_vol_wts[None,:]).dot(fxy)\n",
    "A,report = integrate_term(double_layer, box.pts, box, safety_mode=True, return_report=True)\n",
    "surf_density = np.linalg.solve(-A[:,0,:,0], bcs-surf_vals)"
   ]
  },
  {
   "cell_type": "code",
   "execution_count": null,
   "id": "08b7d57f",
   "metadata": {},
   "outputs": [],
   "source": [
    "plt.plot(bcs-surf_vals, 'r-')\n",
    "plt.plot(surf_density, 'b-')\n",
    "plt.show()"
   ]
  },
  {
   "cell_type": "code",
   "execution_count": null,
   "id": "b606a5f8",
   "metadata": {},
   "outputs": [],
   "source": [
    "%%time\n",
    "interior_disp_mat = integrate_term(double_layer, obs2d, box, safety_mode=True, tol=1e-13)\n",
    "u_homog = -interior_disp_mat[:, 0, :, 0].dot(surf_density).reshape(obsx.shape)"
   ]
  },
  {
   "cell_type": "markdown",
   "id": "d5593935",
   "metadata": {},
   "source": [
    "## Full solution!"
   ]
  },
  {
   "cell_type": "code",
   "execution_count": null,
   "id": "d402c8f7",
   "metadata": {},
   "outputs": [],
   "source": [
    "u_full = u_homog + u_particular\n",
    "#u_full = u_box_rough + u_body_force"
   ]
  },
  {
   "cell_type": "code",
   "execution_count": null,
   "id": "98620050",
   "metadata": {},
   "outputs": [],
   "source": [
    "# levels = np.linspace(np.min(u_full), np.max(u_full), 21)\n",
    "plt.figure(figsize=(12,4))\n",
    "for i, to_plot in enumerate([u_homog, u_homog, u_particular]):\n",
    "    plt.subplot(1,3,1+i)\n",
    "    levels = np.linspace(-1, 1, 21)\n",
    "    cntf = plt.contourf(obsx, obsy, to_plot, levels=levels, extend=\"both\")\n",
    "    plt.contour(\n",
    "        obsx,\n",
    "        obsy,\n",
    "        to_plot,\n",
    "        colors=\"k\",\n",
    "        linestyles=\"-\",\n",
    "        linewidths=0.5,\n",
    "        levels=levels,\n",
    "        extend=\"both\",\n",
    "    )\n",
    "    plt.plot(box.pts[:, 0], box.pts[:, 1], \"k-\", linewidth=1.5)\n",
    "    plt.colorbar(cntf)\n",
    "    plt.xlim(zoomx)\n",
    "    plt.ylim(zoomy)\n",
    "\n",
    "plt.figure(figsize=(12,4))\n",
    "for i, to_plot in enumerate([correct, u_full]):\n",
    "    plt.subplot(1,3,1+i)\n",
    "    levels = np.linspace(-1, 1, 21)\n",
    "    cntf = plt.contourf(obsx, obsy, to_plot, levels=levels, extend=\"both\")\n",
    "    plt.contour(\n",
    "        obsx,\n",
    "        obsy,\n",
    "        to_plot,\n",
    "        colors=\"k\",\n",
    "        linestyles=\"-\",\n",
    "        linewidths=0.5,\n",
    "        levels=levels,\n",
    "        extend=\"both\",\n",
    "    )\n",
    "    plt.plot(box.pts[:, 0], box.pts[:, 1], \"k-\", linewidth=1.5)\n",
    "    plt.colorbar(cntf)\n",
    "    plt.xlim(zoomx)\n",
    "    plt.ylim(zoomy)\n",
    "\n",
    "plt.subplot(1,3,3)\n",
    "to_plot = np.log10(np.abs(correct - u_full))\n",
    "levels = np.linspace(-4, 0, 5)\n",
    "cntf = plt.contourf(obsx, obsy, to_plot, levels=levels, extend=\"both\")\n",
    "plt.contour(\n",
    "    obsx,\n",
    "    obsy,\n",
    "    to_plot,\n",
    "    colors=\"k\",\n",
    "    linestyles=\"-\",\n",
    "    linewidths=0.5,\n",
    "    levels=levels,\n",
    "    extend=\"both\",\n",
    ")\n",
    "plt.plot(box.pts[:, 0], box.pts[:, 1], \"k-\", linewidth=1.5)\n",
    "plt.colorbar(cntf)\n",
    "plt.xlim(zoomx)\n",
    "plt.ylim(zoomy)\n",
    "plt.show()"
   ]
  },
  {
   "cell_type": "code",
   "execution_count": null,
   "id": "83a38dc5",
   "metadata": {},
   "outputs": [],
   "source": []
  }
 ],
 "metadata": {
  "jupytext": {
   "formats": "ipynb,md:myst"
  },
  "kernelspec": {
   "display_name": "Python 3",
   "language": "python",
   "name": "python3"
  }
 },
 "nbformat": 4,
 "nbformat_minor": 5
}
