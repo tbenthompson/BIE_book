{
 "cells": [
  {
   "cell_type": "code",
   "execution_count": null,
   "id": "f935237d",
   "metadata": {},
   "outputs": [],
   "source": []
  },
  {
   "cell_type": "code",
   "execution_count": null,
   "id": "1e022b72",
   "metadata": {},
   "outputs": [],
   "source": [
    "t = sp.var(\"t\")\n",
    "qx, qw = gauss_rule(8)\n",
    "A = (1 + 0.1 * sp.sin(10 * sp.pi * t))\n",
    "free = stage1_refine(\n",
    "    (t, A * sp.cos(sp.pi * t), A * sp.sin(sp.pi * t)), (qx, qw),\n",
    "    max_radius_ratio=2.0\n",
    ")\n",
    "free_expansions = qbx_panel_setup(free, other_surfaces=[], direction=-1, p=10)\n",
    "plt.figure(figsize=(10,10))\n",
    "plt.plot(free.pts[:,0], free.pts[:,1], '-*')\n",
    "plt.plot(free_expansions.pts[:,0], free_expansions.pts[:,1], 'b.')\n",
    "plt.show()\n",
    "print(free.n_panels)"
   ]
  },
  {
   "cell_type": "code",
   "execution_count": null,
   "id": "3f12a456",
   "metadata": {},
   "outputs": [],
   "source": [
    "free_stage2, free_interp_mat = stage2_refine(free, free_expansions)\n",
    "M = qbx_matrix(double_layer_matrix, free_stage2, free.pts, free_expansions)[:,0,:].dot(free_interp_mat.toarray())\n",
    "M.dot(np.ones(M.shape[1]))"
   ]
  }
 ],
 "metadata": {
  "jupytext": {
   "formats": "ipynb,md:myst"
  },
  "kernelspec": {
   "display_name": "Python 3",
   "language": "python",
   "name": "python3"
  }
 },
 "nbformat": 4,
 "nbformat_minor": 5
}
