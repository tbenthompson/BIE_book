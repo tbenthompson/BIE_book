{
 "cells": [
  {
   "cell_type": "code",
   "execution_count": null,
   "id": "61e6b159",
   "metadata": {
    "tags": [
     "remove-cell"
    ]
   },
   "outputs": [],
   "source": [
    "from config import setup, import_and_display_fnc\n",
    "setup()"
   ]
  },
  {
   "cell_type": "markdown",
   "id": "b3a5b46d",
   "metadata": {},
   "source": [
    "# More quadrature by expansion (QBX) examples for the Laplace equation: fun with screw dislocations\n",
    "\n",
    "## Antiplane shear\n",
    "\n",
    "A basic result in linear elastic earthquake modeling is the representation of displacement from slip on an infinitely long strike-slip fault. Because the fault is infinitely long, all displacements is fault parallel. Suppose we're looking at a cross-section in the $x,y$ plane with all displacement occuring in the $z$ direction. Then the displacement vector is $\\mathbf{u} = (0, 0, u_z)$. And the strain state is:\n",
    "\\begin{equation}\n",
    "\\boldsymbol{\\varepsilon} = \\begin{bmatrix}\n",
    "0 & 0 & \\epsilon_{13} \\\\\n",
    "0 & 0 & \\epsilon_{23}\\\\\n",
    " \\epsilon_{13}    &    \\epsilon_{23}      & 0\\end{bmatrix}\n",
    "\\end{equation}\n",
    "\n",
    "This special state is called \"antiplane shear\". We can simplify the equations of linear elasticity to be in terms of a vector strain, $\\epsilon_z = (\\epsilon_{xz}, \\epsilon_{yz})$ and vector stress, $\\sigma_z = (2\\mu\\epsilon_{xz}, 2\\mu\\epsilon_{yz})$. Combined with Newtons law, we get the result that $u_z$ is a solution to the Laplace equation:\n",
    "\n",
    "\\begin{equation}\n",
    "\\nabla^2 u_z = 0\n",
    "\\end{equation}\n",
    "\n",
    "As a result, we can describe the elastic behavior of infinitely long strike-slip faults (aka a \"screw dislocation\") in terms of solutions to the Laplace equation.\n",
    "\n",
    "Below, we're going to use QBX to compute the displacements and stresses resulting from slip on infinitely long strike-slip faults with fun shapes. In particular, the \"double layer\" integral we computed in part 1 will compute displacement in the volume from the input slip on the fault. We'll also introduce the \"hypersingular\" integral to calculate stresses from slip."
   ]
  },
  {
   "cell_type": "code",
   "execution_count": null,
   "id": "d9d9e4b8",
   "metadata": {},
   "outputs": [],
   "source": [
    "import warnings\n",
    "import numpy as np\n",
    "import matplotlib.pyplot as plt"
   ]
  },
  {
   "cell_type": "markdown",
   "id": "2355f065",
   "metadata": {},
   "source": [
    "## Barycentric Lagrange interpolation"
   ]
  },
  {
   "cell_type": "markdown",
   "id": "fa3b37ee",
   "metadata": {},
   "source": [
    "When we compute a boundary integral, there are two sources of error: the surface approximation error and the quadrature error. We've been focusing so far on the quadrature error because it can be reduced dramatically with better algorithms, especially in the singular or near-singular case. The surface approximation error is handled simply through using a higher resolution approximation to the surface -- for example, represent a circle with 100 points instead of 50. However, below, it will be nice to be able to hold the surface approximation error constant while reducing the quadrature error to zero. But, in the integration techniques we have been using, the quadrature error and the surface error are inextricably linked. When we increase from using 50 to 100 points to integrate a function over a circle, we have been improving both the surface approximation and also using a more accurate quadrature rule.\n",
    "\n",
    "To separate the two components, we'll interpolate points from a low order surface approximation in order to calculate the locations of quadrature points for a higher order integral approximation. To make the difference more concrete... Before, we would calculate new point locations for a circle by calculating $(cos \\theta, sin \\theta)$. Now, we will calculate the new point from a polynomial interpolation of the $n$ existing points $\\sum_{i}^n c_i p_i(x)$. In some sense, this is also more realistic. In a real-world application, we normally have a data-derived surface representation that we can't improve. On the other hand, even in that real world setting, we *can* add more quadrature points by interpolating on that surface. But adding more quadrature points won't make the surface itself any more accurate.\n",
    "\n",
    "To do this, it's going to be helpful to have some functions for polynomial interpolation! We'll use the `scipy.interpolate.BarycentricInterpolator` implementation of [barycentric Lagrange interpolation](https://people.maths.ox.ac.uk/trefethen/barycentric.pdf){cite:p}`Berrut2004`. I strongly recommend that paper if you've never run into barycentric Lagrange interpolation before!\n",
    "\n",
    "Since we're going to be integrating and interpolating functions on a finite interval, we'll use a Gaussian quadrature rule for doing the quadrature. As a result, we will be interpolating at the Gauss-Legendre points."
   ]
  },
  {
   "cell_type": "code",
   "execution_count": null,
   "id": "069f8dfe",
   "metadata": {},
   "outputs": [],
   "source": [
    "import_and_display_fnc('common', 'gauss_rule')"
   ]
  },
  {
   "cell_type": "markdown",
   "id": "65b1c698",
   "metadata": {},
   "source": [
    "Below is a little check to make sure our interpolation snippet is working correctly. We interpolate $sin(5x)$ (plotted with a solid black line) on a grid of 7 points (blue dots) and plot the resulting approximate function (red dashes line). This isn't a rigorous check, but it is working! Convergence is very fast if we increase the interpolation order, but I've left out a demonstration of that."
   ]
  },
  {
   "cell_type": "code",
   "execution_count": null,
   "id": "28f24be9",
   "metadata": {},
   "outputs": [],
   "source": [
    "import scipy.interpolate\n",
    "\n",
    "# First, form the interpolating polynomial\n",
    "qx, qw = gauss_rule(7)\n",
    "fqx = np.sin(5 * qx)\n",
    "I = scipy.interpolate.BarycentricInterpolator(qx, fqx)\n",
    "\n",
    "# Then, evaluate the polynomial at a bunch of points for plotting.\n",
    "xs = np.linspace(-1, 1, 200)\n",
    "v = I(xs)\n",
    "\n",
    "plt.plot(qx, fqx, \"bo\", markersize=10)\n",
    "plt.plot(xs, v, \"r--\")\n",
    "plt.plot(xs, np.sin(5 * xs), \"k-\")\n",
    "plt.show()"
   ]
  },
  {
   "cell_type": "markdown",
   "id": "2f609330",
   "metadata": {},
   "source": [
    "Let's move this into a couple helper functions for interpolating functions and surfaces."
   ]
  },
  {
   "cell_type": "code",
   "execution_count": null,
   "id": "68a07ae5",
   "metadata": {},
   "outputs": [],
   "source": [
    "import_and_display_fnc('common', 'interp_fnc')\n",
    "import_and_display_fnc('common', 'interp_surface')"
   ]
  },
  {
   "cell_type": "markdown",
   "id": "e048bae9",
   "metadata": {},
   "source": [
    "## Hypersingular stress integrals"
   ]
  },
  {
   "cell_type": "markdown",
   "id": "dd708ff4",
   "metadata": {},
   "source": [
    "The second missing piece is a set of tools for computing stresses in the volume given an input fault slip. Continuing in the antiplane strain setting, what we want is to compute the gradient of displacement times the shear modulus.\n",
    "\n",
    "\\begin{equation}\n",
    "(\\sigma_{xz}, \\sigma_{yz}) = (\\mu \\frac{\\partial \\phi}{\\partial x}, \\mu \\frac{\\partial \\phi}{\\partial y})\n",
    "\\end{equation}\n",
    "\n",
    "To simplify things a bit here, I'm going to just compute the first compute $\\sigma_{xz}$. This is equivalent to computing a traction with the normal vector equal to $(1, 0)$.\n",
    "\n",
    "The hypersingular integral will computes $\\sigma_{xz}$ for us given the source slip distribution. Since, we already built all the components of a QBX algorithm for the double layer case, we can now just write the naive integrator for a new kernel and everything works perfectly. In the cell below, I've implemented a naive integrator for the hypersingular integral.\n",
    "\n",
    "```{margin}\n",
    "As a reminder, By \"naive integrator\", I just mean the non-QBX integration function that would be the equivalent of the `double_layer_matrix` function from the previous section.\n",
    "```\n",
    "\n",
    "Why is this kernel called \"hypersingular\"? Because the kernel behaves like $O(\\frac{1}{r^2})$ in 2D. This makes the integral especially difficult for many traditional integration methods. As you'll see below, this is not a barrier for QBX and we are able to calculate the integral extremely accurately even right on the surface.\n",
    "\n",
    "```{note}\n",
    "A quick summary of the common types of singular integrand behavior:\n",
    "- **Weakly singular**: the integrand behaves like $O(log(r))$ in 2D. When we integrate a weakly singular integral over a surface, the integral is well-defined in the normal sense.\n",
    "- **Strongly singular**: The double layer potential is strongly singular. The integrand behaves like $O(\\frac{1}{r})$ in 2D. When we integrate a strongly singular integral over a surface, the integral must be defined in the Cauchy principal value sense. Otherwise, the integral is divergent (more or less equal to infinity). However, when the integral is computed as an interior limit, the value is well defined because no integral along the limiting path is ever actually singular.\n",
    "- **Hypersingular**: The integrand behaves like $O(\\frac{1}{r^2})$. The integral is so divergent that it's not even well-defined in the Cauchy principal value sense. Like strongly singular integrals, computing as an interior limit works out well.\n",
    "```"
   ]
  },
  {
   "cell_type": "code",
   "execution_count": null,
   "id": "ea68ef6e",
   "metadata": {},
   "outputs": [],
   "source": [
    "import_and_display_fnc('common', 'hypersingular_matrix')"
   ]
  },
  {
   "cell_type": "markdown",
   "id": "244e6643",
   "metadata": {},
   "source": [
    "```{margin}\n",
    "By leaving out the shear modulus, I'm implicitly assuming that $\\mu = 1$. You can just imagine that we're solving a nondimensionalized version of the problem. This is quite common because scaling the displacement and stress to lie in a similar range of values can improve the numerical conditioning of some problems.\n",
    "```"
   ]
  },
  {
   "cell_type": "markdown",
   "id": "c78b9bae",
   "metadata": {},
   "source": [
    "## Symbolic surfaces"
   ]
  },
  {
   "cell_type": "markdown",
   "id": "6a4ad9a3",
   "metadata": {},
   "source": [
    "For testing purposes, it's nice to have some tools for creating a range of interesting surface. Here, I'll put together a `symbolic_surface` function that allows defining a surface via a symbolic, parameterized form. Then, the discretized points, normals and jacobians are automatically computed."
   ]
  },
  {
   "cell_type": "code",
   "execution_count": null,
   "id": "90eb275d",
   "metadata": {},
   "outputs": [],
   "source": [
    "import_and_display_fnc('common', 'discretize_symbolic_surface')\n",
    "import_and_display_fnc('common', 'symbolic_eval')"
   ]
  },
  {
   "cell_type": "markdown",
   "id": "aa637351",
   "metadata": {},
   "source": [
    "Let's try this out with a simple curve:\n",
    "\\begin{align}\n",
    "x &= t\\\\\n",
    "y &= \\cos(t)\n",
    "\\end{align}\n",
    "Below, I will call our `discretize_symbolic_surface` function and then plot the surface along with the normal vectors. The normal vectors will be colored to show the determinant of the Jacobian. We can see that the Jacobian is slightly larger at the ends of the surface than the middle."
   ]
  },
  {
   "cell_type": "code",
   "execution_count": null,
   "id": "68a2b602",
   "metadata": {},
   "outputs": [],
   "source": [
    "import sympy as sp\n",
    "plt.figure(figsize=(6, 2))\n",
    "qx, qw = gauss_rule(8)\n",
    "sp_t = sp.var('t')\n",
    "\n",
    "# The definition of the parameterized surface.\n",
    "x = sp_t\n",
    "y = sp.cos(sp_t)\n",
    "\n",
    "# Convert into a discretized surface.\n",
    "S = discretize_symbolic_surface(qx, qw, sp_t, x, y)\n",
    "\n",
    "plt.plot(S.pts[:,0], S.pts[:,1])\n",
    "plt.quiver(S.pts[:,0], S.pts[:,1], S.normals[:,0], S.normals[:,1], S.jacobians, scale=20, cmap='coolwarm')\n",
    "plt.axis('equal')\n",
    "plt.colorbar()\n",
    "plt.show()"
   ]
  },
  {
   "cell_type": "markdown",
   "id": "237c37e2",
   "metadata": {},
   "source": [
    "## General purpose interior evaluation"
   ]
  },
  {
   "cell_type": "markdown",
   "id": "8556aa28",
   "metadata": {},
   "source": [
    "Next, I'm going to combine the ideas of the last section into a single function that will calculate a surface integral for an arbitrary set of observation points. To be precise, we will compute:\n",
    "\n",
    "\\begin{equation}\n",
    "f(x) = \\int_{S} K(x, y) \\phi(y)\n",
    "\\end{equation}\n",
    "\n",
    "where $x$ corresponds to `obs_pts`, $S$ corresponds to `surface`, $K(x,y)$ corresponds to `kernel`, and $\\phi(y)$ corresponds to `density`."
   ]
  },
  {
   "cell_type": "markdown",
   "id": "17de87c1",
   "metadata": {},
   "source": [
    "Finally, I'll write a pretty big function that is going to produce nice figures for comparing QBX against a naive computation. The function is written to be independent of the surface and kernel function. It also accepts QBX parameters. As a reminder, `offset_mult` is a multiplier for how far off the surface the QBX expansion centers are placed. `kappa` is the upsampling rate in case we want to use a higher order quadrature for computing QBX coefficients than for representing the surface. And `qbx_p` is the order of the power series expansion. Please look through the function! Very little is new compared to the previous section. We're just applying the tools we've already built."
   ]
  },
  {
   "cell_type": "code",
   "execution_count": null,
   "id": "32de946b",
   "metadata": {},
   "outputs": [],
   "source": [
    "from common import double_layer_matrix, pts_grid, qbx_setup, interior_matrix"
   ]
  },
  {
   "cell_type": "code",
   "execution_count": null,
   "id": "b4083903",
   "metadata": {},
   "outputs": [],
   "source": [
    "def qbx_example(\n",
    "    kernel, surface_fnc, n, offset_mult, kappa, qbx_p, vmin=None, vmax=None\n",
    "):\n",
    "    def slip_fnc(xhat):\n",
    "        # This must be zero at the endpoints for potential gradient to be finite.\n",
    "        return np.cos(xhat * np.pi) + 1.0\n",
    "\n",
    "    surface_low = surface_fnc(n)\n",
    "    slip_low = slip_fnc(surface_low.quad_pts)\n",
    "\n",
    "    nobs = 400\n",
    "    zoomx = [-1.5, 1.5]\n",
    "    zoomy = [-1.5, 1.5]\n",
    "    xs = np.linspace(*zoomx, nobs)\n",
    "    ys = np.linspace(*zoomy, nobs)\n",
    "    obs_pts = pts_grid(xs, ys)\n",
    "\n",
    "    low_vals = (\n",
    "        kernel(surface_low, obs_pts)\n",
    "        .dot(slip_low)[:, 0]\n",
    "        .reshape((nobs, nobs))\n",
    "    )\n",
    "\n",
    "    quad_rule_high = gauss_rule(2000)\n",
    "    surface_high = interp_surface(surface_low, *quad_rule_high)\n",
    "    slip_high = interp_fnc(slip_low, surface_low.quad_pts, quad_rule_high[0])\n",
    "    high_vals = (\n",
    "        kernel(surface_high, obs_pts)\n",
    "        .dot(slip_high)[:, 0]\n",
    "        .reshape((nobs, nobs))\n",
    "    )\n",
    "\n",
    "    expansions = qbx_setup(surface_low, mult=offset_mult, p=qbx_p)\n",
    "\n",
    "    qbx_quad_pts, qbx_quad_wts = gauss_rule(n * kappa)\n",
    "    surface_qbx = interp_surface(surface_low, qbx_quad_pts, qbx_quad_wts)\n",
    "    slip_qbx = interp_fnc(slip_low, surface_low.quad_pts, qbx_quad_pts)\n",
    "\n",
    "    plt.figure()\n",
    "    plt.plot(surface_qbx.pts[:,0], surface_qbx.pts[:,1], \"k-\")\n",
    "    plt.plot(expansions.pts[:,0], expansions.pts[:,1], \"r.\")\n",
    "    plt.show()\n",
    "\n",
    "    qbx_vals = interior_matrix(\n",
    "        kernel,\n",
    "        surface_qbx,\n",
    "        obs_pts,\n",
    "        expansions\n",
    "    ).dot(slip_qbx)[:,0].reshape((nobs, nobs))\n",
    "\n",
    "    if vmin is None:\n",
    "        vmin = -1.0\n",
    "    if vmax is None:\n",
    "        vmax = 1.0\n",
    "    levels = np.linspace(vmin, vmax, 16)\n",
    "\n",
    "    obsx = obs_pts[:,0].reshape((nobs, nobs))\n",
    "    obsy = obs_pts[:,1].reshape((nobs, nobs))\n",
    "\n",
    "    plt.figure(figsize=(16, 12))\n",
    "    plt.subplot(2, 3, 1)\n",
    "    plt.title(\"Naive solution\")\n",
    "    cntf = plt.contourf(obsx, obsy, low_vals, levels=levels, extend=\"both\")\n",
    "    plt.contour(\n",
    "        obsx,\n",
    "        obsy,\n",
    "        low_vals,\n",
    "        colors=\"k\",\n",
    "        linestyles=\"-\",\n",
    "        linewidths=0.5,\n",
    "        levels=levels,\n",
    "        extend=\"both\",\n",
    "    )\n",
    "    plt.plot(surface_high.pts[:,0], surface_high.pts[:,1], \"k-\", linewidth=1.5)\n",
    "    plt.xlim(zoomx)\n",
    "    plt.ylim(zoomy)\n",
    "\n",
    "    plt.subplot(2, 3, 2)\n",
    "    plt.title('\"Accurate\" solution')\n",
    "    cntf = plt.contourf(obsx, obsy, high_vals, levels=levels, extend=\"both\")\n",
    "    plt.contour(\n",
    "        obsx,\n",
    "        obsy,\n",
    "        high_vals,\n",
    "        colors=\"k\",\n",
    "        linestyles=\"-\",\n",
    "        linewidths=0.5,\n",
    "        levels=levels,\n",
    "        extend=\"both\",\n",
    "    )\n",
    "    plt.colorbar(cntf)\n",
    "    plt.plot(surface_high.pts[:,0], surface_high.pts[:,1], \"k-\", linewidth=1.5)\n",
    "    plt.xlim(zoomx)\n",
    "    plt.ylim(zoomy)\n",
    "\n",
    "    plt.subplot(2, 3, 3)\n",
    "    plt.title(\"Naive error\")\n",
    "    with warnings.catch_warnings():\n",
    "        warnings.filterwarnings(\"ignore\", category=RuntimeWarning)\n",
    "        logerror = np.log10(np.abs(low_vals - high_vals))\n",
    "    logerror[np.isinf(logerror)] = -12.0\n",
    "    cntf = plt.contourf(\n",
    "        obsx, obsy, logerror, levels=np.linspace(-12, 0, 13), extend=\"both\"\n",
    "    )\n",
    "    plt.contour(\n",
    "        obsx,\n",
    "        obsy,\n",
    "        logerror,\n",
    "        colors=\"k\",\n",
    "        linestyles=\"-\",\n",
    "        linewidths=0.5,\n",
    "        levels=np.linspace(-12, 0, 13),\n",
    "        extend=\"both\",\n",
    "    )\n",
    "    cb = plt.colorbar(cntf)\n",
    "    cb.set_label(r\"$\\log_{10}(|\\hat{u} - \\hat{u}_{\\textrm{naive}}|)$\", fontsize=14)\n",
    "    plt.plot(surface_high.pts[:,0], surface_high.pts[:,1], \"k-\", linewidth=1.5)\n",
    "    plt.xlim(zoomx)\n",
    "    plt.ylim(zoomy)\n",
    "    plt.tight_layout()\n",
    "\n",
    "    plt.subplot(2, 3, 4)\n",
    "    plt.title(\"QBX solution\")\n",
    "    cntf = plt.contourf(obsx, obsy, qbx_vals, levels=levels, extend=\"both\")\n",
    "    plt.contour(\n",
    "        obsx,\n",
    "        obsy,\n",
    "        qbx_vals,\n",
    "        colors=\"k\",\n",
    "        linestyles=\"-\",\n",
    "        linewidths=0.5,\n",
    "        levels=levels,\n",
    "        extend=\"both\",\n",
    "    )\n",
    "    plt.plot(surface_high.pts[:,0], surface_high.pts[:,1], \"k-\", linewidth=1.5)\n",
    "    plt.xlim(zoomx)\n",
    "    plt.ylim(zoomy)\n",
    "\n",
    "    plt.subplot(2, 3, 5)\n",
    "    plt.title('\"Accurate\" solution')\n",
    "    cntf = plt.contourf(obsx, obsy, high_vals, levels=levels, extend=\"both\")\n",
    "    plt.contour(\n",
    "        obsx,\n",
    "        obsy,\n",
    "        high_vals,\n",
    "        colors=\"k\",\n",
    "        linestyles=\"-\",\n",
    "        linewidths=0.5,\n",
    "        levels=levels,\n",
    "        extend=\"both\",\n",
    "    )\n",
    "    plt.colorbar(cntf)\n",
    "    plt.plot(surface_high.pts[:,0], surface_high.pts[:,1], \"k-\", linewidth=1.5)\n",
    "    plt.xlim(zoomx)\n",
    "    plt.ylim(zoomy)\n",
    "\n",
    "    plt.subplot(2, 3, 6)\n",
    "    plt.title(\"QBX error\")\n",
    "    with warnings.catch_warnings():\n",
    "        warnings.filterwarnings(\"ignore\", category=RuntimeWarning)\n",
    "        logerror = np.log10(np.abs(qbx_vals - high_vals))\n",
    "    logerror[np.isinf(logerror)] = -12.0\n",
    "    cntf = plt.contourf(\n",
    "        obsx, obsy, logerror, levels=np.linspace(-12, 0, 13), extend=\"both\"\n",
    "    )\n",
    "    plt.contour(\n",
    "        obsx,\n",
    "        obsy,\n",
    "        logerror,\n",
    "        colors=\"k\",\n",
    "        linestyles=\"-\",\n",
    "        linewidths=0.5,\n",
    "        levels=np.linspace(-12, 0, 13),\n",
    "        extend=\"both\",\n",
    "    )\n",
    "    cb = plt.colorbar(cntf)\n",
    "    cb.set_label(r\"$\\log_{10}(|\\hat{u} - \\hat{u}_{\\textrm{QBX}}|)$\", fontsize=14)\n",
    "    plt.plot(surface_high.pts[:,0], surface_high.pts[:,1], \"k-\", linewidth=1.5)\n",
    "    plt.xlim(zoomx)\n",
    "    plt.ylim(zoomy)\n",
    "    plt.tight_layout()\n",
    "    plt.show()"
   ]
  },
  {
   "cell_type": "markdown",
   "id": "7fd2c91e",
   "metadata": {},
   "source": [
    "## Displacement from a line source\n",
    "\n",
    "For the remainder of this part, we'll compute displacements and stresses for a three simple geometries of increasing difficulty.\n",
    "\n",
    "For each plot, there will be a geometry summary that's just a black line showing the location of the \"fault\" and red dots showing the location of the QBX expansions.\n",
    "\n",
    "Then, we'll plot three solutions: the naive solution, a high accuracy naive solution (from 2000 points) and a QBX solution. We'll also plot the $\\log_{10}$ error for both the naive and QBX solutions."
   ]
  },
  {
   "cell_type": "code",
   "execution_count": null,
   "id": "810e9960",
   "metadata": {},
   "outputs": [],
   "source": [
    "def line(n):\n",
    "    qx, qw = gauss_rule(n)\n",
    "    sp_t = sp.var('t')\n",
    "    return discretize_symbolic_surface(qx, qw, sp_t, sp_t, 0 * sp_t)\n",
    "\n",
    "qbx_example(\n",
    "    double_layer_matrix, surface_fnc=line, n=16, offset_mult=8, kappa=3, qbx_p=15\n",
    ")"
   ]
  },
  {
   "cell_type": "markdown",
   "id": "1aca7f83",
   "metadata": {},
   "source": [
    "## Stress from a line source"
   ]
  },
  {
   "cell_type": "code",
   "execution_count": null,
   "id": "b5ada96b",
   "metadata": {},
   "outputs": [],
   "source": [
    "qbx_example(\n",
    "    hypersingular_matrix, surface_fnc=line, n=32, offset_mult=8, kappa=5, qbx_p=15\n",
    ")"
   ]
  },
  {
   "cell_type": "markdown",
   "id": "df645223",
   "metadata": {},
   "source": [
    "## Displacement from an arc source"
   ]
  },
  {
   "cell_type": "code",
   "execution_count": null,
   "id": "a9ff430d",
   "metadata": {},
   "outputs": [],
   "source": [
    "def arc(n):\n",
    "    qx, qw = gauss_rule(n)\n",
    "    sp_t = sp.var('t')\n",
    "    theta = 0.5 * sp_t * sp.pi + 0.5 * sp.pi\n",
    "    x = sp.cos(theta)\n",
    "    y = sp.sin(theta) - 0.5\n",
    "    return discretize_symbolic_surface(qx, qw, sp_t, x, y)\n",
    "\n",
    "qbx_example(\n",
    "    double_layer_matrix, surface_fnc=arc, n=16, offset_mult=8, kappa=3, qbx_p=20\n",
    ")"
   ]
  },
  {
   "cell_type": "markdown",
   "id": "abdaf08e",
   "metadata": {},
   "source": [
    "## Stress from an arc source"
   ]
  },
  {
   "cell_type": "code",
   "execution_count": null,
   "id": "0827b615",
   "metadata": {},
   "outputs": [],
   "source": [
    "qbx_example(\n",
    "    hypersingular_matrix, surface_fnc=arc, n=32, offset_mult=8, kappa=5, qbx_p=20\n",
    ")"
   ]
  },
  {
   "cell_type": "markdown",
   "id": "a0f2367c",
   "metadata": {},
   "source": [
    "## Displacement from a challenging wavy source"
   ]
  },
  {
   "cell_type": "code",
   "execution_count": null,
   "id": "8bff8eac",
   "metadata": {},
   "outputs": [],
   "source": [
    "def wavy(n):\n",
    "    qx, qw = gauss_rule(n)\n",
    "\n",
    "    sp_t = sp.var('t')\n",
    "    x, y = sp_t, sp.sin((sp_t + 1) * 2 * sp.pi)\n",
    "\n",
    "    return discretize_symbolic_surface(qx, qw, sp_t, x, y)\n",
    "\n",
    "qbx_example(\n",
    "    double_layer_matrix,\n",
    "    surface_fnc=wavy,\n",
    "    n=256,\n",
    "    offset_mult=5.0,\n",
    "    kappa=5,\n",
    "    qbx_p=15,\n",
    ")"
   ]
  },
  {
   "cell_type": "markdown",
   "id": "2dceb2e2",
   "metadata": {},
   "source": [
    "## Stress from a challenging wavy source"
   ]
  },
  {
   "cell_type": "code",
   "execution_count": null,
   "id": "fc8a9791",
   "metadata": {},
   "outputs": [],
   "source": [
    "qbx_example(\n",
    "    hypersingular_matrix, surface_fnc=wavy, n=256, offset_mult=5, kappa=5, qbx_p=15\n",
    ")"
   ]
  }
 ],
 "metadata": {
  "jupytext": {
   "formats": "ipynb,md:myst"
  },
  "kernelspec": {
   "display_name": "Python 3",
   "language": "python",
   "name": "python3"
  }
 },
 "nbformat": 4,
 "nbformat_minor": 5
}
