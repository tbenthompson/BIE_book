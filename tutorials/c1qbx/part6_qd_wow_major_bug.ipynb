{
 "cells": [
  {
   "cell_type": "markdown",
   "id": "b8a162c1-6f85-4410-9b03-b7addb2fe5bf",
   "metadata": {},
   "source": [
    "Based on: https://strike.scec.org/cvws/seas/download/SEAS_BP1_QD.pdf\n",
    "\n",
    "Goals:\n",
    "- make another version that also includes a viscoelastic layer!\n",
    "\n",
    "Possible issues:\n",
    "\n",
    "Fault tips: \n",
    "- Identify or specify singularities and then make sure that the QBX and quadrature account for the singularities. This would be helpful for avoiding the need to have the sigmoid transition.\n",
    "- *Would it be useful to use an interpolation that includes the end points so that I can easily make sure that slip goes to zero at a fault tip?*\n",
    "\n",
    "Initial conditions:\n",
    "- Is the creep initial condition somehow wrong?\n",
    "- Would a slip deficit formulation be easier to get right?\n",
    "- What about just using far-field plate rate BCs?\n",
    "- *The pre-stress formulation from the SEAS document!*\n",
    "\n",
    "problem: how do I impose a backslip forcing? ultimately, this is physically unrealistic but I need to do it anyway. \n",
    "- look at how the scec seas project does this?\n",
    "- use some tapering function?\n",
    "- have a basal panel that just has a linear imposed backslip."
   ]
  },
  {
   "cell_type": "code",
   "execution_count": 1,
   "id": "9f7e7f3e",
   "metadata": {
    "tags": [
     "remove-cell"
    ]
   },
   "outputs": [],
   "source": [
    "from config import setup, import_and_display_fnc\n",
    "\n",
    "setup()"
   ]
  },
  {
   "cell_type": "code",
   "execution_count": 2,
   "id": "c3f7c5d0",
   "metadata": {},
   "outputs": [],
   "source": [
    "import numpy as np\n",
    "import sympy as sp\n",
    "import matplotlib.pyplot as plt\n",
    "from common import (\n",
    "    gauss_rule,\n",
    "    qbx_matrix2,\n",
    "    single_layer_matrix,\n",
    "    double_layer_matrix,\n",
    "    adjoint_double_layer_matrix,\n",
    "    hypersingular_matrix,\n",
    "    stage1_refine,\n",
    "    qbx_panel_setup,\n",
    "    stage2_refine,\n",
    "    pts_grid,\n",
    ")"
   ]
  },
  {
   "cell_type": "code",
   "execution_count": 59,
   "id": "70213d26-0485-4122-b0a2-0aa8433442c9",
   "metadata": {},
   "outputs": [],
   "source": [
    "import quadpy\n",
    "\n",
    "def clencurt(n1):\n",
    "    \"\"\"Computes the Clenshaw Curtis quadrature nodes and weights\"\"\"\n",
    "    C = quadpy.c1.clenshaw_curtis(n1)\n",
    "    return (C.points, C.weights)"
   ]
  },
  {
   "cell_type": "code",
   "execution_count": 153,
   "id": "8dcb7a56",
   "metadata": {},
   "outputs": [],
   "source": [
    "surf_half_L = 100000\n",
    "fault_bottom = 40000\n",
    "max_panel_length = 600\n",
    "shear_modulus = 3.2e10\n",
    "\n",
    "qx, qw = gauss_rule(12)\n",
    "t = sp.var(\"t\")\n",
    "\n",
    "control_points = [\n",
    "    (0, -fault_bottom / 2, fault_bottom / 2, max_panel_length),\n",
    "]\n",
    "fault, free = stage1_refine(\n",
    "    [\n",
    "        (t, t * 0, fault_bottom * (t + 1) * -0.5),  # fault\n",
    "        (t, -t * surf_half_L, 0 * t),  # free surface\n",
    "    ],\n",
    "    (qx, qw),\n",
    "    control_points=control_points,\n",
    ")\n",
    "\n",
    "fault_expansions, free_expansions = qbx_panel_setup(\n",
    "    [fault, free], directions=[0, 1], singularities=np.array([[0, -fault_bottom]])\n",
    ")"
   ]
  },
  {
   "cell_type": "code",
   "execution_count": 154,
   "id": "e82c014c-2525-49ec-8484-b3f66f6f58a3",
   "metadata": {},
   "outputs": [
    {
     "data": {
      "text/plain": [
       "(128, 1536)"
      ]
     },
     "execution_count": 154,
     "metadata": {},
     "output_type": "execute_result"
    }
   ],
   "source": [
    "fault.n_panels, fault.n_pts"
   ]
  },
  {
   "cell_type": "code",
   "execution_count": 155,
   "id": "292ee8a3-1804-42f5-9567-ecb9ab09b255",
   "metadata": {},
   "outputs": [
    {
     "data": {
      "text/plain": [
       "array([[ 2.08568573e+01, -3.99012237e+04],\n",
       "       [ 1.56426430e+01, -3.99355184e+04],\n",
       "       [ 8.79898667e+00, -3.99640473e+04],\n",
       "       [ 3.71207250e+00, -3.99850183e+04],\n",
       "       [ 6.60669154e-01, -3.99971188e+04]])"
      ]
     },
     "execution_count": 155,
     "metadata": {},
     "output_type": "execute_result"
    }
   ],
   "source": [
    "fault_expansions.pts[-5:]"
   ]
  },
  {
   "cell_type": "code",
   "execution_count": 195,
   "id": "4819ae50-ec0a-41a4-bbb8-09361e66a001",
   "metadata": {},
   "outputs": [],
   "source": [
    "def build_op(p, kappa):\n",
    "    free_disp_to_free_disp = qbx_matrix2(\n",
    "        double_layer_matrix, free, free.pts, free_expansions, p=p, kappa=kappa\n",
    "    )[:, 0, :]\n",
    "    fault_slip_to_free_disp = qbx_matrix2(\n",
    "        double_layer_matrix, fault, free.pts, free_expansions, p=p, kappa=kappa\n",
    "    )[:, 0, :]\n",
    "\n",
    "    free_disp_solve_mat = np.eye(free_disp_to_free_disp.shape[0]) + free_disp_to_free_disp\n",
    "    free_disp_solve_mat_inv = np.linalg.inv(free_disp_solve_mat)\n",
    "\n",
    "    fault_slip_to_fault_stress = shear_modulus * qbx_matrix2(\n",
    "        hypersingular_matrix, fault, fault.pts, fault_expansions, p=p, kappa=kappa\n",
    "    )\n",
    "    free_disp_to_fault_stress = shear_modulus * qbx_matrix2(\n",
    "        hypersingular_matrix, free, fault.pts, fault_expansions, p=p, kappa=kappa\n",
    "    )\n",
    "\n",
    "    fault_slip_to_fault_traction = np.sum(\n",
    "        fault_slip_to_fault_stress * fault.normals[:, :, None], axis=1\n",
    "    )\n",
    "    free_disp_to_fault_traction = np.sum(\n",
    "        free_disp_to_fault_stress * fault.normals[:, :, None], axis=1\n",
    "    )\n",
    "\n",
    "    A = fault_slip_to_fault_traction\n",
    "    B = free_disp_to_fault_traction\n",
    "    C = fault_slip_to_free_disp\n",
    "    Dinv = free_disp_solve_mat_inv\n",
    "    total_fault_slip_to_fault_traction = A - B.dot(Dinv.dot(C))\n",
    "    return total_fault_slip_to_fault_traction"
   ]
  },
  {
   "cell_type": "code",
   "execution_count": 127,
   "id": "6a11611f-5bc8-4c74-9317-5954bae43d17",
   "metadata": {},
   "outputs": [],
   "source": [
    "# Ms = []\n",
    "# for p in range(5, 20, 2):\n",
    "#     Ms.append(build_op(p))\n",
    "\n",
    "# slip = np.ones_like(fault.pts[:,1])# / fault_bottom\n",
    "# v1 = Ms[-2].dot(slip)\n",
    "# v2 = Ms[-1].dot(slip)\n",
    "# plt.plot(np.log10(np.abs(v1)))\n",
    "# plt.plot(np.log10(np.abs(v2)))\n",
    "# plt.show()\n",
    "# plt.plot(np.log10(np.abs(v1 - v2)))\n",
    "# plt.show()\n",
    "# plt.plot(np.log10(np.abs((v1 - v2) / 1e6)))\n",
    "# plt.show()"
   ]
  },
  {
   "cell_type": "code",
   "execution_count": 157,
   "id": "f77c1cc4-3067-4f19-be6e-9fd960391232",
   "metadata": {},
   "outputs": [],
   "source": [
    "total_fault_slip_to_fault_traction = build_op(10)"
   ]
  },
  {
   "cell_type": "code",
   "execution_count": 196,
   "id": "ab780e81-0b47-4a40-a3fe-6d2341cef2f6",
   "metadata": {},
   "outputs": [],
   "source": [
    "total_fault_slip_to_fault_traction2 = build_op(12, 5)"
   ]
  },
  {
   "cell_type": "code",
   "execution_count": 197,
   "id": "ba051de6-8970-4956-b07e-5871338f1677",
   "metadata": {},
   "outputs": [
    {
     "data": {
      "image/png": "[encoded data removed]",
      "text/plain": [
       "<Figure size 432x288 with 1 Axes>"
      ]
     },
     "metadata": {
      "image/png": {
       "height": 253,
       "width": 364
      },
      "needs_background": "light"
     },
     "output_type": "display_data"
    },
    {
     "data": {
      "image/png": "[encoded data removed]",
      "text/plain": [
       "<Figure size 432x288 with 1 Axes>"
      ]
     },
     "metadata": {
      "image/png": {
       "height": 253,
       "width": 376
      },
      "needs_background": "light"
     },
     "output_type": "display_data"
    },
    {
     "data": {
      "image/png": "[encoded data removed]",
      "text/plain": [
       "<Figure size 432x288 with 1 Axes>"
      ]
     },
     "metadata": {
      "image/png": {
       "height": 253,
       "width": 376
      },
      "needs_background": "light"
     },
     "output_type": "display_data"
    }
   ],
   "source": [
    "slip = np.ones_like(fault.pts[:,1])# / fault_bottom\n",
    "v1 = total_fault_slip_to_fault_traction.dot(slip)\n",
    "v2 = total_fault_slip_to_fault_traction2.dot(slip)\n",
    "plt.plot(np.log10(np.abs(v1)))\n",
    "plt.plot(np.log10(np.abs(v2)))\n",
    "plt.show()\n",
    "plt.plot(np.log10(np.abs(v1 - v2)))\n",
    "plt.show()\n",
    "plt.plot(np.log10(np.abs((v1 - v2) / 1e6)))\n",
    "plt.show()"
   ]
  },
  {
   "cell_type": "markdown",
   "id": "9edb3423-22f0-49c0-82bd-6d137107e2d2",
   "metadata": {},
   "source": [
    "## Rate and state friction"
   ]
  },
  {
   "cell_type": "code",
   "execution_count": 158,
   "id": "74f04b4b",
   "metadata": {},
   "outputs": [],
   "source": [
    "from dataclasses import dataclass"
   ]
  },
  {
   "cell_type": "code",
   "execution_count": 159,
   "id": "cf22f05e",
   "metadata": {},
   "outputs": [],
   "source": [
    "@dataclass\n",
    "class FrictionParams:\n",
    "    a: np.ndarray\n",
    "    b: float\n",
    "    V0: float\n",
    "    Dc: float\n",
    "    f0: float"
   ]
  },
  {
   "cell_type": "code",
   "execution_count": 160,
   "id": "b4b05442",
   "metadata": {},
   "outputs": [],
   "source": [
    "siay = 31556952\n",
    "density = 2670  # rock density (kg/m^3)\n",
    "cs = np.sqrt(shear_modulus / density)  # Shear wave speed (m/s)\n",
    "eta = shear_modulus / (2 * cs)  # The radiation damping coefficient (kg / (m^2 * s))\n",
    "Vp = 1e-9  # Rate of plate motion\n",
    "sigma_n = 50e6  # Normal stress (Pa)\n",
    "\n",
    "a0 = 0.01\n",
    "amax = 0.025\n",
    "fy = fault.pts[:, 1]\n",
    "H = 15000\n",
    "h = 3000\n",
    "a = np.where(\n",
    "    fy > -H, a0, np.where(fy > -(H + h), a0 + (amax - a0) * (fy + H) / -h, amax)\n",
    ")\n",
    "\n",
    "fp = FrictionParams(\n",
    "    a=a,  # direct velocity strengthening effect\n",
    "    b=0.015,  # state-based velocity weakening effect\n",
    "    Dc=0.008,  # state evolution length scale (m)\n",
    "    f0=0.6,  # baseline coefficient of friction\n",
    "    V0=1e-6,  # when V = V0, f = f0, V is (m/s)\n",
    ")"
   ]
  },
  {
   "cell_type": "code",
   "execution_count": 161,
   "id": "51750dc1",
   "metadata": {},
   "outputs": [
    {
     "data": {
      "image/png": "[encoded data removed]",
      "text/plain": [
       "<Figure size 216x360 with 1 Axes>"
      ]
     },
     "metadata": {
      "image/png": {
       "height": 307,
       "width": 254
      },
      "needs_background": "light"
     },
     "output_type": "display_data"
    }
   ],
   "source": [
    "plt.figure(figsize=(3, 5))\n",
    "plt.plot(fp.a, fy)\n",
    "plt.plot(np.full(fy.shape[0], fp.b), fy)\n",
    "plt.xlim([0, 0.03])\n",
    "plt.show()"
   ]
  },
  {
   "cell_type": "code",
   "execution_count": 162,
   "id": "459d816c",
   "metadata": {},
   "outputs": [
    {
     "name": "stdout",
     "output_type": "stream",
     "text": [
      "5.7623017978912685\n"
     ]
    },
    {
     "data": {
      "text/plain": [
       "(39.135440159836435, 341.3333333333333, 3216.990877275949)"
      ]
     },
     "execution_count": 162,
     "metadata": {},
     "output_type": "execute_result"
    }
   ],
   "source": [
    "mesh_L = np.max(np.abs(np.diff(fault.pts[:,1])))\n",
    "Lb = shear_modulus * fp.Dc / (sigma_n * fp.b)\n",
    "hstar = (np.pi * shear_modulus * fp.Dc) / (sigma_n * (fp.b - fp.a))\n",
    "print(np.min(np.abs(np.diff(fault.pts[:,1]))))\n",
    "mesh_L, Lb, np.min(hstar[hstar > 0])"
   ]
  },
  {
   "cell_type": "code",
   "execution_count": 163,
   "id": "dfda2db3",
   "metadata": {},
   "outputs": [],
   "source": [
    "def aging_law(fp, V, state):\n",
    "    return (fp.b * fp.V0 / fp.Dc) * (np.exp((fp.f0 - state) / fp.b) - (V / fp.V0))"
   ]
  },
  {
   "cell_type": "code",
   "execution_count": 164,
   "id": "06bc9726",
   "metadata": {},
   "outputs": [],
   "source": [
    "def F(fp, V, state):\n",
    "    return sigma_n * fp.a * np.arcsinh(V / (2 * fp.V0) * np.exp(state / fp.a))\n",
    "\n",
    "\n",
    "def dFdV(fp, V, state):\n",
    "    expsa = np.exp(state / fp.a)\n",
    "    Q = (V * expsa) / (2 * fp.V0)\n",
    "    return fp.a * expsa * sigma_n / (2 * fp.V0 * np.sqrt(1 + Q * Q))"
   ]
  },
  {
   "cell_type": "code",
   "execution_count": 165,
   "id": "87bcd427-5b23-43ec-a820-f19c32acd4c7",
   "metadata": {},
   "outputs": [],
   "source": [
    "def qd_equation(fp, shear_stress, V, state):\n",
    "    return shear_stress - eta * V - F(fp, V, state)\n",
    "\n",
    "\n",
    "def qd_equation_dV(fp, V, state):\n",
    "    return -eta - dFdV(fp, V, state)\n",
    "\n",
    "\n",
    "def rate_state_solve_old(fp, shear, V_old, state, tol=1e-10, V_min=1e-30):\n",
    "    def qd(V):\n",
    "        return qd_equation(fp, shear, V, state)\n",
    "\n",
    "    def qd_dV(V):\n",
    "        return qd_equation_dV(fp, V, state)\n",
    "\n",
    "    V = V_old\n",
    "    max_iter = 150\n",
    "    for i in range(max_iter):\n",
    "        f = qd_equation(fp, shear, V, state)\n",
    "        dfdv = qd_equation_dV(fp, V, state)\n",
    "        Vn = np.maximum(V - (f / dfdv), V_min)\n",
    "        if np.max(np.abs(V - Vn) / np.minimum(Vn, V)) < tol:\n",
    "            break\n",
    "        V = Vn\n",
    "        if i == max_iter - 1:\n",
    "            raise Exception(\"Failed to converge.\")\n",
    "    return Vn"
   ]
  },
  {
   "cell_type": "code",
   "execution_count": 166,
   "id": "57550b57-de66-4ca1-96ad-ea581b18bffb",
   "metadata": {},
   "outputs": [
    {
     "name": "stdout",
     "output_type": "stream",
     "text": [
      "The cython extension is already loaded. To reload it, use:\n",
      "  %reload_ext cython\n"
     ]
    }
   ],
   "source": [
    "%load_ext cython"
   ]
  },
  {
   "cell_type": "code",
   "execution_count": 167,
   "id": "1eddb742-7e32-475d-8417-7d89e776d87c",
   "metadata": {},
   "outputs": [],
   "source": [
    "%%cython --verbose\n",
    "#cython: boundscheck=False, wraparound=False\n",
    "\n",
    "import numpy as np\n",
    "from libc.math cimport asinh, exp, sqrt, fabs, fmax, fmin\n",
    "\n",
    "def rate_state_solve(\n",
    "    fp, double sigma_n, double eta, \n",
    "    double[::1] shear, double[::1] V_old, double[::1] state, \n",
    "    int max_iter=100, double tol=1e-10, double V_min=1e-30\n",
    "):\n",
    "    cdef double[::1] fp_a = fp.a\n",
    "    cdef double fp_b = fp.b\n",
    "    cdef double fp_V0 = fp.V0\n",
    "    \n",
    "    cdef int n = shear.shape[0]\n",
    "    cdef out_V = np.empty(n, dtype=np.float64)\n",
    "    cdef double[::1] V = out_V\n",
    "    \n",
    "    cdef int i, j\n",
    "    cdef double F, dFdV, qd_eqtn, Q, qd_eqtn_dV, V_tmp, sigma_F, expsa\n",
    "    cdef bint failed = False\n",
    "    \n",
    "    # We don't parallelize here because the small problems here have more \n",
    "    # parallelization overhead than speedup.\n",
    "    for j in range(n):\n",
    "        V[j] = V_old[j]\n",
    "        expsa = exp(state[j] / fp_a[j]) / (2 * fp_V0)\n",
    "        sigma_F = sigma_n * fp_a[j]\n",
    "        for i in range(max_iter):\n",
    "            Q = V[j] * expsa\n",
    "            F = sigma_F * asinh(Q)\n",
    "            qd_eqtn = shear[j] - eta * V[j] - F\n",
    "    \n",
    "            dFdV = sigma_F * expsa / sqrt(1 + Q * Q)\n",
    "            qd_eqtn_dV = -eta - dFdV\n",
    "            \n",
    "            V_tmp = V[j]\n",
    "            V[j] = fmax(V[j] - qd_eqtn / qd_eqtn_dV, V_min)\n",
    "            if fabs(V[j] - V_tmp) / fmin(V[j], V_tmp) < tol:\n",
    "                break\n",
    "            if i == max_iter - 1:\n",
    "                print(V[j], V_tmp)\n",
    "                failed = True\n",
    "                \n",
    "    if failed == 1:\n",
    "        raise Exception(f\"Rate-state Newton failed to converge in {max_iter} iterations.\")\n",
    "    return out_V"
   ]
  },
  {
   "cell_type": "code",
   "execution_count": 168,
   "id": "527fccc5-955b-4334-8f2d-351370247655",
   "metadata": {},
   "outputs": [],
   "source": [
    "shear = np.full(fault.n_pts, 30e6)\n",
    "V = np.full(fault.n_pts, Vp)\n",
    "state = np.full(fault.n_pts, 0.7)\n",
    "\n",
    "def benchmark():\n",
    "    for i in range(300):\n",
    "        rate_state_solve(fp, sigma_n, eta, shear, V, state)\n",
    "        rate_state_solve_old(fp, shear, V, state)"
   ]
  },
  {
   "cell_type": "code",
   "execution_count": 169,
   "id": "1e319c4f-d870-4b80-9123-607c0981cbca",
   "metadata": {},
   "outputs": [
    {
     "name": "stdout",
     "output_type": "stream",
     "text": [
      "The line_profiler extension is already loaded. To reload it, use:\n",
      "  %reload_ext line_profiler\n"
     ]
    },
    {
     "data": {
      "text/plain": [
       "Timer unit: 1e-06 s\n",
       "\n",
       "Total time: 1.62415 s\n",
       "File: <ipython-input-168-3e0587f08626>\n",
       "Function: benchmark at line 5\n",
       "\n",
       "Line #      Hits         Time  Per Hit   % Time  Line Contents\n",
       "==============================================================\n",
       "     5                                           def benchmark():\n",
       "     6       301        759.0      2.5      0.0      for i in range(300):\n",
       "     7       300     267141.0    890.5     16.4          rate_state_solve(fp, sigma_n, eta, shear, V, state)\n",
       "     8       300    1356246.0   4520.8     83.5          rate_state_solve_old(fp, shear, V, state)"
      ]
     },
     "metadata": {},
     "output_type": "display_data"
    }
   ],
   "source": [
    "%load_ext line_profiler\n",
    "\n",
    "%lprun -f benchmark benchmark()"
   ]
  },
  {
   "cell_type": "code",
   "execution_count": 170,
   "id": "34caf13a-67a8-48e9-bb71-201ad4ee264d",
   "metadata": {},
   "outputs": [
    {
     "data": {
      "text/plain": [
       "False"
      ]
     },
     "execution_count": 170,
     "metadata": {},
     "output_type": "execute_result"
    }
   ],
   "source": [
    "V1 = rate_state_solve(fp, sigma_n, eta, shear, V, state)\n",
    "V2 = rate_state_solve_old(fp, shear, V, state)\n",
    "\n",
    "np.any(V1 - V2 > 1e-20)"
   ]
  },
  {
   "cell_type": "markdown",
   "id": "0d02f272-998b-4ab3-a773-b6da011f6f10",
   "metadata": {},
   "source": [
    "## Quasidynamic earthquake cycle derivatives"
   ]
  },
  {
   "cell_type": "code",
   "execution_count": 171,
   "id": "18692667",
   "metadata": {},
   "outputs": [],
   "source": [
    "from scipy.optimize import fsolve\n",
    "import copy\n",
    "\n",
    "fp_amax = copy.deepcopy(fp)\n",
    "fp_amax.a = amax\n",
    "\n",
    "init_state_scalar = fsolve(lambda S: aging_law(fp, Vp, S), 0.7)[0]\n",
    "init_state = np.full(fault.n_pts, init_state_scalar)\n",
    "tau_amax = F(fp_amax, Vp, init_state_scalar) + eta * Vp\n",
    "init_traction = np.full(fault.n_pts, tau_amax)"
   ]
  },
  {
   "cell_type": "code",
   "execution_count": 172,
   "id": "2d7f8a1e",
   "metadata": {},
   "outputs": [],
   "source": [
    "init_slip = np.zeros(fault.n_pts)\n",
    "init_conditions = np.concatenate((init_slip, init_state))"
   ]
  },
  {
   "cell_type": "code",
   "execution_count": 173,
   "id": "8e2de056",
   "metadata": {},
   "outputs": [],
   "source": [
    "def calc_system_state(t, y, verbose=False):\n",
    "    if verbose:\n",
    "        print(t)\n",
    "        print(t)\n",
    "        print(t)\n",
    "        print(t)\n",
    "        print(t)\n",
    "\n",
    "    slip = y[: init_slip.shape[0]]\n",
    "    state = y[init_slip.shape[0] :]\n",
    "\n",
    "    if np.any((state < 0) | (state > 1.2)):\n",
    "        return False\n",
    "\n",
    "    slip_deficit = t * Vp - slip\n",
    "    tau_qs = init_traction - total_fault_slip_to_fault_traction.dot(slip_deficit)\n",
    "\n",
    "    try:\n",
    "        V = rate_state_solve(fp, sigma_n, eta, tau_qs, calc_system_state.V_old, state)\n",
    "    except RuntimeError:\n",
    "        return False\n",
    "    if not np.all(np.isfinite(V)):\n",
    "        return False\n",
    "    calc_system_state.V_old = V\n",
    "\n",
    "    dstatedt = aging_law(fp, V, state)\n",
    "\n",
    "    out = slip, slip_deficit, state, tau_qs, V, dstatedt\n",
    "    if verbose:\n",
    "        plot_system_state(out)\n",
    "\n",
    "    return out\n",
    "\n",
    "\n",
    "calc_system_state.V_old = np.full(fault.n_pts, Vp)\n",
    "\n",
    "\n",
    "def plot_system_state(SS):\n",
    "    slip, slip_deficit, state, tau_qs, V, dstatedt = SS\n",
    "\n",
    "    plt.figure(figsize=(15, 9))\n",
    "    plt.subplot(2, 3, 1)\n",
    "    plt.title(\"slip\")\n",
    "    plt.plot(fault.pts[:, 1], slip)\n",
    "\n",
    "    plt.subplot(2, 3, 2)\n",
    "    plt.title(\"state\")\n",
    "    plt.plot(fault.pts[:, 1], state)\n",
    "\n",
    "    plt.subplot(2, 3, 3)\n",
    "    plt.title(\"tau qs\")\n",
    "    plt.plot(fault.pts[:, 1], tau_qs)\n",
    "\n",
    "    plt.subplot(2, 3, 4)\n",
    "    plt.title(\"slip rate\")\n",
    "    plt.plot(fault.pts[:, 1], V)\n",
    "\n",
    "    plt.subplot(2, 3, 6)\n",
    "    plt.title(\"dstatedt\")\n",
    "    plt.plot(fault.pts[:, 1], dstatedt)\n",
    "    plt.tight_layout()\n",
    "\n",
    "    plt.show()\n",
    "\n",
    "\n",
    "def calc_derivatives(t, y):\n",
    "    # print('trying', t / siay)\n",
    "    if not np.all(np.isfinite(y)):\n",
    "        return np.inf * y\n",
    "    state = calc_system_state(t, y)  # , verbose=True)\n",
    "    if not state:\n",
    "        return np.inf * y\n",
    "    calc_derivatives.state = state\n",
    "    derivatives = np.concatenate((state[-2], state[-1]))\n",
    "    return derivatives"
   ]
  },
  {
   "cell_type": "markdown",
   "id": "e12f5cf7-a014-40d4-a872-c9e6e2223214",
   "metadata": {},
   "source": [
    "## Integrating through time"
   ]
  },
  {
   "cell_type": "code",
   "execution_count": 174,
   "id": "b980f1d1-f7c5-411b-9992-6451dd23c4dc",
   "metadata": {},
   "outputs": [],
   "source": [
    "from scipy.integrate import RK45\n",
    "\n",
    "calc_system_state.V_old = np.full(fault.n_pts, Vp)\n",
    "\n",
    "atol = Vp * 1e-10\n",
    "rtol = 1e-7\n",
    "rk23 = RK45(calc_derivatives, 0, init_conditions, 1e50, atol=atol, rtol=rtol)\n",
    "rk23.h_abs = 60 * 60 * 24\n",
    "\n",
    "#n_steps = 100000\n",
    "max_T = 3000 * siay\n",
    "n_steps = 8000\n",
    "\n",
    "t_history = [0]\n",
    "y_history = [init_conditions.copy()]"
   ]
  },
  {
   "cell_type": "code",
   "execution_count": 175,
   "id": "d6665b92-2c46-480c-8443-c86543eeefe7",
   "metadata": {},
   "outputs": [
    {
     "name": "stdout",
     "output_type": "stream",
     "text": [
      "step=0, time=0.002737907006988508 yrs\n",
      "step=1000, time=47.35782684018683 yrs\n",
      "step=2000, time=94.84276147967418 yrs\n",
      "step=3000, time=142.30598586258284 yrs\n",
      "step=4000, time=171.43927026994413 yrs\n",
      "step=5000, time=176.54139407713134 yrs\n",
      "step=6000, time=223.95760045728656 yrs\n",
      "step=7000, time=245.5433867408924 yrs\n"
     ]
    }
   ],
   "source": [
    "for i in range(n_steps):\n",
    "    if rk23.step() != None:\n",
    "        raise Exception(\"TIME STEPPING FAILED\")\n",
    "        break\n",
    "\n",
    "    if i % 1000 == 0:\n",
    "        print(f'step={i}, time={rk23.t / siay} yrs')\n",
    "        # plot_system_state(calc_derivatives.state)\n",
    "\n",
    "    t_history.append(rk23.t)\n",
    "    y_history.append(rk23.y.copy())\n",
    "\n",
    "    if rk23.t > max_T:\n",
    "        break"
   ]
  },
  {
   "cell_type": "code",
   "execution_count": 176,
   "id": "795155e2-0e28-4880-9482-e0570dc9a221",
   "metadata": {},
   "outputs": [
    {
     "data": {
      "text/plain": [
       "245.54338703015227"
      ]
     },
     "execution_count": 176,
     "metadata": {},
     "output_type": "execute_result"
    }
   ],
   "source": [
    "rk23.t / siay"
   ]
  },
  {
   "cell_type": "code",
   "execution_count": 177,
   "id": "5034ca48-1ce5-44a4-8f9e-8a1fee41c6a8",
   "metadata": {},
   "outputs": [],
   "source": [
    "y_history = np.array(y_history)\n",
    "t_history = np.array(t_history)"
   ]
  },
  {
   "cell_type": "markdown",
   "id": "9a5377bb-8b66-4c76-b1d8-a0743e34a9d3",
   "metadata": {},
   "source": [
    "## Plotting the results"
   ]
  },
  {
   "cell_type": "code",
   "execution_count": 178,
   "id": "beab2cd7-252c-4018-a308-5357a9e04628",
   "metadata": {},
   "outputs": [
    {
     "data": {
      "image/png": "[encoded data removed]",
      "text/plain": [
       "<Figure size 432x288 with 1 Axes>"
      ]
     },
     "metadata": {
      "image/png": {
       "height": 253,
       "width": 378
      },
      "needs_background": "light"
     },
     "output_type": "display_data"
    }
   ],
   "source": [
    "derivs_history = np.diff(y_history, axis=0) / np.diff(t_history)[:, None]\n",
    "max_vel = np.max(np.abs(derivs_history), axis=1)\n",
    "plt.plot(t_history[1:] / siay, np.log10(max_vel))\n",
    "plt.show()"
   ]
  },
  {
   "cell_type": "code",
   "execution_count": 191,
   "id": "6addec6c-c984-4092-ae37-cf9b0eac3cbd",
   "metadata": {},
   "outputs": [
    {
     "data": {
      "image/png": "[encoded data removed]",
      "text/plain": [
       "<Figure size 720x288 with 1 Axes>"
      ]
     },
     "metadata": {
      "image/png": {
       "height": 259,
       "width": 691
      },
      "needs_background": "light"
     },
     "output_type": "display_data"
    }
   ],
   "source": [
    "plt.figure(figsize = (10, 4))\n",
    "last_plt_t = 50\n",
    "event_times = []\n",
    "for i in range(2000, 3000):#len(y_history) - 1):\n",
    "    y = y_history[i]\n",
    "    t = t_history[i]\n",
    "    slip = y[: init_slip.shape[0]]\n",
    "    should_plot = False\n",
    "    if (\n",
    "        max_vel[i] >= 0.0001 and t - last_plt_t > 3\n",
    "    ):\n",
    "        if len(event_times) == 0 or t - event_times[-1] > siay:\n",
    "            event_times.append(t)\n",
    "        should_plot = True\n",
    "        color = \"r\"\n",
    "    if t - last_plt_t > 15 * siay:\n",
    "        should_plot = True\n",
    "        color = \"b\"\n",
    "    if should_plot:\n",
    "        plt.plot(slip, fy / 1000.0, color + \"-\", linewidth=0.5)\n",
    "        last_plt_t = t\n",
    "plt.xlim([0, np.max(last_plt_slip)])\n",
    "plt.ylim([-40, 0])\n",
    "plt.ylabel(r\"$\\textrm{z (km)}$\")\n",
    "plt.xlabel(r\"$\\textrm{slip (m)}$\")\n",
    "plt.tight_layout()\n",
    "plt.savefig(\"halfspace.png\", dpi=300)\n",
    "plt.show()"
   ]
  },
  {
   "cell_type": "code",
   "execution_count": 194,
   "id": "33486bcc-6127-423d-bd44-65783038c1ed",
   "metadata": {},
   "outputs": [
    {
     "data": {
      "image/png": "[encoded data removed]",
      "text/plain": [
       "<Figure size 432x288 with 1 Axes>"
      ]
     },
     "metadata": {
      "image/png": {
       "height": 253,
       "width": 364
      },
      "needs_background": "light"
     },
     "output_type": "display_data"
    }
   ],
   "source": [
    "plt.plot(fy, slip)\n",
    "plt.show()"
   ]
  },
  {
   "cell_type": "code",
   "execution_count": 180,
   "id": "2d3345c4-929a-43ff-a3d7-e28147fe1873",
   "metadata": {},
   "outputs": [
    {
     "data": {
      "image/png": "[encoded data removed]",
      "text/plain": [
       "<Figure size 432x288 with 1 Axes>"
      ]
     },
     "metadata": {
      "image/png": {
       "height": 292,
       "width": 413
      },
      "needs_background": "light"
     },
     "output_type": "display_data"
    }
   ],
   "source": [
    "plt.title('Recurrence interval')\n",
    "plt.plot(np.diff(event_times) / siay, 'k-*')\n",
    "plt.xticks(np.arange(0, 36, 5))\n",
    "plt.yticks(np.arange(75, 80, 0.5))\n",
    "plt.xlabel('Event number')\n",
    "plt.ylabel('Time between events (yr)')\n",
    "plt.show()"
   ]
  },
  {
   "cell_type": "code",
   "execution_count": 185,
   "id": "42c98b7c-fed5-466d-80e5-f1bcb4365979",
   "metadata": {},
   "outputs": [],
   "source": [
    "t_idx = 0  # np.argmax((t_history > event_times[0] - 10))\n",
    "fault_idx = np.argmax((-7480 > fy) & (fy > -7500))\n",
    "n_steps = t_history.shape[0]\n",
    "t_chunk = t_history[t_idx : (t_idx + n_steps)]\n",
    "y_chunk = y_history[t_idx : (t_idx + n_steps)]\n",
    "shear_chunk = []\n",
    "slip_rate_chunk = []\n",
    "slip_deficit_chunk = []\n",
    "for i in range(n_steps):\n",
    "    system_state = calc_system_state(t_history[t_idx + i], y_history[t_idx + i])\n",
    "    slip, slip_deficit, state, tau_qs, V, dstatedt = system_state\n",
    "    slip_deficit_chunk.append(slip_deficit)\n",
    "    shear_chunk.append((tau_qs - eta * V))\n",
    "    slip_rate_chunk.append(V)\n",
    "\n",
    "shear_chunk = np.array(shear_chunk)\n",
    "slip_rate_chunk = np.array(slip_rate_chunk)\n",
    "slip_deficit_chunk = np.array(slip_deficit_chunk)"
   ]
  },
  {
   "cell_type": "code",
   "execution_count": 186,
   "id": "15aa4a68-f0c4-43db-a704-2a2942af3327",
   "metadata": {},
   "outputs": [],
   "source": [
    "t_start = t_chunk[np.argmax(slip_rate_chunk[:,fault_idx] > 0.1)]"
   ]
  },
  {
   "cell_type": "code",
   "execution_count": 188,
   "id": "f4aab811-5146-412c-9c52-00eb60ec38f6",
   "metadata": {},
   "outputs": [
    {
     "data": {
      "text/plain": [
       "3.726056728414846"
      ]
     },
     "execution_count": 188,
     "metadata": {},
     "output_type": "execute_result"
    }
   ],
   "source": [
    "np.max(slip_rate_chunk)"
   ]
  },
  {
   "cell_type": "code",
   "execution_count": null,
   "id": "44620eed-8cb0-4aa5-ab49-5a23560f867d",
   "metadata": {},
   "outputs": [],
   "source": [
    "jiang_data = np.loadtxt('jiang.txt')\n",
    "jiang_vel = np.diff(jiang_data[:,1]) / np.diff(jiang_data[:,0])\n",
    "jiang_t_start = np.argmax(jiang_vel > 0.1)"
   ]
  },
  {
   "cell_type": "code",
   "execution_count": null,
   "id": "393f7649-19e7-4248-83bf-6b00a5b48790",
   "metadata": {},
   "outputs": [],
   "source": [
    "for lims in [(-1, 1), (-15, 30)]:\n",
    "    plt.figure(figsize=(12,8))\n",
    "    plt.subplot(2,1,1)\n",
    "    plt.plot(t_chunk - t_start, shear_chunk / 1e6, 'k-o', markersize=0.5, linewidth=0.5)\n",
    "    plt.plot(jiang_data[:,0] - jiang_data[jiang_t_start,0], jiang_data[:, 3], 'b-*', markersize=0.5, linewidth = 0.5)\n",
    "    plt.xlim(lims)\n",
    "    plt.xlabel('Time (s)')\n",
    "    plt.ylabel('Shear Stress (MPa)')\n",
    "    #plt.show()\n",
    "\n",
    "    plt.subplot(2,1,2)\n",
    "    plt.plot(t_chunk - t_start, slip_rate_chunk, 'k-o', markersize=0.5, linewidth=0.5)\n",
    "    plt.plot(jiang_data[1:,0] - jiang_data[jiang_t_start,0], jiang_vel[:], 'b-*', markersize=0.5, linewidth = 0.5)\n",
    "    plt.xlim(lims)\n",
    "    plt.xlabel('Time (s)')\n",
    "    plt.ylabel('Slip rate (m/s)')\n",
    "    plt.tight_layout()\n",
    "    plt.show()"
   ]
  }
 ],
 "metadata": {
  "jupytext": {
   "formats": "ipynb,md:myst"
  },
  "kernelspec": {
   "display_name": "Python 3",
   "language": "python",
   "name": "python3"
  },
  "language_info": {
   "codemirror_mode": {
    "name": "ipython",
    "version": 3
   },
   "file_extension": ".py",
   "mimetype": "text/x-python",
   "name": "python",
   "nbconvert_exporter": "python",
   "pygments_lexer": "ipython3",
   "version": "3.9.5"
  },
  "widgets": {
   "application/vnd.jupyter.widget-state+json": {
    "state": {},
    "version_major": 2,
    "version_minor": 0
   }
  }
 },
 "nbformat": 4,
 "nbformat_minor": 5
}
