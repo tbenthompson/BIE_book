{
 "cells": [
  {
   "cell_type": "code",
   "execution_count": null,
   "id": "82842ff6",
   "metadata": {
    "tags": [
     "remove-cell"
    ]
   },
   "outputs": [],
   "source": [
    "from tectosaur2.nb_config import setup\n",
    "\n",
    "setup()"
   ]
  },
  {
   "cell_type": "markdown",
   "id": "ad048fbe",
   "metadata": {},
   "source": [
    "# Topography"
   ]
  },
  {
   "cell_type": "markdown",
   "id": "fbed91c0",
   "metadata": {},
   "source": [
    "\n",
    "## Summary \n",
    "\n",
    "We're going to replicate the calculation from the previous section above except for a free surface with topography. The calculations will be identical except for the construction of the surface itself. As a result, there will be no narration. You can take a look through and cross reference the steps with the corresponding step in the previous section.  \n",
    "\n",
    "To construct the mesh, I'll specify a parametrized topography curve with a Gaussian hill shape near the origin. Remember that in the parametrized description of curves accepted by `refine_surfaces`, the parameter (normally $t$) varies from -1 to 1."
   ]
  },
  {
   "cell_type": "markdown",
   "id": "a60fdc88",
   "metadata": {},
   "source": [
    "## Solving for displacement from a fault below topography"
   ]
  },
  {
   "cell_type": "code",
   "execution_count": null,
   "id": "9402fbc1",
   "metadata": {},
   "outputs": [],
   "source": [
    "import warnings\n",
    "import numpy as np\n",
    "import sympy as sp\n",
    "import matplotlib.pyplot as plt\n",
    "from tectosaur2 import gauss_rule, refine_surfaces, integrate_term, pts_grid\n",
    "from tectosaur2.laplace2d import double_layer, hypersingular"
   ]
  },
  {
   "cell_type": "code",
   "execution_count": null,
   "id": "3fc3dd0c",
   "metadata": {
    "tags": []
   },
   "outputs": [],
   "source": [
    "\n",
    "surf_half_L = 1000\n",
    "t = sp.symbols(\"t\")\n",
    "x = -surf_half_L * t\n",
    "y = sp.exp(-(t ** 2) * 500000) * sp.Rational(1.0) - sp.Rational(1.0)\n",
    "sp.Tuple(x, y)"
   ]
  },
  {
   "cell_type": "code",
   "execution_count": null,
   "id": "ef67ab94",
   "metadata": {},
   "outputs": [],
   "source": [
    "fault, topo = refine_surfaces(\n",
    "    [\n",
    "        (t, t * 0, 1 * ((t + 1) * -0.5)), # the fault\n",
    "        (t, x, y) # the free surface\n",
    "    ],\n",
    "    gauss_rule(8),\n",
    "    control_points=np.array([(0, 0, 10, 0.2)]),\n",
    ")\n",
    "print(\n",
    "    f\"The free surface mesh has {topo.n_panels} panels with a total of {topo.n_pts} points.\"\n",
    ")\n",
    "print(\n",
    "    f\"The fault mesh has {fault.n_panels} panels with a total of {fault.n_pts} points.\"\n",
    ")"
   ]
  },
  {
   "cell_type": "code",
   "execution_count": null,
   "id": "3246206f",
   "metadata": {
    "tags": []
   },
   "outputs": [],
   "source": [
    "plt.plot(fault.panel_edges[:, 0], fault.panel_edges[:, 1], \"r-o\")\n",
    "plt.plot(topo.panel_edges[:, 0], topo.panel_edges[:, 1], \"k-o\")\n",
    "plt.xlim([-2.5, 2.5])\n",
    "plt.ylim([-3.5, 1.5])\n",
    "plt.xlabel('$x$')\n",
    "plt.ylabel('$y$')\n",
    "plt.show()"
   ]
  },
  {
   "cell_type": "code",
   "execution_count": null,
   "id": "943759b3",
   "metadata": {},
   "outputs": [],
   "source": [
    "%%time\n",
    "# Specify singularities\n",
    "singularities = np.array([\n",
    "    [-surf_half_L,0],\n",
    "    [surf_half_L,0],\n",
    "    [0,0],\n",
    "    [0,-1],\n",
    "])\n",
    "\n",
    "# Integrate!\n",
    "(surf_disp_to_surf_disp, fault_slip_to_surf_disp), reports = integrate_term(\n",
    "    double_layer,\n",
    "    topo.pts,\n",
    "    topo,\n",
    "    fault,\n",
    "    limit_direction=1.0,\n",
    "    singularities=singularities,\n",
    "    return_report=True\n",
    ")\n",
    "\n",
    "\n",
    "# Specify a constant unit slip along the fault.\n",
    "slip = np.ones(fault.n_pts)\n",
    "\n",
    "# rhs = B \\Delta u\n",
    "rhs = -fault_slip_to_surf_disp[:,0,:,0].dot(slip)\n",
    "\n",
    "# lhs = I + A\n",
    "lhs = np.eye(topo.n_pts) + surf_disp_to_surf_disp[:,0,:,0]\n",
    "\n",
    "surf_disp = np.linalg.solve(lhs, rhs)"
   ]
  },
  {
   "cell_type": "code",
   "execution_count": null,
   "id": "696404ec",
   "metadata": {},
   "outputs": [],
   "source": [
    "analytical = -np.arctan(-1 / topo.pts[:,0]) / np.pi\n",
    "%matplotlib inline\n",
    "plt.figure(figsize=(6, 6))\n",
    "plt.plot(topo.pts[:, 0], surf_disp, \"ro\")\n",
    "plt.plot(topo.pts[:, 0], analytical, \"bo\")\n",
    "plt.xlabel(\"$x$\")\n",
    "plt.ylabel(\"$u_z$\")\n",
    "plt.title(\"Displacement\")\n",
    "plt.xlim([-4, 4])\n",
    "plt.ylim([-0.6, 0.6])\n",
    "plt.tight_layout()\n",
    "plt.show()"
   ]
  },
  {
   "cell_type": "markdown",
   "id": "2d767121",
   "metadata": {},
   "source": [
    "## Interior evaluation of displacement and stress."
   ]
  },
  {
   "cell_type": "code",
   "execution_count": null,
   "id": "a01ad65d",
   "metadata": {},
   "outputs": [],
   "source": [
    "nobs = 200\n",
    "zoomx = [-1.5, 1.5]\n",
    "zoomy = [-2, 0]\n",
    "xs = np.linspace(*zoomx, nobs)\n",
    "ys = np.linspace(*zoomy, nobs)\n",
    "obs_pts = pts_grid(xs, ys)\n",
    "obsx = obs_pts[:, 0]\n",
    "obsy = obs_pts[:, 1]"
   ]
  },
  {
   "cell_type": "code",
   "execution_count": null,
   "id": "e9fbfbbb",
   "metadata": {},
   "outputs": [],
   "source": [
    "K = double_layer\n",
    "(free_to_disp, fault_to_disp), report = integrate_term(\n",
    "    double_layer,\n",
    "    obs_pts,\n",
    "    topo,\n",
    "    fault,\n",
    "    singularities=singularities,\n",
    "    return_report=True,\n",
    ")\n",
    "interior_disp = -free_to_disp[:, 0, :, 0].dot(surf_disp) - fault_to_disp[:, 0, :, 0].dot(slip)"
   ]
  },
  {
   "cell_type": "code",
   "execution_count": null,
   "id": "0c28e2ce",
   "metadata": {},
   "outputs": [],
   "source": [
    "(free_to_stress, fault_to_stress), report = integrate_term(\n",
    "    hypersingular,\n",
    "    obs_pts,\n",
    "    topo,\n",
    "    fault,\n",
    "    singularities=singularities,\n",
    "    return_report=True,\n",
    ")\n",
    "interior_stress = -free_to_stress[:,:,:,0].dot(surf_disp) - fault_to_stress[:,:,:,0].dot(slip)\n",
    "interior_sxz = interior_stress[:, 0]\n",
    "interior_syz = interior_stress[:, 1]"
   ]
  },
  {
   "cell_type": "code",
   "execution_count": null,
   "id": "f19257c8",
   "metadata": {},
   "outputs": [],
   "source": [
    "analytical_disp = (\n",
    "    1.0 / (2 * np.pi) * (np.arctan((obsy + 1) / obsx) - np.arctan((obsy - 1) / obsx))\n",
    ")\n",
    "with warnings.catch_warnings():\n",
    "    warnings.simplefilter(\"ignore\")\n",
    "    disp_err = np.log10(np.abs(interior_disp - analytical_disp))\n",
    "\n",
    "rp = obsx ** 2 + (obsy + 1) ** 2\n",
    "ri = obsx ** 2 + (obsy - 1) ** 2\n",
    "analytical_sxz = -(1.0 / (2 * np.pi)) * (((obsy + 1) / rp) - ((obsy - 1) / ri))\n",
    "analytical_syz = (1.0 / (2 * np.pi)) * ((obsx / rp) - (obsx / ri))\n",
    "sxz_err = np.log10(np.abs(interior_sxz - analytical_sxz))\n",
    "syz_err = np.log10(np.abs(interior_syz - analytical_syz))\n",
    "plt.figure(figsize=(12, 8))\n",
    "\n",
    "plots = [\n",
    "    (\"interior_disp\", \"topo: $u_z$\"),\n",
    "    (\"interior_sxz\", \"topo: $\\sigma_{xz}$\"),\n",
    "    (\"interior_syz\", \"topo: $\\sigma_{yz}$\"),\n",
    "    (\"analytical_disp\", \"flat: $u_z$\"),\n",
    "    (\"analytical_sxz\", \"flat: $\\sigma_{xz}$\"),\n",
    "    (\"analytical_syz\", \"flat: $\\sigma_{yz}$\"),\n",
    "]\n",
    "for i, (k, title) in enumerate(plots):\n",
    "    plt.subplot(2, 3, 1 + i)\n",
    "    plt.title(title)\n",
    "    v = locals()[k].reshape((nobs, nobs))\n",
    "    v2d = v.reshape((nobs, nobs))\n",
    "    levels = np.linspace(-0.5, 0.5, 11)\n",
    "    cntf = plt.contourf(xs, ys, v2d, levels=levels, extend=\"both\")\n",
    "    plt.contour(\n",
    "        xs,\n",
    "        ys,\n",
    "        v2d,\n",
    "        colors=\"k\",\n",
    "        linestyles=\"-\",\n",
    "        linewidths=0.5,\n",
    "        levels=levels,\n",
    "        extend=\"both\",\n",
    "    )\n",
    "    plt.colorbar(cntf)\n",
    "    # plt.xlim([-0.01, 0.01])\n",
    "    # plt.ylim([-0.02, 0.0])\n",
    "\n",
    "plt.tight_layout()\n",
    "plt.show()"
   ]
  }
 ],
 "metadata": {
  "jupytext": {
   "formats": "ipynb,md:myst"
  },
  "kernelspec": {
   "display_name": "Python 3.9.7 64-bit ('tectosaur2': conda)",
   "name": "python3"
  }
 },
 "nbformat": 4,
 "nbformat_minor": 5
}
