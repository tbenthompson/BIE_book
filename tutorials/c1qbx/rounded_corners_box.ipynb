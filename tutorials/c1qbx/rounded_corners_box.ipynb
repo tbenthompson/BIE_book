{
 "cells": [
  {
   "cell_type": "code",
   "execution_count": null,
   "id": "a3029de3",
   "metadata": {
    "tags": [
     "remove-cell"
    ]
   },
   "outputs": [],
   "source": [
    "from config import setup, import_and_display_fnc\n",
    "\n",
    "setup()\n",
    "%matplotlib widget"
   ]
  },
  {
   "cell_type": "code",
   "execution_count": null,
   "id": "b5adb427",
   "metadata": {},
   "outputs": [],
   "source": [
    "import numpy as np\n",
    "import matplotlib.pyplot as plt\n",
    "from common import (\n",
    "    gauss_rule,\n",
    "    qbx_matrix,\n",
    "    symbolic_eval,\n",
    "    qbx_setup,\n",
    "    double_layer_matrix,\n",
    "    PanelSurface,\n",
    "    panelize_symbolic_surface,\n",
    "    build_panel_interp_matrix,\n",
    ")\n",
    "import sympy as sp"
   ]
  },
  {
   "cell_type": "code",
   "execution_count": null,
   "id": "4a308d30",
   "metadata": {},
   "outputs": [],
   "source": [
    "%matplotlib inline"
   ]
  },
  {
   "cell_type": "code",
   "execution_count": null,
   "id": "626b1966",
   "metadata": {},
   "outputs": [],
   "source": [
    "import_and_display_fnc('common', 'refine_panels')\n",
    "import_and_display_fnc('common', 'stage1_refine')"
   ]
  },
  {
   "cell_type": "code",
   "execution_count": null,
   "id": "d4347dff",
   "metadata": {},
   "outputs": [],
   "source": [
    "qx, qw = gauss_rule(16)\n",
    "t = sp.var(\"t\")\n",
    "\n",
    "sym_obs_surf = (t, -t * 1000, 0 * t)\n",
    "sym_src_surf = (t, t * 0, (t + 1) * -0.5)\n",
    "src_panels = np.array([[-1, 1]])\n",
    "src_surf = panelize_symbolic_surface(\n",
    "    *sym_src_surf, src_panels, qx, qw\n",
    ")\n",
    "\n",
    "control_points = np.array([(0, 0, 2, 0.5)])\n",
    "obs_surf = stage1_refine(\n",
    "    sym_obs_surf, (qx, qw), other_surfaces=[src_surf], control_points=control_points\n",
    ")"
   ]
  },
  {
   "cell_type": "code",
   "execution_count": null,
   "id": "0c47e56a",
   "metadata": {},
   "outputs": [],
   "source": [
    "%matplotlib widget\n",
    "plt.figure()\n",
    "plt.plot(obs_surf.pts[obs_surf.panel_start_idxs,0], obs_surf.pts[obs_surf.panel_start_idxs,1], 'k-*')\n",
    "plt.xlim([-25,25])\n",
    "plt.show()"
   ]
  },
  {
   "cell_type": "code",
   "execution_count": null,
   "id": "86d929b6",
   "metadata": {},
   "outputs": [],
   "source": [
    "from common import qbx_panel_setup, build_interp_matrix, build_interpolator\n",
    "\n",
    "expansions = qbx_panel_setup(obs_surf, direction=1, p=10)"
   ]
  },
  {
   "cell_type": "code",
   "execution_count": null,
   "id": "432afc29",
   "metadata": {},
   "outputs": [],
   "source": [
    "import_and_display_fnc('common', 'build_panel_interp_matrix')\n",
    "import_and_display_fnc('common', 'stage2_refine')"
   ]
  },
  {
   "cell_type": "code",
   "execution_count": null,
   "id": "0294ac3a",
   "metadata": {},
   "outputs": [],
   "source": [
    "%matplotlib inline"
   ]
  },
  {
   "cell_type": "code",
   "execution_count": null,
   "id": "0ee8c67c",
   "metadata": {},
   "outputs": [],
   "source": [
    "stage2_surf = stage2_refine(src_surf, expansions)"
   ]
  },
  {
   "cell_type": "code",
   "execution_count": null,
   "id": "bc119437",
   "metadata": {},
   "outputs": [],
   "source": [
    "%matplotlib widget\n",
    "plt.figure()\n",
    "plt.plot(stage2_surf.pts[stage2_surf.panel_start_idxs,0], stage2_surf.pts[stage2_surf.panel_start_idxs,1], 'k-*')\n",
    "plt.plot(expansions.pts[:,0], expansions.pts[:,1], 'r*')\n",
    "plt.axis('equal')\n",
    "plt.xlim([-1,1])\n",
    "plt.ylim([-1,0])\n",
    "plt.show()"
   ]
  },
  {
   "cell_type": "code",
   "execution_count": null,
   "id": "a83838cb",
   "metadata": {},
   "outputs": [],
   "source": [
    "t = sp.var(\"t\")\n",
    "theta = sp.pi + sp.pi * t\n",
    "F = 0.98\n",
    "u = F * sp.cos(theta)\n",
    "v = F * sp.sin(theta)\n",
    "x = 0.5 * (\n",
    "    sp.sqrt(2 + 2 * u * sp.sqrt(2) + u ** 2 - v ** 2)\n",
    "    - sp.sqrt(2 - 2 * u * sp.sqrt(2) + u ** 2 - v ** 2)\n",
    ")\n",
    "y = 0.5 * (\n",
    "    sp.sqrt(2 + 2 * v * sp.sqrt(2) - u ** 2 + v ** 2)\n",
    "    - sp.sqrt(2 - 2 * v * sp.sqrt(2) - u ** 2 + v ** 2)\n",
    ")\n",
    "x = (1.0 / F) * x * 100000\n",
    "y = (1.0 / F) * y * 20000 - 20000"
   ]
  },
  {
   "cell_type": "code",
   "execution_count": null,
   "id": "5903e0bc",
   "metadata": {},
   "outputs": [],
   "source": [
    "rounded_corner_box = stage1_refine((t, x, y), (qx, qw), control_points = [(0,0,10000,5000)], max_radius_ratio=10.0)"
   ]
  },
  {
   "cell_type": "code",
   "execution_count": null,
   "id": "fc85b683",
   "metadata": {},
   "outputs": [],
   "source": [
    "%matplotlib inline\n",
    "plt.figure()\n",
    "plt.plot(\n",
    "    rounded_corner_box.pts[rounded_corner_box.panel_start_idxs, 0],\n",
    "    rounded_corner_box.pts[rounded_corner_box.panel_start_idxs, 1],\n",
    "    \"k-*\",\n",
    ")\n",
    "plt.axis(\"equal\")\n",
    "plt.show()"
   ]
  },
  {
   "cell_type": "code",
   "execution_count": null,
   "id": "8bd73de2",
   "metadata": {},
   "outputs": [],
   "source": [
    "box_expansions = qbx_panel_setup(rounded_corner_box, direction=1, p=10)"
   ]
  },
  {
   "cell_type": "code",
   "execution_count": null,
   "id": "62539986",
   "metadata": {},
   "outputs": [],
   "source": [
    "stage2_box = stage2_refine(rounded_corner_box, box_expansions)\n",
    "print(stage2_box.n_panels)\n",
    "plt.figure()\n",
    "plt.plot(\n",
    "    stage2_box.pts[stage2_box.panel_start_idxs, 0],\n",
    "    stage2_box.pts[stage2_box.panel_start_idxs, 1],\n",
    "    \"k-*\",\n",
    ")\n",
    "plt.plot(box_expansions.pts[:,0], box_expansions.pts[:,1], 'r*')\n",
    "plt.axis(\"equal\")\n",
    "plt.show()"
   ]
  },
  {
   "cell_type": "code",
   "execution_count": null,
   "id": "f25ff243",
   "metadata": {},
   "outputs": [],
   "source": []
  }
 ],
 "metadata": {
  "jupytext": {
   "formats": "ipynb,md:myst"
  },
  "kernelspec": {
   "display_name": "Python 3",
   "language": "python",
   "name": "python3"
  }
 },
 "nbformat": 4,
 "nbformat_minor": 5
}
