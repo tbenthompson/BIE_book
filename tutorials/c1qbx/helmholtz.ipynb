{
 "cells": [
  {
   "cell_type": "code",
   "execution_count": 37,
   "id": "dedaae2d-f5bb-4fb4-b8fa-516b8025ceb0",
   "metadata": {},
   "outputs": [],
   "source": [
    "import matplotlib.pyplot as plt\n",
    "from scipy.special import hankel1\n",
    "from tectosaur2.mesh import pts_grid"
   ]
  },
  {
   "cell_type": "code",
   "execution_count": 101,
   "id": "213548aa-9cd7-4c89-b506-07cc04179060",
   "metadata": {},
   "outputs": [
    {
     "name": "stdout",
     "output_type": "stream",
     "text": [
      "cfl:  (0.5+0j)\n",
      "2j\n",
      "nonzero -0.30303030303030276 dt 0.5\n",
      "cfl:  (0.2+0j)\n",
      "5j\n",
      "nonzero -0.10101010101010033 dt 0.2\n",
      "cfl:  (0.1+0j)\n",
      "10j\n",
      "nonzero -0.10101010101010033 dt 0.1\n",
      "cfl:  (0.05+0j)\n",
      "20j\n",
      "nonzero -10.0 dt 0.05\n",
      "cfl:  1j\n",
      "1.0\n",
      "nonzero -0.5050505050505052 dt 0.0\n"
     ]
    }
   ],
   "source": [
    "nobsx = 100\n",
    "nobsy = 100\n",
    "R = 10\n",
    "zoomx = [-R, R]\n",
    "zoomy = [-R, R]\n",
    "xs = np.linspace(*zoomx, nobsx)\n",
    "ys = np.linspace(*zoomy, nobsy)\n",
    "obs_pts = pts_grid(xs, ys)\n",
    "\n",
    "c = 1\n",
    "dx = 1\n",
    "for k in [2j, 5j, 10j, 20j, 1.0]:\n",
    "    dt = 1j / k\n",
    "    CFL = c * dt / dx\n",
    "    print('cfl: ', CFL)\n",
    "    print(k)\n",
    "\n",
    "    r = np.linalg.norm(obs_pts, axis=1)\n",
    "\n",
    "    #f = np.real((1j/4) * hankel1(0, k * r).reshape((nobsy, nobsx)))\n",
    "    f = np.real(np.exp(1j * k * r) / (4 * np.pi * r)).reshape((nobsy, nobsx))\n",
    "#     plt.plot(xs, f[50,:])\n",
    "#     plt.show()\n",
    "    \n",
    "    flog = np.log10(np.abs(f))\n",
    "#     plt.plot(xs, flog[50,:])\n",
    "#     plt.show()\n",
    "    \n",
    "    nonzero = xs[np.argmax(flog[50,:] > -1)]\n",
    "    print('nonzero', nonzero, 'dt', np.real(dt))\n",
    "    \n",
    "#     cntf = plt.contourf(\n",
    "#         xs, \n",
    "#         ys, \n",
    "#         f,\n",
    "#     #    levels=error_levels, \n",
    "#         extend=\"both\"\n",
    "#     )\n",
    "#     plt.contour(\n",
    "#         xs,\n",
    "#         ys,\n",
    "#         f,\n",
    "#         colors=\"k\",\n",
    "#         linestyles=\"-\",\n",
    "#         linewidths=0.5,\n",
    "#     #    levels=error_levels,\n",
    "#         extend=\"both\",\n",
    "#     )\n",
    "#     plt.xlim(zoomx)\n",
    "#     plt.ylim(zoomy)\n",
    "#     plt.colorbar(cntf)\n",
    "#     plt.show()"
   ]
  },
  {
   "cell_type": "code",
   "execution_count": null,
   "id": "2701ba73-6f97-4337-98a2-e1a26718e17c",
   "metadata": {},
   "outputs": [],
   "source": []
  }
 ],
 "metadata": {
  "kernelspec": {
   "display_name": "Python 3",
   "language": "python",
   "name": "python3"
  },
  "language_info": {
   "codemirror_mode": {
    "name": "ipython",
    "version": 3
   },
   "file_extension": ".py",
   "mimetype": "text/x-python",
   "name": "python",
   "nbconvert_exporter": "python",
   "pygments_lexer": "ipython3",
   "version": "3.9.5"
  },
  "widgets": {
   "application/vnd.jupyter.widget-state+json": {
    "state": {},
    "version_major": 2,
    "version_minor": 0
   }
  }
 },
 "nbformat": 4,
 "nbformat_minor": 5
}
