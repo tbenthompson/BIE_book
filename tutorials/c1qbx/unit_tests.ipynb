{
 "cells": [
  {
   "cell_type": "code",
   "execution_count": 1,
   "id": "67ea0eb2-c5f0-4b34-a610-5f77a4799892",
   "metadata": {
    "tags": [
     "remove-cell"
    ]
   },
   "outputs": [],
   "source": [
    "from config import setup, import_and_display_fnc\n",
    "\n",
    "setup()"
   ]
  },
  {
   "cell_type": "code",
   "execution_count": 2,
   "id": "b7ed275a-4f36-4cb6-9a2e-669bede1d95d",
   "metadata": {},
   "outputs": [],
   "source": [
    "import sympy as sp\n",
    "from common import gauss_rule, stage1_refine, qbx_panel_setup"
   ]
  },
  {
   "cell_type": "code",
   "execution_count": 4,
   "id": "6d93b18e-f3ea-488f-bf93-110203f26e22",
   "metadata": {},
   "outputs": [
    {
     "name": "stdout",
     "output_type": "stream",
     "text": [
      "done after n_iterations=7 with n_panels=52\n",
      "done after n_iterations=7 with n_panels=12\n"
     ]
    }
   ],
   "source": [
    "surf_half_L = 100000\n",
    "corner_resolution = 5000\n",
    "fault_bottom = 17000\n",
    "\n",
    "qx, qw = gauss_rule(6)\n",
    "t = sp.var(\"t\")\n",
    "\n",
    "control_points = [\n",
    "    (0, 0, 0, corner_resolution),\n",
    "    (0, -fault_bottom / 2, fault_bottom / 1.9, 500)\n",
    "]\n",
    "fault, free = stage1_refine(\n",
    "    [\n",
    "        (t, t * 0, fault_bottom * (t + 1) * -0.5),  # fault\n",
    "        (t, -t * surf_half_L, 0 * t),  # free surface\n",
    "    ],\n",
    "    (qx, qw),\n",
    "    control_points=control_points\n",
    ")\n",
    "assert(free.n_panels==12)\n",
    "assert(fault.n_panels==52)"
   ]
  }
 ],
 "metadata": {
  "jupytext": {
   "formats": "ipynb,md:myst"
  },
  "kernelspec": {
   "display_name": "Python 3",
   "language": "python",
   "name": "python3"
  },
  "language_info": {
   "codemirror_mode": {
    "name": "ipython",
    "version": 3
   },
   "file_extension": ".py",
   "mimetype": "text/x-python",
   "name": "python",
   "nbconvert_exporter": "python",
   "pygments_lexer": "ipython3",
   "version": "3.9.5"
  },
  "widgets": {
   "application/vnd.jupyter.widget-state+json": {
    "state": {},
    "version_major": 2,
    "version_minor": 0
   }
  }
 },
 "nbformat": 4,
 "nbformat_minor": 5
}
