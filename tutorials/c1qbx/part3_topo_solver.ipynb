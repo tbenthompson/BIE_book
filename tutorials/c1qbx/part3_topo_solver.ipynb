{
 "cells": [
  {
   "cell_type": "code",
   "execution_count": null,
   "id": "bfc9c738",
   "metadata": {
    "tags": [
     "remove-cell"
    ]
   },
   "outputs": [],
   "source": [
    "from config import setup, import_and_display_fnc\n",
    "setup()"
   ]
  },
  {
   "cell_type": "markdown",
   "id": "e2c9711e",
   "metadata": {},
   "source": [
    "# A strike slip fault underneath topography.\n",
    "\n",
    "## Mathematical background\n",
    "Note that much of the discussion here parallels the discussion in [the section on solving topographic problems with TDEs](../tdes/sa_tdes).\n",
    "\n",
    "Last time we solved for the displacement and stress given slip on an infinitely long strike slip fault. This time, we'll make the problem more interesting (and a bit harder!) by adding in a free surface. First, we'll replicate classical solutions for the surface displacement on a half-space given slip on a fault. Then, we'll add in a topographic free surface and have some fun!\n",
    "\n",
    "Note that mathematicians may be uncomfortable with the precision of some of the statements here. If you feel that way, I'd recommend taking a look at an [integral equations textbook like Kress](https://www.springer.com/us/book/9781461495925).\n",
    "\n",
    "Let's start with the integral equation for displacement resulting from slip on a crack/fault and displacement and traction on another arbitrary surface:\n",
    "\n",
    "\\begin{equation}\n",
    "u(\\mathbf{p}) = \\int_{H} G(\\mathbf{p}, \\mathbf{q}) t(\\mathbf{q}) d\\mathbf{q} - \\int_{H} \\frac{\\partial G}{\\partial n_q}(\\mathbf{p}, \\mathbf{q}) u(\\mathbf{q}) d\\mathbf{q} -\\int_{F} \\frac{\\partial G}{\\partial n_q}(\\mathbf{p}, \\mathbf{q}) s(\\mathbf{q}) d\\mathbf{q}\n",
    "\\end{equation}\n",
    "\n",
    "where $H$ is the surface, $F$ is the fault, $t$ is traction, $u$ is displacement and $s$ is slip. Immediately, we can see that, for a free surface, the first term is zero because the traction is zero, so we are left with:\n",
    "\n",
    "\\begin{equation}\n",
    "u(\\mathbf{p}) = -\\int_{H} \\frac{\\partial G}{\\partial n_q}(\\mathbf{p}, \\mathbf{q}) u(\\mathbf{q}) d\\mathbf{q} -\\int_{F} \\frac{\\partial G}{\\partial n_q}(\\mathbf{p}, \\mathbf{q}) s(\\mathbf{q}) d\\mathbf{q}\n",
    "\\end{equation}\n",
    "\n",
    "So, this equation says that we can calculate displacement anywhere if we know displacement on $H$ and slip on $F$. But, we don't know the displacement on $H$! So, step one is going to be solving for the unknown displacement on the surface $H$.\n",
    "\n",
    "To solve for surface displacement, intuitively, we need to reduce from two unknowns to one unknown in this equation. Currently we have both the unknown displacement on $H$ and the unknown displacement at an arbitrary point in the volume, $u(\\mathbf{p})$. To remedy this situation, we will simply choose to only enforce the integral equation at boundary points $\\mathbf{p} \\in H$. This can be proven sufficient for the equation to hold everywhere and is the fundamental basis of boundary value problems in potential theory and elastostatics. Because $u$ is now only evaluated on the boundary, this equation is solvable for $u(\\mathbf{p})$ given $s$.\n",
    "\n",
    "```{note}\n",
    "**Uniqueness**: In informal terms, the uniqueness theorems state that for a linear elastic boundary value problem, if we know displacement and traction on the boundary of the domain, then we can calculate displacement and traction everywhere in the volume.\n",
    "```\n",
    "\n",
    "Re-arranging to put the unknown displacement on the left hand side:\n",
    "\\begin{equation}\n",
    "u(\\mathbf{p}) + \\int_{H} \\frac{\\partial G}{\\partial n_q}(\\mathbf{p}, \\mathbf{q}) u(\\mathbf{q}) d\\mathbf{q} = -\\int_{F} \\frac{\\partial G}{\\partial n_q}(\\mathbf{p}, \\mathbf{q}) s(\\mathbf{q}) d\\mathbf{q}  ~~~~~~ \\forall \\mathbf{p} \\in H\n",
    "\\end{equation}\n",
    "\n",
    "Note that the integrals are now being evaluated in their singular limits. Previously, we have only evaluated nearly singular integrals that arise when the observation point is very close to the source surface. Fortunately, QBX works just as well in the limit to the boundary and as a result, nothing about our integration procedures will need to change.\n",
    "\n",
    "Once discretized using our QBX-based quadrature tools from the previous sections, this will look like:\n",
    "\\begin{equation}\n",
    "\\mathbf{Iu} + \\mathbf{Au} = \\mathbf{Bs}\n",
    "\\end{equation}\n",
    "\n",
    "where $\\mathbf{A}$ and $\\mathbf{B}$ are matrices representing the action of the integral terms on surface displacement and fault slip respectively. $\\mathbf{I}$ is the identity matrix."
   ]
  },
  {
   "cell_type": "markdown",
   "id": "6cc3b77f",
   "metadata": {},
   "source": [
    "## Solving for surface displacement"
   ]
  },
  {
   "cell_type": "markdown",
   "id": "9888ddbb",
   "metadata": {},
   "source": [
    "For the first section, we're going to reproduce analytical solutions for the displacement due to slip on a buried fault under a half space. That solution {cite:p}`segallEarthquakeVolcanoDeformation2010` is:\n",
    "\n",
    "\\begin{equation}\n",
    "u_z = \\frac{-s}{2\\pi}\\bigg[\\tan^{-1}(\\frac{x}{y + d_1}) - \\tan^{-1}(\\frac{x}{y - d_1}) - \\tan^{-1}(\\frac{x}{y + d_2}) + \\tan^{-1}(\\frac{x}{y - d_2}) \\bigg]\n",
    "\\end{equation}\n",
    "\n",
    "To start with the numerical implementation, we'll define two surfaces. The `fault_fnc` function will define a fault extending from 0.5 units depth to 1.5 units depth and the `flat_fnc` function will define a free surface extending from -25 to 25 units along the x axis.\n",
    "\n",
    "Note that while we're trying to approximate a free surface, we won't attempt to actually have an infinite surface here. It will turn out that 25 units in both directions is enough to get a very good match with the analytical solution. If we truly wanted to model an infinite surface numerically, I could imagine achieving that via an adaptive quadrature method combined with something like [Gauss-Laguerre quadrature](https://en.wikipedia.org/wiki/Gauss%E2%80%93Laguerre_quadrature). I would enjoy trying that out some day! However, the goal here isn't to actually model an infinite domain. The Earth is not infinite! Instead, the goal is simply to demonstrate that our numerical methods work on an analytically tractable problem before moving on to problems that are not analytically intractable."
   ]
  },
  {
   "cell_type": "code",
   "execution_count": null,
   "id": "0eab1f5f",
   "metadata": {},
   "outputs": [],
   "source": [
    "import numpy as np\n",
    "import matplotlib.pyplot as plt\n",
    "from common import (\n",
    "    discretize_symbolic_surface,\n",
    "    gauss_rule,\n",
    "    double_layer_matrix,\n",
    "    qbx_setup,\n",
    "    interior_matrix,\n",
    "    build_interpolator,\n",
    "    interp_surface,\n",
    "    line,\n",
    "    pts_grid\n",
    ")\n",
    "\n",
    "fault_depth = 0.5\n",
    "def fault_fnc(n):\n",
    "    return line(n, (0, -0.5), (0, -2.5))\n",
    "\n",
    "\n",
    "surf_L = 25\n",
    "def flat_fnc(n):\n",
    "    return line(n, (surf_L, 0), (-surf_L, 0))"
   ]
  },
  {
   "cell_type": "markdown",
   "id": "18f4ed36",
   "metadata": {},
   "source": [
    "Conceptually, the $\\mathbf{A}$ matrix is the interaction of the flat free surface with itself. Let's build that matrix first using the QBX tools from the last two sections. As mentioned, we won't need to do anything fundamentally different for evaluating these integrals in the limit of the observation point being on the boundary. In fact, because the observation surface and the source surface are the same, we can avoid a lot of the complexity in the `qbx_interior_eval_matrix` and `interior_matrix` functions. We'll create a new `self_interaction_matrix` function:"
   ]
  },
  {
   "cell_type": "code",
   "execution_count": null,
   "id": "fdfeef93",
   "metadata": {},
   "outputs": [],
   "source": [
    "import_and_display_fnc('common', 'self_interaction_matrix')\n",
    "import_and_display_fnc('common', 'interp_matrix')"
   ]
  },
  {
   "cell_type": "code",
   "execution_count": null,
   "id": "22223eda",
   "metadata": {},
   "outputs": [],
   "source": [
    "flat = flat_fnc(1000)\n",
    "flat_interp = interp_surface(flat, *gauss_rule(2 * flat.n_pts))\n",
    "\n",
    "flat_expansions = qbx_setup(flat, mult=5.0, direction=1, p=6)\n",
    "A_raw = self_interaction_matrix(double_layer_matrix, flat, flat_interp, flat_expansions)[0][:,0,:]\n",
    "Im = interp_matrix(build_interpolator(flat.quad_pts), flat_interp.quad_pts)\n",
    "A = A_raw.dot(Im)"
   ]
  },
  {
   "cell_type": "markdown",
   "id": "9d0d79d7",
   "metadata": {},
   "source": [
    "For the $\\mathbf{B}$ term, we don't need to bother with QBX and can just directly perform the boundary integrals. This is because the observation points are sufficiently far away from the source fault surface that there are no nearly-singular or singular integrals. Note that we apply unit slip along the entire fault. In many models, this would be problematic because the fault tip displacement discontinuities introduce stress singularities into the model. However, for the sake of comparing with the analytical solution, we can accept the stress singularities for now. And because we are not evaluating stress near the fault, we don't need to worry about the issue.\n",
    "\n",
    "For the same reason, we don't need many quadrature points for the fault. We can achieve machine precision with just 25 quadrature points."
   ]
  },
  {
   "cell_type": "code",
   "execution_count": null,
   "id": "be1d2c2a",
   "metadata": {},
   "outputs": [],
   "source": [
    "fault = fault_fnc(25)\n",
    "B = -double_layer_matrix(fault, flat.pts)[:, 0, :]"
   ]
  },
  {
   "cell_type": "markdown",
   "id": "a221c4c8",
   "metadata": {},
   "source": [
    "And remembering the identity matrix term, we form the full left hand side as $\\mathbf{I} + \\mathbf{A}$."
   ]
  },
  {
   "cell_type": "code",
   "execution_count": null,
   "id": "325f6f69",
   "metadata": {},
   "outputs": [],
   "source": [
    "lhs = np.eye(A.shape[0]) + A"
   ]
  },
  {
   "cell_type": "markdown",
   "id": "0ac9c27c",
   "metadata": {},
   "source": [
    "Then, apply unit slip along the entire fault to compute the right hand side."
   ]
  },
  {
   "cell_type": "code",
   "execution_count": null,
   "id": "5de30a77",
   "metadata": {},
   "outputs": [],
   "source": [
    "slip = np.ones(fault.n_pts)\n",
    "rhs = B.dot(slip)"
   ]
  },
  {
   "cell_type": "markdown",
   "id": "c6a6d7b7",
   "metadata": {},
   "source": [
    "And finally solve the linear system for the unknown displacements!"
   ]
  },
  {
   "cell_type": "code",
   "execution_count": null,
   "id": "3ad4b502",
   "metadata": {},
   "outputs": [],
   "source": [
    "surf_disp = np.linalg.solve(lhs, rhs)"
   ]
  },
  {
   "cell_type": "markdown",
   "id": "4e474220",
   "metadata": {},
   "source": [
    "And let's compare with the analytical solution in the figures below. The match is quite good. Looking at the error figure, a couple things stand out:\n",
    "1. The tips of the free surface has comparatively high errors. This is simply due to the difference between a finite free surface and the infinite free surface in the analytical solution.\n",
    "2. The error is extremely low everywhere else. We are seeing 6 to 13 digits of accuracy!\n",
    "3. The error is also higher near the fault, but we're still seeing almost 5 digits of accuracy. The discretization error is likely to be highest where the gradients in the solution are largest. The gradients are largest near the fault. This could be remedied by having a denser boundary grid near the fault."
   ]
  },
  {
   "cell_type": "code",
   "execution_count": null,
   "id": "e7ea0647",
   "metadata": {},
   "outputs": [],
   "source": [
    "s = 1.0\n",
    "analytical = (\n",
    "    -s\n",
    "    / (2 * np.pi)\n",
    "    * (\n",
    "        np.arctan(flat.pts[:,0] / (flat.pts[:,1] + 2.5))\n",
    "        - np.arctan(flat.pts[:,0] / (flat.pts[:,1] - 2.5))\n",
    "        - np.arctan(flat.pts[:,0] / (flat.pts[:,1] + 0.5))\n",
    "        + np.arctan(flat.pts[:,0] / (flat.pts[:,1] - 0.5))\n",
    "    )\n",
    ")\n",
    "\n",
    "plt.figure(figsize=(8, 4))\n",
    "plt.subplot(1, 2, 1)\n",
    "plt.plot(flat.pts[:,0], surf_disp, 'k-')\n",
    "plt.plot(flat.pts[:,0], analytical, 'b-')\n",
    "plt.xlabel(\"$x$\")\n",
    "plt.ylabel(\"$u_z$\")\n",
    "plt.title(\"Displacement\")\n",
    "\n",
    "plt.subplot(1, 2, 2)\n",
    "plt.plot(flat.pts[:,0], np.log10(np.abs(surf_disp - analytical)))\n",
    "plt.xlabel(\"$x$\")\n",
    "plt.ylabel(r\"$\\log_{10}|u_{\\textrm{BIE}} - u_{\\textrm{analytic}}|$\")\n",
    "plt.title(\"Error\")\n",
    "plt.tight_layout()\n",
    "plt.show()"
   ]
  },
  {
   "cell_type": "markdown",
   "id": "430b8b46",
   "metadata": {},
   "source": [
    "## Evaluating interior displacement"
   ]
  },
  {
   "cell_type": "code",
   "execution_count": null,
   "id": "9d64122d",
   "metadata": {
    "tags": []
   },
   "outputs": [],
   "source": [
    "nobs = 100\n",
    "zoomx = [-2.5, 2.5]\n",
    "zoomy = [-4.5, 0.5]\n",
    "xs = np.linspace(*zoomx, nobs)\n",
    "ys = np.linspace(*zoomy, nobs)\n",
    "obs_pts = pts_grid(xs, ys)"
   ]
  },
  {
   "cell_type": "markdown",
   "id": "9aa59557",
   "metadata": {},
   "source": [
    "Now that we have the surface displacement, we can return to the integral form of the interior displacement:\n",
    "\n",
    "\\begin{equation}\n",
    "u(\\mathbf{p}) = \\int_{H} \\frac{\\partial G}{\\partial n_q}(\\mathbf{p}, \\mathbf{q}) u(\\mathbf{q}) d\\mathbf{q} +\\int_{F} \\frac{\\partial G}{\\partial n_q}(\\mathbf{p}, \\mathbf{q}) s(\\mathbf{q}) d\\mathbf{q}\n",
    "\\end{equation}\n",
    "\n",
    "and, using QBX via the `interior_eval` function from the last section, directly calculate the two integrals on the right hand side. The integral over $H$ will be `disp_flat` and the integral over $F$ will be `disp_fault`."
   ]
  },
  {
   "cell_type": "code",
   "execution_count": null,
   "id": "3f40e0e8",
   "metadata": {
    "tags": []
   },
   "outputs": [],
   "source": [
    "fault_expansions = qbx_setup(fault, mult=5.0)\n",
    "\n",
    "disp_flat = interior_matrix(\n",
    "    double_layer_matrix,\n",
    "    flat_interp,\n",
    "    obs_pts,\n",
    "    flat_expansions\n",
    ").dot(Im).dot(surf_disp).reshape((nobs, nobs))\n",
    "\n",
    "disp_fault = interior_matrix(\n",
    "    double_layer_matrix,\n",
    "    fault,\n",
    "    obs_pts,\n",
    "    fault_expansions\n",
    ").dot(slip).reshape((nobs, nobs))\n",
    "\n",
    "disp_full = disp_flat + disp_fault"
   ]
  },
  {
   "cell_type": "code",
   "execution_count": null,
   "id": "6baf1dfc",
   "metadata": {
    "tags": []
   },
   "outputs": [],
   "source": [
    "levels = np.linspace(-0.5, 0.5, 11)\n",
    "cntf = plt.contourf(obsx, obsy, disp_full, levels=levels, extend=\"both\", cmap=\"bwr\")\n",
    "plt.contour(\n",
    "    obsx,\n",
    "    obsy,\n",
    "    disp_full,\n",
    "    colors=\"k\",\n",
    "    linestyles=\"-\",\n",
    "    linewidths=0.5,\n",
    "    levels=levels,\n",
    "    extend=\"both\",\n",
    ")\n",
    "plt.plot(flat.pts[:,0], flat.pts[:,1], \"k-\", linewidth=1.5)\n",
    "plt.plot(fault.pts[:,0], fault.pts[:,1], \"k-\", linewidth=1.5)\n",
    "plt.fill(np.array([np.min(zoomx), np.max(zoomx), np.max(zoomx), np.min(zoomx)]), np.array([0, 0, np.max(zoomy), np.max(zoomy)]), \"w\", zorder=100)\n",
    "\n",
    "plt.colorbar(cntf)\n",
    "plt.xlim(zoomx)\n",
    "plt.ylim(zoomy)\n",
    "plt.xlabel(\"$x \\; \\mathrm{(m)}$\")\n",
    "plt.ylabel(\"$y \\; \\mathrm{(m)}$\")\n",
    "plt.show()"
   ]
  },
  {
   "cell_type": "markdown",
   "id": "ce1172c2",
   "metadata": {},
   "source": [
    "## Adding topography"
   ]
  },
  {
   "cell_type": "markdown",
   "id": "6c6a6b7a",
   "metadata": {},
   "source": [
    "In the rest of this section, we'll replicate the calculation above except for a free surface with topography. The calculations will be identical except for the construction of the surface itself.\n",
    "\n",
    "First, I'll construct a mesh with a Gaussian shaped hill above the fault."
   ]
  },
  {
   "cell_type": "code",
   "execution_count": null,
   "id": "89a7f0c2",
   "metadata": {
    "tags": []
   },
   "outputs": [],
   "source": [
    "\n",
    "\n",
    "sp.Eq(sp.var(\"x,y\"), sp.Tuple(sym_x, sym_y))"
   ]
  },
  {
   "cell_type": "markdown",
   "id": "09c4f59b",
   "metadata": {},
   "source": [
    "I'll write a generic function here that can accept a parameterization of a curve and return the tuple of symbolic `(x, y, normal_x, normal_y, norm)`."
   ]
  },
  {
   "cell_type": "code",
   "execution_count": null,
   "id": "ae3cec30",
   "metadata": {
    "tags": []
   },
   "outputs": [],
   "source": [
    "def symbolic_surface(t, x, y):\n",
    "    dxdt = sp.diff(x, t)\n",
    "    dydt = sp.diff(y, t)\n",
    "\n",
    "    ddt_norm = sp.simplify(sp.sqrt(dxdt ** 2 + dydt ** 2))\n",
    "    dxdt /= ddt_norm\n",
    "    dydt /= ddt_norm\n",
    "    return x, y, -dydt, dxdt, ddt_norm\n",
    "\n",
    "\n",
    "sym_topo = symbolic_surface(sym_t, sym_x, sym_y)"
   ]
  },
  {
   "cell_type": "markdown",
   "id": "7ca6a2a3",
   "metadata": {},
   "source": [
    "Here are the symbolic normal vector and norm of the transformation."
   ]
  },
  {
   "cell_type": "markdown",
   "id": "23309376",
   "metadata": {},
   "source": [
    "I'll plot a quick diagram of the mesh and the surface normals."
   ]
  },
  {
   "cell_type": "code",
   "execution_count": null,
   "id": "0b147f20",
   "metadata": {
    "tags": []
   },
   "outputs": [],
   "source": [
    "import sympy as sp\n",
    "\n",
    "t = sp.symbols(\"t\")\n",
    "x = -surf_L * sym_t\n",
    "y = sp.exp(-(sym_t ** 2) * 200) * sp.Rational(2.0) - sp.Rational(2.0)\n",
    "\n",
    "qr_topo = gauss_rule(800)\n",
    "topo = discretize_symbolic_surface(*qr_topo, t, x, y)"
   ]
  },
  {
   "cell_type": "code",
   "execution_count": null,
   "id": "98b63b1b",
   "metadata": {
    "tags": []
   },
   "outputs": [],
   "source": [
    "plt.plot(topo.pts[:,0], topo.pts[:,1])\n",
    "plt.quiver(topo.pts[:,0], topo.pts[:,1], topo.normals[:,0], topo.normals[:,1], scale=20)\n",
    "plt.plot(fault.pts[:,0], fault.pts[:,1], 'r-')\n",
    "plt.xlim([-2.5, 2.5])\n",
    "plt.ylim([-3.5, 1.5])"
   ]
  },
  {
   "cell_type": "markdown",
   "id": "728d9c44",
   "metadata": {},
   "source": [
    "And let's follow the same procedure as before, we'll solve for the surface displacement. The shape doesn't look that different from before, but the peak surface displacements near the fault are a bit higher."
   ]
  },
  {
   "cell_type": "code",
   "execution_count": null,
   "id": "98262c58",
   "metadata": {
    "tags": []
   },
   "outputs": [],
   "source": [
    "topo_interp = interp_surface(topo, *gauss_rule(2 * topo.n_pts))\n",
    "topo_expansions = qbx_setup(topo, mult=5.0, direction=1, p=6)\n",
    "\n",
    "A_raw = self_interaction_matrix(double_layer_matrix, topo, topo_interp, topo_expansions)[0][:,0,:]\n",
    "Im = interp_matrix(build_interpolator(topo.quad_pts), topo_interp.quad_pts)\n",
    "A = A_raw.dot(Im)\n",
    "\n",
    "B = -double_layer_matrix(fault, topo.pts)[:, 0, :]\n",
    "rhs = B.dot(slip)\n",
    "lhs = np.eye(A.shape[0]) + A\n",
    "surf_disp_topo = np.linalg.solve(lhs, rhs)\n",
    "\n",
    "plt.plot(topo.pts[:,0], surf_disp_topo, \"k-\", label=\"Topography\")\n",
    "plt.plot(flat.pts[:,0], surf_disp, \"b-\", label=\"Flat\")\n",
    "plt.legend()\n",
    "plt.xlabel(\"$x$\")\n",
    "plt.ylabel(\"$u_z$\")\n",
    "plt.show()"
   ]
  },
  {
   "cell_type": "markdown",
   "id": "1a4c7887",
   "metadata": {},
   "source": [
    "## Interior displacement under topography"
   ]
  },
  {
   "cell_type": "code",
   "execution_count": null,
   "id": "0f62f883",
   "metadata": {
    "tags": []
   },
   "outputs": [],
   "source": [
    "nobs = 200\n",
    "zoomx = [-2.5, 2.5]\n",
    "zoomy = [-3.5, 1.5]\n",
    "xs = np.linspace(*zoomx, nobs)\n",
    "ys = np.linspace(*zoomy, nobs)\n",
    "obs_pts = pts_grid(xs, ys)"
   ]
  },
  {
   "cell_type": "markdown",
   "id": "ffb0686f",
   "metadata": {},
   "source": [
    "And finally, we'll plot the displacement in the volume underneath the topography. Just like the in the flat case. To show the effect of both integral terms, I've separated out the topography integral term and the fault integral term in the plots."
   ]
  },
  {
   "cell_type": "code",
   "execution_count": null,
   "id": "f7ee7935",
   "metadata": {
    "tags": []
   },
   "outputs": [],
   "source": [
    "disp_topo = interior_matrix(\n",
    "    double_layer_matrix,\n",
    "    topo_interp,\n",
    "    obs_pts,\n",
    "    topo_expansions\n",
    ").dot(Im).dot(surf_disp_topo).reshape((nobs, nobs))\n",
    "\n",
    "disp_fault = interior_matrix(\n",
    "    double_layer_matrix,\n",
    "    fault,\n",
    "    obs_pts,\n",
    "    fault_expansions\n",
    ").dot(slip).reshape((nobs, nobs))\n",
    "\n",
    "disp_full = disp_topo + disp_fault"
   ]
  },
  {
   "cell_type": "code",
   "execution_count": null,
   "id": "c2d90130",
   "metadata": {
    "tags": []
   },
   "outputs": [],
   "source": [
    "obsx = obs_pts[:,0].reshape((nobs, nobs))\n",
    "obsy = obs_pts[:,1].reshape((nobs, nobs))\n",
    "\n",
    "levels = np.linspace(-0.5, 0.5, 21)\n",
    "plt.figure(figsize=(16, 6))\n",
    "plt.subplot(1, 3, 1)\n",
    "cntf = plt.contourf(obsx, obsy, disp_topo, levels=levels, extend=\"both\", cmap=\"bwr\")\n",
    "plt.contour(\n",
    "    obsx,\n",
    "    obsy,\n",
    "    disp_topo,\n",
    "    colors=\"k\",\n",
    "    linestyles=\"-\",\n",
    "    linewidths=0.5,\n",
    "    levels=levels,\n",
    "    extend=\"both\",\n",
    ")\n",
    "plt.plot(topo.pts[:,0], topo.pts[:,1], \"k-\", linewidth=2.5)\n",
    "plt.plot(fault.pts[:,0], fault.pts[:,1], \"k-\", linewidth=2.5)\n",
    "fill_poly = np.append(topo.pts[:,0], np.array([np.min(topo.pts[:,0]), np.max(topo.pts[:,0])])), np.append(topo.pts[:,1], np.array([zoomy[1], zoomy[1]]))\n",
    "plt.fill(*fill_poly, \"w\", zorder=100)\n",
    "plt.colorbar(cntf, label=\"$u \\; (m)$\")\n",
    "plt.xlim(zoomx)\n",
    "plt.ylim(zoomy)\n",
    "plt.xticks(np.array([zoomx[0], 0, zoomx[1]]))\n",
    "plt.yticks(np.array([zoomy[0], -1, zoomy[1]]))\n",
    "plt.xlabel(\"$x ~ \\mathrm{(m)}$\")\n",
    "plt.ylabel(\"$y ~ \\mathrm{(m)}$\")\n",
    "plt.title(\"Surface displacement integral term\")\n",
    "\n",
    "plt.subplot(1, 3, 2)\n",
    "cntf = plt.contourf(obsx, obsy, disp_fault, levels=levels, extend=\"both\", cmap=\"bwr\")\n",
    "plt.contour(\n",
    "    obsx,\n",
    "    obsy,\n",
    "    disp_fault,\n",
    "    colors=\"k\",\n",
    "    linestyles=\"-\",\n",
    "    linewidths=0.5,\n",
    "    levels=levels,\n",
    "    extend=\"both\",\n",
    ")\n",
    "plt.plot(topo.pts[:,0], topo.pts[:,1], \"k-\", linewidth=2.5)\n",
    "plt.plot(fault.pts[:,0], fault.pts[:,1], \"k-\", linewidth=2.5)\n",
    "plt.fill(*fill_poly, \"w\", zorder=100)\n",
    "plt.colorbar(cntf, label=\"$u \\; (m)$\")\n",
    "plt.xlim(zoomx)\n",
    "plt.ylim(zoomy)\n",
    "plt.xticks(np.array([zoomx[0], 0, zoomx[1]]))\n",
    "plt.yticks(np.array([zoomy[0], -1, zoomy[1]]))\n",
    "plt.xlabel(\"$x ~ \\mathrm{(m)}$\")\n",
    "plt.ylabel(\"$y ~ \\mathrm{(m)}$\")\n",
    "plt.title(\"Fault slip integral term\")\n",
    "\n",
    "plt.subplot(1, 3, 3)\n",
    "cntf = plt.contourf(obsx, obsy, disp_topo + disp_fault, levels=levels, extend=\"both\", cmap=\"bwr\")\n",
    "plt.contour(\n",
    "    obsx,\n",
    "    obsy,\n",
    "    disp_topo + disp_fault,\n",
    "    colors=\"k\",\n",
    "    linestyles=\"-\",\n",
    "    linewidths=0.5,\n",
    "    levels=levels,\n",
    "    extend=\"both\",\n",
    ")\n",
    "plt.plot(topo.pts[:,0], topo.pts[:,1], \"k-\", linewidth=2.5)\n",
    "plt.plot(fault.pts[:,0], fault.pts[:,1], \"k-\", linewidth=2.5)\n",
    "plt.fill(*fill_poly, \"w\", zorder=100)\n",
    "plt.colorbar(cntf, label=\"$u \\; (m)$\")\n",
    "plt.xlim(zoomx)\n",
    "plt.ylim(zoomy)\n",
    "plt.xticks(np.array([zoomx[0], 0, zoomx[1]]))\n",
    "plt.yticks(np.array([zoomy[0], -1, zoomy[1]]))\n",
    "plt.xlabel(\"$x ~ \\mathrm{(m)}$\")\n",
    "plt.ylabel(\"$y ~ \\mathrm{(m)}$\")\n",
    "plt.title(\"Full displacement solution\")\n",
    "\n",
    "plt.tight_layout()\n",
    "plt.show()"
   ]
  }
 ],
 "metadata": {
  "jupytext": {
   "formats": "ipynb,md:myst"
  },
  "kernelspec": {
   "display_name": "Python 3",
   "language": "python",
   "name": "python3"
  }
 },
 "nbformat": 4,
 "nbformat_minor": 5
}
