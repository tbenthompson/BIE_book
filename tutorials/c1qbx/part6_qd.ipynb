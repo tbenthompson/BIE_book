{
 "cells": [
  {
   "cell_type": "code",
   "execution_count": null,
   "id": "49d70a33",
   "metadata": {
    "tags": [
     "remove-cell"
    ]
   },
   "outputs": [],
   "source": [
    "from tectosaur2.nb_config import setup\n",
    "\n",
    "setup()"
   ]
  },
  {
   "cell_type": "markdown",
   "id": "5a2cb5b6",
   "metadata": {},
   "source": [
    "# Quasidynamic rupture on a fault in an antiplane half space\n",
    "\n",
    "Previously, we built the infrastructure for solving for displacement and stress everywhere in the domain given slip on a fault in an antiplane half space. This time, we'll go a step further and simulate rate and state friction and slip on that fault. We'll consider the quasidynamic approximation where we use a zero-th order approximation to the stress changes caused by fault slip. We'll be solving [SCEC SEAS problem BP1-QD](https://strike.scec.org/cvws/seas/download/SEAS_BP1_QD.pdf). Click the link!\n",
    "\n",
    "For a bit more background on the ideas here, you could take a look at [my previous explanation of modeling a quasidynamic spring-block-slider](https://tbenthompson.com/post/block_slider/).\n",
    "\n",
    "TODO: \n",
    "- Write more of an overarching explanation"
   ]
  },
  {
   "cell_type": "code",
   "execution_count": null,
   "id": "be4651ab",
   "metadata": {},
   "outputs": [],
   "source": [
    "import sympy as sp\n",
    "import numpy as np\n",
    "import matplotlib.pyplot as plt\n",
    "from tectosaur2 import gauss_rule, refine_surfaces, integrate_term\n",
    "from tectosaur2.laplace2d import double_layer, hypersingular\n",
    "from tectosaur2.mesh import panelize_symbolic_surface"
   ]
  },
  {
   "cell_type": "markdown",
   "id": "7151cc78",
   "metadata": {},
   "source": [
    "To start, we'll build a heavily refined fault mesh and surface mesh. The surface mesh will be quite long to make sure that we're capturing the half space assumption."
   ]
  },
  {
   "cell_type": "code",
   "execution_count": null,
   "id": "c0d2d817",
   "metadata": {},
   "outputs": [],
   "source": [
    "surf_half_L = 10000000\n",
    "fault_bottom = 40000\n",
    "max_panel_length = 200\n",
    "shear_modulus = 3.2e10\n",
    "\n",
    "qx, qw = gauss_rule(5)\n",
    "t = sp.var(\"t\")\n",
    "\n",
    "edges = np.linspace(-1, 1, 401)\n",
    "panel_bounds = np.stack((edges[:-1],edges[1:]), axis=1)\n",
    "fault = panelize_symbolic_surface(\n",
    "    t, t * 0, fault_bottom * (t + 1) * -0.5,\n",
    "    panel_bounds,\n",
    "    qx, qw\n",
    ")\n",
    "\n",
    "free = refine_surfaces(\n",
    "    [\n",
    "        (t, -t * surf_half_L, 0 * t)  # free surface\n",
    "    ],\n",
    "    (qx, qw),\n",
    "    control_points = [\n",
    "        # nearfield surface panels and fault panels will be limited to 200m\n",
    "        # at 200m per panel, we have ~40m per solution node because the panels\n",
    "        # have 5 nodes each\n",
    "        (0, 0, 1.5 * fault_bottom, 200),\n",
    "        # farfield panels will be limited to 200000 m per panel at most\n",
    "        (0, 0, surf_half_L, 200000),\n",
    "    ]\n",
    ")\n",
    "print(\n",
    "    f\"The free surface mesh has {free.n_panels} panels with a total of {free.n_pts} points.\"\n",
    ")\n",
    "print(\n",
    "    f\"The fault mesh has {fault.n_panels} panels with a total of {fault.n_pts} points.\"\n",
    ")"
   ]
  },
  {
   "cell_type": "code",
   "execution_count": null,
   "id": "a63d696e",
   "metadata": {},
   "outputs": [],
   "source": [
    "plt.plot(free.pts[:,0]/1000, free.pts[:,1]/1000, 'k-')\n",
    "plt.plot(fault.pts[:,0]/1000, fault.pts[:,1]/1000, 'r-')\n",
    "plt.xlabel(r'$x ~ \\mathrm{(km)}$')\n",
    "plt.ylabel(r'$y ~ \\mathrm{(km)}$')\n",
    "plt.axis('scaled')\n",
    "plt.xlim([-100, 100])\n",
    "plt.ylim([-80, 20])\n",
    "plt.show()"
   ]
  },
  {
   "cell_type": "markdown",
   "id": "7f49e8ab",
   "metadata": {},
   "source": [
    "And, to start off the integration, we'll construct the operators necessary for solving for free surface displacement from fault slip."
   ]
  },
  {
   "cell_type": "code",
   "execution_count": null,
   "id": "25117207",
   "metadata": {},
   "outputs": [],
   "source": [
    "singularities = np.array(\n",
    "    [\n",
    "        [-surf_half_L, 0],\n",
    "        [surf_half_L, 0],\n",
    "        [0, 0],\n",
    "        [0, -fault_bottom],\n",
    "    ]\n",
    ")\n",
    "\n",
    "(free_disp_to_free_disp, fault_slip_to_free_disp), report = integrate_term(\n",
    "    double_layer, free.pts, free, fault, singularities=singularities, return_report=True\n",
    ")\n",
    "fault_slip_to_free_disp = fault_slip_to_free_disp[:, 0, :, 0]\n",
    "free_disp_solve_mat = (\n",
    "    np.eye(free_disp_to_free_disp.shape[0]) + free_disp_to_free_disp[:, 0, :, 0]\n",
    ")"
   ]
  },
  {
   "cell_type": "markdown",
   "id": "3608ae13",
   "metadata": {},
   "source": [
    "## Solving for fault traction given fault slip\n",
    "\n",
    "The previous section should have been familiar, but now we need to go a step further. The goal is to construct a single matrix that computes the fault tractions given an input fault slip distribution. This matrix will be used during each time step of our fault simulation.\n",
    "\n",
    "But because we're using fullspace Green's function, this matrix needs to include both the direct fault slip effect and the indirect effect that is mediated through the free surface. So, we're actually going to be composing several matrices together to get our final `total_fault_slip_to_fault_stress` matrix:\n",
    "* Combining `fault_slip_to_free_disp` and `free_disp_solve_mat`, we can compute the surface displacement given a fault slip distribution.\n",
    "* We will construct `free_disp_to_fault_stress` for computing the fault stress caused by a surface displacement field.\n",
    "* We also construct the direct fault slip effect matrix, `fault_slip_to_fault_stress`. \n",
    "\n",
    "Renaming these wordy matrix names to some simple letters:\n",
    "```\n",
    "A = fault_slip_to_fault_traction\n",
    "B = free_disp_to_fault_traction\n",
    "C = fault_slip_to_free_disp\n",
    "D = free_disp_solve_mat\n",
    "```\n",
    "we can write the full system:\n",
    "\n",
    "\\begin{bmatrix}\n",
    "   A & B \\\\\n",
    "   C & D\n",
    "\\end{bmatrix} \\begin{bmatrix} s \\\\ u \\end{bmatrix} = \\begin{bmatrix} t \\\\ 0 \\end{bmatrix}\n",
    "\n",
    "The second equation expands to the same linear system that we used before to solve for surface displacement: $u = -D^{-1}Cs$. Plugging that in, we get:\n",
    "\n",
    "\\begin{equation}\n",
    "t = As - BD^{-1}Cs = (A - BD^{-1}C)s\n",
    "\\end{equation}\n",
    "\n",
    "Thus, our goal matrix operator is $A - BD^{-1}C$ and we will name this `total_fault_slip_to_fault_traction`. You might recognize this as the [Schur complement](https://en.wikipedia.org/wiki/Schur_complement) of the matrix system above. We performed one of step of block matrix Gaussian elimination!"
   ]
  },
  {
   "cell_type": "code",
   "execution_count": null,
   "id": "0de04cec",
   "metadata": {},
   "outputs": [],
   "source": [
    "(free_disp_to_fault_stress, fault_slip_to_fault_stress), report = integrate_term(\n",
    "    hypersingular,\n",
    "    fault.pts,\n",
    "    free,\n",
    "    fault,\n",
    "    tol=1e-12,\n",
    "    singularities=singularities,\n",
    "    return_report=True,\n",
    ")\n",
    "fault_slip_to_fault_stress *= shear_modulus\n",
    "free_disp_to_fault_stress *= shear_modulus\n",
    "\n",
    "fault_slip_to_fault_traction = np.sum(\n",
    "    fault_slip_to_fault_stress[:,:,:,0] * fault.normals[:, :, None], axis=1\n",
    ")\n",
    "free_disp_to_fault_traction = np.sum(\n",
    "    free_disp_to_fault_stress[:,:,:,0] * fault.normals[:, :, None], axis=1\n",
    ")"
   ]
  },
  {
   "cell_type": "code",
   "execution_count": null,
   "id": "cc4ec79f",
   "metadata": {},
   "outputs": [],
   "source": [
    "A = -fault_slip_to_fault_traction\n",
    "B = -free_disp_to_fault_traction\n",
    "C = fault_slip_to_free_disp\n",
    "Dinv = np.linalg.inv(free_disp_solve_mat)\n",
    "\n",
    "total_fault_slip_to_fault_traction = A - B.dot(Dinv.dot(C))"
   ]
  },
  {
   "cell_type": "markdown",
   "id": "e9aea663",
   "metadata": {},
   "source": [
    "I'll just do a quick check to confirm that this operator is accurate:"
   ]
  },
  {
   "cell_type": "code",
   "execution_count": null,
   "id": "4b1ddd0a",
   "metadata": {},
   "outputs": [],
   "source": [
    "analytical_sd = -np.arctan(-fault_bottom / free.pts[:,0]) / np.pi\n",
    "numerical_sd = Dinv.dot(-C).sum(axis=1)\n",
    "rp = (fault.pts[:,1] + 1) ** 2\n",
    "analytical_ft = -(shear_modulus / (2 * np.pi)) * ((1.0 / (fault.pts[:,1] + fault_bottom)) - (1.0 / (fault.pts[:,1] - fault_bottom)))\n",
    "numerical_ft = total_fault_slip_to_fault_traction.sum(axis=1)\n",
    "plt.figure(figsize=(10,5))\n",
    "plt.subplot(1,2,1)\n",
    "plt.title('Stress error')\n",
    "plt.plot(fault.pts[:,1], np.log10(np.abs((numerical_ft - analytical_ft)/(analytical_ft))), 'b-')\n",
    "plt.xlim([-fault_bottom, 0])\n",
    "plt.xlabel('$\\mathrm{depth ~~ (m)}$')\n",
    "plt.ylabel('$\\log_{10}(|E_{\\sigma}|)$')\n",
    "plt.subplot(1,2,2)\n",
    "plt.title('Displacement error')\n",
    "plt.plot(free.pts[:,0], np.log10(np.abs(numerical_sd - analytical_sd)), 'b-')\n",
    "plt.xlim([-100000, 100000])\n",
    "plt.xlabel('$x ~~ \\mathrm{(m)}$')\n",
    "plt.ylabel('$\\log_{10}(|E_u|)$')\n",
    "plt.show()"
   ]
  },
  {
   "cell_type": "markdown",
   "id": "8e32c0ba",
   "metadata": {},
   "source": [
    "## Rate and state friction"
   ]
  },
  {
   "cell_type": "markdown",
   "id": "23a0305c",
   "metadata": {},
   "source": [
    "Okay, now that we've constructed the necessary boundary integral operators, we get to move on to describing the frictional behavior on the fault.\n",
    "\n",
    "#### TODO: Explain!!"
   ]
  },
  {
   "cell_type": "code",
   "execution_count": null,
   "id": "a46014e0",
   "metadata": {},
   "outputs": [],
   "source": [
    "siay = 31556952 # seconds in a year\n",
    "density = 2670  # rock density (kg/m^3)\n",
    "cs = np.sqrt(shear_modulus / density)  # Shear wave speed (m/s)\n",
    "eta = shear_modulus / (2 * cs)  # The radiation damping coefficient (kg / (m^2 * s))\n",
    "Vp = 1e-9  # Rate of plate motion\n",
    "sigma_n = 50e6  # Normal stress (Pa)\n",
    "\n",
    "# parameters describing \"a\", the coefficient of the direct velocity strengthening effect\n",
    "a0 = 0.01\n",
    "amax = 0.025\n",
    "fy = fault.pts[:, 1]\n",
    "H = 15000\n",
    "h = 3000\n",
    "fp_a = np.where(\n",
    "    fy > -H, a0, np.where(fy > -(H + h), a0 + (amax - a0) * (fy + H) / -h, amax)\n",
    ")\n",
    "\n",
    "# state-based velocity weakening effect\n",
    "fp_b = 0.015\n",
    "\n",
    "# state evolution length scale (m)\n",
    "fp_Dc = 0.008\n",
    "\n",
    "# baseline coefficient of friction\n",
    "fp_f0 = 0.6\n",
    "\n",
    "# if V = V0 and at steady state, then f = f0, units are m/s\n",
    "fp_V0 = 1e-6"
   ]
  },
  {
   "cell_type": "code",
   "execution_count": null,
   "id": "d5b91704",
   "metadata": {},
   "outputs": [],
   "source": [
    "plt.figure(figsize=(3, 5))\n",
    "plt.plot(fp_a, fy/1000, label='a')\n",
    "plt.plot(np.full(fy.shape[0], fp_b), fy/1000, label='b')\n",
    "plt.xlim([0, 0.03])\n",
    "plt.ylabel('depth')\n",
    "plt.legend()\n",
    "plt.show()"
   ]
  },
  {
   "cell_type": "markdown",
   "id": "92121bf9",
   "metadata": {},
   "source": [
    "First, a Python implementation of the quasidynamic shear stress equations. There are two components to a standard definition of rate and state friction:\n",
    "\n",
    "\\begin{align}\n",
    "\\tau_{qd} = F(V, \\theta)\\\\\n",
    "\\frac{d\\theta}{dt} = G(V, \\theta)\n",
    "\\end{align}\n",
    "\n",
    "where $F(V, \\theta)$ is the strength of friction, depending on slip rate and state and $G(V, \\theta)$ gives the state evolution. For $G$, we will use the aging law, given by the `aging_law` function below. \n",
    "\n",
    "We also need to relate the quasidynamic shear stress to the quasistatic shear stress:\n",
    "\\begin{equation}\n",
    "\\tau_{qd} = \\tau_{qs} - \\eta * V\n",
    "\\end{equation}\n",
    "which results in the full quasidynamic stress balance equation:\n",
    "\\begin{equation}\n",
    "\\tau_{qs} - \\eta * V - F(V, \\theta) = 0\n",
    "\\end{equation}\n",
    "The specific form we use here is  implemented below in the `qd_equation` function.\n",
    "\n",
    "At each time step, we'll need to compute the velocity, $V$ and the state derivative $d\\theta/dt$. Computing the state derivative is easy because it's directly given by the aging law. But, computing the velocity is harder because its only given implicitly in the frictional strength equation. The `solve_friction` function below implements Newton's method with a backtracking line search to solve the friction equation for the current velocity. The `qd_equation_dV` function implements the derivative of the stress balance with respect to velocity. This derivative is necessary for Newton's method."
   ]
  },
  {
   "cell_type": "code",
   "execution_count": null,
   "id": "f42cd25f",
   "metadata": {},
   "outputs": [],
   "source": [
    "# The regularized form of the aging law. \n",
    "def aging_law(fp_a, V, state):\n",
    "    return (fp_b * fp_V0 / fp_Dc) * (np.exp((fp_f0 - state) / fp_b) - (V / fp_V0))\n",
    "\n",
    "def qd_equation(fp_a, shear_stress, V, state):\n",
    "    # The regularized rate and state friction equation\n",
    "    F = sigma_n * fp_a * np.arcsinh(V / (2 * fp_V0) * np.exp(state / fp_a))\n",
    "    \n",
    "    # The full shear stress balance:\n",
    "    return shear_stress - eta * V - F\n",
    "\n",
    "def qd_equation_dV(fp_a, V, state):\n",
    "    # First calculate the derivative of the friction law with respect to velocity\n",
    "    # This is helpful for equation solving using Newton's method\n",
    "    expsa = np.exp(state / fp_a)\n",
    "    Q = (V * expsa) / (2 * fp_V0)\n",
    "    dFdV = fp_a * expsa * sigma_n / (2 * fp_V0 * np.sqrt(1 + Q * Q))\n",
    "\n",
    "    # The derivative of the full shear stress balance.\n",
    "    return -eta - dFdV\n",
    "\n",
    "\n",
    "def solve_friction(fp_a, shear, V_old, state, tol=1e-10):\n",
    "    V = V_old\n",
    "    max_iter = 150\n",
    "    for i in range(max_iter):\n",
    "        # Newton's method step!\n",
    "        f = qd_equation(fp_a, shear, V, state)\n",
    "        dfdv = qd_equation_dV(fp_a, V, state)\n",
    "        step = f / dfdv\n",
    "\n",
    "        # We know that slip velocity should not be negative so any step that\n",
    "        # would lead to negative slip velocities is \"bad\". In those cases, we\n",
    "        # cut the step size in half iteratively until the step is no longer\n",
    "        # bad. This is a backtracking line search.\n",
    "        while True:\n",
    "            bad = step > V\n",
    "            if np.any(bad):\n",
    "                step[bad] *= 0.5\n",
    "            else:\n",
    "                break\n",
    "\n",
    "        # Take the step and check if everything has converged.\n",
    "        Vn = V - step\n",
    "        if np.max(np.abs(step) / Vn) < tol:\n",
    "            break\n",
    "        V = Vn\n",
    "        if i == max_iter - 1:\n",
    "            raise Exception(\"Failed to converge.\")\n",
    "\n",
    "    # Return the solution and the number of iterations required.\n",
    "    return Vn, i"
   ]
  },
  {
   "cell_type": "markdown",
   "id": "5ea35c34",
   "metadata": {},
   "source": [
    "We'll also check $h^*$ which is the minimum length scale of an instability and $L_b$, the length scale of the rupture process zone. Both these length scales need to be well resolved by the fault discretization. Here we have approximately eight point within the process zone and almost 80 points within $h^*$."
   ]
  },
  {
   "cell_type": "code",
   "execution_count": null,
   "id": "b9ef9af1",
   "metadata": {},
   "outputs": [],
   "source": [
    "mesh_L = np.max(np.abs(np.diff(fault.pts[:, 1])))\n",
    "Lb = shear_modulus * fp_Dc / (sigma_n * fp_b)\n",
    "hstar = (np.pi * shear_modulus * fp_Dc) / (sigma_n * (fp_b - fp_a))\n",
    "mesh_L, Lb, np.min(hstar[hstar > 0])"
   ]
  },
  {
   "cell_type": "markdown",
   "id": "8956f62c",
   "metadata": {},
   "source": [
    "## Quasidynamic earthquake cycle derivatives"
   ]
  },
  {
   "cell_type": "markdown",
   "id": "957a0a2c",
   "metadata": {},
   "source": [
    "Let's set of the last few pieces to do a full earthquake cycle simulation:\n",
    "- initial conditions.\n",
    "- a function to put the pieces together and calculate the full system state at each time step, including the time derivatives of slip and frictional state.\n",
    "- the time stepping algorithm itself.\n",
    "\n",
    "First, **initial conditions**. This initial state is exactly as specified in the BP-1 description linked at the top:\n",
    "1. We solve for the steady frictional state at each point using `scipy.optimize.fsolve`. This is the initial state.\n",
    "2. We identify the value of shear stress that will result in steady plate rate slip rates in the deeper portions of the fault: `tau_amax`. This is the initial shear stress. \n",
    "3. The initial slip deficit is zero."
   ]
  },
  {
   "cell_type": "code",
   "execution_count": null,
   "id": "1544476b",
   "metadata": {},
   "outputs": [],
   "source": [
    "from scipy.optimize import fsolve\n",
    "import copy\n",
    "\n",
    "init_state_scalar = fsolve(lambda S: aging_law(fp_a, Vp, S), 0.7)[0]\n",
    "init_state = np.full(fault.n_pts, init_state_scalar)\n",
    "tau_amax = -qd_equation(amax, 0, Vp, init_state_scalar)\n",
    "\n",
    "init_traction = np.full(fault.n_pts, tau_amax)\n",
    "init_slip_deficit = np.zeros(fault.n_pts)\n",
    "init_conditions = np.concatenate((init_slip_deficit, init_state))"
   ]
  },
  {
   "cell_type": "markdown",
   "id": "ede2ee0c",
   "metadata": {},
   "source": [
    "Next, solving for system state. This ties the pieces together by:\n",
    "1. Solving for the quasistatic shear stress using the boundary integral matrices derived at the beginning of this notebook.\n",
    "2. Solving the rate and state friction equations for the slip rate.\n",
    "3. Calculating the state evolution using the aging law.\n",
    "\n",
    "The middle lines of `SystemState.calc` do these three steps. There's a bunch of other code surrounding those three lines in order to deal with invalid inputs and transform from slip to slip deficit."
   ]
  },
  {
   "cell_type": "code",
   "execution_count": null,
   "id": "658bdb45",
   "metadata": {},
   "outputs": [],
   "source": [
    "class SystemState:\n",
    "\n",
    "    V_old = np.full(fault.n_pts, Vp)\n",
    "    state = None\n",
    "\n",
    "    def calc(self, t, y, verbose=False):\n",
    "        # Separate the slip_deficit and state sub components of the \n",
    "        # time integration state.\n",
    "        slip_deficit = y[: init_slip_deficit.shape[0]]\n",
    "        state = y[init_slip_deficit.shape[0] :]\n",
    "\n",
    "        # If the state values are bad, then the adaptive integrator probably\n",
    "        # took a bad step.\n",
    "        if np.any((state < 0) | (state > 2.0)):\n",
    "            return False\n",
    "\n",
    "        # The big three lines solving for quasistatic shear stress, slip rate\n",
    "        # and state evolution\n",
    "        tau_qs = init_traction - total_fault_slip_to_fault_traction.dot(slip_deficit)\n",
    "        V = solve_friction(fp_a, tau_qs, self.V_old, state)[0]\n",
    "        dstatedt = aging_law(fp_a, V, state)\n",
    "        if not np.all(np.isfinite(V)):\n",
    "            return False\n",
    "        self.V_old = V\n",
    "\n",
    "        slip_deficit_rate = Vp - V\n",
    "        out = slip_deficit, state, tau_qs, V, slip_deficit_rate, dstatedt\n",
    "        self.state = out\n",
    "        return self.state\n",
    "\n",
    "\n",
    "def plot_system_state(t, SS, xlim=None):\n",
    "    \"\"\"This is just a helper function that creates some rough plots of the\n",
    "    current state to help with debugging\"\"\"\n",
    "    slip_deficit, state, tau_qs, V, slip_deficit_rate, dstatedt = SS\n",
    "    \n",
    "    slip = Vp * t - slip_deficit\n",
    "    \n",
    "    fd = -np.linalg.norm(fault.pts, axis=1)\n",
    "\n",
    "    plt.figure(figsize=(15, 9))\n",
    "    plt.suptitle(f't={t/siay}')\n",
    "    plt.subplot(3, 3, 1)\n",
    "    plt.title(\"slip\")\n",
    "    plt.plot(fd, slip)\n",
    "    plt.xlim(xlim)\n",
    "\n",
    "    plt.subplot(3, 3, 2)\n",
    "    plt.title(\"slip deficit\")\n",
    "    plt.plot(fd, slip_deficit)\n",
    "    plt.xlim(xlim)\n",
    "\n",
    "    # plt.subplot(3, 3, 2)\n",
    "    # plt.title(\"slip deficit rate\")\n",
    "    # plt.plot(fd, slip_deficit_rate)\n",
    "    # plt.xlim(xlim)\n",
    "\n",
    "    # plt.subplot(3, 3, 2)\n",
    "    # plt.title(\"strength\")\n",
    "    # plt.plot(fd, tau_qs/sigma_qs)\n",
    "    # plt.xlim(xlim)\n",
    "\n",
    "    plt.subplot(3, 3, 3)\n",
    "    plt.title(\"V\")\n",
    "    plt.plot(fd, V)\n",
    "    plt.xlim(xlim)\n",
    "\n",
    "    plt.subplot(3, 3, 5)\n",
    "    plt.title(r\"$\\tau_{qs}$\")\n",
    "    plt.plot(fd, tau_qs)\n",
    "    plt.xlim(xlim)\n",
    "\n",
    "    plt.subplot(3, 3, 6)\n",
    "    plt.title(\"state\")\n",
    "    plt.plot(fd, state)\n",
    "    plt.xlim(xlim)\n",
    "\n",
    "    plt.subplot(3, 3, 9)\n",
    "    plt.title(\"dstatedt\")\n",
    "    plt.plot(fd, dstatedt)\n",
    "    plt.xlim(xlim)\n",
    "    plt.tight_layout()\n",
    "\n",
    "\n",
    "    plt.show()\n",
    "\n",
    "\n",
    "def calc_derivatives(state, t, y):\n",
    "    \"\"\"\n",
    "    This helper function calculates the system state and then extracts the\n",
    "    relevant derivatives that the integrator needs. It also intentionally\n",
    "    returns infinite derivatives when the `y` vector provided by the integrator\n",
    "    is invalid.\n",
    "    \"\"\"\n",
    "    if not np.all(np.isfinite(y)):\n",
    "        return np.inf * y\n",
    "    state = state.calc(t, y)\n",
    "    if not state:\n",
    "        return np.inf * y\n",
    "    derivatives = np.concatenate((state[-2], state[-1]))\n",
    "    return derivatives"
   ]
  },
  {
   "cell_type": "markdown",
   "id": "a8fd8761",
   "metadata": {},
   "source": [
    "## Integrating through time"
   ]
  },
  {
   "cell_type": "code",
   "execution_count": null,
   "id": "63342fba",
   "metadata": {},
   "outputs": [],
   "source": [
    "%%time\n",
    "from scipy.integrate import RK45\n",
    "\n",
    "# We use a 5th order adaptive Runge Kutta method and pass the derivative function to it\n",
    "# the relative tolerance will be 1e-11 to make sure that even \n",
    "state = SystemState()\n",
    "derivs = lambda t, y: calc_derivatives(state, t, y)\n",
    "integrator = RK45\n",
    "atol = Vp * 1e-6\n",
    "rtol = 1e-11\n",
    "rk = integrator(derivs, 0, init_conditions, 1e50, atol=atol, rtol=rtol)\n",
    "\n",
    "# Set the initial time step to one day.\n",
    "rk.h_abs = 60 * 60 * 24\n",
    "\n",
    "# Integrate for 1000 years.\n",
    "max_T = 1000 * siay\n",
    "\n",
    "n_steps = 1000000\n",
    "t_history = [0]\n",
    "y_history = [init_conditions.copy()]\n",
    "for i in range(n_steps):\n",
    "    \n",
    "    # Take a time step and store the result\n",
    "    if rk.step() != None:\n",
    "        raise Exception(\"TIME STEPPING FAILED\")\n",
    "        break\n",
    "    t_history.append(rk.t)\n",
    "    y_history.append(rk.y.copy())\n",
    "\n",
    "    # Print the time every 5000 steps\n",
    "    if i % 5000 == 0:\n",
    "        print(f\"step={i}, time={rk.t / siay} yrs, step={(rk.t - t_history[-2]) / siay}\")\n",
    "    if rk.t > max_T:\n",
    "        break\n",
    "\n",
    "y_history = np.array(y_history)\n",
    "t_history = np.array(t_history)"
   ]
  },
  {
   "cell_type": "markdown",
   "id": "1a191070",
   "metadata": {},
   "source": [
    "## Plotting the results"
   ]
  },
  {
   "cell_type": "markdown",
   "id": "2a434f24",
   "metadata": {},
   "source": [
    "Now that we've solved for 1000 years of fault slip evolution, let's plot some of the results. I'll start with a super simple plot of the maximum log slip rate over time."
   ]
  },
  {
   "cell_type": "code",
   "execution_count": null,
   "id": "55363f7f",
   "metadata": {},
   "outputs": [],
   "source": [
    "derivs_history = np.diff(y_history, axis=0) / np.diff(t_history)[:, None]\n",
    "max_vel = np.max(np.abs(derivs_history), axis=1)\n",
    "plt.plot(t_history[1:] / siay, np.log10(max_vel))\n",
    "plt.xlabel('$t ~~ \\mathrm{(yrs)}$')\n",
    "plt.ylabel('$\\log_{10}(V)$')\n",
    "plt.show()"
   ]
  },
  {
   "cell_type": "markdown",
   "id": "32f248a5",
   "metadata": {},
   "source": [
    "And next, we'll make the classic plot showing the spatial distribution of slip over time:\n",
    "- the blue lines show interseismic slip evolution and are plotted every fifteen years\n",
    "- the red lines show evolution during rupture every three seconds."
   ]
  },
  {
   "cell_type": "code",
   "execution_count": null,
   "id": "96e96771",
   "metadata": {},
   "outputs": [],
   "source": [
    "plt.figure(figsize=(10, 4))\n",
    "last_plt_t = -1000\n",
    "last_plt_slip = init_slip_deficit\n",
    "event_times = []\n",
    "for i in range(len(y_history) - 1):\n",
    "    y = y_history[i]\n",
    "    t = t_history[i]\n",
    "    slip_deficit = y[: init_slip_deficit.shape[0]]\n",
    "    should_plot = False\n",
    "\n",
    "    # Plot a red line every three second if the slip rate is over 0.1 mm/s.\n",
    "    if (\n",
    "        max_vel[i] >= 0.0001 and t - last_plt_t > 3\n",
    "    ):\n",
    "        if len(event_times) == 0 or t - event_times[-1] > siay:\n",
    "            event_times.append(t)\n",
    "        should_plot = True\n",
    "        color = \"r\"\n",
    "    \n",
    "    # Plot a blue line every fifteen years during the interseismic period\n",
    "    if t - last_plt_t > 15 * siay:\n",
    "        should_plot = True\n",
    "        color = \"b\"\n",
    "\n",
    "    if should_plot:\n",
    "        # Convert from slip deficit to slip:\n",
    "        slip = -slip_deficit + Vp * t\n",
    "        plt.plot(slip, fy / 1000.0, color + \"-\", linewidth=0.5)\n",
    "        last_plt_t = t\n",
    "        last_plt_slip = slip\n",
    "plt.xlim([0, np.max(last_plt_slip)])\n",
    "plt.ylim([-40, 0])\n",
    "plt.ylabel(r\"$\\textrm{z (km)}$\")\n",
    "plt.xlabel(r\"$\\textrm{slip (m)}$\")\n",
    "plt.tight_layout()\n",
    "plt.savefig(\"halfspace.png\", dpi=300)\n",
    "plt.show()"
   ]
  },
  {
   "cell_type": "markdown",
   "id": "bc0ca523",
   "metadata": {},
   "source": [
    "And a plot of recurrence interval:"
   ]
  },
  {
   "cell_type": "code",
   "execution_count": null,
   "id": "be03222e",
   "metadata": {},
   "outputs": [],
   "source": [
    "plt.title(\"Recurrence interval\")\n",
    "plt.plot(np.diff(event_times) / siay, \"k-*\")\n",
    "plt.xticks(np.arange(0, 10, 1))\n",
    "plt.yticks(np.arange(75, 80, 0.5))\n",
    "plt.xlabel(\"Event number\")\n",
    "plt.ylabel(\"Time between events (yr)\")\n",
    "plt.show()"
   ]
  },
  {
   "cell_type": "markdown",
   "id": "ece88fcf",
   "metadata": {},
   "source": [
    "## Comparison against SCEC SEAS results"
   ]
  },
  {
   "cell_type": "markdown",
   "id": "8fa81e19",
   "metadata": {},
   "source": [
    "Finally, we will compare against the results reported as part of the SEAS project. Here, I've grabbed the time series for a point at 7500m depth on the fault from results produced by Junle Jiang.\n",
    "\n",
    "To compare, I grab the fault history for just the first event and then interpolate the values to a depth of exactly 7500m."
   ]
  },
  {
   "cell_type": "code",
   "execution_count": null,
   "id": "df8a82f0",
   "metadata": {},
   "outputs": [],
   "source": [
    "jiang_data = np.loadtxt(\"jiang7500.txt\")\n",
    "jiang_slip_rate = 10 ** jiang_data[:, 2]\n",
    "jiang_stress = jiang_data[:, 3]"
   ]
  },
  {
   "cell_type": "code",
   "execution_count": null,
   "id": "15ea0fda",
   "metadata": {},
   "outputs": [],
   "source": [
    "t_start_idx = np.argmax(max_vel > 1e-4)\n",
    "t_end_idx = np.argmax(max_vel[t_start_idx:] < 1e-6)\n",
    "n_steps = t_end_idx - t_start_idx\n",
    "t_chunk = t_history[t_start_idx : t_end_idx]"
   ]
  },
  {
   "cell_type": "code",
   "execution_count": null,
   "id": "93a9916d",
   "metadata": {},
   "outputs": [],
   "source": [
    "shear_chunk = []\n",
    "slip_rate_chunk = []\n",
    "for i in range(n_steps):\n",
    "    system_state = SystemState().calc(t_history[t_start_idx + i], y_history[t_start_idx + i])\n",
    "    slip_deficit, state, tau_qs, V, slip_deficit_rate, dstatedt = system_state\n",
    "    shear_chunk.append((tau_qs - eta * V))\n",
    "    slip_rate_chunk.append(V)\n",
    "shear_chunk = np.array(shear_chunk)\n",
    "slip_rate_chunk = np.array(slip_rate_chunk)"
   ]
  },
  {
   "cell_type": "code",
   "execution_count": null,
   "id": "0a45621d",
   "metadata": {},
   "outputs": [],
   "source": [
    "fault_idx = np.argmax((-7480 > fy) & (fy > -7500))\n",
    "VAvg = np.mean(slip_rate_chunk[:, fault_idx:(fault_idx+2)], axis=1)\n",
    "SAvg = np.mean(shear_chunk[:, fault_idx:(fault_idx+2)], axis=1)"
   ]
  },
  {
   "cell_type": "code",
   "execution_count": null,
   "id": "ba833fc8",
   "metadata": {},
   "outputs": [],
   "source": [
    "t_align = t_chunk[np.argmax(VAvg > 0.1)]\n",
    "jiang_t_align = np.argmax(jiang_slip_rate > 0.1)\n",
    "\n",
    "for lims in [(-1, 1), (-15, 30)]:\n",
    "    plt.figure(figsize=(12, 8))\n",
    "    plt.subplot(2, 1, 1)\n",
    "    plt.plot(t_chunk - t_align, SAvg / 1e6, \"k-o\", markersize=0.5, linewidth=0.5, label='here')\n",
    "    plt.plot(\n",
    "        jiang_data[:, 0] - jiang_data[jiang_t_align, 0],\n",
    "        jiang_stress,\n",
    "        \"b-*\",\n",
    "        markersize=0.5,\n",
    "        linewidth=0.5,\n",
    "        label='Jiang'\n",
    "    )\n",
    "    plt.legend()\n",
    "    plt.xlim(lims)\n",
    "    plt.xlabel(\"Time (s)\")\n",
    "    plt.ylabel(\"Shear Stress (MPa)\")\n",
    "    # plt.show()\n",
    "\n",
    "    plt.subplot(2, 1, 2)\n",
    "    plt.plot(t_chunk - t_align, VAvg, \"k-o\", markersize=0.5, linewidth=0.5, label='here')\n",
    "    plt.plot(\n",
    "        jiang_data[:, 0] - jiang_data[jiang_t_align, 0],\n",
    "        jiang_slip_rate[:],\n",
    "        \"b-*\",\n",
    "        markersize=0.5,\n",
    "        linewidth=0.5,\n",
    "        label='Jiang'\n",
    "    )\n",
    "    plt.legend()\n",
    "    plt.xlim(lims)\n",
    "    plt.xlabel(\"Time (s)\")\n",
    "    plt.ylabel(\"Slip rate (m/s)\")\n",
    "    plt.tight_layout()\n",
    "    plt.show()"
   ]
  },
  {
   "cell_type": "markdown",
   "id": "3a700ad6",
   "metadata": {},
   "source": [
    "Why don't the solutions match more precisely? I think the most likely answer is that the Jiang result is using a 3D model that is very long in the $z$ direction but not truly infinite like the antiplane model here."
   ]
  }
 ],
 "metadata": {
  "jupytext": {
   "formats": "ipynb,md:myst"
  },
  "kernelspec": {
   "display_name": "Python 3 (ipykernel)",
   "language": "python",
   "name": "python3"
  }
 },
 "nbformat": 4,
 "nbformat_minor": 5
}
