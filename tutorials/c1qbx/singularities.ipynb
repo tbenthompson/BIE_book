{
 "cells": [
  {
   "cell_type": "markdown",
   "id": "d0ab4f00",
   "metadata": {},
   "source": [
    "Things to do here:\n",
    "- show the difference between kappa=1 and kappa=2\n",
    "- look at the error estimates from one of the relevant papers. how does the estimate vary with distance from a singularity? with the order of the singularity? what if only the derivatives are singular?\n",
    "- maybe stage2 refinement should be modified near a singularity?\n",
    "\n",
    "Fault tips:\n",
    "- Identify or specify singularities and then make sure that the QBX and quadrature account for the singularities. This would be helpful for avoiding the need to have the sigmoid transition.\n",
    "- *Would it be useful to use an interpolation that includes the end points so that I can easily make sure that slip goes to zero at a fault tip?* --> I should test this!"
   ]
  },
  {
   "cell_type": "code",
   "execution_count": null,
   "id": "44648996",
   "metadata": {},
   "outputs": [],
   "source": [
    "from config import setup, import_and_display_fnc\n",
    "\n",
    "setup()"
   ]
  },
  {
   "cell_type": "code",
   "execution_count": null,
   "id": "adbd79fe",
   "metadata": {},
   "outputs": [],
   "source": [
    "import numpy as np\n",
    "import sympy as sp\n",
    "import matplotlib.pyplot as plt\n",
    "from common import (\n",
    "    gauss_rule,\n",
    "    qbx_matrix2,\n",
    "    single_layer_matrix,\n",
    "    double_layer_matrix,\n",
    "    adjoint_double_layer_matrix,\n",
    "    hypersingular_matrix,\n",
    "    stage1_refine,\n",
    "    qbx_panel_setup,\n",
    "    stage2_refine,\n",
    "    pts_grid,\n",
    ")"
   ]
  },
  {
   "cell_type": "code",
   "execution_count": null,
   "id": "e2a91309",
   "metadata": {},
   "outputs": [],
   "source": [
    "import quadpy\n",
    "\n",
    "def clencurt(n1):\n",
    "    \"\"\"Computes the Clenshaw Curtis quadrature nodes and weights\"\"\"\n",
    "    C = quadpy.c1.clenshaw_curtis(n1)\n",
    "    return (C.points, C.weights)"
   ]
  },
  {
   "cell_type": "code",
   "execution_count": null,
   "id": "fd160b28",
   "metadata": {},
   "outputs": [],
   "source": [
    "log(np.sqrt(2) * 0.001) / log(0.03125)"
   ]
  },
  {
   "cell_type": "code",
   "execution_count": null,
   "id": "eb6eb9cb",
   "metadata": {},
   "outputs": [],
   "source": [
    "panel_width = 0.125\n",
    "nq = 6\n",
    "t = sp.var(\"t\")\n",
    "fault, = stage1_refine([(t, t * 0, t)], gauss_rule(nq), control_points=[(0, 0, 1.0, panel_width)])\n",
    "fault_expansions, = qbx_panel_setup(\n",
    "    [fault], directions=[1], mult=0.5, singularities=np.array([[0,-1], [0,1]])\n",
    ")\n",
    "print(fault_expansions.pts[:,0])\n",
    "\n",
    "print(fault.n_panels, fault.n_pts)\n",
    "K = hypersingular_matrix\n",
    "#K = double_layer_matrix\n",
    "#K = single_layer_matrix\n",
    "M = qbx_matrix2(K, fault, fault.pts, fault_expansions, p=4)\n",
    "M2 = qbx_matrix2(K, fault, fault.pts, fault_expansions, p=5)\n",
    "\n",
    "plt.figure(figsize=(10,5))\n",
    "plt.subplot(1,2,1)\n",
    "plt.imshow(np.log10(np.abs((M - M2) / M))[:,0,:])\n",
    "plt.colorbar()\n",
    "plt.subplot(1,2,2)\n",
    "slip = np.cos(np.pi * 0.5 * fault.pts[:,1])\n",
    "slip_err = M.dot(slip) - M2.dot(slip)\n",
    "plt.plot(fault.pts[:,1], np.log10(np.abs(slip_err[:,0])), 'b-', label='cos')\n",
    "\n",
    "y = fault.pts[:,1]\n",
    "\n",
    "slip = np.ones_like(fault.pts[:,1])\n",
    "slip_err = M.dot(slip) - M2.dot(slip)\n",
    "plt.plot(fault.pts[:,1], np.log10(np.abs(slip_err[:,0])), 'r-', label='one')\n",
    "\n",
    "slip = 1 + np.cos(np.pi * fault.pts[:,1])\n",
    "slip_err = M.dot(slip) - M2.dot(slip)\n",
    "plt.plot(fault.pts[:,1], np.log10(np.abs(slip_err[:,0])), 'k-', label='1+cos')\n",
    "\n",
    "plt.legend()\n",
    "plt.tight_layout()\n",
    "plt.show()"
   ]
  },
  {
   "cell_type": "code",
   "execution_count": null,
   "id": "deb63ee6",
   "metadata": {},
   "outputs": [],
   "source": [
    "panel_width = 0.125\n",
    "nq = 6\n",
    "t = sp.var(\"t\")\n",
    "fault, = stage1_refine([(t, t * 0, t)], gauss_rule(nq), control_points=[(0, 0, 1.0, panel_width)])\n",
    "fault_expansions, = qbx_panel_setup(\n",
    "    [fault], directions=[1], mult=0.5, singularities=np.array([[0,-1], [0,1]])\n",
    ")\n",
    "print(fault_expansions.pts[:,0])\n",
    "\n",
    "print(fault.n_panels, fault.n_pts)\n",
    "K = hypersingular_matrix\n",
    "#K = double_layer_matrix\n",
    "#K = single_layer_matrix\n",
    "M = qbx_matrix2(K, fault, fault.pts, fault_expansions, p=4, kappa=10)\n",
    "M2 = qbx_matrix2(K, fault, fault.pts, fault_expansions, p=5, kappa=10)\n",
    "\n",
    "plt.figure(figsize=(10,10))\n",
    "plt.subplot(2,2,1)\n",
    "plt.imshow(np.log10(np.abs((M - M2) / M))[:,0,:])\n",
    "plt.colorbar()\n",
    "plt.subplot(2,2,2)\n",
    "slip_cos = np.cos(np.pi * 0.5 * fault.pts[:,1])\n",
    "slip_err = M.dot(slip_cos) - M2.dot(slip_cos)\n",
    "plt.plot(fault.pts[:,1], np.log10(np.abs(slip_err[:,0])), 'b-', label='cos')\n",
    "\n",
    "y = fault.pts[:,1]\n",
    "\n",
    "slip_ones = np.ones_like(fault.pts[:,1])\n",
    "slip_err = M.dot(slip_ones) - M2.dot(slip_ones)\n",
    "plt.plot(fault.pts[:,1], np.log10(np.abs(slip_err[:,0])), 'r-', label='one')\n",
    "\n",
    "slip_1cos = 1 + np.cos(np.pi * fault.pts[:,1])\n",
    "slip_err = M.dot(slip_1cos) - M2.dot(slip_1cos)\n",
    "plt.plot(fault.pts[:,1], np.log10(np.abs(slip_err[:,0])), 'k-', label='1+cos')\n",
    "plt.legend()\n",
    "\n",
    "plt.subplot(2,2,3)\n",
    "plt.plot(y, M2.dot(slip_ones)[:,0], 'r-', label='one')\n",
    "plt.plot(y, M2.dot(slip_cos)[:,0], 'b-', label='cos')\n",
    "plt.plot(y, M2.dot(slip_1cos)[:,0], 'k-', label='1+cos')\n",
    "plt.ylim([-1, 2])\n",
    "plt.legend()\n",
    "\n",
    "plt.tight_layout()\n",
    "plt.show()"
   ]
  },
  {
   "cell_type": "markdown",
   "id": "f4c04d30",
   "metadata": {},
   "source": [
    "## Convergence with r"
   ]
  },
  {
   "cell_type": "code",
   "execution_count": null,
   "id": "c944b91d",
   "metadata": {},
   "outputs": [],
   "source": [
    "panel_width = 0.75\n",
    "nq = 16\n",
    "t = sp.var(\"t\")\n",
    "fault, = stage1_refine([(t, t * 0, t)], gauss_rule(nq), control_points=[(0, 0, 1.0, panel_width)])\n",
    "fault_expansions, = qbx_panel_setup(\n",
    "    [fault], directions=[1], mult=0.5, singularities=np.array([[0,-1], [0,1]])\n",
    ")\n",
    "#print(fault_expansions.pts[:,0])\n",
    "\n",
    "print(fault.n_panels, fault.n_pts)\n",
    "K = hypersingular_matrix\n",
    "#K = double_layer_matrix\n",
    "#K = single_layer_matrix\n",
    "Ms = []\n",
    "\n",
    "M2 = qbx_matrix2(K, fault, fault.pts, fault_expansions, p=20, kappa=3)\n",
    "\n",
    "Ms = []\n",
    "for p in range(4, 20, 2):\n",
    "    M = qbx_matrix2(K, fault, fault.pts, fault_expansions, p=p, kappa=3)\n",
    "    Ms.append(M)"
   ]
  },
  {
   "cell_type": "code",
   "execution_count": null,
   "id": "ac39d9a9",
   "metadata": {},
   "outputs": [],
   "source": [
    "slip_errs = []\n",
    "svs = []\n",
    "for i in range(len(Ms)):\n",
    "    slip = np.ones_like(fault.pts[:,1])\n",
    "    #slip = np.cos(0.5 * np.pi * fault.pts[:,1])\n",
    "    #slip = 0.5 + 0.5 * np.cos(np.pi * fault.pts[:,1])\n",
    "    slip_err = Ms[i].dot(slip) - M2.dot(slip)\n",
    "    svs.append(Ms[i].dot(slip))\n",
    "    slip_errs.append(slip_err)\n",
    "    plt.plot(fault.pts[:,1], np.log10(np.abs(slip_err[:,0])), label=str(4 + 2 * i))\n",
    "#plt.xlim([-1.1, -0.7])\n",
    "plt.legend(loc='right')\n",
    "plt.tight_layout()\n",
    "plt.show()"
   ]
  },
  {
   "cell_type": "code",
   "execution_count": null,
   "id": "4cf6dd38",
   "metadata": {},
   "outputs": [],
   "source": [
    "np.array(svs)[:,-1,0]"
   ]
  },
  {
   "cell_type": "code",
   "execution_count": null,
   "id": "097a0e64",
   "metadata": {},
   "outputs": [],
   "source": [
    "np.array(slip_errs)[:,-1,0]"
   ]
  },
  {
   "cell_type": "code",
   "execution_count": null,
   "id": "4c24a44a",
   "metadata": {},
   "outputs": [],
   "source": [
    "np.array(svs)[:,-1,0]"
   ]
  },
  {
   "cell_type": "code",
   "execution_count": null,
   "id": "e6eb2bea",
   "metadata": {},
   "outputs": [],
   "source": [
    "np.array(slip_errs)[:,-1,0]"
   ]
  },
  {
   "cell_type": "markdown",
   "id": "0b899d43",
   "metadata": {},
   "source": [
    "## What if I use clenshaw-curtis and just set the endpoints to zero?"
   ]
  },
  {
   "cell_type": "code",
   "execution_count": null,
   "id": "7b5d4653",
   "metadata": {},
   "outputs": [],
   "source": [
    "panel_width = 0.125\n",
    "nq = 6\n",
    "t = sp.var(\"t\")\n",
    "qx, qw = clencurt(nq)\n",
    "fault, = stage1_refine([(t, t * 0, t)], (qx, qw), control_points=[(0, 0, 1.0, panel_width)])\n",
    "fault_expansions, = qbx_panel_setup(\n",
    "    [fault], directions=[1], mult=0.5, singularities=np.array([[0,-1], [0,1]])\n",
    ")\n",
    "print(fault_expansions.pts[:,0])\n",
    "\n",
    "print(fault.n_panels, fault.n_pts)\n",
    "K = hypersingular_matrix\n",
    "#K = double_layer_matrix\n",
    "#K = single_layer_matrix\n",
    "M = qbx_matrix2(K, fault, fault.pts, fault_expansions, p=8, kappa=10)\n",
    "M2 = qbx_matrix2(K, fault, fault.pts, fault_expansions, p=9, kappa=10)"
   ]
  },
  {
   "cell_type": "code",
   "execution_count": null,
   "id": "bd6c0ba8",
   "metadata": {},
   "outputs": [],
   "source": [
    "fault.panel_bounds"
   ]
  },
  {
   "cell_type": "code",
   "execution_count": null,
   "id": "2aea33a4",
   "metadata": {},
   "outputs": [],
   "source": [
    "plt.figure(figsize=(10,10))\n",
    "plt.subplot(2,2,1)\n",
    "plt.imshow(np.log10(np.abs((M - M2) / M))[:,0,:])\n",
    "plt.colorbar()\n",
    "plt.subplot(2,2,2)\n",
    "slip_cos = np.cos(np.pi * 0.5 * fault.pts[:,1])\n",
    "slip_err = M.dot(slip_cos) - M2.dot(slip_cos)\n",
    "plt.plot(fault.pts[:,1], np.log10(np.abs(slip_err[:,0])), 'b-', label='cos')\n",
    "\n",
    "y = fault.pts[:,1]\n",
    "\n",
    "slip_ones = np.ones_like(fault.pts[:,1])\n",
    "slip_ones[:nq] = 1 + (fault.pts[:nq,1] - fault.panel_bounds[0,1]) / (fault.panel_bounds[0, 1] - fault.panel_bounds[0,0])\n",
    "slip_ones[-nq:] = 1 - (fault.pts[-nq:,1] - fault.panel_bounds[-1,0]) / (fault.panel_bounds[-1, 1] - fault.panel_bounds[-1,0])\n",
    "slip_err = M.dot(slip_ones) - M2.dot(slip_ones)\n",
    "plt.plot(fault.pts[:,1], np.log10(np.abs(slip_err[:,0])), 'r-', label='one')\n",
    "\n",
    "def sigmoid(x0, W):\n",
    "    return 1.0 / (1 + np.exp((fault.pts[:, 1] - x0) / W))\n",
    "\n",
    "#slip_1cos = sigmoid(0.5, 0.05) - sigmoid(-0.5, 0.05)\n",
    "slip_1cos = 0.5 + 0.5 * np.cos(np.pi * fault.pts[:,1])\n",
    "slip_err = M.dot(slip_1cos) - M2.dot(slip_1cos)\n",
    "plt.plot(fault.pts[:,1], np.log10(np.abs(slip_err[:,0])), 'k-', label='1+cos')\n",
    "plt.legend()\n",
    "\n",
    "plt.subplot(2,2,3)\n",
    "plt.plot(y, M2.dot(slip_ones)[:,0], 'r-', label='one')\n",
    "plt.plot(y, M2.dot(slip_cos)[:,0], 'b-', label='cos')\n",
    "plt.plot(y, M2.dot(slip_1cos)[:,0], 'k-', label='1+cos')\n",
    "plt.ylim([-1, 2])\n",
    "plt.legend()\n",
    "plt.subplot(2,2,4)\n",
    "plt.plot(y, slip_ones, 'r-o', markersize=4.0, label='one')\n",
    "plt.plot(y, slip_cos, 'b-o', markersize=4.0, label='cos')\n",
    "plt.plot(y, slip_1cos, 'k-o', markersize=4.0, label='1+cos')\n",
    "plt.legend()\n",
    "\n",
    "plt.tight_layout()\n",
    "plt.show()"
   ]
  },
  {
   "cell_type": "code",
   "execution_count": null,
   "id": "d8a65efa",
   "metadata": {},
   "outputs": [],
   "source": [
    "\n",
    "\n",
    "\n",
    "\n"
   ]
  },
  {
   "cell_type": "code",
   "execution_count": null,
   "id": "9b3d4bf9",
   "metadata": {},
   "outputs": [],
   "source": [
    "nq = 256\n",
    "panel_width = 4.0\n",
    "\n",
    "qx, qw = gauss_rule(nq)\n",
    "#qx, qw = clencurt(nq)\n",
    "\n",
    "def trial(qx, qw, panel_width, f):\n",
    "    t = sp.var(\"t\")\n",
    "\n",
    "    cp = [(0, 0, 1.0, panel_width)]\n",
    "    fault, = stage1_refine([(t, t * 0, t)], (qx, qw), control_points=cp)\n",
    "\n",
    "    fault_expansions, = qbx_panel_setup([fault], directions=[0], p=10)\n",
    "\n",
    "    fault_slip_to_fault_stress = qbx_matrix2(\n",
    "        hypersingular_matrix, fault, fault.pts, fault_expansions\n",
    "    )\n",
    "\n",
    "#     from common import build_interpolator, interpolate_fnc\n",
    "#     slip = 1 - np.abs(qx)\n",
    "#     #slip[0] = 0\n",
    "#     #slip[-1] = 0\n",
    "#     evalx = np.linspace(-1, 1, 1000)\n",
    "#     evalslip = interpolate_fnc(build_interpolator(qx), slip, evalx)\n",
    "#     plt.plot(evalx, evalslip, 'k-')\n",
    "#     plt.show()\n",
    "\n",
    "    fy = fault.pts[:,1]\n",
    "    slip = f(fault.pts[:,1])#np.ones(fault.n_pts)\n",
    "#     slip[0] = 0\n",
    "#     slip[-1] = 0\n",
    "#     plt.plot(fy, slip)\n",
    "#     plt.show()\n",
    "    stress = fault_slip_to_fault_stress.dot(slip)\n",
    "    plt.plot(fy, stress[:,0], 'r-')\n",
    "    plt.plot(fy, stress[:,1], 'b-')\n",
    "    plt.show()"
   ]
  },
  {
   "cell_type": "code",
   "execution_count": null,
   "id": "b6e77d0e",
   "metadata": {},
   "outputs": [],
   "source": [
    "def f(y):\n",
    "    return np.cos(y * np.pi * 0.5)"
   ]
  },
  {
   "cell_type": "code",
   "execution_count": null,
   "id": "1c2f38b0",
   "metadata": {},
   "outputs": [],
   "source": [
    "trial(*gauss_rule(256), 4.0, f)\n",
    "\n",
    "trial(*gauss_rule(64), 4.0, f)\n",
    "\n",
    "trial(*gauss_rule(128), 1.0, f)\n",
    "\n",
    "trial(*gauss_rule(8), 1.0 / 8.0, f)\n",
    "\n",
    "trial(*gauss_rule(8), 1.0 / 16.0, f)"
   ]
  },
  {
   "cell_type": "code",
   "execution_count": null,
   "id": "1bc93b96",
   "metadata": {},
   "outputs": [],
   "source": [
    "def approach_test(obs_pts, slip):\n",
    "    panel_width = 0.24\n",
    "    nq = 16\n",
    "    fault, = stage1_refine([(t, t * 0, t)], gauss_rule(nq), control_points=[(0, 0, 1.0, panel_width)])\n",
    "    obs_pts.shape\n",
    "    V1 = hypersingular_matrix(fault, obs_pts).dot(slip(fault.pts[:,1]))[:,0]\n",
    "\n",
    "    panel_width = 0.12\n",
    "    nq = 32\n",
    "    fault, = stage1_refine([(t, t * 0, t)], gauss_rule(nq), control_points=[(0, 0, 1.0, panel_width)])\n",
    "    obs_pts.shape\n",
    "    V2 = hypersingular_matrix(fault, obs_pts).dot(slip(fault.pts[:,1]))[:,0]\n",
    "\n",
    "#     plt.plot(fault.pts[:,1], slip(fault.pts[:,1]))\n",
    "#     plt.show()\n",
    "\n",
    "    return V1 - V2"
   ]
  },
  {
   "cell_type": "code",
   "execution_count": null,
   "id": "c7add64a",
   "metadata": {},
   "outputs": [],
   "source": [
    "seq1 = []\n",
    "yvs = np.linspace(-1.1, 1.1, 23)\n",
    "for yv in yvs:\n",
    "    dist = 2.0 ** -np.arange(10)\n",
    "    obs_pts = np.stack((dist, np.full_like(dist, yv)), axis=1)\n",
    "    #print(approach_test(obs_pts, lambda x: np.cos(x * np.pi * 0.5)))\n",
    "    err = approach_test(obs_pts, lambda x: np.ones_like(x))\n",
    "    seq1.append(err[6])\n",
    "plt.plot(yvs, np.log10(np.abs(seq1)))\n",
    "plt.show()"
   ]
  },
  {
   "cell_type": "code",
   "execution_count": null,
   "id": "11d00cef",
   "metadata": {},
   "outputs": [],
   "source": [
    "seq = []\n",
    "yvs = np.linspace(-1.1, 1.1, 23)\n",
    "for yv in yvs:\n",
    "    dist = 2.0 ** -np.arange(10)\n",
    "    obs_pts = np.stack((dist, np.full_like(dist, yv)), axis=1)\n",
    "    #print(approach_test(obs_pts, lambda x: np.cos(x * np.pi * 0.5)))\n",
    "    err = approach_test(obs_pts, lambda x: np.cos(x * np.pi * 0.5))\n",
    "    seq.append(err[6])\n",
    "plt.plot(yvs, np.log10(np.abs(seq)), 'r-')\n",
    "plt.plot(yvs, np.log10(np.abs(seq1)), 'k-')\n",
    "plt.show()"
   ]
  }
 ],
 "metadata": {
  "jupytext": {
   "formats": "ipynb,md:myst"
  },
  "kernelspec": {
   "display_name": "Python 3",
   "language": "python",
   "name": "python3"
  }
 },
 "nbformat": 4,
 "nbformat_minor": 5
}
