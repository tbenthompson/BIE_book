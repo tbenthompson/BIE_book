{
 "cells": [
  {
   "cell_type": "code",
   "execution_count": 1,
   "id": "05cdd8ed",
   "metadata": {
    "tags": [
     "remove-cell"
    ]
   },
   "outputs": [],
   "source": [
    "from config import setup, import_and_display_fnc\n",
    "\n",
    "setup()"
   ]
  },
  {
   "cell_type": "markdown",
   "id": "ec16ff3c",
   "metadata": {},
   "source": [
    "# Fault-surface intersection and infinite free surfaces.\n",
    "\n",
    "**This is a very rough draft**\n",
    "\n",
    "In the last section, we constructed a method for solving for surface displacement on a free surface given antiplane slip on a fault beneath the free surface. However, the fault was not allowed to intersect the surface of the Earth. In fact, as we will demonstrate here, if the fault had intersected the surface, the surface displacement solution would have been very wrong! In this section, we will fix this problem!\n",
    "\n",
    "In addition, the last section compared against an analytical solution that assumes an infinite free surface. Unfortunately, we weren't able to match the analytical solution exactly because it's hard to approximate an infinite free surface. It would be easy to stop there and make a compelling argument that the numerical method is working just fine since the error was quite low away from the tips of the free surface. But that didn't leave me satisfied. I want to fit the arctan solution as exactly as possible!\n",
    "\n",
    "So, our goals in this section are to:\n",
    "1. Model a fault that intersects the surface of the Earth.\n",
    "2. Model an infinite free surface to the best of our ability.\n",
    "\n",
    "Both of these goals will lead to more general methods that are useful for a wide range of problems. In particular, modeling an infinite free surface will force us to implement some **adaptive meshing** tools that will be very useful for other problems where the spatial scale of interest varies widely through the domain."
   ]
  },
  {
   "cell_type": "code",
   "execution_count": null,
   "id": "6aae01d7",
   "metadata": {},
   "outputs": [],
   "source": [
    "import numpy as np\n",
    "import matplotlib.pyplot as plt\n",
    "from common import (\n",
    "    gauss_rule,\n",
    "    qbx_matrix,\n",
    "    symbolic_eval,\n",
    "    build_interp_matrix,\n",
    "    build_interpolator,\n",
    "    qbx_setup,\n",
    "    double_layer_matrix,\n",
    ")"
   ]
  },
  {
   "cell_type": "markdown",
   "id": "581c1ade",
   "metadata": {},
   "source": [
    "## Panels\n",
    "\n",
    "The key to solving both these problem will be to separate the surface into many smaller components that we will call \"panels\". Up until now, every surface we've dealt with has been parameterized with a single curve and then discretized using a single quadrature rule, either Gaussian or trapezoidal. Why does separating this single surface into subcomponents help?\n",
    "1. A Gaussian quadrature rule implicitly assumes that the function being integrated is smooth. However, at a fault-surface intersection, the surface displacement will actually be discontinuous! \n",
    "2. The resolution needed near the fault will be high. The resolution needed 100 fault lengths away from the fault trace is very low. So, we will need to have higher point density in some places than others. We will achieve this by refining some panels to be much smaller than others. \n",
    "\n",
    "[draft note] Explain the code below more."
   ]
  },
  {
   "cell_type": "code",
   "execution_count": null,
   "id": "b2bf0adb",
   "metadata": {},
   "outputs": [],
   "source": [
    "import_and_display_fnc('common', 'PanelSurface')\n",
    "import_and_display_fnc('common', 'panelize_symbolic_surface')\n",
    "import_and_display_fnc('common', 'build_panel_interp_matrix')"
   ]
  },
  {
   "cell_type": "markdown",
   "id": "1162c351",
   "metadata": {},
   "source": [
    "This next section will construct the free surface panelized surface `flat`. The `corner_resolution` specifies how large the panels will be near the fault-surface intersection. Away from that intersection, the panels will each be double the length of the prior panel, thus enabling the full surface to efficiently represent an effectively infinite free surface."
   ]
  },
  {
   "cell_type": "code",
   "execution_count": null,
   "id": "94fef643",
   "metadata": {},
   "outputs": [],
   "source": [
    "from common import Surface\n",
    "import sympy as sp\n",
    "\n",
    "corner_resolution = 0.5\n",
    "n_panels = 20\n",
    "\n",
    "# It seems that we need several \"small\" panels right near the fault-surface intersection!\n",
    "panels = [\n",
    "    (-3 * corner_resolution, -2 * corner_resolution),\n",
    "    (-2 * corner_resolution, -corner_resolution),\n",
    "    (-corner_resolution, 0),\n",
    "    (0, corner_resolution),\n",
    "    (corner_resolution, 2 * corner_resolution),\n",
    "    (2 * corner_resolution, 3 * corner_resolution),\n",
    "]\n",
    "for i in range(n_panels - len(panels)):\n",
    "    panel_start = panels[-1][1]\n",
    "    panel_end = panel_start + corner_resolution * (2 ** i)\n",
    "    panels.append((panel_start, panel_end))\n",
    "    panels.insert(0, (-panel_end, -panel_start))\n",
    "panels = np.array(panels)\n",
    "scaled_panels = panels / panels[-1][1]\n",
    "\n",
    "qx, qw = gauss_rule(16)\n",
    "qinterp = gauss_rule(96)\n",
    "t = sp.var(\"t\")\n",
    "\n",
    "flat = panelize_symbolic_surface(t, -panels[-1][1] * t, 0 * t, scaled_panels, qx, qw)\n",
    "flat_interp = panelize_symbolic_surface(\n",
    "    t, panels[-1][1] * t, 0 * t, scaled_panels, *qinterp\n",
    ")\n",
    "Im_flat = build_panel_interp_matrix(flat, flat_interp)"
   ]
  },
  {
   "cell_type": "markdown",
   "id": "6cd8dd0f",
   "metadata": {},
   "source": [
    "In the figure below, I plot $log_{10}(x)$ against the point index. You can see that the spacing of points is much finer near the fault surface intersection and rapidly increases away from the fault surface intersection."
   ]
  },
  {
   "cell_type": "code",
   "execution_count": null,
   "id": "f64193c8",
   "metadata": {},
   "outputs": [],
   "source": [
    "plt.plot(np.log10(np.abs(flat.pts[:,0])))\n",
    "plt.xlabel(r'$i$')\n",
    "plt.ylabel(r'$\\log_{10}(|x|)$')\n",
    "\n",
    "plt.show()"
   ]
  },
  {
   "cell_type": "markdown",
   "id": "5e1adf9e",
   "metadata": {},
   "source": [
    "We do a similar construction with the fault panels so that the density of quadrature points is much higher near the intersection."
   ]
  },
  {
   "cell_type": "code",
   "execution_count": null,
   "id": "75702d2f",
   "metadata": {},
   "outputs": [],
   "source": [
    "fault_top = -0.0\n",
    "fault_bottom = -1.0\n",
    "\n",
    "fault_panels = [\n",
    "    (0, 0.5 * corner_resolution),\n",
    "    (0.5 * corner_resolution, 1.0 * corner_resolution),\n",
    "    (1.0 * corner_resolution, 1.5 * corner_resolution),\n",
    "    (1.5 * corner_resolution, 2 * corner_resolution),\n",
    "]\n",
    "for i in range(100):\n",
    "    panel_start = fault_panels[-1][1]\n",
    "    panel_end = panel_start + 2 * corner_resolution * (2 ** i)\n",
    "    if panel_end > fault_bottom * 0.75:\n",
    "        panel_end = -fault_bottom\n",
    "    fault_panels.append((panel_start, panel_end))\n",
    "    panel_start = panel_end\n",
    "    if panel_end == -fault_bottom:\n",
    "        break\n",
    "fault_panels = np.array(fault_panels)\n",
    "scaled_fault_panels = 2 * ((fault_panels / fault_panels[-1][1]) - 0.5)\n",
    "fault = panelize_symbolic_surface(\n",
    "    t, 0 * t, -fault_panels[-1][1] * (t + 1) * 0.5, scaled_fault_panels, qx, qw\n",
    ")"
   ]
  },
  {
   "cell_type": "markdown",
   "id": "d324eb2a",
   "metadata": {},
   "source": [
    "Next, we need to carefully remove some of the QBX expansion centers. Because the expansion centers are offset towards the interior of the domain in the direction of the normal vector of the free surface, a few of them will be too close to the fault surface. We remove those. As a result, any evaluations in the corner will use the slightly farther away QBX expansion points. \n",
    "\n",
    "In the figure below, the QBX expansion centers are indicated in blue, while the expansion centers that we remove are indicated in red."
   ]
  },
  {
   "cell_type": "code",
   "execution_count": null,
   "id": "fac5bda1",
   "metadata": {},
   "outputs": [],
   "source": [
    "from common import QBXExpansions\n",
    "\n",
    "r = (\n",
    "    np.repeat((flat.panel_bounds[:, 1] - flat.panel_bounds[:, 0]), flat.panel_sizes)\n",
    "    * flat.jacobians\n",
    "    * 0.5\n",
    ")\n",
    "orig_expansions = qbx_setup(flat, direction=1, r=r, p=10)\n",
    "good = np.abs(orig_expansions.pts[:, 0]) > 0.30 * corner_resolution\n",
    "expansions = QBXExpansions(\n",
    "    orig_expansions.pts[good, :], orig_expansions.r[good], orig_expansions.p\n",
    ")\n",
    "\n",
    "plt.plot(expansions.pts[:, 0], expansions.pts[:, 1], \"b.\")\n",
    "plt.plot(orig_expansions.pts[~good, 0], orig_expansions.pts[~good, 1], \"r.\")\n",
    "plt.plot(flat.pts[:, 0], flat.pts[:, 1], \"k-\")\n",
    "plt.plot(fault.pts[:, 0], fault.pts[:, 1], \"k-\")\n",
    "plt.axis(\"equal\")\n",
    "plt.xlim([-corner_resolution, corner_resolution])\n",
    "plt.ylim([-3 * corner_resolution, corner_resolution])\n",
    "plt.xlabel(r'$x$')\n",
    "plt.ylabel(r'$y$')\n",
    "plt.show()"
   ]
  },
  {
   "cell_type": "markdown",
   "id": "0d9ce380",
   "metadata": {},
   "source": [
    "Note that despite extending out to 1000 fault lengths away from the fault trace, we are only using 672 points to describe the free surface solution."
   ]
  },
  {
   "cell_type": "code",
   "execution_count": null,
   "id": "e2126681",
   "metadata": {},
   "outputs": [],
   "source": [
    "print('number of points in the free surface discretization:', flat.n_pts)\n",
    "print('       number of points in the fault discretization:', fault.n_pts)"
   ]
  },
  {
   "cell_type": "code",
   "execution_count": null,
   "id": "05df221f",
   "metadata": {},
   "outputs": [],
   "source": [
    "A_raw = qbx_matrix(double_layer_matrix, flat_interp, flat.pts, expansions)[:, 0, :]\n",
    "A = A_raw.dot(Im_flat)"
   ]
  },
  {
   "cell_type": "code",
   "execution_count": null,
   "id": "5ce95504",
   "metadata": {},
   "outputs": [],
   "source": [
    "B = -qbx_matrix(double_layer_matrix, fault, flat.pts, expansions)[:, 0, :]"
   ]
  },
  {
   "cell_type": "code",
   "execution_count": null,
   "id": "3c778c01",
   "metadata": {},
   "outputs": [],
   "source": [
    "surf_disp = np.linalg.solve(np.eye(A.shape[0]) + A, B.dot(np.ones(fault.n_pts)))\n",
    "\n",
    "# Note that the analytical solution is slightly different than in the buried \n",
    "# fault setting because we need to take the limit of an arctan as the \n",
    "# denominator of the argument  goes to zero.\n",
    "s = 1.0\n",
    "analytical = (\n",
    "    -s\n",
    "    / (2 * np.pi)\n",
    "    * (\n",
    "        np.arctan(flat.pts[:, 0] / (flat.pts[:, 1] - fault_bottom))\n",
    "        - np.arctan(flat.pts[:, 0] / (flat.pts[:, 1] + fault_bottom))\n",
    "        - np.pi * np.sign(flat.pts[:, 0])\n",
    "    )\n",
    ")"
   ]
  },
  {
   "cell_type": "markdown",
   "id": "3759c5c2",
   "metadata": {},
   "source": [
    "In the first row of graphs below, I show the solution extending to 10 fault lengths. In the second row, the solution extends to 1000 fault lengths. You can see that the solution matches to about 6 digits in the nearfield and 7-9 digits in the very farfield!"
   ]
  },
  {
   "cell_type": "code",
   "execution_count": null,
   "id": "01e72538",
   "metadata": {},
   "outputs": [],
   "source": [
    "for XV in [10.0, 1000.0]:\n",
    "    # XV = 5 * corner_resolution\n",
    "    plt.figure(figsize=(12, 6))\n",
    "    plt.subplot(1, 2, 1)\n",
    "    plt.plot(flat.pts[:, 0], surf_disp, \"ko\")\n",
    "    plt.plot(flat.pts[:, 0], analytical, \"bo\")\n",
    "    plt.xlabel(\"$x$\")\n",
    "    plt.ylabel(\"$u_z$\")\n",
    "    plt.title(\"Displacement\")\n",
    "    plt.xlim([-XV, XV])\n",
    "    plt.ylim([-0.6, 0.6])\n",
    "\n",
    "    plt.subplot(1, 2, 2)\n",
    "    plt.plot(flat.pts[:, 0], np.log10(np.abs(surf_disp - analytical)))\n",
    "    plt.xlabel(\"$x$\")\n",
    "    plt.ylabel(r\"$\\log_{10}|u_{\\textrm{BIE}} - u_{\\textrm{analytic}}|$\")\n",
    "    plt.title(\"Error (number of digits of accuracy)\")\n",
    "    plt.tight_layout()\n",
    "    plt.xlim([-XV, XV])\n",
    "    plt.show()"
   ]
  }
 ],
 "metadata": {
  "jupytext": {
   "formats": "ipynb,md:myst",
   "text_representation": {
    "extension": ".md",
    "format_name": "myst",
    "format_version": 0.13,
    "jupytext_version": "1.10.3"
   }
  },
  "kernelspec": {
   "display_name": "Python 3",
   "language": "python",
   "name": "python3"
  },
  "language_info": {
   "codemirror_mode": {
    "name": "ipython",
    "version": 3
   },
   "file_extension": ".py",
   "mimetype": "text/x-python",
   "name": "python",
   "nbconvert_exporter": "python",
   "pygments_lexer": "ipython3",
   "version": "3.9.5"
  },
  "widgets": {
   "application/vnd.jupyter.widget-state+json": {
    "state": {},
    "version_major": 2,
    "version_minor": 0
   }
  }
 },
 "nbformat": 4,
 "nbformat_minor": 5
}
