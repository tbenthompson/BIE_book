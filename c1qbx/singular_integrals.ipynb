{
 "cells": [
  {
   "cell_type": "code",
   "execution_count": 192,
   "id": "9535ae04",
   "metadata": {},
   "outputs": [],
   "source": [
    "from sage.all import *\n",
    "import pickle\n",
    "\n",
    "sx, sy = var('sx, sy')\n",
    "\n",
    "ox, oy = var('ox, oy')\n",
    "\n",
    "dx = ox - sx\n",
    "dy = oy - sy\n",
    "r2 = (dx ** 2) + (dy ** 2)\n",
    "\n",
    "r = sqrt(r2)\n",
    "G = (1 / (2 * pi)) * log(r)"
   ]
  },
  {
   "cell_type": "code",
   "execution_count": 193,
   "id": "d7c47a7d",
   "metadata": {},
   "outputs": [],
   "source": [
    "forget()\n",
    "assume(sy-oy>0)\n",
    "assume(sy > 0)\n",
    "assume(sy < 1)\n",
    "Ia = integral(G, sx, -1, 1)"
   ]
  },
  {
   "cell_type": "code",
   "execution_count": 194,
   "id": "10c74c2b",
   "metadata": {},
   "outputs": [
    {
     "data": {
      "text/plain": [
       "-1/4*(2*(oy - sy)*arctan(-(ox + 1)/(oy - sy)) - 2*(oy - sy)*arctan(-(ox - 1)/(oy - sy)) - ox*log(abs(ox^2 + oy^2 - 2*oy*sy + sy^2 + 2*ox + 1)) + ox*log(abs(ox^2 + oy^2 - 2*oy*sy + sy^2 - 2*ox + 1)) - log(ox^2 + oy^2 - 2*oy*sy + sy^2 + 2*ox + 1) - log(ox^2 + oy^2 - 2*oy*sy + sy^2 - 2*ox + 1) + 4)/pi"
      ]
     },
     "execution_count": 194,
     "metadata": {},
     "output_type": "execute_result"
    }
   ],
   "source": [
    "integral(Ia, sy, -1, 1)"
   ]
  },
  {
   "cell_type": "code",
   "execution_count": 127,
   "id": "de6a4248",
   "metadata": {},
   "outputs": [],
   "source": [
    "def compute(f):\n",
    "\n",
    "    integrand = G * f\n",
    "    print('integrand', integrand)\n",
    "    \n",
    "    # The opposite assumption that `sy - oy < 0` results in the same solution\n",
    "    # so this is sufficient.\n",
    "    forget()\n",
    "    assume(sy-oy>0)\n",
    "    assume(sy < 1)\n",
    "    assume(sy > -1)\n",
    "    Ia = integral(integrand, sx, -1, 1)\n",
    "    print('sx integral', Ia)\n",
    "    \n",
    "    assume(ox < 1)\n",
    "    assume(ox > -1)\n",
    "    assume(oy > -1)\n",
    "    coincident = integral(Ia, sy, -1, 1)\n",
    "    print('coincident', coincident)\n",
    "    \n",
    "    forget()\n",
    "    # Integrating in any zone entirely outside the source region seems to give the same solution.\n",
    "    assume(ox > 1)\n",
    "    assume(oy > 1)\n",
    "    nearfield = integral(Ia, sy, -1, 1)\n",
    "    print('nearfield', nearfield)\n",
    "    \n",
    "    return coincident, nearfield"
   ]
  },
  {
   "cell_type": "code",
   "execution_count": 11,
   "id": "afe7a789",
   "metadata": {},
   "outputs": [
    {
     "name": "stdout",
     "output_type": "stream",
     "text": [
      "integrand 1/2*(sx - 1)*(sy - 1)*log(sqrt((ox - sx)^2 + (oy - sy)^2))/pi\n",
      "sx integral -1/8*(4*((ox - 1)*oy - (ox - 1)*sy)*arctan(-(ox + 1)/(oy - sy)) - 4*((ox - 1)*oy - (ox - 1)*sy)*arctan(-(ox - 1)/(oy - sy)) - (ox^2 - oy^2 + 2*oy*sy - sy^2 - 2*ox)*log(abs(ox^2 + oy^2 - 2*oy*sy + sy^2 + 2*ox + 1)) + (ox^2 - oy^2 + 2*oy*sy - sy^2 - 2*ox)*log(abs(ox^2 + oy^2 - 2*oy*sy + sy^2 - 2*ox + 1)) + 4*ox + 3*log(ox^2 + oy^2 - 2*oy*sy + sy^2 + 2*ox + 1) + log(ox^2 + oy^2 - 2*oy*sy + sy^2 - 2*ox + 1) - 8)*(sy - 1)/pi\n",
      "coincident 1/96*(16*pi*ox*oy^3 - 48*pi*ox*oy^2 - 16*pi*oy^3 + 8*((ox - 1)*arctan((oy - 1)/(ox + 1)) - (ox - 1)*arctan((oy - 1)/(ox - 1)))*oy^3 + 48*pi*oy^2 - 24*((ox - 1)*arctan((oy - 1)/(ox + 1)) - (ox - 1)*arctan((oy - 1)/(ox - 1)))*oy^2 - 8*(3*(ox - 1)*arctan((ox + 1)/(oy - 1)) - 3*(ox - 1)*arctan((ox - 1)/(oy - 1)) + (ox^3 - 3*ox^2 - 9*ox - 5)*arctan((oy - 1)/(ox + 1)) - (ox^3 - 3*ox^2 + 3*ox - 1)*arctan((oy - 1)/(ox - 1)) - ox - 4)*oy + 8*(ox + 4)*oy - 8*(9*(ox - 1)*oy + 5*ox - 5)*arctan((ox + 1)/(oy + 1)) + 8*(9*(ox - 1)*oy + 5*ox - 5)*arctan((ox - 1)/(oy + 1)) - 8*((ox - 1)*oy^3 + ox^3 - 3*(ox - 1)*oy^2 - 3*ox^2 - (ox^3 - 3*ox^2 - 9*ox - 5)*oy - 9*ox - 5)*arctan((oy + 1)/(ox + 1)) + 8*((ox - 1)*oy^3 + ox^3 - 3*(ox - 1)*oy^2 - 3*ox^2 - (ox^3 - 3*ox^2 + 3*ox - 1)*oy + 3*ox - 1)*arctan((oy + 1)/(ox - 1)) + 8*(ox - 1)*arctan((ox + 1)/(oy - 1)) - 8*(ox - 1)*arctan((ox - 1)/(oy - 1)) + 8*(ox^3 - 3*ox^2 - 9*ox - 5)*arctan((oy - 1)/(ox + 1)) - 8*(ox^3 - 3*ox^2 + 3*ox - 1)*arctan((oy - 1)/(ox - 1)) - (ox^4 + oy^4 - 4*ox^3 - 6*(ox^2 - 2*ox)*oy^2 - 4*oy^3 + 4*(3*ox^2 - 6*ox - 14)*oy - 56*ox - 14)*log(abs(ox^2 + oy^2 + 2*ox + 2*oy + 2)) + (ox^4 + oy^4 - 4*ox^3 - 6*(ox^2 - 2*ox - 4)*oy^2 - 4*oy^3 - 24*ox^2 + 4*(3*ox^2 - 6*ox - 10)*oy - 8*ox - 6)*log(abs(ox^2 + oy^2 + 2*ox - 2*oy + 2)) + (ox^4 + oy^4 - 4*ox^3 - 6*(ox^2 - 2*ox + 4)*oy^2 - 4*oy^3 + 24*ox^2 + 4*(3*ox^2 - 6*ox - 2)*oy - 40*ox - 6)*log(abs(ox^2 + oy^2 - 2*ox + 2*oy + 2)) - (ox^4 + oy^4 - 4*ox^3 - 6*(ox^2 - 2*ox)*oy^2 - 4*oy^3 + 4*(3*ox^2 - 6*ox + 2)*oy + 8*ox + 2)*log(abs(ox^2 + oy^2 - 2*ox - 2*oy + 2)) + 64*ox + 54*log(ox^2 + oy^2 + 2*ox + 2*oy + 2) + 18*log(ox^2 + oy^2 + 2*ox - 2*oy + 2) + 18*log(ox^2 + oy^2 - 2*ox + 2*oy + 2) + 6*log(ox^2 + oy^2 - 2*ox - 2*oy + 2) - 288)/pi\n",
      "nearfield 1/96*(8*ox^3*oy*arctan((oy + 1)/(ox + 1)) - 8*ox*oy^3*arctan((oy + 1)/(ox + 1)) - 8*ox^3*oy*arctan((oy + 1)/(ox - 1)) + 8*ox*oy^3*arctan((oy + 1)/(ox - 1)) - 8*ox^3*oy*arctan((oy - 1)/(ox + 1)) + 8*ox*oy^3*arctan((oy - 1)/(ox + 1)) + 8*ox^3*oy*arctan((oy - 1)/(ox - 1)) - 8*ox*oy^3*arctan((oy - 1)/(ox - 1)) - ox^4*log(ox^2 + oy^2 + 2*ox + 2*oy + 2) + 6*ox^2*oy^2*log(ox^2 + oy^2 + 2*ox + 2*oy + 2) - oy^4*log(ox^2 + oy^2 + 2*ox + 2*oy + 2) + ox^4*log(abs(ox^2 + oy^2 + 2*ox - 2*oy + 2)) - 6*ox^2*oy^2*log(abs(ox^2 + oy^2 + 2*ox - 2*oy + 2)) + oy^4*log(abs(ox^2 + oy^2 + 2*ox - 2*oy + 2)) + ox^4*log(abs(ox^2 + oy^2 - 2*ox + 2*oy + 2)) - 6*ox^2*oy^2*log(abs(ox^2 + oy^2 - 2*ox + 2*oy + 2)) + oy^4*log(abs(ox^2 + oy^2 - 2*ox + 2*oy + 2)) - ox^4*log(abs(ox^2 + oy^2 - 2*ox - 2*oy + 2)) + 6*ox^2*oy^2*log(abs(ox^2 + oy^2 - 2*ox - 2*oy + 2)) - oy^4*log(abs(ox^2 + oy^2 - 2*ox - 2*oy + 2)) - 8*ox^3*arctan((oy + 1)/(ox + 1)) - 24*ox^2*oy*arctan((oy + 1)/(ox + 1)) + 24*ox*oy^2*arctan((oy + 1)/(ox + 1)) + 8*oy^3*arctan((oy + 1)/(ox + 1)) + 8*ox^3*arctan((oy + 1)/(ox - 1)) + 24*ox^2*oy*arctan((oy + 1)/(ox - 1)) - 24*ox*oy^2*arctan((oy + 1)/(ox - 1)) - 8*oy^3*arctan((oy + 1)/(ox - 1)) + 8*ox^3*arctan((oy - 1)/(ox + 1)) + 24*ox^2*oy*arctan((oy - 1)/(ox + 1)) - 24*ox*oy^2*arctan((oy - 1)/(ox + 1)) - 8*oy^3*arctan((oy - 1)/(ox + 1)) - 8*ox^3*arctan((oy - 1)/(ox - 1)) - 24*ox^2*oy*arctan((oy - 1)/(ox - 1)) + 24*ox*oy^2*arctan((oy - 1)/(ox - 1)) + 8*oy^3*arctan((oy - 1)/(ox - 1)) + 4*ox^3*log(ox^2 + oy^2 + 2*ox + 2*oy + 2) - 12*ox^2*oy*log(ox^2 + oy^2 + 2*ox + 2*oy + 2) - 12*ox*oy^2*log(ox^2 + oy^2 + 2*ox + 2*oy + 2) + 4*oy^3*log(ox^2 + oy^2 + 2*ox + 2*oy + 2) - 4*ox^3*log(abs(ox^2 + oy^2 + 2*ox - 2*oy + 2)) + 12*ox^2*oy*log(abs(ox^2 + oy^2 + 2*ox - 2*oy + 2)) + 12*ox*oy^2*log(abs(ox^2 + oy^2 + 2*ox - 2*oy + 2)) - 4*oy^3*log(abs(ox^2 + oy^2 + 2*ox - 2*oy + 2)) - 4*ox^3*log(abs(ox^2 + oy^2 - 2*ox + 2*oy + 2)) + 12*ox^2*oy*log(abs(ox^2 + oy^2 - 2*ox + 2*oy + 2)) + 12*ox*oy^2*log(abs(ox^2 + oy^2 - 2*ox + 2*oy + 2)) - 4*oy^3*log(abs(ox^2 + oy^2 - 2*ox + 2*oy + 2)) + 4*ox^3*log(abs(ox^2 + oy^2 - 2*ox - 2*oy + 2)) - 12*ox^2*oy*log(abs(ox^2 + oy^2 - 2*ox - 2*oy + 2)) - 12*ox*oy^2*log(abs(ox^2 + oy^2 - 2*ox - 2*oy + 2)) + 4*oy^3*log(abs(ox^2 + oy^2 - 2*ox - 2*oy + 2)) - 72*ox*oy*arctan((ox + 1)/(oy + 1)) + 72*ox*oy*arctan((ox - 1)/(oy + 1)) + 24*ox^2*arctan((oy + 1)/(ox + 1)) - 72*ox*oy*arctan((oy + 1)/(ox + 1)) - 24*oy^2*arctan((oy + 1)/(ox + 1)) - 24*ox^2*arctan((oy + 1)/(ox - 1)) - 24*ox*oy*arctan((oy + 1)/(ox - 1)) + 24*oy^2*arctan((oy + 1)/(ox - 1)) - 24*ox*oy*arctan((ox + 1)/(oy - 1)) + 24*ox*oy*arctan((ox - 1)/(oy - 1)) - 24*ox^2*arctan((oy - 1)/(ox + 1)) + 72*ox*oy*arctan((oy - 1)/(ox + 1)) + 24*oy^2*arctan((oy - 1)/(ox + 1)) + 24*ox^2*arctan((oy - 1)/(ox - 1)) + 24*ox*oy*arctan((oy - 1)/(ox - 1)) - 24*oy^2*arctan((oy - 1)/(ox - 1)) + 24*ox*oy*log(ox^2 + oy^2 + 2*ox + 2*oy + 2) - 24*ox^2*log(abs(ox^2 + oy^2 + 2*ox - 2*oy + 2)) - 24*ox*oy*log(abs(ox^2 + oy^2 + 2*ox - 2*oy + 2)) + 24*oy^2*log(abs(ox^2 + oy^2 + 2*ox - 2*oy + 2)) + 24*ox^2*log(abs(ox^2 + oy^2 - 2*ox + 2*oy + 2)) - 24*ox*oy*log(abs(ox^2 + oy^2 - 2*ox + 2*oy + 2)) - 24*oy^2*log(abs(ox^2 + oy^2 - 2*ox + 2*oy + 2)) + 24*ox*oy*log(abs(ox^2 + oy^2 - 2*ox - 2*oy + 2)) + 16*ox*oy - 40*ox*arctan((ox + 1)/(oy + 1)) + 72*oy*arctan((ox + 1)/(oy + 1)) + 40*ox*arctan((ox - 1)/(oy + 1)) - 72*oy*arctan((ox - 1)/(oy + 1)) + 72*ox*arctan((oy + 1)/(ox + 1)) - 40*oy*arctan((oy + 1)/(ox + 1)) + 24*ox*arctan((oy + 1)/(ox - 1)) + 8*oy*arctan((oy + 1)/(ox - 1)) + 8*ox*arctan((ox + 1)/(oy - 1)) + 24*oy*arctan((ox + 1)/(oy - 1)) - 8*ox*arctan((ox - 1)/(oy - 1)) - 24*oy*arctan((ox - 1)/(oy - 1)) - 72*ox*arctan((oy - 1)/(ox + 1)) + 40*oy*arctan((oy - 1)/(ox + 1)) - 24*ox*arctan((oy - 1)/(ox - 1)) - 8*oy*arctan((oy - 1)/(ox - 1)) + 56*ox*log(ox^2 + oy^2 + 2*ox + 2*oy + 2) + 56*oy*log(ox^2 + oy^2 + 2*ox + 2*oy + 2) - 8*ox*log(abs(ox^2 + oy^2 + 2*ox - 2*oy + 2)) - 40*oy*log(abs(ox^2 + oy^2 + 2*ox - 2*oy + 2)) - 40*ox*log(abs(ox^2 + oy^2 - 2*ox + 2*oy + 2)) - 8*oy*log(abs(ox^2 + oy^2 - 2*ox + 2*oy + 2)) - 8*ox*log(abs(ox^2 + oy^2 - 2*ox - 2*oy + 2)) - 8*oy*log(abs(ox^2 + oy^2 - 2*ox - 2*oy + 2)) + 64*ox + 64*oy + 40*arctan((ox + 1)/(oy + 1)) - 40*arctan((ox - 1)/(oy + 1)) + 40*arctan((oy + 1)/(ox + 1)) - 8*arctan((oy + 1)/(ox - 1)) - 8*arctan((ox + 1)/(oy - 1)) + 8*arctan((ox - 1)/(oy - 1)) - 40*arctan((oy - 1)/(ox + 1)) + 8*arctan((oy - 1)/(ox - 1)) + 68*log(ox^2 + oy^2 + 2*ox + 2*oy + 2) + 18*log(ox^2 + oy^2 + 2*ox - 2*oy + 2) + 18*log(ox^2 + oy^2 - 2*ox + 2*oy + 2) + 6*log(ox^2 + oy^2 - 2*ox - 2*oy + 2) - 6*log(abs(ox^2 + oy^2 + 2*ox - 2*oy + 2)) - 6*log(abs(ox^2 + oy^2 - 2*ox + 2*oy + 2)) - 2*log(abs(ox^2 + oy^2 - 2*ox - 2*oy + 2)) - 288)/pi\n"
     ]
    }
   ],
   "source": [
    "C, N = compute((1-sx) * (1-sy))"
   ]
  },
  {
   "cell_type": "code",
   "execution_count": 41,
   "id": "e544d9d1",
   "metadata": {},
   "outputs": [],
   "source": [
    "right = limit(C, ox=1)\n",
    "left = limit(C, ox=-1)\n",
    "top = limit(C, oy=1)\n",
    "bottom = limit(C, oy=-1)"
   ]
  },
  {
   "cell_type": "code",
   "execution_count": 55,
   "id": "19c24043",
   "metadata": {},
   "outputs": [],
   "source": [
    "edge_pts = [\n",
    "    [1,-1],[1,0],[1,1],\n",
    "    [0,-1],[0,1],\n",
    "    [-1,-1],[-1,0],[-1,1]\n",
    "]"
   ]
  },
  {
   "cell_type": "code",
   "execution_count": 112,
   "id": "834b8302",
   "metadata": {},
   "outputs": [
    {
     "data": {
      "text/plain": [
       "0.405077572908000"
      ]
     },
     "execution_count": 112,
     "metadata": {},
     "output_type": "execute_result"
    }
   ],
   "source": [
    "check = 1.1e-8\n",
    "C.subs(ox=1.0 + check, oy=1.0 + check).n()"
   ]
  },
  {
   "cell_type": "code",
   "execution_count": 98,
   "id": "cc61ffb1",
   "metadata": {},
   "outputs": [
    {
     "data": {
      "text/plain": [
       "1.4901161193847656e-08"
      ]
     },
     "execution_count": 98,
     "metadata": {},
     "output_type": "execute_result"
    }
   ],
   "source": [
    "np.sqrt(np.finfo(np.float64).eps)"
   ]
  },
  {
   "cell_type": "code",
   "execution_count": 80,
   "id": "f0289aca",
   "metadata": {},
   "outputs": [
    {
     "data": {
      "text/plain": [
       "0.595403741307922"
      ]
     },
     "execution_count": 80,
     "metadata": {},
     "output_type": "execute_result"
    }
   ],
   "source": [
    "left.subs(oy=-99999999999999/100000000000000).n()"
   ]
  },
  {
   "cell_type": "code",
   "execution_count": 83,
   "id": "93238c6e",
   "metadata": {},
   "outputs": [
    {
     "data": {
      "text/plain": [
       "1.26207040797461"
      ]
     },
     "execution_count": 83,
     "metadata": {},
     "output_type": "execute_result"
    }
   ],
   "source": [
    "left.limit(oy=-1, dir='-').n()"
   ]
  },
  {
   "cell_type": "code",
   "execution_count": 117,
   "id": "bad7c735",
   "metadata": {},
   "outputs": [
    {
     "data": {
      "text/plain": [
       "0.184999955375790"
      ]
     },
     "execution_count": 117,
     "metadata": {},
     "output_type": "execute_result"
    }
   ],
   "source": [
    "bottom.limit(ox=0).n()"
   ]
  },
  {
   "cell_type": "code",
   "execution_count": 125,
   "id": "50500cf7",
   "metadata": {},
   "outputs": [
    {
     "data": {
      "text/plain": [
       "-0.148340031535368"
      ]
     },
     "execution_count": 125,
     "metadata": {},
     "output_type": "execute_result"
    }
   ],
   "source": [
    "C.subs(oy=-0.99999, ox=0).n()"
   ]
  },
  {
   "cell_type": "code",
   "execution_count": 122,
   "id": "369afbe4",
   "metadata": {},
   "outputs": [
    {
     "data": {
      "text/plain": [
       "0.184999955375790"
      ]
     },
     "execution_count": 122,
     "metadata": {},
     "output_type": "execute_result"
    }
   ],
   "source": [
    "C.limit(oy=-1).subs(ox=0).n()"
   ]
  },
  {
   "cell_type": "code",
   "execution_count": 116,
   "id": "8ca243e4",
   "metadata": {},
   "outputs": [
    {
     "name": "stdout",
     "output_type": "stream",
     "text": [
      "[1, -1] +\n",
      "0.247, 0.247, 0.247, -1.20e-5\n",
      "[1, 0] -\n",
      "0.206, 0.206, 0.206, -8.75e-6\n",
      "[1, 1] -\n",
      "0.405, 0.405, 0.405, -9.53e-6\n",
      "[0, -1] +\n",
      "-0.148, -0.148, 0.185, -1.33e-5\n",
      "[0, 1] -\n",
      "0.206, 0.206, 0.372, -8.75e-6\n",
      "[-1, -1] +\n",
      "-0.071, -0.071, 0.595, -2.41e-5\n",
      "[-1, 0] -\n",
      "-0.148, -0.148, -0.148, -1.33e-5\n",
      "[-1, 1] -\n",
      "0.247, 0.247, 0.580, -1.20e-5\n"
     ]
    }
   ],
   "source": [
    "for p in edge_pts:\n",
    "    interior_val = C.subs(ox=p[0] * (1 - 1e-5), oy=p[1] * (1 - 1e-5)).n()\n",
    "    exterior_val = N.subs(ox=p[0] * (1 + 1e-5), oy=p[1] * (1 + 1e-5)).n()\n",
    "    edge_val = 0\n",
    "    if p[0] == 1:\n",
    "        dir_ = '+' if p[1] < 0 else '-'\n",
    "        edge_val = right.limit(oy = p[1], dir=dir_).n()\n",
    "    elif p[0] == -1:\n",
    "        dir_ = '+' if p[1] < 0 else '-'\n",
    "        edge_val = left.limit(oy=p[1], dir=dir_).n()\n",
    "    elif p[1] == 1:\n",
    "        dir_ = '+' if p[0] < 0 else '-'\n",
    "        edge_val = top.limit(ox=p[0], dir=dir_).n()\n",
    "    elif p[1] == -1:\n",
    "        dir_ = '+' if p[0] < 0 else '+'\n",
    "        edge_val = bottom.limit(ox=p[0], dir=dir_).n()\n",
    "    print(p, dir_)\n",
    "    print(f'{interior_val:.3f}, {exterior_val:.3f}, {edge_val:.3f}, {interior_val - exterior_val:.2e}')"
   ]
  },
  {
   "cell_type": "code",
   "execution_count": 53,
   "id": "80c2fcd5",
   "metadata": {},
   "outputs": [
    {
     "data": {
      "text/plain": [
       "0.405125203567794"
      ]
     },
     "execution_count": 53,
     "metadata": {},
     "output_type": "execute_result"
    }
   ],
   "source": [
    "N.subs(ox = 1.0001, oy=1.0001).n()"
   ]
  },
  {
   "cell_type": "code",
   "execution_count": 54,
   "id": "89a3aae6",
   "metadata": {},
   "outputs": [
    {
     "data": {
      "text/plain": [
       "0.405029935468244"
      ]
     },
     "execution_count": 54,
     "metadata": {},
     "output_type": "execute_result"
    }
   ],
   "source": [
    "C.subs(ox=0.9999, oy=0.9999).n()"
   ]
  },
  {
   "cell_type": "code",
   "execution_count": 50,
   "id": "15d07665",
   "metadata": {},
   "outputs": [
    {
     "data": {
      "text/plain": [
       "1/96*ox^4*log(ox^2 + 2*ox + 5)/pi - 1/96*ox^4*log(ox^2 + 2*ox + 1)/pi + 1/96*ox^4*log(ox^2 - 2*ox + 1)/pi - 1/96*ox^4*log(abs(ox^2 - 2*ox + 5))/pi - 1/24*ox^3*log(ox^2 + 2*ox + 5)/pi + 1/24*ox^3*log(ox^2 + 2*ox + 1)/pi - 1/24*ox^3*log(ox^2 - 2*ox + 1)/pi + 1/24*ox^3*log(abs(ox^2 - 2*ox + 5))/pi + 1/16*ox^2*log(ox^2 + 2*ox + 5)/pi + 3/16*ox^2*log(ox^2 + 2*ox + 1)/pi + 1/16*ox^2*log(ox^2 - 2*ox + 1)/pi - 5/16*ox^2*log(abs(ox^2 - 2*ox + 5))/pi + 1/3*ox + 7/6*ox*arctan(1/2*ox + 1/2)/pi - 7/6*ox*arctan(1/2*ox - 1/2)/pi - 1/6*ox*arctan(2/(ox + 1))/pi + 1/6*ox*arctan(2/(ox - 1))/pi - 17/24*ox*log(ox^2 + 2*ox + 5)/pi + 5/24*ox*log(ox^2 + 2*ox + 1)/pi - 1/24*ox*log(ox^2 - 2*ox + 1)/pi + 13/24*ox*log(abs(ox^2 - 2*ox + 5))/pi + 1/96*(16*ox*(7*arctan(1/2*ox - 1/2) - arctan(2/(ox - 1)) + 5) - 112*(ox - 1)*arctan(1/2*ox + 1/2) + 16*(ox - 1)*arctan(2/(ox + 1)) - (ox^4 - 4*ox^3 + 6*ox^2 - 68*ox - 127)*log(ox^2 + 2*ox + 5) + (ox^4 - 4*ox^3 - 18*ox^2 - 20*ox - 7)*log(ox^2 + 2*ox + 1) - (ox^4 - 4*ox^3 + 6*ox^2 - 4*ox + 1)*log(ox^2 - 2*ox + 1) + (ox^4 - 4*ox^3 + 30*ox^2 - 52*ox - 41)*log(abs(ox^2 - 2*ox + 5)) - 112*arctan(1/2*ox - 1/2) + 16*arctan(2/(ox - 1)) + 18*log(ox^2 - 2*ox + 5) - 224)/pi - 5/6*ox/pi - 7/6*arctan(1/2*ox + 1/2)/pi + 7/6*arctan(1/2*ox - 1/2)/pi + 1/6*arctan(2/(ox + 1))/pi - 1/6*arctan(2/(ox - 1))/pi - 127/96*log(ox^2 + 2*ox + 5)/pi + 7/96*log(ox^2 + 2*ox + 1)/pi - 3/16*log(ox^2 - 2*ox + 5)/pi + 1/96*log(ox^2 - 2*ox + 1)/pi + 41/96*log(abs(ox^2 - 2*ox + 5))/pi + 7/3/pi - 1/3"
      ]
     },
     "execution_count": 50,
     "metadata": {},
     "output_type": "execute_result"
    }
   ],
   "source": [
    "limit(N, oy=1, taylor=True) - top"
   ]
  },
  {
   "cell_type": "code",
   "execution_count": 32,
   "id": "dd76ac5a",
   "metadata": {},
   "outputs": [
    {
     "data": {
      "text/plain": [
       "0.354181089841073"
      ]
     },
     "execution_count": 32,
     "metadata": {},
     "output_type": "execute_result"
    }
   ],
   "source": [
    "(C.subs(ox=0.9999,oy=0) - C.subs(ox=-0.9999, oy=0)).n()"
   ]
  },
  {
   "cell_type": "code",
   "execution_count": 31,
   "id": "62511d76",
   "metadata": {},
   "outputs": [
    {
     "data": {
      "text/plain": [
       "0.354158289217195"
      ]
     },
     "execution_count": 31,
     "metadata": {},
     "output_type": "execute_result"
    }
   ],
   "source": [
    "(right - left).expand().full_simplify().subs(oy=0).n()"
   ]
  },
  {
   "cell_type": "code",
   "execution_count": 5,
   "id": "0ba2ad32",
   "metadata": {},
   "outputs": [],
   "source": [
    "import pickle\n",
    "with open('data/test_integral.pkl', 'wb') as f:\n",
    "    pickle.dump([coincident._sympy_(), nearfield._sympy_()], f)"
   ]
  },
  {
   "cell_type": "code",
   "execution_count": 140,
   "id": "e891c454",
   "metadata": {},
   "outputs": [],
   "source": [
    "oxn = 1\n",
    "oyn = 1\n",
    "dx = oxn - sx\n",
    "dy = oyn - sy\n",
    "r2 = (dx ** 2) + (dy ** 2)\n",
    "r = sqrt(r2)\n",
    "G = (1 / (2 * pi)) * log(r)"
   ]
  },
  {
   "cell_type": "code",
   "execution_count": 141,
   "id": "89daf66e",
   "metadata": {},
   "outputs": [
    {
     "name": "stdout",
     "output_type": "stream",
     "text": [
      "integrand 1/2*(sx - 1)*(sy - 1)*log(sqrt((sx - 1)^2 + (sy - 1)^2))/pi\n",
      "sx integral -1/8*((sy^2 - 2*sy + 5)*log(sy^2 - 2*sy + 5) - (sy^2 - 2*sy + 1)*log(sy^2 - 2*sy + 1) - 4)*(sy - 1)/pi\n",
      "I integral 1/2*(8*log(2) - 3)/pi\n"
     ]
    }
   ],
   "source": [
    "integrand = G * f\n",
    "print('integrand', integrand)\n",
    "\n",
    "# The opposite assumption that `sy - oy < 0` results in the same solution\n",
    "# so this is sufficient.\n",
    "forget()\n",
    "assume(sy > 0)\n",
    "assume(sy < 1)\n",
    "Ia = integral(integrand, sx, -1, 1)\n",
    "print('sx integral', Ia)\n",
    "I = integral(Ia, sy, -1, 1)\n",
    "print('I integral', I)"
   ]
  },
  {
   "cell_type": "code",
   "execution_count": 143,
   "id": "334eebf5",
   "metadata": {},
   "outputs": [
    {
     "name": "stdout",
     "output_type": "stream",
     "text": [
      "I integral 1/32*(25*log(5) - 32*log(2) - 12)/pi\n"
     ]
    }
   ],
   "source": [
    "I1 = integral(Ia, sy, 0, 1)\n",
    "print('I integral', I1)"
   ]
  },
  {
   "cell_type": "code",
   "execution_count": 144,
   "id": "610b327c",
   "metadata": {},
   "outputs": [
    {
     "name": "stdout",
     "output_type": "stream",
     "text": [
      "sx integral -1/8*(sy^2*log(sy^2 - 2*sy + 5) - sy^2*log(sy^2 - 2*sy + 1) - 2*sy*log(sy^2 - 2*sy + 5) + 2*sy*log(sy^2 - 2*sy + 1) + 5*log(sy^2 - 2*sy + 5) - log(sy^2 - 2*sy + 1) - 4)*(sy - 1)/pi\n"
     ]
    }
   ],
   "source": [
    "forget()\n",
    "assume(sy < 0)\n",
    "assume(sy > -1)\n",
    "Ib = integral(integrand, sx, -1, 1)\n",
    "print('sx integral', Ib)"
   ]
  },
  {
   "cell_type": "code",
   "execution_count": 145,
   "id": "73f44298",
   "metadata": {},
   "outputs": [
    {
     "name": "stdout",
     "output_type": "stream",
     "text": [
      "I integral -1/32*(25*log(5) - 160*log(2) + 36)/pi\n"
     ]
    }
   ],
   "source": [
    "I2 = integral(Ia, sy, -1, 0)\n",
    "print('I integral', I2)"
   ]
  },
  {
   "cell_type": "code",
   "execution_count": 169,
   "id": "b5ba2510",
   "metadata": {},
   "outputs": [],
   "source": [
    "N = 5\n",
    "chebyshev_pts = [cos(pi * i / (N - 1)) for i in range(N)]"
   ]
  },
  {
   "cell_type": "code",
   "execution_count": 183,
   "id": "935b71fc",
   "metadata": {},
   "outputs": [],
   "source": [
    "def interp_poly(N, i):\n",
    "    vals = [0 for j in range(N)]\n",
    "    vals[i] = 1\n",
    "    R.<x>=PolynomialRing(RR)\n",
    "    points=list(zip(chebyshev_pts, vals))\n",
    "    f=R.lagrange_polynomial(points)\n",
    "    return f"
   ]
  },
  {
   "cell_type": "code",
   "execution_count": 185,
   "id": "b2bb572f",
   "metadata": {},
   "outputs": [
    {
     "data": {
      "text/plain": [
       "x^4 + x^3 - 0.500000000000000*x^2 - 0.500000000000000*x"
      ]
     },
     "execution_count": 185,
     "metadata": {},
     "output_type": "execute_result"
    }
   ],
   "source": [
    "interp_poly(5, 0)"
   ]
  },
  {
   "cell_type": "code",
   "execution_count": 177,
   "id": "5e1eb765",
   "metadata": {},
   "outputs": [
    {
     "data": {
      "text/plain": [
       "[(1, 1), (1/2*sqrt(2), 0), (0, 0), (-1/2*sqrt(2), 0), (-1, 0)]"
      ]
     },
     "execution_count": 177,
     "metadata": {},
     "output_type": "execute_result"
    }
   ],
   "source": [
    "points"
   ]
  },
  {
   "cell_type": "code",
   "execution_count": null,
   "id": "70624494",
   "metadata": {},
   "outputs": [],
   "source": []
  }
 ],
 "metadata": {
  "kernelspec": {
   "display_name": "SageMath 9.3",
   "language": "sage",
   "name": "sagemath"
  },
  "language_info": {
   "codemirror_mode": {
    "name": "ipython",
    "version": 3
   },
   "file_extension": ".py",
   "mimetype": "text/x-python",
   "name": "python",
   "nbconvert_exporter": "python",
   "pygments_lexer": "ipython3",
   "version": "3.9.5"
  }
 },
 "nbformat": 4,
 "nbformat_minor": 5
}
