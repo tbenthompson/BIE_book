{
 "cells": [
  {
   "cell_type": "code",
   "execution_count": 1,
   "id": "5df1ca05",
   "metadata": {},
   "outputs": [],
   "source": [
    "from sage.all import *\n",
    "import pickle\n",
    "\n",
    "sx, sy = var('sx, sy')\n",
    "\n",
    "ox, oy = var('ox, oy')\n",
    "\n",
    "dx = ox - sx\n",
    "dy = oy - sy\n",
    "r2 = (dx ** 2) + (dy ** 2)\n",
    "\n",
    "r = sqrt(r2)\n",
    "G = (1 / (2 * pi)) * log(r)"
   ]
  },
  {
   "cell_type": "code",
   "execution_count": 2,
   "id": "2f4ce6f7",
   "metadata": {},
   "outputs": [],
   "source": [
    "forget()\n",
    "assume(sy-oy>0)\n",
    "assume(sy > 0)\n",
    "assume(sy < 1)\n",
    "Ia = integral(G, sx, -1, 1)"
   ]
  },
  {
   "cell_type": "code",
   "execution_count": 3,
   "id": "a66a5649",
   "metadata": {},
   "outputs": [],
   "source": [
    "assume(ox > -1)\n",
    "assume(ox < 1)\n",
    "assume(oy > -1)\n",
    "coincident = integral(Ia, sy, -1, 1)"
   ]
  },
  {
   "cell_type": "code",
   "execution_count": 4,
   "id": "5b0a2525",
   "metadata": {},
   "outputs": [],
   "source": [
    "forget()\n",
    "assume(ox > 1)\n",
    "assume(oy > 1)\n",
    "nearfield = integral(Ia, sy, -1, 1)"
   ]
  },
  {
   "cell_type": "code",
   "execution_count": 5,
   "id": "d5f748cc",
   "metadata": {},
   "outputs": [],
   "source": [
    "import pickle\n",
    "with open('data/constant_test_integral.pkl', 'wb') as f:\n",
    "    pickle.dump([coincident._sympy_(), nearfield._sympy_()], f)"
   ]
  },
  {
   "cell_type": "code",
   "execution_count": 10,
   "id": "6c226f8f",
   "metadata": {},
   "outputs": [],
   "source": [
    "forget()\n",
    "assume(sy-oy>0)\n",
    "assume(sy > 0)\n",
    "assume(sy < 1)\n",
    "Ia = integral(G * (1 - sx) * (1 - sy ** 2), sx, -1, 1)"
   ]
  },
  {
   "cell_type": "code",
   "execution_count": 11,
   "id": "e9a9dd64",
   "metadata": {},
   "outputs": [],
   "source": [
    "assume(ox > -1)\n",
    "assume(ox < 1)\n",
    "assume(oy > -1)\n",
    "coincident = integral(Ia, sy, -1, 1)"
   ]
  },
  {
   "cell_type": "code",
   "execution_count": 12,
   "id": "75f78298",
   "metadata": {},
   "outputs": [],
   "source": [
    "forget()\n",
    "assume(ox > 1)\n",
    "assume(oy > 1)\n",
    "nearfield = integral(Ia, sy, -1, 1)"
   ]
  },
  {
   "cell_type": "code",
   "execution_count": 13,
   "id": "f7908b39",
   "metadata": {},
   "outputs": [],
   "source": [
    "import pickle\n",
    "with open('data/xy_test_integral.pkl', 'wb') as f:\n",
    "    pickle.dump([coincident._sympy_(), nearfield._sympy_()], f)"
   ]
  }
 ],
 "metadata": {
  "kernelspec": {
   "display_name": "SageMath 9.3",
   "language": "sage",
   "name": "sagemath"
  },
  "language_info": {
   "codemirror_mode": {
    "name": "ipython",
    "version": 3
   },
   "file_extension": ".py",
   "mimetype": "text/x-python",
   "name": "python",
   "nbconvert_exporter": "python",
   "pygments_lexer": "ipython3",
   "version": "3.9.5"
  }
 },
 "nbformat": 4,
 "nbformat_minor": 5
}
