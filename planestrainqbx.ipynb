{
 "cells": [
  {
   "cell_type": "code",
   "execution_count": 4,
   "metadata": {},
   "outputs": [],
   "source": [
    "import sympy as sp\n",
    "from sympy import conjugate as con"
   ]
  },
  {
   "cell_type": "code",
   "execution_count": 87,
   "metadata": {},
   "outputs": [
    {
     "data": {
      "text/latex": [
       "$\\displaystyle \\lambda u_{xx} + \\lambda u_{yy} + 2 \\mu u_{xx}$"
      ],
      "text/plain": [
       "\\lambda*u_{xx} + \\lambda*u_{yy} + 2*\\mu*u_{xx}"
      ]
     },
     "metadata": {},
     "output_type": "display_data"
    },
    {
     "data": {
      "text/latex": [
       "$\\displaystyle \\mu u_{xy} + \\mu u_{yx}$"
      ],
      "text/plain": [
       "\\mu*u_{xy} + \\mu*u_{yx}"
      ]
     },
     "metadata": {},
     "output_type": "display_data"
    },
    {
     "data": {
      "text/latex": [
       "$\\displaystyle \\lambda u_{xx} + \\lambda u_{yy} + 2 \\mu u_{yy}$"
      ],
      "text/plain": [
       "\\lambda*u_{xx} + \\lambda*u_{yy} + 2*\\mu*u_{yy}"
      ]
     },
     "metadata": {},
     "output_type": "display_data"
    },
    {
     "data": {
      "text/latex": [
       "$\\displaystyle \\mu u_{xy} + \\mu u_{yx}$"
      ],
      "text/plain": [
       "\\mu*u_{xy} + \\mu*u_{yx}"
      ]
     },
     "metadata": {},
     "output_type": "display_data"
    }
   ],
   "source": [
    "lam, kappa, mu, nu  = sp.var('\\\\lambda, \\\\kappa, \\\\mu, \\\\nu', real=True)\n",
    "nu_expr = sp.solve(3 - 4 * nu - kappa, nu)[0]\n",
    "kappa_expr = sp.solve(\n",
    "    (2 * mu * nu / (1 - 2 * nu)).subs(nu, nu_expr).simplify() - lam, kappa\n",
    ")[0]\n",
    "\n",
    "ux = sp.Function(\"u_x\", real=True)\n",
    "uy = sp.Function(\"u_y\", real=True)\n",
    "zx, zy = sp.var(\"z_x, z_y\", real=True)\n",
    "u = ux(zx, zy) + uy(zx, zy) * sp.I\n",
    "d_fnc = lambda f: sp.Rational(1, 2) * (sp.diff(f, zx) - sp.I * sp.diff(f, zy))\n",
    "d_con_fnc = lambda f: sp.Rational(1, 2) * (sp.diff(f, zx) + sp.I * sp.diff(f, zy))\n",
    "\n",
    "# t1 = (2 * mu) * ((d_fnc(u) + d_con_fnc(con(u))) / (kappa_expr - 1))\n",
    "# t2 = (2 * mu) * d_con_fnc(u)\n",
    "t1 = (2 * mu) * ((d_fnc(u) + con(d_fnc(u))) / (kappa_expr - 1))\n",
    "t2 = (2 * mu) * con(d_fnc(con(u)))\n",
    "\n",
    "uxx, uxy, uyx, uyy = sp.var(\"u_{xx}, u_{xy}, u_{yx}, u_{yy}\", real=True)\n",
    "t_sxx_sxy = (\n",
    "    (t1 + t2).simplify()\n",
    "    .subs(sp.diff(ux(zx, zy), zx), uxx)\n",
    "    .subs(sp.diff(ux(zx, zy), zy), uxy)\n",
    "    .subs(sp.diff(uy(zx, zy), zx), uyx)\n",
    "    .subs(sp.diff(uy(zx, zy), zy), uyy)\n",
    ")\n",
    "sxx = sp.re(t_sxx_sxy).expand()\n",
    "sxy = sp.im(t_sxx_sxy).expand()\n",
    "\n",
    "t_syy_syx = (\n",
    "    (t1 - t2).simplify()\n",
    "    .subs(sp.diff(ux(zx, zy), zx), uxx)\n",
    "    .subs(sp.diff(ux(zx, zy), zy), uxy)\n",
    "    .subs(sp.diff(uy(zx, zy), zx), uyx)\n",
    "    .subs(sp.diff(uy(zx, zy), zy), uyy)\n",
    ")\n",
    "syy = sp.re(t_syy_syx).expand()\n",
    "syx = -sp.im(t_syy_syx).expand()\n",
    "\n",
    "from IPython.display import display\n",
    "display(sxx)\n",
    "display(sxy)\n",
    "display(syy)\n",
    "display(syx)\n"
   ]
  },
  {
   "cell_type": "code",
   "execution_count": 77,
   "metadata": {},
   "outputs": [
    {
     "data": {
      "text/latex": [
       "$\\displaystyle 0$"
      ],
      "text/plain": [
       "0"
      ]
     },
     "execution_count": 77,
     "metadata": {},
     "output_type": "execute_result"
    }
   ],
   "source": [
    "((d_con_fnc(con(u)) - con(d_fnc(u))).simplify()\n",
    "    .subs(sp.diff(ux(zx, zy), zx), uxx)\n",
    "    .subs(sp.diff(ux(zx, zy), zy), uxy)\n",
    "    .subs(sp.diff(uy(zx, zy), zx), uyx)\n",
    "    .subs(sp.diff(uy(zx, zy), zy), uyy)\n",
    ")"
   ]
  },
  {
   "cell_type": "code",
   "execution_count": 78,
   "metadata": {},
   "outputs": [
    {
     "data": {
      "text/latex": [
       "$\\displaystyle 0$"
      ],
      "text/plain": [
       "0"
      ]
     },
     "execution_count": 78,
     "metadata": {},
     "output_type": "execute_result"
    }
   ],
   "source": [
    "((con(d_fnc(con(u))) - d_con_fnc(u)).simplify()\n",
    "    .subs(sp.diff(ux(zx, zy), zx), uxx)\n",
    "    .subs(sp.diff(ux(zx, zy), zy), uxy)\n",
    "    .subs(sp.diff(uy(zx, zy), zx), uyx)\n",
    "    .subs(sp.diff(uy(zx, zy), zy), uyy)\n",
    ")"
   ]
  },
  {
   "cell_type": "code",
   "execution_count": 79,
   "metadata": {},
   "outputs": [],
   "source": [
    "C = sp.var('C', real=True)\n",
    "G = sp.Function('G')\n",
    "Gp = sp.Function('G_1')\n",
    "Gpp = sp.Function('G_2')\n",
    "tw, w, z = sp.var('t_w, w, z')"
   ]
  },
  {
   "cell_type": "code",
   "execution_count": 103,
   "metadata": {},
   "outputs": [
    {
     "data": {
      "text/latex": [
       "$\\displaystyle C \\left(\\kappa t_{w} \\left(G{\\left(z,w \\right)} + \\overline{G{\\left(z,w \\right)}}\\right) + \\left(w - z\\right) \\overline{t_{w}} \\overline{\\operatorname{G_{1}}{\\left(z,w \\right)}}\\right)$"
      ],
      "text/plain": [
       "C*(\\kappa*t_w*(G(z, w) + conjugate(G(z, w))) + (w - z)*conjugate(t_w)*conjugate(G_1(z, w)))"
      ]
     },
     "execution_count": 103,
     "metadata": {},
     "output_type": "execute_result"
    }
   ],
   "source": [
    "U = C * ((kappa * (G(z,w) + con(G(z,w)))) * tw + (w - z) * con(Gp(z,w) * tw))\n",
    "U"
   ]
  },
  {
   "cell_type": "code",
   "execution_count": 104,
   "metadata": {},
   "outputs": [],
   "source": [
    "t1a = 2 * mu * sp.diff(U, z) / (kappa - 1)\n",
    "t1b = 2 * mu * con(sp.diff(U, z)) / (kappa - 1)\n",
    "t2 = 2 * mu * con(sp.diff(con(U), z))\n",
    "g1, g2 = sp.var('g_1, g_2')"
   ]
  },
  {
   "cell_type": "code",
   "execution_count": 105,
   "metadata": {},
   "outputs": [],
   "source": [
    "def proc(expr):\n",
    "    return (expr\n",
    "        .subs(sp.diff(G(z,w), z), g1)\n",
    "        .subs(sp.diff(con(G(z,w)), z), con(g1))\n",
    "        .subs(sp.diff(Gp(z,w), z), g2)\n",
    "        .subs(sp.diff(con(Gp(z,w)), z), con(g2))\n",
    "        .subs(sp.diff(con(z), z), 0)\n",
    "        .subs(Gp(z,w), g1)\n",
    "    ).simplify()"
   ]
  },
  {
   "cell_type": "code",
   "execution_count": 106,
   "metadata": {},
   "outputs": [
    {
     "data": {
      "text/latex": [
       "$\\displaystyle \\frac{2 C \\mu \\left(\\kappa t_{w} \\left(g_{1} + \\overline{g_{1}}\\right) + \\left(w - z\\right) \\overline{g_{2}} \\overline{t_{w}} - \\overline{g_{1}} \\overline{t_{w}}\\right)}{\\kappa - 1}$"
      ],
      "text/plain": [
       "2*C*\\mu*(\\kappa*t_w*(g_1 + conjugate(g_1)) + (w - z)*conjugate(g_2)*conjugate(t_w) - conjugate(g_1)*conjugate(t_w))/(\\kappa - 1)"
      ]
     },
     "execution_count": 106,
     "metadata": {},
     "output_type": "execute_result"
    }
   ],
   "source": [
    "t1a_p = proc(t1a)\n",
    "t1a_p"
   ]
  },
  {
   "cell_type": "code",
   "execution_count": 107,
   "metadata": {},
   "outputs": [
    {
     "data": {
      "text/latex": [
       "$\\displaystyle \\frac{2 C \\mu \\left(\\kappa \\left(g_{1} + \\overline{g_{1}}\\right) \\overline{t_{w}} - g_{1} t_{w} + g_{2} t_{w} \\left(\\overline{w} - \\overline{z}\\right)\\right)}{\\kappa - 1}$"
      ],
      "text/plain": [
       "2*C*\\mu*(\\kappa*(g_1 + conjugate(g_1))*conjugate(t_w) - g_1*t_w + g_2*t_w*(conjugate(w) - conjugate(z)))/(\\kappa - 1)"
      ]
     },
     "execution_count": 107,
     "metadata": {},
     "output_type": "execute_result"
    }
   ],
   "source": [
    "t1b_p = proc(t1b)\n",
    "t1b_p"
   ]
  },
  {
   "cell_type": "code",
   "execution_count": 108,
   "metadata": {},
   "outputs": [
    {
     "data": {
      "text/latex": [
       "$\\displaystyle 2 C \\mu \\left(\\kappa t_{w} \\left(g_{1} + \\overline{g_{1}}\\right) + \\left(w - z\\right) \\overline{g_{2}} \\overline{t_{w}}\\right)$"
      ],
      "text/plain": [
       "2*C*\\mu*(\\kappa*t_w*(g_1 + conjugate(g_1)) + (w - z)*conjugate(g_2)*conjugate(t_w))"
      ]
     },
     "execution_count": 108,
     "metadata": {},
     "output_type": "execute_result"
    }
   ],
   "source": [
    "t2_p = proc(t2)\n",
    "t2_p"
   ]
  },
  {
   "cell_type": "code",
   "execution_count": 57,
   "metadata": {},
   "outputs": [
    {
     "data": {
      "text/latex": [
       "$\\displaystyle \\frac{4 \\left(z - z_{0}\\right)^{3}}{\\left(w - z_{0}\\right)^{4}}$"
      ],
      "text/plain": [
       "4*(z - z_0)**3/(w - z_0)**4"
      ]
     },
     "execution_count": 57,
     "metadata": {},
     "output_type": "execute_result"
    }
   ],
   "source": [
    "z0 = sp.var('z_0')\n",
    "sp.diff(((z - z0) / (w-z0)) ** 4, z)"
   ]
  },
  {
   "cell_type": "code",
   "execution_count": 58,
   "metadata": {},
   "outputs": [
    {
     "data": {
      "text/latex": [
       "$\\displaystyle \\frac{\\left(z - z_{0}\\right)^{2}}{2 \\left(w - z_{0}\\right)^{2}} + \\frac{z - z_{0}}{w - z_{0}} - \\log{\\left(w - z_{0} \\right)} + O\\left(\\left(z - z_{0}\\right)^{3}; z\\rightarrow z_{0}\\right)$"
      ],
      "text/plain": [
       "(z - z_0)**2/(2*(w - z_0)**2) + (z - z_0)/(w - z_0) - log(w - z_0) + O((z - z_0)**3, (z, z_0))"
      ]
     },
     "execution_count": 58,
     "metadata": {},
     "output_type": "execute_result"
    }
   ],
   "source": [
    "-sp.log(w - z).series(z, x0=z0, n=3)"
   ]
  },
  {
   "cell_type": "code",
   "execution_count": 59,
   "metadata": {},
   "outputs": [
    {
     "data": {
      "text/latex": [
       "$\\displaystyle \\frac{1}{w - z_{0}} + \\frac{R}{w - z_{0}} + \\frac{R^{2}}{w - z_{0}} + O\\left(\\left(z - z_{0}\\right)^{3}; z\\rightarrow z_{0}\\right)$"
      ],
      "text/plain": [
       "1/(w - z_0) + R/(w - z_0) + R**2/(w - z_0) + O((z - z_0)**3, (z, z_0))"
      ]
     },
     "execution_count": 59,
     "metadata": {},
     "output_type": "execute_result"
    }
   ],
   "source": [
    "R = sp.var('R')\n",
    "ratio = (z-z0)/(w-z0)\n",
    "sp.diff(-sp.log(w - z), z).series(z, x0=z0, n=3).subs(ratio, R)"
   ]
  },
  {
   "cell_type": "code",
   "execution_count": 60,
   "metadata": {},
   "outputs": [
    {
     "data": {
      "text/latex": [
       "$\\displaystyle - \\frac{3 \\left(z - z_{0}\\right)^{2}}{\\left(w - z_{0}\\right)^{4}} - \\frac{2 \\left(z - z_{0}\\right)}{\\left(w - z_{0}\\right)^{3}} - \\frac{1}{\\left(w - z_{0}\\right)^{2}} + O\\left(\\left(z - z_{0}\\right)^{3}; z\\rightarrow z_{0}\\right)$"
      ],
      "text/plain": [
       "-3*(z - z_0)**2/(w - z_0)**4 - 2*(z - z_0)/(w - z_0)**3 - 1/(w - z_0)**2 + O((z - z_0)**3, (z, z_0))"
      ]
     },
     "execution_count": 60,
     "metadata": {},
     "output_type": "execute_result"
    }
   ],
   "source": [
    "sp.diff(sp.diff(sp.log(w - z), z), z).series(z, x0=z0, n=3)"
   ]
  }
 ],
 "metadata": {
  "interpreter": {
   "hash": "a13b900b371deedcaaa6f4741c4487b3dee5037db61b5f52fddc82001a4a09c6"
  },
  "kernelspec": {
   "display_name": "Python 3.9.7 64-bit ('tectosaur2': conda)",
   "language": "python",
   "name": "python3"
  },
  "language_info": {
   "codemirror_mode": {
    "name": "ipython",
    "version": 3
   },
   "file_extension": ".py",
   "mimetype": "text/x-python",
   "name": "python",
   "nbconvert_exporter": "python",
   "pygments_lexer": "ipython3",
   "version": "3.9.7"
  },
  "orig_nbformat": 4
 },
 "nbformat": 4,
 "nbformat_minor": 2
}
