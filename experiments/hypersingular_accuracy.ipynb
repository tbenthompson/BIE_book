{
 "cells": [
  {
   "cell_type": "markdown",
   "metadata": {},
   "source": [
    "\\begin{equation}\n",
    "\\int_{S} K(x, y) y_2 dy\n",
    "\\end{equation}"
   ]
  },
  {
   "cell_type": "markdown",
   "metadata": {},
   "source": [
    "Ideas:\n",
    "* there could be a bug in adaptive.hpp\n",
    "* maybe recursive subdivision is better than gauss-kronrod for this type of problem.\n",
    "* ~~kahan summation might be necessary. perhaps the adding and subtracting of the error causes problems?~~\n",
    "* align the python numpy kernels with the nearfield.cpp kernels."
   ]
  },
  {
   "cell_type": "code",
   "execution_count": 1,
   "metadata": {},
   "outputs": [
    {
     "name": "stdout",
     "output_type": "stream",
     "text": [
      "2.4279452615072472e-09\n"
     ]
    },
    {
     "name": "stderr",
     "output_type": "stream",
     "text": [
      "/Users/tbent/Dropbox/active/eq/tectosaur2/tectosaur2/integrate.py:206: UserWarning: Some integrals failed to converge during adaptive integration. This an indication of a problem in either the integration or the problem formulation.\n",
      "  warnings.warn(\n",
      "/Users/tbent/Dropbox/active/eq/tectosaur2/tectosaur2/integrate.py:214: UserWarning: Some expanded integrals reached maximum expansion order. These integrals may be inaccurate.\n",
      "  warnings.warn(\n"
     ]
    }
   ],
   "source": [
    "from tectosaur2.nb_config import setup\n",
    "setup()\n",
    "\n",
    "import numpy as np\n",
    "from tectosaur2 import gauss_rule, integrate_term\n",
    "from tectosaur2.mesh import unit_circle\n",
    "from tectosaur2.laplace2d import hypersingular\n",
    "from tectosaur2.global_qbx import global_qbx_self\n",
    "quad_rule = gauss_rule(10)\n",
    "circle = unit_circle(quad_rule)\n",
    "circle.n_panels\n",
    "\n",
    "gmats = []\n",
    "gvecs = []\n",
    "v = np.cos(circle.pts[:,1])\n",
    "ps = np.arange(3, 8)\n",
    "for p in ps:\n",
    "    gmat, report = global_qbx_self(hypersingular, circle, p, 1.0, 10, return_report=True)\n",
    "    gmats.append(gmat)\n",
    "    gvecs.append(gmat[:,:,:,0].dot(v))\n",
    "lmat, lreport = integrate_term(hypersingular, circle.pts, circle, safety_mode=True, return_report=True)\n",
    "lvec = lmat[:,:,:,0].dot(v)\n",
    "\n",
    "print(np.max(np.abs(lvec - gvecs[-1])))"
   ]
  },
  {
   "cell_type": "code",
   "execution_count": 2,
   "metadata": {},
   "outputs": [
    {
     "name": "stdout",
     "output_type": "stream",
     "text": [
      "1.20824183991175e-11\n"
     ]
    }
   ],
   "source": [
    "lmat, lreport = integrate_term(hypersingular, circle.pts, circle, return_report=True)\n",
    "lvec = lmat[:,:,:,0].dot(v)\n",
    "print(np.max(np.abs(lvec - gvecs[-1])))"
   ]
  },
  {
   "cell_type": "code",
   "execution_count": 3,
   "metadata": {},
   "outputs": [
    {
     "name": "stdout",
     "output_type": "stream",
     "text": [
      "\n",
      " 1\n",
      "4.657536261689784\n",
      "8.12064950692637e-05\n",
      "\n",
      " 2\n",
      "5.704405858601769\n",
      "7.705862049567358e-07\n",
      "\n",
      " 3\n",
      "8.12835335669428\n",
      "3.9674554669355544e-08\n",
      "\n",
      " 4\n",
      "9.690547112513867\n",
      "2.4950611021701263e-10\n"
     ]
    }
   ],
   "source": [
    "for i in range(1, ps.shape[0]):\n",
    "    print('\\n', i)\n",
    "    print(np.max(np.abs(gmats[i] - gmat[i - 1])))\n",
    "    print(np.max(np.abs(gvecs[i] - gvecs[i - 1])))"
   ]
  },
  {
   "cell_type": "markdown",
   "metadata": {},
   "source": [
    "# Analytic comparison \n",
    "\n",
    "Let's use the analytic solution for stress for slip on a line segment in a fullspace extending from y = -1 to y = 1. From page 35 of the Segall book. "
   ]
  },
  {
   "cell_type": "code",
   "execution_count": 4,
   "metadata": {},
   "outputs": [],
   "source": [
    "import sympy as sp\n",
    "import matplotlib.pyplot as plt\n",
    "from tectosaur2 import panelize_symbolic_surface, pts_grid\n",
    "t = sp.var('t')\n",
    "fault = panelize_symbolic_surface(t, 0*t, t, quad_rule, n_panels=1)"
   ]
  },
  {
   "cell_type": "code",
   "execution_count": 5,
   "metadata": {},
   "outputs": [],
   "source": [
    "def analytical_stress(obsx, obsy):\n",
    "    rp = obsx ** 2 + (obsy + 1) ** 2\n",
    "    ri = obsx ** 2 + (obsy - 1) ** 2\n",
    "    sxz = -(1.0 / (2 * np.pi)) * (((obsy + 1) / rp) - ((obsy - 1) / ri))\n",
    "    syz = (1.0 / (2 * np.pi)) * ((obsx / rp) - (obsx / ri))\n",
    "    return sxz, syz"
   ]
  },
  {
   "cell_type": "code",
   "execution_count": 6,
   "metadata": {},
   "outputs": [],
   "source": [
    "def run(zoomx, zoomy):\n",
    "    nobs = 200\n",
    "    xs = np.linspace(*zoomx, nobs)\n",
    "    ys = np.linspace(*zoomy, nobs)\n",
    "    obs_pts = pts_grid(xs, ys)\n",
    "    obsx = obs_pts[:, 0]\n",
    "    obsy = obs_pts[:, 1]\n",
    "\n",
    "    sing = np.array([(0,-1), (0, 1)])\n",
    "    stress_mat, report = integrate_term(hypersingular, obs_pts, fault, singularities=sing, return_report=True)\n",
    "    interior_stress = stress_mat[:,:,:,0].sum(axis=2)\n",
    "    analytical_sxz, analytical_syz = analytical_stress(obsx, obsy)\n",
    "    interior_sxz = interior_stress[:,0]\n",
    "    interior_syz = interior_stress[:,1]\n",
    "    import warnings\n",
    "    with warnings.catch_warnings():\n",
    "        warnings.simplefilter(\"ignore\")\n",
    "        sxz_err = np.log10(np.abs(interior_sxz - analytical_sxz))\n",
    "        syz_err = np.log10(np.abs(interior_syz - analytical_syz))\n",
    "    plt.figure(figsize=(12, 8))\n",
    "\n",
    "    plots = [\n",
    "        (\"analytical_sxz\", \"$\\sigma_{xz}$\"),\n",
    "        (\"analytical_syz\", \"$\\sigma_{yz}$\"),\n",
    "        (\"sxz_err\", r\"$\\log_{10}|\\sigma_{xz,\\textrm{BIE}} - \\sigma_{xz,\\textrm{analytic}}|$\"),\n",
    "        (\"syz_err\", r\"$\\log_{10}|\\sigma_{yz,\\textrm{BIE}} - \\sigma_{yz,\\textrm{analytic}}|$\")\n",
    "    ]\n",
    "    for i, (k, title) in enumerate(plots):\n",
    "        plt.subplot(2, 2, 1 + i)\n",
    "        plt.title(title)\n",
    "        v = locals()[k].reshape((nobs, nobs))\n",
    "        v2d = v.reshape((nobs, nobs))\n",
    "        if i < 2:\n",
    "            levels = np.linspace(-0.5, 0.5, 11)\n",
    "        else:\n",
    "            levels = np.linspace(-14, -1, 14)\n",
    "        cntf = plt.contourf(xs, ys, v2d, levels=levels, extend=\"both\")\n",
    "        plt.contour(\n",
    "            xs,\n",
    "            ys,\n",
    "            v2d,\n",
    "            colors=\"k\",\n",
    "            linestyles=\"-\",\n",
    "            linewidths=0.5,\n",
    "            levels=levels,\n",
    "            extend=\"both\",\n",
    "        )\n",
    "        plt.colorbar(cntf)\n",
    "        # plt.xlim([-0.01, 0.01])\n",
    "        # plt.ylim([-0.02, 0.0])\n",
    "\n",
    "    plt.tight_layout()\n",
    "    plt.show()\n"
   ]
  },
  {
   "cell_type": "code",
   "execution_count": 7,
   "metadata": {},
   "outputs": [],
   "source": [
    "\n",
    "# run([-2, 2], [-2, 2])\n",
    "# run([-0.5, 0.5], [0.5, 1.5])\n",
    "# run([-0.1, 0.1], [0.9, 1.1])\n",
    "# run([-0.003, 0.003], [0.997, 1.003])"
   ]
  },
  {
   "cell_type": "code",
   "execution_count": 8,
   "metadata": {},
   "outputs": [
    {
     "name": "stderr",
     "output_type": "stream",
     "text": [
      "/Users/tbent/Dropbox/active/eq/tectosaur2/tectosaur2/integrate.py:206: UserWarning: Some integrals failed to converge during adaptive integration. This an indication of a problem in either the integration or the problem formulation.\n",
      "  warnings.warn(\n"
     ]
    }
   ],
   "source": [
    "xs = np.linspace(-0.003, 0.003, 100)\n",
    "ys = [1.001] * xs.shape[0] \n",
    "obs_pts = np.array([xs, ys]).T.copy()\n",
    "sing = np.array([(0,-1), (0, 1)])\n",
    "stress_mat, report = integrate_term(hypersingular, obs_pts, fault, safety_mode=True, singularities=sing, return_report=True)\n",
    "interior_stress = stress_mat[:,:,:,0].sum(axis=2)\n",
    "analytical_sxz, analytical_syz = analytical_stress(obs_pts[:,0], obs_pts[:,1])\n",
    "interior_sxz = interior_stress[:,0]\n",
    "interior_syz = interior_stress[:,1]\n",
    "import warnings\n",
    "with warnings.catch_warnings():\n",
    "    warnings.simplefilter(\"ignore\")\n",
    "    sxz_err = np.log10(np.abs(interior_sxz - analytical_sxz))\n",
    "    syz_err = np.log10(np.abs(interior_syz - analytical_syz))"
   ]
  },
  {
   "cell_type": "code",
   "execution_count": 9,
   "metadata": {},
   "outputs": [
    {
     "data": {
      "text/plain": [
       "dict_keys(['combined_src', 'srcs', 'obs_pts', 'n_qbx', 'p', 'qbx_integration_error', 'qbx_n_subsets', 'qbx_integration_failed', 'max_order_reached', 'use_qbx', 'exp_centers', 'exp_rs', 'closest_src_pts', 'direction', 'on_surface', 'n_nearfield', 'use_nearfield'])"
      ]
     },
     "execution_count": 9,
     "metadata": {},
     "output_type": "execute_result"
    }
   ],
   "source": [
    "report.keys()"
   ]
  },
  {
   "cell_type": "code",
   "execution_count": 10,
   "metadata": {},
   "outputs": [
    {
     "data": {
      "text/plain": [
       "array([34, 34, 34, 34, 34, 34, 34, 34, 34, 24, 24, 34, 34, 34, 34, 34, 34,\n",
       "       34, 34, 34, 34, 34, 34, 34, 34, 34, 34, 34, 24, 34, 34, 34, 34, 34,\n",
       "       34, 34, 34, 34, 34, 34, 34, 24, 24, 24, 24, 24, 24, 24, 24, 24, 24,\n",
       "       24, 24, 24, 24, 24, 24, 24, 24, 34, 34, 34, 34, 34, 34, 34, 34, 34,\n",
       "       34, 34, 34, 24, 34, 34, 34, 34, 34, 34, 34, 34, 34, 34, 34, 34, 34,\n",
       "       34, 34, 34, 34, 24, 24, 34, 34, 34, 34, 34, 34, 34, 34, 34],\n",
       "      dtype=int32)"
      ]
     },
     "execution_count": 10,
     "metadata": {},
     "output_type": "execute_result"
    }
   ],
   "source": [
    "report['p']"
   ]
  },
  {
   "cell_type": "code",
   "execution_count": 11,
   "metadata": {},
   "outputs": [
    {
     "data": {
      "text/plain": [
       "array([4.42992865e-13, 4.62657690e-13, 4.74356665e-13, 4.83071916e-13,\n",
       "       4.94757013e-13, 5.08926234e-13, 5.21124810e-13, 5.28022071e-13,\n",
       "       5.33309508e-13, 5.36452827e-13, 5.45695433e-13, 5.51329815e-13,\n",
       "       5.67934588e-13, 5.93664007e-13, 6.15405296e-13, 6.34024083e-13,\n",
       "       6.53439108e-13, 6.73388970e-13, 6.86210637e-13, 7.07765443e-13,\n",
       "       7.26751992e-13, 7.66046948e-13, 9.75052622e-13, 8.63399630e-13,\n",
       "       9.24128829e-13, 9.72735781e-13, 9.49205124e-13, 9.94989681e-13,\n",
       "       9.94147483e-13, 1.08099566e-12, 1.17735332e-12, 1.27199829e-12,\n",
       "       1.36167079e-12, 1.42266322e-12, 1.53093627e-12, 1.63462814e-12,\n",
       "       1.70608951e-12, 1.80493301e-12, 1.86095956e-12, 1.93173007e-12,\n",
       "       1.94139415e-12, 1.93069276e-12, 1.87398857e-12, 1.80369131e-12,\n",
       "       2.05214317e-12, 2.32521044e-12, 2.55602714e-12, 2.73765343e-12,\n",
       "       2.88514395e-12, 2.95122775e-12, 2.95122775e-12, 2.88726610e-12,\n",
       "       2.75579528e-12, 2.55602714e-12, 2.32417375e-12, 2.04771507e-12,\n",
       "       1.80369131e-12, 1.87812273e-12, 1.93921322e-12, 1.94139415e-12,\n",
       "       1.93173007e-12, 1.87557354e-12, 1.79961139e-12, 1.70608951e-12,\n",
       "       1.63725260e-12, 1.53093627e-12, 1.42266322e-12, 1.36064850e-12,\n",
       "       1.27192365e-12, 1.17685020e-12, 1.08985825e-12, 9.93952625e-13,\n",
       "       9.94989681e-13, 9.51297201e-13, 9.70168390e-13, 9.22768806e-13,\n",
       "       8.68437267e-13, 9.75052620e-13, 7.66046948e-13, 7.26751992e-13,\n",
       "       7.08856585e-13, 6.90962912e-13, 6.72837437e-13, 6.55205057e-13,\n",
       "       6.32808042e-13, 6.15405296e-13, 5.93664007e-13, 5.67934588e-13,\n",
       "       5.59229746e-13, 5.44841949e-13, 5.37479783e-13, 5.33309508e-13,\n",
       "       5.28022071e-13, 5.21124810e-13, 5.08926234e-13, 4.95367636e-13,\n",
       "       4.81642504e-13, 4.76216289e-13, 4.62657690e-13, 4.42992865e-13])"
      ]
     },
     "execution_count": 11,
     "metadata": {},
     "output_type": "execute_result"
    }
   ],
   "source": [
    "report['qbx_integration_error']"
   ]
  },
  {
   "cell_type": "code",
   "execution_count": 12,
   "metadata": {},
   "outputs": [
    {
     "data": {
      "text/plain": [
       "array([1.001, 1.001, 1.001, 1.001, 1.001, 1.001, 1.001, 1.001, 1.001,\n",
       "       1.001, 1.001, 1.001, 1.001, 1.001, 1.001, 1.001, 1.001, 1.001,\n",
       "       1.001, 1.001, 1.001, 1.001, 1.001, 1.001, 1.001, 1.001, 1.001,\n",
       "       1.001, 1.001, 1.001, 1.001, 1.001, 1.001, 1.001, 1.001, 1.001,\n",
       "       1.001, 1.001, 1.001, 1.001, 1.001, 1.001, 1.001, 1.001, 1.001,\n",
       "       1.001, 1.001, 1.001, 1.001, 1.001, 1.001, 1.001, 1.001, 1.001,\n",
       "       1.001, 1.001, 1.001, 1.001, 1.001, 1.001, 1.001, 1.001, 1.001,\n",
       "       1.001, 1.001, 1.001, 1.001, 1.001, 1.001, 1.001, 1.001, 1.001,\n",
       "       1.001, 1.001, 1.001, 1.001, 1.001, 1.001, 1.001, 1.001, 1.001,\n",
       "       1.001, 1.001, 1.001, 1.001, 1.001, 1.001, 1.001, 1.001, 1.001,\n",
       "       1.001, 1.001, 1.001, 1.001, 1.001, 1.001, 1.001, 1.001, 1.001,\n",
       "       1.001])"
      ]
     },
     "execution_count": 12,
     "metadata": {},
     "output_type": "execute_result"
    }
   ],
   "source": [
    "report['exp_centers'][:, 1]"
   ]
  },
  {
   "cell_type": "code",
   "execution_count": 13,
   "metadata": {},
   "outputs": [
    {
     "data": {
      "image/png": "[encoded data removed]",
      "text/plain": [
       "<Figure size 432x288 with 1 Axes>"
      ]
     },
     "metadata": {
      "image/png": {
       "height": 253,
       "width": 384
      }
     },
     "output_type": "display_data"
    }
   ],
   "source": [
    "plt.plot(xs, sxz_err, 'bo')\n",
    "plt.plot(xs, report['exp_centers'][:, 0] * 1000 - 10)\n",
    "plt.plot(xs, (report['exp_centers'][:, 1] - 1) * 1000 - 10)\n",
    "plt.show()"
   ]
  },
  {
   "cell_type": "code",
   "execution_count": 14,
   "metadata": {},
   "outputs": [
    {
     "name": "stderr",
     "output_type": "stream",
     "text": [
      "/Users/tbent/Dropbox/active/eq/tectosaur2/tectosaur2/integrate.py:287: UserWarning: Some integrals failed to converge during adaptive integration. This an indication of a problem in either the integration or the problem formulation.\n",
      "  warnings.warn(\n",
      "/var/folders/mt/cmys2v_143q1kpcrdt5wcdyr0000gn/T/ipykernel_73562/2211585198.py:4: RuntimeWarning: invalid value encountered in true_divide\n",
      "  sxz = -(1.0 / (2 * np.pi)) * (((obsy + 1) / rp) - ((obsy - 1) / ri))\n",
      "/var/folders/mt/cmys2v_143q1kpcrdt5wcdyr0000gn/T/ipykernel_73562/2211585198.py:5: RuntimeWarning: invalid value encountered in true_divide\n",
      "  syz = (1.0 / (2 * np.pi)) * ((obsx / rp) - (obsx / ri))\n"
     ]
    }
   ],
   "source": [
    "from tectosaur2.laplace2d import Hypersingular\n",
    "ys = np.linspace(1.0, 1.00005, 2)\n",
    "xs = [0.0] * ys.shape[0] \n",
    "obs_pts = np.array([xs, ys]).T.copy()\n",
    "sing = np.array([(0,-1), (0, 1)])\n",
    "stress_mat, report = integrate_term(Hypersingular(d_qbx=0), obs_pts, fault, safety_mode=True, singularities=sing, return_report=True)\n",
    "interior_stress = stress_mat[:,:,:,0].sum(axis=2)\n",
    "analytical_sxz, analytical_syz = analytical_stress(obs_pts[:,0], obs_pts[:,1])\n",
    "interior_sxz = interior_stress[:,0]\n",
    "interior_syz = interior_stress[:,1]\n",
    "import warnings\n",
    "with warnings.catch_warnings():\n",
    "    warnings.simplefilter(\"ignore\")\n",
    "    sxz_err = np.log10(np.abs(interior_sxz - analytical_sxz))\n",
    "    syz_err = np.log10(np.abs(interior_syz - analytical_syz))"
   ]
  },
  {
   "cell_type": "code",
   "execution_count": 15,
   "metadata": {},
   "outputs": [
    {
     "data": {
      "image/png": "[encoded data removed]",
      "text/plain": [
       "<Figure size 432x288 with 1 Axes>"
      ]
     },
     "metadata": {
      "image/png": {
       "height": 253,
       "width": 388
      }
     },
     "output_type": "display_data"
    }
   ],
   "source": [
    "plt.plot(ys, sxz_err, 'bo')\n",
    "plt.show()\n",
    "# plt.plot(ys, report['exp_rs'])\n",
    "# plt.show()"
   ]
  },
  {
   "cell_type": "code",
   "execution_count": 16,
   "metadata": {},
   "outputs": [],
   "source": [
    "correct = analytical_sxz[1]\n",
    "tct_val = interior_sxz[1]"
   ]
  },
  {
   "cell_type": "code",
   "execution_count": 17,
   "metadata": {},
   "outputs": [
    {
     "data": {
      "text/plain": [
       "array([2000, 2000], dtype=int32)"
      ]
     },
     "execution_count": 17,
     "metadata": {},
     "output_type": "execute_result"
    }
   ],
   "source": [
    "report['nearfield_n_subsets']"
   ]
  },
  {
   "cell_type": "code",
   "execution_count": 18,
   "metadata": {},
   "outputs": [
    {
     "data": {
      "text/plain": [
       "array([5.29653494e-02, 1.32851727e-09])"
      ]
     },
     "execution_count": 18,
     "metadata": {},
     "output_type": "execute_result"
    }
   ],
   "source": [
    "report['nearfield_integration_error']"
   ]
  },
  {
   "cell_type": "code",
   "execution_count": 19,
   "metadata": {},
   "outputs": [
    {
     "data": {
      "text/plain": [
       "3183.019286342501"
      ]
     },
     "execution_count": 19,
     "metadata": {},
     "output_type": "execute_result"
    }
   ],
   "source": [
    "interior_sxz[1]"
   ]
  },
  {
   "cell_type": "code",
   "execution_count": 20,
   "metadata": {},
   "outputs": [
    {
     "data": {
      "text/plain": [
       "(3183.019286349031,\n",
       " 4.547473508864641e-13,\n",
       " 6.530171958729625e-09,\n",
       " 162,\n",
       " 2.3476803834299176e-11)"
      ]
     },
     "execution_count": 20,
     "metadata": {},
     "output_type": "execute_result"
    }
   ],
   "source": [
    "from tectosaur2.laplace2d import Hypersingular\n",
    "op = obs_pts[1:]\n",
    "# op = report['exp_centers'][50:51]\n",
    "kernel = Hypersingular()\n",
    "def integrand(srcy):\n",
    "    src_normals = np.zeros((srcy.shape[0], 2))\n",
    "    src_normals[:,0] = -1\n",
    "    entry = kernel.kernel(op, np.array([0*srcy, srcy]).T.copy(), src_normals)\n",
    "    return entry[0,0,:,0]\n",
    "\n",
    "grule = gauss_rule(8)\n",
    "def simple_quad(domain):\n",
    "    xs = domain[0] + (domain[1] - domain[0]) * ((grule[0] + 1) * 0.5)\n",
    "    ws = (domain[1] - domain[0]) * 0.5 * grule[1]\n",
    "    return np.sum(integrand(xs) * ws)\n",
    "\n",
    "def recursive_quad(domain, tol, base_value=None):\n",
    "    if base_value is None:\n",
    "        base_value = simple_quad(domain)\n",
    "    center = (domain[0] + domain[1]) * 0.5\n",
    "    ldom = [domain[0], center]\n",
    "    lval = simple_quad(ldom)\n",
    "\n",
    "    rdom = [center, domain[1]]\n",
    "    rval = simple_quad(rdom)\n",
    "    better_value = lval + rval\n",
    "    err = np.abs(better_value - base_value)\n",
    "    if err < tol:\n",
    "        return better_value, 2, err\n",
    "    else:\n",
    "        left = recursive_quad(ldom, tol, lval)\n",
    "        right = recursive_quad(rdom, tol, rval)\n",
    "        return left[0] + right[0], left[1] + right[1], left[2] + right[2]\n",
    "\n",
    "val, n_integrals, err = recursive_quad([-1, 1], 1e-12)\n",
    "val, val - correct, val - tct_val, n_integrals, err"
   ]
  },
  {
   "cell_type": "code",
   "execution_count": 21,
   "metadata": {},
   "outputs": [
    {
     "data": {
      "text/plain": [
       "(3183.01928634904,\n",
       " 9.549694368615746e-12,\n",
       " 6.539266905747354e-09,\n",
       " 208,\n",
       " 9.883760476725456e-13)"
      ]
     },
     "execution_count": 21,
     "metadata": {},
     "output_type": "execute_result"
    }
   ],
   "source": [
    "import quadpy\n",
    "kronrod_n = 10\n",
    "kronrod_rule = quadpy.c1.gauss_kronrod(kronrod_n)\n",
    "kronrod_qx = kronrod_rule.points\n",
    "kronrod_qw = kronrod_rule.weights\n",
    "gauss_r = quadpy.c1.gauss_legendre(kronrod_n)\n",
    "gauss_qx = gauss_r.points\n",
    "kronrod_qw_gauss = gauss_r.weights\n",
    "\n",
    "import heapq\n",
    "def gk_quad(domain):\n",
    "    gxs = domain[0] + (domain[1] - domain[0]) * ((gauss_qx + 1) * 0.5)\n",
    "    gws = (domain[1] - domain[0]) * 0.5 * kronrod_qw_gauss\n",
    "    kxs = domain[0] + (domain[1] - domain[0]) * ((kronrod_qx + 1) * 0.5)\n",
    "    kws = (domain[1] - domain[0]) * 0.5 * kronrod_qw\n",
    "    est1 = np.sum(integrand(gxs) * gws)\n",
    "    est2 = np.sum(integrand(kxs) * kws)\n",
    "    return est1, est2, np.abs(est2 - est1)\n",
    "\n",
    "def priority_quad(tol):\n",
    "    low_est, est, err = gk_quad([-1, 1])\n",
    "\n",
    "    queue = []\n",
    "    heapq.heappush(queue, (-err, est, -1, 1))\n",
    "\n",
    "    for i in range(1000):\n",
    "        cur_integral = heapq.heappop(queue)\n",
    "        midpt = (cur_integral[2] + cur_integral[3]) * 0.5\n",
    "        left = gk_quad([cur_integral[2], midpt])\n",
    "        right = gk_quad([midpt, cur_integral[3]])\n",
    "        err += cur_integral[0] + left[2] + right[2]\n",
    "        est += -cur_integral[1] + left[1] + right[1]\n",
    "        heapq.heappush(queue, (-left[2], left[1], cur_integral[2], midpt))\n",
    "        heapq.heappush(queue, (-right[2], right[1], midpt, cur_integral[3]))\n",
    "        if err < tol:\n",
    "            break\n",
    "    return est, i, err\n",
    "\n",
    "val, n_integrals, err = priority_quad(1e-12)\n",
    "val, val - correct, val - tct_val, n_integrals, err"
   ]
  },
  {
   "cell_type": "code",
   "execution_count": 22,
   "metadata": {},
   "outputs": [],
   "source": [
    "def kahan_update(kv, a):\n",
    "    y = a - kv[1]\n",
    "    t = kv[0] + y\n",
    "    kv[1] = (t - kv[0]) - y\n",
    "    kv[0] = t\n",
    "\n",
    "\n",
    "def exact_quad(domain):\n",
    "    rp = op[:, 0] ** 2 + (op[:, 1] - domain[0]) ** 2\n",
    "    ri = op[:, 0] ** 2 + (op[:, 1] - domain[1]) ** 2\n",
    "    sxz = -(1.0 / (2 * np.pi)) * (\n",
    "        ((op[:, 1] - domain[0]) / rp) - ((op[:, 1] - domain[1]) / ri)\n",
    "    )\n",
    "    return sxz, sxz, 0\n",
    "\n",
    "\n",
    "def kahan_priority_quad(tol, exact=False, kahan=False):\n",
    "    quad_fnc = exact_quad if exact else gk_quad\n",
    "    low_est, est_, err_ = quad_fnc([-1, 1])\n",
    "    est = [est_, 0]\n",
    "    err = [err_, 0]\n",
    "\n",
    "    queue = []\n",
    "    heapq.heappush(queue, (-err[0], est[0], -1, 1))\n",
    "\n",
    "    for i in range(1000):\n",
    "\n",
    "        cur_integral = heapq.heappop(queue)\n",
    "        midpt = (cur_integral[2] + cur_integral[3]) * 0.5\n",
    "        left = quad_fnc([cur_integral[2], midpt])\n",
    "        right = quad_fnc([midpt, cur_integral[3]])\n",
    "\n",
    "        if kahan:\n",
    "            kahan_update(err, cur_integral[0])\n",
    "            kahan_update(err, left[2])\n",
    "            kahan_update(err, right[2])\n",
    "\n",
    "            kahan_update(est, -cur_integral[1])\n",
    "            kahan_update(est, left[1])\n",
    "            kahan_update(est, right[1])\n",
    "        else:\n",
    "            err[0] += cur_integral[0] + left[2] + right[2]\n",
    "            est[0] += -cur_integral[1] + left[1] + right[1]\n",
    "\n",
    "        heapq.heappush(queue, (-left[2], left[1], cur_integral[2], midpt))\n",
    "        heapq.heappush(queue, (-right[2], right[1], midpt, cur_integral[3]))\n",
    "\n",
    "        if err[0] < tol:\n",
    "            break\n",
    "    return est[0] + est[1], i, err[0] + err[1]\n",
    "\n"
   ]
  },
  {
   "cell_type": "code",
   "execution_count": 23,
   "metadata": {},
   "outputs": [
    {
     "data": {
      "text/plain": [
       "(array([3183.01928635]), array([0.]), array([6.52971721e-09]), 0, 0)"
      ]
     },
     "execution_count": 23,
     "metadata": {},
     "output_type": "execute_result"
    }
   ],
   "source": [
    "\n",
    "val, n_integrals, err = kahan_priority_quad(1e-13, exact=True, kahan=False)\n",
    "val, val - correct, val - tct_val, n_integrals, err\n"
   ]
  }
 ],
 "metadata": {
  "interpreter": {
   "hash": "4c26072881f4ca6f75d3100a18b31bfe5236bef698e712bcccb68bb860e51d07"
  },
  "kernelspec": {
   "display_name": "Python 3.9.7 64-bit ('tectosaur2': conda)",
   "language": "python",
   "name": "python3"
  },
  "language_info": {
   "codemirror_mode": {
    "name": "ipython",
    "version": 3
   },
   "file_extension": ".py",
   "mimetype": "text/x-python",
   "name": "python",
   "nbconvert_exporter": "python",
   "pygments_lexer": "ipython3",
   "version": "3.9.7"
  },
  "orig_nbformat": 4
 },
 "nbformat": 4,
 "nbformat_minor": 2
}
