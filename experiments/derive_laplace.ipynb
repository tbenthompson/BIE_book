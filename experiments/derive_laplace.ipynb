{
 "cells": [
  {
   "cell_type": "markdown",
   "metadata": {},
   "source": [
    "This notebook derives the Laplace kernels starting from the Laplace fundamental solution. This is helpful for making sure that I haven't made any sign errors."
   ]
  },
  {
   "cell_type": "code",
   "execution_count": 1,
   "metadata": {},
   "outputs": [],
   "source": [
    "from sage.all import *"
   ]
  },
  {
   "cell_type": "code",
   "execution_count": 2,
   "metadata": {},
   "outputs": [],
   "source": [
    "nx, ny = var(\"nx, ny\")\n",
    "sx, sy, ox, oy = var(\"sx, sy, ox, oy\")\n",
    "r2 = (ox - sx) ** 2 + (oy - sy) ** 2\n",
    "r = sqrt(r2)"
   ]
  },
  {
   "cell_type": "code",
   "execution_count": 3,
   "metadata": {},
   "outputs": [],
   "source": [
    "G = -log(r2) / (4 * pi)"
   ]
  },
  {
   "cell_type": "code",
   "execution_count": 11,
   "metadata": {},
   "outputs": [
    {
     "data": {
      "text/plain": [
       "0"
      ]
     },
     "execution_count": 11,
     "metadata": {},
     "output_type": "execute_result"
    }
   ],
   "source": [
    "## check that the fundamental solution actually does have zero derivative.\n",
    "laplacian = diff(diff(G, sx), sx) + diff(diff(G, sy), sy)\n",
    "laplacian.full_simplify()"
   ]
  },
  {
   "cell_type": "code",
   "execution_count": 5,
   "metadata": {},
   "outputs": [
    {
     "data": {
      "text/plain": [
       "(ox - sx)^2/(pi*((ox - sx)^2 + (oy - sy)^2)^2) + (oy - sy)^2/(pi*((ox - sx)^2 + (oy - sy)^2)^2) - 1/(pi*((ox - sx)^2 + (oy - sy)^2))"
      ]
     },
     "execution_count": 5,
     "metadata": {},
     "output_type": "execute_result"
    }
   ],
   "source": [
    "laplacian"
   ]
  },
  {
   "cell_type": "code",
   "execution_count": 13,
   "metadata": {},
   "outputs": [
    {
     "data": {
      "text/plain": [
       "-1/2*nx*(ox - sx)/(pi*((ox - sx)^2 + (oy - sy)^2)) - 1/2*ny*(oy - sy)/(pi*((ox - sx)^2 + (oy - sy)^2))"
      ]
     },
     "execution_count": 13,
     "metadata": {},
     "output_type": "execute_result"
    }
   ],
   "source": [
    "double_layer = -diff(G, sx) * nx - diff(G, sy) * ny\n",
    "double_layer"
   ]
  },
  {
   "cell_type": "code",
   "execution_count": 14,
   "metadata": {},
   "outputs": [
    {
     "data": {
      "text/plain": [
       "(-1/2*(ox - sx)/(pi*((ox - sx)^2 + (oy - sy)^2)),\n",
       " -1/2*(oy - sy)/(pi*((ox - sx)^2 + (oy - sy)^2)))"
      ]
     },
     "execution_count": 14,
     "metadata": {},
     "output_type": "execute_result"
    }
   ],
   "source": [
    "adjoint_double_layer = diff(G, ox), diff(G, oy)\n",
    "adjoint_double_layer"
   ]
  },
  {
   "cell_type": "code",
   "execution_count": 15,
   "metadata": {},
   "outputs": [
    {
     "data": {
      "text/plain": [
       "(nx*(ox - sx)^2/(pi*((ox - sx)^2 + (oy - sy)^2)^2) + ny*(ox - sx)*(oy - sy)/(pi*((ox - sx)^2 + (oy - sy)^2)^2) - 1/2*nx/(pi*((ox - sx)^2 + (oy - sy)^2)),\n",
       " nx*(ox - sx)*(oy - sy)/(pi*((ox - sx)^2 + (oy - sy)^2)^2) + ny*(oy - sy)^2/(pi*((ox - sx)^2 + (oy - sy)^2)^2) - 1/2*ny/(pi*((ox - sx)^2 + (oy - sy)^2)))"
      ]
     },
     "execution_count": 15,
     "metadata": {},
     "output_type": "execute_result"
    }
   ],
   "source": [
    "hypersingular = diff(double_layer, ox), diff(double_layer, oy)\n",
    "hypersingular"
   ]
  }
 ],
 "metadata": {
  "interpreter": {
   "hash": "4c26072881f4ca6f75d3100a18b31bfe5236bef698e712bcccb68bb860e51d07"
  },
  "kernelspec": {
   "display_name": "SageMath 9.4",
   "language": "sage",
   "name": "SageMath-9.4"
  },
  "language_info": {
   "codemirror_mode": {
    "name": "ipython",
    "version": 3
   },
   "file_extension": ".py",
   "mimetype": "text/x-python",
   "name": "python",
   "nbconvert_exporter": "python",
   "pygments_lexer": "ipython3",
   "version": "3.9.5"
  },
  "orig_nbformat": 4
 },
 "nbformat": 4,
 "nbformat_minor": 2
}
