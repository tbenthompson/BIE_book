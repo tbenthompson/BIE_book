{
 "cells": [
  {
   "cell_type": "code",
   "execution_count": 2,
   "metadata": {},
   "outputs": [],
   "source": [
    "import numpy as np\n",
    "import quadpy\n",
    "import sympy as sp\n",
    "import numpy as np\n",
    "import matplotlib.pyplot as plt\n",
    "from tectosaur2 import gauss_rule, refine_surfaces, integrate_term, tensor_dot\n",
    "from tectosaur2.laplace2d import double_layer, hypersingular\n",
    "from tectosaur2.mesh import panelize_symbolic_surface\n",
    "from tectosaur2.debug import plot_centers"
   ]
  },
  {
   "cell_type": "code",
   "execution_count": null,
   "metadata": {},
   "outputs": [],
   "source": []
  },
  {
   "cell_type": "code",
   "execution_count": 3,
   "metadata": {},
   "outputs": [],
   "source": [
    "n_fault=3\n",
    "\n",
    "qx, qw = gauss_rule(7)\n",
    "t = sp.var(\"t\")\n",
    "\n",
    "# The number of fault panels should be a multiple of 40.\n",
    "# so that the kinks in the \"a\" parameter profile occur at panel boundaries.\n",
    "edges = np.linspace(-1, 1, n_fault+1)\n",
    "panel_bounds = np.stack((edges[:-1],edges[1:]), axis=1)\n",
    "fault = panelize_symbolic_surface(\n",
    "    t, t * 0, (t + 1) * -0.5,\n",
    "    panel_bounds,\n",
    "    qx, qw\n",
    ")"
   ]
  },
  {
   "cell_type": "code",
   "execution_count": 4,
   "metadata": {},
   "outputs": [],
   "source": [
    "from tectosaur2.mesh import build_interp_matrix, build_interpolator\n",
    "Im = build_interp_matrix(build_interpolator(fault.qx), np.array([-1,1]))\n",
    "Im = np.array(Im)"
   ]
  },
  {
   "cell_type": "code",
   "execution_count": 6,
   "metadata": {},
   "outputs": [
    {
     "data": {
      "text/plain": [
       "(2, 21)"
      ]
     },
     "execution_count": 6,
     "metadata": {},
     "output_type": "execute_result"
    }
   ],
   "source": [
    "constraints.shape"
   ]
  },
  {
   "cell_type": "code",
   "execution_count": 7,
   "metadata": {},
   "outputs": [
    {
     "data": {
      "text/plain": [
       "21"
      ]
     },
     "execution_count": 7,
     "metadata": {},
     "output_type": "execute_result"
    }
   ],
   "source": [
    "fault.n_pts"
   ]
  },
  {
   "cell_type": "code",
   "execution_count": 8,
   "metadata": {},
   "outputs": [
    {
     "data": {
      "text/plain": [
       "array([[ 0.        , -0.00848201],\n",
       "       [ 0.        , -0.04307814],\n",
       "       [ 0.        , -0.09902581],\n",
       "       [ 0.        , -0.16666667],\n",
       "       [ 0.        , -0.23430753],\n",
       "       [ 0.        , -0.2902552 ],\n",
       "       [ 0.        , -0.32485132],\n",
       "       [ 0.        , -0.34181535],\n",
       "       [ 0.        , -0.37641147],\n",
       "       [ 0.        , -0.43235914],\n",
       "       [ 0.        , -0.5       ],\n",
       "       [ 0.        , -0.56764086],\n",
       "       [ 0.        , -0.62358853],\n",
       "       [ 0.        , -0.65818465],\n",
       "       [ 0.        , -0.67514868],\n",
       "       [ 0.        , -0.7097448 ],\n",
       "       [ 0.        , -0.76569247],\n",
       "       [ 0.        , -0.83333333],\n",
       "       [ 0.        , -0.90097419],\n",
       "       [ 0.        , -0.95692186],\n",
       "       [ 0.        , -0.99151799]])"
      ]
     },
     "execution_count": 8,
     "metadata": {},
     "output_type": "execute_result"
    }
   ],
   "source": [
    "fault.pts"
   ]
  },
  {
   "cell_type": "code",
   "execution_count": 9,
   "metadata": {},
   "outputs": [
    {
     "data": {
      "text/plain": [
       "(array([-0.1       ,  0.01111111]),\n",
       " array([0.11111111, 0.44444444]),\n",
       " array([0.54444444, 1.1       ]))"
      ]
     },
     "execution_count": 9,
     "metadata": {},
     "output_type": "execute_result"
    }
   ],
   "source": [
    "field = fault.pts[:,1] ** 2\n",
    "field[:7] -= 1e-1\n",
    "field[14:] += 1e-1\n",
    "Im.dot(field[:7]), Im.dot(field[7:14]), Im.dot(field[14:])"
   ]
  },
  {
   "cell_type": "code",
   "execution_count": 19,
   "id": "ab574f3c",
   "metadata": {},
   "outputs": [
    {
     "data": {
      "image/png": "[encoded data removed]",
      "text/plain": [
       "<Figure size 720x720 with 1 Axes>"
      ]
     },
     "metadata": {
      "needs_background": "light"
     },
     "output_type": "display_data"
    }
   ],
   "source": [
    "constraints = np.zeros((fault.n_panels, fault.n_pts))\n",
    "for i in range(fault.n_panels-1):\n",
    "    constraints[i,i*fault.panel_order:(i+1)*fault.panel_order] = Im[1]\n",
    "    constraints[i,(i+1)*fault.panel_order:(i+2)*fault.panel_order] = -Im[0]\n",
    "constraints[-1,-fault.panel_order:] = Im[1]\n",
    "constraints_rhs = np.zeros(constraints.shape[0])\n",
    "constraints_rhs[-1] = 1.0\n",
    "plt.figure(figsize=(10,10))\n",
    "plt.spy(constraints[:20,:120])\n",
    "plt.show()"
   ]
  },
  {
   "cell_type": "code",
   "execution_count": 20,
   "metadata": {},
   "outputs": [],
   "source": [
    "mat = np.zeros((fault.n_pts + constraints.shape[0], fault.n_pts+constraints.shape[0]))\n",
    "mat[:fault.n_pts,:fault.n_pts] = np.eye(fault.n_pts)\n",
    "mat[fault.n_pts:,:fault.n_pts] = constraints\n",
    "mat[:fault.n_pts, fault.n_pts:] = constraints.T"
   ]
  },
  {
   "cell_type": "code",
   "execution_count": 21,
   "metadata": {},
   "outputs": [],
   "source": [
    "Cfield = np.linalg.solve(mat, np.concatenate((field, constraints_rhs)))[:-3]"
   ]
  },
  {
   "cell_type": "code",
   "execution_count": 22,
   "metadata": {},
   "outputs": [
    {
     "data": {
      "image/png": "[encoded data removed]",
      "text/plain": [
       "<Figure size 432x288 with 1 Axes>"
      ]
     },
     "metadata": {
      "needs_background": "light"
     },
     "output_type": "display_data"
    }
   ],
   "source": [
    "plt.plot(fault.pts[:,1], field)\n",
    "plt.plot(fault.pts[:,1], Cfield)\n",
    "plt.show()"
   ]
  },
  {
   "cell_type": "code",
   "execution_count": 27,
   "metadata": {},
   "outputs": [
    {
     "data": {
      "text/plain": [
       "array([ 0.00000000e+00,  0.00000000e+00,  0.00000000e+00,  0.00000000e+00,\n",
       "        6.93889390e-18, -3.46944695e-18,  2.42861287e-17,  0.00000000e+00,\n",
       "        0.00000000e+00,  0.00000000e+00,  0.00000000e+00,  0.00000000e+00,\n",
       "        5.55111512e-17,  0.00000000e+00,  1.11022302e-16,  1.11022302e-16,\n",
       "        0.00000000e+00,  0.00000000e+00,  0.00000000e+00,  0.00000000e+00,\n",
       "        0.00000000e+00])"
      ]
     },
     "execution_count": 27,
     "metadata": {},
     "output_type": "execute_result"
    }
   ],
   "source": [
    "# Ix + By = d\n",
    "# Cx + 0y = r\n",
    "\n",
    "# x = d - By\n",
    "# C(d - By) = r\n",
    "# Cd = CBy + r\n",
    "# x = Fd = (I - B(CB^-1)(Cd - r))d\n",
    "# x = (I - B(CB^-1)C)d - \n",
    "# F = (I - B((CB)^-1)C)d\n",
    "continuity = np.eye(fault.n_pts) - constraints.T.dot(np.linalg.inv(constraints.dot(constraints.T)).dot(constraints))\n",
    "y = np.linalg.inv(constraints.dot(constraints.T)).dot(constraints.dot(field) - constraints_rhs)\n",
    "c = field - constraints.T.dot(np.linalg.inv(constraints.dot(constraints.T)).dot(constraints.dot(field) - constraints_rhs))\n",
    "Cfield - c"
   ]
  },
  {
   "cell_type": "code",
   "execution_count": 14,
   "metadata": {},
   "outputs": [
    {
     "ename": "NameError",
     "evalue": "name 'CAiB' is not defined",
     "output_type": "error",
     "traceback": [
      "\u001b[0;31m---------------------------------------------------------------------------\u001b[0m",
      "\u001b[0;31mNameError\u001b[0m                                 Traceback (most recent call last)",
      "\u001b[0;32m/var/folders/mt/cmys2v_143q1kpcrdt5wcdyr0000gn/T/ipykernel_30092/1034937394.py\u001b[0m in \u001b[0;36m<module>\u001b[0;34m\u001b[0m\n\u001b[0;32m----> 1\u001b[0;31m \u001b[0mnp\u001b[0m\u001b[0;34m.\u001b[0m\u001b[0mlinalg\u001b[0m\u001b[0;34m.\u001b[0m\u001b[0mcond\u001b[0m\u001b[0;34m(\u001b[0m\u001b[0mCAiB\u001b[0m\u001b[0;34m)\u001b[0m\u001b[0;34m\u001b[0m\u001b[0;34m\u001b[0m\u001b[0m\n\u001b[0m",
      "\u001b[0;31mNameError\u001b[0m: name 'CAiB' is not defined"
     ]
    }
   ],
   "source": [
    "np.linalg.cond(CAiB)"
   ]
  },
  {
   "cell_type": "code",
   "execution_count": null,
   "metadata": {},
   "outputs": [],
   "source": []
  }
 ],
 "metadata": {
  "interpreter": {
   "hash": "a13b900b371deedcaaa6f4741c4487b3dee5037db61b5f52fddc82001a4a09c6"
  },
  "kernelspec": {
   "display_name": "Python 3.9.7 64-bit ('tectosaur2': conda)",
   "language": "python",
   "name": "python3"
  },
  "language_info": {
   "codemirror_mode": {
    "name": "ipython",
    "version": 3
   },
   "file_extension": ".py",
   "mimetype": "text/x-python",
   "name": "python",
   "nbconvert_exporter": "python",
   "pygments_lexer": "ipython3",
   "version": "3.9.7"
  },
  "orig_nbformat": 4
 },
 "nbformat": 4,
 "nbformat_minor": 2
}
