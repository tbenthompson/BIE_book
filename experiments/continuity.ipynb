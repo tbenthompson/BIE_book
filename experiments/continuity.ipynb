{
 "cells": [
  {
   "cell_type": "code",
   "execution_count": 2,
   "metadata": {},
   "outputs": [],
   "source": [
    "import numpy as np\n",
    "import quadpy"
   ]
  },
  {
   "cell_type": "code",
   "execution_count": 36,
   "metadata": {},
   "outputs": [
    {
     "data": {
      "text/plain": [
       "(11,\n",
       " array([-9.84085360e-01, -9.06179846e-01, -7.54166727e-01, -5.38469310e-01,\n",
       "        -2.79630413e-01, -3.33066907e-16,  2.79630413e-01,  5.38469310e-01,\n",
       "         7.54166727e-01,  9.06179846e-01,  9.84085360e-01]),\n",
       " array([0.04258204, 0.11523332, 0.1868008 , 0.24104034, 0.2728498 ,\n",
       "        0.28298742, 0.2728498 , 0.24104034, 0.1868008 , 0.11523332,\n",
       "        0.04258204]),\n",
       " array([0.23692689, 0.47862867, 0.56888889, 0.47862867, 0.23692689]))"
      ]
     },
     "execution_count": 36,
     "metadata": {},
     "output_type": "execute_result"
    }
   ],
   "source": [
    "kronrod_n = 5\n",
    "kronrod_rule = quadpy.c1.gauss_kronrod(kronrod_n, )\n",
    "kronrod_qx = kronrod_rule.points\n",
    "kronrod_qw = kronrod_rule.weights\n",
    "gauss_rule = quadpy.c1.gauss_legendre(kronrod_n)\n",
    "gauss_qx = gauss_rule.points\n",
    "kronrod_qw_gauss = gauss_rule.weights\n",
    "np.testing.assert_allclose(gauss_qx, kronrod_qx[1::2], atol=1e-10)\n",
    "kronrod_qx.shape[0], kronrod_qx, kronrod_qw, kronrod_qw_gauss"
   ]
  },
  {
   "cell_type": "code",
   "execution_count": 37,
   "metadata": {},
   "outputs": [
    {
     "name": "stdout",
     "output_type": "stream",
     "text": [
      "-0.3784012476612154 -0.37779512920215175 -0.0006061184590636648 -7.251255151885516e-12 0.0006061184518124096\n"
     ]
    }
   ],
   "source": [
    "A = 4\n",
    "f = lambda x: np.cos(A*x)\n",
    "true = np.sin(A) / A - np.sin(-A) / A\n",
    "est1 = 0\n",
    "est2 = 0\n",
    "for i in range(kronrod_qx.shape[0]):\n",
    "    est1 += f(kronrod_qx[i]) * kronrod_qw[i]\n",
    "    est2 += f(kronrod_qx[i]) * (kronrod_qw_gauss[i//2] if i % 2 == 1 else 0)\n",
    "print(est1, est2, est1-est2, est1-true, est2-true)"
   ]
  },
  {
   "cell_type": "code",
   "execution_count": null,
   "metadata": {},
   "outputs": [],
   "source": []
  }
 ],
 "metadata": {
  "interpreter": {
   "hash": "a13b900b371deedcaaa6f4741c4487b3dee5037db61b5f52fddc82001a4a09c6"
  },
  "kernelspec": {
   "display_name": "Python 3.9.7 64-bit ('tectosaur2': conda)",
   "language": "python",
   "name": "python3"
  },
  "language_info": {
   "codemirror_mode": {
    "name": "ipython",
    "version": 3
   },
   "file_extension": ".py",
   "mimetype": "text/x-python",
   "name": "python",
   "nbconvert_exporter": "python",
   "pygments_lexer": "ipython3",
   "version": "3.9.7"
  },
  "orig_nbformat": 4
 },
 "nbformat": 4,
 "nbformat_minor": 2
}
