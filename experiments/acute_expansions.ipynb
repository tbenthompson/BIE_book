{
 "cells": [
  {
   "cell_type": "code",
   "execution_count": 1,
   "metadata": {},
   "outputs": [],
   "source": [
    "import numpy as np\n",
    "import sympy as sp\n",
    "import scipy.spatial\n",
    "from tectosaur2.mesh import build_interp_matrix, gauss_rule, refine_surfaces, concat_meshes, build_interpolator"
   ]
  },
  {
   "cell_type": "code",
   "execution_count": 2,
   "metadata": {},
   "outputs": [],
   "source": [
    "qx, qw = gauss_rule(6)\n"
   ]
  },
  {
   "cell_type": "code",
   "execution_count": 3,
   "metadata": {},
   "outputs": [],
   "source": [
    "sp_t = sp.var('t')\n",
    "def sp_line(start, end):\n",
    "    t01 = (sp_t + 1) * 0.5\n",
    "    xv = start[0] + t01 * (end[0] - start[0])\n",
    "    yv = start[1] + t01 * (end[1] - start[1])\n",
    "    return sp_t, xv, yv\n",
    "\n",
    "\n",
    "A, B = refine_surfaces(\n",
    "    [\n",
    "        sp_line([0, 0], [10, -1]),\n",
    "        sp_line([0, 0], [13, 0]),\n",
    "    ],\n",
    "    (qx, qw),\n",
    "    control_points=[(0, 0, 1.0, 1.0)],\n",
    ")"
   ]
  },
  {
   "cell_type": "code",
   "execution_count": 11,
   "metadata": {},
   "outputs": [],
   "source": [
    "obs_pts = A.pts\n",
    "safety_mode = True\n",
    "combined_src = concat_meshes((A,B))\n",
    "\n",
    "singularities= np.array([[0,0]])\n",
    "if singularities is not None:\n",
    "    singularity_tree = scipy.spatial.KDTree(\n",
    "        np.asarray(singularities, dtype=np.float64)\n",
    "    )\n",
    "\n",
    "src_tree = scipy.spatial.KDTree(combined_src.pts)\n",
    "closest_dist, closest_idx = src_tree.query(obs_pts)\n",
    "closest_panel_length = combined_src.panel_length[\n",
    "    closest_idx // combined_src.panel_order\n",
    "]\n",
    "\n",
    "use_qbx = np.ones((obs_pts.shape[0]), dtype=bool)\n",
    "n_qbx = obs_pts.shape[0]\n",
    "qbx_obs_pts = obs_pts[use_qbx]\n",
    "qbx_src_pt_indices = closest_idx[use_qbx]\n",
    "qbx_closest_pts = combined_src.pts[qbx_src_pt_indices]\n",
    "qbx_normals = combined_src.normals[qbx_src_pt_indices]\n",
    "qbx_panel_L = closest_panel_length[use_qbx]\n",
    "\n",
    "# step 3: find expansion centers\n",
    "exp_rs = qbx_panel_L * 0.5\n",
    "\n",
    "direction_dot = (\n",
    "    np.sum(qbx_normals * (qbx_obs_pts - qbx_closest_pts), axis=1) / exp_rs\n",
    ")\n",
    "direction = np.sign(direction_dot)\n",
    "on_surface = np.abs(direction) < 1e-13\n",
    "\n",
    "# TODO: it would be possible to implement a limit_direction='best'\n",
    "# option that chooses the side that allows the expansion point to be\n",
    "# further from the source surfaces and then returns the side used. then,\n",
    "# external knowledge of the integral equation could be used to handle\n",
    "# the jump relation and gather the value on the side the user cares\n",
    "# about\n",
    "direction[on_surface] = 1.0\n",
    "\n",
    "for j in range(30):\n",
    "    which_violations = np.zeros(n_qbx, dtype=bool)\n",
    "    exp_centers = (\n",
    "        qbx_obs_pts + direction[:, None] * qbx_normals * exp_rs[:, None]\n",
    "    )\n",
    "\n",
    "    ## flip the question. if the distance from a panel center to an expansion center is less than half the panel length then it's\n",
    "    dist_to_nearest_panel, nearest_idx = src_tree.query(exp_centers, k=2)\n",
    "    ## TODO: this can be decreased from 4.0 to ~2.0 once the distance to\n",
    "    # nearest panel algorithm is improved.\n",
    "    nearby_surface_ratio = 1.5 if safety_mode else 1.0001\n",
    "    which_violations = dist_to_nearest_panel[\n",
    "        :, 1\n",
    "    ] < nearby_surface_ratio * np.abs(exp_rs)\n",
    "    nearest_not_owner = np.where(nearest_idx[:, 0] != qbx_src_pt_indices)[0]\n",
    "    break\n",
    "    # which_violations[nearest_not_owner] = True\n",
    "\n",
    "    # # if singularities is not None:\n",
    "    # #     singularity_dist_ratio = 3.0\n",
    "    # #     dist_to_singularity, _ = singularity_tree.query(exp_centers)\n",
    "    # #     which_violations |= (\n",
    "    # #         dist_to_singularity <= singularity_dist_ratio * np.abs(exp_rs)\n",
    "    # #     )\n",
    "\n",
    "    # if not which_violations.any():\n",
    "    #     break\n",
    "    # exp_rs[which_violations] *= 0.75"
   ]
  },
  {
   "cell_type": "code",
   "execution_count": 5,
   "metadata": {},
   "outputs": [],
   "source": [
    "from tectosaur2._ext import identify_nearfield_panels\n",
    "qbx_panel_src_pts = src_tree.query_ball_point(\n",
    "    qbx_obs_pts, (3 + 0.5) * qbx_panel_L, return_sorted=True\n",
    ")\n",
    "\n",
    "(\n",
    "    qbx_panels,\n",
    "    qbx_panel_starts,\n",
    "    qbx_panel_obs_pts,\n",
    "    qbx_panel_obs_pt_starts,\n",
    ") = identify_nearfield_panels(\n",
    "    n_qbx,\n",
    "    qbx_panel_src_pts,\n",
    "    combined_src.n_panels,\n",
    "    combined_src.panel_order,\n",
    ")"
   ]
  },
  {
   "cell_type": "code",
   "execution_count": 17,
   "metadata": {},
   "outputs": [],
   "source": [
    "nearby_singularities = singularity_tree.query_ball_point(qbx_obs_pts, 4.5*qbx_panel_L)\n",
    "nearby_singularities_starts = np.zeros(n_qbx+1, dtype=int)\n",
    "nearby_singularities_starts[1:] = np.cumsum([len(ns) for ns in nearby_singularities])"
   ]
  },
  {
   "cell_type": "code",
   "execution_count": 6,
   "metadata": {},
   "outputs": [],
   "source": [
    "interpolator = build_interpolator(combined_src.qx)\n",
    "Im = build_interp_matrix(interpolator, np.linspace(-1, 1, 1000))"
   ]
  },
  {
   "cell_type": "code",
   "execution_count": 51,
   "metadata": {},
   "outputs": [
    {
     "data": {
      "text/plain": [
       "0.01249999999999929"
      ]
     },
     "execution_count": 51,
     "metadata": {},
     "output_type": "execute_result"
    }
   ],
   "source": [
    "a = np.array([0,0])\n",
    "b = np.array([1.1,0.1])\n",
    "c = np.array([1.2,0.05])\n",
    "R = np.linalg.norm(b-a)\n",
    "v = (b-a) / R;\n",
    "d = np.linalg.norm(b-c)\n",
    "S = np.linalg.norm(c-a)\n",
    "\n",
    "S**2 + R**2 + 2*R*(a-c).dot(v)"
   ]
  },
  {
   "cell_type": "code",
   "execution_count": 10,
   "metadata": {},
   "outputs": [
    {
     "name": "stdout",
     "output_type": "stream",
     "text": [
      "0 False 0 7.47803247653517e-05\n",
      "1 False 0 7.47803247653517e-05\n",
      "2 False 0 9.97070996871356e-05\n",
      "3 False 0 9.97070996871356e-05\n",
      "4 False 0 7.47803247653517e-05\n",
      "5 False 0 7.47803247653517e-05\n",
      "6 False 0 7.47803247653517e-05\n",
      "7 False 0 7.47803247653517e-05\n",
      "8 False 0 9.97070996871356e-05\n",
      "9 False 0 9.97070996871356e-05\n",
      "10 False 0 7.47803247653517e-05\n",
      "11 False 0 7.47803247653517e-05\n",
      "12 False 0 0.0001495606495307034\n",
      "13 False 0 0.0001495606495307034\n",
      "14 False 0 0.0001994141993742712\n",
      "15 False 0 0.0001994141993742712\n",
      "16 False 0 0.0001495606495307034\n",
      "17 False 0 0.0001495606495307034\n",
      "18 False 0 0.019896462373301747\n",
      "19 False 0 0.11179137157893548\n",
      "20 False 0 0.264986954853773\n",
      "21 False 0 0.3533159398050306\n",
      "22 False 0 0.47108791974004083\n",
      "23 False 0 0.6281172263200544\n",
      "24 False 0 0.6281172263200544\n",
      "25 False 0 0.6281172263200544\n",
      "26 False 0 0.6281172263200544\n",
      "27 False 0 0.6281172263200544\n",
      "28 False 0 0.6281172263200544\n",
      "29 False 0 0.6281172263200544\n",
      "30 False 0 1.2562344526401088\n",
      "31 False 0 1.2562344526401088\n",
      "32 False 0 1.2562344526401088\n",
      "33 False 0 1.2562344526401088\n",
      "34 False 0 1.2562344526401088\n",
      "35 False 0 1.2562344526401088\n",
      "36 False 0 1.2562344526401088\n",
      "37 False 0 1.2562344526401088\n",
      "38 False 0 1.2562344526401088\n",
      "39 False 0 1.2562344526401088\n",
      "40 False 0 1.2562344526401088\n",
      "41 False 0 1.2562344526401088\n"
     ]
    }
   ],
   "source": [
    "for i in range(n_qbx):\n",
    "    for j in range(30):\n",
    "        violation = False\n",
    "        for p in qbx_panels[:6]:\n",
    "            nq = combined_src.panel_order\n",
    "            panel_pts = combined_src.pts[p * nq : (p + 1) * nq]\n",
    "            interp_pts = Im.dot(panel_pts)\n",
    "            dist = np.linalg.norm(exp_centers[i, None] - interp_pts, axis=1)\n",
    "            if np.min(dist) < 2 * exp_rs[i]:\n",
    "                violation = True\n",
    "                break\n",
    "\n",
    "        nearby_start = nearby_singularities_starts[i]\n",
    "        nearby_end = nearby_singularities_starts[i + 1]\n",
    "        sing_locs = singularities[nearby_singularities[nearby_start:nearby_end]]\n",
    "        sing_dist = np.linalg.norm(exp_centers[i, None] - interp_pts, axis=1)\n",
    "        if np.min(sing_dist) < 3 * exp_rs[i]:\n",
    "            violation=True\n",
    "\n",
    "        print(i, violation, j, exp_rs[i])\n",
    "        if violation:\n",
    "            exp_rs[i] *= 0.75\n",
    "            exp_centers[i] = (\n",
    "                qbx_obs_pts[i]\n",
    "                + direction[i, None] * qbx_normals[i] * exp_rs[i, None]\n",
    "            )\n",
    "        else:\n",
    "            break"
   ]
  },
  {
   "cell_type": "code",
   "execution_count": 48,
   "metadata": {},
   "outputs": [
    {
     "data": {
      "image/png": "[encoded data removed]",
      "text/plain": [
       "<Figure size 432x288 with 1 Axes>"
      ]
     },
     "metadata": {
      "needs_background": "light"
     },
     "output_type": "display_data"
    }
   ],
   "source": [
    "import matplotlib.pyplot as plt\n",
    "cs = exp_centers\n",
    "rs = exp_rs\n",
    "for s in [A,B]:\n",
    "    plt.plot(s.pts[:, 0], s.pts[:, 1], \"r-o\")\n",
    "plt.plot(cs[:, 0], cs[:, 1], \"k.\", markersize=10)\n",
    "for i in range(cs.shape[0]):\n",
    "    plt.gca().add_patch(plt.Circle(cs[i], rs[i], color=\"k\", fill=False))\n",
    "plt.axis(\"scaled\")\n",
    "plt.xlim([-0.02,0.2])\n",
    "plt.ylim([-0.03,0.02])\n",
    "plt.show()"
   ]
  },
  {
   "cell_type": "code",
   "execution_count": null,
   "metadata": {},
   "outputs": [],
   "source": []
  }
 ],
 "metadata": {
  "interpreter": {
   "hash": "4c26072881f4ca6f75d3100a18b31bfe5236bef698e712bcccb68bb860e51d07"
  },
  "kernelspec": {
   "display_name": "Python 3.9.7 64-bit ('tectosaur2': conda)",
   "language": "python",
   "name": "python3"
  },
  "language_info": {
   "codemirror_mode": {
    "name": "ipython",
    "version": 3
   },
   "file_extension": ".py",
   "mimetype": "text/x-python",
   "name": "python",
   "nbconvert_exporter": "python",
   "pygments_lexer": "ipython3",
   "version": "3.9.7"
  },
  "orig_nbformat": 4
 },
 "nbformat": 4,
 "nbformat_minor": 2
}
