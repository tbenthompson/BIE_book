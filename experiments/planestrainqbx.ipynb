{
 "cells": [
  {
   "cell_type": "code",
   "execution_count": 1,
   "metadata": {},
   "outputs": [],
   "source": [
    "import sympy as sp\n",
    "from sympy import conjugate as con"
   ]
  },
  {
   "cell_type": "code",
   "execution_count": 142,
   "metadata": {},
   "outputs": [],
   "source": [
    "lam, kappa, mu, nu  = sp.var('\\\\lambda, \\\\kappa, \\\\mu, \\\\nu', real=True)\n",
    "z, w = sp.var('z, w')\n",
    "tw = sp.var('t_w')\n",
    "zx, zy = sp.var(\"z_x, z_y\", real=True)\n",
    "U = sp.Function('U')\n",
    "nu_expr = sp.solve(3 - 4 * nu - kappa, nu)[0]\n",
    "lam_expr = (2 * mu * nu / (1 - 2 * nu))\n",
    "kappa_expr = sp.solve(\n",
    "    lam_expr.subs(nu, nu_expr).simplify() - lam, kappa\n",
    ")[0]\n",
    "G = sp.Function('G')\n",
    "Gp = sp.Function('G_1')\n",
    "g1, g2 = sp.var('g_1, g_2')\n",
    "C = sp.var('C', real=True)"
   ]
  },
  {
   "cell_type": "code",
   "execution_count": 154,
   "metadata": {},
   "outputs": [],
   "source": [
    "\n",
    "Ux = sp.Rational(1,2) * (U(zx, zy,w) + con(U(zx, zy,w)))\n",
    "Uy = -sp.I * sp.Rational(1,2) * (U(zx, zy,w) - con(U(zx,zy,w)))\n",
    "uxx = sp.diff(Ux, zx)\n",
    "uxy = sp.diff(Ux, zy)\n",
    "uyx = sp.diff(Uy, zx)\n",
    "uyy = sp.diff(Uy, zy)\n",
    "sxx = lam * (uxx + uyy) + 2 * mu * uxx\n",
    "sxy = mu * (uxy + uyx)\n",
    "syx = sxy\n",
    "syy = lam * (uxx + uyy) + 2 * mu * uyy"
   ]
  },
  {
   "cell_type": "code",
   "execution_count": 167,
   "metadata": {},
   "outputs": [
    {
     "data": {
      "text/latex": [
       "$\\displaystyle \\frac{\\overline{\\frac{\\partial}{\\partial z_{x}} U{\\left(z_{x},z_{y},w \\right)}}}{4} + \\frac{\\overline{\\frac{\\partial}{\\partial z_{y}} U{\\left(z_{x},z_{y},w \\right)}}}{4} + \\frac{\\frac{\\partial}{\\partial z_{x}} U{\\left(z_{x},z_{y},w \\right)}}{4} + \\frac{\\frac{\\partial}{\\partial z_{y}} U{\\left(z_{x},z_{y},w \\right)}}{4}$"
      ],
      "text/plain": [
       "conjugate(Derivative(U(z_x, z_y, w), z_x))/4 + conjugate(Derivative(U(z_x, z_y, w), z_y))/4 + Derivative(U(z_x, z_y, w), z_x)/4 + Derivative(U(z_x, z_y, w), z_y)/4"
      ]
     },
     "execution_count": 167,
     "metadata": {},
     "output_type": "execute_result"
    }
   ],
   "source": [
    "(sp.Rational(1,2) * (sp.diff(Ux, zx) + sp.diff(Ux, zy))).simplify()"
   ]
  },
  {
   "cell_type": "code",
   "execution_count": 171,
   "metadata": {},
   "outputs": [
    {
     "data": {
      "text/latex": [
       "$\\displaystyle i C \\mu \\left(\\kappa \\left(2 g_{1} \\overline{t_{w}} - 2 t_{w} \\overline{g_{1}}\\right) + g_{2} t_{w} \\left(- \\overline{w} + \\overline{z}\\right) + \\left(w - z\\right) \\overline{g_{2}} \\overline{t_{w}}\\right)$"
      ],
      "text/plain": [
       "I*C*\\mu*(\\kappa*(2*g_1*conjugate(t_w) - 2*t_w*conjugate(g_1)) + g_2*t_w*(-conjugate(w) + conjugate(z)) + (w - z)*conjugate(g_2)*conjugate(t_w))"
      ]
     },
     "execution_count": 171,
     "metadata": {},
     "output_type": "execute_result"
    }
   ],
   "source": [
    "Usubs = C * ((kappa * (G(zx, zy,z,w) + con(G(zx, zy,z,w)))) * tw - (w - (zx + sp.I * zy)) * con(Gp(zx, zy,z,w) * tw))\n",
    "expr = (sxy\n",
    "    .subs(U(zx,zy,w), Usubs)\n",
    "    .simplify()\n",
    "    .subs(sp.diff(G(zx, zy, z, w), zx), g1 + con(g1))\n",
    "    .subs(sp.diff(G(zx, zy, z, w), zy), sp.I * (g1 - con(g1)))\n",
    "    .subs(sp.diff(Gp(zx, zy, z, w), zx), g2 + con(g2))\n",
    "    .subs(sp.diff(Gp(zx, zy, z, w), zy), sp.I * (g2 - con(g2)))\n",
    "    .subs(lam, lam_expr)\n",
    "    .subs(nu,nu_expr)\n",
    "    .simplify()\n",
    "    .factor()\n",
    "    .collect((kappa, g2, con(g2), tw, con(tw)))\n",
    "    .collect(tw)\n",
    "    .subs(zx - sp.I * zy, con(z))\n",
    "    .collect(con(tw))\n",
    "    .subs(zx + sp.I * zy, z)\n",
    ")\n",
    "expr"
   ]
  },
  {
   "cell_type": "code",
   "execution_count": 183,
   "metadata": {},
   "outputs": [
    {
     "data": {
      "text/latex": [
       "$\\displaystyle -1$"
      ],
      "text/plain": [
       "-1"
      ]
     },
     "execution_count": 183,
     "metadata": {},
     "output_type": "execute_result"
    }
   ],
   "source": [
    "sp.exp(-2 * sp.I * sp.pi / 2)"
   ]
  },
  {
   "cell_type": "code",
   "execution_count": 184,
   "metadata": {},
   "outputs": [
    {
     "data": {
      "text/latex": [
       "$\\displaystyle - \\frac{\\kappa \\left(- w + z + \\overline{w} - \\overline{z}\\right)}{\\left(w - z\\right) \\left(\\overline{w} - \\overline{z}\\right)} + \\frac{- w + z + \\overline{w} - \\overline{z}}{\\left(\\overline{w} - \\overline{z}\\right)^{2}}$"
      ],
      "text/plain": [
       "-\\kappa*(-w + z + conjugate(w) - conjugate(z))/((w - z)*(conjugate(w) - conjugate(z))) + (-w + z + conjugate(w) - conjugate(z))/(conjugate(w) - conjugate(z))**2"
      ]
     },
     "execution_count": 184,
     "metadata": {},
     "output_type": "execute_result"
    }
   ],
   "source": [
    "k1dz = sp.diff(sp.log((z-w)/(con(z)-con(w))), w).subs(sp.diff(con(w), w), 1).simplify()\n",
    "k2dz = (sp.diff((z-w)/(con(z)-con(w)), w)).subs(sp.diff(con(w), w), 1).simplify()\n",
    "-kappa * k1dz + k2dz"
   ]
  },
  {
   "cell_type": "code",
   "execution_count": null,
   "metadata": {},
   "outputs": [],
   "source": []
  },
  {
   "cell_type": "code",
   "execution_count": 99,
   "metadata": {},
   "outputs": [
    {
     "data": {
      "text/latex": [
       "$\\displaystyle \\lambda u_{xx} + \\lambda u_{yy} + \\mu u_{xx} + 2 \\mu u_{xy} + 2 \\mu u_{yx} + \\mu u_{yy}$"
      ],
      "text/plain": [
       "\\lambda*u_{xx} + \\lambda*u_{yy} + \\mu*u_{xx} + 2*\\mu*u_{xy} + 2*\\mu*u_{yx} + \\mu*u_{yy}"
      ]
     },
     "metadata": {},
     "output_type": "display_data"
    },
    {
     "data": {
      "text/latex": [
       "$\\displaystyle 0$"
      ],
      "text/plain": [
       "0"
      ]
     },
     "metadata": {},
     "output_type": "display_data"
    },
    {
     "data": {
      "text/latex": [
       "$\\displaystyle \\lambda u_{xx} + \\lambda u_{yy} + \\mu u_{xx} - 2 \\mu u_{xy} - 2 \\mu u_{yx} + \\mu u_{yy}$"
      ],
      "text/plain": [
       "\\lambda*u_{xx} + \\lambda*u_{yy} + \\mu*u_{xx} - 2*\\mu*u_{xy} - 2*\\mu*u_{yx} + \\mu*u_{yy}"
      ]
     },
     "metadata": {},
     "output_type": "display_data"
    },
    {
     "data": {
      "text/latex": [
       "$\\displaystyle 0$"
      ],
      "text/plain": [
       "0"
      ]
     },
     "metadata": {},
     "output_type": "display_data"
    }
   ],
   "source": [
    "\n",
    "ux = sp.Function(\"u_x\", real=True)\n",
    "uy = sp.Function(\"u_y\", real=True)\n",
    "zx, zy = sp.var(\"z_x, z_y\", real=True)\n",
    "u = ux(zx, zy) + uy(zx, zy) * sp.I\n",
    "d_fnc = lambda f: sp.Rational(1, 2) * (sp.diff(f, zx) - sp.I * sp.diff(f, zy))\n",
    "d_con_fnc = lambda f: sp.Rational(1, 2) * (sp.diff(f, zx) + sp.I * sp.diff(f, zy))\n",
    "\n",
    "# t1 = (2 * mu) * ((d_fnc(u) + d_con_fnc(con(u))) / (kappa_expr - 1))\n",
    "# t2 = (2 * mu) * d_con_fnc(u)\n",
    "t1 = (2 * mu) * ((d_fnc(u) + con(d_fnc(u))) / (kappa_expr - 1))\n",
    "# t2 = (2 * mu) * con(d_fnc(con(u)))\n",
    "t2 = (2 * mu) * -sp.I * (con(d_fnc(con(u))) - d_fnc(con(u)))\n",
    "\n",
    "uxx, uxy, uyx, uyy = sp.var(\"u_{xx}, u_{xy}, u_{yx}, u_{yy}\", real=True)\n",
    "t_sxx_sxy = (\n",
    "    (t1 + t2).simplify()\n",
    "    .subs(sp.diff(ux(zx, zy), zx), uxx)\n",
    "    .subs(sp.diff(ux(zx, zy), zy), uxy)\n",
    "    .subs(sp.diff(uy(zx, zy), zx), uyx)\n",
    "    .subs(sp.diff(uy(zx, zy), zy), uyy)\n",
    ")\n",
    "sxx = sp.re(t_sxx_sxy).expand()\n",
    "sxy = sp.im(t_sxx_sxy).expand()\n",
    "\n",
    "t_syy_syx = (\n",
    "    (t1 - t2).simplify()\n",
    "    .subs(sp.diff(ux(zx, zy), zx), uxx)\n",
    "    .subs(sp.diff(ux(zx, zy), zy), uxy)\n",
    "    .subs(sp.diff(uy(zx, zy), zx), uyx)\n",
    "    .subs(sp.diff(uy(zx, zy), zy), uyy)\n",
    ")\n",
    "syy = sp.re(t_syy_syx).expand()\n",
    "syx = -sp.im(t_syy_syx).expand()\n",
    "\n",
    "from IPython.display import display\n",
    "display(sxx)\n",
    "display(sxy)\n",
    "display(syy)\n",
    "display(syx)\n"
   ]
  },
  {
   "cell_type": "code",
   "execution_count": 185,
   "metadata": {},
   "outputs": [
    {
     "data": {
      "text/latex": [
       "$\\displaystyle 2 C \\mu \\left(g_{1} t_{w} + \\overline{g_{1}} \\overline{t_{w}}\\right)$"
      ],
      "text/plain": [
       "2*C*\\mu*(g_1*t_w + conjugate(g_1)*conjugate(t_w))"
      ]
     },
     "metadata": {},
     "output_type": "display_data"
    },
    {
     "data": {
      "text/latex": [
       "$\\displaystyle 2 C \\mu \\left(\\kappa t_{w} \\overline{g_{1}} + \\left(w - z\\right) \\overline{g_{2}} \\overline{t_{w}}\\right)$"
      ],
      "text/plain": [
       "2*C*\\mu*(\\kappa*t_w*conjugate(g_1) + (w - z)*conjugate(g_2)*conjugate(t_w))"
      ]
     },
     "metadata": {},
     "output_type": "display_data"
    }
   ],
   "source": [
    "zv = sp.var('z')\n",
    "t1 = (2 * mu) * ((d_fnc(u) + con(d_fnc(u))) / (kappa - 1))\n",
    "t2 = (2 * mu) * con(d_fnc(con(u)))\n",
    "z = zx + zy * sp.I\n",
    "G = sp.Function('G')\n",
    "Gp = sp.Function('G_1')\n",
    "g1, g2 = sp.var('g_1, g_2')\n",
    "g2x, g2y = sp.var('g_{2x}, g_{2y}')\n",
    "C = sp.var('C', real=True)\n",
    "U = C * ((kappa * (G(z,w) + con(G(z,w)))) * tw + (w - z) * con(Gp(z,w) * tw))\n",
    "xi1 = sp.var('_xi_1')\n",
    "def proc(expr): \n",
    "    return (\n",
    "        expr\n",
    "        .subs(ux(zx, zy), sp.Rational(1,2) * (U + con(U)))\n",
    "        .subs(uy(zx, zy), -sp.I * sp.Rational(1,2) * (U - con(U)))\n",
    "        .simplify()\n",
    "        .replace(sp.Subs(sp.Derivative(G(xi1, w), xi1), xi1, z), g1)\n",
    "        .replace(sp.Subs(sp.Derivative(Gp(xi1, w), xi1), xi1, z), g2)\n",
    "        .subs(Gp(z, w), g1)\n",
    "        .collect(con(g2 * tw)).subs(z, zv)\n",
    "        .simplify()\n",
    "        .collect(con(g1) * con(tw))\n",
    "        .collect(g1 * tw)\n",
    "    )\n",
    "t1_proc = proc(t1)\n",
    "t2_proc = proc(t2)\n",
    "display(t1_proc)\n",
    "display(t2_proc)   "
   ]
  },
  {
   "cell_type": "code",
   "execution_count": 96,
   "metadata": {},
   "outputs": [
    {
     "data": {
      "text/latex": [
       "$\\displaystyle 2 \\mu \\left(\\frac{i \\left(\\overline{\\frac{\\partial}{\\partial z_{y}} \\operatorname{u_{x}}{\\left(z_{x},z_{y} \\right)}} + i \\overline{\\frac{\\partial}{\\partial z_{y}} \\operatorname{u_{y}}{\\left(z_{x},z_{y} \\right)}}\\right)}{2} + \\frac{\\overline{\\frac{\\partial}{\\partial z_{x}} \\operatorname{u_{x}}{\\left(z_{x},z_{y} \\right)}}}{2} + \\frac{i \\overline{\\frac{\\partial}{\\partial z_{x}} \\operatorname{u_{y}}{\\left(z_{x},z_{y} \\right)}}}{2}\\right)$"
      ],
      "text/plain": [
       "2*\\mu*(I*(conjugate(Derivative(u_x(z_x, z_y), z_y)) + I*conjugate(Derivative(u_y(z_x, z_y), z_y)))/2 + conjugate(Derivative(u_x(z_x, z_y), z_x))/2 + I*conjugate(Derivative(u_y(z_x, z_y), z_x))/2)"
      ]
     },
     "execution_count": 96,
     "metadata": {},
     "output_type": "execute_result"
    }
   ],
   "source": [
    "t2"
   ]
  },
  {
   "cell_type": "code",
   "execution_count": 92,
   "metadata": {},
   "outputs": [],
   "source": [
    "sxx_sxy = (t1_proc + t2_proc).simplify()"
   ]
  },
  {
   "cell_type": "code",
   "execution_count": 93,
   "metadata": {},
   "outputs": [],
   "source": [
    "syy_sxy = sp.I * (t1_proc - t2_proc).simplify()"
   ]
  },
  {
   "cell_type": "code",
   "execution_count": 95,
   "metadata": {},
   "outputs": [
    {
     "data": {
      "text/latex": [
       "$\\displaystyle \\operatorname{re}{\\left(2 C \\mu \\left(\\kappa t_{w} \\overline{g_{1}} + g_{1} t_{w} + \\left(w - z\\right) \\overline{g_{2}} \\overline{t_{w}} + \\overline{g_{1}} \\overline{t_{w}}\\right)\\right)}$"
      ],
      "text/plain": [
       "re(2*C*\\mu*(\\kappa*t_w*conjugate(g_1) + g_1*t_w + (w - z)*conjugate(g_2)*conjugate(t_w) + conjugate(g_1)*conjugate(t_w)))"
      ]
     },
     "execution_count": 95,
     "metadata": {},
     "output_type": "execute_result"
    }
   ],
   "source": [
    "sp.re(sxx_sxy, evaluate=False)"
   ]
  },
  {
   "cell_type": "code",
   "execution_count": 48,
   "metadata": {},
   "outputs": [
    {
     "data": {
      "text/latex": [
       "$\\displaystyle \\left(\\kappa + 1\\right) \\left(\\frac{2 C \\mu g_{1} tw}{\\kappa - 1} + \\frac{2 C \\mu \\overline{g_{1}} \\overline{tw}}{\\kappa - 1}\\right)$"
      ],
      "text/plain": [
       "(\\kappa + 1)*(2*C*\\mu*g_1*tw/(\\kappa - 1) + 2*C*\\mu*conjugate(g_1)*conjugate(tw)/(\\kappa - 1))"
      ]
     },
     "execution_count": 48,
     "metadata": {},
     "output_type": "execute_result"
    }
   ],
   "source": [
    "q=sp.var('q')\n",
    "t1_proc.subs(kappa,q-1).expand().collect(q).subs(q, kappa+1)"
   ]
  },
  {
   "cell_type": "code",
   "execution_count": 3,
   "metadata": {},
   "outputs": [
    {
     "data": {
      "text/latex": [
       "$\\displaystyle 0$"
      ],
      "text/plain": [
       "0"
      ]
     },
     "execution_count": 3,
     "metadata": {},
     "output_type": "execute_result"
    }
   ],
   "source": [
    "((d_con_fnc(con(u)) - con(d_fnc(u))).simplify()\n",
    "    .subs(sp.diff(ux(zx, zy), zx), uxx)\n",
    "    .subs(sp.diff(ux(zx, zy), zy), uxy)\n",
    "    .subs(sp.diff(uy(zx, zy), zx), uyx)\n",
    "    .subs(sp.diff(uy(zx, zy), zy), uyy)\n",
    ")"
   ]
  },
  {
   "cell_type": "code",
   "execution_count": 4,
   "metadata": {},
   "outputs": [
    {
     "data": {
      "text/latex": [
       "$\\displaystyle 0$"
      ],
      "text/plain": [
       "0"
      ]
     },
     "execution_count": 4,
     "metadata": {},
     "output_type": "execute_result"
    }
   ],
   "source": [
    "((con(d_fnc(con(u))) - d_con_fnc(u)).simplify()\n",
    "    .subs(sp.diff(ux(zx, zy), zx), uxx)\n",
    "    .subs(sp.diff(ux(zx, zy), zy), uxy)\n",
    "    .subs(sp.diff(uy(zx, zy), zx), uyx)\n",
    "    .subs(sp.diff(uy(zx, zy), zy), uyy)\n",
    ")"
   ]
  },
  {
   "cell_type": "code",
   "execution_count": 186,
   "metadata": {},
   "outputs": [],
   "source": [
    "C = sp.var('C', real=True)\n",
    "G = sp.Function('G')\n",
    "Gp = sp.Function('G_1')\n",
    "Gpp = sp.Function('G_2')\n",
    "tw, w, z, z0 = sp.var('t_w, w, z, z_0')"
   ]
  },
  {
   "cell_type": "code",
   "execution_count": 220,
   "metadata": {},
   "outputs": [
    {
     "data": {
      "text/latex": [
       "$\\displaystyle C \\left(\\kappa t_{w} \\left(G{\\left(z,w \\right)} + \\overline{G{\\left(z,w \\right)}}\\right) - \\left(- w + z\\right) \\overline{t_{w}} \\overline{\\operatorname{G_{1}}{\\left(z,w \\right)}}\\right)$"
      ],
      "text/plain": [
       "C*(\\kappa*t_w*(G(z, w) + conjugate(G(z, w))) - (-w + z)*conjugate(t_w)*conjugate(G_1(z, w)))"
      ]
     },
     "execution_count": 220,
     "metadata": {},
     "output_type": "execute_result"
    }
   ],
   "source": [
    "U = C * (kappa * (G(z,w) + con(G(z,w))) * tw - (z - w) * con(Gp(z,w) * tw))\n",
    "U"
   ]
  },
  {
   "cell_type": "code",
   "execution_count": 229,
   "metadata": {},
   "outputs": [
    {
     "ename": "ValueError",
     "evalue": "\nCan't calculate derivative wrt conjugate(z).",
     "output_type": "error",
     "traceback": [
      "\u001b[0;31m---------------------------------------------------------------------------\u001b[0m",
      "\u001b[0;31mValueError\u001b[0m                                Traceback (most recent call last)",
      "\u001b[0;32m/var/folders/mt/cmys2v_143q1kpcrdt5wcdyr0000gn/T/ipykernel_50728/3287186946.py\u001b[0m in \u001b[0;36m<module>\u001b[0;34m\u001b[0m\n\u001b[1;32m      1\u001b[0m \u001b[0mt1a\u001b[0m \u001b[0;34m=\u001b[0m \u001b[0;36m2\u001b[0m \u001b[0;34m*\u001b[0m \u001b[0mmu\u001b[0m \u001b[0;34m*\u001b[0m \u001b[0msp\u001b[0m\u001b[0;34m.\u001b[0m\u001b[0mdiff\u001b[0m\u001b[0;34m(\u001b[0m\u001b[0mU\u001b[0m\u001b[0;34m,\u001b[0m \u001b[0mz\u001b[0m\u001b[0;34m)\u001b[0m \u001b[0;34m/\u001b[0m \u001b[0;34m(\u001b[0m\u001b[0mkappa\u001b[0m \u001b[0;34m-\u001b[0m \u001b[0;36m1\u001b[0m\u001b[0;34m)\u001b[0m\u001b[0;34m\u001b[0m\u001b[0;34m\u001b[0m\u001b[0m\n\u001b[0;32m----> 2\u001b[0;31m \u001b[0mt1b\u001b[0m \u001b[0;34m=\u001b[0m \u001b[0;36m2\u001b[0m \u001b[0;34m*\u001b[0m \u001b[0mmu\u001b[0m \u001b[0;34m*\u001b[0m \u001b[0msp\u001b[0m\u001b[0;34m.\u001b[0m\u001b[0mdiff\u001b[0m\u001b[0;34m(\u001b[0m\u001b[0mcon\u001b[0m\u001b[0;34m(\u001b[0m\u001b[0mU\u001b[0m\u001b[0;34m)\u001b[0m\u001b[0;34m,\u001b[0m \u001b[0mcon\u001b[0m\u001b[0;34m(\u001b[0m\u001b[0mz\u001b[0m\u001b[0;34m)\u001b[0m\u001b[0;34m)\u001b[0m \u001b[0;34m/\u001b[0m \u001b[0;34m(\u001b[0m\u001b[0mkappa\u001b[0m \u001b[0;34m-\u001b[0m \u001b[0;36m1\u001b[0m\u001b[0;34m)\u001b[0m\u001b[0;34m\u001b[0m\u001b[0;34m\u001b[0m\u001b[0m\n\u001b[0m\u001b[1;32m      3\u001b[0m \u001b[0mt2\u001b[0m \u001b[0;34m=\u001b[0m \u001b[0;36m2\u001b[0m \u001b[0;34m*\u001b[0m \u001b[0mmu\u001b[0m \u001b[0;34m*\u001b[0m \u001b[0msp\u001b[0m\u001b[0;34m.\u001b[0m\u001b[0mdiff\u001b[0m\u001b[0;34m(\u001b[0m\u001b[0mcon\u001b[0m\u001b[0;34m(\u001b[0m\u001b[0mU\u001b[0m\u001b[0;34m)\u001b[0m\u001b[0;34m,\u001b[0m \u001b[0mcon\u001b[0m\u001b[0;34m(\u001b[0m\u001b[0mz\u001b[0m\u001b[0;34m)\u001b[0m\u001b[0;34m)\u001b[0m\u001b[0;34m\u001b[0m\u001b[0;34m\u001b[0m\u001b[0m\n\u001b[1;32m      4\u001b[0m \u001b[0mg1\u001b[0m\u001b[0;34m,\u001b[0m \u001b[0mg2\u001b[0m\u001b[0;34m,\u001b[0m \u001b[0mg1c\u001b[0m\u001b[0;34m,\u001b[0m \u001b[0mg2c\u001b[0m \u001b[0;34m=\u001b[0m \u001b[0msp\u001b[0m\u001b[0;34m.\u001b[0m\u001b[0mvar\u001b[0m\u001b[0;34m(\u001b[0m\u001b[0;34m'g_1, g_2, g_{1c}, g_{2c}'\u001b[0m\u001b[0;34m)\u001b[0m\u001b[0;34m\u001b[0m\u001b[0;34m\u001b[0m\u001b[0m\n",
      "\u001b[0;32m~/.miniforge3/envs/tectosaur2/lib/python3.9/site-packages/sympy/core/function.py\u001b[0m in \u001b[0;36mdiff\u001b[0;34m(f, *symbols, **kwargs)\u001b[0m\n\u001b[1;32m   2489\u001b[0m     \"\"\"\n\u001b[1;32m   2490\u001b[0m     \u001b[0;32mif\u001b[0m \u001b[0mhasattr\u001b[0m\u001b[0;34m(\u001b[0m\u001b[0mf\u001b[0m\u001b[0;34m,\u001b[0m \u001b[0;34m'diff'\u001b[0m\u001b[0;34m)\u001b[0m\u001b[0;34m:\u001b[0m\u001b[0;34m\u001b[0m\u001b[0;34m\u001b[0m\u001b[0m\n\u001b[0;32m-> 2491\u001b[0;31m         \u001b[0;32mreturn\u001b[0m \u001b[0mf\u001b[0m\u001b[0;34m.\u001b[0m\u001b[0mdiff\u001b[0m\u001b[0;34m(\u001b[0m\u001b[0;34m*\u001b[0m\u001b[0msymbols\u001b[0m\u001b[0;34m,\u001b[0m \u001b[0;34m**\u001b[0m\u001b[0mkwargs\u001b[0m\u001b[0;34m)\u001b[0m\u001b[0;34m\u001b[0m\u001b[0;34m\u001b[0m\u001b[0m\n\u001b[0m\u001b[1;32m   2492\u001b[0m     \u001b[0mkwargs\u001b[0m\u001b[0;34m.\u001b[0m\u001b[0msetdefault\u001b[0m\u001b[0;34m(\u001b[0m\u001b[0;34m'evaluate'\u001b[0m\u001b[0;34m,\u001b[0m \u001b[0;32mTrue\u001b[0m\u001b[0;34m)\u001b[0m\u001b[0;34m\u001b[0m\u001b[0;34m\u001b[0m\u001b[0m\n\u001b[1;32m   2493\u001b[0m     \u001b[0;32mreturn\u001b[0m \u001b[0m_derivative_dispatch\u001b[0m\u001b[0;34m(\u001b[0m\u001b[0mf\u001b[0m\u001b[0;34m,\u001b[0m \u001b[0;34m*\u001b[0m\u001b[0msymbols\u001b[0m\u001b[0;34m,\u001b[0m \u001b[0;34m**\u001b[0m\u001b[0mkwargs\u001b[0m\u001b[0;34m)\u001b[0m\u001b[0;34m\u001b[0m\u001b[0;34m\u001b[0m\u001b[0m\n",
      "\u001b[0;32m~/.miniforge3/envs/tectosaur2/lib/python3.9/site-packages/sympy/core/expr.py\u001b[0m in \u001b[0;36mdiff\u001b[0;34m(self, *symbols, **assumptions)\u001b[0m\n\u001b[1;32m   3524\u001b[0m     \u001b[0;32mdef\u001b[0m \u001b[0mdiff\u001b[0m\u001b[0;34m(\u001b[0m\u001b[0mself\u001b[0m\u001b[0;34m,\u001b[0m \u001b[0;34m*\u001b[0m\u001b[0msymbols\u001b[0m\u001b[0;34m,\u001b[0m \u001b[0;34m**\u001b[0m\u001b[0massumptions\u001b[0m\u001b[0;34m)\u001b[0m\u001b[0;34m:\u001b[0m\u001b[0;34m\u001b[0m\u001b[0;34m\u001b[0m\u001b[0m\n\u001b[1;32m   3525\u001b[0m         \u001b[0massumptions\u001b[0m\u001b[0;34m.\u001b[0m\u001b[0msetdefault\u001b[0m\u001b[0;34m(\u001b[0m\u001b[0;34m\"evaluate\"\u001b[0m\u001b[0;34m,\u001b[0m \u001b[0;32mTrue\u001b[0m\u001b[0;34m)\u001b[0m\u001b[0;34m\u001b[0m\u001b[0;34m\u001b[0m\u001b[0m\n\u001b[0;32m-> 3526\u001b[0;31m         \u001b[0;32mreturn\u001b[0m \u001b[0m_derivative_dispatch\u001b[0m\u001b[0;34m(\u001b[0m\u001b[0mself\u001b[0m\u001b[0;34m,\u001b[0m \u001b[0;34m*\u001b[0m\u001b[0msymbols\u001b[0m\u001b[0;34m,\u001b[0m \u001b[0;34m**\u001b[0m\u001b[0massumptions\u001b[0m\u001b[0;34m)\u001b[0m\u001b[0;34m\u001b[0m\u001b[0;34m\u001b[0m\u001b[0m\n\u001b[0m\u001b[1;32m   3527\u001b[0m \u001b[0;34m\u001b[0m\u001b[0m\n\u001b[1;32m   3528\u001b[0m     \u001b[0;31m###########################################################################\u001b[0m\u001b[0;34m\u001b[0m\u001b[0;34m\u001b[0m\u001b[0m\n",
      "\u001b[0;32m~/.miniforge3/envs/tectosaur2/lib/python3.9/site-packages/sympy/core/function.py\u001b[0m in \u001b[0;36m_derivative_dispatch\u001b[0;34m(expr, *variables, **kwargs)\u001b[0m\n\u001b[1;32m   1917\u001b[0m         \u001b[0;32mfrom\u001b[0m \u001b[0msympy\u001b[0m\u001b[0;34m.\u001b[0m\u001b[0mtensor\u001b[0m\u001b[0;34m.\u001b[0m\u001b[0marray\u001b[0m\u001b[0;34m.\u001b[0m\u001b[0marray_derivatives\u001b[0m \u001b[0;32mimport\u001b[0m \u001b[0mArrayDerivative\u001b[0m\u001b[0;34m\u001b[0m\u001b[0;34m\u001b[0m\u001b[0m\n\u001b[1;32m   1918\u001b[0m         \u001b[0;32mreturn\u001b[0m \u001b[0mArrayDerivative\u001b[0m\u001b[0;34m(\u001b[0m\u001b[0mexpr\u001b[0m\u001b[0;34m,\u001b[0m \u001b[0;34m*\u001b[0m\u001b[0mvariables\u001b[0m\u001b[0;34m,\u001b[0m \u001b[0;34m**\u001b[0m\u001b[0mkwargs\u001b[0m\u001b[0;34m)\u001b[0m\u001b[0;34m\u001b[0m\u001b[0;34m\u001b[0m\u001b[0m\n\u001b[0;32m-> 1919\u001b[0;31m     \u001b[0;32mreturn\u001b[0m \u001b[0mDerivative\u001b[0m\u001b[0;34m(\u001b[0m\u001b[0mexpr\u001b[0m\u001b[0;34m,\u001b[0m \u001b[0;34m*\u001b[0m\u001b[0mvariables\u001b[0m\u001b[0;34m,\u001b[0m \u001b[0;34m**\u001b[0m\u001b[0mkwargs\u001b[0m\u001b[0;34m)\u001b[0m\u001b[0;34m\u001b[0m\u001b[0;34m\u001b[0m\u001b[0m\n\u001b[0m\u001b[1;32m   1920\u001b[0m \u001b[0;34m\u001b[0m\u001b[0m\n\u001b[1;32m   1921\u001b[0m \u001b[0;34m\u001b[0m\u001b[0m\n",
      "\u001b[0;32m~/.miniforge3/envs/tectosaur2/lib/python3.9/site-packages/sympy/core/function.py\u001b[0m in \u001b[0;36m__new__\u001b[0;34m(cls, expr, *variables, **kwargs)\u001b[0m\n\u001b[1;32m   1344\u001b[0m             \u001b[0;32mif\u001b[0m \u001b[0;32mnot\u001b[0m \u001b[0mv\u001b[0m\u001b[0;34m.\u001b[0m\u001b[0m_diff_wrt\u001b[0m\u001b[0;34m:\u001b[0m\u001b[0;34m\u001b[0m\u001b[0;34m\u001b[0m\u001b[0m\n\u001b[1;32m   1345\u001b[0m                 \u001b[0m__\u001b[0m \u001b[0;34m=\u001b[0m \u001b[0;34m''\u001b[0m  \u001b[0;31m# filler to make error message neater\u001b[0m\u001b[0;34m\u001b[0m\u001b[0;34m\u001b[0m\u001b[0m\n\u001b[0;32m-> 1346\u001b[0;31m                 raise ValueError(filldedent('''\n\u001b[0m\u001b[1;32m   1347\u001b[0m                     Can't calculate derivative wrt %s.%s''' % (v,\n\u001b[1;32m   1348\u001b[0m                     __)))\n",
      "\u001b[0;31mValueError\u001b[0m: \nCan't calculate derivative wrt conjugate(z)."
     ]
    }
   ],
   "source": [
    "t1a = 2 * mu * sp.diff(U, z) / (kappa - 1)\n",
    "t1b = 2 * mu * sp.diff(con(U), con(z)) / (kappa - 1)\n",
    "t2 = 2 * mu * sp.diff(con(U), con(z))\n",
    "g1, g2, g1c, g2c = sp.var('g_1, g_2, g_{1c}, g_{2c}')"
   ]
  },
  {
   "cell_type": "code",
   "execution_count": 222,
   "metadata": {},
   "outputs": [
    {
     "data": {
      "text/latex": [
       "$\\displaystyle 2 C \\mu \\left(\\kappa t_{w} \\left(\\overline{\\frac{\\partial}{\\partial z} G{\\left(z,w \\right)}} + \\overline{\\frac{\\partial}{\\partial z} \\overline{G{\\left(z,w \\right)}}}\\right) - \\left(- w + z\\right) \\overline{t_{w}} \\overline{\\frac{\\partial}{\\partial z} \\operatorname{G_{1}}{\\left(z,w \\right)}} - \\overline{t_{w}} \\overline{\\operatorname{G_{1}}{\\left(z,w \\right)}} \\overline{\\frac{d}{d z} \\overline{z}}\\right)$"
      ],
      "text/plain": [
       "2*C*\\mu*(\\kappa*t_w*(conjugate(Derivative(G(z, w), z)) + conjugate(Derivative(conjugate(G(z, w)), z))) - (-w + z)*conjugate(t_w)*conjugate(Derivative(G_1(z, w), z)) - conjugate(t_w)*conjugate(G_1(z, w))*conjugate(Derivative(conjugate(z), z)))"
      ]
     },
     "execution_count": 222,
     "metadata": {},
     "output_type": "execute_result"
    }
   ],
   "source": [
    "t2"
   ]
  },
  {
   "cell_type": "code",
   "execution_count": 223,
   "metadata": {},
   "outputs": [],
   "source": [
    "def proc(expr):\n",
    "    return (expr\n",
    "        .subs(sp.diff(G(z,w), z), g1)\n",
    "        .subs(sp.diff(con(G(z,w)), z), con(g1))\n",
    "        .subs(sp.diff(Gp(z,w), z), g2)\n",
    "        .subs(sp.diff(con(Gp(z,w)), z), con(g2))\n",
    "        .subs(sp.diff(con(z), z), 1)\n",
    "        .subs(Gp(z,w), g1)\n",
    "    ).simplify()"
   ]
  },
  {
   "cell_type": "code",
   "execution_count": 224,
   "metadata": {},
   "outputs": [
    {
     "data": {
      "text/latex": [
       "$\\displaystyle \\frac{2 C \\mu \\left(\\kappa t_{w} \\left(g_{1} + \\overline{g_{1}}\\right) + \\left(w - z\\right) \\overline{g_{2}} \\overline{t_{w}} - \\overline{g_{1}} \\overline{t_{w}}\\right)}{\\kappa - 1}$"
      ],
      "text/plain": [
       "2*C*\\mu*(\\kappa*t_w*(g_1 + conjugate(g_1)) + (w - z)*conjugate(g_2)*conjugate(t_w) - conjugate(g_1)*conjugate(t_w))/(\\kappa - 1)"
      ]
     },
     "execution_count": 224,
     "metadata": {},
     "output_type": "execute_result"
    }
   ],
   "source": [
    "t1a_p = proc(t1a)\n",
    "t1a_p"
   ]
  },
  {
   "cell_type": "code",
   "execution_count": 225,
   "metadata": {},
   "outputs": [
    {
     "data": {
      "text/latex": [
       "$\\displaystyle \\frac{2 C \\mu \\left(\\kappa \\left(g_{1} + \\overline{g_{1}}\\right) \\overline{t_{w}} - g_{1} t_{w} + g_{2} t_{w} \\left(\\overline{w} - \\overline{z}\\right)\\right)}{\\kappa - 1}$"
      ],
      "text/plain": [
       "2*C*\\mu*(\\kappa*(g_1 + conjugate(g_1))*conjugate(t_w) - g_1*t_w + g_2*t_w*(conjugate(w) - conjugate(z)))/(\\kappa - 1)"
      ]
     },
     "execution_count": 225,
     "metadata": {},
     "output_type": "execute_result"
    }
   ],
   "source": [
    "t1b_p = proc(t1b)\n",
    "t1b_p"
   ]
  },
  {
   "cell_type": "code",
   "execution_count": 226,
   "metadata": {},
   "outputs": [
    {
     "data": {
      "text/latex": [
       "$\\displaystyle 2 C \\mu \\left(\\kappa t_{w} \\left(g_{1} + \\overline{g_{1}}\\right) + \\left(w - z\\right) \\overline{g_{2}} \\overline{t_{w}} - \\overline{g_{1}} \\overline{t_{w}}\\right)$"
      ],
      "text/plain": [
       "2*C*\\mu*(\\kappa*t_w*(g_1 + conjugate(g_1)) + (w - z)*conjugate(g_2)*conjugate(t_w) - conjugate(g_1)*conjugate(t_w))"
      ]
     },
     "execution_count": 226,
     "metadata": {},
     "output_type": "execute_result"
    }
   ],
   "source": [
    "t2_p = proc(t2)\n",
    "t2_p"
   ]
  },
  {
   "cell_type": "code",
   "execution_count": 65,
   "metadata": {},
   "outputs": [
    {
     "data": {
      "text/latex": [
       "$\\displaystyle \\frac{\\partial}{\\partial z} \\overline{\\log{\\left(w - z \\right)}}$"
      ],
      "text/plain": [
       "Derivative(conjugate(log(w - z)), z)"
      ]
     },
     "execution_count": 65,
     "metadata": {},
     "output_type": "execute_result"
    }
   ],
   "source": [
    "sp.diff(con(sp.log(w-z)), z)"
   ]
  },
  {
   "cell_type": "code",
   "execution_count": 29,
   "metadata": {},
   "outputs": [
    {
     "data": {
      "text/latex": [
       "$\\displaystyle - \\overline{\\log{\\left(w - z_{0} \\right)}} - \\left(z - z_{0}\\right) \\left. \\frac{\\partial}{\\partial \\xi} \\overline{\\log{\\left(w - \\xi - z_{0} \\right)}} \\right|_{\\substack{ \\xi=0 }} - \\frac{\\left(z - z_{0}\\right)^{2} \\left. \\frac{\\partial^{2}}{\\partial \\xi^{2}} \\overline{\\log{\\left(w - \\xi - z_{0} \\right)}} \\right|_{\\substack{ \\xi=0 }}}{2} + O\\left(\\left(z - z_{0}\\right)^{3}; z\\rightarrow z_{0}\\right)$"
      ],
      "text/plain": [
       "-conjugate(log(w - z_0)) - (z - z_0)*Subs(Derivative(conjugate(log(w - xi - z_0)), xi), xi, 0) - (z - z_0)**2*Subs(Derivative(conjugate(log(w - xi - z_0)), (xi, 2)), xi, 0)/2 + O((z - z_0)**3, (z, z_0))"
      ]
     },
     "execution_count": 29,
     "metadata": {},
     "output_type": "execute_result"
    }
   ],
   "source": [
    "-con(sp.log(w - z)).series(z, x0=z0, n=3)"
   ]
  },
  {
   "cell_type": "code",
   "execution_count": 25,
   "metadata": {},
   "outputs": [
    {
     "data": {
      "text/latex": [
       "$\\displaystyle \\frac{\\left(z - z_{0}\\right)^{2}}{2 \\left(w - z_{0}\\right)^{2}} + \\frac{z - z_{0}}{w - z_{0}} - \\log{\\left(w - z_{0} \\right)} + O\\left(\\left(z - z_{0}\\right)^{3}; z\\rightarrow z_{0}\\right)$"
      ],
      "text/plain": [
       "(z - z_0)**2/(2*(w - z_0)**2) + (z - z_0)/(w - z_0) - log(w - z_0) + O((z - z_0)**3, (z, z_0))"
      ]
     },
     "execution_count": 25,
     "metadata": {},
     "output_type": "execute_result"
    }
   ],
   "source": [
    "-sp.log(w - z).series(z, x0=z0, n=3)"
   ]
  },
  {
   "cell_type": "code",
   "execution_count": 26,
   "metadata": {},
   "outputs": [
    {
     "data": {
      "text/latex": [
       "$\\displaystyle \\frac{1}{w - z_{0}} + \\frac{R}{w - z_{0}} + \\frac{R^{2}}{w - z_{0}} + O\\left(\\left(z - z_{0}\\right)^{3}; z\\rightarrow z_{0}\\right)$"
      ],
      "text/plain": [
       "1/(w - z_0) + R/(w - z_0) + R**2/(w - z_0) + O((z - z_0)**3, (z, z_0))"
      ]
     },
     "execution_count": 26,
     "metadata": {},
     "output_type": "execute_result"
    }
   ],
   "source": [
    "R = sp.var('R')\n",
    "ratio = (z-z0)/(w-z0)\n",
    "sp.diff(-sp.log(w - z), z).series(z, x0=z0, n=3).subs(ratio, R)"
   ]
  },
  {
   "cell_type": "code",
   "execution_count": 27,
   "metadata": {},
   "outputs": [
    {
     "data": {
      "text/latex": [
       "$\\displaystyle - \\frac{3 \\left(z - z_{0}\\right)^{2}}{\\left(w - z_{0}\\right)^{4}} - \\frac{2 \\left(z - z_{0}\\right)}{\\left(w - z_{0}\\right)^{3}} - \\frac{1}{\\left(w - z_{0}\\right)^{2}} + O\\left(\\left(z - z_{0}\\right)^{3}; z\\rightarrow z_{0}\\right)$"
      ],
      "text/plain": [
       "-3*(z - z_0)**2/(w - z_0)**4 - 2*(z - z_0)/(w - z_0)**3 - 1/(w - z_0)**2 + O((z - z_0)**3, (z, z_0))"
      ]
     },
     "execution_count": 27,
     "metadata": {},
     "output_type": "execute_result"
    }
   ],
   "source": [
    "sp.diff(sp.diff(sp.log(w - z), z), z).series(z, x0=z0, n=3)"
   ]
  }
 ],
 "metadata": {
  "interpreter": {
   "hash": "a13b900b371deedcaaa6f4741c4487b3dee5037db61b5f52fddc82001a4a09c6"
  },
  "kernelspec": {
   "display_name": "Python 3.9.7 64-bit ('tectosaur2': conda)",
   "language": "python",
   "name": "python3"
  },
  "language_info": {
   "codemirror_mode": {
    "name": "ipython",
    "version": 3
   },
   "file_extension": ".py",
   "mimetype": "text/x-python",
   "name": "python",
   "nbconvert_exporter": "python",
   "pygments_lexer": "ipython3",
   "version": "3.9.7"
  },
  "orig_nbformat": 4
 },
 "nbformat": 4,
 "nbformat_minor": 2
}
