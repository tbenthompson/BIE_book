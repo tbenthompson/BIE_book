{
 "cells": [
  {
   "cell_type": "markdown",
   "metadata": {},
   "source": [
    "The classical free term coefficient for a smooth surface is either 0.5 or -0.5, depending on whether we are evaluating from the interior or the exterior. But with a halfspace surface, the free term can end up being either 0 or 1. The integrations below demonstrate this fact."
   ]
  },
  {
   "cell_type": "code",
   "execution_count": 8,
   "metadata": {},
   "outputs": [
    {
     "name": "stdout",
     "output_type": "stream",
     "text": [
      "-0.9999999999999523\n",
      "-1.687538997430238e-14\n"
     ]
    },
    {
     "name": "stderr",
     "output_type": "stream",
     "text": [
      "/Users/tbent/Dropbox/active/eq/tectosaur2/tectosaur2/integrate.py:174: UserWarning: Some integrals failed to converge during adaptive integration. This an indication of a problem in either the integration or the problem formulation.\n",
      "  warnings.warn(\n"
     ]
    },
    {
     "name": "stdout",
     "output_type": "stream",
     "text": [
      "-0.5000000000000002\n",
      "0.5000000000000002\n"
     ]
    }
   ],
   "source": [
    "import numpy as np\n",
    "import sympy as sp\n",
    "from tectosaur2 import gauss_rule, refine_surfaces, integrate_term\n",
    "from tectosaur2.laplace2d import double_layer\n",
    "from tectosaur2.elastic2d import elastic_t\n",
    "\n",
    "qx, qw = gauss_rule(12)\n",
    "t = sp.var(\"t\")\n",
    "circle = refine_surfaces(\n",
    "    [(t, sp.cos(sp.pi * t), sp.sin(sp.pi * t))], (qx, qw), max_curvature=0.125\n",
    ")\n",
    "A = integrate_term(double_layer, circle.pts, circle)\n",
    "print(A[:, 0, :, 0].sum(axis=1)[0])\n",
    "A2 = integrate_term(double_layer, circle.pts, circle, limit_direction=-1)\n",
    "print(A2[:, 0, :, 0].sum(axis=1)[0])\n",
    "\n",
    "line = refine_surfaces(\n",
    "    [(t, 100 * t, 0.0 * t)],\n",
    "    (qx, qw),\n",
    "    control_points=np.array([[0, 0, 100, 1]]),\n",
    ")\n",
    "A3 = integrate_term(\n",
    "    double_layer, line.pts, line, singularities=np.array([[-100, 0], [100, 0]])\n",
    ")\n",
    "print(A3[:, 0, :, 0].sum(axis=1)[A3.shape[0] // 2])\n",
    "A4 = integrate_term(\n",
    "    double_layer,\n",
    "    line.pts,\n",
    "    line,\n",
    "    limit_direction=-1,\n",
    "    singularities=np.array([[-100, 0], [100, 0]]),\n",
    ")\n",
    "print(A4[:, 0, :, 0].sum(axis=1)[A3.shape[0] // 2])\n"
   ]
  },
  {
   "cell_type": "code",
   "execution_count": 9,
   "metadata": {},
   "outputs": [
    {
     "name": "stdout",
     "output_type": "stream",
     "text": [
      "[[-1.00000000e+00 -4.98212582e-15]\n",
      " [ 3.46944695e-16 -1.00000000e+00]]\n",
      "[[-2.88380431e-14 -5.15559817e-15]\n",
      " [-5.00988140e-15 -9.43689571e-15]]\n"
     ]
    },
    {
     "name": "stderr",
     "output_type": "stream",
     "text": [
      "/Users/tbent/Dropbox/active/eq/tectosaur2/tectosaur2/integrate.py:180: UserWarning: Some expanded integrals reached maximum expansion order. These integrals may be inaccurate.\n",
      "  warnings.warn(\n"
     ]
    },
    {
     "name": "stdout",
     "output_type": "stream",
     "text": [
      "[[-5.00000000e-01  7.64249014e-06]\n",
      " [-7.64249014e-06 -5.00000000e-01]]\n",
      "[[ 5.00000000e-01  7.64249014e-06]\n",
      " [-7.64249014e-06  5.00000000e-01]]\n"
     ]
    }
   ],
   "source": [
    "qx, qw = gauss_rule(12)\n",
    "t = sp.var(\"t\")\n",
    "circle = refine_surfaces(\n",
    "    [(t, sp.cos(sp.pi * t), sp.sin(sp.pi * t))], (qx, qw), max_curvature=0.125\n",
    ")\n",
    "A = integrate_term(elastic_t(0.25), circle.pts, circle)\n",
    "print(A[:, :, :, :].sum(axis=2)[0])\n",
    "A2 = integrate_term(elastic_t(0.25), circle.pts, circle, limit_direction=-1)\n",
    "print(A2[:, :, :, :].sum(axis=2)[0])\n",
    "\n",
    "line = refine_surfaces(\n",
    "    [(t, 100 * t, 0.0 * t)], (qx, qw), control_points=np.array([[0, 0, 100, 1]])\n",
    ")\n",
    "A3 = integrate_term(\n",
    "    elastic_t(0.25),\n",
    "    line.pts,\n",
    "    line,\n",
    "    singularities=np.array([[-100, 0], [100, 0]]),\n",
    ")\n",
    "print(A3[:, :, :, :].sum(axis=2)[A3.shape[0] // 2])\n",
    "A4 = integrate_term(\n",
    "    elastic_t(0.25),\n",
    "    line.pts,\n",
    "    line,\n",
    "    singularities=np.array([[-100, 0], [100, 0]]),\n",
    "    limit_direction=-1,\n",
    ")\n",
    "print(A4[:, :, :, :].sum(axis=2)[A3.shape[0] // 2])\n"
   ]
  },
  {
   "cell_type": "code",
   "execution_count": null,
   "metadata": {},
   "outputs": [],
   "source": []
  }
 ],
 "metadata": {
  "interpreter": {
   "hash": "4c26072881f4ca6f75d3100a18b31bfe5236bef698e712bcccb68bb860e51d07"
  },
  "kernelspec": {
   "display_name": "Python 3.9.7 64-bit ('tectosaur2': conda)",
   "language": "python",
   "name": "python3"
  },
  "language_info": {
   "codemirror_mode": {
    "name": "ipython",
    "version": 3
   },
   "file_extension": ".py",
   "mimetype": "text/x-python",
   "name": "python",
   "nbconvert_exporter": "python",
   "pygments_lexer": "ipython3",
   "version": "3.9.7"
  },
  "orig_nbformat": 4
 },
 "nbformat": 4,
 "nbformat_minor": 2
}
