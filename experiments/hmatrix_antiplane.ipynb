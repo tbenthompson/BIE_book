{
 "cells": [
  {
   "cell_type": "code",
   "execution_count": 1,
   "metadata": {},
   "outputs": [],
   "source": [
    "from tectosaur2.nb_config import setup\n",
    "setup()"
   ]
  },
  {
   "cell_type": "code",
   "execution_count": 2,
   "metadata": {},
   "outputs": [],
   "source": [
    "import sympy as sp\n",
    "import numpy as np\n",
    "import matplotlib.pyplot as plt\n",
    "from tectosaur2 import panelize_symbolic_surface, gauss_rule, integrate_term\n",
    "from tectosaur2.laplace2d import hypersingular\n",
    "\n",
    "t = sp.var('t')\n",
    "surf = panelize_symbolic_surface(t, 0 * t, t, gauss_rule(6), n_panels=80)\n",
    "mat = hypersingular.direct(surf.pts, surf)[:, :, :, 0].reshape((-1, surf.n_pts))"
   ]
  },
  {
   "cell_type": "code",
   "execution_count": 3,
   "metadata": {},
   "outputs": [
    {
     "data": {
      "image/png": "[encoded data removed]",
      "text/plain": [
       "<Figure size 432x288 with 1 Axes>"
      ]
     },
     "metadata": {
      "image/png": {
       "height": 253,
       "width": 394
      }
     },
     "output_type": "display_data"
    }
   ],
   "source": [
    "plt.plot(np.log10(np.linalg.svd(mat)[1]))\n",
    "plt.plot(np.log10(np.linalg.svd(mat[-200:,:200])[1]))\n",
    "plt.show()"
   ]
  },
  {
   "cell_type": "code",
   "execution_count": 4,
   "metadata": {},
   "outputs": [
    {
     "data": {
      "text/plain": [
       "6"
      ]
     },
     "execution_count": 4,
     "metadata": {},
     "output_type": "execute_result"
    }
   ],
   "source": [
    "U, S, V = np.linalg.svd(mat[-200:,:200])\n",
    "np.argmax(S < 1e-10)"
   ]
  },
  {
   "cell_type": "code",
   "execution_count": 5,
   "metadata": {},
   "outputs": [],
   "source": [
    "from dataclasses import dataclass\n",
    "from typing import Optional\n",
    "\n",
    "\n",
    "@dataclass()\n",
    "class TreeNode:\n",
    "    idx_start: int\n",
    "    idx_end: int\n",
    "    center: np.ndarray\n",
    "    radius: float\n",
    "    is_leaf: bool\n",
    "    left: Optional[\"TreeNode\"]\n",
    "    right: Optional[\"TreeNode\"]\n",
    "\n",
    "\n",
    "@dataclass()\n",
    "class Tree:\n",
    "    ordered_idxs: np.ndarray\n",
    "    root: TreeNode"
   ]
  },
  {
   "cell_type": "code",
   "execution_count": 6,
   "metadata": {},
   "outputs": [],
   "source": [
    "def build_tree(pts, radii, min_pts_per_box=10):\n",
    "    # The tree construction process receives three parameters:\n",
    "    #\n",
    "    # pts: the center of each element.\n",
    "    #\n",
    "    # radii: the radius of each element. Remember that we're dealing with spherical\n",
    "    #        approximations to elements here instead of the triangular elements\n",
    "    #        themselves.\n",
    "    #\n",
    "    # min_pts_per_box: this determines when we'll stop splitting. If a box has more\n",
    "    #                  than min_pts_per_box elements, we keep splitting.\n",
    "\n",
    "    # We'll start with the element indices in the order that they were given to this function.\n",
    "    # build_tree_node will re-order these indices at each step to enforce the rule that\n",
    "    # left child indices must be less than right child indices.\n",
    "    ordered_idxs = np.arange(pts.shape[0])\n",
    "    # The rest of the tree construction process will be handled by the recursive function:\n",
    "    # build_tree_node. The last two parameters are idx_start and idx_end. For the root of the\n",
    "    # tree, we pass the full set of elements: (0, pts.shape[0])\n",
    "    root = build_tree_node(pts, radii, min_pts_per_box, ordered_idxs, 0, pts.shape[0])\n",
    "    return Tree(ordered_idxs, root)"
   ]
  },
  {
   "cell_type": "code",
   "execution_count": 7,
   "metadata": {},
   "outputs": [],
   "source": [
    "def build_tree_node(\n",
    "    all_pts, all_radii, min_pts_per_box, ordered_idxs, idx_start, idx_end\n",
    "):\n",
    "    # 1) Collect the relevant element data.\n",
    "    # A view into the ordered_idxs array for the elements we're working on here.\n",
    "    idx_view = ordered_idxs[idx_start:idx_end]\n",
    "    # And the center and radius of each element.\n",
    "    pts = all_pts[idx_view]\n",
    "    radii = all_radii[idx_view]\n",
    "\n",
    "    # 2) Define the bounding box.\n",
    "    box_center = np.mean(pts, axis=0)\n",
    "    sep = pts - box_center[None, :]\n",
    "    box_axis_length = np.max(sep, axis=0)\n",
    "    box_radius = np.max(np.linalg.norm(sep, axis=1) + radii)\n",
    "\n",
    "    # 3) Build the node\n",
    "    # To start with, the left and right child are absent and is_leaf=True.\n",
    "    # If the node is not a leaf, we'll overwrite these below.\n",
    "    node = TreeNode(\n",
    "        idx_start, idx_end, box_center, box_radius, is_leaf=True, left=None, right=None\n",
    "    )\n",
    "\n",
    "    # 4) Return if the node is a leaf node.\n",
    "    # If there are fewer than min_pts_per_box elements in this node, then we do not split.\n",
    "    if idx_end - idx_start <= min_pts_per_box:\n",
    "        return node\n",
    "\n",
    "    # 5) If the node is not a leaf, split!\n",
    "    # First, find which axis of the box is longest\n",
    "    split_d = np.argmax(box_axis_length)\n",
    "\n",
    "    # Then identify which elements are on the left hand side of the box along that axis.\n",
    "    split_val = np.median(pts[:, split_d])\n",
    "    is_left = pts[:, split_d] < split_val\n",
    "\n",
    "    # 6) Re-arrange indices.\n",
    "    # Since we're going to re-arrange indices, we need to save the relevant indices first.\n",
    "    left_idxs = idx_view[np.where(is_left)[0]].copy()\n",
    "    right_idxs = idx_view[np.where(~is_left)[0]].copy()\n",
    "    n_left = left_idxs.shape[0]\n",
    "    # Then assign the left side indices to the beginning of our index block\n",
    "    idx_view[:n_left] = left_idxs\n",
    "    # And assign the right side indices to the end of our index block.\n",
    "    idx_view[n_left:] = right_idxs\n",
    "\n",
    "    # 7) Create children!\n",
    "    idx_split = idx_start + n_left\n",
    "    node.is_leaf = False\n",
    "\n",
    "    # We recursively call build_tree_node here. The key difference between the left and right\n",
    "    # sides is that the left receives the index block [idx_start, idx_split) and the right\n",
    "    # receives the index block [idx_split, idx_end). Thus, we've created a smaller, equivalent\n",
    "    # problem.\n",
    "    node.left = build_tree_node(\n",
    "        all_pts, all_radii, min_pts_per_box, ordered_idxs, idx_start, idx_split\n",
    "    )\n",
    "    node.right = build_tree_node(\n",
    "        all_pts, all_radii, min_pts_per_box, ordered_idxs, idx_split, idx_end\n",
    "    )\n",
    "\n",
    "    return node"
   ]
  },
  {
   "cell_type": "code",
   "execution_count": 8,
   "metadata": {},
   "outputs": [
    {
     "name": "stdout",
     "output_type": "stream",
     "text": [
      "center = [ 0.00000000e+00 -2.31296463e-18]\n",
      "radius = 0.9991558689275394\n"
     ]
    }
   ],
   "source": [
    "tree = build_tree(surf.pts, np.zeros(surf.n_pts), min_pts_per_box=30)\n",
    "print(\"center =\", tree.root.center)\n",
    "print(\"radius =\", tree.root.radius)"
   ]
  },
  {
   "cell_type": "code",
   "execution_count": 9,
   "metadata": {},
   "outputs": [
    {
     "data": {
      "text/plain": [
       "True"
      ]
     },
     "execution_count": 9,
     "metadata": {},
     "output_type": "execute_result"
    }
   ],
   "source": [
    "def check_tree(pts, radii, tree, node):\n",
    "    if node is None:\n",
    "        return True\n",
    "    idxs = tree.ordered_idxs[node.idx_start : node.idx_end]\n",
    "    dist = np.linalg.norm(pts[idxs] - node.center, axis=1) + radii[idxs]\n",
    "    if np.any(dist > node.radius):\n",
    "        return False\n",
    "    else:\n",
    "        return check_tree(pts, radii, tree, node.left) and check_tree(\n",
    "            pts, radii, tree, node.right\n",
    "        )\n",
    "\n",
    "\n",
    "check_tree(surf.pts, np.zeros(surf.n_pts), tree, tree.root)"
   ]
  },
  {
   "cell_type": "code",
   "execution_count": 10,
   "metadata": {},
   "outputs": [
    {
     "data": {
      "image/png": "[encoded data removed]",
      "text/plain": [
       "<Figure size 648x648 with 9 Axes>"
      ]
     },
     "metadata": {
      "image/png": {
       "height": 640,
       "width": 640
      },
      "needs_background": "light"
     },
     "output_type": "display_data"
    }
   ],
   "source": [
    "%matplotlib inline\n",
    "def plot_tree(node, depth, **kwargs):\n",
    "    if depth == 0:\n",
    "        circle = plt.Circle(tuple(node.center[:2]), node.radius, fill=False, **kwargs)\n",
    "        plt.gca().add_patch(circle)\n",
    "    if node.left is None or depth == 0:\n",
    "        return\n",
    "    else:\n",
    "        plot_tree(node.left, depth - 1, **kwargs)\n",
    "        plot_tree(node.right, depth - 1, **kwargs)\n",
    "\n",
    "\n",
    "plt.figure(figsize=(9, 9))\n",
    "for depth in range(9):\n",
    "    plt.subplot(3, 3, 1 + depth)\n",
    "    plt.title(f\"level = {depth}\")\n",
    "    plot_tree(tree.root, depth, color=\"b\", linewidth=0.5)\n",
    "    plt.xlim(\n",
    "        [tree.root.center[0] - tree.root.radius, tree.root.center[0] + tree.root.radius]\n",
    "    )\n",
    "    plt.ylim(\n",
    "        [tree.root.center[1] - tree.root.radius, tree.root.center[1] + tree.root.radius]\n",
    "    )\n",
    "plt.tight_layout()\n",
    "plt.show()"
   ]
  },
  {
   "cell_type": "code",
   "execution_count": 11,
   "metadata": {},
   "outputs": [],
   "source": [
    "def _traverse(obs_node, src_node, safety_factor, direct_list, approx_list):\n",
    "    dist = np.linalg.norm(obs_node.center - src_node.center)\n",
    "    if dist > safety_factor * (obs_node.radius + src_node.radius):\n",
    "        # We're far away, use an approximate interaction\n",
    "        approx_list.append((obs_node, src_node))\n",
    "    elif obs_node.is_leaf and src_node.is_leaf:\n",
    "        # If we get here, then we can't split the nodes anymore but they are\n",
    "        # still close. That means we need to use a exact interaction.\n",
    "        direct_list.append((obs_node, src_node))\n",
    "    else:\n",
    "        # We're close by, so we should recurse and use the child tree nodes.\n",
    "        # But which node should we recurse with?\n",
    "        split_src = (\n",
    "            (obs_node.radius < src_node.radius) and not src_node.is_leaf\n",
    "        ) or obs_node.is_leaf\n",
    "\n",
    "        if split_src:\n",
    "            _traverse(obs_node, src_node.left, safety_factor, direct_list, approx_list)\n",
    "            _traverse(obs_node, src_node.right, safety_factor, direct_list, approx_list)\n",
    "        else:\n",
    "            _traverse(obs_node.left, src_node, safety_factor, direct_list, approx_list)\n",
    "            _traverse(obs_node.right, src_node, safety_factor, direct_list, approx_list)\n",
    "\n",
    "\n",
    "def traverse(obs_node, src_node, safety_factor=1.5):\n",
    "    direct_list = []\n",
    "    approx_list = []\n",
    "    _traverse(obs_node, src_node, safety_factor, direct_list, approx_list)\n",
    "    return direct_list, approx_list"
   ]
  },
  {
   "cell_type": "code",
   "execution_count": 12,
   "metadata": {},
   "outputs": [],
   "source": [
    "direct, approx = traverse(tree.root, tree.root)"
   ]
  },
  {
   "cell_type": "code",
   "execution_count": 13,
   "metadata": {},
   "outputs": [],
   "source": [
    "@dataclass()\n",
    "class TempSurface:\n",
    "    # ideally, these arrays are all views into other arrays without copying.\n",
    "    pts: np.ndarray\n",
    "    normals: np.ndarray\n",
    "    quad_wts: np.ndarray\n",
    "    jacobians: np.ndarray\n",
    "\n",
    "\n",
    "tree_surf = TempSurface(\n",
    "    surf.pts[tree.ordered_idxs],\n",
    "    surf.normals[tree.ordered_idxs],\n",
    "    surf.quad_wts[tree.ordered_idxs],\n",
    "    surf.jacobians[tree.ordered_idxs],\n",
    ")\n",
    "\n",
    "\n",
    "def build_temp_surface(surf, s, e):\n",
    "    return TempSurface(\n",
    "        surf.pts[s:e],\n",
    "        surf.normals[s:e],\n",
    "        surf.quad_wts[s:e],\n",
    "        surf.jacobians[s:e],\n",
    "    )\n",
    "\n",
    "\n",
    "def direct_block(obs_node, src_node):\n",
    "    temp_src = build_temp_surface(tree_surf, src_node.idx_start, src_node.idx_end)\n",
    "    obs_pts = surf.pts[obs_node.idx_start : obs_node.idx_end]\n",
    "    M = hypersingular.direct(obs_pts, temp_src)\n",
    "    return M.reshape((obs_pts.shape[0] * 2, src_node.idx_end - src_node.idx_start))"
   ]
  },
  {
   "cell_type": "code",
   "execution_count": 14,
   "metadata": {},
   "outputs": [
    {
     "name": "stdout",
     "output_type": "stream",
     "text": [
      "CPU times: user 1.81 ms, sys: 848 µs, total: 2.65 ms\n",
      "Wall time: 2.05 ms\n"
     ]
    }
   ],
   "source": [
    "%%time\n",
    "direct_blocks = [direct_block(d[0], d[1]) for d in direct]"
   ]
  },
  {
   "cell_type": "code",
   "execution_count": 15,
   "metadata": {},
   "outputs": [],
   "source": [
    "from aca import ACA_plus, SVD_recompress\n",
    "def approx_block_svd(obs_node, src_node):\n",
    "    block = direct_block(obs_node, src_node)\n",
    "    U, S, V = np.linalg.svd(block)\n",
    "    # Reverse the list of singular values and sum them to compute the\n",
    "    # error from each level of truncation.\n",
    "    frob_K = np.sqrt(np.cumsum(S[::-1] ** 2))[::-1]\n",
    "\n",
    "    appx_rank = np.argmax(frob_K < tol)\n",
    "\n",
    "    Uappx = U[:, :appx_rank]\n",
    "    Vappx = S[:appx_rank, None] * V[:appx_rank]\n",
    "    return (Uappx, Vappx)\n",
    "\n",
    "def approx_block(obs_node, src_node, tol):\n",
    "    s = src_node.idx_start\n",
    "    e = src_node.idx_end\n",
    "    node_surf = TempSurface(\n",
    "        tree_surf.pts[s:e], tree_surf.normals[s:e], tree_surf.quad_wts[s:e], tree_surf.jacobians[s:e]\n",
    "    )\n",
    "    node_obs_pts = surf.pts[tree.ordered_idxs][obs_node.idx_start:obs_node.idx_end]\n",
    "\n",
    "    def calc_rows(Istart, Iend):\n",
    "        obs_idx_start = Istart // 2\n",
    "        obs_idx_end = (Iend - 1) // 2 + 1\n",
    "        rows = hypersingular.direct(node_obs_pts[obs_idx_start:obs_idx_end], node_surf)\n",
    "        # Reshape the returned array and filter out the extra rows.\n",
    "        n_rows_computed = 2 * (obs_idx_end - obs_idx_start)\n",
    "        rows2d = rows.reshape((n_rows_computed, -1))\n",
    "        local_start = Istart % 2\n",
    "        local_end = local_start + Iend - Istart\n",
    "        filter_out_extra = rows2d[local_start:local_end, :]\n",
    "        return filter_out_extra\n",
    "\n",
    "    def calc_cols(s, e):\n",
    "        temp_src = build_temp_surface(node_surf, s, e)\n",
    "        return hypersingular.direct(node_obs_pts, temp_src)[:,:,:,0].reshape((-1, e - s))\n",
    "\n",
    "\n",
    "    U_ACA, V_ACA = ACA_plus((obs_node.idx_end - obs_node.idx_start) * 2, e - s, calc_rows, calc_cols, tol, row_dim=2, col_dim=1)#, verbose=True)\n",
    "    # return U_ACA, V_ACA\n",
    "    U_SVD, V_SVD = SVD_recompress(U_ACA, V_ACA, 1e-10)\n",
    "    return U_SVD, V_SVD"
   ]
  },
  {
   "cell_type": "code",
   "execution_count": 16,
   "metadata": {},
   "outputs": [
    {
     "name": "stdout",
     "output_type": "stream",
     "text": [
      "CPU times: user 33.9 ms, sys: 1.01 ms, total: 34.9 ms\n",
      "Wall time: 34.4 ms\n"
     ]
    }
   ],
   "source": [
    "%%time\n",
    "approx_blocks = [approx_block(d[0], d[1], 1e-10) for d in approx]"
   ]
  },
  {
   "cell_type": "code",
   "execution_count": 17,
   "metadata": {},
   "outputs": [
    {
     "data": {
      "text/plain": [
       "(60, 60)"
      ]
     },
     "execution_count": 17,
     "metadata": {},
     "output_type": "execute_result"
    }
   ],
   "source": [
    "direct_block(*approx[0]).shape"
   ]
  },
  {
   "cell_type": "code",
   "execution_count": 18,
   "metadata": {},
   "outputs": [],
   "source": [
    "v = np.random.rand(mat.shape[1])\n"
   ]
  },
  {
   "cell_type": "code",
   "execution_count": 19,
   "metadata": {},
   "outputs": [
    {
     "name": "stdout",
     "output_type": "stream",
     "text": [
      "CPU times: user 519 µs, sys: 432 µs, total: 951 µs\n",
      "Wall time: 176 µs\n"
     ]
    }
   ],
   "source": [
    "%%time\n",
    "ytrue = mat.dot(v).reshape((-1, 2))\n"
   ]
  },
  {
   "cell_type": "code",
   "execution_count": 20,
   "metadata": {},
   "outputs": [
    {
     "name": "stdout",
     "output_type": "stream",
     "text": [
      "CPU times: user 727 µs, sys: 495 µs, total: 1.22 ms\n",
      "Wall time: 384 µs\n"
     ]
    },
    {
     "data": {
      "text/plain": [
       "array([[-2.89901436e-12, -1.72867409e-18],\n",
       "       [-1.15107923e-12, -7.84764898e-23],\n",
       "       [ 9.66338121e-13, -3.29502066e-25],\n",
       "       [ 2.60769184e-12,  8.86326843e-30],\n",
       "       [ 3.52429197e-12,  0.00000000e+00]])"
      ]
     },
     "execution_count": 20,
     "metadata": {},
     "output_type": "execute_result"
    }
   ],
   "source": [
    "%%time\n",
    "ytree = np.zeros(mat.shape[0])\n",
    "treev = v[tree.ordered_idxs]\n",
    "\n",
    "for i, (obs_node, src_node) in enumerate(direct):\n",
    "    ytree[2*obs_node.idx_start:2*obs_node.idx_end] += direct_blocks[i].dot(treev[src_node.idx_start:src_node.idx_end])\n",
    "\n",
    "for i, (obs_node, src_node) in enumerate(approx):\n",
    "    v_subset = treev[src_node.idx_start:src_node.idx_end]\n",
    "    U, V = approx_blocks[i] \n",
    "    ytree[2*obs_node.idx_start:2*obs_node.idx_end] += U.dot(V.dot(v_subset))\n",
    "\n",
    "yh = np.zeros((mat.shape[0] // 2, 2))\n",
    "yh[tree.ordered_idxs] = ytree.reshape((-1, 2))\n",
    "yh[:5] - ytrue[:5]"
   ]
  },
  {
   "cell_type": "code",
   "execution_count": 21,
   "metadata": {},
   "outputs": [
    {
     "data": {
      "text/plain": [
       "0.29108072916666666"
      ]
     },
     "execution_count": 21,
     "metadata": {},
     "output_type": "execute_result"
    }
   ],
   "source": [
    "approx_entries = sum([U.shape[0] * U.shape[1] + V.shape[0] * V.shape[1] for U, V in approx_blocks])\n",
    "direct_entries = sum([M.shape[0] * M.shape[1] for M in direct_blocks])\n",
    "(approx_entries + direct_entries) / mat.size"
   ]
  },
  {
   "cell_type": "code",
   "execution_count": 22,
   "metadata": {},
   "outputs": [
    {
     "name": "stdout",
     "output_type": "stream",
     "text": [
      "3.046949553618563e-11\n",
      "2.780054414645761e-12\n",
      "2.777546833210991e-12\n",
      "3.0902210184522915e-11\n",
      "7.09721879284364e-11\n",
      "3.0469496782558664e-11\n",
      "2.780051723990278e-12\n",
      "1.6200253715323554e-11\n",
      "7.097221184131416e-11\n",
      "2.7985843991852583e-12\n",
      "3.046949843656013e-11\n",
      "1.696996306644212e-11\n",
      "2.780056745191834e-12\n",
      "3.3841064652494837e-11\n",
      "2.782774139130503e-12\n",
      "3.030742205706667e-11\n",
      "3.62085122314316e-11\n",
      "7.09721998775119e-11\n",
      "2.7985887709463014e-12\n",
      "3.3840833980211125e-11\n",
      "1.6266695913924592e-11\n",
      "8.346177374419736e-12\n",
      "3.620847835418873e-11\n",
      "7.097220440050202e-11\n",
      "2.780053000439712e-12\n",
      "3.055289091155933e-11\n",
      "1.7063486052077113e-11\n",
      "8.523647184968686e-12\n",
      "2.7800473047871213e-12\n",
      "3.384133252058764e-11\n",
      "2.7800468616500326e-12\n",
      "3.046950000754669e-11\n",
      "7.09722112249426e-11\n",
      "2.781272605439737e-12\n",
      "3.3840887924286606e-11\n",
      "1.6200272874237956e-11\n",
      "7.097220304594139e-11\n",
      "2.7985854232536354e-12\n",
      "3.0469494837161824e-11\n",
      "1.6872139950272907e-11\n",
      "3.030743141716141e-11\n",
      "2.780054808316695e-12\n",
      "3.384122434617336e-11\n",
      "2.7812685650913714e-12\n"
     ]
    }
   ],
   "source": [
    "for i, (obs_node, src_node) in enumerate(approx):\n",
    "    U, V = approx_blocks[i]\n",
    "    print(np.sqrt(\n",
    "        np.sum((mat[2*obs_node.idx_start:2*obs_node.idx_end,src_node.idx_start:src_node.idx_end] - U.dot(V)) ** 2)\n",
    "    ))"
   ]
  },
  {
   "cell_type": "code",
   "execution_count": 46,
   "metadata": {},
   "outputs": [
    {
     "data": {
      "text/plain": [
       "'/Users/tbent/Dropbox/active/eq/tectosaur2/experiments'"
      ]
     },
     "execution_count": 46,
     "metadata": {},
     "output_type": "execute_result"
    }
   ],
   "source": [
    "os.getcwd()"
   ]
  },
  {
   "cell_type": "code",
   "execution_count": 65,
   "metadata": {},
   "outputs": [],
   "source": [
    "import cutde.backend"
   ]
  },
  {
   "cell_type": "code",
   "execution_count": 68,
   "metadata": {},
   "outputs": [
    {
     "name": "stdout",
     "output_type": "stream",
     "text": [
      "logging <module 'logging' from '/Users/tbent/.mambaforge/envs/tectosaur2/lib/python3.9/logging/__init__.py'>\n",
      "os <module 'os' from '/Users/tbent/.mambaforge/envs/tectosaur2/lib/python3.9/os.py'>\n",
      "np <module 'numpy' from '/Users/tbent/.mambaforge/envs/tectosaur2/lib/python3.9/site-packages/numpy/__init__.py'>\n",
      "empty <function empty at 0x12f8f78b0>\n",
      "get <function get at 0x12f8f7700>\n",
      "load_module <function load_module at 0x12f8f7c10>\n",
      "max_block_size <function max_block_size at 0x12f8f7790>\n",
      "to <function to at 0x12f8f74c0>\n",
      "zeros <function zeros at 0x12f8f7670>\n",
      "which_backend cpp\n",
      "logger <Logger cutde.backend (WARNING)>\n",
      "np_to_c_type <function np_to_c_type at 0x12f8f7a60>\n",
      "intervals <function intervals at 0x12f8f7dc0>\n"
     ]
    }
   ],
   "source": [
    "for k, v in cutde.backend.__dict__.items():\n",
    "    if not k.startswith('__'):\n",
    "        print(k, v)"
   ]
  },
  {
   "cell_type": "code",
   "execution_count": 62,
   "metadata": {},
   "outputs": [
    {
     "name": "stderr",
     "output_type": "stream",
     "text": [
      "In file included from /Users/tbent/.ipython/cython/_cython_magic_914fa22feb7abd9b724989f142cad0cc.c:698:\n",
      "../tectosaur2/hmatrix.cpp:7:1: error: unknown type name 'WITHIN_KERNEL'\n",
      "WITHIN_KERNEL \n",
      "^\n",
      "../tectosaur2/hmatrix.cpp:8:18: error: unknown type name 'GLOBAL_MEM'\n",
      "int buffer_alloc(GLOBAL_MEM int* next_ptr, int n_values) {\n",
      "                 ^\n",
      "../tectosaur2/hmatrix.cpp:10:5: error: expected expression\n",
      "    % if backend == 'cuda':\n",
      "    ^\n",
      "../tectosaur2/hmatrix.cpp:10:7: error: expected expression\n",
      "    % if backend == 'cuda':\n",
      "      ^\n",
      "../tectosaur2/hmatrix.cpp:12:5: error: expected expression\n",
      "    % elif backend == 'opencl':\n",
      "    ^\n",
      "../tectosaur2/hmatrix.cpp:12:7: error: use of undeclared identifier 'elif'\n",
      "    % elif backend == 'opencl':\n",
      "      ^\n",
      "../tectosaur2/hmatrix.cpp:14:5: error: expected expression\n",
      "    % else:\n",
      "    ^\n",
      "../tectosaur2/hmatrix.cpp:14:7: error: expected expression\n",
      "    % else:\n",
      "      ^\n",
      "../tectosaur2/hmatrix.cpp:24:1: error: unknown type name 'WITHIN_KERNEL'\n",
      "WITHIN_KERNEL\n",
      "^\n",
      "../tectosaur2/hmatrix.cpp:25:5: error: expected ';' after top level declarator\n",
      "bool in(int target, GLOBAL_MEM int* arr, int n_arr) {\n",
      "    ^\n",
      "    ;\n",
      "../tectosaur2/hmatrix.cpp:41:1: error: expected identifier or '('\n",
      "% for matrix_dim in [\"rows\", \"cols\"]:\n",
      "^\n",
      "../tectosaur2/hmatrix.cpp:42:82: error: expected ')'\n",
      "WITHIN_KERNEL struct MatrixIndex argmax_abs_not_in_list_${matrix_dim}(GLOBAL_MEM Real* data, int n_data_rows, int n_data_cols, GLOBAL_MEM int* prev, int n_prev) \n",
      "                                                                                 ^\n",
      "../tectosaur2/hmatrix.cpp:42:70: note: to match this '('\n",
      "WITHIN_KERNEL struct MatrixIndex argmax_abs_not_in_list_${matrix_dim}(GLOBAL_MEM Real* data, int n_data_rows, int n_data_cols, GLOBAL_MEM int* prev, int n_prev) \n",
      "                                                                     ^\n",
      "../tectosaur2/hmatrix.cpp:42:71: warning: type specifier missing, defaults to 'int' [-Wimplicit-int]\n",
      "WITHIN_KERNEL struct MatrixIndex argmax_abs_not_in_list_${matrix_dim}(GLOBAL_MEM Real* data, int n_data_rows, int n_data_cols, GLOBAL_MEM int* prev, int n_prev) \n",
      "                                                                      ^\n",
      "../tectosaur2/hmatrix.cpp:42:161: error: expected ';' after top level declarator\n",
      "WITHIN_KERNEL struct MatrixIndex argmax_abs_not_in_list_${matrix_dim}(GLOBAL_MEM Real* data, int n_data_rows, int n_data_cols, GLOBAL_MEM int* prev, int n_prev) \n",
      "                                                                                                                                                                ^\n",
      "                                                                                                                                                                ;\n",
      "1 warning and 13 errors generated.\n"
     ]
    }
   ],
   "source": [
    "from tectosaur2.nb_config import cython\n",
    "\n",
    "cython('-f -I../tectosaur2', file='../tectosaur2/hmatrix_ext.pyx')"
   ]
  },
  {
   "cell_type": "code",
   "execution_count": null,
   "metadata": {},
   "outputs": [],
   "source": []
  },
  {
   "cell_type": "code",
   "execution_count": 39,
   "metadata": {},
   "outputs": [
    {
     "name": "stderr",
     "output_type": "stream",
     "text": [
      "/Users/tbent/.ipython/cython/_cython_magic_49722f780fe91d9c3e4809d03b525cf0.c:695:10: fatal error: '../tectosaur2/hmatrix.cpp' file not found\n",
      "#include \"../tectosaur2/hmatrix.cpp\"\n",
      "         ^~~~~~~~~~~~~~~~~~~~~~~~~~~\n",
      "1 error generated.\n"
     ]
    }
   ],
   "source": [
    "%%cython\n",
    "cdef extern from '../tectosaur2/hmatrix.cpp':\n",
    "    double square(double x)\n",
    "\n",
    "def f(double x):\n",
    "    return 3*square(x)"
   ]
  },
  {
   "cell_type": "code",
   "execution_count": 61,
   "metadata": {},
   "outputs": [
    {
     "data": {
      "text/plain": [
       "37.69911184307752"
      ]
     },
     "execution_count": 61,
     "metadata": {},
     "output_type": "execute_result"
    }
   ],
   "source": [
    "f(2)"
   ]
  },
  {
   "cell_type": "code",
   "execution_count": null,
   "metadata": {},
   "outputs": [],
   "source": []
  }
 ],
 "metadata": {
  "interpreter": {
   "hash": "4c26072881f4ca6f75d3100a18b31bfe5236bef698e712bcccb68bb860e51d07"
  },
  "kernelspec": {
   "display_name": "Python 3.9.7 64-bit ('tectosaur2': conda)",
   "language": "python",
   "name": "python3"
  },
  "language_info": {
   "codemirror_mode": {
    "name": "ipython",
    "version": 3
   },
   "file_extension": ".py",
   "mimetype": "text/x-python",
   "name": "python",
   "nbconvert_exporter": "python",
   "pygments_lexer": "ipython3",
   "version": "3.9.7"
  },
  "orig_nbformat": 4
 },
 "nbformat": 4,
 "nbformat_minor": 2
}
